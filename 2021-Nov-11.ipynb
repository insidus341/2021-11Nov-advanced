{
 "cells": [
  {
   "cell_type": "code",
   "execution_count": null,
   "id": "16b2fa55-1cb9-4aa3-9daf-883bd9ac73c5",
   "metadata": {},
   "outputs": [],
   "source": []
  },
  {
   "cell_type": "markdown",
   "id": "28ec8133-06cb-4af8-94e5-98578599dea3",
   "metadata": {
    "tags": []
   },
   "source": [
    "# Agenda\n",
    "\n",
    "1. Iterator protocol\n",
    "    - Adding iterations to classes\n",
    "    - Generator functions\n",
    "    - Generator comprehensions\n",
    "2. Decorators\n",
    "3. Threading and multiprocessing"
   ]
  },
  {
   "cell_type": "markdown",
   "id": "9c55fbc0-3c4e-47a5-9e2d-1542d7adbc0e",
   "metadata": {},
   "source": [
    "# `__str__` vs. `__repr__`\n",
    "\n",
    "Both of these methods should return strings. The question is, when is each one run?\n",
    "\n",
    "Normally `__str__` is run:\n",
    "- Whenever we run `str` on something\n",
    "- If we use `print` on something (because it uses `str` behind the scenes)\n",
    "- In other words: When we want to turn our object into a string, to display it to end users\n",
    "\n",
    "Normally, `__repr__` is run:\n",
    "- If we're in a debugger\n",
    "- If we're in Jupyter (and not using `print`, but just asking for the value of a variable)\n",
    "- Inside of other data structures (e.g., if we have a list of `Scoop` objects, Python will use `__repr__` and not `__str__` to show us the list)\n",
    "- In other words: It's meant for developers, not for end users\n",
    "\n",
    "But:\n",
    "- If we only define `__str__`, then it does *not* cover cases for `__repr__`\n",
    "- If we only define `__repr__`, then it *DOES* cover all cases, including those of `__str__`\n",
    "- In theory, `__repr__` is supposed to return a string that is a valid Python expression."
   ]
  },
  {
   "cell_type": "code",
   "execution_count": 2,
   "id": "aecf5b71-508a-420f-be4b-7c28925708b7",
   "metadata": {},
   "outputs": [
    {
     "name": "stdout",
     "output_type": "stream",
     "text": [
      "repr for Person {'name': 'Reuven'}\n"
     ]
    }
   ],
   "source": [
    "class Person:\n",
    "    def __init__(self, name):\n",
    "        self.name = name\n",
    "        \n",
    "    def __str__(self):\n",
    "        return f'str for Person {vars(self)}'\n",
    "\n",
    "    def __repr__(self):\n",
    "        return f'repr for Person {vars(self)}'\n",
    "\n",
    "    def __format__(self, code):\n",
    "        return f'format for Person {vars(self)}'\n",
    "    \n",
    "p = Person('Reuven')\n",
    "\n",
    "print(f'{p}')"
   ]
  },
  {
   "cell_type": "code",
   "execution_count": null,
   "id": "bd2b177c-1d0a-4a71-a888-fae9e876b340",
   "metadata": {},
   "outputs": [],
   "source": []
  }
 ],
 "metadata": {
  "kernelspec": {
   "display_name": "Python 3 (ipykernel)",
   "language": "python",
   "name": "python3"
  },
  "language_info": {
   "codemirror_mode": {
    "name": "ipython",
    "version": 3
   },
   "file_extension": ".py",
   "mimetype": "text/x-python",
   "name": "python",
   "nbconvert_exporter": "python",
   "pygments_lexer": "ipython3",
   "version": "3.10.0"
  }
 },
 "nbformat": 4,
 "nbformat_minor": 5
}
