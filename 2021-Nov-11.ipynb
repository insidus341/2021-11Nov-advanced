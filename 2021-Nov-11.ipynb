{
 "cells": [
  {
   "cell_type": "code",
   "execution_count": null,
   "id": "16b2fa55-1cb9-4aa3-9daf-883bd9ac73c5",
   "metadata": {},
   "outputs": [],
   "source": []
  },
  {
   "cell_type": "markdown",
   "id": "28ec8133-06cb-4af8-94e5-98578599dea3",
   "metadata": {
    "tags": []
   },
   "source": [
    "# Agenda\n",
    "\n",
    "1. Iterator protocol\n",
    "    - Adding iterations to classes\n",
    "    - Generator functions\n",
    "    - Generator comprehensions\n",
    "2. Decorators\n",
    "3. Threading and multiprocessing"
   ]
  },
  {
   "cell_type": "markdown",
   "id": "9c55fbc0-3c4e-47a5-9e2d-1542d7adbc0e",
   "metadata": {},
   "source": [
    "# `__str__` vs. `__repr__`\n",
    "\n",
    "Both of these methods should return strings. The question is, when is each one run?\n",
    "\n",
    "Normally `__str__` is run:\n",
    "- Whenever we run `str` on something\n",
    "- If we use `print` on something (because it uses `str` behind the scenes)\n",
    "- In other words: When we want to turn our object into a string, to display it to end users\n",
    "\n",
    "Normally, `__repr__` is run:\n",
    "- If we're in a debugger\n",
    "- If we're in Jupyter (and not using `print`, but just asking for the value of a variable)\n",
    "- Inside of other data structures (e.g., if we have a list of `Scoop` objects, Python will use `__repr__` and not `__str__` to show us the list)\n",
    "- In other words: It's meant for developers, not for end users\n",
    "\n",
    "But:\n",
    "- If we only define `__str__`, then it does *not* cover cases for `__repr__`\n",
    "- If we only define `__repr__`, then it *DOES* cover all cases, including those of `__str__`\n",
    "- In theory, `__repr__` is supposed to return a string that is a valid Python expression."
   ]
  },
  {
   "cell_type": "code",
   "execution_count": 2,
   "id": "aecf5b71-508a-420f-be4b-7c28925708b7",
   "metadata": {},
   "outputs": [
    {
     "name": "stdout",
     "output_type": "stream",
     "text": [
      "repr for Person {'name': 'Reuven'}\n"
     ]
    }
   ],
   "source": [
    "class Person:\n",
    "    def __init__(self, name):\n",
    "        self.name = name\n",
    "        \n",
    "    def __str__(self):\n",
    "        return f'str for Person {vars(self)}'\n",
    "\n",
    "    def __repr__(self):\n",
    "        return f'repr for Person {vars(self)}'\n",
    "\n",
    "    def __format__(self, code):\n",
    "        return f'format for Person {vars(self)}'\n",
    "    \n",
    "p = Person('Reuven')\n",
    "\n",
    "print(f'{p}')"
   ]
  },
  {
   "cell_type": "markdown",
   "id": "cb79b529-448d-44b8-af21-fbae16a725f9",
   "metadata": {},
   "source": [
    "# Iterator protocol\n",
    "\n",
    "\n"
   ]
  },
  {
   "cell_type": "code",
   "execution_count": 5,
   "id": "a687d945-1503-4033-8934-eae238e419e2",
   "metadata": {},
   "outputs": [
    {
     "name": "stdout",
     "output_type": "stream",
     "text": [
      "a\n",
      "b\n",
      "c\n",
      "d\n"
     ]
    }
   ],
   "source": [
    "for one_character in 'abcd':\n",
    "    print(one_character)"
   ]
  },
  {
   "cell_type": "code",
   "execution_count": 6,
   "id": "390d5795-098b-40bc-9c4e-90275235e370",
   "metadata": {},
   "outputs": [
    {
     "name": "stdout",
     "output_type": "stream",
     "text": [
      "0: a\n",
      "1: b\n",
      "2: c\n",
      "3: d\n"
     ]
    }
   ],
   "source": [
    "for index, one_character in enumerate('abcd'):\n",
    "    print(f'{index}: {one_character}')"
   ]
  },
  {
   "cell_type": "markdown",
   "id": "a722d251-1907-4e05-949a-53b46d9fcb66",
   "metadata": {},
   "source": [
    "# What happens in a `for` loop?\n",
    "\n",
    "- \"Iterable\" means: Can be put in a `for` loop\n",
    "- \"Iterator\" means: We can ask it for its next object, if it has one\n",
    "Sometimes, an iterable is an iterator, and sometimes it isn't.\n",
    "\n",
    "- `for` turns to the object and asks if it's iterable. It does this by running the `iter` function on that object. (You will probably never run `iter` in an actual program.)\n",
    "    - if `iter` returns an object, that object is the \"iterator\" on which we're going to work\n",
    "    - Otherwise, we get a `TypeError` exception, indicating that no, the object is not iterable\n",
    "- Assuming that we get an iterator object back, we call the `next` function on it.\n",
    "    - We might get something back. That's the value for the current iteration\n",
    "    - Or we might get `StopIteration`, an exception that says we're at the end of the iterator.\n",
    "- We keep repeating the above section, calling `next` until we get a `StopIteration` exception."
   ]
  },
  {
   "cell_type": "code",
   "execution_count": 7,
   "id": "3383a120-7e9c-4e26-a388-27adff786673",
   "metadata": {},
   "outputs": [],
   "source": [
    "s = 'abcd'\n",
    "\n",
    "i = iter(s)   # we ask: is s iterable? If so, return its iterator and assign to i."
   ]
  },
  {
   "cell_type": "code",
   "execution_count": 8,
   "id": "c5886467-e753-4806-8702-0c8da046a6f6",
   "metadata": {},
   "outputs": [
    {
     "data": {
      "text/plain": [
       "<str_iterator at 0x10f5d1930>"
      ]
     },
     "execution_count": 8,
     "metadata": {},
     "output_type": "execute_result"
    }
   ],
   "source": [
    "i"
   ]
  },
  {
   "cell_type": "code",
   "execution_count": 9,
   "id": "46b9d796-0a70-42f1-8f2e-3920b997916c",
   "metadata": {},
   "outputs": [
    {
     "data": {
      "text/plain": [
       "<str_iterator at 0x10f5d2560>"
      ]
     },
     "execution_count": 9,
     "metadata": {},
     "output_type": "execute_result"
    }
   ],
   "source": [
    "i = iter(s)\n",
    "i"
   ]
  },
  {
   "cell_type": "code",
   "execution_count": 10,
   "id": "a68089e9-3b86-4d6e-a54e-7c8c325c6e62",
   "metadata": {},
   "outputs": [
    {
     "data": {
      "text/plain": [
       "'a'"
      ]
     },
     "execution_count": 10,
     "metadata": {},
     "output_type": "execute_result"
    }
   ],
   "source": [
    "next(i)   # ask i for its next value"
   ]
  },
  {
   "cell_type": "code",
   "execution_count": 11,
   "id": "4f260bef-7bc3-4da3-af53-9a75d4bfaaa8",
   "metadata": {},
   "outputs": [
    {
     "data": {
      "text/plain": [
       "'b'"
      ]
     },
     "execution_count": 11,
     "metadata": {},
     "output_type": "execute_result"
    }
   ],
   "source": [
    " next(i)"
   ]
  },
  {
   "cell_type": "code",
   "execution_count": 12,
   "id": "384fa207-a916-41ae-880b-0a1bf5f92250",
   "metadata": {},
   "outputs": [
    {
     "data": {
      "text/plain": [
       "'c'"
      ]
     },
     "execution_count": 12,
     "metadata": {},
     "output_type": "execute_result"
    }
   ],
   "source": [
    "next(i)"
   ]
  },
  {
   "cell_type": "code",
   "execution_count": 13,
   "id": "6ecf9ce9-849a-41d9-a92d-0535f27ef157",
   "metadata": {},
   "outputs": [
    {
     "data": {
      "text/plain": [
       "'d'"
      ]
     },
     "execution_count": 13,
     "metadata": {},
     "output_type": "execute_result"
    }
   ],
   "source": [
    "next(i)"
   ]
  },
  {
   "cell_type": "code",
   "execution_count": 14,
   "id": "057b6875-fee3-4be7-9622-ba991221fa14",
   "metadata": {},
   "outputs": [
    {
     "ename": "StopIteration",
     "evalue": "",
     "output_type": "error",
     "traceback": [
      "\u001b[0;31m---------------------------------------------------------------------------\u001b[0m",
      "\u001b[0;31mStopIteration\u001b[0m                             Traceback (most recent call last)",
      "\u001b[0;32m/var/folders/rr/0mnyyv811fs5vyp22gf4fxk00000gn/T/ipykernel_20835/1939748483.py\u001b[0m in \u001b[0;36m<module>\u001b[0;34m\u001b[0m\n\u001b[0;32m----> 1\u001b[0;31m \u001b[0mnext\u001b[0m\u001b[0;34m(\u001b[0m\u001b[0mi\u001b[0m\u001b[0;34m)\u001b[0m\u001b[0;34m\u001b[0m\u001b[0;34m\u001b[0m\u001b[0m\n\u001b[0m",
      "\u001b[0;31mStopIteration\u001b[0m: "
     ]
    }
   ],
   "source": [
    "next(i)"
   ]
  },
  {
   "cell_type": "code",
   "execution_count": 22,
   "id": "c240db66-e7cc-4273-a424-24a212d1b403",
   "metadata": {},
   "outputs": [
    {
     "name": "stdout",
     "output_type": "stream",
     "text": [
      "\tNow in MyData.__init__\n",
      "\tNow in MyData.__iter__\n",
      "\tNow in MyData.__next__: {'data': 'abcd', 'index': 0}\n",
      "\tReturning a\n",
      "a\n",
      "\tNow in MyData.__next__: {'data': 'abcd', 'index': 1}\n",
      "\tReturning b\n",
      "b\n",
      "\tNow in MyData.__next__: {'data': 'abcd', 'index': 2}\n",
      "\tReturning c\n",
      "c\n",
      "\tNow in MyData.__next__: {'data': 'abcd', 'index': 3}\n",
      "\tReturning d\n",
      "d\n",
      "\tNow in MyData.__next__: {'data': 'abcd', 'index': 4}\n",
      "\tRaising StopIteration\n"
     ]
    }
   ],
   "source": [
    "# Let's create an iterable class!\n",
    "\n",
    "class MyData:\n",
    "    def __init__(self, data):\n",
    "        print(f'\\tNow in MyData.__init__')\n",
    "        self.data = data\n",
    "        self.index = 0\n",
    "        \n",
    "    def __iter__(self):   # this is called each time we *start* a loop on our object -- it returns the iterator\n",
    "        print('\\tNow in MyData.__iter__')\n",
    "        return self       # meaning: who is my iterator? I'm my own iterator!\n",
    "    \n",
    "    def __next__(self):   # this is called once for each iteration\n",
    "        print(f'\\tNow in MyData.__next__: {vars(self)}')\n",
    "        if self.index >= len(self.data):\n",
    "            print(f'\\tRaising StopIteration')\n",
    "            raise StopIteration   # no message is needed, because the \"for\" loop won't read it\n",
    "            \n",
    "        value = self.data[self.index]   # get the current value\n",
    "        self.index += 1                 # increment the counter\n",
    "        print(f'\\tReturning {value}')\n",
    "        return value                    # return the value for this iteration\n",
    "\n",
    "m = MyData('abcd')  \n",
    "\n",
    "for one_item in m:\n",
    "    print(one_item)"
   ]
  },
  {
   "cell_type": "markdown",
   "id": "3d071aa4-f1db-406b-acb1-69df47b1d935",
   "metadata": {},
   "source": [
    "# Exercise: Circle\n",
    "\n",
    "1. Create a class, `Circle`, that takes two arguments:\n",
    "    - `data`, which should be a sequence (string, list, tuple)\n",
    "    - `n`, the number of iterations we want to get\n",
    "2. Iterating over an instance of `Circle` will give us `n` results before ending.\n",
    "3. If the data is shorter than `n` items, then it should automatically return to the start and go from there, as many times as needed.\n",
    "\n",
    "```python\n",
    "for one_item in Circle('abc', 7):\n",
    "    print(one_item)   # a b c a b c a\n",
    "```"
   ]
  },
  {
   "cell_type": "code",
   "execution_count": 27,
   "id": "0b148ffa-d3d5-4431-8f83-cceedb909294",
   "metadata": {},
   "outputs": [
    {
     "name": "stdout",
     "output_type": "stream",
     "text": [
      "a b c a b c a \tIn __next__, {'data': 'abc', 'n': 7, 'index': 7}\n"
     ]
    }
   ],
   "source": [
    "class Circle:\n",
    "    def __init__(self, data, n):\n",
    "        self.data = data\n",
    "        self.n = n\n",
    "        self.index = 0\n",
    "        \n",
    "    def __iter__(self):\n",
    "        return self\n",
    "    \n",
    "    def __next__(self):\n",
    "        if self.index >= self.n:\n",
    "            print(f'\\tIn __next__, {vars(self)}')\n",
    "            raise StopIteration\n",
    "            \n",
    "        value = self.data[self.index % len(self.data)]  \n",
    "        self.index += 1\n",
    "        return value\n",
    "    \n",
    "c = Circle('abc', 7)\n",
    "\n",
    "for one_item in c:\n",
    "    print(one_item, end=' ')"
   ]
  },
  {
   "cell_type": "code",
   "execution_count": 28,
   "id": "c1ce562b-165a-41f1-9f9a-79826efdce0f",
   "metadata": {},
   "outputs": [
    {
     "name": "stdout",
     "output_type": "stream",
     "text": [
      "*** A ***\n",
      "a b c a b c a \tIn __next__, {'data': 'abc', 'n': 7, 'index': 7}\n",
      "\n",
      "*** B ***\n",
      "\tIn __next__, {'data': 'abc', 'n': 7, 'index': 7}\n",
      "\n"
     ]
    }
   ],
   "source": [
    "c = Circle('abc', 7)\n",
    "\n",
    "print('*** A ***')\n",
    "for one_item in c:\n",
    "    print(one_item, end=' ')\n",
    "print()    \n",
    "    \n",
    "print('*** B ***')\n",
    "for one_item in c:\n",
    "    print(one_item, end=' ')   \n",
    "print()    "
   ]
  },
  {
   "cell_type": "code",
   "execution_count": 29,
   "id": "a727e774-15fa-4a91-8382-5f9be283766f",
   "metadata": {},
   "outputs": [
    {
     "name": "stdout",
     "output_type": "stream",
     "text": [
      "*** A ***\n",
      "a b c a b c a \tIn __next__, {'data': 'abc', 'n': 7, 'index': 7}\n",
      "\n",
      "*** B ***\n",
      "a b c a b c a \tIn __next__, {'data': 'abc', 'n': 7, 'index': 7}\n",
      "\n"
     ]
    }
   ],
   "source": [
    "class Circle:\n",
    "    def __init__(self, data, n):\n",
    "        self.data = data\n",
    "        self.n = n\n",
    "        self.index = 0\n",
    "        \n",
    "    def __iter__(self):\n",
    "        self.index = 0\n",
    "        return self\n",
    "    \n",
    "    def __next__(self):\n",
    "        if self.index >= self.n:\n",
    "            print(f'\\tIn __next__, {vars(self)}')\n",
    "            raise StopIteration\n",
    "            \n",
    "        value = self.data[self.index % len(self.data)]  \n",
    "        self.index += 1\n",
    "        return value\n",
    "    \n",
    "c = Circle('abc', 7)\n",
    "\n",
    "print('*** A ***')\n",
    "for one_item in c:\n",
    "    print(one_item, end=' ')\n",
    "print()    \n",
    "    \n",
    "print('*** B ***')\n",
    "for one_item in c:\n",
    "    print(one_item, end=' ')   \n",
    "print()    "
   ]
  },
  {
   "cell_type": "code",
   "execution_count": 30,
   "id": "6636991c-b43a-4d7f-bb65-5c84db60e300",
   "metadata": {},
   "outputs": [],
   "source": [
    "s = 'abcd'\n",
    "\n",
    "i1 = iter(s)\n",
    "i2 = iter(s)"
   ]
  },
  {
   "cell_type": "code",
   "execution_count": 31,
   "id": "fa144d32-f9b6-4fa0-b274-21776d23aa2c",
   "metadata": {},
   "outputs": [
    {
     "data": {
      "text/plain": [
       "'a'"
      ]
     },
     "execution_count": 31,
     "metadata": {},
     "output_type": "execute_result"
    }
   ],
   "source": [
    "next(i1)"
   ]
  },
  {
   "cell_type": "code",
   "execution_count": 32,
   "id": "9628fec5-3d55-4a80-9945-909134be236c",
   "metadata": {},
   "outputs": [
    {
     "data": {
      "text/plain": [
       "'b'"
      ]
     },
     "execution_count": 32,
     "metadata": {},
     "output_type": "execute_result"
    }
   ],
   "source": [
    "next(i1)"
   ]
  },
  {
   "cell_type": "code",
   "execution_count": 33,
   "id": "708672a1-620a-418e-be9c-49a81d7d36f1",
   "metadata": {},
   "outputs": [
    {
     "data": {
      "text/plain": [
       "'c'"
      ]
     },
     "execution_count": 33,
     "metadata": {},
     "output_type": "execute_result"
    }
   ],
   "source": [
    "next(i1)"
   ]
  },
  {
   "cell_type": "code",
   "execution_count": 34,
   "id": "8aa80ea2-8302-4360-9952-ad1fb4817bc3",
   "metadata": {},
   "outputs": [
    {
     "data": {
      "text/plain": [
       "'a'"
      ]
     },
     "execution_count": 34,
     "metadata": {},
     "output_type": "execute_result"
    }
   ],
   "source": [
    "next(i2)"
   ]
  },
  {
   "cell_type": "code",
   "execution_count": 35,
   "id": "5e9220dc-6d30-467a-8667-6a2f529cef1c",
   "metadata": {},
   "outputs": [
    {
     "data": {
      "text/plain": [
       "'d'"
      ]
     },
     "execution_count": 35,
     "metadata": {},
     "output_type": "execute_result"
    }
   ],
   "source": [
    "next(i1)"
   ]
  },
  {
   "cell_type": "code",
   "execution_count": 36,
   "id": "d9b30ad7-236a-4586-b37a-6548b0c26750",
   "metadata": {},
   "outputs": [
    {
     "data": {
      "text/plain": [
       "'b'"
      ]
     },
     "execution_count": 36,
     "metadata": {},
     "output_type": "execute_result"
    }
   ],
   "source": [
    "next(i2)"
   ]
  },
  {
   "cell_type": "code",
   "execution_count": 37,
   "id": "25f69234-0f2a-49b0-858b-5fe2235edd4d",
   "metadata": {},
   "outputs": [
    {
     "name": "stdout",
     "output_type": "stream",
     "text": [
      "*** A ***\n",
      "a b c a b c a \tIn __next__, {'data': 'abc', 'n': 7, 'index': 7}\n",
      "\n",
      "*** B ***\n",
      "a b c a b c a \tIn __next__, {'data': 'abc', 'n': 7, 'index': 7}\n",
      "\n"
     ]
    }
   ],
   "source": [
    "# let's have Circle.__iter__ return a new instance of a specialized iterator class\n",
    "# the iterator class will need to implement __next__\n",
    "\n",
    "class CircleIterator:\n",
    "    def __init__(self, data, n):\n",
    "        self.data = data\n",
    "        self.n = n\n",
    "        self.index = 0\n",
    "\n",
    "    def __next__(self):\n",
    "        if self.index >= self.n:\n",
    "            print(f'\\tIn __next__, {vars(self)}')\n",
    "            raise StopIteration\n",
    "            \n",
    "        value = self.data[self.index % len(self.data)]  \n",
    "        self.index += 1\n",
    "        return value\n",
    "\n",
    "class Circle:\n",
    "    def __init__(self, data, n):\n",
    "        self.data = data\n",
    "        self.n = n\n",
    "        \n",
    "    def __iter__(self):\n",
    "        return CircleIterator(self.data, self.n)\n",
    "    \n",
    "    \n",
    "c = Circle('abc', 7)\n",
    "\n",
    "print('*** A ***')\n",
    "for one_item in c:\n",
    "    print(one_item, end=' ')\n",
    "print()    \n",
    "    \n",
    "print('*** B ***')\n",
    "for one_item in c:\n",
    "    print(one_item, end=' ')   \n",
    "print()    "
   ]
  },
  {
   "cell_type": "code",
   "execution_count": 38,
   "id": "2acd2133-8c84-49c0-a230-64c1ca567864",
   "metadata": {},
   "outputs": [],
   "source": [
    "i1 = iter(c)\n",
    "i2 = iter(c)"
   ]
  },
  {
   "cell_type": "code",
   "execution_count": 39,
   "id": "bc233125-e1a5-40a1-b416-c3a4ff15eacc",
   "metadata": {},
   "outputs": [
    {
     "data": {
      "text/plain": [
       "False"
      ]
     },
     "execution_count": 39,
     "metadata": {},
     "output_type": "execute_result"
    }
   ],
   "source": [
    "i1 is i2"
   ]
  },
  {
   "cell_type": "code",
   "execution_count": 40,
   "id": "e82311b3-f36c-4d20-8317-2f2434931169",
   "metadata": {},
   "outputs": [
    {
     "data": {
      "text/plain": [
       "'a'"
      ]
     },
     "execution_count": 40,
     "metadata": {},
     "output_type": "execute_result"
    }
   ],
   "source": [
    "next(i1)\n"
   ]
  },
  {
   "cell_type": "code",
   "execution_count": 41,
   "id": "9f1670be-1125-41f4-ac67-b9ab5452d327",
   "metadata": {},
   "outputs": [
    {
     "data": {
      "text/plain": [
       "'b'"
      ]
     },
     "execution_count": 41,
     "metadata": {},
     "output_type": "execute_result"
    }
   ],
   "source": [
    "next(i1)"
   ]
  },
  {
   "cell_type": "code",
   "execution_count": 42,
   "id": "0ae116da-4566-4e35-a32a-7697f32a221c",
   "metadata": {},
   "outputs": [
    {
     "data": {
      "text/plain": [
       "'c'"
      ]
     },
     "execution_count": 42,
     "metadata": {},
     "output_type": "execute_result"
    }
   ],
   "source": [
    "next(i1)"
   ]
  },
  {
   "cell_type": "code",
   "execution_count": 43,
   "id": "48f006ef-f6eb-4360-8964-14ba0c87683f",
   "metadata": {},
   "outputs": [
    {
     "data": {
      "text/plain": [
       "'a'"
      ]
     },
     "execution_count": 43,
     "metadata": {},
     "output_type": "execute_result"
    }
   ],
   "source": [
    "next(i2)"
   ]
  },
  {
   "cell_type": "markdown",
   "id": "3faf8f8e-e165-4505-9fc2-918d6338c6bc",
   "metadata": {},
   "source": [
    "# Exercise: MyRange\n",
    "\n",
    "Write a class, `MyRange`, that emulates the built-in `range` class.  It can take one, two, or three (integer) arguments.  Use a separate helper class as your iterator.\n",
    "\n",
    "```python\n",
    "for one_item in MyRange(5):\n",
    "    print(one_item)   # 0 1 2 3 4\n",
    "    \n",
    "for one_item in MyRange(5, 10):\n",
    "    print(one_item)   # 5 6 7 8 9\n",
    "    \n",
    "for one_item in Myrange(5, 20, 3):\n",
    "    print(one_item)   # 5 8 11 14 17\n",
    "```"
   ]
  },
  {
   "cell_type": "code",
   "execution_count": 46,
   "id": "4446be8f-7b42-4a9f-9b64-0235a4864b80",
   "metadata": {},
   "outputs": [
    {
     "name": "stdout",
     "output_type": "stream",
     "text": [
      "0 1 2 3 4 \n",
      "5 6 7 8 9 \n",
      "5 8 11 14 17 \n"
     ]
    }
   ],
   "source": [
    "class MyRange:\n",
    "    def __init__(self, first, second=None, step=1):\n",
    "        if second is None:\n",
    "            self.current = 0\n",
    "            self.stop = first\n",
    "        else:\n",
    "            self.current = first\n",
    "            self.stop = second\n",
    "        self.step = step\n",
    "        \n",
    "    def __iter__(self):\n",
    "        return self\n",
    "    \n",
    "    def __next__(self):\n",
    "        if self.current >= self.stop:\n",
    "            raise StopIteration\n",
    "            \n",
    "        value = self.current\n",
    "        self.current += self.step\n",
    "        return value\n",
    "    \n",
    "    \n",
    "for one_item in MyRange(5):\n",
    "    print(one_item, end=' ')   # 0 1 2 3 4\n",
    "print()\n",
    "    \n",
    "for one_item in MyRange(5, 10):\n",
    "    print(one_item, end=' ')   # 5 6 7 8 9\n",
    "print()\n",
    "    \n",
    "for one_item in MyRange(5, 20, 3):\n",
    "    print(one_item, end=' ')   # 5 8 11 14 17\n",
    "print()    \n",
    "        \n",
    "        "
   ]
  },
  {
   "cell_type": "code",
   "execution_count": 47,
   "id": "645bf850-9537-4892-9e80-3fd0a385ca8a",
   "metadata": {},
   "outputs": [
    {
     "name": "stdout",
     "output_type": "stream",
     "text": [
      "0 1 2 3 4 \n",
      "5 6 7 8 9 \n",
      "5 8 11 14 17 \n"
     ]
    }
   ],
   "source": [
    "class MyRangeIterator:\n",
    "    def __init__(self, current, stop, step):\n",
    "        self.current = current\n",
    "        self.stop = stop\n",
    "        self.step = step\n",
    "    \n",
    "    def __next__(self):\n",
    "        if self.current >= self.stop:\n",
    "            raise StopIteration\n",
    "            \n",
    "        value = self.current\n",
    "        self.current += self.step\n",
    "        return value\n",
    "    \n",
    "class MyRange:\n",
    "    def __init__(self, first, second=None, step=1):\n",
    "        if second is None:\n",
    "            self.current = 0\n",
    "            self.stop = first\n",
    "        else:\n",
    "            self.current = first\n",
    "            self.stop = second\n",
    "        self.step = step\n",
    "        \n",
    "    def __iter__(self):\n",
    "        return MyRangeIterator(self.current, self.stop, self.step)\n",
    "    \n",
    "for one_item in MyRange(5):\n",
    "    print(one_item, end=' ')   # 0 1 2 3 4\n",
    "print()\n",
    "    \n",
    "for one_item in MyRange(5, 10):\n",
    "    print(one_item, end=' ')   # 5 6 7 8 9\n",
    "print()\n",
    "    \n",
    "for one_item in MyRange(5, 20, 3):\n",
    "    print(one_item, end=' ')   # 5 8 11 14 17\n",
    "print()    \n",
    "        \n",
    "        "
   ]
  },
  {
   "cell_type": "code",
   "execution_count": 49,
   "id": "abb88ed9-461b-45b0-8cdf-25bed85b957b",
   "metadata": {},
   "outputs": [
    {
     "name": "stdout",
     "output_type": "stream",
     "text": [
      "0 1 2 3 4 \n",
      "5 6 7 8 9 \n",
      "5 8 11 14 17 \n"
     ]
    }
   ],
   "source": [
    "class MyRangeIterator:\n",
    "    def __init__(self, range):\n",
    "        self.range = range\n",
    "    \n",
    "    def __next__(self):\n",
    "        if self.range.current >= self.range.stop:\n",
    "            raise StopIteration\n",
    "            \n",
    "        value = self.range.current\n",
    "        self.range.current += self.range.step\n",
    "        return value\n",
    "    \n",
    "class MyRange:\n",
    "    def __init__(self, first, second=None, step=1):\n",
    "        if second is None:\n",
    "            self.current = 0\n",
    "            self.stop = first\n",
    "        else:\n",
    "            self.current = first\n",
    "            self.stop = second\n",
    "        self.step = step\n",
    "        \n",
    "    def __iter__(self):\n",
    "        return MyRangeIterator(self)\n",
    "    \n",
    "for one_item in MyRange(5):\n",
    "    print(one_item, end=' ')   # 0 1 2 3 4\n",
    "print()\n",
    "    \n",
    "for one_item in MyRange(5, 10):\n",
    "    print(one_item, end=' ')   # 5 6 7 8 9\n",
    "print()\n",
    "    \n",
    "for one_item in MyRange(5, 20, 3):\n",
    "    print(one_item, end=' ')   # 5 8 11 14 17\n",
    "print()    \n",
    "        \n",
    "        "
   ]
  },
  {
   "cell_type": "code",
   "execution_count": 52,
   "id": "495655f7-4dd5-47d5-93d2-c344efb5c422",
   "metadata": {},
   "outputs": [
    {
     "name": "stdout",
     "output_type": "stream",
     "text": [
      "20\n",
      "17\n",
      "14\n",
      "11\n",
      "8\n"
     ]
    }
   ],
   "source": [
    "for one_item in range(20, 5, -3):\n",
    "    print(one_item)"
   ]
  },
  {
   "cell_type": "code",
   "execution_count": 54,
   "id": "c5fa55c9-05cd-4aab-b160-62d79473c8ad",
   "metadata": {},
   "outputs": [
    {
     "name": "stdout",
     "output_type": "stream",
     "text": [
      "0 1 2 3 4 \n",
      "5 6 7 8 9 \n",
      "5 8 11 14 17 \n",
      "20 17 14 11 8 \n"
     ]
    }
   ],
   "source": [
    "# allow for negative step size\n",
    "\n",
    "class MyRangeIterator:\n",
    "    def __init__(self, range):\n",
    "        self.range = range\n",
    "    \n",
    "    def __next__(self):\n",
    "        if self.range.step >= 0:\n",
    "            if self.range.current >= self.range.stop:\n",
    "                raise StopIteration\n",
    "        else:\n",
    "            if self.range.current <= self.range.stop:\n",
    "                raise StopIteration\n",
    "            \n",
    "        value = self.range.current\n",
    "        self.range.current += self.range.step\n",
    "        return value\n",
    "    \n",
    "class MyRange:\n",
    "    def __init__(self, first, second=None, step=1):\n",
    "        if second is None:\n",
    "            self.current = 0\n",
    "            self.stop = first\n",
    "        else:\n",
    "            self.current = first\n",
    "            self.stop = second\n",
    "        self.step = step\n",
    "        \n",
    "    def __iter__(self):\n",
    "        return MyRangeIterator(self)\n",
    "    \n",
    "for one_item in MyRange(5):\n",
    "    print(one_item, end=' ')   # 0 1 2 3 4\n",
    "print()\n",
    "    \n",
    "for one_item in MyRange(5, 10):\n",
    "    print(one_item, end=' ')   # 5 6 7 8 9\n",
    "print()\n",
    "    \n",
    "for one_item in MyRange(5, 20, 3):\n",
    "    print(one_item, end=' ')   # 5 8 11 14 17\n",
    "print()    \n",
    "        \n",
    "for one_item in MyRange(20, 5, -3):\n",
    "    print(one_item, end=' ')   # 5 8 11 14 17\n",
    "print()    \n",
    "        "
   ]
  },
  {
   "cell_type": "code",
   "execution_count": 55,
   "id": "d0de1d64-46f3-450a-85fe-dc53a6aeae4a",
   "metadata": {},
   "outputs": [
    {
     "ename": "TypeError",
     "evalue": "unsupported operand type(s) for -: 'NoneType' and 'int'",
     "output_type": "error",
     "traceback": [
      "\u001b[0;31m---------------------------------------------------------------------------\u001b[0m",
      "\u001b[0;31mTypeError\u001b[0m                                 Traceback (most recent call last)",
      "\u001b[0;32m/var/folders/rr/0mnyyv811fs5vyp22gf4fxk00000gn/T/ipykernel_20835/1963691363.py\u001b[0m in \u001b[0;36m<module>\u001b[0;34m\u001b[0m\n\u001b[1;32m     31\u001b[0m \u001b[0;34m\u001b[0m\u001b[0m\n\u001b[1;32m     32\u001b[0m \u001b[0;34m\u001b[0m\u001b[0m\n\u001b[0;32m---> 33\u001b[0;31m \u001b[0;32mfor\u001b[0m \u001b[0mone_item\u001b[0m \u001b[0;32min\u001b[0m \u001b[0mmyRange\u001b[0m\u001b[0;34m(\u001b[0m\u001b[0;36m5\u001b[0m\u001b[0;34m)\u001b[0m\u001b[0;34m:\u001b[0m\u001b[0;34m\u001b[0m\u001b[0;34m\u001b[0m\u001b[0m\n\u001b[0m\u001b[1;32m     34\u001b[0m     \u001b[0mprint\u001b[0m\u001b[0;34m(\u001b[0m\u001b[0mone_item\u001b[0m\u001b[0;34m)\u001b[0m\u001b[0;34m\u001b[0m\u001b[0;34m\u001b[0m\u001b[0m\n",
      "\u001b[0;32m/var/folders/rr/0mnyyv811fs5vyp22gf4fxk00000gn/T/ipykernel_20835/1963691363.py\u001b[0m in \u001b[0;36m__next__\u001b[0;34m(self)\u001b[0m\n\u001b[1;32m      9\u001b[0m         \u001b[0;32mif\u001b[0m \u001b[0mself\u001b[0m\u001b[0;34m.\u001b[0m\u001b[0mindex\u001b[0m \u001b[0;34m==\u001b[0m \u001b[0mself\u001b[0m\u001b[0;34m.\u001b[0m\u001b[0mstart\u001b[0m \u001b[0;32mand\u001b[0m \u001b[0mself\u001b[0m\u001b[0;34m.\u001b[0m\u001b[0mend\u001b[0m \u001b[0;32mis\u001b[0m \u001b[0;32mNone\u001b[0m\u001b[0;34m:\u001b[0m\u001b[0;34m\u001b[0m\u001b[0;34m\u001b[0m\u001b[0m\n\u001b[1;32m     10\u001b[0m             \u001b[0;32mraise\u001b[0m \u001b[0mStopIteration\u001b[0m\u001b[0;34m\u001b[0m\u001b[0;34m\u001b[0m\u001b[0m\n\u001b[0;32m---> 11\u001b[0;31m         \u001b[0;32melif\u001b[0m \u001b[0;34m(\u001b[0m\u001b[0mself\u001b[0m\u001b[0;34m.\u001b[0m\u001b[0mend\u001b[0m \u001b[0;34m-\u001b[0m \u001b[0mself\u001b[0m\u001b[0;34m.\u001b[0m\u001b[0mstart\u001b[0m\u001b[0;34m)\u001b[0m \u001b[0;34m==\u001b[0m \u001b[0mself\u001b[0m\u001b[0;34m.\u001b[0m\u001b[0mindex\u001b[0m \u001b[0;32mand\u001b[0m \u001b[0mself\u001b[0m\u001b[0;34m.\u001b[0m\u001b[0mstep\u001b[0m \u001b[0;32mis\u001b[0m \u001b[0;32mNone\u001b[0m\u001b[0;34m:\u001b[0m\u001b[0;34m\u001b[0m\u001b[0;34m\u001b[0m\u001b[0m\n\u001b[0m\u001b[1;32m     12\u001b[0m             \u001b[0;32mraise\u001b[0m \u001b[0mStopIteration\u001b[0m\u001b[0;34m\u001b[0m\u001b[0;34m\u001b[0m\u001b[0m\n\u001b[1;32m     13\u001b[0m         \u001b[0;32melif\u001b[0m \u001b[0;34m(\u001b[0m\u001b[0mself\u001b[0m\u001b[0;34m.\u001b[0m\u001b[0mstart\u001b[0m \u001b[0;34m+\u001b[0m \u001b[0mself\u001b[0m\u001b[0;34m.\u001b[0m\u001b[0mstep\u001b[0m \u001b[0;34m*\u001b[0m \u001b[0mself\u001b[0m\u001b[0;34m.\u001b[0m\u001b[0mindex\u001b[0m\u001b[0;34m)\u001b[0m \u001b[0;34m>\u001b[0m \u001b[0mself\u001b[0m\u001b[0;34m.\u001b[0m\u001b[0mend\u001b[0m\u001b[0;34m:\u001b[0m\u001b[0;34m\u001b[0m\u001b[0;34m\u001b[0m\u001b[0m\n",
      "\u001b[0;31mTypeError\u001b[0m: unsupported operand type(s) for -: 'NoneType' and 'int'"
     ]
    }
   ],
   "source": [
    "class myRangeIterator:\n",
    "    def __init__(self, start, end, step):\n",
    "        self.start = start\n",
    "        self.end = end\n",
    "        self.step = step\n",
    "        self.index = 0\n",
    "        \n",
    "    def __next__(self): \n",
    "        if self.index == self.start and self.end is None:\n",
    "            raise StopIteration\n",
    "        elif (self.end - self.start) == self.index and self.step is None:\n",
    "            raise StopIteration\n",
    "        elif (self.start + self.step * self.index) > self.end:\n",
    "            raise StopIteration\n",
    "        if self.end is None:\n",
    "            value = self.index\n",
    "        elif self.step is None:\n",
    "            value = self.start + self.index\n",
    "        else:\n",
    "             value = self.start + self.step\n",
    "        self.index += 1\n",
    "        return value             \n",
    "    \n",
    "class myRange:\n",
    "    def __init__(self, start, end=None, step=None):\n",
    "        self.start = start\n",
    "        self.end = end\n",
    "        self.step = step\n",
    "    def __iter__(self):\n",
    "        return myRangeIterator(self.start, self.end, self.step)\n",
    "\n",
    "\n",
    "for one_item in myRange(5):\n",
    "    print(one_item)"
   ]
  },
  {
   "cell_type": "code",
   "execution_count": 56,
   "id": "0debe658-5490-4446-ba2d-df0284171eae",
   "metadata": {},
   "outputs": [
    {
     "data": {
      "text/plain": [
       "'3.10.0 (default, Oct 13 2021, 06:45:00) [Clang 13.0.0 (clang-1300.0.29.3)]'"
      ]
     },
     "execution_count": 56,
     "metadata": {},
     "output_type": "execute_result"
    }
   ],
   "source": [
    "import sys\n",
    "sys.version"
   ]
  },
  {
   "cell_type": "code",
   "execution_count": 67,
   "id": "3549dc69-0d95-4bd7-ad03-428c228e329b",
   "metadata": {},
   "outputs": [],
   "source": [
    "class Bowl:\n",
    "    MAX_SCOOPS = 3   # class attribute MAX_SCOOPS\n",
    "\n",
    "    def __init__(self):\n",
    "        self.scoops = []\n",
    "\n",
    "    def add_scoops(self, *args):\n",
    "        for one_scoop in args:\n",
    "            if len(self.scoops) >= self.MAX_SCOOPS:\n",
    "                break\n",
    "            self.scoops.append(one_scoop)\n",
    "\n",
    "    def flavors(self):\n",
    "        return [one_scoop.flavor\n",
    "                for one_scoop in self.scoops]\n",
    "\n",
    "    def __repr__(self):\n",
    "        output = f'{type(self).__name__} of: \\n'\n",
    "\n",
    "        return output + '\\n'.join([f'\\t{index}: {one_scoop}'\n",
    "                                   for index, one_scoop in enumerate(self.scoops, 1)])\n",
    "\n",
    "    def __len__(self):\n",
    "        return len(self.scoops)\n",
    "\n",
    "    def __getitem__(self, index):\n",
    "        # print(f'{index=}')\n",
    "        return self.scoops[index]\n",
    "\n",
    "    def __add__(self, other):\n",
    "        new_bowl = Bowl()\n",
    "        new_bowl.scoops = self.scoops + other.scoops\n",
    "        return new_bowl\n",
    "\n",
    "    def __eq__(self, other):\n",
    "        return Counter(self.scoops) == Counter(other.scoops)\n"
   ]
  },
  {
   "cell_type": "code",
   "execution_count": 68,
   "id": "be1b7ab9-a35c-4e3f-85f5-20f1fbf50b4a",
   "metadata": {},
   "outputs": [
    {
     "ename": "TypeError",
     "evalue": "'Bowl' object is not iterable",
     "output_type": "error",
     "traceback": [
      "\u001b[0;31m---------------------------------------------------------------------------\u001b[0m",
      "\u001b[0;31mTypeError\u001b[0m                                 Traceback (most recent call last)",
      "\u001b[0;32m/var/folders/rr/0mnyyv811fs5vyp22gf4fxk00000gn/T/ipykernel_20835/3938721307.py\u001b[0m in \u001b[0;36m<module>\u001b[0;34m\u001b[0m\n\u001b[1;32m      1\u001b[0m \u001b[0mb\u001b[0m \u001b[0;34m=\u001b[0m \u001b[0mBowl\u001b[0m\u001b[0;34m(\u001b[0m\u001b[0;34m)\u001b[0m\u001b[0;34m\u001b[0m\u001b[0;34m\u001b[0m\u001b[0m\n\u001b[0;32m----> 2\u001b[0;31m \u001b[0miter\u001b[0m\u001b[0;34m(\u001b[0m\u001b[0mb\u001b[0m\u001b[0;34m)\u001b[0m\u001b[0;34m\u001b[0m\u001b[0;34m\u001b[0m\u001b[0m\n\u001b[0m",
      "\u001b[0;31mTypeError\u001b[0m: 'Bowl' object is not iterable"
     ]
    }
   ],
   "source": [
    "b = Bowl()\n",
    "iter(b)"
   ]
  },
  {
   "cell_type": "code",
   "execution_count": 69,
   "id": "d7f033d5-f50f-4444-8f9e-57894e9bb73e",
   "metadata": {},
   "outputs": [],
   "source": [
    "class Scoop:\n",
    "    def __init__(self, flavor):\n",
    "        self.flavor = flavor\n",
    "\n",
    "    def __repr__(self):\n",
    "        return f'Scoop of {self.flavor}'\n"
   ]
  },
  {
   "cell_type": "code",
   "execution_count": 70,
   "id": "a5351d78-e9a9-4dce-baa3-b7e303b1380d",
   "metadata": {},
   "outputs": [],
   "source": [
    "s1 = Scoop('chocolate')\n",
    "s2 = Scoop('vanilla')\n",
    "s3 = Scoop('coffee')\n",
    "s4 = Scoop('flavor 4')\n",
    "s5 = Scoop('flavor 5')\n",
    "s6 = Scoop('flavor 6')\n"
   ]
  },
  {
   "cell_type": "code",
   "execution_count": 71,
   "id": "ed49ec0f-a616-401e-a5e2-dc9054093a7b",
   "metadata": {},
   "outputs": [
    {
     "name": "stdout",
     "output_type": "stream",
     "text": [
      "Scoop of chocolate\n",
      "Scoop of vanilla\n",
      "Scoop of coffee\n"
     ]
    }
   ],
   "source": [
    "b = Bowl()\n",
    "b.add_scoops(s1, s2, s3)\n",
    "\n",
    "for one_item in b:\n",
    "    print(one_item)"
   ]
  },
  {
   "cell_type": "markdown",
   "id": "b6a05c36-ed02-4066-ba99-55926b85498d",
   "metadata": {},
   "source": [
    "# Next up\n",
    "\n",
    "- Generator functions\n",
    "- Generator expressions/comprehensions\n",
    "- Decorators"
   ]
  },
  {
   "cell_type": "code",
   "execution_count": 75,
   "id": "d9bcad35-f86d-491d-b03c-7db56e044ed1",
   "metadata": {},
   "outputs": [],
   "source": [
    "# Return at :25"
   ]
  },
  {
   "cell_type": "code",
   "execution_count": 76,
   "id": "17cea9ab-ba9b-4424-bc29-4f656989f83d",
   "metadata": {},
   "outputs": [
    {
     "data": {
      "text/plain": [
       "1"
      ]
     },
     "execution_count": 76,
     "metadata": {},
     "output_type": "execute_result"
    }
   ],
   "source": [
    "# the world's dumbest function\n",
    "\n",
    "def myfunc():\n",
    "    return 1\n",
    "    return 2\n",
    "    return 3\n",
    "\n",
    "myfunc()"
   ]
  },
  {
   "cell_type": "code",
   "execution_count": 77,
   "id": "19ddc83c-7ca8-4c36-9d5e-d12a7aba1c9f",
   "metadata": {},
   "outputs": [
    {
     "name": "stdout",
     "output_type": "stream",
     "text": [
      "  4           0 LOAD_CONST               1 (1)\n",
      "              2 RETURN_VALUE\n"
     ]
    }
   ],
   "source": [
    "import dis\n",
    "dis.dis(myfunc)"
   ]
  },
  {
   "cell_type": "code",
   "execution_count": 78,
   "id": "1301f4b2-d2ed-4a16-abb9-8ffa4cf7cac9",
   "metadata": {},
   "outputs": [
    {
     "data": {
      "text/plain": [
       "<generator object myfunc at 0x11095d0e0>"
      ]
     },
     "execution_count": 78,
     "metadata": {},
     "output_type": "execute_result"
    }
   ],
   "source": [
    "def myfunc():\n",
    "    yield 1\n",
    "    yield 2\n",
    "    yield 3\n",
    "    \n",
    "myfunc()"
   ]
  },
  {
   "cell_type": "code",
   "execution_count": 79,
   "id": "a0970f8d-db7d-4539-a537-b1930126681d",
   "metadata": {},
   "outputs": [
    {
     "data": {
      "text/plain": [
       "generator"
      ]
     },
     "execution_count": 79,
     "metadata": {},
     "output_type": "execute_result"
    }
   ],
   "source": [
    "# what is a generator object?  It implements the iterator protocol.\n",
    "\n",
    "g = myfunc()\n",
    "\n",
    "type(g)"
   ]
  },
  {
   "cell_type": "code",
   "execution_count": 80,
   "id": "3e74605e-a613-48a6-8010-2663209b83c9",
   "metadata": {},
   "outputs": [
    {
     "data": {
      "text/plain": [
       "<generator object myfunc at 0x11095d230>"
      ]
     },
     "execution_count": 80,
     "metadata": {},
     "output_type": "execute_result"
    }
   ],
   "source": [
    "iter(g)"
   ]
  },
  {
   "cell_type": "code",
   "execution_count": 81,
   "id": "3d99263e-afed-44d8-a51e-0862bcb1dd91",
   "metadata": {},
   "outputs": [
    {
     "data": {
      "text/plain": [
       "True"
      ]
     },
     "execution_count": 81,
     "metadata": {},
     "output_type": "execute_result"
    }
   ],
   "source": [
    "# what is g's iterator?  A generator!  Meaning: A generator is its own iterator (it returns self in __iter__)\n",
    "\n",
    "iter(g) is g"
   ]
  },
  {
   "cell_type": "code",
   "execution_count": 82,
   "id": "ee29e5b2-61d5-4c69-bd83-d32a454bd63a",
   "metadata": {},
   "outputs": [
    {
     "data": {
      "text/plain": [
       "1"
      ]
     },
     "execution_count": 82,
     "metadata": {},
     "output_type": "execute_result"
    }
   ],
   "source": [
    "next(g)"
   ]
  },
  {
   "cell_type": "code",
   "execution_count": 83,
   "id": "ae95e91e-0f12-40d8-ac20-e0fd877abe61",
   "metadata": {},
   "outputs": [
    {
     "data": {
      "text/plain": [
       "2"
      ]
     },
     "execution_count": 83,
     "metadata": {},
     "output_type": "execute_result"
    }
   ],
   "source": [
    "next(g)"
   ]
  },
  {
   "cell_type": "code",
   "execution_count": 84,
   "id": "447a2e43-1351-4d1d-9104-43ac18013305",
   "metadata": {},
   "outputs": [
    {
     "data": {
      "text/plain": [
       "3"
      ]
     },
     "execution_count": 84,
     "metadata": {},
     "output_type": "execute_result"
    }
   ],
   "source": [
    "next(g)"
   ]
  },
  {
   "cell_type": "code",
   "execution_count": 85,
   "id": "fc007bd0-99e9-4651-97d1-ba29a29b515e",
   "metadata": {},
   "outputs": [
    {
     "ename": "StopIteration",
     "evalue": "",
     "output_type": "error",
     "traceback": [
      "\u001b[0;31m---------------------------------------------------------------------------\u001b[0m",
      "\u001b[0;31mStopIteration\u001b[0m                             Traceback (most recent call last)",
      "\u001b[0;32m/var/folders/rr/0mnyyv811fs5vyp22gf4fxk00000gn/T/ipykernel_20835/4253931490.py\u001b[0m in \u001b[0;36m<module>\u001b[0;34m\u001b[0m\n\u001b[0;32m----> 1\u001b[0;31m \u001b[0mnext\u001b[0m\u001b[0;34m(\u001b[0m\u001b[0mg\u001b[0m\u001b[0;34m)\u001b[0m\u001b[0;34m\u001b[0m\u001b[0;34m\u001b[0m\u001b[0m\n\u001b[0m",
      "\u001b[0;31mStopIteration\u001b[0m: "
     ]
    }
   ],
   "source": [
    "next(g)"
   ]
  },
  {
   "cell_type": "markdown",
   "id": "8dece811-a475-465f-9db8-b55db3fdabde",
   "metadata": {},
   "source": [
    "# Generator functions\n",
    "\n",
    "A generator function uses `yield`, and not `return` (except at the end).  When we run the generator function, we get a generator object back. That object is iterable (and also an iterator).\n",
    "\n",
    "Each time we run `next` on a generator object, the function's body runs through the next `yield` statement, and returns whatever `yield` returns.  Each `next` moves the generator forward one `yield`.\n",
    "\n",
    "When we reach the end of the function, we get `StopIteration`.  You can actually make that happen faster if you use `return` in the generator function's body.\n",
    "\n",
    "Each time the generator function has `yield`, it returns a value and goes to sleep at that point.  When we run `next` on it, the function's execution continues from precisely where it left off, after the `yield`."
   ]
  },
  {
   "cell_type": "code",
   "execution_count": 87,
   "id": "4b3ff611-b16c-4298-a39b-2c134e9356ea",
   "metadata": {},
   "outputs": [],
   "source": [
    "def myfunc():\n",
    "    total = 0\n",
    "    for i in range(5):\n",
    "        total += i\n",
    "        yield i, total"
   ]
  },
  {
   "cell_type": "code",
   "execution_count": 88,
   "id": "e0011807-b2f4-4410-ab70-1f8b1e4ea3d3",
   "metadata": {},
   "outputs": [],
   "source": [
    "g = myfunc()  # running a generator function returns a generator object.  You need to use \"next\" to run the generator body."
   ]
  },
  {
   "cell_type": "code",
   "execution_count": 89,
   "id": "54759a17-1ec6-4d59-bed6-47e8487c40d0",
   "metadata": {},
   "outputs": [
    {
     "data": {
      "text/plain": [
       "generator"
      ]
     },
     "execution_count": 89,
     "metadata": {},
     "output_type": "execute_result"
    }
   ],
   "source": [
    "type(g)"
   ]
  },
  {
   "cell_type": "code",
   "execution_count": 90,
   "id": "6745dbed-3a50-45ab-bf20-db678dd4121d",
   "metadata": {},
   "outputs": [
    {
     "data": {
      "text/plain": [
       "(0, 0)"
      ]
     },
     "execution_count": 90,
     "metadata": {},
     "output_type": "execute_result"
    }
   ],
   "source": [
    "next(g)"
   ]
  },
  {
   "cell_type": "code",
   "execution_count": 91,
   "id": "ea3ae7b7-b6a6-4303-bb8b-07b9776d766b",
   "metadata": {},
   "outputs": [
    {
     "data": {
      "text/plain": [
       "(1, 1)"
      ]
     },
     "execution_count": 91,
     "metadata": {},
     "output_type": "execute_result"
    }
   ],
   "source": [
    "next(g)"
   ]
  },
  {
   "cell_type": "code",
   "execution_count": 92,
   "id": "b0ec4baa-76ec-461f-92d0-ff5a5b4bcad6",
   "metadata": {},
   "outputs": [
    {
     "data": {
      "text/plain": [
       "(2, 3)"
      ]
     },
     "execution_count": 92,
     "metadata": {},
     "output_type": "execute_result"
    }
   ],
   "source": [
    "next(g)"
   ]
  },
  {
   "cell_type": "code",
   "execution_count": 93,
   "id": "237f0edc-f955-46af-bc1d-0c47513c127f",
   "metadata": {},
   "outputs": [
    {
     "data": {
      "text/plain": [
       "(3, 6)"
      ]
     },
     "execution_count": 93,
     "metadata": {},
     "output_type": "execute_result"
    }
   ],
   "source": [
    "next(g)"
   ]
  },
  {
   "cell_type": "code",
   "execution_count": 94,
   "id": "35801f42-96fe-4eb3-a706-5b5dd3add364",
   "metadata": {},
   "outputs": [
    {
     "data": {
      "text/plain": [
       "(4, 10)"
      ]
     },
     "execution_count": 94,
     "metadata": {},
     "output_type": "execute_result"
    }
   ],
   "source": [
    "next(g)"
   ]
  },
  {
   "cell_type": "code",
   "execution_count": 95,
   "id": "45d2d2f6-ba45-4943-9500-1eba1844ddc3",
   "metadata": {},
   "outputs": [
    {
     "ename": "StopIteration",
     "evalue": "",
     "output_type": "error",
     "traceback": [
      "\u001b[0;31m---------------------------------------------------------------------------\u001b[0m",
      "\u001b[0;31mStopIteration\u001b[0m                             Traceback (most recent call last)",
      "\u001b[0;32m/var/folders/rr/0mnyyv811fs5vyp22gf4fxk00000gn/T/ipykernel_20835/4253931490.py\u001b[0m in \u001b[0;36m<module>\u001b[0;34m\u001b[0m\n\u001b[0;32m----> 1\u001b[0;31m \u001b[0mnext\u001b[0m\u001b[0;34m(\u001b[0m\u001b[0mg\u001b[0m\u001b[0;34m)\u001b[0m\u001b[0;34m\u001b[0m\u001b[0;34m\u001b[0m\u001b[0m\n\u001b[0m",
      "\u001b[0;31mStopIteration\u001b[0m: "
     ]
    }
   ],
   "source": [
    "next(g)"
   ]
  },
  {
   "cell_type": "code",
   "execution_count": 96,
   "id": "2047697a-6bf8-4be4-967f-e007cd3f1209",
   "metadata": {},
   "outputs": [],
   "source": [
    "def something():\n",
    "    return 1\n",
    "    yield 2\n",
    "    return 3"
   ]
  },
  {
   "cell_type": "code",
   "execution_count": 97,
   "id": "b165c935-148a-42ca-9927-4fd59739ce00",
   "metadata": {},
   "outputs": [
    {
     "data": {
      "text/plain": [
       "<generator object something at 0x11095dbd0>"
      ]
     },
     "execution_count": 97,
     "metadata": {},
     "output_type": "execute_result"
    }
   ],
   "source": [
    "something()"
   ]
  },
  {
   "cell_type": "code",
   "execution_count": 98,
   "id": "9740bc02-1e13-49ed-8105-555c6fdf64de",
   "metadata": {},
   "outputs": [
    {
     "name": "stdout",
     "output_type": "stream",
     "text": [
      "Name:              something\n",
      "Filename:          /var/folders/rr/0mnyyv811fs5vyp22gf4fxk00000gn/T/ipykernel_20835/4041891837.py\n",
      "Argument count:    0\n",
      "Positional-only arguments: 0\n",
      "Kw-only arguments: 0\n",
      "Number of locals:  0\n",
      "Stack size:        1\n",
      "Flags:             OPTIMIZED, NEWLOCALS, GENERATOR, NOFREE\n",
      "Constants:\n",
      "   0: None\n",
      "   1: 1\n",
      "   2: 2\n",
      "   3: 3\n"
     ]
    }
   ],
   "source": [
    "dis.show_code(something)"
   ]
  },
  {
   "cell_type": "code",
   "execution_count": 99,
   "id": "d80b3edb-502c-4584-b1b8-46387a838f6f",
   "metadata": {},
   "outputs": [
    {
     "name": "stdout",
     "output_type": "stream",
     "text": [
      "0 1 1 2 3 5 8 13 21 34 55 89 144 233 377 610 987 1597 2584 4181 6765 10946 17711 28657 46368 75025 121393 196418 317811 514229 832040 1346269 2178309 3524578 5702887 9227465 14930352 24157817 39088169 63245986 102334155 165580141 267914296 433494437 701408733 1134903170 1836311903 2971215073 4807526976 7778742049 12586269025 "
     ]
    }
   ],
   "source": [
    "def fib():\n",
    "    first = 0\n",
    "    second = 1\n",
    "    while True:\n",
    "        yield first\n",
    "        first, second = second, first+second\n",
    "        \n",
    "for one_number in fib():\n",
    "    print(one_number, end=' ')\n",
    "    \n",
    "    if one_number > 10_000_000_000:\n",
    "        break"
   ]
  },
  {
   "cell_type": "code",
   "execution_count": 100,
   "id": "df5491bc-04f3-497d-9831-1ef76e2e31d2",
   "metadata": {},
   "outputs": [
    {
     "name": "stdout",
     "output_type": "stream",
     "text": [
      "0 1 1 2 3 5 8 13 21 34 55 89 144 233 377 610 987 1597 2584 4181 6765 10946 17711 28657 46368 75025 121393 196418 317811 514229 832040 1346269 2178309 3524578 5702887 9227465 14930352 24157817 39088169 63245986 102334155 165580141 267914296 433494437 701408733 1134903170 1836311903 2971215073 4807526976 7778742049 12586269025 "
     ]
    }
   ],
   "source": [
    "def fib():\n",
    "    first = 0\n",
    "    second = 1\n",
    "    while True:\n",
    "        yield first\n",
    "        first, second = second, first+second\n",
    "        \n",
    "for one_number in fib():\n",
    "    print(one_number, end=' ')\n",
    "    \n",
    "    if one_number > 10_000_000_000:\n",
    "        break"
   ]
  },
  {
   "cell_type": "code",
   "execution_count": 101,
   "id": "82c80aa8-b78a-43c1-9422-f0eccbf74435",
   "metadata": {},
   "outputs": [
    {
     "name": "stdout",
     "output_type": "stream",
     "text": [
      "0 1 1 2 3 5 8 13 21 34 55 89 144 233 377 610 987 1597 2584 4181 6765 10946 17711 28657 46368 75025 121393 196418 317811 514229 832040 1346269 2178309 3524578 5702887 9227465 14930352 24157817 39088169 63245986 102334155 165580141 267914296 433494437 701408733 1134903170 1836311903 2971215073 4807526976 7778742049 12586269025 "
     ]
    }
   ],
   "source": [
    "def fib():\n",
    "    first = 0\n",
    "    second = 1\n",
    "    while True:\n",
    "        yield first\n",
    "        first, second = second, first+second\n",
    "        \n",
    "g = fib()\n",
    "        \n",
    "for one_number in g:\n",
    "    print(one_number, end=' ')\n",
    "    \n",
    "    if one_number > 10_000_000_000:\n",
    "        break"
   ]
  },
  {
   "cell_type": "code",
   "execution_count": 102,
   "id": "142df4d9-5168-4cc0-8d30-4d9680aa8fe7",
   "metadata": {},
   "outputs": [
    {
     "data": {
      "text/plain": [
       "20365011074"
      ]
     },
     "execution_count": 102,
     "metadata": {},
     "output_type": "execute_result"
    }
   ],
   "source": [
    "next(g)"
   ]
  },
  {
   "cell_type": "code",
   "execution_count": 103,
   "id": "cda29e36-96f6-45e5-afe6-9df576fc7d12",
   "metadata": {},
   "outputs": [
    {
     "data": {
      "text/plain": [
       "32951280099"
      ]
     },
     "execution_count": 103,
     "metadata": {},
     "output_type": "execute_result"
    }
   ],
   "source": [
    "next(g)"
   ]
  },
  {
   "cell_type": "code",
   "execution_count": 104,
   "id": "3a5477c8-a490-4578-badf-8eb091ff913e",
   "metadata": {},
   "outputs": [
    {
     "data": {
      "text/plain": [
       "53316291173"
      ]
     },
     "execution_count": 104,
     "metadata": {},
     "output_type": "execute_result"
    }
   ],
   "source": [
    "next(g)"
   ]
  },
  {
   "cell_type": "code",
   "execution_count": 105,
   "id": "fc5e0216-ed1c-4a7f-8b41-6b2aed0149c1",
   "metadata": {},
   "outputs": [
    {
     "data": {
      "text/plain": [
       "['a', 'b', 'c', 'd']"
      ]
     },
     "execution_count": 105,
     "metadata": {},
     "output_type": "execute_result"
    }
   ],
   "source": [
    "list('abcd')"
   ]
  },
  {
   "cell_type": "code",
   "execution_count": 106,
   "id": "2d27cc38-169f-4187-861e-2f9eeb320280",
   "metadata": {},
   "outputs": [
    {
     "data": {
      "text/plain": [
       "[10, 20, 30]"
      ]
     },
     "execution_count": 106,
     "metadata": {},
     "output_type": "execute_result"
    }
   ],
   "source": [
    "list((10, 20, 30))"
   ]
  },
  {
   "cell_type": "markdown",
   "id": "4bfb3170-d1c8-4cf1-9028-37312fec8162",
   "metadata": {},
   "source": [
    "# Exercise: `read_n`\n",
    "\n",
    "When we iterate over a file object, we get each line of the file, one at a time. But there are files from which we might want to read two lines at a time, or 10, 3.\n",
    "\n",
    "The `read_n` generator function takes two arguments:\n",
    "    - `filename`, the name of the file we'll read from\n",
    "    - `n`, the number of lines we should return with each iteration\n",
    "    \n",
    "The idea is that you can iterate over `read_n(filename, 5)` and know that there are five lines in each iteration.  (The five lines should be returned as one string, with newlines ending each of them.\n",
    "\n",
    "Two more things:\n",
    "- If the file ends before you complete `n` lines in the current iteration, then return whatever you've got, and then end the iteration.\n",
    "- It can help to know that `file.readline()` returns a string with the current line, or an empty string if there are no lines left in the file."
   ]
  },
  {
   "cell_type": "code",
   "execution_count": 107,
   "id": "c741c167-70c0-46be-ae54-13fd45b97245",
   "metadata": {},
   "outputs": [
    {
     "name": "stdout",
     "output_type": "stream",
     "text": [
      "3 16 3 76 71 18 2 70 18 3 59 50 54 72 62 64 70 61 71 70 70 72 56 66 62 67 52 63 60 69 58 50 50 54 66 67 59 63 64 61 62 61 62 61 55 55 74 53 65 65 55 56 50 56 88 66 61 70 81 65 62 56 75 65 54 64 75 72 85 72 67 53 55 69 77 74 94 85 97 73 84 68 71 70 63 55 82 74 64 66 76 55 78 80 56 63 82 76 63 55 69 61 99 73 55 63 79 100 57 83 62 77 104 55 67 65 89 60 51 53 "
     ]
    }
   ],
   "source": [
    "for one_line in open('/etc/passwd'):\n",
    "    print(len(one_line), end=' ')"
   ]
  },
  {
   "cell_type": "code",
   "execution_count": 121,
   "id": "f1d89583-9103-4ffb-91f8-a14feb0e3964",
   "metadata": {},
   "outputs": [
    {
     "name": "stdout",
     "output_type": "stream",
     "text": [
      "##\n",
      "# User Database\n",
      "# \n",
      "# Note that this file is consulted directly only when the system is running\n",
      "# in single-user mode.  At other times this information is provided by\n",
      "# Open Directory.\n",
      "#\n",
      "# See the opendirectoryd(8) man page for additional information about\n",
      "# Open Directory.\n",
      "##\n",
      "nobody:*:-2:-2:Unprivileged User:/var/empty:/usr/bin/false\n",
      "root:*:0:0:System Administrator:/var/root:/bin/sh\n",
      "daemon:*:1:1:System Services:/var/root:/usr/bin/false\n",
      "\n",
      "**\n",
      "\n",
      "_uucp:*:4:4:Unix to Unix Copy Protocol:/var/spool/uucp:/usr/sbin/uucico\n",
      "_taskgated:*:13:13:Task Gate Daemon:/var/empty:/usr/bin/false\n",
      "_networkd:*:24:24:Network Services:/var/networkd:/usr/bin/false\n",
      "_installassistant:*:25:25:Install Assistant:/var/empty:/usr/bin/false\n",
      "_lp:*:26:26:Printing Services:/var/spool/cups:/usr/bin/false\n",
      "_postfix:*:27:27:Postfix Mail Server:/var/spool/postfix:/usr/bin/false\n",
      "_scsd:*:31:31:Service Configuration Service:/var/empty:/usr/bin/false\n",
      "_ces:*:32:32:Certificate Enrollment Service:/var/empty:/usr/bin/false\n",
      "_appstore:*:33:33:Mac App Store Service:/var/db/appstore:/usr/bin/false\n",
      "_mcxalr:*:54:54:MCX AppLaunch:/var/empty:/usr/bin/false\n",
      "_appleevents:*:55:55:AppleEvents Daemon:/var/empty:/usr/bin/false\n",
      "_geod:*:56:56:Geo Services Daemon:/var/db/geod:/usr/bin/false\n",
      "_devdocs:*:59:59:Developer Documentation:/var/empty:/usr/bin/false\n",
      "\n",
      "**\n",
      "\n",
      "_sandbox:*:60:60:Seatbelt:/var/empty:/usr/bin/false\n",
      "_mdnsresponder:*:65:65:mDNSResponder:/var/empty:/usr/bin/false\n",
      "_ard:*:67:67:Apple Remote Desktop:/var/empty:/usr/bin/false\n",
      "_www:*:70:70:World Wide Web Server:/Library/WebServer:/usr/bin/false\n",
      "_eppc:*:71:71:Apple Events User:/var/empty:/usr/bin/false\n",
      "_cvs:*:72:72:CVS Server:/var/empty:/usr/bin/false\n",
      "_svn:*:73:73:SVN Server:/var/empty:/usr/bin/false\n",
      "_mysql:*:74:74:MySQL Server:/var/empty:/usr/bin/false\n",
      "_sshd:*:75:75:sshd Privilege separation:/var/empty:/usr/bin/false\n",
      "_qtss:*:76:76:QuickTime Streaming Server:/var/empty:/usr/bin/false\n",
      "_cyrus:*:77:6:Cyrus Administrator:/var/imap:/usr/bin/false\n",
      "_mailman:*:78:78:Mailman List Server:/var/empty:/usr/bin/false\n",
      "_appserver:*:79:79:Application Server:/var/empty:/usr/bin/false\n",
      "\n",
      "**\n",
      "\n",
      "_clamav:*:82:82:ClamAV Daemon:/var/virusmails:/usr/bin/false\n",
      "_amavisd:*:83:83:AMaViS Daemon:/var/virusmails:/usr/bin/false\n",
      "_jabber:*:84:84:Jabber XMPP Server:/var/empty:/usr/bin/false\n",
      "_appowner:*:87:87:Application Owner:/var/empty:/usr/bin/false\n",
      "_windowserver:*:88:88:WindowServer:/var/empty:/usr/bin/false\n",
      "_spotlight:*:89:89:Spotlight:/var/empty:/usr/bin/false\n",
      "_tokend:*:91:91:Token Daemon:/var/empty:/usr/bin/false\n",
      "_securityagent:*:92:92:SecurityAgent:/var/db/securityagent:/usr/bin/false\n",
      "_calendar:*:93:93:Calendar:/var/empty:/usr/bin/false\n",
      "_teamsserver:*:94:94:TeamsServer:/var/teamsserver:/usr/bin/false\n",
      "_update_sharing:*:95:-2:Update Sharing:/var/empty:/usr/bin/false\n",
      "_installer:*:96:-2:Installer:/var/empty:/usr/bin/false\n",
      "_atsserver:*:97:97:ATS Server:/var/empty:/usr/bin/false\n",
      "\n",
      "**\n",
      "\n",
      "_ftp:*:98:-2:FTP Daemon:/var/empty:/usr/bin/false\n",
      "_unknown:*:99:99:Unknown User:/var/empty:/usr/bin/false\n",
      "_softwareupdate:*:200:200:Software Update Service:/var/db/softwareupdate:/usr/bin/false\n",
      "_coreaudiod:*:202:202:Core Audio Daemon:/var/empty:/usr/bin/false\n",
      "_screensaver:*:203:203:Screensaver:/var/empty:/usr/bin/false\n",
      "_locationd:*:205:205:Location Daemon:/var/db/locationd:/usr/bin/false\n",
      "_trustevaluationagent:*:208:208:Trust Evaluation Agent:/var/empty:/usr/bin/false\n",
      "_timezone:*:210:210:AutoTimeZoneDaemon:/var/empty:/usr/bin/false\n",
      "_lda:*:211:211:Local Delivery Agent:/var/empty:/usr/bin/false\n",
      "_cvmsroot:*:212:212:CVMS Root:/var/empty:/usr/bin/false\n",
      "_usbmuxd:*:213:213:iPhone OS Device Helper:/var/db/lockdown:/usr/bin/false\n",
      "_dovecot:*:214:6:Dovecot Administrator:/var/empty:/usr/bin/false\n",
      "_dpaudio:*:215:215:DP Audio:/var/empty:/usr/bin/false\n",
      "\n",
      "**\n",
      "\n",
      "_postgres:*:216:216:PostgreSQL Server:/var/empty:/usr/bin/false\n",
      "_krbtgt:*:217:-2:Kerberos Ticket Granting Ticket:/var/empty:/usr/bin/false\n",
      "_kadmin_admin:*:218:-2:Kerberos Admin Service:/var/empty:/usr/bin/false\n",
      "_kadmin_changepw:*:219:-2:Kerberos Change Password Service:/var/empty:/usr/bin/false\n",
      "_devicemgr:*:220:220:Device Management Server:/var/empty:/usr/bin/false\n",
      "_webauthserver:*:221:221:Web Auth Server:/var/empty:/usr/bin/false\n",
      "_netbios:*:222:222:NetBIOS:/var/empty:/usr/bin/false\n",
      "_warmd:*:224:224:Warm Daemon:/var/empty:/usr/bin/false\n",
      "_dovenull:*:227:227:Dovecot Authentication:/var/empty:/usr/bin/false\n",
      "_netstatistics:*:228:228:Network Statistics Daemon:/var/empty:/usr/bin/false\n",
      "_avbdeviced:*:229:-2:Ethernet AVB Device Daemon:/var/empty:/usr/bin/false\n",
      "_krb_krbtgt:*:230:-2:Open Directory Kerberos Ticket Granting Ticket:/var/empty:/usr/bin/false\n",
      "_krb_kadmin:*:231:-2:Open Directory Kerberos Admin Service:/var/empty:/usr/bin/false\n",
      "\n",
      "**\n",
      "\n",
      "_krb_changepw:*:232:-2:Open Directory Kerberos Change Password Service:/var/empty:/usr/bin/false\n",
      "_krb_kerberos:*:233:-2:Open Directory Kerberos:/var/empty:/usr/bin/false\n",
      "_krb_anonymous:*:234:-2:Open Directory Kerberos Anonymous:/var/empty:/usr/bin/false\n",
      "_assetcache:*:235:235:Asset Cache Service:/var/empty:/usr/bin/false\n",
      "_coremediaiod:*:236:236:Core Media IO Daemon:/var/empty:/usr/bin/false\n",
      "_launchservicesd:*:239:239:_launchservicesd:/var/empty:/usr/bin/false\n",
      "_iconservices:*:240:240:IconServices:/var/empty:/usr/bin/false\n",
      "_distnote:*:241:241:DistNote:/var/empty:/usr/bin/false\n",
      "_nsurlsessiond:*:242:242:NSURLSession Daemon:/var/db/nsurlsessiond:/usr/bin/false\n",
      "_displaypolicyd:*:244:244:Display Policy Daemon:/var/empty:/usr/bin/false\n",
      "_astris:*:245:245:Astris Services:/var/db/astris:/usr/bin/false\n",
      "_krbfast:*:246:-2:Kerberos FAST Account:/var/empty:/usr/bin/false\n",
      "_gamecontrollerd:*:247:247:Game Controller Daemon:/var/empty:/usr/bin/false\n",
      "\n",
      "**\n",
      "\n",
      "_mbsetupuser:*:248:248:Setup User:/var/setup:/bin/bash\n",
      "_ondemand:*:249:249:On Demand Resource Daemon:/var/db/ondemand:/usr/bin/false\n",
      "_xserverdocs:*:251:251:macOS Server Documents Service:/var/empty:/usr/bin/false\n",
      "_wwwproxy:*:252:252:WWW Proxy:/var/empty:/usr/bin/false\n",
      "_mobileasset:*:253:253:MobileAsset User:/var/ma:/usr/bin/false\n",
      "_findmydevice:*:254:254:Find My Device Daemon:/var/db/findmydevice:/usr/bin/false\n",
      "_datadetectors:*:257:257:DataDetectors:/var/db/datadetectors:/usr/bin/false\n",
      "_captiveagent:*:258:258:captiveagent:/var/empty:/usr/bin/false\n",
      "_ctkd:*:259:259:ctkd Account:/var/empty:/usr/bin/false\n",
      "_applepay:*:260:260:applepay Account:/var/db/applepay:/usr/bin/false\n",
      "_hidd:*:261:261:HID Service User:/var/db/hidd:/usr/bin/false\n",
      "_cmiodalassistants:*:262:262:CoreMedia IO Assistants User:/var/db/cmiodalassistants:/usr/bin/false\n",
      "_analyticsd:*:263:263:Analytics Daemon:/var/db/analyticsd:/usr/bin/false\n",
      "\n",
      "**\n",
      "\n",
      "_fpsd:*:265:265:FPS Daemon:/var/db/fpsd:/usr/bin/false\n",
      "_timed:*:266:266:Time Sync Daemon:/var/db/timed:/usr/bin/false\n",
      "_nearbyd:*:268:268:Proximity and Ranging Daemon:/var/db/nearbyd:/usr/bin/false\n",
      "_reportmemoryexception:*:269:269:ReportMemoryException:/var/db/reportmemoryexception:/usr/bin/false\n",
      "_driverkit:*:270:270:DriverKit:/var/empty:/usr/bin/false\n",
      "_diskimagesiod:*:271:271:DiskImages IO Daemon:/var/db/diskimagesiod:/usr/bin/false\n",
      "_logd:*:272:272:Log Daemon:/var/db/diagnostics:/usr/bin/false\n",
      "_appinstalld:*:273:273:App Install Daemon:/var/db/appinstalld:/usr/bin/false\n",
      "_installcoordinationd:*:274:274:Install Coordination Daemon:/var/db/installcoordinationd:/usr/bin/false\n",
      "_demod:*:275:275:Demo Daemon:/var/empty:/usr/bin/false\n",
      "_rmd:*:277:277:Remote Management Daemon:/var/db/rmd:/usr/bin/false\n",
      "_fud:*:278:278:Firmware Update Daemon:/var/db/fud:/usr/bin/false\n",
      "_knowledgegraphd:*:279:279:Knowledge Graph Daemon:/var/db/knowledgegraphd:/usr/bin/false\n",
      "\n",
      "**\n",
      "\n",
      "_coreml:*:280:280:CoreML Services:/var/empty:/usr/bin/false\n",
      "_trustd:*:282:282:trustd:/var/empty:/usr/bin/false\n",
      "_oahd:*:441:441:OAH Daemon:/var/empty:/usr/bin/false\n",
      "\n",
      "**\n",
      "\n"
     ]
    }
   ],
   "source": [
    "def read_n(filename, n):\n",
    "    f = open(filename)\n",
    "    \n",
    "    while True:\n",
    "        output = ''\n",
    "        for _ in range(n):\n",
    "            output  += f.readline()\n",
    "    \n",
    "        if output:  # not an empty string?\n",
    "            yield output\n",
    "        else:\n",
    "            break     # exit the while loop -- and thus the function -- thus raising StopIteration\n",
    "\n",
    "        \n",
    "for one_chunk in read_n('/etc/passwd', 13):\n",
    "    print(one_chunk, end='\\n**\\n\\n')"
   ]
  },
  {
   "cell_type": "code",
   "execution_count": 118,
   "id": "297553e2-3ebc-4b5f-9b91-a0e18b88e0f5",
   "metadata": {},
   "outputs": [
    {
     "name": "stdout",
     "output_type": "stream",
     "text": [
      "##\n",
      "# User Database\n",
      "# \n",
      "# Note that this file is consulted directly only when the system is running\n",
      "# in single-user mode.  At other times this information is provided by\n",
      "# Open Directory.\n",
      "#\n",
      "# See the opendirectoryd(8) man page for additional information about\n",
      "# Open Directory.\n",
      "##\n",
      "nobody:*:-2:-2:Unprivileged User:/var/empty:/usr/bin/false\n",
      "root:*:0:0:System Administrator:/var/root:/bin/sh\n",
      "daemon:*:1:1:System Services:/var/root:/usr/bin/false\n",
      "\n",
      "_uucp:*:4:4:Unix to Unix Copy Protocol:/var/spool/uucp:/usr/sbin/uucico\n",
      "_taskgated:*:13:13:Task Gate Daemon:/var/empty:/usr/bin/false\n",
      "_networkd:*:24:24:Network Services:/var/networkd:/usr/bin/false\n",
      "_installassistant:*:25:25:Install Assistant:/var/empty:/usr/bin/false\n",
      "_lp:*:26:26:Printing Services:/var/spool/cups:/usr/bin/false\n",
      "_postfix:*:27:27:Postfix Mail Server:/var/spool/postfix:/usr/bin/false\n",
      "_scsd:*:31:31:Service Configuration Service:/var/empty:/usr/bin/false\n",
      "_ces:*:32:32:Certificate Enrollment Service:/var/empty:/usr/bin/false\n",
      "_appstore:*:33:33:Mac App Store Service:/var/db/appstore:/usr/bin/false\n",
      "_mcxalr:*:54:54:MCX AppLaunch:/var/empty:/usr/bin/false\n",
      "_appleevents:*:55:55:AppleEvents Daemon:/var/empty:/usr/bin/false\n",
      "_geod:*:56:56:Geo Services Daemon:/var/db/geod:/usr/bin/false\n",
      "_devdocs:*:59:59:Developer Documentation:/var/empty:/usr/bin/false\n",
      "\n",
      "_sandbox:*:60:60:Seatbelt:/var/empty:/usr/bin/false\n",
      "_mdnsresponder:*:65:65:mDNSResponder:/var/empty:/usr/bin/false\n",
      "_ard:*:67:67:Apple Remote Desktop:/var/empty:/usr/bin/false\n",
      "_www:*:70:70:World Wide Web Server:/Library/WebServer:/usr/bin/false\n",
      "_eppc:*:71:71:Apple Events User:/var/empty:/usr/bin/false\n",
      "_cvs:*:72:72:CVS Server:/var/empty:/usr/bin/false\n",
      "_svn:*:73:73:SVN Server:/var/empty:/usr/bin/false\n",
      "_mysql:*:74:74:MySQL Server:/var/empty:/usr/bin/false\n",
      "_sshd:*:75:75:sshd Privilege separation:/var/empty:/usr/bin/false\n",
      "_qtss:*:76:76:QuickTime Streaming Server:/var/empty:/usr/bin/false\n",
      "_cyrus:*:77:6:Cyrus Administrator:/var/imap:/usr/bin/false\n",
      "_mailman:*:78:78:Mailman List Server:/var/empty:/usr/bin/false\n",
      "_appserver:*:79:79:Application Server:/var/empty:/usr/bin/false\n",
      "\n",
      "_clamav:*:82:82:ClamAV Daemon:/var/virusmails:/usr/bin/false\n",
      "_amavisd:*:83:83:AMaViS Daemon:/var/virusmails:/usr/bin/false\n",
      "_jabber:*:84:84:Jabber XMPP Server:/var/empty:/usr/bin/false\n",
      "_appowner:*:87:87:Application Owner:/var/empty:/usr/bin/false\n",
      "_windowserver:*:88:88:WindowServer:/var/empty:/usr/bin/false\n",
      "_spotlight:*:89:89:Spotlight:/var/empty:/usr/bin/false\n",
      "_tokend:*:91:91:Token Daemon:/var/empty:/usr/bin/false\n",
      "_securityagent:*:92:92:SecurityAgent:/var/db/securityagent:/usr/bin/false\n",
      "_calendar:*:93:93:Calendar:/var/empty:/usr/bin/false\n",
      "_teamsserver:*:94:94:TeamsServer:/var/teamsserver:/usr/bin/false\n",
      "_update_sharing:*:95:-2:Update Sharing:/var/empty:/usr/bin/false\n",
      "_installer:*:96:-2:Installer:/var/empty:/usr/bin/false\n",
      "_atsserver:*:97:97:ATS Server:/var/empty:/usr/bin/false\n",
      "\n",
      "_ftp:*:98:-2:FTP Daemon:/var/empty:/usr/bin/false\n",
      "_unknown:*:99:99:Unknown User:/var/empty:/usr/bin/false\n",
      "_softwareupdate:*:200:200:Software Update Service:/var/db/softwareupdate:/usr/bin/false\n",
      "_coreaudiod:*:202:202:Core Audio Daemon:/var/empty:/usr/bin/false\n",
      "_screensaver:*:203:203:Screensaver:/var/empty:/usr/bin/false\n",
      "_locationd:*:205:205:Location Daemon:/var/db/locationd:/usr/bin/false\n",
      "_trustevaluationagent:*:208:208:Trust Evaluation Agent:/var/empty:/usr/bin/false\n",
      "_timezone:*:210:210:AutoTimeZoneDaemon:/var/empty:/usr/bin/false\n",
      "_lda:*:211:211:Local Delivery Agent:/var/empty:/usr/bin/false\n",
      "_cvmsroot:*:212:212:CVMS Root:/var/empty:/usr/bin/false\n",
      "_usbmuxd:*:213:213:iPhone OS Device Helper:/var/db/lockdown:/usr/bin/false\n",
      "_dovecot:*:214:6:Dovecot Administrator:/var/empty:/usr/bin/false\n",
      "_dpaudio:*:215:215:DP Audio:/var/empty:/usr/bin/false\n",
      "\n",
      "_postgres:*:216:216:PostgreSQL Server:/var/empty:/usr/bin/false\n",
      "_krbtgt:*:217:-2:Kerberos Ticket Granting Ticket:/var/empty:/usr/bin/false\n",
      "_kadmin_admin:*:218:-2:Kerberos Admin Service:/var/empty:/usr/bin/false\n",
      "_kadmin_changepw:*:219:-2:Kerberos Change Password Service:/var/empty:/usr/bin/false\n",
      "_devicemgr:*:220:220:Device Management Server:/var/empty:/usr/bin/false\n",
      "_webauthserver:*:221:221:Web Auth Server:/var/empty:/usr/bin/false\n",
      "_netbios:*:222:222:NetBIOS:/var/empty:/usr/bin/false\n",
      "_warmd:*:224:224:Warm Daemon:/var/empty:/usr/bin/false\n",
      "_dovenull:*:227:227:Dovecot Authentication:/var/empty:/usr/bin/false\n",
      "_netstatistics:*:228:228:Network Statistics Daemon:/var/empty:/usr/bin/false\n",
      "_avbdeviced:*:229:-2:Ethernet AVB Device Daemon:/var/empty:/usr/bin/false\n",
      "_krb_krbtgt:*:230:-2:Open Directory Kerberos Ticket Granting Ticket:/var/empty:/usr/bin/false\n",
      "_krb_kadmin:*:231:-2:Open Directory Kerberos Admin Service:/var/empty:/usr/bin/false\n",
      "\n",
      "_krb_changepw:*:232:-2:Open Directory Kerberos Change Password Service:/var/empty:/usr/bin/false\n",
      "_krb_kerberos:*:233:-2:Open Directory Kerberos:/var/empty:/usr/bin/false\n",
      "_krb_anonymous:*:234:-2:Open Directory Kerberos Anonymous:/var/empty:/usr/bin/false\n",
      "_assetcache:*:235:235:Asset Cache Service:/var/empty:/usr/bin/false\n",
      "_coremediaiod:*:236:236:Core Media IO Daemon:/var/empty:/usr/bin/false\n",
      "_launchservicesd:*:239:239:_launchservicesd:/var/empty:/usr/bin/false\n",
      "_iconservices:*:240:240:IconServices:/var/empty:/usr/bin/false\n",
      "_distnote:*:241:241:DistNote:/var/empty:/usr/bin/false\n",
      "_nsurlsessiond:*:242:242:NSURLSession Daemon:/var/db/nsurlsessiond:/usr/bin/false\n",
      "_displaypolicyd:*:244:244:Display Policy Daemon:/var/empty:/usr/bin/false\n",
      "_astris:*:245:245:Astris Services:/var/db/astris:/usr/bin/false\n",
      "_krbfast:*:246:-2:Kerberos FAST Account:/var/empty:/usr/bin/false\n",
      "_gamecontrollerd:*:247:247:Game Controller Daemon:/var/empty:/usr/bin/false\n",
      "\n",
      "_mbsetupuser:*:248:248:Setup User:/var/setup:/bin/bash\n",
      "_ondemand:*:249:249:On Demand Resource Daemon:/var/db/ondemand:/usr/bin/false\n",
      "_xserverdocs:*:251:251:macOS Server Documents Service:/var/empty:/usr/bin/false\n",
      "_wwwproxy:*:252:252:WWW Proxy:/var/empty:/usr/bin/false\n",
      "_mobileasset:*:253:253:MobileAsset User:/var/ma:/usr/bin/false\n",
      "_findmydevice:*:254:254:Find My Device Daemon:/var/db/findmydevice:/usr/bin/false\n",
      "_datadetectors:*:257:257:DataDetectors:/var/db/datadetectors:/usr/bin/false\n",
      "_captiveagent:*:258:258:captiveagent:/var/empty:/usr/bin/false\n",
      "_ctkd:*:259:259:ctkd Account:/var/empty:/usr/bin/false\n",
      "_applepay:*:260:260:applepay Account:/var/db/applepay:/usr/bin/false\n",
      "_hidd:*:261:261:HID Service User:/var/db/hidd:/usr/bin/false\n",
      "_cmiodalassistants:*:262:262:CoreMedia IO Assistants User:/var/db/cmiodalassistants:/usr/bin/false\n",
      "_analyticsd:*:263:263:Analytics Daemon:/var/db/analyticsd:/usr/bin/false\n",
      "\n",
      "_fpsd:*:265:265:FPS Daemon:/var/db/fpsd:/usr/bin/false\n",
      "_timed:*:266:266:Time Sync Daemon:/var/db/timed:/usr/bin/false\n",
      "_nearbyd:*:268:268:Proximity and Ranging Daemon:/var/db/nearbyd:/usr/bin/false\n",
      "_reportmemoryexception:*:269:269:ReportMemoryException:/var/db/reportmemoryexception:/usr/bin/false\n",
      "_driverkit:*:270:270:DriverKit:/var/empty:/usr/bin/false\n",
      "_diskimagesiod:*:271:271:DiskImages IO Daemon:/var/db/diskimagesiod:/usr/bin/false\n",
      "_logd:*:272:272:Log Daemon:/var/db/diagnostics:/usr/bin/false\n",
      "_appinstalld:*:273:273:App Install Daemon:/var/db/appinstalld:/usr/bin/false\n",
      "_installcoordinationd:*:274:274:Install Coordination Daemon:/var/db/installcoordinationd:/usr/bin/false\n",
      "_demod:*:275:275:Demo Daemon:/var/empty:/usr/bin/false\n",
      "_rmd:*:277:277:Remote Management Daemon:/var/db/rmd:/usr/bin/false\n",
      "_fud:*:278:278:Firmware Update Daemon:/var/db/fud:/usr/bin/false\n",
      "_knowledgegraphd:*:279:279:Knowledge Graph Daemon:/var/db/knowledgegraphd:/usr/bin/false\n",
      "\n",
      "_coreml:*:280:280:CoreML Services:/var/empty:/usr/bin/false\n",
      "_trustd:*:282:282:trustd:/var/empty:/usr/bin/false\n",
      "_oahd:*:441:441:OAH Daemon:/var/empty:/usr/bin/false\n",
      "\n"
     ]
    }
   ],
   "source": [
    "def read_n(filename, n):\n",
    "    f = open(filename)\n",
    "    \n",
    "    while True:\n",
    "        output = ''.join([f.readline()\n",
    "                          for _ in range(n)])\n",
    "\n",
    "        if output:  # not an empty string?\n",
    "            yield output\n",
    "        else:\n",
    "            break     # exit the while loop -- and thus the function -- thus raising StopIteration\n",
    "\n",
    "        \n",
    "for one_chunk in read_n('/etc/passwd', 13):\n",
    "    print(one_chunk)"
   ]
  },
  {
   "cell_type": "code",
   "execution_count": 125,
   "id": "a3b018f1-137b-4bab-977b-e7bae0db9db9",
   "metadata": {},
   "outputs": [],
   "source": [
    "def string_add():\n",
    "    s = ''\n",
    "\n",
    "    for i in range(100_000):\n",
    "        s += 'a' * i\n",
    "        \n",
    "    return s"
   ]
  },
  {
   "cell_type": "code",
   "execution_count": 124,
   "id": "22153392-78df-481a-b0c6-b6d7ccaf38ce",
   "metadata": {},
   "outputs": [],
   "source": [
    "def list_add():\n",
    "    output = []\n",
    "\n",
    "    for i in range(100_000):\n",
    "        output.append('a' * i)\n",
    "        \n",
    "    return ''.join(output)"
   ]
  },
  {
   "cell_type": "code",
   "execution_count": 126,
   "id": "0ff31861-d264-4d90-ac01-477a01ddc36a",
   "metadata": {},
   "outputs": [
    {
     "name": "stdout",
     "output_type": "stream",
     "text": [
      "2.06 s ± 14.4 ms per loop (mean ± std. dev. of 7 runs, 1 loop each)\n"
     ]
    }
   ],
   "source": [
    "%timeit string_add()"
   ]
  },
  {
   "cell_type": "code",
   "execution_count": 127,
   "id": "eaa4419d-618e-4a63-8919-02246dbf899f",
   "metadata": {},
   "outputs": [
    {
     "name": "stdout",
     "output_type": "stream",
     "text": [
      "4.26 s ± 93.8 ms per loop (mean ± std. dev. of 7 runs, 1 loop each)\n"
     ]
    }
   ],
   "source": [
    "%timeit list_add()"
   ]
  },
  {
   "cell_type": "code",
   "execution_count": 132,
   "id": "d0fbc197-d10f-4e4c-8fec-1c622ddcaf6b",
   "metadata": {},
   "outputs": [],
   "source": [
    "# using a generator function, we can now basically recreate a for loop!\n",
    "\n",
    "def myfor(data):\n",
    "    i = iter(data)  # runs iter to get the iterator\n",
    "    \n",
    "    while True:     # runs next repeatedly until getting StopIteration\n",
    "        try:\n",
    "            yield next(i)  # yields one value at a time\n",
    "        except StopIteration:\n",
    "            break"
   ]
  },
  {
   "cell_type": "code",
   "execution_count": 133,
   "id": "a63004e8-d157-45b5-9f34-a563844ca470",
   "metadata": {},
   "outputs": [
    {
     "name": "stdout",
     "output_type": "stream",
     "text": [
      "a\n",
      "b\n",
      "c\n",
      "d\n"
     ]
    }
   ],
   "source": [
    "for one_item in myfor('abcd'):\n",
    "    print(one_item)"
   ]
  },
  {
   "cell_type": "code",
   "execution_count": 134,
   "id": "2b968d8d-587e-4769-9e3c-aa1e5bcef0e4",
   "metadata": {},
   "outputs": [
    {
     "data": {
      "text/plain": [
       "[25, 16, 9, 4, 1, 0, 1, 4, 9, 16]"
      ]
     },
     "execution_count": 134,
     "metadata": {},
     "output_type": "execute_result"
    }
   ],
   "source": [
    "# list comprehension\n",
    "[x**2\n",
    " for x in range(-5, 5)]"
   ]
  },
  {
   "cell_type": "code",
   "execution_count": 135,
   "id": "3ff2525e-7718-4330-ae1e-28ddb237f253",
   "metadata": {},
   "outputs": [
    {
     "data": {
      "text/plain": [
       "{0, 1, 4, 9, 16, 25}"
      ]
     },
     "execution_count": 135,
     "metadata": {},
     "output_type": "execute_result"
    }
   ],
   "source": [
    "# set comprehension\n",
    "{x**2\n",
    " for x in range(-5, 5)}"
   ]
  },
  {
   "cell_type": "code",
   "execution_count": 136,
   "id": "53dd6854-9b59-4041-a40d-7f256ecc8499",
   "metadata": {},
   "outputs": [
    {
     "data": {
      "text/plain": [
       "{-5: 25, -4: 16, -3: 9, -2: 4, -1: 1, 0: 0, 1: 1, 2: 4, 3: 9, 4: 16}"
      ]
     },
     "execution_count": 136,
     "metadata": {},
     "output_type": "execute_result"
    }
   ],
   "source": [
    "# dict comprehension\n",
    "{x : x**2\n",
    " for x in range(-5, 5)}"
   ]
  },
  {
   "cell_type": "code",
   "execution_count": 138,
   "id": "3b678863-654e-42a4-80bf-df075b29c538",
   "metadata": {},
   "outputs": [
    {
     "data": {
      "text/plain": [
       "<generator object <genexpr> at 0x110792490>"
      ]
     },
     "execution_count": 138,
     "metadata": {},
     "output_type": "execute_result"
    }
   ],
   "source": [
    "# generator expression or generator comprehension\n",
    "# it looks like a list comprehension... but returns a generator\n",
    "# only when we ask for \"next\" on this object do we get the next object returned\n",
    "(x**2\n",
    " for x in range(-5, 5))"
   ]
  },
  {
   "cell_type": "code",
   "execution_count": 139,
   "id": "aac8f7f8-e166-47d4-bfa6-184275b039a0",
   "metadata": {},
   "outputs": [],
   "source": [
    "g = (x**2\n",
    " for x in range(-5, 5))"
   ]
  },
  {
   "cell_type": "code",
   "execution_count": 140,
   "id": "e0c94ce1-49a3-46b0-9038-a8b4916b5401",
   "metadata": {},
   "outputs": [
    {
     "data": {
      "text/plain": [
       "25"
      ]
     },
     "execution_count": 140,
     "metadata": {},
     "output_type": "execute_result"
    }
   ],
   "source": [
    "next(g)"
   ]
  },
  {
   "cell_type": "code",
   "execution_count": 141,
   "id": "1557547b-553b-433a-88c1-f3a18dc8da46",
   "metadata": {},
   "outputs": [
    {
     "data": {
      "text/plain": [
       "16"
      ]
     },
     "execution_count": 141,
     "metadata": {},
     "output_type": "execute_result"
    }
   ],
   "source": [
    "next(g)\n"
   ]
  },
  {
   "cell_type": "code",
   "execution_count": 142,
   "id": "110c1333-8851-477f-b9fa-b1e8b96f329b",
   "metadata": {},
   "outputs": [
    {
     "data": {
      "text/plain": [
       "9"
      ]
     },
     "execution_count": 142,
     "metadata": {},
     "output_type": "execute_result"
    }
   ],
   "source": [
    "next(g)"
   ]
  },
  {
   "cell_type": "code",
   "execution_count": 144,
   "id": "18aa4d44-9e12-4c4e-9af9-1e68fd6c5d19",
   "metadata": {
    "collapsed": true,
    "jupyter": {
     "outputs_hidden": true
    },
    "tags": []
   },
   "outputs": [
    {
     "name": "stdout",
     "output_type": "stream",
     "text": [
      "##\n",
      "# User Database\n",
      "# \n",
      "# Note that this file is consulted directly only when the system is running\n",
      "# in single-user mode.  At other times this information is provided by\n",
      "# Open Directory.\n",
      "#\n",
      "# See the opendirectoryd(8) man page for additional information about\n",
      "# Open Directory.\n",
      "##\n",
      "nobody:*:-2:-2:Unprivileged User:/var/empty:/usr/bin/false\n",
      "root:*:0:0:System Administrator:/var/root:/bin/sh\n",
      "daemon:*:1:1:System Services:/var/root:/usr/bin/false\n",
      "\n",
      "_uucp:*:4:4:Unix to Unix Copy Protocol:/var/spool/uucp:/usr/sbin/uucico\n",
      "_taskgated:*:13:13:Task Gate Daemon:/var/empty:/usr/bin/false\n",
      "_networkd:*:24:24:Network Services:/var/networkd:/usr/bin/false\n",
      "_installassistant:*:25:25:Install Assistant:/var/empty:/usr/bin/false\n",
      "_lp:*:26:26:Printing Services:/var/spool/cups:/usr/bin/false\n",
      "_postfix:*:27:27:Postfix Mail Server:/var/spool/postfix:/usr/bin/false\n",
      "_scsd:*:31:31:Service Configuration Service:/var/empty:/usr/bin/false\n",
      "_ces:*:32:32:Certificate Enrollment Service:/var/empty:/usr/bin/false\n",
      "_appstore:*:33:33:Mac App Store Service:/var/db/appstore:/usr/bin/false\n",
      "_mcxalr:*:54:54:MCX AppLaunch:/var/empty:/usr/bin/false\n",
      "_appleevents:*:55:55:AppleEvents Daemon:/var/empty:/usr/bin/false\n",
      "_geod:*:56:56:Geo Services Daemon:/var/db/geod:/usr/bin/false\n",
      "_devdocs:*:59:59:Developer Documentation:/var/empty:/usr/bin/false\n",
      "\n",
      "_sandbox:*:60:60:Seatbelt:/var/empty:/usr/bin/false\n",
      "_mdnsresponder:*:65:65:mDNSResponder:/var/empty:/usr/bin/false\n",
      "_ard:*:67:67:Apple Remote Desktop:/var/empty:/usr/bin/false\n",
      "_www:*:70:70:World Wide Web Server:/Library/WebServer:/usr/bin/false\n",
      "_eppc:*:71:71:Apple Events User:/var/empty:/usr/bin/false\n",
      "_cvs:*:72:72:CVS Server:/var/empty:/usr/bin/false\n",
      "_svn:*:73:73:SVN Server:/var/empty:/usr/bin/false\n",
      "_mysql:*:74:74:MySQL Server:/var/empty:/usr/bin/false\n",
      "_sshd:*:75:75:sshd Privilege separation:/var/empty:/usr/bin/false\n",
      "_qtss:*:76:76:QuickTime Streaming Server:/var/empty:/usr/bin/false\n",
      "_cyrus:*:77:6:Cyrus Administrator:/var/imap:/usr/bin/false\n",
      "_mailman:*:78:78:Mailman List Server:/var/empty:/usr/bin/false\n",
      "_appserver:*:79:79:Application Server:/var/empty:/usr/bin/false\n",
      "\n",
      "_clamav:*:82:82:ClamAV Daemon:/var/virusmails:/usr/bin/false\n",
      "_amavisd:*:83:83:AMaViS Daemon:/var/virusmails:/usr/bin/false\n",
      "_jabber:*:84:84:Jabber XMPP Server:/var/empty:/usr/bin/false\n",
      "_appowner:*:87:87:Application Owner:/var/empty:/usr/bin/false\n",
      "_windowserver:*:88:88:WindowServer:/var/empty:/usr/bin/false\n",
      "_spotlight:*:89:89:Spotlight:/var/empty:/usr/bin/false\n",
      "_tokend:*:91:91:Token Daemon:/var/empty:/usr/bin/false\n",
      "_securityagent:*:92:92:SecurityAgent:/var/db/securityagent:/usr/bin/false\n",
      "_calendar:*:93:93:Calendar:/var/empty:/usr/bin/false\n",
      "_teamsserver:*:94:94:TeamsServer:/var/teamsserver:/usr/bin/false\n",
      "_update_sharing:*:95:-2:Update Sharing:/var/empty:/usr/bin/false\n",
      "_installer:*:96:-2:Installer:/var/empty:/usr/bin/false\n",
      "_atsserver:*:97:97:ATS Server:/var/empty:/usr/bin/false\n",
      "\n",
      "_ftp:*:98:-2:FTP Daemon:/var/empty:/usr/bin/false\n",
      "_unknown:*:99:99:Unknown User:/var/empty:/usr/bin/false\n",
      "_softwareupdate:*:200:200:Software Update Service:/var/db/softwareupdate:/usr/bin/false\n",
      "_coreaudiod:*:202:202:Core Audio Daemon:/var/empty:/usr/bin/false\n",
      "_screensaver:*:203:203:Screensaver:/var/empty:/usr/bin/false\n",
      "_locationd:*:205:205:Location Daemon:/var/db/locationd:/usr/bin/false\n",
      "_trustevaluationagent:*:208:208:Trust Evaluation Agent:/var/empty:/usr/bin/false\n",
      "_timezone:*:210:210:AutoTimeZoneDaemon:/var/empty:/usr/bin/false\n",
      "_lda:*:211:211:Local Delivery Agent:/var/empty:/usr/bin/false\n",
      "_cvmsroot:*:212:212:CVMS Root:/var/empty:/usr/bin/false\n",
      "_usbmuxd:*:213:213:iPhone OS Device Helper:/var/db/lockdown:/usr/bin/false\n",
      "_dovecot:*:214:6:Dovecot Administrator:/var/empty:/usr/bin/false\n",
      "_dpaudio:*:215:215:DP Audio:/var/empty:/usr/bin/false\n",
      "\n",
      "_postgres:*:216:216:PostgreSQL Server:/var/empty:/usr/bin/false\n",
      "_krbtgt:*:217:-2:Kerberos Ticket Granting Ticket:/var/empty:/usr/bin/false\n",
      "_kadmin_admin:*:218:-2:Kerberos Admin Service:/var/empty:/usr/bin/false\n",
      "_kadmin_changepw:*:219:-2:Kerberos Change Password Service:/var/empty:/usr/bin/false\n",
      "_devicemgr:*:220:220:Device Management Server:/var/empty:/usr/bin/false\n",
      "_webauthserver:*:221:221:Web Auth Server:/var/empty:/usr/bin/false\n",
      "_netbios:*:222:222:NetBIOS:/var/empty:/usr/bin/false\n",
      "_warmd:*:224:224:Warm Daemon:/var/empty:/usr/bin/false\n",
      "_dovenull:*:227:227:Dovecot Authentication:/var/empty:/usr/bin/false\n",
      "_netstatistics:*:228:228:Network Statistics Daemon:/var/empty:/usr/bin/false\n",
      "_avbdeviced:*:229:-2:Ethernet AVB Device Daemon:/var/empty:/usr/bin/false\n",
      "_krb_krbtgt:*:230:-2:Open Directory Kerberos Ticket Granting Ticket:/var/empty:/usr/bin/false\n",
      "_krb_kadmin:*:231:-2:Open Directory Kerberos Admin Service:/var/empty:/usr/bin/false\n",
      "\n",
      "_krb_changepw:*:232:-2:Open Directory Kerberos Change Password Service:/var/empty:/usr/bin/false\n",
      "_krb_kerberos:*:233:-2:Open Directory Kerberos:/var/empty:/usr/bin/false\n",
      "_krb_anonymous:*:234:-2:Open Directory Kerberos Anonymous:/var/empty:/usr/bin/false\n",
      "_assetcache:*:235:235:Asset Cache Service:/var/empty:/usr/bin/false\n",
      "_coremediaiod:*:236:236:Core Media IO Daemon:/var/empty:/usr/bin/false\n",
      "_launchservicesd:*:239:239:_launchservicesd:/var/empty:/usr/bin/false\n",
      "_iconservices:*:240:240:IconServices:/var/empty:/usr/bin/false\n",
      "_distnote:*:241:241:DistNote:/var/empty:/usr/bin/false\n",
      "_nsurlsessiond:*:242:242:NSURLSession Daemon:/var/db/nsurlsessiond:/usr/bin/false\n",
      "_displaypolicyd:*:244:244:Display Policy Daemon:/var/empty:/usr/bin/false\n",
      "_astris:*:245:245:Astris Services:/var/db/astris:/usr/bin/false\n",
      "_krbfast:*:246:-2:Kerberos FAST Account:/var/empty:/usr/bin/false\n",
      "_gamecontrollerd:*:247:247:Game Controller Daemon:/var/empty:/usr/bin/false\n",
      "\n",
      "_mbsetupuser:*:248:248:Setup User:/var/setup:/bin/bash\n",
      "_ondemand:*:249:249:On Demand Resource Daemon:/var/db/ondemand:/usr/bin/false\n",
      "_xserverdocs:*:251:251:macOS Server Documents Service:/var/empty:/usr/bin/false\n",
      "_wwwproxy:*:252:252:WWW Proxy:/var/empty:/usr/bin/false\n",
      "_mobileasset:*:253:253:MobileAsset User:/var/ma:/usr/bin/false\n",
      "_findmydevice:*:254:254:Find My Device Daemon:/var/db/findmydevice:/usr/bin/false\n",
      "_datadetectors:*:257:257:DataDetectors:/var/db/datadetectors:/usr/bin/false\n",
      "_captiveagent:*:258:258:captiveagent:/var/empty:/usr/bin/false\n",
      "_ctkd:*:259:259:ctkd Account:/var/empty:/usr/bin/false\n",
      "_applepay:*:260:260:applepay Account:/var/db/applepay:/usr/bin/false\n",
      "_hidd:*:261:261:HID Service User:/var/db/hidd:/usr/bin/false\n",
      "_cmiodalassistants:*:262:262:CoreMedia IO Assistants User:/var/db/cmiodalassistants:/usr/bin/false\n",
      "_analyticsd:*:263:263:Analytics Daemon:/var/db/analyticsd:/usr/bin/false\n",
      "\n",
      "_fpsd:*:265:265:FPS Daemon:/var/db/fpsd:/usr/bin/false\n",
      "_timed:*:266:266:Time Sync Daemon:/var/db/timed:/usr/bin/false\n",
      "_nearbyd:*:268:268:Proximity and Ranging Daemon:/var/db/nearbyd:/usr/bin/false\n",
      "_reportmemoryexception:*:269:269:ReportMemoryException:/var/db/reportmemoryexception:/usr/bin/false\n",
      "_driverkit:*:270:270:DriverKit:/var/empty:/usr/bin/false\n",
      "_diskimagesiod:*:271:271:DiskImages IO Daemon:/var/db/diskimagesiod:/usr/bin/false\n",
      "_logd:*:272:272:Log Daemon:/var/db/diagnostics:/usr/bin/false\n",
      "_appinstalld:*:273:273:App Install Daemon:/var/db/appinstalld:/usr/bin/false\n",
      "_installcoordinationd:*:274:274:Install Coordination Daemon:/var/db/installcoordinationd:/usr/bin/false\n",
      "_demod:*:275:275:Demo Daemon:/var/empty:/usr/bin/false\n",
      "_rmd:*:277:277:Remote Management Daemon:/var/db/rmd:/usr/bin/false\n",
      "_fud:*:278:278:Firmware Update Daemon:/var/db/fud:/usr/bin/false\n",
      "_knowledgegraphd:*:279:279:Knowledge Graph Daemon:/var/db/knowledgegraphd:/usr/bin/false\n",
      "\n",
      "_coreml:*:280:280:CoreML Services:/var/empty:/usr/bin/false\n",
      "_trustd:*:282:282:trustd:/var/empty:/usr/bin/false\n",
      "_oahd:*:441:441:OAH Daemon:/var/empty:/usr/bin/false\n",
      "\n"
     ]
    }
   ],
   "source": [
    "def read_n(filename, n):\n",
    "    f = open(filename)\n",
    "    \n",
    "    while True:\n",
    "        output = ''.join(f.readline()   # you only need 1 set of () when passing a generator expression to a function\n",
    "                          for _ in range(n))\n",
    "\n",
    "        if output:  # not an empty string?\n",
    "            yield output\n",
    "        else:\n",
    "            break     # exit the while loop -- and thus the function -- thus raising StopIteration\n",
    "\n",
    "        \n",
    "for one_chunk in read_n('/etc/passwd', 13):\n",
    "    print(one_chunk)"
   ]
  },
  {
   "cell_type": "code",
   "execution_count": 145,
   "id": "0db4cac1-621e-4e59-8d68-b97796dda3e0",
   "metadata": {},
   "outputs": [],
   "source": [
    "def pl_word(one_word):\n",
    "    if one_word[0] in 'aeiou':\n",
    "        return one_word + 'way'    # starts with a vowel? add \"way\" to the end of it\n",
    "    else:\n",
    "        return one_word[1:] + one_word[0] + 'ay'  # otherwise, move 1st letter to end and add 'ay'"
   ]
  },
  {
   "cell_type": "code",
   "execution_count": 146,
   "id": "ece8f38a-1580-4521-bc4a-89c663e3b4f0",
   "metadata": {},
   "outputs": [
    {
     "data": {
      "text/plain": [
       "'ellohay'"
      ]
     },
     "execution_count": 146,
     "metadata": {},
     "output_type": "execute_result"
    }
   ],
   "source": [
    "pl_word('hello')"
   ]
  },
  {
   "cell_type": "code",
   "execution_count": 147,
   "id": "ac80d528-7e46-4379-bf2b-cca143a5cd16",
   "metadata": {},
   "outputs": [
    {
     "data": {
      "text/plain": [
       "'apayapay'"
      ]
     },
     "execution_count": 147,
     "metadata": {},
     "output_type": "execute_result"
    }
   ],
   "source": [
    "pl_word('papaya')"
   ]
  },
  {
   "cell_type": "code",
   "execution_count": 148,
   "id": "5ad3ab8a-bc44-4e6a-aa35-e0e62f8c856b",
   "metadata": {},
   "outputs": [
    {
     "data": {
      "text/plain": [
       "['ostgreSQLPay',\n",
       " 'ashay',\n",
       " 'onglay',\n",
       " 'laimedcay',\n",
       " 'otay',\n",
       " 'ebay',\n",
       " 'hetay',\n",
       " 'ostmay',\n",
       " 'advancedway',\n",
       " 'open-sourceway',\n",
       " 'elationalray',\n",
       " 'atabase.day',\n",
       " 'orFay',\n",
       " 'hosetay',\n",
       " 'ofway',\n",
       " 'usway',\n",
       " 'howay',\n",
       " 'avehay',\n",
       " 'eenbay',\n",
       " 'usingway',\n",
       " 'itway',\n",
       " 'orfay',\n",
       " 'away',\n",
       " 'onglay',\n",
       " 'ime,tay',\n",
       " \"here'stay\",\n",
       " 'onay',\n",
       " 'oubtday',\n",
       " 'hattay',\n",
       " 'histay',\n",
       " 'isway',\n",
       " 'rue;tay',\n",
       " 'ostgreSQLPay',\n",
       " 'ashay',\n",
       " 'imetay',\n",
       " 'andway',\n",
       " 'againway',\n",
       " 'emonstratedday',\n",
       " 'itsway',\n",
       " 'abilityway',\n",
       " 'otay',\n",
       " 'andlehay',\n",
       " 'ighhay',\n",
       " 'oadslay',\n",
       " 'andway',\n",
       " 'omplexcay',\n",
       " 'ueriesqay',\n",
       " 'hileway',\n",
       " 'rovidingpay',\n",
       " 'away',\n",
       " 'ichray',\n",
       " 'etsay',\n",
       " 'ofway',\n",
       " 'eaturesfay',\n",
       " 'andway',\n",
       " 'ock-solidray',\n",
       " 'tability.say',\n",
       " 'utBay',\n",
       " 'orfay',\n",
       " 'allway',\n",
       " 'ofway',\n",
       " 'hetay',\n",
       " 'amazingway',\n",
       " 'unctionalityfay',\n",
       " 'hattay',\n",
       " 'ostgreSQLPay',\n",
       " 'offers,way',\n",
       " 'heretay',\n",
       " 'avehay',\n",
       " 'onglay',\n",
       " 'eenbay',\n",
       " 'apsgay',\n",
       " 'andway',\n",
       " 'oles.hay',\n",
       " \"'veIay\",\n",
       " 'eenbay',\n",
       " 'inway',\n",
       " 'eetingsmay',\n",
       " 'ithway',\n",
       " 'onsultingcay',\n",
       " 'lientscay',\n",
       " 'howay',\n",
       " 'urrentlycay',\n",
       " 'useway',\n",
       " 'racleOay',\n",
       " 'orway',\n",
       " 'icrosoftMay',\n",
       " 'QLSay',\n",
       " 'erver,Say',\n",
       " 'andway',\n",
       " 'areway',\n",
       " 'hinkingtay',\n",
       " 'ofway',\n",
       " 'usingway',\n",
       " 'ostgreSQL,Pay',\n",
       " 'andway',\n",
       " 'howay',\n",
       " 'askway',\n",
       " 'emay',\n",
       " 'aboutway',\n",
       " 'uchsay',\n",
       " 'opicstay',\n",
       " 'asway',\n",
       " 'artitioning.pay',\n",
       " 'rOay',\n",
       " 'ueryqay',\n",
       " 'arallelization.pay',\n",
       " 'ndAay',\n",
       " 'orfay',\n",
       " 'ears,yay',\n",
       " \"'veIay\",\n",
       " 'eenbay',\n",
       " 'orcedfay',\n",
       " 'otay',\n",
       " 'aysay',\n",
       " 'otay',\n",
       " 'hem,tay',\n",
       " 'Um,\"ay',\n",
       " \"hat'stay\",\n",
       " 'rue.tay',\n",
       " \"ostgreSQL'sPay\",\n",
       " 'unctionalityfay',\n",
       " 'inway',\n",
       " 'hattay',\n",
       " 'areaway',\n",
       " 'isway',\n",
       " 'tillsay',\n",
       " 'airlyfay',\n",
       " 'eak.\"way',\n",
       " 'Iay',\n",
       " 'asway',\n",
       " 'hustay',\n",
       " 'uiteqay',\n",
       " 'excitedway',\n",
       " 'henway',\n",
       " 'ostgreSQLPay',\n",
       " '0.01ay',\n",
       " 'asway',\n",
       " 'eleasedray',\n",
       " 'inway',\n",
       " 'ctoberOay',\n",
       " '017,2ay',\n",
       " 'ringingbay',\n",
       " 'ithway',\n",
       " 'itway',\n",
       " 'away',\n",
       " 'lewsay',\n",
       " 'ofway',\n",
       " 'ewnay',\n",
       " 'eaturesfay',\n",
       " 'andway',\n",
       " 'enhancements.way',\n",
       " 'rue,Tay',\n",
       " 'omesay',\n",
       " 'ofway',\n",
       " 'hesetay',\n",
       " 'eaturesfay',\n",
       " 'tillsay',\n",
       " \"aren'tway\",\n",
       " 'asway',\n",
       " 'omplexcay',\n",
       " 'orway',\n",
       " 'ophisticatedsay',\n",
       " 'asway',\n",
       " 'ouyay',\n",
       " 'ightmay',\n",
       " 'indfay',\n",
       " 'inway',\n",
       " 'ommercialcay',\n",
       " 'atabases.day',\n",
       " 'utBay',\n",
       " 'heytay',\n",
       " 'oday',\n",
       " 'emonstrateday',\n",
       " 'hattay',\n",
       " 'overway',\n",
       " 'ime,tay',\n",
       " 'ostgreSQLPay',\n",
       " 'isway',\n",
       " 'offeringway',\n",
       " 'anway',\n",
       " 'amazingway',\n",
       " 'amountway',\n",
       " 'ofway',\n",
       " 'unctionalityfay',\n",
       " 'orfay',\n",
       " 'anyway',\n",
       " 'atabase,day',\n",
       " 'etlay',\n",
       " 'aloneway',\n",
       " 'anway',\n",
       " 'open-sourceway',\n",
       " 'roject.pay',\n",
       " 'ndAay',\n",
       " 'inway',\n",
       " 'almostway',\n",
       " 'everyway',\n",
       " 'ase,cay',\n",
       " 'hetay',\n",
       " 'urrentcay',\n",
       " 'unctionalityfay',\n",
       " 'isway',\n",
       " 'ustjay',\n",
       " 'hetay',\n",
       " 'irstfay',\n",
       " 'artpay',\n",
       " 'ofway',\n",
       " 'away',\n",
       " 'ong-termlay',\n",
       " 'oadmapray',\n",
       " 'hattay',\n",
       " 'hetay',\n",
       " 'evelopersday',\n",
       " 'ontinuecay',\n",
       " 'otay',\n",
       " 'ollow.fay',\n",
       " 'nIay',\n",
       " 'histay',\n",
       " 'article,way',\n",
       " \"'mIay\",\n",
       " 'oinggay',\n",
       " 'otay',\n",
       " 'eviewray',\n",
       " 'omesay',\n",
       " 'ofway',\n",
       " 'hetay',\n",
       " 'ewestnay',\n",
       " 'andway',\n",
       " 'ostmay',\n",
       " 'interestingway',\n",
       " 'eaturesfay',\n",
       " 'inway',\n",
       " 'ostgreSQLPay',\n",
       " '01ay',\n",
       " '--ay',\n",
       " 'otnay',\n",
       " 'onlyway',\n",
       " 'hatway',\n",
       " 'heytay',\n",
       " 'ancay',\n",
       " 'oday',\n",
       " 'orfay',\n",
       " 'ouyay',\n",
       " 'ow,nay',\n",
       " 'utbay',\n",
       " 'hatway',\n",
       " 'eway',\n",
       " 'ancay',\n",
       " 'expectway',\n",
       " 'otay',\n",
       " 'eesay',\n",
       " 'romfay',\n",
       " 'hemtay',\n",
       " 'inway',\n",
       " 'hetay',\n",
       " 'uture,fay',\n",
       " 'asway',\n",
       " 'ell.way',\n",
       " 'fIay',\n",
       " 'ouyay',\n",
       " \"aven'thay\",\n",
       " 'etyay',\n",
       " 'orkedway',\n",
       " 'ithway',\n",
       " 'ostgreSQL,Pay',\n",
       " \"'mIay\",\n",
       " 'uessinggay',\n",
       " 'hattay',\n",
       " \"ou'llyay\",\n",
       " 'ebay',\n",
       " 'impressedway',\n",
       " 'andway',\n",
       " 'amazedway',\n",
       " 'ybay',\n",
       " 'hatway',\n",
       " 'hetay',\n",
       " 'atestlay',\n",
       " 'ersionvay',\n",
       " 'ancay',\n",
       " 'o.day',\n",
       " 'llAay',\n",
       " 'histay',\n",
       " 'inway',\n",
       " 'anway',\n",
       " 'open-sourceway',\n",
       " 'ackagepay',\n",
       " 'hattay',\n",
       " 'isway',\n",
       " 'incrediblyway',\n",
       " 'olid,say',\n",
       " 'oftenway',\n",
       " 'equiresray',\n",
       " 'ittlelay',\n",
       " 'orway',\n",
       " 'onay',\n",
       " 'administration,way',\n",
       " 'andway',\n",
       " 'hichway',\n",
       " 'ontinuescay',\n",
       " 'otay',\n",
       " 'exemplifyway',\n",
       " 'otnay',\n",
       " 'onlyway',\n",
       " 'ighhay',\n",
       " 'oftwaresay',\n",
       " 'uality,qay',\n",
       " 'utbay',\n",
       " 'alsoway',\n",
       " 'away',\n",
       " 'igh-qualityhay',\n",
       " 'open-sourceway',\n",
       " 'rojectpay',\n",
       " 'andway',\n",
       " 'ommunity.cay',\n",
       " 'ostgreSQLPay',\n",
       " 'asicsbay',\n",
       " '-----------------ay',\n",
       " 'fIay',\n",
       " \"ou'reyay\",\n",
       " 'ewnay',\n",
       " 'otay',\n",
       " 'ostgreSQL,Pay',\n",
       " 'hentay',\n",
       " \"ere'shay\",\n",
       " 'away',\n",
       " 'uickqay',\n",
       " 'undown:ray',\n",
       " 'ostgreSQLPay',\n",
       " 'isway',\n",
       " 'away',\n",
       " 'lient-servercay',\n",
       " 'elationalray',\n",
       " 'atabase,day',\n",
       " 'ithway',\n",
       " 'away',\n",
       " 'argelay',\n",
       " 'umbernay',\n",
       " 'ofway',\n",
       " 'ataday',\n",
       " 'ypes,tay',\n",
       " 'away',\n",
       " 'trongsay',\n",
       " 'ystemsay',\n",
       " 'orfay',\n",
       " 'andlinghay',\n",
       " 'ransactions,tay',\n",
       " 'andway',\n",
       " 'unctionsfay',\n",
       " 'overingcay',\n",
       " 'away',\n",
       " 'ideway',\n",
       " 'arietyvay',\n",
       " 'ofway',\n",
       " 'askstay',\n",
       " 'from(ay',\n",
       " 'egularray',\n",
       " 'expressionsway',\n",
       " 'otay',\n",
       " 'ateday',\n",
       " 'alculationscay',\n",
       " 'otay',\n",
       " 'tringsay',\n",
       " 'anipulationmay',\n",
       " 'otay',\n",
       " 'itwisebay',\n",
       " 'arithmetic).way',\n",
       " 'ewNay',\n",
       " 'unctionsfay',\n",
       " 'ancay',\n",
       " 'ebay',\n",
       " 'rittenway',\n",
       " 'usingway',\n",
       " 'away',\n",
       " 'umbernay',\n",
       " 'ofway',\n",
       " 'luginpay',\n",
       " 'anguages,lay',\n",
       " 'ostmay',\n",
       " 'ommonlycay',\n",
       " 'L/PgSQL,Pay',\n",
       " 'odeledmay',\n",
       " 'ooselylay',\n",
       " 'onway',\n",
       " \"racle'sOay\",\n",
       " 'L/SQL,Pay',\n",
       " 'utbay',\n",
       " 'alsoway',\n",
       " 'uchsay',\n",
       " 'anguageslay',\n",
       " 'asway',\n",
       " 'ython,Pay',\n",
       " 'avaScript,Jay',\n",
       " 'cl,Tay',\n",
       " 'uby,Ray',\n",
       " 'andway',\n",
       " '.Ray',\n",
       " 'ritingWay',\n",
       " 'unctionsfay',\n",
       " 'inway',\n",
       " 'oneway',\n",
       " 'ofway',\n",
       " 'hesetay',\n",
       " 'extensionway',\n",
       " 'anguageslay',\n",
       " 'rovidespay',\n",
       " 'ouyay',\n",
       " 'ithway',\n",
       " 'otnay',\n",
       " 'onlyway',\n",
       " 'hetay',\n",
       " 'luginpay',\n",
       " \"anguage'slay\",\n",
       " 'yntax,say',\n",
       " 'utbay',\n",
       " 'alsoway',\n",
       " 'itsway',\n",
       " 'ibrarieslay',\n",
       " '--ay',\n",
       " 'hichway',\n",
       " 'eansmay',\n",
       " 'hattay',\n",
       " 'ifway',\n",
       " 'ouyay',\n",
       " 'useway',\n",
       " ',Ray',\n",
       " 'orfay',\n",
       " 'example,way',\n",
       " 'ouyay',\n",
       " 'ancay',\n",
       " 'unray',\n",
       " 'tatisticalsay',\n",
       " 'analysesway',\n",
       " 'insideway',\n",
       " 'ofway',\n",
       " 'ouryay',\n",
       " 'atabase.day',\n",
       " \"ostgreSQL'sPay\",\n",
       " 'ransactionstay',\n",
       " 'areway',\n",
       " 'andledhay',\n",
       " 'usingway',\n",
       " 'away',\n",
       " 'ystemsay',\n",
       " 'nownkay',\n",
       " 'asway',\n",
       " 'multiversion\"ay',\n",
       " 'oncurrencycay',\n",
       " 'ontrol\"cay',\n",
       " 'MVCC),(ay',\n",
       " 'hichway',\n",
       " 'educesray',\n",
       " 'hetay',\n",
       " 'umbernay',\n",
       " 'ofway',\n",
       " 'imestay',\n",
       " 'hetay',\n",
       " 'atabaseday',\n",
       " 'ustmay',\n",
       " 'ocklay',\n",
       " 'away',\n",
       " 'ow.ray',\n",
       " 'hisTay',\n",
       " \"oesn'tday\",\n",
       " 'eanmay',\n",
       " 'hattay',\n",
       " 'eadlocksday',\n",
       " 'evernay',\n",
       " 'appen,hay',\n",
       " 'utbay',\n",
       " 'heytay',\n",
       " 'endtay',\n",
       " 'otay',\n",
       " 'ebay',\n",
       " 'are,ray',\n",
       " 'andway',\n",
       " 'areway',\n",
       " 'elativelyray',\n",
       " 'easyway',\n",
       " 'otay',\n",
       " 'avoid.way',\n",
       " 'heTay',\n",
       " 'eykay',\n",
       " 'hingtay',\n",
       " 'otay',\n",
       " 'understandway',\n",
       " 'inway',\n",
       " \"ostgreSQL'sPay\",\n",
       " 'VCCMay',\n",
       " 'isway',\n",
       " 'hattay',\n",
       " 'eletingday',\n",
       " 'away',\n",
       " 'owray',\n",
       " \"oesn'tday\",\n",
       " 'actuallyway',\n",
       " 'eleteday',\n",
       " 'it,way',\n",
       " 'utbay',\n",
       " 'erelymay',\n",
       " 'arksmay',\n",
       " 'itway',\n",
       " 'asway',\n",
       " 'eleted,day',\n",
       " 'ybay',\n",
       " 'indicatingway',\n",
       " 'hattay',\n",
       " 'itway',\n",
       " 'houldsay',\n",
       " 'onay',\n",
       " 'ongerlay',\n",
       " 'ebay',\n",
       " 'isiblevay',\n",
       " 'afterway',\n",
       " 'away',\n",
       " 'articularpay',\n",
       " 'ransaction.tay',\n",
       " 'henWay',\n",
       " 'allway',\n",
       " 'ofway',\n",
       " 'hetay',\n",
       " 'ransactiontay',\n",
       " 'DsIay',\n",
       " 'areway',\n",
       " 'reatergay',\n",
       " 'hantay',\n",
       " 'hattay',\n",
       " 'umber,nay',\n",
       " 'hetay',\n",
       " \"ow'sray\",\n",
       " 'pacesay',\n",
       " 'ancay',\n",
       " 'ebay',\n",
       " 'eclaimedray',\n",
       " 'and/orway',\n",
       " 'eused,ray',\n",
       " 'away',\n",
       " 'rocesspay',\n",
       " 'nownkay',\n",
       " 'asway',\n",
       " 'vacuuming.\"\"ay',\n",
       " 'hisTay',\n",
       " 'ystemsay',\n",
       " 'alsoway',\n",
       " 'eansmay',\n",
       " 'hattay',\n",
       " 'ifferentday',\n",
       " 'ransactionstay',\n",
       " 'ancay',\n",
       " 'eesay',\n",
       " 'ifferentday',\n",
       " 'ersionsvay',\n",
       " 'ofway',\n",
       " 'hetay',\n",
       " 'amesay',\n",
       " 'owray',\n",
       " 'atway',\n",
       " 'hetay',\n",
       " 'amesay',\n",
       " 'ime,tay',\n",
       " 'hichway',\n",
       " 'educesray',\n",
       " 'ocks.lay',\n",
       " 'VCCMay',\n",
       " 'ancay',\n",
       " 'ebay',\n",
       " 'away',\n",
       " 'itbay',\n",
       " 'ardhay',\n",
       " 'otay',\n",
       " 'understand,way',\n",
       " 'utbay',\n",
       " 'itway',\n",
       " 'isway',\n",
       " 'artpay',\n",
       " 'ofway',\n",
       " \"ostgreSQL'sPay\",\n",
       " 'uccess,say',\n",
       " 'allowingway',\n",
       " 'usway',\n",
       " 'otay',\n",
       " 'unray',\n",
       " 'anymay',\n",
       " 'ransactionstay',\n",
       " 'inway',\n",
       " 'arallelpay',\n",
       " 'ithoutway',\n",
       " 'orryingway',\n",
       " 'aboutway',\n",
       " 'howay',\n",
       " 'isway',\n",
       " 'eadingray',\n",
       " 'romfay',\n",
       " 'orway',\n",
       " 'ritingway',\n",
       " 'otay',\n",
       " 'hatway',\n",
       " 'ow.ray',\n",
       " 'heTay',\n",
       " 'ostgreSQLPay',\n",
       " 'rojectpay',\n",
       " 'tartedsay',\n",
       " 'oremay',\n",
       " 'hantay',\n",
       " '02ay',\n",
       " 'earsyay',\n",
       " 'ago,way',\n",
       " 'hankstay',\n",
       " 'otay',\n",
       " 'away',\n",
       " 'ergermay',\n",
       " 'etweenbay',\n",
       " 'hetay',\n",
       " 'Postgres\"\"ay',\n",
       " 'atabaseday',\n",
       " 'created(ay',\n",
       " 'ybay',\n",
       " 'ichaelMay',\n",
       " 'tonebreaker,Say',\n",
       " 'hentay',\n",
       " 'away',\n",
       " 'rofessorpay',\n",
       " 'atway',\n",
       " 'erkeley,Bay',\n",
       " 'andway',\n",
       " 'anway',\n",
       " 'expertway',\n",
       " 'andway',\n",
       " 'ioneerpay',\n",
       " 'inway',\n",
       " 'hetay',\n",
       " 'areaway',\n",
       " 'ofway',\n",
       " 'atabases)day',\n",
       " 'andway',\n",
       " 'hetay',\n",
       " 'QLSay',\n",
       " 'ueryqay',\n",
       " 'anguage.lay',\n",
       " 'heTay',\n",
       " 'atabaseday',\n",
       " 'riestay',\n",
       " 'otay',\n",
       " 'ollowfay',\n",
       " 'hetay',\n",
       " 'QLSay',\n",
       " 'tandardsay',\n",
       " 'otay',\n",
       " 'away',\n",
       " 'eryvay',\n",
       " 'argelay',\n",
       " 'egree,day',\n",
       " 'ithway',\n",
       " 'hetay',\n",
       " 'ocumentationday',\n",
       " 'indicatingway',\n",
       " 'hereway',\n",
       " 'ommands,cay',\n",
       " 'unctions,fay',\n",
       " 'andway',\n",
       " 'ataday',\n",
       " 'ypestay',\n",
       " \"on'tday\",\n",
       " 'ollowfay',\n",
       " 'hattay',\n",
       " 'tandard.say',\n",
       " 'orFay',\n",
       " 'wotay',\n",
       " 'ecades,day',\n",
       " 'hetay',\n",
       " 'ostgreSQLPay',\n",
       " 'global\"ay',\n",
       " 'evelopmentday',\n",
       " 'roup\"gay',\n",
       " 'ashay',\n",
       " 'eleasedray',\n",
       " 'away',\n",
       " 'ewnay',\n",
       " 'ersionvay',\n",
       " 'ofway',\n",
       " 'hetay',\n",
       " 'atabaseday',\n",
       " 'oughlyray',\n",
       " 'everyway',\n",
       " 'ear.yay',\n",
       " 'heTay',\n",
       " 'evelopmentday',\n",
       " 'rocess,pay',\n",
       " 'asway',\n",
       " 'ouyay',\n",
       " 'ouldway',\n",
       " 'expectway',\n",
       " 'romfay',\n",
       " 'anway',\n",
       " 'establishedway',\n",
       " 'open-sourceway',\n",
       " 'roject,pay',\n",
       " 'isway',\n",
       " 'othbay',\n",
       " 'ransparenttay',\n",
       " 'andway',\n",
       " 'openway',\n",
       " 'otay',\n",
       " 'ewnay',\n",
       " 'ontributors.cay',\n",
       " 'hatTay',\n",
       " 'aid,say',\n",
       " 'away',\n",
       " 'atabaseday',\n",
       " 'isway',\n",
       " 'away',\n",
       " 'eryvay',\n",
       " 'omplexcay',\n",
       " 'iecepay',\n",
       " 'ofway',\n",
       " 'oftware,say',\n",
       " 'andway',\n",
       " 'oneway',\n",
       " 'hichway',\n",
       " 'annotcay',\n",
       " 'orruptcay',\n",
       " 'ataday',\n",
       " 'orway',\n",
       " 'ogay',\n",
       " 'ownday',\n",
       " 'ifway',\n",
       " \"it'sway\",\n",
       " 'oinggay',\n",
       " 'otay',\n",
       " 'ontinuecay',\n",
       " 'otay',\n",
       " 'avehay',\n",
       " 'usersway',\n",
       " '--ay',\n",
       " 'osay',\n",
       " 'evelopmentday',\n",
       " 'endstay',\n",
       " 'otay',\n",
       " 'ebay',\n",
       " 'evolutionary,way',\n",
       " 'atherray',\n",
       " 'hantay',\n",
       " 'evolutionary.ray',\n",
       " 'heTay',\n",
       " 'evelopersday',\n",
       " 'oday',\n",
       " 'avehay',\n",
       " 'away',\n",
       " 'ong-termlay',\n",
       " 'oadmap,ray',\n",
       " 'andway',\n",
       " 'illway',\n",
       " 'oftenway',\n",
       " 'ollray',\n",
       " 'outway',\n",
       " 'eaturesfay',\n",
       " 'incrementallyway',\n",
       " 'acrossway',\n",
       " 'ersionsvay',\n",
       " 'untilway',\n",
       " 'heytay',\n",
       " 'areway',\n",
       " 'omplete.cay',\n",
       " 'eyondBay',\n",
       " 'hetay',\n",
       " 'orecay',\n",
       " 'evelopers,day',\n",
       " 'ostgreSQLPay',\n",
       " 'ashay',\n",
       " 'away',\n",
       " 'argelay',\n",
       " 'andway',\n",
       " 'activeway',\n",
       " 'ommunity,cay',\n",
       " 'ostmay',\n",
       " 'ofway',\n",
       " 'hoseway',\n",
       " 'ommunicationcay',\n",
       " 'akestay',\n",
       " 'lacepay',\n",
       " 'onway',\n",
       " 'e-mailway',\n",
       " 'ists.lay',\n",
       " 'ostgreSQLPay',\n",
       " '01ay',\n",
       " '-------------ay',\n",
       " 'pen-sourceOay',\n",
       " 'rojectspay',\n",
       " 'oftenway',\n",
       " 'hirksay',\n",
       " 'awayway',\n",
       " 'romfay',\n",
       " 'akingmay',\n",
       " 'away',\n",
       " 'igbay',\n",
       " 'ealday',\n",
       " 'outway',\n",
       " 'ofway',\n",
       " 'away',\n",
       " 'oftwaresay',\n",
       " 'elease.ray',\n",
       " 'fterAay',\n",
       " 'all,way',\n",
       " 'ustjay',\n",
       " 'aboutway',\n",
       " 'everyway',\n",
       " 'eleaseray',\n",
       " 'ofway',\n",
       " 'everyway',\n",
       " 'rogrampay',\n",
       " 'ixesfay',\n",
       " 'ugs,bay',\n",
       " 'improvesway',\n",
       " 'erformance,pay',\n",
       " 'andway',\n",
       " 'addsway',\n",
       " 'eatures.fay',\n",
       " 'hatWay',\n",
       " 'oesday',\n",
       " 'itway',\n",
       " 'attermay',\n",
       " 'ifway',\n",
       " 'eway',\n",
       " 'allcay',\n",
       " 'itway',\n",
       " '.53ay',\n",
       " 'orway',\n",
       " '.82ay',\n",
       " 'orway',\n",
       " '0.0?1ay',\n",
       " 'hatTay',\n",
       " 'aid,say',\n",
       " 'hetay',\n",
       " 'umbernay',\n",
       " 'ofway',\n",
       " 'ugehay',\n",
       " 'eaturesfay',\n",
       " 'inway',\n",
       " 'histay',\n",
       " 'ersionvay',\n",
       " 'ofway',\n",
       " 'ostgreSQLPay',\n",
       " 'ademay',\n",
       " 'itway',\n",
       " 'almostway',\n",
       " 'inevitableway',\n",
       " 'hattay',\n",
       " 'itway',\n",
       " 'asway',\n",
       " 'oinggay',\n",
       " 'otay',\n",
       " 'ebay',\n",
       " 'alledcay',\n",
       " '0.0,1ay',\n",
       " 'atherray',\n",
       " 'hantay',\n",
       " '.79ay',\n",
       " 'following(ay',\n",
       " 'hetay',\n",
       " 'reviouspay',\n",
       " 'ersion,vay',\n",
       " '.6).9ay',\n",
       " 'hatWay',\n",
       " 'isway',\n",
       " 'osay',\n",
       " 'eservingday',\n",
       " 'ofway',\n",
       " 'histay',\n",
       " 'ig,bay',\n",
       " 'oundray',\n",
       " 'umber?nay',\n",
       " 'woTay',\n",
       " 'igbay',\n",
       " 'andway',\n",
       " 'importantway',\n",
       " 'eaturesfay',\n",
       " 'ereway',\n",
       " 'hetay',\n",
       " 'ainmay',\n",
       " 'easons:ray',\n",
       " 'ogicalLay',\n",
       " 'eplicationray',\n",
       " 'andway',\n",
       " 'etterbay',\n",
       " 'abletay',\n",
       " 'artitions.pay',\n",
       " 'hereTay',\n",
       " 'ereway',\n",
       " 'anymay',\n",
       " 'otherway',\n",
       " 'improvements,way',\n",
       " 'ofway',\n",
       " 'ourse,cay',\n",
       " 'utbay',\n",
       " 'inway',\n",
       " 'histay',\n",
       " 'article,way',\n",
       " \"'mIay\",\n",
       " 'oinggay',\n",
       " 'otay',\n",
       " 'ocusfay',\n",
       " 'onway',\n",
       " 'hesetay',\n",
       " 'igbay',\n",
       " 'hanges.cay',\n",
       " 'eforeBay',\n",
       " 'eway',\n",
       " 'ontinue,cay',\n",
       " 'Iay',\n",
       " 'houldsay',\n",
       " 'otenay',\n",
       " 'hattay',\n",
       " 'installingway',\n",
       " 'ostgreSQLPay',\n",
       " '01ay',\n",
       " 'isway',\n",
       " 'uiteqay',\n",
       " 'easy,way',\n",
       " 'ithway',\n",
       " 'ortspay',\n",
       " 'orfay',\n",
       " 'anymay',\n",
       " 'operatingway',\n",
       " 'ystemssay',\n",
       " '--ay',\n",
       " 'includingway',\n",
       " 'ariousvay',\n",
       " 'inuxLay',\n",
       " 'istributionsday',\n",
       " '--ay',\n",
       " 'eadilyray',\n",
       " 'available.way',\n",
       " 'oGay',\n",
       " 'otay',\n",
       " 'hetay',\n",
       " 'ainmay',\n",
       " 'ostgreSQLPay',\n",
       " 'ite,say',\n",
       " 'ttp://PostgreSQL.org/,hay',\n",
       " 'andway',\n",
       " 'lickcay',\n",
       " 'onway',\n",
       " 'hetay',\n",
       " 'inklay',\n",
       " 'orfay',\n",
       " 'download.\"\"ay',\n",
       " 'hatTay',\n",
       " 'illway',\n",
       " 'ivegay',\n",
       " 'ouyay',\n",
       " 'hetay',\n",
       " 'instructionsway',\n",
       " 'ouyay',\n",
       " 'eednay',\n",
       " 'otay',\n",
       " 'addway',\n",
       " 'hetay',\n",
       " 'ostgreSQLPay',\n",
       " 'istributionday',\n",
       " 'otay',\n",
       " 'hetay',\n",
       " 'appropriateway',\n",
       " 'ackagepay',\n",
       " 'epository,ray',\n",
       " 'romfay',\n",
       " 'hichway',\n",
       " 'ouyay',\n",
       " 'ancay',\n",
       " 'hentay',\n",
       " 'ownloadday',\n",
       " 'andway',\n",
       " 'installway',\n",
       " 'it.way',\n",
       " 'fIay',\n",
       " \"ou'reyay\",\n",
       " 'upgradingway',\n",
       " 'romfay',\n",
       " 'away',\n",
       " 'reviouspay',\n",
       " 'ersion,vay',\n",
       " 'ofway',\n",
       " 'ourse,cay',\n",
       " 'hentay',\n",
       " 'ouyay',\n",
       " 'houldsay',\n",
       " 'ebay',\n",
       " 'away',\n",
       " 'itbay',\n",
       " 'oremay',\n",
       " 'onservative,cay',\n",
       " 'oubleday',\n",
       " 'heckingcay',\n",
       " 'otay',\n",
       " 'akemay',\n",
       " 'uresay',\n",
       " 'hattay',\n",
       " 'hetay',\n",
       " 'ataday',\n",
       " 'ashay',\n",
       " 'eenbay',\n",
       " 'upgradedway',\n",
       " ...]"
      ]
     },
     "execution_count": 148,
     "metadata": {},
     "output_type": "execute_result"
    }
   ],
   "source": [
    "# I want to turn each word in my column into Pig Latin\n",
    "\n",
    "filename = '/Users/reuven/Consulting/LinuxJournal/articles/2018-02-postgresql.txt'\n",
    "\n",
    "[pl_word(one_word)\n",
    " for one_word in open(filename).read().split()]"
   ]
  },
  {
   "cell_type": "code",
   "execution_count": null,
   "id": "20e44ffa-0f1e-480d-983a-2c59871d3659",
   "metadata": {},
   "outputs": [],
   "source": []
  }
 ],
 "metadata": {
  "kernelspec": {
   "display_name": "Python 3 (ipykernel)",
   "language": "python",
   "name": "python3"
  },
  "language_info": {
   "codemirror_mode": {
    "name": "ipython",
    "version": 3
   },
   "file_extension": ".py",
   "mimetype": "text/x-python",
   "name": "python",
   "nbconvert_exporter": "python",
   "pygments_lexer": "ipython3",
   "version": "3.10.0"
  }
 },
 "nbformat": 4,
 "nbformat_minor": 5
}
