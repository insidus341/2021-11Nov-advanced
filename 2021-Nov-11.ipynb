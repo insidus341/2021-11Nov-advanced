{
 "cells": [
  {
   "cell_type": "code",
   "execution_count": null,
   "id": "16b2fa55-1cb9-4aa3-9daf-883bd9ac73c5",
   "metadata": {},
   "outputs": [],
   "source": []
  },
  {
   "cell_type": "markdown",
   "id": "28ec8133-06cb-4af8-94e5-98578599dea3",
   "metadata": {
    "tags": []
   },
   "source": [
    "# Agenda\n",
    "\n",
    "1. Iterator protocol\n",
    "    - Adding iterations to classes\n",
    "    - Generator functions\n",
    "    - Generator comprehensions\n",
    "2. Decorators\n",
    "3. Threading and multiprocessing"
   ]
  },
  {
   "cell_type": "code",
   "execution_count": null,
   "id": "76275492-1568-49a4-9ce5-79f2910dff15",
   "metadata": {},
   "outputs": [],
   "source": []
  }
 ],
 "metadata": {
  "kernelspec": {
   "display_name": "Python 3 (ipykernel)",
   "language": "python",
   "name": "python3"
  },
  "language_info": {
   "codemirror_mode": {
    "name": "ipython",
    "version": 3
   },
   "file_extension": ".py",
   "mimetype": "text/x-python",
   "name": "python",
   "nbconvert_exporter": "python",
   "pygments_lexer": "ipython3",
   "version": "3.10.0"
  }
 },
 "nbformat": 4,
 "nbformat_minor": 5
}
