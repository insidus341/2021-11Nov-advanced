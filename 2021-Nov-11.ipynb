{
 "cells": [
  {
   "cell_type": "code",
   "execution_count": null,
   "id": "16b2fa55-1cb9-4aa3-9daf-883bd9ac73c5",
   "metadata": {},
   "outputs": [],
   "source": []
  },
  {
   "cell_type": "markdown",
   "id": "28ec8133-06cb-4af8-94e5-98578599dea3",
   "metadata": {
    "tags": []
   },
   "source": [
    "# Agenda\n",
    "\n",
    "1. Iterator protocol\n",
    "    - Adding iterations to classes\n",
    "    - Generator functions\n",
    "    - Generator comprehensions\n",
    "2. Decorators\n",
    "3. Threading and multiprocessing"
   ]
  },
  {
   "cell_type": "markdown",
   "id": "9c55fbc0-3c4e-47a5-9e2d-1542d7adbc0e",
   "metadata": {},
   "source": [
    "# `__str__` vs. `__repr__`\n",
    "\n",
    "Both of these methods should return strings. The question is, when is each one run?\n",
    "\n",
    "Normally `__str__` is run:\n",
    "- Whenever we run `str` on something\n",
    "- If we use `print` on something (because it uses `str` behind the scenes)\n",
    "- In other words: When we want to turn our object into a string, to display it to end users\n",
    "\n",
    "Normally, `__repr__` is run:\n",
    "- If we're in a debugger\n",
    "- If we're in Jupyter (and not using `print`, but just asking for the value of a variable)\n",
    "- Inside of other data structures (e.g., if we have a list of `Scoop` objects, Python will use `__repr__` and not `__str__` to show us the list)\n",
    "- In other words: It's meant for developers, not for end users\n",
    "\n",
    "But:\n",
    "- If we only define `__str__`, then it does *not* cover cases for `__repr__`\n",
    "- If we only define `__repr__`, then it *DOES* cover all cases, including those of `__str__`\n",
    "- In theory, `__repr__` is supposed to return a string that is a valid Python expression."
   ]
  },
  {
   "cell_type": "code",
   "execution_count": 2,
   "id": "aecf5b71-508a-420f-be4b-7c28925708b7",
   "metadata": {},
   "outputs": [
    {
     "name": "stdout",
     "output_type": "stream",
     "text": [
      "repr for Person {'name': 'Reuven'}\n"
     ]
    }
   ],
   "source": [
    "class Person:\n",
    "    def __init__(self, name):\n",
    "        self.name = name\n",
    "        \n",
    "    def __str__(self):\n",
    "        return f'str for Person {vars(self)}'\n",
    "\n",
    "    def __repr__(self):\n",
    "        return f'repr for Person {vars(self)}'\n",
    "\n",
    "    def __format__(self, code):\n",
    "        return f'format for Person {vars(self)}'\n",
    "    \n",
    "p = Person('Reuven')\n",
    "\n",
    "print(f'{p}')"
   ]
  },
  {
   "cell_type": "markdown",
   "id": "cb79b529-448d-44b8-af21-fbae16a725f9",
   "metadata": {},
   "source": [
    "# Iterator protocol\n",
    "\n",
    "\n"
   ]
  },
  {
   "cell_type": "code",
   "execution_count": 5,
   "id": "a687d945-1503-4033-8934-eae238e419e2",
   "metadata": {},
   "outputs": [
    {
     "name": "stdout",
     "output_type": "stream",
     "text": [
      "a\n",
      "b\n",
      "c\n",
      "d\n"
     ]
    }
   ],
   "source": [
    "for one_character in 'abcd':\n",
    "    print(one_character)"
   ]
  },
  {
   "cell_type": "code",
   "execution_count": 6,
   "id": "390d5795-098b-40bc-9c4e-90275235e370",
   "metadata": {},
   "outputs": [
    {
     "name": "stdout",
     "output_type": "stream",
     "text": [
      "0: a\n",
      "1: b\n",
      "2: c\n",
      "3: d\n"
     ]
    }
   ],
   "source": [
    "for index, one_character in enumerate('abcd'):\n",
    "    print(f'{index}: {one_character}')"
   ]
  },
  {
   "cell_type": "markdown",
   "id": "a722d251-1907-4e05-949a-53b46d9fcb66",
   "metadata": {},
   "source": [
    "# What happens in a `for` loop?\n",
    "\n",
    "- \"Iterable\" means: Can be put in a `for` loop\n",
    "- \"Iterator\" means: We can ask it for its next object, if it has one\n",
    "Sometimes, an iterable is an iterator, and sometimes it isn't.\n",
    "\n",
    "- `for` turns to the object and asks if it's iterable. It does this by running the `iter` function on that object. (You will probably never run `iter` in an actual program.)\n",
    "    - if `iter` returns an object, that object is the \"iterator\" on which we're going to work\n",
    "    - Otherwise, we get a `TypeError` exception, indicating that no, the object is not iterable\n",
    "- Assuming that we get an iterator object back, we call the `next` function on it.\n",
    "    - We might get something back. That's the value for the current iteration\n",
    "    - Or we might get `StopIteration`, an exception that says we're at the end of the iterator.\n",
    "- We keep repeating the above section, calling `next` until we get a `StopIteration` exception."
   ]
  },
  {
   "cell_type": "code",
   "execution_count": 7,
   "id": "3383a120-7e9c-4e26-a388-27adff786673",
   "metadata": {},
   "outputs": [],
   "source": [
    "s = 'abcd'\n",
    "\n",
    "i = iter(s)   # we ask: is s iterable? If so, return its iterator and assign to i."
   ]
  },
  {
   "cell_type": "code",
   "execution_count": 8,
   "id": "c5886467-e753-4806-8702-0c8da046a6f6",
   "metadata": {},
   "outputs": [
    {
     "data": {
      "text/plain": [
       "<str_iterator at 0x10f5d1930>"
      ]
     },
     "execution_count": 8,
     "metadata": {},
     "output_type": "execute_result"
    }
   ],
   "source": [
    "i"
   ]
  },
  {
   "cell_type": "code",
   "execution_count": 9,
   "id": "46b9d796-0a70-42f1-8f2e-3920b997916c",
   "metadata": {},
   "outputs": [
    {
     "data": {
      "text/plain": [
       "<str_iterator at 0x10f5d2560>"
      ]
     },
     "execution_count": 9,
     "metadata": {},
     "output_type": "execute_result"
    }
   ],
   "source": [
    "i = iter(s)\n",
    "i"
   ]
  },
  {
   "cell_type": "code",
   "execution_count": 10,
   "id": "a68089e9-3b86-4d6e-a54e-7c8c325c6e62",
   "metadata": {},
   "outputs": [
    {
     "data": {
      "text/plain": [
       "'a'"
      ]
     },
     "execution_count": 10,
     "metadata": {},
     "output_type": "execute_result"
    }
   ],
   "source": [
    "next(i)   # ask i for its next value"
   ]
  },
  {
   "cell_type": "code",
   "execution_count": 11,
   "id": "4f260bef-7bc3-4da3-af53-9a75d4bfaaa8",
   "metadata": {},
   "outputs": [
    {
     "data": {
      "text/plain": [
       "'b'"
      ]
     },
     "execution_count": 11,
     "metadata": {},
     "output_type": "execute_result"
    }
   ],
   "source": [
    " next(i)"
   ]
  },
  {
   "cell_type": "code",
   "execution_count": 12,
   "id": "384fa207-a916-41ae-880b-0a1bf5f92250",
   "metadata": {},
   "outputs": [
    {
     "data": {
      "text/plain": [
       "'c'"
      ]
     },
     "execution_count": 12,
     "metadata": {},
     "output_type": "execute_result"
    }
   ],
   "source": [
    "next(i)"
   ]
  },
  {
   "cell_type": "code",
   "execution_count": 13,
   "id": "6ecf9ce9-849a-41d9-a92d-0535f27ef157",
   "metadata": {},
   "outputs": [
    {
     "data": {
      "text/plain": [
       "'d'"
      ]
     },
     "execution_count": 13,
     "metadata": {},
     "output_type": "execute_result"
    }
   ],
   "source": [
    "next(i)"
   ]
  },
  {
   "cell_type": "code",
   "execution_count": 14,
   "id": "057b6875-fee3-4be7-9622-ba991221fa14",
   "metadata": {},
   "outputs": [
    {
     "ename": "StopIteration",
     "evalue": "",
     "output_type": "error",
     "traceback": [
      "\u001b[0;31m---------------------------------------------------------------------------\u001b[0m",
      "\u001b[0;31mStopIteration\u001b[0m                             Traceback (most recent call last)",
      "\u001b[0;32m/var/folders/rr/0mnyyv811fs5vyp22gf4fxk00000gn/T/ipykernel_20835/1939748483.py\u001b[0m in \u001b[0;36m<module>\u001b[0;34m\u001b[0m\n\u001b[0;32m----> 1\u001b[0;31m \u001b[0mnext\u001b[0m\u001b[0;34m(\u001b[0m\u001b[0mi\u001b[0m\u001b[0;34m)\u001b[0m\u001b[0;34m\u001b[0m\u001b[0;34m\u001b[0m\u001b[0m\n\u001b[0m",
      "\u001b[0;31mStopIteration\u001b[0m: "
     ]
    }
   ],
   "source": [
    "next(i)"
   ]
  },
  {
   "cell_type": "code",
   "execution_count": 22,
   "id": "c240db66-e7cc-4273-a424-24a212d1b403",
   "metadata": {},
   "outputs": [
    {
     "name": "stdout",
     "output_type": "stream",
     "text": [
      "\tNow in MyData.__init__\n",
      "\tNow in MyData.__iter__\n",
      "\tNow in MyData.__next__: {'data': 'abcd', 'index': 0}\n",
      "\tReturning a\n",
      "a\n",
      "\tNow in MyData.__next__: {'data': 'abcd', 'index': 1}\n",
      "\tReturning b\n",
      "b\n",
      "\tNow in MyData.__next__: {'data': 'abcd', 'index': 2}\n",
      "\tReturning c\n",
      "c\n",
      "\tNow in MyData.__next__: {'data': 'abcd', 'index': 3}\n",
      "\tReturning d\n",
      "d\n",
      "\tNow in MyData.__next__: {'data': 'abcd', 'index': 4}\n",
      "\tRaising StopIteration\n"
     ]
    }
   ],
   "source": [
    "# Let's create an iterable class!\n",
    "\n",
    "class MyData:\n",
    "    def __init__(self, data):\n",
    "        print(f'\\tNow in MyData.__init__')\n",
    "        self.data = data\n",
    "        self.index = 0\n",
    "        \n",
    "    def __iter__(self):   # this is called each time we *start* a loop on our object -- it returns the iterator\n",
    "        print('\\tNow in MyData.__iter__')\n",
    "        return self       # meaning: who is my iterator? I'm my own iterator!\n",
    "    \n",
    "    def __next__(self):   # this is called once for each iteration\n",
    "        print(f'\\tNow in MyData.__next__: {vars(self)}')\n",
    "        if self.index >= len(self.data):\n",
    "            print(f'\\tRaising StopIteration')\n",
    "            raise StopIteration   # no message is needed, because the \"for\" loop won't read it\n",
    "            \n",
    "        value = self.data[self.index]   # get the current value\n",
    "        self.index += 1                 # increment the counter\n",
    "        print(f'\\tReturning {value}')\n",
    "        return value                    # return the value for this iteration\n",
    "\n",
    "m = MyData('abcd')  \n",
    "\n",
    "for one_item in m:\n",
    "    print(one_item)"
   ]
  },
  {
   "cell_type": "markdown",
   "id": "3d071aa4-f1db-406b-acb1-69df47b1d935",
   "metadata": {},
   "source": [
    "# Exercise: Circle\n",
    "\n",
    "1. Create a class, `Circle`, that takes two arguments:\n",
    "    - `data`, which should be a sequence (string, list, tuple)\n",
    "    - `n`, the number of iterations we want to get\n",
    "2. Iterating over an instance of `Circle` will give us `n` results before ending.\n",
    "3. If the data is shorter than `n` items, then it should automatically return to the start and go from there, as many times as needed.\n",
    "\n",
    "```python\n",
    "for one_item in Circle('abc', 7):\n",
    "    print(one_item)   # a b c a b c a\n",
    "```"
   ]
  },
  {
   "cell_type": "code",
   "execution_count": 27,
   "id": "0b148ffa-d3d5-4431-8f83-cceedb909294",
   "metadata": {},
   "outputs": [
    {
     "name": "stdout",
     "output_type": "stream",
     "text": [
      "a b c a b c a \tIn __next__, {'data': 'abc', 'n': 7, 'index': 7}\n"
     ]
    }
   ],
   "source": [
    "class Circle:\n",
    "    def __init__(self, data, n):\n",
    "        self.data = data\n",
    "        self.n = n\n",
    "        self.index = 0\n",
    "        \n",
    "    def __iter__(self):\n",
    "        return self\n",
    "    \n",
    "    def __next__(self):\n",
    "        if self.index >= self.n:\n",
    "            print(f'\\tIn __next__, {vars(self)}')\n",
    "            raise StopIteration\n",
    "            \n",
    "        value = self.data[self.index % len(self.data)]  \n",
    "        self.index += 1\n",
    "        return value\n",
    "    \n",
    "c = Circle('abc', 7)\n",
    "\n",
    "for one_item in c:\n",
    "    print(one_item, end=' ')"
   ]
  },
  {
   "cell_type": "code",
   "execution_count": 28,
   "id": "c1ce562b-165a-41f1-9f9a-79826efdce0f",
   "metadata": {},
   "outputs": [
    {
     "name": "stdout",
     "output_type": "stream",
     "text": [
      "*** A ***\n",
      "a b c a b c a \tIn __next__, {'data': 'abc', 'n': 7, 'index': 7}\n",
      "\n",
      "*** B ***\n",
      "\tIn __next__, {'data': 'abc', 'n': 7, 'index': 7}\n",
      "\n"
     ]
    }
   ],
   "source": [
    "c = Circle('abc', 7)\n",
    "\n",
    "print('*** A ***')\n",
    "for one_item in c:\n",
    "    print(one_item, end=' ')\n",
    "print()    \n",
    "    \n",
    "print('*** B ***')\n",
    "for one_item in c:\n",
    "    print(one_item, end=' ')   \n",
    "print()    "
   ]
  },
  {
   "cell_type": "code",
   "execution_count": 29,
   "id": "a727e774-15fa-4a91-8382-5f9be283766f",
   "metadata": {},
   "outputs": [
    {
     "name": "stdout",
     "output_type": "stream",
     "text": [
      "*** A ***\n",
      "a b c a b c a \tIn __next__, {'data': 'abc', 'n': 7, 'index': 7}\n",
      "\n",
      "*** B ***\n",
      "a b c a b c a \tIn __next__, {'data': 'abc', 'n': 7, 'index': 7}\n",
      "\n"
     ]
    }
   ],
   "source": [
    "class Circle:\n",
    "    def __init__(self, data, n):\n",
    "        self.data = data\n",
    "        self.n = n\n",
    "        self.index = 0\n",
    "        \n",
    "    def __iter__(self):\n",
    "        self.index = 0\n",
    "        return self\n",
    "    \n",
    "    def __next__(self):\n",
    "        if self.index >= self.n:\n",
    "            print(f'\\tIn __next__, {vars(self)}')\n",
    "            raise StopIteration\n",
    "            \n",
    "        value = self.data[self.index % len(self.data)]  \n",
    "        self.index += 1\n",
    "        return value\n",
    "    \n",
    "c = Circle('abc', 7)\n",
    "\n",
    "print('*** A ***')\n",
    "for one_item in c:\n",
    "    print(one_item, end=' ')\n",
    "print()    \n",
    "    \n",
    "print('*** B ***')\n",
    "for one_item in c:\n",
    "    print(one_item, end=' ')   \n",
    "print()    "
   ]
  },
  {
   "cell_type": "code",
   "execution_count": 30,
   "id": "6636991c-b43a-4d7f-bb65-5c84db60e300",
   "metadata": {},
   "outputs": [],
   "source": [
    "s = 'abcd'\n",
    "\n",
    "i1 = iter(s)\n",
    "i2 = iter(s)"
   ]
  },
  {
   "cell_type": "code",
   "execution_count": 31,
   "id": "fa144d32-f9b6-4fa0-b274-21776d23aa2c",
   "metadata": {},
   "outputs": [
    {
     "data": {
      "text/plain": [
       "'a'"
      ]
     },
     "execution_count": 31,
     "metadata": {},
     "output_type": "execute_result"
    }
   ],
   "source": [
    "next(i1)"
   ]
  },
  {
   "cell_type": "code",
   "execution_count": 32,
   "id": "9628fec5-3d55-4a80-9945-909134be236c",
   "metadata": {},
   "outputs": [
    {
     "data": {
      "text/plain": [
       "'b'"
      ]
     },
     "execution_count": 32,
     "metadata": {},
     "output_type": "execute_result"
    }
   ],
   "source": [
    "next(i1)"
   ]
  },
  {
   "cell_type": "code",
   "execution_count": 33,
   "id": "708672a1-620a-418e-be9c-49a81d7d36f1",
   "metadata": {},
   "outputs": [
    {
     "data": {
      "text/plain": [
       "'c'"
      ]
     },
     "execution_count": 33,
     "metadata": {},
     "output_type": "execute_result"
    }
   ],
   "source": [
    "next(i1)"
   ]
  },
  {
   "cell_type": "code",
   "execution_count": 34,
   "id": "8aa80ea2-8302-4360-9952-ad1fb4817bc3",
   "metadata": {},
   "outputs": [
    {
     "data": {
      "text/plain": [
       "'a'"
      ]
     },
     "execution_count": 34,
     "metadata": {},
     "output_type": "execute_result"
    }
   ],
   "source": [
    "next(i2)"
   ]
  },
  {
   "cell_type": "code",
   "execution_count": 35,
   "id": "5e9220dc-6d30-467a-8667-6a2f529cef1c",
   "metadata": {},
   "outputs": [
    {
     "data": {
      "text/plain": [
       "'d'"
      ]
     },
     "execution_count": 35,
     "metadata": {},
     "output_type": "execute_result"
    }
   ],
   "source": [
    "next(i1)"
   ]
  },
  {
   "cell_type": "code",
   "execution_count": 36,
   "id": "d9b30ad7-236a-4586-b37a-6548b0c26750",
   "metadata": {},
   "outputs": [
    {
     "data": {
      "text/plain": [
       "'b'"
      ]
     },
     "execution_count": 36,
     "metadata": {},
     "output_type": "execute_result"
    }
   ],
   "source": [
    "next(i2)"
   ]
  },
  {
   "cell_type": "code",
   "execution_count": 37,
   "id": "25f69234-0f2a-49b0-858b-5fe2235edd4d",
   "metadata": {},
   "outputs": [
    {
     "name": "stdout",
     "output_type": "stream",
     "text": [
      "*** A ***\n",
      "a b c a b c a \tIn __next__, {'data': 'abc', 'n': 7, 'index': 7}\n",
      "\n",
      "*** B ***\n",
      "a b c a b c a \tIn __next__, {'data': 'abc', 'n': 7, 'index': 7}\n",
      "\n"
     ]
    }
   ],
   "source": [
    "# let's have Circle.__iter__ return a new instance of a specialized iterator class\n",
    "# the iterator class will need to implement __next__\n",
    "\n",
    "class CircleIterator:\n",
    "    def __init__(self, data, n):\n",
    "        self.data = data\n",
    "        self.n = n\n",
    "        self.index = 0\n",
    "\n",
    "    def __next__(self):\n",
    "        if self.index >= self.n:\n",
    "            print(f'\\tIn __next__, {vars(self)}')\n",
    "            raise StopIteration\n",
    "            \n",
    "        value = self.data[self.index % len(self.data)]  \n",
    "        self.index += 1\n",
    "        return value\n",
    "\n",
    "class Circle:\n",
    "    def __init__(self, data, n):\n",
    "        self.data = data\n",
    "        self.n = n\n",
    "        \n",
    "    def __iter__(self):\n",
    "        return CircleIterator(self.data, self.n)\n",
    "    \n",
    "    \n",
    "c = Circle('abc', 7)\n",
    "\n",
    "print('*** A ***')\n",
    "for one_item in c:\n",
    "    print(one_item, end=' ')\n",
    "print()    \n",
    "    \n",
    "print('*** B ***')\n",
    "for one_item in c:\n",
    "    print(one_item, end=' ')   \n",
    "print()    "
   ]
  },
  {
   "cell_type": "code",
   "execution_count": 38,
   "id": "2acd2133-8c84-49c0-a230-64c1ca567864",
   "metadata": {},
   "outputs": [],
   "source": [
    "i1 = iter(c)\n",
    "i2 = iter(c)"
   ]
  },
  {
   "cell_type": "code",
   "execution_count": 39,
   "id": "bc233125-e1a5-40a1-b416-c3a4ff15eacc",
   "metadata": {},
   "outputs": [
    {
     "data": {
      "text/plain": [
       "False"
      ]
     },
     "execution_count": 39,
     "metadata": {},
     "output_type": "execute_result"
    }
   ],
   "source": [
    "i1 is i2"
   ]
  },
  {
   "cell_type": "code",
   "execution_count": 40,
   "id": "e82311b3-f36c-4d20-8317-2f2434931169",
   "metadata": {},
   "outputs": [
    {
     "data": {
      "text/plain": [
       "'a'"
      ]
     },
     "execution_count": 40,
     "metadata": {},
     "output_type": "execute_result"
    }
   ],
   "source": [
    "next(i1)\n"
   ]
  },
  {
   "cell_type": "code",
   "execution_count": 41,
   "id": "9f1670be-1125-41f4-ac67-b9ab5452d327",
   "metadata": {},
   "outputs": [
    {
     "data": {
      "text/plain": [
       "'b'"
      ]
     },
     "execution_count": 41,
     "metadata": {},
     "output_type": "execute_result"
    }
   ],
   "source": [
    "next(i1)"
   ]
  },
  {
   "cell_type": "code",
   "execution_count": 42,
   "id": "0ae116da-4566-4e35-a32a-7697f32a221c",
   "metadata": {},
   "outputs": [
    {
     "data": {
      "text/plain": [
       "'c'"
      ]
     },
     "execution_count": 42,
     "metadata": {},
     "output_type": "execute_result"
    }
   ],
   "source": [
    "next(i1)"
   ]
  },
  {
   "cell_type": "code",
   "execution_count": 43,
   "id": "48f006ef-f6eb-4360-8964-14ba0c87683f",
   "metadata": {},
   "outputs": [
    {
     "data": {
      "text/plain": [
       "'a'"
      ]
     },
     "execution_count": 43,
     "metadata": {},
     "output_type": "execute_result"
    }
   ],
   "source": [
    "next(i2)"
   ]
  },
  {
   "cell_type": "markdown",
   "id": "3faf8f8e-e165-4505-9fc2-918d6338c6bc",
   "metadata": {},
   "source": [
    "# Exercise: MyRange\n",
    "\n",
    "Write a class, `MyRange`, that emulates the built-in `range` class.  It can take one, two, or three (integer) arguments.  Use a separate helper class as your iterator.\n",
    "\n",
    "```python\n",
    "for one_item in MyRange(5):\n",
    "    print(one_item)   # 0 1 2 3 4\n",
    "    \n",
    "for one_item in MyRange(5, 10):\n",
    "    print(one_item)   # 5 6 7 8 9\n",
    "    \n",
    "for one_item in Myrange(5, 20, 3):\n",
    "    print(one_item)   # 5 8 11 14 17\n",
    "```"
   ]
  },
  {
   "cell_type": "code",
   "execution_count": 46,
   "id": "4446be8f-7b42-4a9f-9b64-0235a4864b80",
   "metadata": {},
   "outputs": [
    {
     "name": "stdout",
     "output_type": "stream",
     "text": [
      "0 1 2 3 4 \n",
      "5 6 7 8 9 \n",
      "5 8 11 14 17 \n"
     ]
    }
   ],
   "source": [
    "class MyRange:\n",
    "    def __init__(self, first, second=None, step=1):\n",
    "        if second is None:\n",
    "            self.current = 0\n",
    "            self.stop = first\n",
    "        else:\n",
    "            self.current = first\n",
    "            self.stop = second\n",
    "        self.step = step\n",
    "        \n",
    "    def __iter__(self):\n",
    "        return self\n",
    "    \n",
    "    def __next__(self):\n",
    "        if self.current >= self.stop:\n",
    "            raise StopIteration\n",
    "            \n",
    "        value = self.current\n",
    "        self.current += self.step\n",
    "        return value\n",
    "    \n",
    "    \n",
    "for one_item in MyRange(5):\n",
    "    print(one_item, end=' ')   # 0 1 2 3 4\n",
    "print()\n",
    "    \n",
    "for one_item in MyRange(5, 10):\n",
    "    print(one_item, end=' ')   # 5 6 7 8 9\n",
    "print()\n",
    "    \n",
    "for one_item in MyRange(5, 20, 3):\n",
    "    print(one_item, end=' ')   # 5 8 11 14 17\n",
    "print()    \n",
    "        \n",
    "        "
   ]
  },
  {
   "cell_type": "code",
   "execution_count": 47,
   "id": "645bf850-9537-4892-9e80-3fd0a385ca8a",
   "metadata": {},
   "outputs": [
    {
     "name": "stdout",
     "output_type": "stream",
     "text": [
      "0 1 2 3 4 \n",
      "5 6 7 8 9 \n",
      "5 8 11 14 17 \n"
     ]
    }
   ],
   "source": [
    "class MyRangeIterator:\n",
    "    def __init__(self, current, stop, step):\n",
    "        self.current = current\n",
    "        self.stop = stop\n",
    "        self.step = step\n",
    "    \n",
    "    def __next__(self):\n",
    "        if self.current >= self.stop:\n",
    "            raise StopIteration\n",
    "            \n",
    "        value = self.current\n",
    "        self.current += self.step\n",
    "        return value\n",
    "    \n",
    "class MyRange:\n",
    "    def __init__(self, first, second=None, step=1):\n",
    "        if second is None:\n",
    "            self.current = 0\n",
    "            self.stop = first\n",
    "        else:\n",
    "            self.current = first\n",
    "            self.stop = second\n",
    "        self.step = step\n",
    "        \n",
    "    def __iter__(self):\n",
    "        return MyRangeIterator(self.current, self.stop, self.step)\n",
    "    \n",
    "for one_item in MyRange(5):\n",
    "    print(one_item, end=' ')   # 0 1 2 3 4\n",
    "print()\n",
    "    \n",
    "for one_item in MyRange(5, 10):\n",
    "    print(one_item, end=' ')   # 5 6 7 8 9\n",
    "print()\n",
    "    \n",
    "for one_item in MyRange(5, 20, 3):\n",
    "    print(one_item, end=' ')   # 5 8 11 14 17\n",
    "print()    \n",
    "        \n",
    "        "
   ]
  },
  {
   "cell_type": "code",
   "execution_count": 49,
   "id": "abb88ed9-461b-45b0-8cdf-25bed85b957b",
   "metadata": {},
   "outputs": [
    {
     "name": "stdout",
     "output_type": "stream",
     "text": [
      "0 1 2 3 4 \n",
      "5 6 7 8 9 \n",
      "5 8 11 14 17 \n"
     ]
    }
   ],
   "source": [
    "class MyRangeIterator:\n",
    "    def __init__(self, range):\n",
    "        self.range = range\n",
    "    \n",
    "    def __next__(self):\n",
    "        if self.range.current >= self.range.stop:\n",
    "            raise StopIteration\n",
    "            \n",
    "        value = self.range.current\n",
    "        self.range.current += self.range.step\n",
    "        return value\n",
    "    \n",
    "class MyRange:\n",
    "    def __init__(self, first, second=None, step=1):\n",
    "        if second is None:\n",
    "            self.current = 0\n",
    "            self.stop = first\n",
    "        else:\n",
    "            self.current = first\n",
    "            self.stop = second\n",
    "        self.step = step\n",
    "        \n",
    "    def __iter__(self):\n",
    "        return MyRangeIterator(self)\n",
    "    \n",
    "for one_item in MyRange(5):\n",
    "    print(one_item, end=' ')   # 0 1 2 3 4\n",
    "print()\n",
    "    \n",
    "for one_item in MyRange(5, 10):\n",
    "    print(one_item, end=' ')   # 5 6 7 8 9\n",
    "print()\n",
    "    \n",
    "for one_item in MyRange(5, 20, 3):\n",
    "    print(one_item, end=' ')   # 5 8 11 14 17\n",
    "print()    \n",
    "        \n",
    "        "
   ]
  },
  {
   "cell_type": "code",
   "execution_count": 52,
   "id": "495655f7-4dd5-47d5-93d2-c344efb5c422",
   "metadata": {},
   "outputs": [
    {
     "name": "stdout",
     "output_type": "stream",
     "text": [
      "20\n",
      "17\n",
      "14\n",
      "11\n",
      "8\n"
     ]
    }
   ],
   "source": [
    "for one_item in range(20, 5, -3):\n",
    "    print(one_item)"
   ]
  },
  {
   "cell_type": "code",
   "execution_count": 54,
   "id": "c5fa55c9-05cd-4aab-b160-62d79473c8ad",
   "metadata": {},
   "outputs": [
    {
     "name": "stdout",
     "output_type": "stream",
     "text": [
      "0 1 2 3 4 \n",
      "5 6 7 8 9 \n",
      "5 8 11 14 17 \n",
      "20 17 14 11 8 \n"
     ]
    }
   ],
   "source": [
    "# allow for negative step size\n",
    "\n",
    "class MyRangeIterator:\n",
    "    def __init__(self, range):\n",
    "        self.range = range\n",
    "    \n",
    "    def __next__(self):\n",
    "        if self.range.step >= 0:\n",
    "            if self.range.current >= self.range.stop:\n",
    "                raise StopIteration\n",
    "        else:\n",
    "            if self.range.current <= self.range.stop:\n",
    "                raise StopIteration\n",
    "            \n",
    "        value = self.range.current\n",
    "        self.range.current += self.range.step\n",
    "        return value\n",
    "    \n",
    "class MyRange:\n",
    "    def __init__(self, first, second=None, step=1):\n",
    "        if second is None:\n",
    "            self.current = 0\n",
    "            self.stop = first\n",
    "        else:\n",
    "            self.current = first\n",
    "            self.stop = second\n",
    "        self.step = step\n",
    "        \n",
    "    def __iter__(self):\n",
    "        return MyRangeIterator(self)\n",
    "    \n",
    "for one_item in MyRange(5):\n",
    "    print(one_item, end=' ')   # 0 1 2 3 4\n",
    "print()\n",
    "    \n",
    "for one_item in MyRange(5, 10):\n",
    "    print(one_item, end=' ')   # 5 6 7 8 9\n",
    "print()\n",
    "    \n",
    "for one_item in MyRange(5, 20, 3):\n",
    "    print(one_item, end=' ')   # 5 8 11 14 17\n",
    "print()    \n",
    "        \n",
    "for one_item in MyRange(20, 5, -3):\n",
    "    print(one_item, end=' ')   # 5 8 11 14 17\n",
    "print()    \n",
    "        "
   ]
  },
  {
   "cell_type": "code",
   "execution_count": 55,
   "id": "d0de1d64-46f3-450a-85fe-dc53a6aeae4a",
   "metadata": {},
   "outputs": [
    {
     "ename": "TypeError",
     "evalue": "unsupported operand type(s) for -: 'NoneType' and 'int'",
     "output_type": "error",
     "traceback": [
      "\u001b[0;31m---------------------------------------------------------------------------\u001b[0m",
      "\u001b[0;31mTypeError\u001b[0m                                 Traceback (most recent call last)",
      "\u001b[0;32m/var/folders/rr/0mnyyv811fs5vyp22gf4fxk00000gn/T/ipykernel_20835/1963691363.py\u001b[0m in \u001b[0;36m<module>\u001b[0;34m\u001b[0m\n\u001b[1;32m     31\u001b[0m \u001b[0;34m\u001b[0m\u001b[0m\n\u001b[1;32m     32\u001b[0m \u001b[0;34m\u001b[0m\u001b[0m\n\u001b[0;32m---> 33\u001b[0;31m \u001b[0;32mfor\u001b[0m \u001b[0mone_item\u001b[0m \u001b[0;32min\u001b[0m \u001b[0mmyRange\u001b[0m\u001b[0;34m(\u001b[0m\u001b[0;36m5\u001b[0m\u001b[0;34m)\u001b[0m\u001b[0;34m:\u001b[0m\u001b[0;34m\u001b[0m\u001b[0;34m\u001b[0m\u001b[0m\n\u001b[0m\u001b[1;32m     34\u001b[0m     \u001b[0mprint\u001b[0m\u001b[0;34m(\u001b[0m\u001b[0mone_item\u001b[0m\u001b[0;34m)\u001b[0m\u001b[0;34m\u001b[0m\u001b[0;34m\u001b[0m\u001b[0m\n",
      "\u001b[0;32m/var/folders/rr/0mnyyv811fs5vyp22gf4fxk00000gn/T/ipykernel_20835/1963691363.py\u001b[0m in \u001b[0;36m__next__\u001b[0;34m(self)\u001b[0m\n\u001b[1;32m      9\u001b[0m         \u001b[0;32mif\u001b[0m \u001b[0mself\u001b[0m\u001b[0;34m.\u001b[0m\u001b[0mindex\u001b[0m \u001b[0;34m==\u001b[0m \u001b[0mself\u001b[0m\u001b[0;34m.\u001b[0m\u001b[0mstart\u001b[0m \u001b[0;32mand\u001b[0m \u001b[0mself\u001b[0m\u001b[0;34m.\u001b[0m\u001b[0mend\u001b[0m \u001b[0;32mis\u001b[0m \u001b[0;32mNone\u001b[0m\u001b[0;34m:\u001b[0m\u001b[0;34m\u001b[0m\u001b[0;34m\u001b[0m\u001b[0m\n\u001b[1;32m     10\u001b[0m             \u001b[0;32mraise\u001b[0m \u001b[0mStopIteration\u001b[0m\u001b[0;34m\u001b[0m\u001b[0;34m\u001b[0m\u001b[0m\n\u001b[0;32m---> 11\u001b[0;31m         \u001b[0;32melif\u001b[0m \u001b[0;34m(\u001b[0m\u001b[0mself\u001b[0m\u001b[0;34m.\u001b[0m\u001b[0mend\u001b[0m \u001b[0;34m-\u001b[0m \u001b[0mself\u001b[0m\u001b[0;34m.\u001b[0m\u001b[0mstart\u001b[0m\u001b[0;34m)\u001b[0m \u001b[0;34m==\u001b[0m \u001b[0mself\u001b[0m\u001b[0;34m.\u001b[0m\u001b[0mindex\u001b[0m \u001b[0;32mand\u001b[0m \u001b[0mself\u001b[0m\u001b[0;34m.\u001b[0m\u001b[0mstep\u001b[0m \u001b[0;32mis\u001b[0m \u001b[0;32mNone\u001b[0m\u001b[0;34m:\u001b[0m\u001b[0;34m\u001b[0m\u001b[0;34m\u001b[0m\u001b[0m\n\u001b[0m\u001b[1;32m     12\u001b[0m             \u001b[0;32mraise\u001b[0m \u001b[0mStopIteration\u001b[0m\u001b[0;34m\u001b[0m\u001b[0;34m\u001b[0m\u001b[0m\n\u001b[1;32m     13\u001b[0m         \u001b[0;32melif\u001b[0m \u001b[0;34m(\u001b[0m\u001b[0mself\u001b[0m\u001b[0;34m.\u001b[0m\u001b[0mstart\u001b[0m \u001b[0;34m+\u001b[0m \u001b[0mself\u001b[0m\u001b[0;34m.\u001b[0m\u001b[0mstep\u001b[0m \u001b[0;34m*\u001b[0m \u001b[0mself\u001b[0m\u001b[0;34m.\u001b[0m\u001b[0mindex\u001b[0m\u001b[0;34m)\u001b[0m \u001b[0;34m>\u001b[0m \u001b[0mself\u001b[0m\u001b[0;34m.\u001b[0m\u001b[0mend\u001b[0m\u001b[0;34m:\u001b[0m\u001b[0;34m\u001b[0m\u001b[0;34m\u001b[0m\u001b[0m\n",
      "\u001b[0;31mTypeError\u001b[0m: unsupported operand type(s) for -: 'NoneType' and 'int'"
     ]
    }
   ],
   "source": [
    "class myRangeIterator:\n",
    "    def __init__(self, start, end, step):\n",
    "        self.start = start\n",
    "        self.end = end\n",
    "        self.step = step\n",
    "        self.index = 0\n",
    "        \n",
    "    def __next__(self): \n",
    "        if self.index == self.start and self.end is None:\n",
    "            raise StopIteration\n",
    "        elif (self.end - self.start) == self.index and self.step is None:\n",
    "            raise StopIteration\n",
    "        elif (self.start + self.step * self.index) > self.end:\n",
    "            raise StopIteration\n",
    "        if self.end is None:\n",
    "            value = self.index\n",
    "        elif self.step is None:\n",
    "            value = self.start + self.index\n",
    "        else:\n",
    "             value = self.start + self.step\n",
    "        self.index += 1\n",
    "        return value             \n",
    "    \n",
    "class myRange:\n",
    "    def __init__(self, start, end=None, step=None):\n",
    "        self.start = start\n",
    "        self.end = end\n",
    "        self.step = step\n",
    "    def __iter__(self):\n",
    "        return myRangeIterator(self.start, self.end, self.step)\n",
    "\n",
    "\n",
    "for one_item in myRange(5):\n",
    "    print(one_item)"
   ]
  },
  {
   "cell_type": "code",
   "execution_count": 56,
   "id": "0debe658-5490-4446-ba2d-df0284171eae",
   "metadata": {},
   "outputs": [
    {
     "data": {
      "text/plain": [
       "'3.10.0 (default, Oct 13 2021, 06:45:00) [Clang 13.0.0 (clang-1300.0.29.3)]'"
      ]
     },
     "execution_count": 56,
     "metadata": {},
     "output_type": "execute_result"
    }
   ],
   "source": [
    "import sys\n",
    "sys.version"
   ]
  },
  {
   "cell_type": "code",
   "execution_count": 67,
   "id": "3549dc69-0d95-4bd7-ad03-428c228e329b",
   "metadata": {},
   "outputs": [],
   "source": [
    "class Bowl:\n",
    "    MAX_SCOOPS = 3   # class attribute MAX_SCOOPS\n",
    "\n",
    "    def __init__(self):\n",
    "        self.scoops = []\n",
    "\n",
    "    def add_scoops(self, *args):\n",
    "        for one_scoop in args:\n",
    "            if len(self.scoops) >= self.MAX_SCOOPS:\n",
    "                break\n",
    "            self.scoops.append(one_scoop)\n",
    "\n",
    "    def flavors(self):\n",
    "        return [one_scoop.flavor\n",
    "                for one_scoop in self.scoops]\n",
    "\n",
    "    def __repr__(self):\n",
    "        output = f'{type(self).__name__} of: \\n'\n",
    "\n",
    "        return output + '\\n'.join([f'\\t{index}: {one_scoop}'\n",
    "                                   for index, one_scoop in enumerate(self.scoops, 1)])\n",
    "\n",
    "    def __len__(self):\n",
    "        return len(self.scoops)\n",
    "\n",
    "    def __getitem__(self, index):\n",
    "        # print(f'{index=}')\n",
    "        return self.scoops[index]\n",
    "\n",
    "    def __add__(self, other):\n",
    "        new_bowl = Bowl()\n",
    "        new_bowl.scoops = self.scoops + other.scoops\n",
    "        return new_bowl\n",
    "\n",
    "    def __eq__(self, other):\n",
    "        return Counter(self.scoops) == Counter(other.scoops)\n"
   ]
  },
  {
   "cell_type": "code",
   "execution_count": 68,
   "id": "be1b7ab9-a35c-4e3f-85f5-20f1fbf50b4a",
   "metadata": {},
   "outputs": [
    {
     "ename": "TypeError",
     "evalue": "'Bowl' object is not iterable",
     "output_type": "error",
     "traceback": [
      "\u001b[0;31m---------------------------------------------------------------------------\u001b[0m",
      "\u001b[0;31mTypeError\u001b[0m                                 Traceback (most recent call last)",
      "\u001b[0;32m/var/folders/rr/0mnyyv811fs5vyp22gf4fxk00000gn/T/ipykernel_20835/3938721307.py\u001b[0m in \u001b[0;36m<module>\u001b[0;34m\u001b[0m\n\u001b[1;32m      1\u001b[0m \u001b[0mb\u001b[0m \u001b[0;34m=\u001b[0m \u001b[0mBowl\u001b[0m\u001b[0;34m(\u001b[0m\u001b[0;34m)\u001b[0m\u001b[0;34m\u001b[0m\u001b[0;34m\u001b[0m\u001b[0m\n\u001b[0;32m----> 2\u001b[0;31m \u001b[0miter\u001b[0m\u001b[0;34m(\u001b[0m\u001b[0mb\u001b[0m\u001b[0;34m)\u001b[0m\u001b[0;34m\u001b[0m\u001b[0;34m\u001b[0m\u001b[0m\n\u001b[0m",
      "\u001b[0;31mTypeError\u001b[0m: 'Bowl' object is not iterable"
     ]
    }
   ],
   "source": [
    "b = Bowl()\n",
    "iter(b)"
   ]
  },
  {
   "cell_type": "code",
   "execution_count": 69,
   "id": "d7f033d5-f50f-4444-8f9e-57894e9bb73e",
   "metadata": {},
   "outputs": [],
   "source": [
    "class Scoop:\n",
    "    def __init__(self, flavor):\n",
    "        self.flavor = flavor\n",
    "\n",
    "    def __repr__(self):\n",
    "        return f'Scoop of {self.flavor}'\n"
   ]
  },
  {
   "cell_type": "code",
   "execution_count": 70,
   "id": "a5351d78-e9a9-4dce-baa3-b7e303b1380d",
   "metadata": {},
   "outputs": [],
   "source": [
    "s1 = Scoop('chocolate')\n",
    "s2 = Scoop('vanilla')\n",
    "s3 = Scoop('coffee')\n",
    "s4 = Scoop('flavor 4')\n",
    "s5 = Scoop('flavor 5')\n",
    "s6 = Scoop('flavor 6')\n"
   ]
  },
  {
   "cell_type": "code",
   "execution_count": 71,
   "id": "ed49ec0f-a616-401e-a5e2-dc9054093a7b",
   "metadata": {},
   "outputs": [
    {
     "name": "stdout",
     "output_type": "stream",
     "text": [
      "Scoop of chocolate\n",
      "Scoop of vanilla\n",
      "Scoop of coffee\n"
     ]
    }
   ],
   "source": [
    "b = Bowl()\n",
    "b.add_scoops(s1, s2, s3)\n",
    "\n",
    "for one_item in b:\n",
    "    print(one_item)"
   ]
  },
  {
   "cell_type": "markdown",
   "id": "b6a05c36-ed02-4066-ba99-55926b85498d",
   "metadata": {},
   "source": [
    "# Next up\n",
    "\n",
    "- Generator functions\n",
    "- Generator expressions/comprehensions\n",
    "- Decorators"
   ]
  },
  {
   "cell_type": "code",
   "execution_count": 75,
   "id": "d9bcad35-f86d-491d-b03c-7db56e044ed1",
   "metadata": {},
   "outputs": [],
   "source": [
    "# Return at :25"
   ]
  },
  {
   "cell_type": "code",
   "execution_count": 76,
   "id": "17cea9ab-ba9b-4424-bc29-4f656989f83d",
   "metadata": {},
   "outputs": [
    {
     "data": {
      "text/plain": [
       "1"
      ]
     },
     "execution_count": 76,
     "metadata": {},
     "output_type": "execute_result"
    }
   ],
   "source": [
    "# the world's dumbest function\n",
    "\n",
    "def myfunc():\n",
    "    return 1\n",
    "    return 2\n",
    "    return 3\n",
    "\n",
    "myfunc()"
   ]
  },
  {
   "cell_type": "code",
   "execution_count": 77,
   "id": "19ddc83c-7ca8-4c36-9d5e-d12a7aba1c9f",
   "metadata": {},
   "outputs": [
    {
     "name": "stdout",
     "output_type": "stream",
     "text": [
      "  4           0 LOAD_CONST               1 (1)\n",
      "              2 RETURN_VALUE\n"
     ]
    }
   ],
   "source": [
    "import dis\n",
    "dis.dis(myfunc)"
   ]
  },
  {
   "cell_type": "code",
   "execution_count": 78,
   "id": "1301f4b2-d2ed-4a16-abb9-8ffa4cf7cac9",
   "metadata": {},
   "outputs": [
    {
     "data": {
      "text/plain": [
       "<generator object myfunc at 0x11095d0e0>"
      ]
     },
     "execution_count": 78,
     "metadata": {},
     "output_type": "execute_result"
    }
   ],
   "source": [
    "def myfunc():\n",
    "    yield 1\n",
    "    yield 2\n",
    "    yield 3\n",
    "    \n",
    "myfunc()"
   ]
  },
  {
   "cell_type": "code",
   "execution_count": 79,
   "id": "a0970f8d-db7d-4539-a537-b1930126681d",
   "metadata": {},
   "outputs": [
    {
     "data": {
      "text/plain": [
       "generator"
      ]
     },
     "execution_count": 79,
     "metadata": {},
     "output_type": "execute_result"
    }
   ],
   "source": [
    "# what is a generator object?  It implements the iterator protocol.\n",
    "\n",
    "g = myfunc()\n",
    "\n",
    "type(g)"
   ]
  },
  {
   "cell_type": "code",
   "execution_count": 80,
   "id": "3e74605e-a613-48a6-8010-2663209b83c9",
   "metadata": {},
   "outputs": [
    {
     "data": {
      "text/plain": [
       "<generator object myfunc at 0x11095d230>"
      ]
     },
     "execution_count": 80,
     "metadata": {},
     "output_type": "execute_result"
    }
   ],
   "source": [
    "iter(g)"
   ]
  },
  {
   "cell_type": "code",
   "execution_count": 81,
   "id": "3d99263e-afed-44d8-a51e-0862bcb1dd91",
   "metadata": {},
   "outputs": [
    {
     "data": {
      "text/plain": [
       "True"
      ]
     },
     "execution_count": 81,
     "metadata": {},
     "output_type": "execute_result"
    }
   ],
   "source": [
    "# what is g's iterator?  A generator!  Meaning: A generator is its own iterator (it returns self in __iter__)\n",
    "\n",
    "iter(g) is g"
   ]
  },
  {
   "cell_type": "code",
   "execution_count": 82,
   "id": "ee29e5b2-61d5-4c69-bd83-d32a454bd63a",
   "metadata": {},
   "outputs": [
    {
     "data": {
      "text/plain": [
       "1"
      ]
     },
     "execution_count": 82,
     "metadata": {},
     "output_type": "execute_result"
    }
   ],
   "source": [
    "next(g)"
   ]
  },
  {
   "cell_type": "code",
   "execution_count": 83,
   "id": "ae95e91e-0f12-40d8-ac20-e0fd877abe61",
   "metadata": {},
   "outputs": [
    {
     "data": {
      "text/plain": [
       "2"
      ]
     },
     "execution_count": 83,
     "metadata": {},
     "output_type": "execute_result"
    }
   ],
   "source": [
    "next(g)"
   ]
  },
  {
   "cell_type": "code",
   "execution_count": 84,
   "id": "447a2e43-1351-4d1d-9104-43ac18013305",
   "metadata": {},
   "outputs": [
    {
     "data": {
      "text/plain": [
       "3"
      ]
     },
     "execution_count": 84,
     "metadata": {},
     "output_type": "execute_result"
    }
   ],
   "source": [
    "next(g)"
   ]
  },
  {
   "cell_type": "code",
   "execution_count": 85,
   "id": "fc007bd0-99e9-4651-97d1-ba29a29b515e",
   "metadata": {},
   "outputs": [
    {
     "ename": "StopIteration",
     "evalue": "",
     "output_type": "error",
     "traceback": [
      "\u001b[0;31m---------------------------------------------------------------------------\u001b[0m",
      "\u001b[0;31mStopIteration\u001b[0m                             Traceback (most recent call last)",
      "\u001b[0;32m/var/folders/rr/0mnyyv811fs5vyp22gf4fxk00000gn/T/ipykernel_20835/4253931490.py\u001b[0m in \u001b[0;36m<module>\u001b[0;34m\u001b[0m\n\u001b[0;32m----> 1\u001b[0;31m \u001b[0mnext\u001b[0m\u001b[0;34m(\u001b[0m\u001b[0mg\u001b[0m\u001b[0;34m)\u001b[0m\u001b[0;34m\u001b[0m\u001b[0;34m\u001b[0m\u001b[0m\n\u001b[0m",
      "\u001b[0;31mStopIteration\u001b[0m: "
     ]
    }
   ],
   "source": [
    "next(g)"
   ]
  },
  {
   "cell_type": "markdown",
   "id": "8dece811-a475-465f-9db8-b55db3fdabde",
   "metadata": {},
   "source": [
    "# Generator functions\n",
    "\n",
    "A generator function uses `yield`, and not `return` (except at the end).  When we run the generator function, we get a generator object back. That object is iterable (and also an iterator).\n",
    "\n",
    "Each time we run `next` on a generator object, the function's body runs through the next `yield` statement, and returns whatever `yield` returns.  Each `next` moves the generator forward one `yield`.\n",
    "\n",
    "When we reach the end of the function, we get `StopIteration`.  You can actually make that happen faster if you use `return` in the generator function's body.\n",
    "\n",
    "Each time the generator function has `yield`, it returns a value and goes to sleep at that point.  When we run `next` on it, the function's execution continues from precisely where it left off, after the `yield`."
   ]
  },
  {
   "cell_type": "code",
   "execution_count": 87,
   "id": "4b3ff611-b16c-4298-a39b-2c134e9356ea",
   "metadata": {},
   "outputs": [],
   "source": [
    "def myfunc():\n",
    "    total = 0\n",
    "    for i in range(5):\n",
    "        total += i\n",
    "        yield i, total"
   ]
  },
  {
   "cell_type": "code",
   "execution_count": 88,
   "id": "e0011807-b2f4-4410-ab70-1f8b1e4ea3d3",
   "metadata": {},
   "outputs": [],
   "source": [
    "g = myfunc()  # running a generator function returns a generator object.  You need to use \"next\" to run the generator body."
   ]
  },
  {
   "cell_type": "code",
   "execution_count": 89,
   "id": "54759a17-1ec6-4d59-bed6-47e8487c40d0",
   "metadata": {},
   "outputs": [
    {
     "data": {
      "text/plain": [
       "generator"
      ]
     },
     "execution_count": 89,
     "metadata": {},
     "output_type": "execute_result"
    }
   ],
   "source": [
    "type(g)"
   ]
  },
  {
   "cell_type": "code",
   "execution_count": 90,
   "id": "6745dbed-3a50-45ab-bf20-db678dd4121d",
   "metadata": {},
   "outputs": [
    {
     "data": {
      "text/plain": [
       "(0, 0)"
      ]
     },
     "execution_count": 90,
     "metadata": {},
     "output_type": "execute_result"
    }
   ],
   "source": [
    "next(g)"
   ]
  },
  {
   "cell_type": "code",
   "execution_count": 91,
   "id": "ea3ae7b7-b6a6-4303-bb8b-07b9776d766b",
   "metadata": {},
   "outputs": [
    {
     "data": {
      "text/plain": [
       "(1, 1)"
      ]
     },
     "execution_count": 91,
     "metadata": {},
     "output_type": "execute_result"
    }
   ],
   "source": [
    "next(g)"
   ]
  },
  {
   "cell_type": "code",
   "execution_count": 92,
   "id": "b0ec4baa-76ec-461f-92d0-ff5a5b4bcad6",
   "metadata": {},
   "outputs": [
    {
     "data": {
      "text/plain": [
       "(2, 3)"
      ]
     },
     "execution_count": 92,
     "metadata": {},
     "output_type": "execute_result"
    }
   ],
   "source": [
    "next(g)"
   ]
  },
  {
   "cell_type": "code",
   "execution_count": 93,
   "id": "237f0edc-f955-46af-bc1d-0c47513c127f",
   "metadata": {},
   "outputs": [
    {
     "data": {
      "text/plain": [
       "(3, 6)"
      ]
     },
     "execution_count": 93,
     "metadata": {},
     "output_type": "execute_result"
    }
   ],
   "source": [
    "next(g)"
   ]
  },
  {
   "cell_type": "code",
   "execution_count": 94,
   "id": "35801f42-96fe-4eb3-a706-5b5dd3add364",
   "metadata": {},
   "outputs": [
    {
     "data": {
      "text/plain": [
       "(4, 10)"
      ]
     },
     "execution_count": 94,
     "metadata": {},
     "output_type": "execute_result"
    }
   ],
   "source": [
    "next(g)"
   ]
  },
  {
   "cell_type": "code",
   "execution_count": 95,
   "id": "45d2d2f6-ba45-4943-9500-1eba1844ddc3",
   "metadata": {},
   "outputs": [
    {
     "ename": "StopIteration",
     "evalue": "",
     "output_type": "error",
     "traceback": [
      "\u001b[0;31m---------------------------------------------------------------------------\u001b[0m",
      "\u001b[0;31mStopIteration\u001b[0m                             Traceback (most recent call last)",
      "\u001b[0;32m/var/folders/rr/0mnyyv811fs5vyp22gf4fxk00000gn/T/ipykernel_20835/4253931490.py\u001b[0m in \u001b[0;36m<module>\u001b[0;34m\u001b[0m\n\u001b[0;32m----> 1\u001b[0;31m \u001b[0mnext\u001b[0m\u001b[0;34m(\u001b[0m\u001b[0mg\u001b[0m\u001b[0;34m)\u001b[0m\u001b[0;34m\u001b[0m\u001b[0;34m\u001b[0m\u001b[0m\n\u001b[0m",
      "\u001b[0;31mStopIteration\u001b[0m: "
     ]
    }
   ],
   "source": [
    "next(g)"
   ]
  },
  {
   "cell_type": "code",
   "execution_count": 96,
   "id": "2047697a-6bf8-4be4-967f-e007cd3f1209",
   "metadata": {},
   "outputs": [],
   "source": [
    "def something():\n",
    "    return 1\n",
    "    yield 2\n",
    "    return 3"
   ]
  },
  {
   "cell_type": "code",
   "execution_count": 97,
   "id": "b165c935-148a-42ca-9927-4fd59739ce00",
   "metadata": {},
   "outputs": [
    {
     "data": {
      "text/plain": [
       "<generator object something at 0x11095dbd0>"
      ]
     },
     "execution_count": 97,
     "metadata": {},
     "output_type": "execute_result"
    }
   ],
   "source": [
    "something()"
   ]
  },
  {
   "cell_type": "code",
   "execution_count": 98,
   "id": "9740bc02-1e13-49ed-8105-555c6fdf64de",
   "metadata": {},
   "outputs": [
    {
     "name": "stdout",
     "output_type": "stream",
     "text": [
      "Name:              something\n",
      "Filename:          /var/folders/rr/0mnyyv811fs5vyp22gf4fxk00000gn/T/ipykernel_20835/4041891837.py\n",
      "Argument count:    0\n",
      "Positional-only arguments: 0\n",
      "Kw-only arguments: 0\n",
      "Number of locals:  0\n",
      "Stack size:        1\n",
      "Flags:             OPTIMIZED, NEWLOCALS, GENERATOR, NOFREE\n",
      "Constants:\n",
      "   0: None\n",
      "   1: 1\n",
      "   2: 2\n",
      "   3: 3\n"
     ]
    }
   ],
   "source": [
    "dis.show_code(something)"
   ]
  },
  {
   "cell_type": "code",
   "execution_count": 99,
   "id": "d80b3edb-502c-4584-b1b8-46387a838f6f",
   "metadata": {},
   "outputs": [
    {
     "name": "stdout",
     "output_type": "stream",
     "text": [
      "0 1 1 2 3 5 8 13 21 34 55 89 144 233 377 610 987 1597 2584 4181 6765 10946 17711 28657 46368 75025 121393 196418 317811 514229 832040 1346269 2178309 3524578 5702887 9227465 14930352 24157817 39088169 63245986 102334155 165580141 267914296 433494437 701408733 1134903170 1836311903 2971215073 4807526976 7778742049 12586269025 "
     ]
    }
   ],
   "source": [
    "def fib():\n",
    "    first = 0\n",
    "    second = 1\n",
    "    while True:\n",
    "        yield first\n",
    "        first, second = second, first+second\n",
    "        \n",
    "for one_number in fib():\n",
    "    print(one_number, end=' ')\n",
    "    \n",
    "    if one_number > 10_000_000_000:\n",
    "        break"
   ]
  },
  {
   "cell_type": "code",
   "execution_count": 100,
   "id": "df5491bc-04f3-497d-9831-1ef76e2e31d2",
   "metadata": {},
   "outputs": [
    {
     "name": "stdout",
     "output_type": "stream",
     "text": [
      "0 1 1 2 3 5 8 13 21 34 55 89 144 233 377 610 987 1597 2584 4181 6765 10946 17711 28657 46368 75025 121393 196418 317811 514229 832040 1346269 2178309 3524578 5702887 9227465 14930352 24157817 39088169 63245986 102334155 165580141 267914296 433494437 701408733 1134903170 1836311903 2971215073 4807526976 7778742049 12586269025 "
     ]
    }
   ],
   "source": [
    "def fib():\n",
    "    first = 0\n",
    "    second = 1\n",
    "    while True:\n",
    "        yield first\n",
    "        first, second = second, first+second\n",
    "        \n",
    "for one_number in fib():\n",
    "    print(one_number, end=' ')\n",
    "    \n",
    "    if one_number > 10_000_000_000:\n",
    "        break"
   ]
  },
  {
   "cell_type": "code",
   "execution_count": 101,
   "id": "82c80aa8-b78a-43c1-9422-f0eccbf74435",
   "metadata": {},
   "outputs": [
    {
     "name": "stdout",
     "output_type": "stream",
     "text": [
      "0 1 1 2 3 5 8 13 21 34 55 89 144 233 377 610 987 1597 2584 4181 6765 10946 17711 28657 46368 75025 121393 196418 317811 514229 832040 1346269 2178309 3524578 5702887 9227465 14930352 24157817 39088169 63245986 102334155 165580141 267914296 433494437 701408733 1134903170 1836311903 2971215073 4807526976 7778742049 12586269025 "
     ]
    }
   ],
   "source": [
    "def fib():\n",
    "    first = 0\n",
    "    second = 1\n",
    "    while True:\n",
    "        yield first\n",
    "        first, second = second, first+second\n",
    "        \n",
    "g = fib()\n",
    "        \n",
    "for one_number in g:\n",
    "    print(one_number, end=' ')\n",
    "    \n",
    "    if one_number > 10_000_000_000:\n",
    "        break"
   ]
  },
  {
   "cell_type": "code",
   "execution_count": 102,
   "id": "142df4d9-5168-4cc0-8d30-4d9680aa8fe7",
   "metadata": {},
   "outputs": [
    {
     "data": {
      "text/plain": [
       "20365011074"
      ]
     },
     "execution_count": 102,
     "metadata": {},
     "output_type": "execute_result"
    }
   ],
   "source": [
    "next(g)"
   ]
  },
  {
   "cell_type": "code",
   "execution_count": 103,
   "id": "cda29e36-96f6-45e5-afe6-9df576fc7d12",
   "metadata": {},
   "outputs": [
    {
     "data": {
      "text/plain": [
       "32951280099"
      ]
     },
     "execution_count": 103,
     "metadata": {},
     "output_type": "execute_result"
    }
   ],
   "source": [
    "next(g)"
   ]
  },
  {
   "cell_type": "code",
   "execution_count": 104,
   "id": "3a5477c8-a490-4578-badf-8eb091ff913e",
   "metadata": {},
   "outputs": [
    {
     "data": {
      "text/plain": [
       "53316291173"
      ]
     },
     "execution_count": 104,
     "metadata": {},
     "output_type": "execute_result"
    }
   ],
   "source": [
    "next(g)"
   ]
  },
  {
   "cell_type": "code",
   "execution_count": 105,
   "id": "fc5e0216-ed1c-4a7f-8b41-6b2aed0149c1",
   "metadata": {},
   "outputs": [
    {
     "data": {
      "text/plain": [
       "['a', 'b', 'c', 'd']"
      ]
     },
     "execution_count": 105,
     "metadata": {},
     "output_type": "execute_result"
    }
   ],
   "source": [
    "list('abcd')"
   ]
  },
  {
   "cell_type": "code",
   "execution_count": 106,
   "id": "2d27cc38-169f-4187-861e-2f9eeb320280",
   "metadata": {},
   "outputs": [
    {
     "data": {
      "text/plain": [
       "[10, 20, 30]"
      ]
     },
     "execution_count": 106,
     "metadata": {},
     "output_type": "execute_result"
    }
   ],
   "source": [
    "list((10, 20, 30))"
   ]
  },
  {
   "cell_type": "markdown",
   "id": "4bfb3170-d1c8-4cf1-9028-37312fec8162",
   "metadata": {},
   "source": [
    "# Exercise: `read_n`\n",
    "\n",
    "When we iterate over a file object, we get each line of the file, one at a time. But there are files from which we might want to read two lines at a time, or 10, 3.\n",
    "\n",
    "The `read_n` generator function takes two arguments:\n",
    "    - `filename`, the name of the file we'll read from\n",
    "    - `n`, the number of lines we should return with each iteration\n",
    "    \n",
    "The idea is that you can iterate over `read_n(filename, 5)` and know that there are five lines in each iteration.  (The five lines should be returned as one string, with newlines ending each of them.\n",
    "\n",
    "Two more things:\n",
    "- If the file ends before you complete `n` lines in the current iteration, then return whatever you've got, and then end the iteration.\n",
    "- It can help to know that `file.readline()` returns a string with the current line, or an empty string if there are no lines left in the file."
   ]
  },
  {
   "cell_type": "code",
   "execution_count": 107,
   "id": "c741c167-70c0-46be-ae54-13fd45b97245",
   "metadata": {},
   "outputs": [
    {
     "name": "stdout",
     "output_type": "stream",
     "text": [
      "3 16 3 76 71 18 2 70 18 3 59 50 54 72 62 64 70 61 71 70 70 72 56 66 62 67 52 63 60 69 58 50 50 54 66 67 59 63 64 61 62 61 62 61 55 55 74 53 65 65 55 56 50 56 88 66 61 70 81 65 62 56 75 65 54 64 75 72 85 72 67 53 55 69 77 74 94 85 97 73 84 68 71 70 63 55 82 74 64 66 76 55 78 80 56 63 82 76 63 55 69 61 99 73 55 63 79 100 57 83 62 77 104 55 67 65 89 60 51 53 "
     ]
    }
   ],
   "source": [
    "for one_line in open('/etc/passwd'):\n",
    "    print(len(one_line), end=' ')"
   ]
  },
  {
   "cell_type": "code",
   "execution_count": 121,
   "id": "f1d89583-9103-4ffb-91f8-a14feb0e3964",
   "metadata": {},
   "outputs": [
    {
     "name": "stdout",
     "output_type": "stream",
     "text": [
      "##\n",
      "# User Database\n",
      "# \n",
      "# Note that this file is consulted directly only when the system is running\n",
      "# in single-user mode.  At other times this information is provided by\n",
      "# Open Directory.\n",
      "#\n",
      "# See the opendirectoryd(8) man page for additional information about\n",
      "# Open Directory.\n",
      "##\n",
      "nobody:*:-2:-2:Unprivileged User:/var/empty:/usr/bin/false\n",
      "root:*:0:0:System Administrator:/var/root:/bin/sh\n",
      "daemon:*:1:1:System Services:/var/root:/usr/bin/false\n",
      "\n",
      "**\n",
      "\n",
      "_uucp:*:4:4:Unix to Unix Copy Protocol:/var/spool/uucp:/usr/sbin/uucico\n",
      "_taskgated:*:13:13:Task Gate Daemon:/var/empty:/usr/bin/false\n",
      "_networkd:*:24:24:Network Services:/var/networkd:/usr/bin/false\n",
      "_installassistant:*:25:25:Install Assistant:/var/empty:/usr/bin/false\n",
      "_lp:*:26:26:Printing Services:/var/spool/cups:/usr/bin/false\n",
      "_postfix:*:27:27:Postfix Mail Server:/var/spool/postfix:/usr/bin/false\n",
      "_scsd:*:31:31:Service Configuration Service:/var/empty:/usr/bin/false\n",
      "_ces:*:32:32:Certificate Enrollment Service:/var/empty:/usr/bin/false\n",
      "_appstore:*:33:33:Mac App Store Service:/var/db/appstore:/usr/bin/false\n",
      "_mcxalr:*:54:54:MCX AppLaunch:/var/empty:/usr/bin/false\n",
      "_appleevents:*:55:55:AppleEvents Daemon:/var/empty:/usr/bin/false\n",
      "_geod:*:56:56:Geo Services Daemon:/var/db/geod:/usr/bin/false\n",
      "_devdocs:*:59:59:Developer Documentation:/var/empty:/usr/bin/false\n",
      "\n",
      "**\n",
      "\n",
      "_sandbox:*:60:60:Seatbelt:/var/empty:/usr/bin/false\n",
      "_mdnsresponder:*:65:65:mDNSResponder:/var/empty:/usr/bin/false\n",
      "_ard:*:67:67:Apple Remote Desktop:/var/empty:/usr/bin/false\n",
      "_www:*:70:70:World Wide Web Server:/Library/WebServer:/usr/bin/false\n",
      "_eppc:*:71:71:Apple Events User:/var/empty:/usr/bin/false\n",
      "_cvs:*:72:72:CVS Server:/var/empty:/usr/bin/false\n",
      "_svn:*:73:73:SVN Server:/var/empty:/usr/bin/false\n",
      "_mysql:*:74:74:MySQL Server:/var/empty:/usr/bin/false\n",
      "_sshd:*:75:75:sshd Privilege separation:/var/empty:/usr/bin/false\n",
      "_qtss:*:76:76:QuickTime Streaming Server:/var/empty:/usr/bin/false\n",
      "_cyrus:*:77:6:Cyrus Administrator:/var/imap:/usr/bin/false\n",
      "_mailman:*:78:78:Mailman List Server:/var/empty:/usr/bin/false\n",
      "_appserver:*:79:79:Application Server:/var/empty:/usr/bin/false\n",
      "\n",
      "**\n",
      "\n",
      "_clamav:*:82:82:ClamAV Daemon:/var/virusmails:/usr/bin/false\n",
      "_amavisd:*:83:83:AMaViS Daemon:/var/virusmails:/usr/bin/false\n",
      "_jabber:*:84:84:Jabber XMPP Server:/var/empty:/usr/bin/false\n",
      "_appowner:*:87:87:Application Owner:/var/empty:/usr/bin/false\n",
      "_windowserver:*:88:88:WindowServer:/var/empty:/usr/bin/false\n",
      "_spotlight:*:89:89:Spotlight:/var/empty:/usr/bin/false\n",
      "_tokend:*:91:91:Token Daemon:/var/empty:/usr/bin/false\n",
      "_securityagent:*:92:92:SecurityAgent:/var/db/securityagent:/usr/bin/false\n",
      "_calendar:*:93:93:Calendar:/var/empty:/usr/bin/false\n",
      "_teamsserver:*:94:94:TeamsServer:/var/teamsserver:/usr/bin/false\n",
      "_update_sharing:*:95:-2:Update Sharing:/var/empty:/usr/bin/false\n",
      "_installer:*:96:-2:Installer:/var/empty:/usr/bin/false\n",
      "_atsserver:*:97:97:ATS Server:/var/empty:/usr/bin/false\n",
      "\n",
      "**\n",
      "\n",
      "_ftp:*:98:-2:FTP Daemon:/var/empty:/usr/bin/false\n",
      "_unknown:*:99:99:Unknown User:/var/empty:/usr/bin/false\n",
      "_softwareupdate:*:200:200:Software Update Service:/var/db/softwareupdate:/usr/bin/false\n",
      "_coreaudiod:*:202:202:Core Audio Daemon:/var/empty:/usr/bin/false\n",
      "_screensaver:*:203:203:Screensaver:/var/empty:/usr/bin/false\n",
      "_locationd:*:205:205:Location Daemon:/var/db/locationd:/usr/bin/false\n",
      "_trustevaluationagent:*:208:208:Trust Evaluation Agent:/var/empty:/usr/bin/false\n",
      "_timezone:*:210:210:AutoTimeZoneDaemon:/var/empty:/usr/bin/false\n",
      "_lda:*:211:211:Local Delivery Agent:/var/empty:/usr/bin/false\n",
      "_cvmsroot:*:212:212:CVMS Root:/var/empty:/usr/bin/false\n",
      "_usbmuxd:*:213:213:iPhone OS Device Helper:/var/db/lockdown:/usr/bin/false\n",
      "_dovecot:*:214:6:Dovecot Administrator:/var/empty:/usr/bin/false\n",
      "_dpaudio:*:215:215:DP Audio:/var/empty:/usr/bin/false\n",
      "\n",
      "**\n",
      "\n",
      "_postgres:*:216:216:PostgreSQL Server:/var/empty:/usr/bin/false\n",
      "_krbtgt:*:217:-2:Kerberos Ticket Granting Ticket:/var/empty:/usr/bin/false\n",
      "_kadmin_admin:*:218:-2:Kerberos Admin Service:/var/empty:/usr/bin/false\n",
      "_kadmin_changepw:*:219:-2:Kerberos Change Password Service:/var/empty:/usr/bin/false\n",
      "_devicemgr:*:220:220:Device Management Server:/var/empty:/usr/bin/false\n",
      "_webauthserver:*:221:221:Web Auth Server:/var/empty:/usr/bin/false\n",
      "_netbios:*:222:222:NetBIOS:/var/empty:/usr/bin/false\n",
      "_warmd:*:224:224:Warm Daemon:/var/empty:/usr/bin/false\n",
      "_dovenull:*:227:227:Dovecot Authentication:/var/empty:/usr/bin/false\n",
      "_netstatistics:*:228:228:Network Statistics Daemon:/var/empty:/usr/bin/false\n",
      "_avbdeviced:*:229:-2:Ethernet AVB Device Daemon:/var/empty:/usr/bin/false\n",
      "_krb_krbtgt:*:230:-2:Open Directory Kerberos Ticket Granting Ticket:/var/empty:/usr/bin/false\n",
      "_krb_kadmin:*:231:-2:Open Directory Kerberos Admin Service:/var/empty:/usr/bin/false\n",
      "\n",
      "**\n",
      "\n",
      "_krb_changepw:*:232:-2:Open Directory Kerberos Change Password Service:/var/empty:/usr/bin/false\n",
      "_krb_kerberos:*:233:-2:Open Directory Kerberos:/var/empty:/usr/bin/false\n",
      "_krb_anonymous:*:234:-2:Open Directory Kerberos Anonymous:/var/empty:/usr/bin/false\n",
      "_assetcache:*:235:235:Asset Cache Service:/var/empty:/usr/bin/false\n",
      "_coremediaiod:*:236:236:Core Media IO Daemon:/var/empty:/usr/bin/false\n",
      "_launchservicesd:*:239:239:_launchservicesd:/var/empty:/usr/bin/false\n",
      "_iconservices:*:240:240:IconServices:/var/empty:/usr/bin/false\n",
      "_distnote:*:241:241:DistNote:/var/empty:/usr/bin/false\n",
      "_nsurlsessiond:*:242:242:NSURLSession Daemon:/var/db/nsurlsessiond:/usr/bin/false\n",
      "_displaypolicyd:*:244:244:Display Policy Daemon:/var/empty:/usr/bin/false\n",
      "_astris:*:245:245:Astris Services:/var/db/astris:/usr/bin/false\n",
      "_krbfast:*:246:-2:Kerberos FAST Account:/var/empty:/usr/bin/false\n",
      "_gamecontrollerd:*:247:247:Game Controller Daemon:/var/empty:/usr/bin/false\n",
      "\n",
      "**\n",
      "\n",
      "_mbsetupuser:*:248:248:Setup User:/var/setup:/bin/bash\n",
      "_ondemand:*:249:249:On Demand Resource Daemon:/var/db/ondemand:/usr/bin/false\n",
      "_xserverdocs:*:251:251:macOS Server Documents Service:/var/empty:/usr/bin/false\n",
      "_wwwproxy:*:252:252:WWW Proxy:/var/empty:/usr/bin/false\n",
      "_mobileasset:*:253:253:MobileAsset User:/var/ma:/usr/bin/false\n",
      "_findmydevice:*:254:254:Find My Device Daemon:/var/db/findmydevice:/usr/bin/false\n",
      "_datadetectors:*:257:257:DataDetectors:/var/db/datadetectors:/usr/bin/false\n",
      "_captiveagent:*:258:258:captiveagent:/var/empty:/usr/bin/false\n",
      "_ctkd:*:259:259:ctkd Account:/var/empty:/usr/bin/false\n",
      "_applepay:*:260:260:applepay Account:/var/db/applepay:/usr/bin/false\n",
      "_hidd:*:261:261:HID Service User:/var/db/hidd:/usr/bin/false\n",
      "_cmiodalassistants:*:262:262:CoreMedia IO Assistants User:/var/db/cmiodalassistants:/usr/bin/false\n",
      "_analyticsd:*:263:263:Analytics Daemon:/var/db/analyticsd:/usr/bin/false\n",
      "\n",
      "**\n",
      "\n",
      "_fpsd:*:265:265:FPS Daemon:/var/db/fpsd:/usr/bin/false\n",
      "_timed:*:266:266:Time Sync Daemon:/var/db/timed:/usr/bin/false\n",
      "_nearbyd:*:268:268:Proximity and Ranging Daemon:/var/db/nearbyd:/usr/bin/false\n",
      "_reportmemoryexception:*:269:269:ReportMemoryException:/var/db/reportmemoryexception:/usr/bin/false\n",
      "_driverkit:*:270:270:DriverKit:/var/empty:/usr/bin/false\n",
      "_diskimagesiod:*:271:271:DiskImages IO Daemon:/var/db/diskimagesiod:/usr/bin/false\n",
      "_logd:*:272:272:Log Daemon:/var/db/diagnostics:/usr/bin/false\n",
      "_appinstalld:*:273:273:App Install Daemon:/var/db/appinstalld:/usr/bin/false\n",
      "_installcoordinationd:*:274:274:Install Coordination Daemon:/var/db/installcoordinationd:/usr/bin/false\n",
      "_demod:*:275:275:Demo Daemon:/var/empty:/usr/bin/false\n",
      "_rmd:*:277:277:Remote Management Daemon:/var/db/rmd:/usr/bin/false\n",
      "_fud:*:278:278:Firmware Update Daemon:/var/db/fud:/usr/bin/false\n",
      "_knowledgegraphd:*:279:279:Knowledge Graph Daemon:/var/db/knowledgegraphd:/usr/bin/false\n",
      "\n",
      "**\n",
      "\n",
      "_coreml:*:280:280:CoreML Services:/var/empty:/usr/bin/false\n",
      "_trustd:*:282:282:trustd:/var/empty:/usr/bin/false\n",
      "_oahd:*:441:441:OAH Daemon:/var/empty:/usr/bin/false\n",
      "\n",
      "**\n",
      "\n"
     ]
    }
   ],
   "source": [
    "def read_n(filename, n):\n",
    "    f = open(filename)\n",
    "    \n",
    "    while True:\n",
    "        output = ''\n",
    "        for _ in range(n):\n",
    "            output  += f.readline()\n",
    "    \n",
    "        if output:  # not an empty string?\n",
    "            yield output\n",
    "        else:\n",
    "            break     # exit the while loop -- and thus the function -- thus raising StopIteration\n",
    "\n",
    "        \n",
    "for one_chunk in read_n('/etc/passwd', 13):\n",
    "    print(one_chunk, end='\\n**\\n\\n')"
   ]
  },
  {
   "cell_type": "code",
   "execution_count": 118,
   "id": "297553e2-3ebc-4b5f-9b91-a0e18b88e0f5",
   "metadata": {},
   "outputs": [
    {
     "name": "stdout",
     "output_type": "stream",
     "text": [
      "##\n",
      "# User Database\n",
      "# \n",
      "# Note that this file is consulted directly only when the system is running\n",
      "# in single-user mode.  At other times this information is provided by\n",
      "# Open Directory.\n",
      "#\n",
      "# See the opendirectoryd(8) man page for additional information about\n",
      "# Open Directory.\n",
      "##\n",
      "nobody:*:-2:-2:Unprivileged User:/var/empty:/usr/bin/false\n",
      "root:*:0:0:System Administrator:/var/root:/bin/sh\n",
      "daemon:*:1:1:System Services:/var/root:/usr/bin/false\n",
      "\n",
      "_uucp:*:4:4:Unix to Unix Copy Protocol:/var/spool/uucp:/usr/sbin/uucico\n",
      "_taskgated:*:13:13:Task Gate Daemon:/var/empty:/usr/bin/false\n",
      "_networkd:*:24:24:Network Services:/var/networkd:/usr/bin/false\n",
      "_installassistant:*:25:25:Install Assistant:/var/empty:/usr/bin/false\n",
      "_lp:*:26:26:Printing Services:/var/spool/cups:/usr/bin/false\n",
      "_postfix:*:27:27:Postfix Mail Server:/var/spool/postfix:/usr/bin/false\n",
      "_scsd:*:31:31:Service Configuration Service:/var/empty:/usr/bin/false\n",
      "_ces:*:32:32:Certificate Enrollment Service:/var/empty:/usr/bin/false\n",
      "_appstore:*:33:33:Mac App Store Service:/var/db/appstore:/usr/bin/false\n",
      "_mcxalr:*:54:54:MCX AppLaunch:/var/empty:/usr/bin/false\n",
      "_appleevents:*:55:55:AppleEvents Daemon:/var/empty:/usr/bin/false\n",
      "_geod:*:56:56:Geo Services Daemon:/var/db/geod:/usr/bin/false\n",
      "_devdocs:*:59:59:Developer Documentation:/var/empty:/usr/bin/false\n",
      "\n",
      "_sandbox:*:60:60:Seatbelt:/var/empty:/usr/bin/false\n",
      "_mdnsresponder:*:65:65:mDNSResponder:/var/empty:/usr/bin/false\n",
      "_ard:*:67:67:Apple Remote Desktop:/var/empty:/usr/bin/false\n",
      "_www:*:70:70:World Wide Web Server:/Library/WebServer:/usr/bin/false\n",
      "_eppc:*:71:71:Apple Events User:/var/empty:/usr/bin/false\n",
      "_cvs:*:72:72:CVS Server:/var/empty:/usr/bin/false\n",
      "_svn:*:73:73:SVN Server:/var/empty:/usr/bin/false\n",
      "_mysql:*:74:74:MySQL Server:/var/empty:/usr/bin/false\n",
      "_sshd:*:75:75:sshd Privilege separation:/var/empty:/usr/bin/false\n",
      "_qtss:*:76:76:QuickTime Streaming Server:/var/empty:/usr/bin/false\n",
      "_cyrus:*:77:6:Cyrus Administrator:/var/imap:/usr/bin/false\n",
      "_mailman:*:78:78:Mailman List Server:/var/empty:/usr/bin/false\n",
      "_appserver:*:79:79:Application Server:/var/empty:/usr/bin/false\n",
      "\n",
      "_clamav:*:82:82:ClamAV Daemon:/var/virusmails:/usr/bin/false\n",
      "_amavisd:*:83:83:AMaViS Daemon:/var/virusmails:/usr/bin/false\n",
      "_jabber:*:84:84:Jabber XMPP Server:/var/empty:/usr/bin/false\n",
      "_appowner:*:87:87:Application Owner:/var/empty:/usr/bin/false\n",
      "_windowserver:*:88:88:WindowServer:/var/empty:/usr/bin/false\n",
      "_spotlight:*:89:89:Spotlight:/var/empty:/usr/bin/false\n",
      "_tokend:*:91:91:Token Daemon:/var/empty:/usr/bin/false\n",
      "_securityagent:*:92:92:SecurityAgent:/var/db/securityagent:/usr/bin/false\n",
      "_calendar:*:93:93:Calendar:/var/empty:/usr/bin/false\n",
      "_teamsserver:*:94:94:TeamsServer:/var/teamsserver:/usr/bin/false\n",
      "_update_sharing:*:95:-2:Update Sharing:/var/empty:/usr/bin/false\n",
      "_installer:*:96:-2:Installer:/var/empty:/usr/bin/false\n",
      "_atsserver:*:97:97:ATS Server:/var/empty:/usr/bin/false\n",
      "\n",
      "_ftp:*:98:-2:FTP Daemon:/var/empty:/usr/bin/false\n",
      "_unknown:*:99:99:Unknown User:/var/empty:/usr/bin/false\n",
      "_softwareupdate:*:200:200:Software Update Service:/var/db/softwareupdate:/usr/bin/false\n",
      "_coreaudiod:*:202:202:Core Audio Daemon:/var/empty:/usr/bin/false\n",
      "_screensaver:*:203:203:Screensaver:/var/empty:/usr/bin/false\n",
      "_locationd:*:205:205:Location Daemon:/var/db/locationd:/usr/bin/false\n",
      "_trustevaluationagent:*:208:208:Trust Evaluation Agent:/var/empty:/usr/bin/false\n",
      "_timezone:*:210:210:AutoTimeZoneDaemon:/var/empty:/usr/bin/false\n",
      "_lda:*:211:211:Local Delivery Agent:/var/empty:/usr/bin/false\n",
      "_cvmsroot:*:212:212:CVMS Root:/var/empty:/usr/bin/false\n",
      "_usbmuxd:*:213:213:iPhone OS Device Helper:/var/db/lockdown:/usr/bin/false\n",
      "_dovecot:*:214:6:Dovecot Administrator:/var/empty:/usr/bin/false\n",
      "_dpaudio:*:215:215:DP Audio:/var/empty:/usr/bin/false\n",
      "\n",
      "_postgres:*:216:216:PostgreSQL Server:/var/empty:/usr/bin/false\n",
      "_krbtgt:*:217:-2:Kerberos Ticket Granting Ticket:/var/empty:/usr/bin/false\n",
      "_kadmin_admin:*:218:-2:Kerberos Admin Service:/var/empty:/usr/bin/false\n",
      "_kadmin_changepw:*:219:-2:Kerberos Change Password Service:/var/empty:/usr/bin/false\n",
      "_devicemgr:*:220:220:Device Management Server:/var/empty:/usr/bin/false\n",
      "_webauthserver:*:221:221:Web Auth Server:/var/empty:/usr/bin/false\n",
      "_netbios:*:222:222:NetBIOS:/var/empty:/usr/bin/false\n",
      "_warmd:*:224:224:Warm Daemon:/var/empty:/usr/bin/false\n",
      "_dovenull:*:227:227:Dovecot Authentication:/var/empty:/usr/bin/false\n",
      "_netstatistics:*:228:228:Network Statistics Daemon:/var/empty:/usr/bin/false\n",
      "_avbdeviced:*:229:-2:Ethernet AVB Device Daemon:/var/empty:/usr/bin/false\n",
      "_krb_krbtgt:*:230:-2:Open Directory Kerberos Ticket Granting Ticket:/var/empty:/usr/bin/false\n",
      "_krb_kadmin:*:231:-2:Open Directory Kerberos Admin Service:/var/empty:/usr/bin/false\n",
      "\n",
      "_krb_changepw:*:232:-2:Open Directory Kerberos Change Password Service:/var/empty:/usr/bin/false\n",
      "_krb_kerberos:*:233:-2:Open Directory Kerberos:/var/empty:/usr/bin/false\n",
      "_krb_anonymous:*:234:-2:Open Directory Kerberos Anonymous:/var/empty:/usr/bin/false\n",
      "_assetcache:*:235:235:Asset Cache Service:/var/empty:/usr/bin/false\n",
      "_coremediaiod:*:236:236:Core Media IO Daemon:/var/empty:/usr/bin/false\n",
      "_launchservicesd:*:239:239:_launchservicesd:/var/empty:/usr/bin/false\n",
      "_iconservices:*:240:240:IconServices:/var/empty:/usr/bin/false\n",
      "_distnote:*:241:241:DistNote:/var/empty:/usr/bin/false\n",
      "_nsurlsessiond:*:242:242:NSURLSession Daemon:/var/db/nsurlsessiond:/usr/bin/false\n",
      "_displaypolicyd:*:244:244:Display Policy Daemon:/var/empty:/usr/bin/false\n",
      "_astris:*:245:245:Astris Services:/var/db/astris:/usr/bin/false\n",
      "_krbfast:*:246:-2:Kerberos FAST Account:/var/empty:/usr/bin/false\n",
      "_gamecontrollerd:*:247:247:Game Controller Daemon:/var/empty:/usr/bin/false\n",
      "\n",
      "_mbsetupuser:*:248:248:Setup User:/var/setup:/bin/bash\n",
      "_ondemand:*:249:249:On Demand Resource Daemon:/var/db/ondemand:/usr/bin/false\n",
      "_xserverdocs:*:251:251:macOS Server Documents Service:/var/empty:/usr/bin/false\n",
      "_wwwproxy:*:252:252:WWW Proxy:/var/empty:/usr/bin/false\n",
      "_mobileasset:*:253:253:MobileAsset User:/var/ma:/usr/bin/false\n",
      "_findmydevice:*:254:254:Find My Device Daemon:/var/db/findmydevice:/usr/bin/false\n",
      "_datadetectors:*:257:257:DataDetectors:/var/db/datadetectors:/usr/bin/false\n",
      "_captiveagent:*:258:258:captiveagent:/var/empty:/usr/bin/false\n",
      "_ctkd:*:259:259:ctkd Account:/var/empty:/usr/bin/false\n",
      "_applepay:*:260:260:applepay Account:/var/db/applepay:/usr/bin/false\n",
      "_hidd:*:261:261:HID Service User:/var/db/hidd:/usr/bin/false\n",
      "_cmiodalassistants:*:262:262:CoreMedia IO Assistants User:/var/db/cmiodalassistants:/usr/bin/false\n",
      "_analyticsd:*:263:263:Analytics Daemon:/var/db/analyticsd:/usr/bin/false\n",
      "\n",
      "_fpsd:*:265:265:FPS Daemon:/var/db/fpsd:/usr/bin/false\n",
      "_timed:*:266:266:Time Sync Daemon:/var/db/timed:/usr/bin/false\n",
      "_nearbyd:*:268:268:Proximity and Ranging Daemon:/var/db/nearbyd:/usr/bin/false\n",
      "_reportmemoryexception:*:269:269:ReportMemoryException:/var/db/reportmemoryexception:/usr/bin/false\n",
      "_driverkit:*:270:270:DriverKit:/var/empty:/usr/bin/false\n",
      "_diskimagesiod:*:271:271:DiskImages IO Daemon:/var/db/diskimagesiod:/usr/bin/false\n",
      "_logd:*:272:272:Log Daemon:/var/db/diagnostics:/usr/bin/false\n",
      "_appinstalld:*:273:273:App Install Daemon:/var/db/appinstalld:/usr/bin/false\n",
      "_installcoordinationd:*:274:274:Install Coordination Daemon:/var/db/installcoordinationd:/usr/bin/false\n",
      "_demod:*:275:275:Demo Daemon:/var/empty:/usr/bin/false\n",
      "_rmd:*:277:277:Remote Management Daemon:/var/db/rmd:/usr/bin/false\n",
      "_fud:*:278:278:Firmware Update Daemon:/var/db/fud:/usr/bin/false\n",
      "_knowledgegraphd:*:279:279:Knowledge Graph Daemon:/var/db/knowledgegraphd:/usr/bin/false\n",
      "\n",
      "_coreml:*:280:280:CoreML Services:/var/empty:/usr/bin/false\n",
      "_trustd:*:282:282:trustd:/var/empty:/usr/bin/false\n",
      "_oahd:*:441:441:OAH Daemon:/var/empty:/usr/bin/false\n",
      "\n"
     ]
    }
   ],
   "source": [
    "def read_n(filename, n):\n",
    "    f = open(filename)\n",
    "    \n",
    "    while True:\n",
    "        output = ''.join([f.readline()\n",
    "                          for _ in range(n)])\n",
    "\n",
    "        if output:  # not an empty string?\n",
    "            yield output\n",
    "        else:\n",
    "            break     # exit the while loop -- and thus the function -- thus raising StopIteration\n",
    "\n",
    "        \n",
    "for one_chunk in read_n('/etc/passwd', 13):\n",
    "    print(one_chunk)"
   ]
  },
  {
   "cell_type": "code",
   "execution_count": 125,
   "id": "a3b018f1-137b-4bab-977b-e7bae0db9db9",
   "metadata": {},
   "outputs": [],
   "source": [
    "def string_add():\n",
    "    s = ''\n",
    "\n",
    "    for i in range(100_000):\n",
    "        s += 'a' * i\n",
    "        \n",
    "    return s"
   ]
  },
  {
   "cell_type": "code",
   "execution_count": 124,
   "id": "22153392-78df-481a-b0c6-b6d7ccaf38ce",
   "metadata": {},
   "outputs": [],
   "source": [
    "def list_add():\n",
    "    output = []\n",
    "\n",
    "    for i in range(100_000):\n",
    "        output.append('a' * i)\n",
    "        \n",
    "    return ''.join(output)"
   ]
  },
  {
   "cell_type": "code",
   "execution_count": 126,
   "id": "0ff31861-d264-4d90-ac01-477a01ddc36a",
   "metadata": {},
   "outputs": [
    {
     "name": "stdout",
     "output_type": "stream",
     "text": [
      "2.06 s ± 14.4 ms per loop (mean ± std. dev. of 7 runs, 1 loop each)\n"
     ]
    }
   ],
   "source": [
    "%timeit string_add()"
   ]
  },
  {
   "cell_type": "code",
   "execution_count": 127,
   "id": "eaa4419d-618e-4a63-8919-02246dbf899f",
   "metadata": {},
   "outputs": [
    {
     "name": "stdout",
     "output_type": "stream",
     "text": [
      "4.26 s ± 93.8 ms per loop (mean ± std. dev. of 7 runs, 1 loop each)\n"
     ]
    }
   ],
   "source": [
    "%timeit list_add()"
   ]
  },
  {
   "cell_type": "code",
   "execution_count": 132,
   "id": "d0fbc197-d10f-4e4c-8fec-1c622ddcaf6b",
   "metadata": {},
   "outputs": [],
   "source": [
    "# using a generator function, we can now basically recreate a for loop!\n",
    "\n",
    "def myfor(data):\n",
    "    i = iter(data)  # runs iter to get the iterator\n",
    "    \n",
    "    while True:     # runs next repeatedly until getting StopIteration\n",
    "        try:\n",
    "            yield next(i)  # yields one value at a time\n",
    "        except StopIteration:\n",
    "            break"
   ]
  },
  {
   "cell_type": "code",
   "execution_count": 133,
   "id": "a63004e8-d157-45b5-9f34-a563844ca470",
   "metadata": {},
   "outputs": [
    {
     "name": "stdout",
     "output_type": "stream",
     "text": [
      "a\n",
      "b\n",
      "c\n",
      "d\n"
     ]
    }
   ],
   "source": [
    "for one_item in myfor('abcd'):\n",
    "    print(one_item)"
   ]
  },
  {
   "cell_type": "code",
   "execution_count": 134,
   "id": "2b968d8d-587e-4769-9e3c-aa1e5bcef0e4",
   "metadata": {},
   "outputs": [
    {
     "data": {
      "text/plain": [
       "[25, 16, 9, 4, 1, 0, 1, 4, 9, 16]"
      ]
     },
     "execution_count": 134,
     "metadata": {},
     "output_type": "execute_result"
    }
   ],
   "source": [
    "# list comprehension\n",
    "[x**2\n",
    " for x in range(-5, 5)]"
   ]
  },
  {
   "cell_type": "code",
   "execution_count": 135,
   "id": "3ff2525e-7718-4330-ae1e-28ddb237f253",
   "metadata": {},
   "outputs": [
    {
     "data": {
      "text/plain": [
       "{0, 1, 4, 9, 16, 25}"
      ]
     },
     "execution_count": 135,
     "metadata": {},
     "output_type": "execute_result"
    }
   ],
   "source": [
    "# set comprehension\n",
    "{x**2\n",
    " for x in range(-5, 5)}"
   ]
  },
  {
   "cell_type": "code",
   "execution_count": 136,
   "id": "53dd6854-9b59-4041-a40d-7f256ecc8499",
   "metadata": {},
   "outputs": [
    {
     "data": {
      "text/plain": [
       "{-5: 25, -4: 16, -3: 9, -2: 4, -1: 1, 0: 0, 1: 1, 2: 4, 3: 9, 4: 16}"
      ]
     },
     "execution_count": 136,
     "metadata": {},
     "output_type": "execute_result"
    }
   ],
   "source": [
    "# dict comprehension\n",
    "{x : x**2\n",
    " for x in range(-5, 5)}"
   ]
  },
  {
   "cell_type": "code",
   "execution_count": 138,
   "id": "3b678863-654e-42a4-80bf-df075b29c538",
   "metadata": {},
   "outputs": [
    {
     "data": {
      "text/plain": [
       "<generator object <genexpr> at 0x110792490>"
      ]
     },
     "execution_count": 138,
     "metadata": {},
     "output_type": "execute_result"
    }
   ],
   "source": [
    "# generator expression or generator comprehension\n",
    "# it looks like a list comprehension... but returns a generator\n",
    "# only when we ask for \"next\" on this object do we get the next object returned\n",
    "(x**2\n",
    " for x in range(-5, 5))"
   ]
  },
  {
   "cell_type": "code",
   "execution_count": 139,
   "id": "aac8f7f8-e166-47d4-bfa6-184275b039a0",
   "metadata": {},
   "outputs": [],
   "source": [
    "g = (x**2\n",
    " for x in range(-5, 5))"
   ]
  },
  {
   "cell_type": "code",
   "execution_count": 140,
   "id": "e0c94ce1-49a3-46b0-9038-a8b4916b5401",
   "metadata": {},
   "outputs": [
    {
     "data": {
      "text/plain": [
       "25"
      ]
     },
     "execution_count": 140,
     "metadata": {},
     "output_type": "execute_result"
    }
   ],
   "source": [
    "next(g)"
   ]
  },
  {
   "cell_type": "code",
   "execution_count": 141,
   "id": "1557547b-553b-433a-88c1-f3a18dc8da46",
   "metadata": {},
   "outputs": [
    {
     "data": {
      "text/plain": [
       "16"
      ]
     },
     "execution_count": 141,
     "metadata": {},
     "output_type": "execute_result"
    }
   ],
   "source": [
    "next(g)\n"
   ]
  },
  {
   "cell_type": "code",
   "execution_count": 142,
   "id": "110c1333-8851-477f-b9fa-b1e8b96f329b",
   "metadata": {},
   "outputs": [
    {
     "data": {
      "text/plain": [
       "9"
      ]
     },
     "execution_count": 142,
     "metadata": {},
     "output_type": "execute_result"
    }
   ],
   "source": [
    "next(g)"
   ]
  },
  {
   "cell_type": "code",
   "execution_count": 144,
   "id": "18aa4d44-9e12-4c4e-9af9-1e68fd6c5d19",
   "metadata": {
    "collapsed": true,
    "jupyter": {
     "outputs_hidden": true
    },
    "tags": []
   },
   "outputs": [
    {
     "name": "stdout",
     "output_type": "stream",
     "text": [
      "##\n",
      "# User Database\n",
      "# \n",
      "# Note that this file is consulted directly only when the system is running\n",
      "# in single-user mode.  At other times this information is provided by\n",
      "# Open Directory.\n",
      "#\n",
      "# See the opendirectoryd(8) man page for additional information about\n",
      "# Open Directory.\n",
      "##\n",
      "nobody:*:-2:-2:Unprivileged User:/var/empty:/usr/bin/false\n",
      "root:*:0:0:System Administrator:/var/root:/bin/sh\n",
      "daemon:*:1:1:System Services:/var/root:/usr/bin/false\n",
      "\n",
      "_uucp:*:4:4:Unix to Unix Copy Protocol:/var/spool/uucp:/usr/sbin/uucico\n",
      "_taskgated:*:13:13:Task Gate Daemon:/var/empty:/usr/bin/false\n",
      "_networkd:*:24:24:Network Services:/var/networkd:/usr/bin/false\n",
      "_installassistant:*:25:25:Install Assistant:/var/empty:/usr/bin/false\n",
      "_lp:*:26:26:Printing Services:/var/spool/cups:/usr/bin/false\n",
      "_postfix:*:27:27:Postfix Mail Server:/var/spool/postfix:/usr/bin/false\n",
      "_scsd:*:31:31:Service Configuration Service:/var/empty:/usr/bin/false\n",
      "_ces:*:32:32:Certificate Enrollment Service:/var/empty:/usr/bin/false\n",
      "_appstore:*:33:33:Mac App Store Service:/var/db/appstore:/usr/bin/false\n",
      "_mcxalr:*:54:54:MCX AppLaunch:/var/empty:/usr/bin/false\n",
      "_appleevents:*:55:55:AppleEvents Daemon:/var/empty:/usr/bin/false\n",
      "_geod:*:56:56:Geo Services Daemon:/var/db/geod:/usr/bin/false\n",
      "_devdocs:*:59:59:Developer Documentation:/var/empty:/usr/bin/false\n",
      "\n",
      "_sandbox:*:60:60:Seatbelt:/var/empty:/usr/bin/false\n",
      "_mdnsresponder:*:65:65:mDNSResponder:/var/empty:/usr/bin/false\n",
      "_ard:*:67:67:Apple Remote Desktop:/var/empty:/usr/bin/false\n",
      "_www:*:70:70:World Wide Web Server:/Library/WebServer:/usr/bin/false\n",
      "_eppc:*:71:71:Apple Events User:/var/empty:/usr/bin/false\n",
      "_cvs:*:72:72:CVS Server:/var/empty:/usr/bin/false\n",
      "_svn:*:73:73:SVN Server:/var/empty:/usr/bin/false\n",
      "_mysql:*:74:74:MySQL Server:/var/empty:/usr/bin/false\n",
      "_sshd:*:75:75:sshd Privilege separation:/var/empty:/usr/bin/false\n",
      "_qtss:*:76:76:QuickTime Streaming Server:/var/empty:/usr/bin/false\n",
      "_cyrus:*:77:6:Cyrus Administrator:/var/imap:/usr/bin/false\n",
      "_mailman:*:78:78:Mailman List Server:/var/empty:/usr/bin/false\n",
      "_appserver:*:79:79:Application Server:/var/empty:/usr/bin/false\n",
      "\n",
      "_clamav:*:82:82:ClamAV Daemon:/var/virusmails:/usr/bin/false\n",
      "_amavisd:*:83:83:AMaViS Daemon:/var/virusmails:/usr/bin/false\n",
      "_jabber:*:84:84:Jabber XMPP Server:/var/empty:/usr/bin/false\n",
      "_appowner:*:87:87:Application Owner:/var/empty:/usr/bin/false\n",
      "_windowserver:*:88:88:WindowServer:/var/empty:/usr/bin/false\n",
      "_spotlight:*:89:89:Spotlight:/var/empty:/usr/bin/false\n",
      "_tokend:*:91:91:Token Daemon:/var/empty:/usr/bin/false\n",
      "_securityagent:*:92:92:SecurityAgent:/var/db/securityagent:/usr/bin/false\n",
      "_calendar:*:93:93:Calendar:/var/empty:/usr/bin/false\n",
      "_teamsserver:*:94:94:TeamsServer:/var/teamsserver:/usr/bin/false\n",
      "_update_sharing:*:95:-2:Update Sharing:/var/empty:/usr/bin/false\n",
      "_installer:*:96:-2:Installer:/var/empty:/usr/bin/false\n",
      "_atsserver:*:97:97:ATS Server:/var/empty:/usr/bin/false\n",
      "\n",
      "_ftp:*:98:-2:FTP Daemon:/var/empty:/usr/bin/false\n",
      "_unknown:*:99:99:Unknown User:/var/empty:/usr/bin/false\n",
      "_softwareupdate:*:200:200:Software Update Service:/var/db/softwareupdate:/usr/bin/false\n",
      "_coreaudiod:*:202:202:Core Audio Daemon:/var/empty:/usr/bin/false\n",
      "_screensaver:*:203:203:Screensaver:/var/empty:/usr/bin/false\n",
      "_locationd:*:205:205:Location Daemon:/var/db/locationd:/usr/bin/false\n",
      "_trustevaluationagent:*:208:208:Trust Evaluation Agent:/var/empty:/usr/bin/false\n",
      "_timezone:*:210:210:AutoTimeZoneDaemon:/var/empty:/usr/bin/false\n",
      "_lda:*:211:211:Local Delivery Agent:/var/empty:/usr/bin/false\n",
      "_cvmsroot:*:212:212:CVMS Root:/var/empty:/usr/bin/false\n",
      "_usbmuxd:*:213:213:iPhone OS Device Helper:/var/db/lockdown:/usr/bin/false\n",
      "_dovecot:*:214:6:Dovecot Administrator:/var/empty:/usr/bin/false\n",
      "_dpaudio:*:215:215:DP Audio:/var/empty:/usr/bin/false\n",
      "\n",
      "_postgres:*:216:216:PostgreSQL Server:/var/empty:/usr/bin/false\n",
      "_krbtgt:*:217:-2:Kerberos Ticket Granting Ticket:/var/empty:/usr/bin/false\n",
      "_kadmin_admin:*:218:-2:Kerberos Admin Service:/var/empty:/usr/bin/false\n",
      "_kadmin_changepw:*:219:-2:Kerberos Change Password Service:/var/empty:/usr/bin/false\n",
      "_devicemgr:*:220:220:Device Management Server:/var/empty:/usr/bin/false\n",
      "_webauthserver:*:221:221:Web Auth Server:/var/empty:/usr/bin/false\n",
      "_netbios:*:222:222:NetBIOS:/var/empty:/usr/bin/false\n",
      "_warmd:*:224:224:Warm Daemon:/var/empty:/usr/bin/false\n",
      "_dovenull:*:227:227:Dovecot Authentication:/var/empty:/usr/bin/false\n",
      "_netstatistics:*:228:228:Network Statistics Daemon:/var/empty:/usr/bin/false\n",
      "_avbdeviced:*:229:-2:Ethernet AVB Device Daemon:/var/empty:/usr/bin/false\n",
      "_krb_krbtgt:*:230:-2:Open Directory Kerberos Ticket Granting Ticket:/var/empty:/usr/bin/false\n",
      "_krb_kadmin:*:231:-2:Open Directory Kerberos Admin Service:/var/empty:/usr/bin/false\n",
      "\n",
      "_krb_changepw:*:232:-2:Open Directory Kerberos Change Password Service:/var/empty:/usr/bin/false\n",
      "_krb_kerberos:*:233:-2:Open Directory Kerberos:/var/empty:/usr/bin/false\n",
      "_krb_anonymous:*:234:-2:Open Directory Kerberos Anonymous:/var/empty:/usr/bin/false\n",
      "_assetcache:*:235:235:Asset Cache Service:/var/empty:/usr/bin/false\n",
      "_coremediaiod:*:236:236:Core Media IO Daemon:/var/empty:/usr/bin/false\n",
      "_launchservicesd:*:239:239:_launchservicesd:/var/empty:/usr/bin/false\n",
      "_iconservices:*:240:240:IconServices:/var/empty:/usr/bin/false\n",
      "_distnote:*:241:241:DistNote:/var/empty:/usr/bin/false\n",
      "_nsurlsessiond:*:242:242:NSURLSession Daemon:/var/db/nsurlsessiond:/usr/bin/false\n",
      "_displaypolicyd:*:244:244:Display Policy Daemon:/var/empty:/usr/bin/false\n",
      "_astris:*:245:245:Astris Services:/var/db/astris:/usr/bin/false\n",
      "_krbfast:*:246:-2:Kerberos FAST Account:/var/empty:/usr/bin/false\n",
      "_gamecontrollerd:*:247:247:Game Controller Daemon:/var/empty:/usr/bin/false\n",
      "\n",
      "_mbsetupuser:*:248:248:Setup User:/var/setup:/bin/bash\n",
      "_ondemand:*:249:249:On Demand Resource Daemon:/var/db/ondemand:/usr/bin/false\n",
      "_xserverdocs:*:251:251:macOS Server Documents Service:/var/empty:/usr/bin/false\n",
      "_wwwproxy:*:252:252:WWW Proxy:/var/empty:/usr/bin/false\n",
      "_mobileasset:*:253:253:MobileAsset User:/var/ma:/usr/bin/false\n",
      "_findmydevice:*:254:254:Find My Device Daemon:/var/db/findmydevice:/usr/bin/false\n",
      "_datadetectors:*:257:257:DataDetectors:/var/db/datadetectors:/usr/bin/false\n",
      "_captiveagent:*:258:258:captiveagent:/var/empty:/usr/bin/false\n",
      "_ctkd:*:259:259:ctkd Account:/var/empty:/usr/bin/false\n",
      "_applepay:*:260:260:applepay Account:/var/db/applepay:/usr/bin/false\n",
      "_hidd:*:261:261:HID Service User:/var/db/hidd:/usr/bin/false\n",
      "_cmiodalassistants:*:262:262:CoreMedia IO Assistants User:/var/db/cmiodalassistants:/usr/bin/false\n",
      "_analyticsd:*:263:263:Analytics Daemon:/var/db/analyticsd:/usr/bin/false\n",
      "\n",
      "_fpsd:*:265:265:FPS Daemon:/var/db/fpsd:/usr/bin/false\n",
      "_timed:*:266:266:Time Sync Daemon:/var/db/timed:/usr/bin/false\n",
      "_nearbyd:*:268:268:Proximity and Ranging Daemon:/var/db/nearbyd:/usr/bin/false\n",
      "_reportmemoryexception:*:269:269:ReportMemoryException:/var/db/reportmemoryexception:/usr/bin/false\n",
      "_driverkit:*:270:270:DriverKit:/var/empty:/usr/bin/false\n",
      "_diskimagesiod:*:271:271:DiskImages IO Daemon:/var/db/diskimagesiod:/usr/bin/false\n",
      "_logd:*:272:272:Log Daemon:/var/db/diagnostics:/usr/bin/false\n",
      "_appinstalld:*:273:273:App Install Daemon:/var/db/appinstalld:/usr/bin/false\n",
      "_installcoordinationd:*:274:274:Install Coordination Daemon:/var/db/installcoordinationd:/usr/bin/false\n",
      "_demod:*:275:275:Demo Daemon:/var/empty:/usr/bin/false\n",
      "_rmd:*:277:277:Remote Management Daemon:/var/db/rmd:/usr/bin/false\n",
      "_fud:*:278:278:Firmware Update Daemon:/var/db/fud:/usr/bin/false\n",
      "_knowledgegraphd:*:279:279:Knowledge Graph Daemon:/var/db/knowledgegraphd:/usr/bin/false\n",
      "\n",
      "_coreml:*:280:280:CoreML Services:/var/empty:/usr/bin/false\n",
      "_trustd:*:282:282:trustd:/var/empty:/usr/bin/false\n",
      "_oahd:*:441:441:OAH Daemon:/var/empty:/usr/bin/false\n",
      "\n"
     ]
    }
   ],
   "source": [
    "def read_n(filename, n):\n",
    "    f = open(filename)\n",
    "    \n",
    "    while True:\n",
    "        output = ''.join(f.readline()   # you only need 1 set of () when passing a generator expression to a function\n",
    "                          for _ in range(n))\n",
    "\n",
    "        if output:  # not an empty string?\n",
    "            yield output\n",
    "        else:\n",
    "            break     # exit the while loop -- and thus the function -- thus raising StopIteration\n",
    "\n",
    "        \n",
    "for one_chunk in read_n('/etc/passwd', 13):\n",
    "    print(one_chunk)"
   ]
  },
  {
   "cell_type": "code",
   "execution_count": 145,
   "id": "0db4cac1-621e-4e59-8d68-b97796dda3e0",
   "metadata": {},
   "outputs": [],
   "source": [
    "def pl_word(one_word):\n",
    "    if one_word[0] in 'aeiou':\n",
    "        return one_word + 'way'    # starts with a vowel? add \"way\" to the end of it\n",
    "    else:\n",
    "        return one_word[1:] + one_word[0] + 'ay'  # otherwise, move 1st letter to end and add 'ay'"
   ]
  },
  {
   "cell_type": "code",
   "execution_count": 146,
   "id": "ece8f38a-1580-4521-bc4a-89c663e3b4f0",
   "metadata": {},
   "outputs": [
    {
     "data": {
      "text/plain": [
       "'ellohay'"
      ]
     },
     "execution_count": 146,
     "metadata": {},
     "output_type": "execute_result"
    }
   ],
   "source": [
    "pl_word('hello')"
   ]
  },
  {
   "cell_type": "code",
   "execution_count": 147,
   "id": "ac80d528-7e46-4379-bf2b-cca143a5cd16",
   "metadata": {},
   "outputs": [
    {
     "data": {
      "text/plain": [
       "'apayapay'"
      ]
     },
     "execution_count": 147,
     "metadata": {},
     "output_type": "execute_result"
    }
   ],
   "source": [
    "pl_word('papaya')"
   ]
  },
  {
   "cell_type": "code",
   "execution_count": 153,
   "id": "5ad3ab8a-bc44-4e6a-aa35-e0e62f8c856b",
   "metadata": {
    "collapsed": true,
    "jupyter": {
     "outputs_hidden": true
    },
    "tags": []
   },
   "outputs": [
    {
     "data": {
      "text/plain": [
       "'ostgreSQLPay ashay onglay laimedcay otay ebay hetay ostmay advancedway open-sourceway elationalray atabase.day orFay hosetay ofway usway howay avehay eenbay usingway itway orfay away onglay ime,tay here\\'stay onay oubtday hattay histay isway rue;tay ostgreSQLPay ashay imetay andway againway emonstratedday itsway abilityway otay andlehay ighhay oadslay andway omplexcay ueriesqay hileway rovidingpay away ichray etsay ofway eaturesfay andway ock-solidray tability.say utBay orfay allway ofway hetay amazingway unctionalityfay hattay ostgreSQLPay offers,way heretay avehay onglay eenbay apsgay andway oles.hay \\'veIay eenbay inway eetingsmay ithway onsultingcay lientscay howay urrentlycay useway racleOay orway icrosoftMay QLSay erver,Say andway areway hinkingtay ofway usingway ostgreSQL,Pay andway howay askway emay aboutway uchsay opicstay asway artitioning.pay rOay ueryqay arallelization.pay ndAay orfay ears,yay \\'veIay eenbay orcedfay otay aysay otay hem,tay Um,\"ay hat\\'stay rue.tay ostgreSQL\\'sPay unctionalityfay inway hattay areaway isway tillsay airlyfay eak.\"way Iay asway hustay uiteqay excitedway henway ostgreSQLPay 0.01ay asway eleasedray inway ctoberOay 017,2ay ringingbay ithway itway away lewsay ofway ewnay eaturesfay andway enhancements.way rue,Tay omesay ofway hesetay eaturesfay tillsay aren\\'tway asway omplexcay orway ophisticatedsay asway ouyay ightmay indfay inway ommercialcay atabases.day utBay heytay oday emonstrateday hattay overway ime,tay ostgreSQLPay isway offeringway anway amazingway amountway ofway unctionalityfay orfay anyway atabase,day etlay aloneway anway open-sourceway roject.pay ndAay inway almostway everyway ase,cay hetay urrentcay unctionalityfay isway ustjay hetay irstfay artpay ofway away ong-termlay oadmapray hattay hetay evelopersday ontinuecay otay ollow.fay nIay histay article,way \\'mIay oinggay otay eviewray omesay ofway hetay ewestnay andway ostmay interestingway eaturesfay inway ostgreSQLPay 01ay --ay otnay onlyway hatway heytay ancay oday orfay ouyay ow,nay utbay hatway eway ancay expectway otay eesay romfay hemtay inway hetay uture,fay asway ell.way fIay ouyay aven\\'thay etyay orkedway ithway ostgreSQL,Pay \\'mIay uessinggay hattay ou\\'llyay ebay impressedway andway amazedway ybay hatway hetay atestlay ersionvay ancay o.day llAay histay inway anway open-sourceway ackagepay hattay isway incrediblyway olid,say oftenway equiresray ittlelay orway onay administration,way andway hichway ontinuescay otay exemplifyway otnay onlyway ighhay oftwaresay uality,qay utbay alsoway away igh-qualityhay open-sourceway rojectpay andway ommunity.cay ostgreSQLPay asicsbay -----------------ay fIay ou\\'reyay ewnay otay ostgreSQL,Pay hentay ere\\'shay away uickqay undown:ray ostgreSQLPay isway away lient-servercay elationalray atabase,day ithway away argelay umbernay ofway ataday ypes,tay away trongsay ystemsay orfay andlinghay ransactions,tay andway unctionsfay overingcay away ideway arietyvay ofway askstay from(ay egularray expressionsway otay ateday alculationscay otay tringsay anipulationmay otay itwisebay arithmetic).way ewNay unctionsfay ancay ebay rittenway usingway away umbernay ofway luginpay anguages,lay ostmay ommonlycay L/PgSQL,Pay odeledmay ooselylay onway racle\\'sOay L/SQL,Pay utbay alsoway uchsay anguageslay asway ython,Pay avaScript,Jay cl,Tay uby,Ray andway .Ray ritingWay unctionsfay inway oneway ofway hesetay extensionway anguageslay rovidespay ouyay ithway otnay onlyway hetay luginpay anguage\\'slay yntax,say utbay alsoway itsway ibrarieslay --ay hichway eansmay hattay ifway ouyay useway ,Ray orfay example,way ouyay ancay unray tatisticalsay analysesway insideway ofway ouryay atabase.day ostgreSQL\\'sPay ransactionstay areway andledhay usingway away ystemsay nownkay asway multiversion\"ay oncurrencycay ontrol\"cay MVCC),(ay hichway educesray hetay umbernay ofway imestay hetay atabaseday ustmay ocklay away ow.ray hisTay oesn\\'tday eanmay hattay eadlocksday evernay appen,hay utbay heytay endtay otay ebay are,ray andway areway elativelyray easyway otay avoid.way heTay eykay hingtay otay understandway inway ostgreSQL\\'sPay VCCMay isway hattay eletingday away owray oesn\\'tday actuallyway eleteday it,way utbay erelymay arksmay itway asway eleted,day ybay indicatingway hattay itway houldsay onay ongerlay ebay isiblevay afterway away articularpay ransaction.tay henWay allway ofway hetay ransactiontay DsIay areway reatergay hantay hattay umber,nay hetay ow\\'sray pacesay ancay ebay eclaimedray and/orway eused,ray away rocesspay nownkay asway vacuuming.\"\"ay hisTay ystemsay alsoway eansmay hattay ifferentday ransactionstay ancay eesay ifferentday ersionsvay ofway hetay amesay owray atway hetay amesay ime,tay hichway educesray ocks.lay VCCMay ancay ebay away itbay ardhay otay understand,way utbay itway isway artpay ofway ostgreSQL\\'sPay uccess,say allowingway usway otay unray anymay ransactionstay inway arallelpay ithoutway orryingway aboutway howay isway eadingray romfay orway ritingway otay hatway ow.ray heTay ostgreSQLPay rojectpay tartedsay oremay hantay 02ay earsyay ago,way hankstay otay away ergermay etweenbay hetay Postgres\"\"ay atabaseday created(ay ybay ichaelMay tonebreaker,Say hentay away rofessorpay atway erkeley,Bay andway anway expertway andway ioneerpay inway hetay areaway ofway atabases)day andway hetay QLSay ueryqay anguage.lay heTay atabaseday riestay otay ollowfay hetay QLSay tandardsay otay away eryvay argelay egree,day ithway hetay ocumentationday indicatingway hereway ommands,cay unctions,fay andway ataday ypestay on\\'tday ollowfay hattay tandard.say orFay wotay ecades,day hetay ostgreSQLPay global\"ay evelopmentday roup\"gay ashay eleasedray away ewnay ersionvay ofway hetay atabaseday oughlyray everyway ear.yay heTay evelopmentday rocess,pay asway ouyay ouldway expectway romfay anway establishedway open-sourceway roject,pay isway othbay ransparenttay andway openway otay ewnay ontributors.cay hatTay aid,say away atabaseday isway away eryvay omplexcay iecepay ofway oftware,say andway oneway hichway annotcay orruptcay ataday orway ogay ownday ifway it\\'sway oinggay otay ontinuecay otay avehay usersway --ay osay evelopmentday endstay otay ebay evolutionary,way atherray hantay evolutionary.ray heTay evelopersday oday avehay away ong-termlay oadmap,ray andway illway oftenway ollray outway eaturesfay incrementallyway acrossway ersionsvay untilway heytay areway omplete.cay eyondBay hetay orecay evelopers,day ostgreSQLPay ashay away argelay andway activeway ommunity,cay ostmay ofway hoseway ommunicationcay akestay lacepay onway e-mailway ists.lay ostgreSQLPay 01ay -------------ay pen-sourceOay rojectspay oftenway hirksay awayway romfay akingmay away igbay ealday outway ofway away oftwaresay elease.ray fterAay all,way ustjay aboutway everyway eleaseray ofway everyway rogrampay ixesfay ugs,bay improvesway erformance,pay andway addsway eatures.fay hatWay oesday itway attermay ifway eway allcay itway .53ay orway .82ay orway 0.0?1ay hatTay aid,say hetay umbernay ofway ugehay eaturesfay inway histay ersionvay ofway ostgreSQLPay ademay itway almostway inevitableway hattay itway asway oinggay otay ebay alledcay 0.0,1ay atherray hantay .79ay following(ay hetay reviouspay ersion,vay .6).9ay hatWay isway osay eservingday ofway histay ig,bay oundray umber?nay woTay igbay andway importantway eaturesfay ereway hetay ainmay easons:ray ogicalLay eplicationray andway etterbay abletay artitions.pay hereTay ereway anymay otherway improvements,way ofway ourse,cay utbay inway histay article,way \\'mIay oinggay otay ocusfay onway hesetay igbay hanges.cay eforeBay eway ontinue,cay Iay houldsay otenay hattay installingway ostgreSQLPay 01ay isway uiteqay easy,way ithway ortspay orfay anymay operatingway ystemssay --ay includingway ariousvay inuxLay istributionsday --ay eadilyray available.way oGay otay hetay ainmay ostgreSQLPay ite,say ttp://PostgreSQL.org/,hay andway lickcay onway hetay inklay orfay download.\"\"ay hatTay illway ivegay ouyay hetay instructionsway ouyay eednay otay addway hetay ostgreSQLPay istributionday otay hetay appropriateway ackagepay epository,ray romfay hichway ouyay ancay hentay ownloadday andway installway it.way fIay ou\\'reyay upgradingway romfay away reviouspay ersion,vay ofway ourse,cay hentay ouyay houldsay ebay away itbay oremay onservative,cay oubleday heckingcay otay akemay uresay hattay hetay ataday ashay eenbay upgradedway orrectly.cay Iay houldsay alsoway otenay hattay inway hetay asecay ofway buntu,Uay hichway \\'mIay unningray onway ymay erver,say hetay umbernay ofway ackagespay availableway orfay ostgreSQLPay 01ay isway assive.may t\\'sIay ormalnay otay installway onlyway hetay asebay erversay andway lientcay ackages,pay utbay heretay areway additionalway onesway orfay omesay esotericway ataday ypes,tay oreignfay ataday rappers,way estingtay ouryay ueries,qay andway evenway uchsay hingstay asway anway internalway roncay ystem,say away ueryqay reprocessor,pay andway away umbernay ofway eplicationray options.way ouYay on\\'tday avehay otay installway allway ofway hem,tay andway robablypay on\\'tway antway otay oday o.say utBay hetay heersay umbernay ofway ackagespay emonstratesday owhay omplexcay andway argelay ostgreSQLPay ashay ottengay overway hetay ears,yay andway owhay uchmay itway oes.day ogicalLay eplicationray -------------------ay orFay ears,yay ostgreSQLPay ackedlay away easonableray optionway orfay eplication.ray heTay estbay ouyay ouldcay oday asway otay aketay hetay write-ahead\"ay ogs,\"lay inarybay ilesfay hattay escribedday ransactionstay andway rovidedpay artpay ofway ostgreSQL\\'sPay egendarylay tability,say andway opycay hemtay otay anotherway erver.say verOay ime,tay histay ecamebay away tandardsay ayway otay avehay away lavesay erver,say untilway everalsay earsyay agoway henway ouyay ouldcay treamsay hesetay rite-aheadway oglay WAL)(ay ilesfay otay anotherway erver.say aster-slaveMay eplicationray hustay ecamebay away tandardsay ostgreSQLPay eature,fay oneway usedway ybay anymay organizationsway aroundway hetay orldway --ay othbay otay istributeday hetay oadlay acrossway ultiplemay ervers,say andway otay rovidepay orfay away ackupbay inway hetay asecay ofway erversay ailure.fay neOay achinemay the(ay aster)may ouldway andlehay othbay eadray andway riteway ueries,qay hileway oneway orway oremay otherway slave)(ay achinesmay ouldway andlehay ead-onlyray ueries.qay hileWay treamingsay ALsWay ertainlycay orked,way itway asway imitedlay inway away umbernay ofway ays:way tIay equiredray hattay othbay astermay andway lavesay useway hetay amesay ersionvay ofway ostgreSQL,Pay andway hattay hetay entireway erver\\'ssay ontentscay ebay eplicatedray onway hetay lave.say orFay easonsray ofway erformance,pay rivacy,pay ecurity,say andway aintenance,may hesetay toppedsay anymay lacespay romfay usingway ostgreSQL\\'sPay aster-slavemay treaming.say tIay asway hustay ithway reatgay anfarefay hattay logical\"ay eplication\"ray asway includedway inway ostgreSQLPay 0.1ay heTay ideaway ehindbay ogicallay eplicationray isway hattay away erversay ancay roadcastbay \"publish\")(ay hetay hangescay hattay areway ademay otnay usingway inarybay iles,fay utbay atherray away rotocolpay hattay escribesday hangescay inway hetay ublishingpay atabase.day oreover,May etailsday ancay ebay ublishedpay aboutway away ubsetsay ofway hetay atabase;day it\\'sway otnay ecessarynay otay endsay absolutelyway everythingway romfay hetay astermay otay everyway inglesay lave.say nIay orderway otay etgay histay otay ork,way hetay ublishingpay erversay ustmay reatecay away publication\".\"ay hisTay escribesday hatway illway ebay entsay otay ubscribingsay ervers.say eWay ancay useway hetay ewnay REATECay UBLICATIONPay ommandcay otay oday his.tay sAay Iay roteway above,way eplicationray ofway hetay ALWay ilesfay eantmay hattay hetay entireway atabaseday erversay \"cluster,\"(ay inway ostgreSQLPay erminology)tay eedednay otay ebay eplicated.ray nIay hetay asecay ofway ogicallay eplication,ray hetay eplicationray isway oneday onway away er-databasepay asis.bay ouYay ancay hentay ecideday otay reatecay away ublicationpay hattay ervessay allway ables:tay REATECay UBLICATIONPay ydbpubmay ORFay LLAay ABLES;Tay oteNay hattay henway ouyay aysay ORFay LLAay ABLES,Tay ou\\'reyay indicatingway hattay ouyay antway otay ublishpay otnay onlyway allway ofway hetay ablestay hattay urrentlycay existway inway histay atabase,day utbay alsoway ablestay hattay ouyay illway reatecay inway hetay uture.fay ostgreSQLPay isway martsay enoughway otay addway ablestay otay hetay ublicationpay henway heytay areway reated.cay owever,Hay hetay ubscribersay on\\'tway nowkay aboutway hemtay automatically;way oremay onway hattay elow.bay fIay ouyay antway otay estrictray hings,tay osay hattay onlyway away pecificsay abletay isway eplicated,ray ouyay ancay oday osay ith:way REATECay UBLICATIONPay yPeoplePubMay ORFay ABLETay eople;Pay ouYay ancay alsoway eplicateray oremay hantay oneway able:tay REATECay UBLICATIONPay yPeopleFooPubMay ORFay ABLETay eople,Pay oo;Fay fIay ouyay areway ublishingpay oneway orway oremay pecificsay ables,tay hetay ablestay ustmay alreadyway existway atway hetay imetay ouyay reatecay hetay ublication.pay heTay efaultday isway otay ublishpay allway actionsway hattay aketay lacepay onway hetay ublishedpay ables.tay owever,Hay away ublicationpay ancay pecifysay hattay it\\'sway onlyway oinggay otay ublishpay inserts,way updates,way and/orway eletes.day llAay ofway histay isway onfigurablecay henway hetay ublicationpay isway reated,cay andway ancay ebay updatedway ithway hetay LTERAay UBLICATIONPay ommandcay aterlay on.way fIay ou\\'reyay usingway hetay interactiveway psql\"\"ay hell,say hentay ouyay ancay aketay away ooklay atway urrentcay ublicationspay ithway dRp,\\\\ay hichway isway hortsay orfay describe\"ay eplicationray ublications.\"pay t\\'sIay otnay hetay easiestway ommandcay otay emember,ray utbay heytay onglay agoway anray outway ofway ogicallay andidatescay orfay ingle-lettersay ommands.cay hisTay ommandcay illway howsay ouyay hichway ublicationspay avehay eenbay efined,day andway alsoway hatway ermissionspay heytay avehay more(ay onway hattay inway away oment).may fIay ouyay antway otay nowkay hichway ablestay areway includedway inway away ublication,pay ouyay ancay useway dRp+.\\\\ay nceOay ou\\'veyay etsay upway hetay ublication,pay ouyay ancay etsay upway away ubscriptionsay ithway not(ay urprisingly)say hetay REATECay UBSCRIPTIONSay ommand.cay ere,Hay hingstay areway away itbay rickier,tay ecausebay hetay ataday isway actuallyway arrivingway intoway hetay ubscriber\\'ssay atabase,day hichway eansmay hattay heretay ightmay ebay onflictscay orway issues.way irstFay andway oremost,fay reatingcay away ubscriptionsay equiresray hattay ouyay avehay away alidvay oginlay username(ay andway assword)pay onway hetay ublisher\\'spay ystem.say ithWay hattay inway and,hay ouyay ancay ay:say REATECay UBSCRIPTIONSay ysubmay ONNECTIONCay host=mydb\\'ay user=myuser\\'way UBLICATIONPay yPeoplePub;May oticeNay hattay eway useway away tandardsay ostgreSQLPay connecting\"ay tring\"say otay onnectcay otay hetay erver.say ouYay ancay useway additionalway optionsway ifway ouyay ant,way includingway ettingsay hetay ortpay umbernay andway hetay onnectioncay imeout.tay ecauseBay away atabaseday ightmay avehay ultiplemay ublications,pay ouyay avehay otay indicateway hetay ublicationpay amenay otay hichway ouyay antway otay ubscribe,say asway indicatedway ere.hay lsoAay otenay hattay hetay userway indicatedway inway histay onnectioncay tringsay ustmay avehay replication\"\"ay rivilegespay inway hetay atabase.day nceOay hetay ubscriptionsay ashay eenbay reated,cay hetay ataday illway ebay eplicatedray romfay itsway urrentcay tatesay onway hetay ublisher.pay eWay avehay alreadyway eensay hattay usingway hetay ORFay LLAay ABLESTay optionway ithway REATECay UBLISHERPay eansmay hattay evenway ifway andway henway ewnay ablestay areway added,way heytay illway ebay includedway asway ell.way owever,Hay hat\\'stay otnay uiteqay ruetay orfay hetay ubscriber:say nOay hetay ubscriber\\'ssay ide,say ouyay eednay otay indicateway hattay heretay avehay eenbay hangescay inway hetay ublisher,pay andway hattay ouyay antway otay efreshray ouryay ubscription:say LTERAay UBSCRIPTIONSay estsubtay EFRESHRay UBLICATION;Pay fIay ouyay avehay everway oneday anyway inarybay eplicationray inway reviouspay ostgreSQLPay ersions,vay ouyay ancay alreadyway eesay hatway anway improvementway histay is:way ouYay on\\'tday avehay otay orryway aboutway ALS,Way aboutway hemtay eingbay erased,way aboutway ettinggay hetay ubscribingsay erversay upway otay peed,say andway osay orth.fay ow,Nay it\\'sway allway ellway andway oodgay otay alktay aboutway eplication,ray utbay heretay isway alwaysway hetay ossibilitypay hattay heretay illway ebay roblems.pay orFay example,way hatway appenshay ifway hetay incomingway ataday iolatesvay oneway orway oremay onstraints?cay nderUay uchsay ircumstances,cay hetay eplicationray illway top.say hereTay areway alsoway away umbernay ofway aveatscay egardingray hatway objectsway areway actuallyway eplicated.ray orFay example,way onlyway ablestay areway eplicated,ray uchsay objectsway asway iewsvay andway equencessay areway ot.nay ableTay artitioningpay ------------------ay et\\'sLay aysay ouyay areway usingway ostgreSQLPay otay eepkay racktay ofway invoices.way ouYay ightmay antway otay avehay anway invoices\"\"ay able,tay hichway ouyay ancay ueryqay ybay ustomercay D,Iay ate,day rice,pay orway otherway actor.fay hat\\'sTay ine,fay utbay hatway appenshay ifway ouryay usinessbay ecomesbay extremelyway opular,pay andway ouyay areway uddenlysay andlinghay otnay ozensday ofway ustomerscay away onth,may utbay housandstay orway evenway illions?may eepingKay allway ofway hattay invoicingway ataday inway away inglesay atabaseday abletay isway oinggay otay ausecay roblems.pay otNay onlyway areway anymay ofway hetay olderway invoicesway akingtay upway pacesay onway ouryay rimarypay ilesystem,fay utbay ouryay ueriesqay againstway hetay abletay areway oinggay otay aketay ongerlay hantay ecessary,nay ecausebay hesetay olderway owsray areway eingbay canned.say Aay tandardsay olutionsay otay histay roblempay inway hetay atabaseday orldway isway artitioning:pay ouYay ivideday hetay abletay intoway oneway orway oremay ub-tables,say nownkay asway partitions.\"\"ay achEay artitionpay ancay existway onway away ifferentday ilesystem.fay ouYay etgay hetay enefitsbay ofway avinghay away inglesay abletay onway away inglesay atabase,day utbay alsoway enjoyway hetay enefitsbay ofway orkingway ithway mallersay ables.tay nfortunately,Uay uchsay artitioningpay asway avaialbleway inway reviouspay ersionsvay ofway ostgreSQLPay --ay andway hileway itway orked,way itway asway ifficultday otay install,way onfigure,cay andway aintain.may ostgreSQLPay 01ay addedway declarative\"ay artitioning,\"pay allowingway ouyay otay indicateway hattay away abletay houldsay ebay rokenbay intoway eparatesay artitions.pay eaning:May henWay ouyay insertway ataday intoway away artitionedpay able,tay ostgreSQLPay ookslay orfay hetay appropriateway artition,pay andway insertsway itway here.tay ostgreSQLPay upportssay wotay ypestay ofway artitioningpay chemes.say nIay othbay ases,cay ouyay avehay otay indicateway oneway orway oremay olumnscay onway hichway hetay artitioningpay illway ebay one.day ouYay ancay artitionpay accordingway otay range\",\"ay inway hichway asecay eachway artitionpay illway ontaincay ataday romfay away angeray ofway alues.vay Aay ypicaltay useway asecay orfay histay indkay ofway artitionpay ouldway ebay ates,day uchsay asway ourway invoicesway exampleway above.way utBay ouyay ancay alsoway artitionpay overway away list\"\"ay alue,vay hichway eansmay hattay ouyay ivideday hingstay accordingway otay alues.vay orFay example,way ouyay ightmay antway otay avehay away eparatesay artitionpay orfay eachway tatesay inway hetay S,Uay orway erhapspay ustjay orfay ifferentday egions.ray itherEay ay,way hetay istlay illway etermineday hichway artitionpay eceivesray hetay ata.day orFay example,way eway ancay implementway ourway ateday invoiceway exampleway romfay aboveway asway ollows:fay irst,Fay eway reatecay anway nvoicesIay able:tay ostgres=#pay REATECay ABLETay nvoicesIay (ay idway ERIAL,Say issued_atway IMESTAMPTay OTNay ULL,Nay ustomer_namecay EXTTay OTNay ULL,Nay amountway NTEGERIay OTNay ULL,Nay roduct_boughtpay EXTTay OTNay ULLNay )ay artitionpay ybay angeray issued_at);(ay REATECay ABLETay And(ay es,yay inway anway actualway invoiceway ystem,say eway ouldway ebay usingway oreignfay eyskay otay eepkay racktay ofway ustomerscay andway roducts.)pay oticeNay hattay atway hetay onclusioncay ofway hetay CREATE\"ay ABLE\"Tay ommand,cay \\'veIay addedway away partition\"ay ybay ange\"ray tatement,say hichway indicatesway hattay artitionspay ofway histay abletay illway orkway accordingway otay angesray onway issued_at\",\"ay away imestamp.tay utBay erhapspay evenway oremay interestingway isway hetay actfay hattay id\",\"ay ourway ERIALSay i.e.,(ay equence)say alue,vay isway otnay efinedday asway away rimarypay ey.kay hat\\'sTay ecausebay ouyay annotcay avehay away rimarypay eykay onway away artitionedpay able;tay hattay ouldway equireray heckingcay away onstraintcay acrossway hetay ariousvay artitions,pay hichway ostgreSQLPay annotcay uarantee.gay ithWay hetay artitionedpay abletay inway lace,pay eway ancay ownay reatecay hetay individualway artitions:pay ostgres=#pay REATECay ABLETay issued_at_y2018m01way ARTITIONPay FOay nvoicesIay ORFay ALUESVay ROMFay \\'2018-jan-01\\')(ay otay \\'2018-jan-31\\');(ay REATECay ABLETay ostgres=#pay REATECay ABLETay issued_at_y2018m02way ARTITIONPay FOay nvoicesIay ostgres-#pay ORFay ALUESVay ROMFay \\'2018-feb-01\\')(ay otay \\'2018-feb-28\\');(ay REATECay ABLETay oticeNay hattay hesetay artitionspay on\\'tday avehay anyway olumncay efinition.day hat\\'sTay ecausebay hetay olumnscay areway ictatedday ybay hetay artitionedpay able.tay nIay sql,pay Iay ancay askway orfay away escriptionday ofway hetay irstfay artition:pay ableTay public.issued_at_y2018m01\"\"ay olumnCay |ay ypeTay |ay ollationCay |ay ullableNay |ay efaultDay ---------------+-----------------------------+-----------+----------+---------------------------------------ay idway |ay integerway |ay |ay otnay ullnay |ay extval(\\'invoices_id_seq\\'::regclass)nay issued_atway |ay imestamptay ithoutway imetay onezay |ay |ay otnay ullnay |ay ustomer_namecay |ay exttay |ay |ay otnay ullnay |ay amountway |ay integerway |ay |ay otnay ullnay |ay roduct_boughtpay |ay exttay |ay |ay otnay ullnay |ay artitionPay of:way invoicesway ORFay ALUESVay ROMFay \\'2018-01-01(ay 0:00:00\\')0ay OTay \\'2018-01-31(ay 0:00:00\\')0ay eWay ancay eesay erehay otnay onlyway hattay hetay artitionpay actsway ikelay away egularray able,tay utbay hattay itway nowskay eryvay ellway hatway itsway angeray ofway aluesvay is.way hatWay appenshay ifway Iay ownay insertway owsray intoway hetay arentpay invoices\"\"ay able?tay ostgres=#pay insertway intoway invoicesway issued_at(ay ,ay ustomer_name,cay amount,way roduct_bought)pay ostgres-#pay aluesvay \\'2018-jan-15\\',(ay Jane\\'ay anuary\\',Jay 00,1ay Book\\');\\'ay NSERTIay 0ay 1ay ostgres=#pay insertway intoway invoicesway issued_at(ay ,ay ustomer_name,cay amount,way roduct_bought)pay aluesvay \\'2018-jan-20\\',(ay Jane\\'ay anuary\\',Jay 00,2ay Another\\'ay ook\\');bay NSERTIay 0ay 1ay ostgres=#pay insertway intoway invoicesway issued_at(ay ,ay ustomer_name,cay amount,way roduct_bought)pay aluesvay \\'2018-feb-3\\',(ay Fred\\'ay ebruary\\',Fay 0,7ay Fancy\\'ay en\\');pay NSERTIay 0ay 1ay ostgres=#pay insertway intoway invoicesway issued_at(ay ,ay ustomer_name,cay amount,way roduct_bought)pay aluesvay \\'2018-feb-15\\',(ay Fred\\'ay ebruary\\',Fay 0,6ay Book\\');\\'ay NSERTIay 0ay 1ay oSay ar,fay osay ood.gay utBay hatway ifway Iay oday away ueryqay onway invoices\"?\"ay ostgres=#pay electsay *ay romfay invoices;way idway |ay issued_atway |ay ustomer_namecay |ay amountway |ay roduct_boughtpay ---+---------------------+---------------+--------+-----------------ay 3ay |ay 018-02-032ay 0:00:000ay |ay redFay ebruaryFay |ay 07ay |ay ancyFay enpay 4ay |ay 018-02-152ay 0:00:000ay |ay redFay ebruaryFay |ay 06ay |ay ookBay 1ay |ay 018-01-152ay 0:00:000ay |ay aneJay anuaryJay |ay 001ay |ay ookBay 2ay |ay 018-01-202ay 0:00:000ay |ay aneJay anuaryJay |ay 002ay |ay notherAay ookbay 4(ay ows)ray Iay ancay also,way ifway Iay ant,way ueryqay oneway ofway hetay artitionspay irectly:day ostgres=#pay electsay *ay romfay issued_at_y2018m01way ;ay idway |ay issued_atway |ay ustomer_namecay |ay amountway |ay roduct_boughtpay ---+---------------------+---------------+--------+-----------------ay 1ay |ay 018-01-152ay 0:00:000ay |ay aneJay anuaryJay |ay 001ay |ay ookBay 2ay |ay 018-01-202ay 0:00:000ay |ay aneJay anuaryJay |ay 002ay |ay notherAay ookbay 2(ay ows)ray hileWay eway on\\'tday avehay otay oday o,say it\\'sway robablypay away oodgay ideaway otay etsay anway indexway onway hetay artitionpay eykay onway eachway ofway hetay individualway artitions:pay ostgres=#pay reatecay indexway onway issued_at_y2018m01(issued_at);way REATECay NDEXIay ostgres=#pay reatecay indexway onway issued_at_y2018m02(issued_at);way REATECay NDEXIay hatTay illway elphay ostgreSQLPay otay indfay andway updateway hetay appropriateway artition.pay otNay everythingway isway automaticway orway agicalmay ere;hay ou\\'llyay avehay otay addway artitions,pay andway ancay evenway emoveray hemtay henway onay ongerlay eeded.nay utBay histay isway osay uchmay easierway hantay usedway otay ebay hetay ase,cay andway offerway oremay lexibilityfay asway ell.way t\\'sIay onay urprisesay hattay histay isway oneway ofway hetay eaturesfay ostmay outedtay inway ostgreSQLPay 0.1ay onclusionCay ----------ay Iay avehay ersonallypay eenbay usingway ostgreSQLPay orfay aboutway 02ay earsyay --ay andway afterway osay anymay earsyay inway hichway eoplepay aid,say Really?\"ay hat\\'sTay ouryay referredpay open-sourceway atabase?\"day eway eesay away argelay andway rowinggay umbernay ofway eoplepay adoptingway andway usingway ostgreSQL.Pay tIay asway alreadyway ullfay ofway reatgay eatures,fay utbay here\\'stay alwaysway oomray otay improveway --ay andway ithway ostgreSQLPay 0,1ay heretay areway evenway oremay easonsray otay referpay itway overway hetay alternatives.way esourcesRay ---------ay ouYay ancay earnlay oremay aboutway ostgreSQL,Pay ownloadday hetay ode,cay eadray hetay ocumentation,day ignsay upway orfay hetay ommunitycay e-mailway ists,lay ogay otay ttp://PostgreSQL.org/.hay ioBay ---ay euvenRay ernerLay eachestay ython,Pay ataday cience,say andway itGay otay ompaniescay aroundway hetay orld.way isHay ree,fay eeklyway better\"ay evelopers\"day e-mailway istlay eachesray housandstay ofway evelopersday eachway eek;way ubscribesay atway ttp://lerner.co.il/newsletterhay .ay euvenRay iveslay ithway ishay ifeway andway hildrencay inway odi\\'in,May srael.Iay'"
      ]
     },
     "execution_count": 153,
     "metadata": {},
     "output_type": "execute_result"
    }
   ],
   "source": [
    "# I want to turn each word in my column into Pig Latin\n",
    "\n",
    "filename = '/Users/reuven/Consulting/LinuxJournal/articles/2018-02-postgresql.txt'\n",
    "\n",
    "' '.join(pl_word(one_word)\n",
    " for one_line in open(filename)\n",
    " for one_word in one_line.split())"
   ]
  },
  {
   "cell_type": "code",
   "execution_count": 154,
   "id": "be4338e4-54c2-43a7-8f31-8516b56215d3",
   "metadata": {},
   "outputs": [],
   "source": [
    "# itertools -- in the standard library, which provides many pre-made, generic iterator classes"
   ]
  },
  {
   "cell_type": "markdown",
   "id": "4b128955-4161-4475-90d4-47bd136da8f7",
   "metadata": {},
   "source": [
    "# Decorators!"
   ]
  },
  {
   "cell_type": "code",
   "execution_count": 155,
   "id": "d63e91da-8c9a-4144-a4f8-fdf4448b1935",
   "metadata": {},
   "outputs": [
    {
     "name": "stdout",
     "output_type": "stream",
     "text": [
      "A\n",
      "\n",
      "B\n",
      "\n"
     ]
    }
   ],
   "source": [
    "def a():\n",
    "    return 'A\\n'\n",
    "\n",
    "def b():\n",
    "    return 'B\\n'\n",
    "\n",
    "print(a())\n",
    "print(b())"
   ]
  },
  {
   "cell_type": "code",
   "execution_count": 159,
   "id": "0a8c6056-a4ca-41a5-b4ac-9e34f1aad02c",
   "metadata": {},
   "outputs": [
    {
     "name": "stdout",
     "output_type": "stream",
     "text": [
      "----------\n",
      "A\n",
      "----------\n",
      "\n",
      "----------\n",
      "B\n",
      "----------\n",
      "\n"
     ]
    }
   ],
   "source": [
    "# we need to change things, so that we print dashed lines both before and after anything we print\n",
    "\n",
    "lines = '-' * 10 + '\\n'\n",
    "\n",
    "def a():\n",
    "    return f'{lines}A\\n{lines}'\n",
    "\n",
    "def b():\n",
    "    return f'{lines}B\\n{lines}'\n",
    "\n",
    "print(a())\n",
    "print(b())"
   ]
  },
  {
   "cell_type": "code",
   "execution_count": 162,
   "id": "8c27e7ac-2b86-4825-8e57-040bfbfa119b",
   "metadata": {},
   "outputs": [
    {
     "name": "stdout",
     "output_type": "stream",
     "text": [
      "----------\n",
      "A\n",
      "----------\n",
      "\n",
      "----------\n",
      "B\n",
      "----------\n",
      "\n"
     ]
    }
   ],
   "source": [
    "# I'll write a function, and that function will take another function as an argument\n",
    "\n",
    "lines = '-' * 10 + '\\n'\n",
    "\n",
    "def with_lines(func):\n",
    "    return f'{lines}{func()}{lines}'\n",
    "\n",
    "def a():\n",
    "    return f'A\\n'\n",
    "\n",
    "def b():\n",
    "    return f'B\\n'\n",
    "\n",
    "print(with_lines(a))\n",
    "print(with_lines(b))"
   ]
  },
  {
   "cell_type": "code",
   "execution_count": 163,
   "id": "9d93ca58-782c-4119-b0ca-a3cd84202390",
   "metadata": {},
   "outputs": [
    {
     "name": "stdout",
     "output_type": "stream",
     "text": [
      "----------\n",
      "A\n",
      "----------\n",
      "\n",
      "----------\n",
      "B\n",
      "----------\n",
      "\n"
     ]
    }
   ],
   "source": [
    "# I'll write a function, and that function will take another function as an argument\n",
    "\n",
    "lines = '-' * 10 + '\\n'\n",
    "\n",
    "def with_lines(func):\n",
    "    def wrapper():\n",
    "        return f'{lines}{func()}{lines}'\n",
    "    return wrapper\n",
    "\n",
    "def a():\n",
    "    return f'A\\n'\n",
    "with_lines_a = with_lines(a)\n",
    "\n",
    "def b():\n",
    "    return f'B\\n'\n",
    "with_lines_b = with_lines(b)\n",
    "\n",
    "print(with_lines_a())\n",
    "print(with_lines_b())"
   ]
  },
  {
   "cell_type": "code",
   "execution_count": 165,
   "id": "421d6895-9608-4421-ad79-c794a142d0b0",
   "metadata": {},
   "outputs": [
    {
     "name": "stdout",
     "output_type": "stream",
     "text": [
      "----------\n",
      "A\n",
      "----------\n",
      "\n",
      "----------\n",
      "B\n",
      "----------\n",
      "\n"
     ]
    }
   ],
   "source": [
    "# I'll write a function, and that function will take another function as an argument\n",
    "\n",
    "lines = '-' * 10 + '\\n'\n",
    "\n",
    "def with_lines(func):\n",
    "    def wrapper():\n",
    "        return f'{lines}{func()}{lines}'\n",
    "    return wrapper\n",
    "\n",
    "def a():\n",
    "    return f'A\\n'\n",
    "a = with_lines(a)  # call with_lines(a) and assign its returned value back to a\n",
    "\n",
    "def b():\n",
    "    return f'B\\n'\n",
    "b = with_lines(b)   # call with_lines(b) and assign its returned value back to b\n",
    "\n",
    "print(a())\n",
    "print(b())"
   ]
  },
  {
   "cell_type": "code",
   "execution_count": 171,
   "id": "c0aa117d-f300-4d07-aff0-7d673217482b",
   "metadata": {},
   "outputs": [
    {
     "name": "stdout",
     "output_type": "stream",
     "text": [
      "----------\n",
      "A\n",
      "----------\n",
      "\n",
      "----------\n",
      "B\n",
      "----------\n",
      "\n",
      "----------\n",
      "8----------\n",
      "\n"
     ]
    }
   ],
   "source": [
    "# I'll write a function, and that function will take another function as an argument\n",
    "\n",
    "lines = '-' * 10 + '\\n'\n",
    "\n",
    "def with_lines(func):\n",
    "    def wrapper(*args):\n",
    "        return f'{lines}{func(*args)}{lines}'   # call the original function, passing all positional args we got for it\n",
    "    return wrapper\n",
    "\n",
    "@with_lines    # decorator -- it's a function that takes a function and returns a function\n",
    "def a():\n",
    "    return f'A\\n'\n",
    "#  a = with_lines(a)  # call with_lines(a) and assign its returned value back to a\n",
    "\n",
    "@with_lines\n",
    "def b():\n",
    "    return f'B\\n'\n",
    "#  b = with_lines(b)   # call with_lines(b) and assign its returned value back to b\n",
    "\n",
    "@with_lines\n",
    "def add(first, second):\n",
    "    return first + second\n",
    "\n",
    "print(a())\n",
    "print(b())\n",
    "print(add(3, 5))"
   ]
  },
  {
   "cell_type": "markdown",
   "id": "da7429b9-a780-4290-9dc7-a0c5145dad95",
   "metadata": {},
   "source": [
    "# Decorators\n",
    "\n",
    "A decorator is a function that takes a function as an argument, and returns a function as its result.  Using the `@` syntax, the inner function then replaces the definition of the originally decorated function.\n",
    "\n",
    "So what? What can we do with this?\n",
    "\n",
    "A: Lots and lots of things. Because we now have the option of \"hijacking\" the function at definition time (outer decorator function) and/or at runtime (inner decorator function) and doing whatever we want:\n",
    "\n",
    "- Check the time, and only allow the function to run between 10:00 - 14:00\n",
    "- Check permissions, and allow/disallow use of the function\n",
    "- Log information about the function's call (inputs, outputs, timing)\n",
    "- Change/filter the input arguments\n",
    "- Change/filter the outputs"
   ]
  },
  {
   "cell_type": "code",
   "execution_count": 167,
   "id": "04463604-0785-418b-abc6-8197ae16dbd3",
   "metadata": {},
   "outputs": [
    {
     "data": {
      "text/plain": [
       "'wrapper'"
      ]
     },
     "execution_count": 167,
     "metadata": {},
     "output_type": "execute_result"
    }
   ],
   "source": [
    "a.__name__"
   ]
  },
  {
   "cell_type": "code",
   "execution_count": 168,
   "id": "d7ea6a8c-6d7c-40d7-82a4-a68a44d02052",
   "metadata": {},
   "outputs": [
    {
     "data": {
      "text/plain": [
       "'wrapper'"
      ]
     },
     "execution_count": 168,
     "metadata": {},
     "output_type": "execute_result"
    }
   ],
   "source": [
    "b.__name__"
   ]
  },
  {
   "cell_type": "code",
   "execution_count": 172,
   "id": "4f5256f2-9581-465d-aa2c-2ba58023e897",
   "metadata": {},
   "outputs": [],
   "source": [
    "def with_lines(func):    # outer function always gets one argument, func\n",
    "    def wrapper(*args):  # inner function, often called wrapper, gets *args and often **kwargs\n",
    "        return f'{lines}{func(*args)}{lines}'  # when you call the function, pass *args\n",
    "    return wrapper"
   ]
  },
  {
   "cell_type": "markdown",
   "id": "083ccc01-1f77-48f8-b6b0-d041bb38db62",
   "metadata": {},
   "source": [
    "# Exercise: timefunc\n",
    "\n",
    "1. Write two functions, `slow_add` and `slow_mul` that take two arguments and add/multiply them, returning the result. These functions should use `time.sleep` to wait a bit (maybe `random.randint(0, 3)`) before returning a result.\n",
    "2. Write a decorator, `timefunc`, that you then apply to these two functions.  `timefunc` doesn't change the inputs or outputs.  But it does write into a file, `timing.txt`:\n",
    "    - the name of the function you ran\n",
    "    - the time when the function was called\n",
    "    - how long (in seconds) it took to call\n",
    "3. You can always get the current time in seconds with `time.time()`.    \n",
    "    "
   ]
  },
  {
   "cell_type": "code",
   "execution_count": 175,
   "id": "d7a706ce-faf9-447d-a479-425cdacea9b6",
   "metadata": {},
   "outputs": [
    {
     "name": "stdout",
     "output_type": "stream",
     "text": [
      "8\n",
      "13\n",
      "16\n",
      "28\n"
     ]
    }
   ],
   "source": [
    "import time\n",
    "import random\n",
    "\n",
    "def timefunc(func):\n",
    "    def wrapper(*args):\n",
    "        start_time = time.perf_counter()\n",
    "        result = func(*args)\n",
    "        end_time = time.perf_counter()\n",
    "        \n",
    "        with open('timing.txt', 'a') as f:\n",
    "            f.write(f'{func.__name__}\\t{start_time}\\t{end_time-start_time}\\n')\n",
    "        \n",
    "        return result\n",
    "    return wrapper\n",
    "\n",
    "@timefunc\n",
    "def slow_add(first, second):\n",
    "    time.sleep(random.randint(0, 3))\n",
    "    return first + second\n",
    "\n",
    "@timefunc\n",
    "def slow_mul(first, second):\n",
    "    time.sleep(random.randint(0, 3))\n",
    "    return first * second\n",
    "\n",
    "print(slow_add(3, 5))\n",
    "print(slow_add(10, 3))\n",
    "print(slow_mul(2, 8))\n",
    "print(slow_mul(4, 7))"
   ]
  },
  {
   "cell_type": "code",
   "execution_count": 176,
   "id": "b8a6b5e3-1820-4dcf-b93b-f19efffe8f15",
   "metadata": {},
   "outputs": [
    {
     "name": "stdout",
     "output_type": "stream",
     "text": [
      "slow_add\t1924650.216263359\t3.003411108162254\n",
      "slow_add\t1924653.220209225\t2.0019261490087956\n",
      "slow_mul\t1924655.222507626\t3.0049616950564086\n",
      "slow_mul\t1924658.22786907\t1.3418029993772507e-05\n"
     ]
    }
   ],
   "source": [
    "!cat timing.txt"
   ]
  },
  {
   "cell_type": "code",
   "execution_count": 182,
   "id": "e0d4b4bc-8c51-4e0e-b4b9-fb03f7fef51a",
   "metadata": {},
   "outputs": [
    {
     "name": "stdout",
     "output_type": "stream",
     "text": [
      "8\n"
     ]
    },
    {
     "ename": "CalledTooOftenError",
     "evalue": "You must wait 58.99650192260742 more secs",
     "output_type": "error",
     "traceback": [
      "\u001b[0;31m---------------------------------------------------------------------------\u001b[0m",
      "\u001b[0;31mCalledTooOftenError\u001b[0m                       Traceback (most recent call last)",
      "\u001b[0;32m/var/folders/rr/0mnyyv811fs5vyp22gf4fxk00000gn/T/ipykernel_20835/1519247766.py\u001b[0m in \u001b[0;36m<module>\u001b[0;34m\u001b[0m\n\u001b[1;32m     30\u001b[0m \u001b[0;34m\u001b[0m\u001b[0m\n\u001b[1;32m     31\u001b[0m \u001b[0mprint\u001b[0m\u001b[0;34m(\u001b[0m\u001b[0mslow_add\u001b[0m\u001b[0;34m(\u001b[0m\u001b[0;36m3\u001b[0m\u001b[0;34m,\u001b[0m \u001b[0;36m5\u001b[0m\u001b[0;34m)\u001b[0m\u001b[0;34m)\u001b[0m\u001b[0;34m\u001b[0m\u001b[0;34m\u001b[0m\u001b[0m\n\u001b[0;32m---> 32\u001b[0;31m \u001b[0mprint\u001b[0m\u001b[0;34m(\u001b[0m\u001b[0mslow_add\u001b[0m\u001b[0;34m(\u001b[0m\u001b[0;36m10\u001b[0m\u001b[0;34m,\u001b[0m \u001b[0;36m3\u001b[0m\u001b[0;34m)\u001b[0m\u001b[0;34m)\u001b[0m\u001b[0;34m\u001b[0m\u001b[0;34m\u001b[0m\u001b[0m\n\u001b[0m\u001b[1;32m     33\u001b[0m \u001b[0mprint\u001b[0m\u001b[0;34m(\u001b[0m\u001b[0mslow_mul\u001b[0m\u001b[0;34m(\u001b[0m\u001b[0;36m2\u001b[0m\u001b[0;34m,\u001b[0m \u001b[0;36m8\u001b[0m\u001b[0;34m)\u001b[0m\u001b[0;34m)\u001b[0m\u001b[0;34m\u001b[0m\u001b[0;34m\u001b[0m\u001b[0m\n\u001b[1;32m     34\u001b[0m \u001b[0mprint\u001b[0m\u001b[0;34m(\u001b[0m\u001b[0mslow_mul\u001b[0m\u001b[0;34m(\u001b[0m\u001b[0;36m4\u001b[0m\u001b[0;34m,\u001b[0m \u001b[0;36m7\u001b[0m\u001b[0;34m)\u001b[0m\u001b[0;34m)\u001b[0m\u001b[0;34m\u001b[0m\u001b[0;34m\u001b[0m\u001b[0m\n",
      "\u001b[0;32m/var/folders/rr/0mnyyv811fs5vyp22gf4fxk00000gn/T/ipykernel_20835/1519247766.py\u001b[0m in \u001b[0;36mwrapper\u001b[0;34m(*args)\u001b[0m\n\u001b[1;32m     12\u001b[0m         \u001b[0mcurrent_time\u001b[0m \u001b[0;34m=\u001b[0m \u001b[0mtime\u001b[0m\u001b[0;34m.\u001b[0m\u001b[0mtime\u001b[0m\u001b[0;34m(\u001b[0m\u001b[0;34m)\u001b[0m\u001b[0;34m\u001b[0m\u001b[0;34m\u001b[0m\u001b[0m\n\u001b[1;32m     13\u001b[0m         \u001b[0;32mif\u001b[0m \u001b[0mcurrent_time\u001b[0m \u001b[0;34m-\u001b[0m \u001b[0mlast_ran_at\u001b[0m \u001b[0;34m<\u001b[0m \u001b[0;36m60\u001b[0m\u001b[0;34m:\u001b[0m\u001b[0;34m\u001b[0m\u001b[0;34m\u001b[0m\u001b[0m\n\u001b[0;32m---> 14\u001b[0;31m             \u001b[0;32mraise\u001b[0m \u001b[0mCalledTooOftenError\u001b[0m\u001b[0;34m(\u001b[0m\u001b[0;34mf'You must wait {60 - (current_time - last_ran_at)} more secs'\u001b[0m\u001b[0;34m)\u001b[0m\u001b[0;34m\u001b[0m\u001b[0;34m\u001b[0m\u001b[0m\n\u001b[0m\u001b[1;32m     15\u001b[0m \u001b[0;34m\u001b[0m\u001b[0m\n\u001b[1;32m     16\u001b[0m         \u001b[0mresult\u001b[0m \u001b[0;34m=\u001b[0m \u001b[0mfunc\u001b[0m\u001b[0;34m(\u001b[0m\u001b[0;34m*\u001b[0m\u001b[0margs\u001b[0m\u001b[0;34m)\u001b[0m\u001b[0;34m\u001b[0m\u001b[0;34m\u001b[0m\u001b[0m\n",
      "\u001b[0;31mCalledTooOftenError\u001b[0m: You must wait 58.99650192260742 more secs"
     ]
    }
   ],
   "source": [
    "# I want to restrict how often a function can be run\n",
    "# in particular, I want to ensure that a decorated function can only run once per minute\n",
    "\n",
    "class CalledTooOftenError(Exception):\n",
    "    pass\n",
    "\n",
    "def once_per_minute(func):    # run once, at function definition time\n",
    "    last_ran_at = 0\n",
    "    def wrapper(*args):      # run many times, instead of our decorated function\n",
    "        nonlocal last_ran_at   # don't record last_ran_at as a local variable -- use the outer variable\n",
    "        \n",
    "        current_time = time.time()\n",
    "        if current_time - last_ran_at < 60:\n",
    "            raise CalledTooOftenError(f'You must wait {60 - (current_time - last_ran_at)} more secs')\n",
    "            \n",
    "        result = func(*args)\n",
    "        last_ran_at = current_time\n",
    "        return result\n",
    "    return wrapper    \n",
    "\n",
    "@once_per_minute\n",
    "def slow_add(first, second):\n",
    "    time.sleep(random.randint(0, 3))\n",
    "    return first + second\n",
    "\n",
    "@once_per_minute\n",
    "def slow_mul(first, second):\n",
    "    time.sleep(random.randint(0, 3))\n",
    "    return first * second\n",
    "\n",
    "print(slow_add(3, 5))\n",
    "print(slow_add(10, 3))\n",
    "print(slow_mul(2, 8))\n",
    "print(slow_mul(4, 7))"
   ]
  },
  {
   "cell_type": "markdown",
   "id": "657dc7ce-0201-487d-bca4-44618dd50163",
   "metadata": {},
   "source": [
    "# Exercise: Memoization!\n",
    "\n",
    "Memoization is a classic caching technique. The idea is that if you call a function with arguments, the memoization system will check to see if it has already called the function with those arguments in the past. If so, then it returns the value it got before, without running the function.  If not, then it runs the function, and stores the result in its cache for the next time.\n",
    "\n",
    "I want you to write a `@memoize` decorator that looks at the positional arguments of a function (in order, as well).  When we call a function for the first time, the memoize decorator will really call it, and then store the result in its cache.  On subsequent calls, it'll return the cached value from before.\n",
    "\n",
    "```python\n",
    "@memoize\n",
    "def slow_add(first, second):\n",
    "    time.sleep(random.randint(0, 3))\n",
    "    return first + second\n",
    "\n",
    "@memoize\n",
    "def slow_mul(first, second):\n",
    "    time.sleep(random.randint(0, 3))\n",
    "    return first * second\n",
    "\n",
    "print(slow_add(3, 5))  # really run\n",
    "print(slow_add(3, 5))  # use the cache\n",
    "print(slow_mul(3, 5))  # really run\n",
    "print(slow_mul(3, 5))  # use the cache\n",
    "```"
   ]
  },
  {
   "cell_type": "code",
   "execution_count": 183,
   "id": "b60a9537-da39-4522-9580-cf56a3d561cd",
   "metadata": {},
   "outputs": [
    {
     "name": "stdout",
     "output_type": "stream",
     "text": [
      "Really calling slow_add\n",
      "8\n",
      "Using cached value for (3, 5)\n",
      "8\n",
      "Really calling slow_mul\n",
      "15\n",
      "Using cached value for (3, 5)\n",
      "15\n"
     ]
    }
   ],
   "source": [
    "def memoize(func):\n",
    "    cache = {}\n",
    "    def wrapper(*args):\n",
    "        if args not in cache:\n",
    "            print(f'Really calling {func.__name__}')\n",
    "            cache[args] = func(*args)\n",
    "        else:\n",
    "            print(f'Using cached value for {args}')\n",
    "            \n",
    "        return cache[args]\n",
    "    return wrapper\n",
    "\n",
    "\n",
    "@memoize\n",
    "def slow_add(first, second):\n",
    "    time.sleep(random.randint(0, 3))\n",
    "    return first + second\n",
    "\n",
    "@memoize\n",
    "def slow_mul(first, second):\n",
    "    time.sleep(random.randint(0, 3))\n",
    "    return first * second\n",
    "\n",
    "print(slow_add(3, 5))  # really run\n",
    "print(slow_add(3, 5))  # use the cache\n",
    "print(slow_mul(3, 5))  # really run\n",
    "print(slow_mul(3, 5))  # use the cache"
   ]
  },
  {
   "cell_type": "code",
   "execution_count": 184,
   "id": "b2d9f93f-c854-4263-af10-01c69edfd57e",
   "metadata": {},
   "outputs": [
    {
     "data": {
      "text/plain": [
       "[10, 20, 30, 40, 50, 60]"
      ]
     },
     "execution_count": 184,
     "metadata": {},
     "output_type": "execute_result"
    }
   ],
   "source": [
    "[10, 20, 30] + [40, 50, 60]"
   ]
  },
  {
   "cell_type": "code",
   "execution_count": 185,
   "id": "5a0006a9-47da-453f-a338-c0910568d246",
   "metadata": {},
   "outputs": [
    {
     "ename": "TypeError",
     "evalue": "unhashable type: 'list'",
     "output_type": "error",
     "traceback": [
      "\u001b[0;31m---------------------------------------------------------------------------\u001b[0m",
      "\u001b[0;31mTypeError\u001b[0m                                 Traceback (most recent call last)",
      "\u001b[0;32m/var/folders/rr/0mnyyv811fs5vyp22gf4fxk00000gn/T/ipykernel_20835/3685754727.py\u001b[0m in \u001b[0;36m<module>\u001b[0;34m\u001b[0m\n\u001b[0;32m----> 1\u001b[0;31m \u001b[0mslow_add\u001b[0m\u001b[0;34m(\u001b[0m\u001b[0;34m[\u001b[0m\u001b[0;36m10\u001b[0m\u001b[0;34m,\u001b[0m \u001b[0;36m20\u001b[0m\u001b[0;34m]\u001b[0m\u001b[0;34m,\u001b[0m \u001b[0;34m[\u001b[0m\u001b[0;36m40\u001b[0m\u001b[0;34m,\u001b[0m \u001b[0;36m50\u001b[0m\u001b[0;34m]\u001b[0m\u001b[0;34m)\u001b[0m\u001b[0;34m\u001b[0m\u001b[0;34m\u001b[0m\u001b[0m\n\u001b[0m",
      "\u001b[0;32m/var/folders/rr/0mnyyv811fs5vyp22gf4fxk00000gn/T/ipykernel_20835/2111815802.py\u001b[0m in \u001b[0;36mwrapper\u001b[0;34m(*args)\u001b[0m\n\u001b[1;32m      2\u001b[0m     \u001b[0mcache\u001b[0m \u001b[0;34m=\u001b[0m \u001b[0;34m{\u001b[0m\u001b[0;34m}\u001b[0m\u001b[0;34m\u001b[0m\u001b[0;34m\u001b[0m\u001b[0m\n\u001b[1;32m      3\u001b[0m     \u001b[0;32mdef\u001b[0m \u001b[0mwrapper\u001b[0m\u001b[0;34m(\u001b[0m\u001b[0;34m*\u001b[0m\u001b[0margs\u001b[0m\u001b[0;34m)\u001b[0m\u001b[0;34m:\u001b[0m\u001b[0;34m\u001b[0m\u001b[0;34m\u001b[0m\u001b[0m\n\u001b[0;32m----> 4\u001b[0;31m         \u001b[0;32mif\u001b[0m \u001b[0margs\u001b[0m \u001b[0;32mnot\u001b[0m \u001b[0;32min\u001b[0m \u001b[0mcache\u001b[0m\u001b[0;34m:\u001b[0m\u001b[0;34m\u001b[0m\u001b[0;34m\u001b[0m\u001b[0m\n\u001b[0m\u001b[1;32m      5\u001b[0m             \u001b[0mprint\u001b[0m\u001b[0;34m(\u001b[0m\u001b[0;34mf'Really calling {func.__name__}'\u001b[0m\u001b[0;34m)\u001b[0m\u001b[0;34m\u001b[0m\u001b[0;34m\u001b[0m\u001b[0m\n\u001b[1;32m      6\u001b[0m             \u001b[0mcache\u001b[0m\u001b[0;34m[\u001b[0m\u001b[0margs\u001b[0m\u001b[0;34m]\u001b[0m \u001b[0;34m=\u001b[0m \u001b[0mfunc\u001b[0m\u001b[0;34m(\u001b[0m\u001b[0;34m*\u001b[0m\u001b[0margs\u001b[0m\u001b[0;34m)\u001b[0m\u001b[0;34m\u001b[0m\u001b[0;34m\u001b[0m\u001b[0m\n",
      "\u001b[0;31mTypeError\u001b[0m: unhashable type: 'list'"
     ]
    }
   ],
   "source": [
    "slow_add([10, 20], [40, 50])"
   ]
  },
  {
   "cell_type": "markdown",
   "id": "84cef35e-eef3-41e5-92b3-55654bcee326",
   "metadata": {},
   "source": [
    "# Next up\n",
    "\n",
    "- More on decorators\n",
    "     - Decorators with arguments\n",
    "     - Multiple decorators\n",
    "     - static and class methods -- their decorators\n",
    "     - Improving our decorated functions\n",
    "- Threads, processes, asyncio     \n",
    "\n",
    "We'll take 1:15 for lunch -- return at 13:50 Paris Time\n"
   ]
  },
  {
   "cell_type": "code",
   "execution_count": 188,
   "id": "d2eb9539-cab1-40df-b352-476b27ef2485",
   "metadata": {},
   "outputs": [
    {
     "name": "stdout",
     "output_type": "stream",
     "text": [
      "8\n"
     ]
    },
    {
     "ename": "CalledTooOftenError",
     "evalue": "You must wait 4.997631072998047 more secs",
     "output_type": "error",
     "traceback": [
      "\u001b[0;31m---------------------------------------------------------------------------\u001b[0m",
      "\u001b[0;31mCalledTooOftenError\u001b[0m                       Traceback (most recent call last)",
      "\u001b[0;32m/var/folders/rr/0mnyyv811fs5vyp22gf4fxk00000gn/T/ipykernel_20835/2847714116.py\u001b[0m in \u001b[0;36m<module>\u001b[0;34m\u001b[0m\n\u001b[1;32m     39\u001b[0m \u001b[0;34m\u001b[0m\u001b[0m\n\u001b[1;32m     40\u001b[0m \u001b[0mprint\u001b[0m\u001b[0;34m(\u001b[0m\u001b[0mslow_add\u001b[0m\u001b[0;34m(\u001b[0m\u001b[0;36m3\u001b[0m\u001b[0;34m,\u001b[0m \u001b[0;36m5\u001b[0m\u001b[0;34m)\u001b[0m\u001b[0;34m)\u001b[0m\u001b[0;34m\u001b[0m\u001b[0;34m\u001b[0m\u001b[0m\n\u001b[0;32m---> 41\u001b[0;31m \u001b[0mprint\u001b[0m\u001b[0;34m(\u001b[0m\u001b[0mslow_add\u001b[0m\u001b[0;34m(\u001b[0m\u001b[0;36m10\u001b[0m\u001b[0;34m,\u001b[0m \u001b[0;36m3\u001b[0m\u001b[0;34m)\u001b[0m\u001b[0;34m)\u001b[0m\u001b[0;34m\u001b[0m\u001b[0;34m\u001b[0m\u001b[0m\n\u001b[0m\u001b[1;32m     42\u001b[0m \u001b[0mprint\u001b[0m\u001b[0;34m(\u001b[0m\u001b[0mslow_mul\u001b[0m\u001b[0;34m(\u001b[0m\u001b[0;36m2\u001b[0m\u001b[0;34m,\u001b[0m \u001b[0;36m8\u001b[0m\u001b[0;34m)\u001b[0m\u001b[0;34m)\u001b[0m\u001b[0;34m\u001b[0m\u001b[0;34m\u001b[0m\u001b[0m\n\u001b[1;32m     43\u001b[0m \u001b[0mprint\u001b[0m\u001b[0;34m(\u001b[0m\u001b[0mslow_mul\u001b[0m\u001b[0;34m(\u001b[0m\u001b[0;36m4\u001b[0m\u001b[0;34m,\u001b[0m \u001b[0;36m7\u001b[0m\u001b[0;34m)\u001b[0m\u001b[0;34m)\u001b[0m\u001b[0;34m\u001b[0m\u001b[0;34m\u001b[0m\u001b[0m\n",
      "\u001b[0;32m/var/folders/rr/0mnyyv811fs5vyp22gf4fxk00000gn/T/ipykernel_20835/2847714116.py\u001b[0m in \u001b[0;36mwrapper\u001b[0;34m(*args)\u001b[0m\n\u001b[1;32m     11\u001b[0m             \u001b[0mcurrent_time\u001b[0m \u001b[0;34m=\u001b[0m \u001b[0mtime\u001b[0m\u001b[0;34m.\u001b[0m\u001b[0mtime\u001b[0m\u001b[0;34m(\u001b[0m\u001b[0;34m)\u001b[0m\u001b[0;34m\u001b[0m\u001b[0;34m\u001b[0m\u001b[0m\n\u001b[1;32m     12\u001b[0m             \u001b[0;32mif\u001b[0m \u001b[0mcurrent_time\u001b[0m \u001b[0;34m-\u001b[0m \u001b[0mlast_ran_at\u001b[0m \u001b[0;34m<\u001b[0m \u001b[0mn\u001b[0m\u001b[0;34m:\u001b[0m\u001b[0;34m\u001b[0m\u001b[0;34m\u001b[0m\u001b[0m\n\u001b[0;32m---> 13\u001b[0;31m                 \u001b[0;32mraise\u001b[0m \u001b[0mCalledTooOftenError\u001b[0m\u001b[0;34m(\u001b[0m\u001b[0;34mf'You must wait {n - (current_time - last_ran_at)} more secs'\u001b[0m\u001b[0;34m)\u001b[0m\u001b[0;34m\u001b[0m\u001b[0;34m\u001b[0m\u001b[0m\n\u001b[0m\u001b[1;32m     14\u001b[0m \u001b[0;34m\u001b[0m\u001b[0m\n\u001b[1;32m     15\u001b[0m             \u001b[0mresult\u001b[0m \u001b[0;34m=\u001b[0m \u001b[0mfunc\u001b[0m\u001b[0;34m(\u001b[0m\u001b[0;34m*\u001b[0m\u001b[0margs\u001b[0m\u001b[0;34m)\u001b[0m\u001b[0;34m\u001b[0m\u001b[0;34m\u001b[0m\u001b[0m\n",
      "\u001b[0;31mCalledTooOftenError\u001b[0m: You must wait 4.997631072998047 more secs"
     ]
    }
   ],
   "source": [
    "\n",
    "class CalledTooOftenError(Exception):\n",
    "    pass\n",
    "\n",
    "def once_per_n(n):\n",
    "    def middle(func):\n",
    "        last_ran_at = 0\n",
    "\n",
    "        def wrapper(*args):      # run many times, instead of our decorated function\n",
    "            nonlocal last_ran_at   # don't record last_ran_at as a local variable -- use the outer variable\n",
    "\n",
    "            current_time = time.time()\n",
    "            if current_time - last_ran_at < n:\n",
    "                raise CalledTooOftenError(f'You must wait {n - (current_time - last_ran_at)} more secs')\n",
    "\n",
    "            result = func(*args)\n",
    "            last_ran_at = current_time\n",
    "            return result\n",
    "        return wrapper    \n",
    "    return middle\n",
    "\n",
    "@once_per_n(6)\n",
    "def slow_add(first, second):\n",
    "    time.sleep(random.randint(0, 3))\n",
    "    return first + second\n",
    "\n",
    "# slow_add = once_per_n(60)(slow_add)\n",
    "\n",
    "# for this to work, we need *three* functions in our decorator:\n",
    "# - the decorator function, which takes an argument, and returns...\n",
    "# - the middle function, which takes the decorated function, and returns...\n",
    "# - wrapper, the innermost function, which takes *args\n",
    "\n",
    "@once_per_n(2)\n",
    "def slow_mul(first, second):\n",
    "    time.sleep(random.randint(0, 3))\n",
    "    return first * second\n",
    "\n",
    "# slow_mul = once_per_n(2)(slow_mul)\n",
    "\n",
    "print(slow_add(3, 5))\n",
    "print(slow_add(10, 3))\n",
    "print(slow_mul(2, 8))\n",
    "print(slow_mul(4, 7))"
   ]
  },
  {
   "cell_type": "markdown",
   "id": "4abb62a8-5dfc-4645-9a7d-f0f7b40abd6a",
   "metadata": {},
   "source": [
    "# Exercise: only_allow\n",
    "\n",
    "Write a decorator function, `only_allow`, which takes a class as an argument.  It removes any arguments to the decorated function that are *not* of that class.  \n",
    "\n",
    "Example:\n",
    "\n",
    "```python\n",
    "@only_allow(int)   # remove any arguments to mysum that are not ints\n",
    "def mysum(*numbers):\n",
    "    total = 0\n",
    "    for one_number in numbers:\n",
    "        total += one_number\n",
    "    return total\n",
    "```\n",
    "\n",
    "If I have the above in place, then even if I call `mysum(10, 'abcd', 20, 30)`, it'll work, returning 60 -- because the string argument `abcd` will be filtered out of the arguments actually passed to `mysum`."
   ]
  },
  {
   "cell_type": "code",
   "execution_count": 191,
   "id": "a392a91d-6d64-4a59-8986-3314e470cd72",
   "metadata": {},
   "outputs": [
    {
     "name": "stdout",
     "output_type": "stream",
     "text": [
      "60\n",
      "60\n"
     ]
    }
   ],
   "source": [
    "def only_allow(the_type):\n",
    "    def middle(func):\n",
    "        def wrapper(*args):\n",
    "            new_args = []\n",
    "            for one_arg in args:\n",
    "                if isinstance(one_arg, the_type):\n",
    "                    new_args.append(one_arg)\n",
    "            \n",
    "            return func(*new_args)  # * unrolls the elements of new_args, to become separate arguments\n",
    "        return wrapper\n",
    "    return middle\n",
    "\n",
    "\n",
    "@only_allow(int)\n",
    "def mysum(*numbers):  # any number of positional arguments, all in the tuple numbers\n",
    "    total = 0\n",
    "    for one_number in numbers:\n",
    "        total += one_number\n",
    "    return total\n",
    "\n",
    "print(mysum(10, 20, 30))\n",
    "print(mysum(10, 20, 'abcd', 30, len, {'a':1}))\n"
   ]
  },
  {
   "cell_type": "code",
   "execution_count": null,
   "id": "df499387-d853-43d9-8021-a86ffa575812",
   "metadata": {},
   "outputs": [],
   "source": []
  }
 ],
 "metadata": {
  "kernelspec": {
   "display_name": "Python 3 (ipykernel)",
   "language": "python",
   "name": "python3"
  },
  "language_info": {
   "codemirror_mode": {
    "name": "ipython",
    "version": 3
   },
   "file_extension": ".py",
   "mimetype": "text/x-python",
   "name": "python",
   "nbconvert_exporter": "python",
   "pygments_lexer": "ipython3",
   "version": "3.10.0"
  }
 },
 "nbformat": 4,
 "nbformat_minor": 5
}
