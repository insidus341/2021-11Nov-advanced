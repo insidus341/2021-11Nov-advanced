{
 "cells": [
  {
   "cell_type": "code",
   "execution_count": null,
   "id": "16b2fa55-1cb9-4aa3-9daf-883bd9ac73c5",
   "metadata": {},
   "outputs": [],
   "source": []
  },
  {
   "cell_type": "markdown",
   "id": "28ec8133-06cb-4af8-94e5-98578599dea3",
   "metadata": {
    "tags": []
   },
   "source": [
    "# Agenda\n",
    "\n",
    "1. Iterator protocol\n",
    "    - Adding iterations to classes\n",
    "    - Generator functions\n",
    "    - Generator comprehensions\n",
    "2. Decorators\n",
    "3. Threading and multiprocessing"
   ]
  },
  {
   "cell_type": "markdown",
   "id": "9c55fbc0-3c4e-47a5-9e2d-1542d7adbc0e",
   "metadata": {},
   "source": [
    "# `__str__` vs. `__repr__`\n",
    "\n",
    "Both of these methods should return strings. The question is, when is each one run?\n",
    "\n",
    "Normally `__str__` is run:\n",
    "- Whenever we run `str` on something\n",
    "- If we use `print` on something (because it uses `str` behind the scenes)\n",
    "- In other words: When we want to turn our object into a string, to display it to end users\n",
    "\n",
    "Normally, `__repr__` is run:\n",
    "- If we're in a debugger\n",
    "- If we're in Jupyter (and not using `print`, but just asking for the value of a variable)\n",
    "- Inside of other data structures (e.g., if we have a list of `Scoop` objects, Python will use `__repr__` and not `__str__` to show us the list)\n",
    "- In other words: It's meant for developers, not for end users\n",
    "\n",
    "But:\n",
    "- If we only define `__str__`, then it does *not* cover cases for `__repr__`\n",
    "- If we only define `__repr__`, then it *DOES* cover all cases, including those of `__str__`\n",
    "- In theory, `__repr__` is supposed to return a string that is a valid Python expression."
   ]
  },
  {
   "cell_type": "code",
   "execution_count": 2,
   "id": "aecf5b71-508a-420f-be4b-7c28925708b7",
   "metadata": {},
   "outputs": [
    {
     "name": "stdout",
     "output_type": "stream",
     "text": [
      "repr for Person {'name': 'Reuven'}\n"
     ]
    }
   ],
   "source": [
    "class Person:\n",
    "    def __init__(self, name):\n",
    "        self.name = name\n",
    "        \n",
    "    def __str__(self):\n",
    "        return f'str for Person {vars(self)}'\n",
    "\n",
    "    def __repr__(self):\n",
    "        return f'repr for Person {vars(self)}'\n",
    "\n",
    "    def __format__(self, code):\n",
    "        return f'format for Person {vars(self)}'\n",
    "    \n",
    "p = Person('Reuven')\n",
    "\n",
    "print(f'{p}')"
   ]
  },
  {
   "cell_type": "markdown",
   "id": "cb79b529-448d-44b8-af21-fbae16a725f9",
   "metadata": {},
   "source": [
    "# Iterator protocol\n",
    "\n",
    "\n"
   ]
  },
  {
   "cell_type": "code",
   "execution_count": 5,
   "id": "a687d945-1503-4033-8934-eae238e419e2",
   "metadata": {},
   "outputs": [
    {
     "name": "stdout",
     "output_type": "stream",
     "text": [
      "a\n",
      "b\n",
      "c\n",
      "d\n"
     ]
    }
   ],
   "source": [
    "for one_character in 'abcd':\n",
    "    print(one_character)"
   ]
  },
  {
   "cell_type": "code",
   "execution_count": 6,
   "id": "390d5795-098b-40bc-9c4e-90275235e370",
   "metadata": {},
   "outputs": [
    {
     "name": "stdout",
     "output_type": "stream",
     "text": [
      "0: a\n",
      "1: b\n",
      "2: c\n",
      "3: d\n"
     ]
    }
   ],
   "source": [
    "for index, one_character in enumerate('abcd'):\n",
    "    print(f'{index}: {one_character}')"
   ]
  },
  {
   "cell_type": "markdown",
   "id": "a722d251-1907-4e05-949a-53b46d9fcb66",
   "metadata": {},
   "source": [
    "# What happens in a `for` loop?\n",
    "\n",
    "- \"Iterable\" means: Can be put in a `for` loop\n",
    "- \"Iterator\" means: We can ask it for its next object, if it has one\n",
    "Sometimes, an iterable is an iterator, and sometimes it isn't.\n",
    "\n",
    "- `for` turns to the object and asks if it's iterable. It does this by running the `iter` function on that object. (You will probably never run `iter` in an actual program.)\n",
    "    - if `iter` returns an object, that object is the \"iterator\" on which we're going to work\n",
    "    - Otherwise, we get a `TypeError` exception, indicating that no, the object is not iterable\n",
    "- Assuming that we get an iterator object back, we call the `next` function on it.\n",
    "    - We might get something back. That's the value for the current iteration\n",
    "    - Or we might get `StopIteration`, an exception that says we're at the end of the iterator.\n",
    "- We keep repeating the above section, calling `next` until we get a `StopIteration` exception."
   ]
  },
  {
   "cell_type": "code",
   "execution_count": 7,
   "id": "3383a120-7e9c-4e26-a388-27adff786673",
   "metadata": {},
   "outputs": [],
   "source": [
    "s = 'abcd'\n",
    "\n",
    "i = iter(s)   # we ask: is s iterable? If so, return its iterator and assign to i."
   ]
  },
  {
   "cell_type": "code",
   "execution_count": 8,
   "id": "c5886467-e753-4806-8702-0c8da046a6f6",
   "metadata": {},
   "outputs": [
    {
     "data": {
      "text/plain": [
       "<str_iterator at 0x10f5d1930>"
      ]
     },
     "execution_count": 8,
     "metadata": {},
     "output_type": "execute_result"
    }
   ],
   "source": [
    "i"
   ]
  },
  {
   "cell_type": "code",
   "execution_count": 9,
   "id": "46b9d796-0a70-42f1-8f2e-3920b997916c",
   "metadata": {},
   "outputs": [
    {
     "data": {
      "text/plain": [
       "<str_iterator at 0x10f5d2560>"
      ]
     },
     "execution_count": 9,
     "metadata": {},
     "output_type": "execute_result"
    }
   ],
   "source": [
    "i = iter(s)\n",
    "i"
   ]
  },
  {
   "cell_type": "code",
   "execution_count": 10,
   "id": "a68089e9-3b86-4d6e-a54e-7c8c325c6e62",
   "metadata": {},
   "outputs": [
    {
     "data": {
      "text/plain": [
       "'a'"
      ]
     },
     "execution_count": 10,
     "metadata": {},
     "output_type": "execute_result"
    }
   ],
   "source": [
    "next(i)   # ask i for its next value"
   ]
  },
  {
   "cell_type": "code",
   "execution_count": 11,
   "id": "4f260bef-7bc3-4da3-af53-9a75d4bfaaa8",
   "metadata": {},
   "outputs": [
    {
     "data": {
      "text/plain": [
       "'b'"
      ]
     },
     "execution_count": 11,
     "metadata": {},
     "output_type": "execute_result"
    }
   ],
   "source": [
    " next(i)"
   ]
  },
  {
   "cell_type": "code",
   "execution_count": 12,
   "id": "384fa207-a916-41ae-880b-0a1bf5f92250",
   "metadata": {},
   "outputs": [
    {
     "data": {
      "text/plain": [
       "'c'"
      ]
     },
     "execution_count": 12,
     "metadata": {},
     "output_type": "execute_result"
    }
   ],
   "source": [
    "next(i)"
   ]
  },
  {
   "cell_type": "code",
   "execution_count": 13,
   "id": "6ecf9ce9-849a-41d9-a92d-0535f27ef157",
   "metadata": {},
   "outputs": [
    {
     "data": {
      "text/plain": [
       "'d'"
      ]
     },
     "execution_count": 13,
     "metadata": {},
     "output_type": "execute_result"
    }
   ],
   "source": [
    "next(i)"
   ]
  },
  {
   "cell_type": "code",
   "execution_count": 14,
   "id": "057b6875-fee3-4be7-9622-ba991221fa14",
   "metadata": {},
   "outputs": [
    {
     "ename": "StopIteration",
     "evalue": "",
     "output_type": "error",
     "traceback": [
      "\u001b[0;31m---------------------------------------------------------------------------\u001b[0m",
      "\u001b[0;31mStopIteration\u001b[0m                             Traceback (most recent call last)",
      "\u001b[0;32m/var/folders/rr/0mnyyv811fs5vyp22gf4fxk00000gn/T/ipykernel_20835/1939748483.py\u001b[0m in \u001b[0;36m<module>\u001b[0;34m\u001b[0m\n\u001b[0;32m----> 1\u001b[0;31m \u001b[0mnext\u001b[0m\u001b[0;34m(\u001b[0m\u001b[0mi\u001b[0m\u001b[0;34m)\u001b[0m\u001b[0;34m\u001b[0m\u001b[0;34m\u001b[0m\u001b[0m\n\u001b[0m",
      "\u001b[0;31mStopIteration\u001b[0m: "
     ]
    }
   ],
   "source": [
    "next(i)"
   ]
  },
  {
   "cell_type": "code",
   "execution_count": 20,
   "id": "c240db66-e7cc-4273-a424-24a212d1b403",
   "metadata": {},
   "outputs": [
    {
     "name": "stdout",
     "output_type": "stream",
     "text": [
      "\tNow in MyData.__init__\n",
      "\tNow in MyData.__iter__\n",
      "\tNow in MyData.__next__: {'data': 'abcd', 'index': 0}\n",
      "\tReturning a\n",
      "a\n",
      "\tNow in MyData.__next__: {'data': 'abcd', 'index': 1}\n",
      "\tReturning b\n",
      "b\n",
      "\tNow in MyData.__next__: {'data': 'abcd', 'index': 2}\n",
      "\tReturning c\n",
      "c\n",
      "\tNow in MyData.__next__: {'data': 'abcd', 'index': 3}\n",
      "\tReturning d\n",
      "d\n",
      "\tNow in MyData.__next__: {'data': 'abcd', 'index': 4}\n",
      "\tRaising StopIteration\n"
     ]
    }
   ],
   "source": [
    "# Let's create an iterable class!\n",
    "\n",
    "class MyData:\n",
    "    def __init__(self, data):\n",
    "        print(f'\\tNow in MyData.__init__')\n",
    "        self.data = data\n",
    "        self.index = 0\n",
    "        \n",
    "    def __iter__(self):   # this is called each time we *start* a loop on our object -- it returns the iterator\n",
    "        print('\\tNow in MyData.__iter__')\n",
    "        return self       # meaning: who is my iterator? I'm my own iterator!\n",
    "    \n",
    "    def __next__(self):   # this is called once for each iteration\n",
    "        print(f'\\tNow in MyData.__next__: {vars(self)}')\n",
    "        if self.index >= len(self.data):\n",
    "            print(f'\\tRaising StopIteration')\n",
    "            raise StopIteration   # no message is needed, because the \"for\" loop won't read it\n",
    "            \n",
    "        value = self.data[self.index]   # get the current value\n",
    "        self.index += 1                 # increment the counter\n",
    "        print(f'\\tReturning {value}')\n",
    "        return value                    # return the value for this iteration\n",
    "\n",
    "m = MyData('abcd')  \n",
    "\n",
    "for one_item in m:\n",
    "    print(one_item)"
   ]
  },
  {
   "cell_type": "code",
   "execution_count": null,
   "id": "35d4790d-be1d-4ae2-88db-7de5d089b303",
   "metadata": {},
   "outputs": [],
   "source": []
  }
 ],
 "metadata": {
  "kernelspec": {
   "display_name": "Python 3 (ipykernel)",
   "language": "python",
   "name": "python3"
  },
  "language_info": {
   "codemirror_mode": {
    "name": "ipython",
    "version": 3
   },
   "file_extension": ".py",
   "mimetype": "text/x-python",
   "name": "python",
   "nbconvert_exporter": "python",
   "pygments_lexer": "ipython3",
   "version": "3.10.0"
  }
 },
 "nbformat": 4,
 "nbformat_minor": 5
}
