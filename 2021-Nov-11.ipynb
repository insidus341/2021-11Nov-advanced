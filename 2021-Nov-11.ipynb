{
 "cells": [
  {
   "cell_type": "code",
   "execution_count": null,
   "id": "16b2fa55-1cb9-4aa3-9daf-883bd9ac73c5",
   "metadata": {},
   "outputs": [],
   "source": []
  },
  {
   "cell_type": "markdown",
   "id": "28ec8133-06cb-4af8-94e5-98578599dea3",
   "metadata": {
    "tags": []
   },
   "source": [
    "# Agenda\n",
    "\n",
    "1. Iterator protocol\n",
    "    - Adding iterations to classes\n",
    "    - Generator functions\n",
    "    - Generator comprehensions\n",
    "2. Decorators\n",
    "3. Threading and multiprocessing"
   ]
  },
  {
   "cell_type": "markdown",
   "id": "9c55fbc0-3c4e-47a5-9e2d-1542d7adbc0e",
   "metadata": {},
   "source": [
    "# `__str__` vs. `__repr__`\n",
    "\n",
    "Both of these methods should return strings. The question is, when is each one run?\n",
    "\n",
    "Normally `__str__` is run:\n",
    "- Whenever we run `str` on something\n",
    "- If we use `print` on something (because it uses `str` behind the scenes)\n",
    "- In other words: When we want to turn our object into a string, to display it to end users\n",
    "\n",
    "Normally, `__repr__` is run:\n",
    "- If we're in a debugger\n",
    "- If we're in Jupyter (and not using `print`, but just asking for the value of a variable)\n",
    "- Inside of other data structures (e.g., if we have a list of `Scoop` objects, Python will use `__repr__` and not `__str__` to show us the list)\n",
    "- In other words: It's meant for developers, not for end users\n",
    "\n",
    "But:\n",
    "- If we only define `__str__`, then it does *not* cover cases for `__repr__`\n",
    "- If we only define `__repr__`, then it *DOES* cover all cases, including those of `__str__`\n",
    "- In theory, `__repr__` is supposed to return a string that is a valid Python expression."
   ]
  },
  {
   "cell_type": "code",
   "execution_count": 2,
   "id": "aecf5b71-508a-420f-be4b-7c28925708b7",
   "metadata": {},
   "outputs": [
    {
     "name": "stdout",
     "output_type": "stream",
     "text": [
      "repr for Person {'name': 'Reuven'}\n"
     ]
    }
   ],
   "source": [
    "class Person:\n",
    "    def __init__(self, name):\n",
    "        self.name = name\n",
    "        \n",
    "    def __str__(self):\n",
    "        return f'str for Person {vars(self)}'\n",
    "\n",
    "    def __repr__(self):\n",
    "        return f'repr for Person {vars(self)}'\n",
    "\n",
    "    def __format__(self, code):\n",
    "        return f'format for Person {vars(self)}'\n",
    "    \n",
    "p = Person('Reuven')\n",
    "\n",
    "print(f'{p}')"
   ]
  },
  {
   "cell_type": "markdown",
   "id": "cb79b529-448d-44b8-af21-fbae16a725f9",
   "metadata": {},
   "source": [
    "# Iterator protocol\n",
    "\n",
    "\n"
   ]
  },
  {
   "cell_type": "code",
   "execution_count": 5,
   "id": "a687d945-1503-4033-8934-eae238e419e2",
   "metadata": {},
   "outputs": [
    {
     "name": "stdout",
     "output_type": "stream",
     "text": [
      "a\n",
      "b\n",
      "c\n",
      "d\n"
     ]
    }
   ],
   "source": [
    "for one_character in 'abcd':\n",
    "    print(one_character)"
   ]
  },
  {
   "cell_type": "code",
   "execution_count": 6,
   "id": "390d5795-098b-40bc-9c4e-90275235e370",
   "metadata": {},
   "outputs": [
    {
     "name": "stdout",
     "output_type": "stream",
     "text": [
      "0: a\n",
      "1: b\n",
      "2: c\n",
      "3: d\n"
     ]
    }
   ],
   "source": [
    "for index, one_character in enumerate('abcd'):\n",
    "    print(f'{index}: {one_character}')"
   ]
  },
  {
   "cell_type": "markdown",
   "id": "a722d251-1907-4e05-949a-53b46d9fcb66",
   "metadata": {},
   "source": [
    "# What happens in a `for` loop?\n",
    "\n",
    "- \"Iterable\" means: Can be put in a `for` loop\n",
    "- \"Iterator\" means: We can ask it for its next object, if it has one\n",
    "Sometimes, an iterable is an iterator, and sometimes it isn't.\n",
    "\n",
    "- `for` turns to the object and asks if it's iterable. It does this by running the `iter` function on that object. (You will probably never run `iter` in an actual program.)\n",
    "    - if `iter` returns an object, that object is the \"iterator\" on which we're going to work\n",
    "    - Otherwise, we get a `TypeError` exception, indicating that no, the object is not iterable\n",
    "- Assuming that we get an iterator object back, we call the `next` function on it.\n",
    "    - We might get something back. That's the value for the current iteration\n",
    "    - Or we might get `StopIteration`, an exception that says we're at the end of the iterator.\n",
    "- We keep repeating the above section, calling `next` until we get a `StopIteration` exception."
   ]
  },
  {
   "cell_type": "code",
   "execution_count": 7,
   "id": "3383a120-7e9c-4e26-a388-27adff786673",
   "metadata": {},
   "outputs": [],
   "source": [
    "s = 'abcd'\n",
    "\n",
    "i = iter(s)   # we ask: is s iterable? If so, return its iterator and assign to i."
   ]
  },
  {
   "cell_type": "code",
   "execution_count": 8,
   "id": "c5886467-e753-4806-8702-0c8da046a6f6",
   "metadata": {},
   "outputs": [
    {
     "data": {
      "text/plain": [
       "<str_iterator at 0x10f5d1930>"
      ]
     },
     "execution_count": 8,
     "metadata": {},
     "output_type": "execute_result"
    }
   ],
   "source": [
    "i"
   ]
  },
  {
   "cell_type": "code",
   "execution_count": 9,
   "id": "46b9d796-0a70-42f1-8f2e-3920b997916c",
   "metadata": {},
   "outputs": [
    {
     "data": {
      "text/plain": [
       "<str_iterator at 0x10f5d2560>"
      ]
     },
     "execution_count": 9,
     "metadata": {},
     "output_type": "execute_result"
    }
   ],
   "source": [
    "i = iter(s)\n",
    "i"
   ]
  },
  {
   "cell_type": "code",
   "execution_count": 10,
   "id": "a68089e9-3b86-4d6e-a54e-7c8c325c6e62",
   "metadata": {},
   "outputs": [
    {
     "data": {
      "text/plain": [
       "'a'"
      ]
     },
     "execution_count": 10,
     "metadata": {},
     "output_type": "execute_result"
    }
   ],
   "source": [
    "next(i)   # ask i for its next value"
   ]
  },
  {
   "cell_type": "code",
   "execution_count": 11,
   "id": "4f260bef-7bc3-4da3-af53-9a75d4bfaaa8",
   "metadata": {},
   "outputs": [
    {
     "data": {
      "text/plain": [
       "'b'"
      ]
     },
     "execution_count": 11,
     "metadata": {},
     "output_type": "execute_result"
    }
   ],
   "source": [
    " next(i)"
   ]
  },
  {
   "cell_type": "code",
   "execution_count": 12,
   "id": "384fa207-a916-41ae-880b-0a1bf5f92250",
   "metadata": {},
   "outputs": [
    {
     "data": {
      "text/plain": [
       "'c'"
      ]
     },
     "execution_count": 12,
     "metadata": {},
     "output_type": "execute_result"
    }
   ],
   "source": [
    "next(i)"
   ]
  },
  {
   "cell_type": "code",
   "execution_count": 13,
   "id": "6ecf9ce9-849a-41d9-a92d-0535f27ef157",
   "metadata": {},
   "outputs": [
    {
     "data": {
      "text/plain": [
       "'d'"
      ]
     },
     "execution_count": 13,
     "metadata": {},
     "output_type": "execute_result"
    }
   ],
   "source": [
    "next(i)"
   ]
  },
  {
   "cell_type": "code",
   "execution_count": 14,
   "id": "057b6875-fee3-4be7-9622-ba991221fa14",
   "metadata": {},
   "outputs": [
    {
     "ename": "StopIteration",
     "evalue": "",
     "output_type": "error",
     "traceback": [
      "\u001b[0;31m---------------------------------------------------------------------------\u001b[0m",
      "\u001b[0;31mStopIteration\u001b[0m                             Traceback (most recent call last)",
      "\u001b[0;32m/var/folders/rr/0mnyyv811fs5vyp22gf4fxk00000gn/T/ipykernel_20835/1939748483.py\u001b[0m in \u001b[0;36m<module>\u001b[0;34m\u001b[0m\n\u001b[0;32m----> 1\u001b[0;31m \u001b[0mnext\u001b[0m\u001b[0;34m(\u001b[0m\u001b[0mi\u001b[0m\u001b[0;34m)\u001b[0m\u001b[0;34m\u001b[0m\u001b[0;34m\u001b[0m\u001b[0m\n\u001b[0m",
      "\u001b[0;31mStopIteration\u001b[0m: "
     ]
    }
   ],
   "source": [
    "next(i)"
   ]
  },
  {
   "cell_type": "code",
   "execution_count": 22,
   "id": "c240db66-e7cc-4273-a424-24a212d1b403",
   "metadata": {},
   "outputs": [
    {
     "name": "stdout",
     "output_type": "stream",
     "text": [
      "\tNow in MyData.__init__\n",
      "\tNow in MyData.__iter__\n",
      "\tNow in MyData.__next__: {'data': 'abcd', 'index': 0}\n",
      "\tReturning a\n",
      "a\n",
      "\tNow in MyData.__next__: {'data': 'abcd', 'index': 1}\n",
      "\tReturning b\n",
      "b\n",
      "\tNow in MyData.__next__: {'data': 'abcd', 'index': 2}\n",
      "\tReturning c\n",
      "c\n",
      "\tNow in MyData.__next__: {'data': 'abcd', 'index': 3}\n",
      "\tReturning d\n",
      "d\n",
      "\tNow in MyData.__next__: {'data': 'abcd', 'index': 4}\n",
      "\tRaising StopIteration\n"
     ]
    }
   ],
   "source": [
    "# Let's create an iterable class!\n",
    "\n",
    "class MyData:\n",
    "    def __init__(self, data):\n",
    "        print(f'\\tNow in MyData.__init__')\n",
    "        self.data = data\n",
    "        self.index = 0\n",
    "        \n",
    "    def __iter__(self):   # this is called each time we *start* a loop on our object -- it returns the iterator\n",
    "        print('\\tNow in MyData.__iter__')\n",
    "        return self       # meaning: who is my iterator? I'm my own iterator!\n",
    "    \n",
    "    def __next__(self):   # this is called once for each iteration\n",
    "        print(f'\\tNow in MyData.__next__: {vars(self)}')\n",
    "        if self.index >= len(self.data):\n",
    "            print(f'\\tRaising StopIteration')\n",
    "            raise StopIteration   # no message is needed, because the \"for\" loop won't read it\n",
    "            \n",
    "        value = self.data[self.index]   # get the current value\n",
    "        self.index += 1                 # increment the counter\n",
    "        print(f'\\tReturning {value}')\n",
    "        return value                    # return the value for this iteration\n",
    "\n",
    "m = MyData('abcd')  \n",
    "\n",
    "for one_item in m:\n",
    "    print(one_item)"
   ]
  },
  {
   "cell_type": "markdown",
   "id": "3d071aa4-f1db-406b-acb1-69df47b1d935",
   "metadata": {},
   "source": [
    "# Exercise: Circle\n",
    "\n",
    "1. Create a class, `Circle`, that takes two arguments:\n",
    "    - `data`, which should be a sequence (string, list, tuple)\n",
    "    - `n`, the number of iterations we want to get\n",
    "2. Iterating over an instance of `Circle` will give us `n` results before ending.\n",
    "3. If the data is shorter than `n` items, then it should automatically return to the start and go from there, as many times as needed.\n",
    "\n",
    "```python\n",
    "for one_item in Circle('abc', 7):\n",
    "    print(one_item)   # a b c a b c a\n",
    "```"
   ]
  },
  {
   "cell_type": "code",
   "execution_count": 27,
   "id": "0b148ffa-d3d5-4431-8f83-cceedb909294",
   "metadata": {},
   "outputs": [
    {
     "name": "stdout",
     "output_type": "stream",
     "text": [
      "a b c a b c a \tIn __next__, {'data': 'abc', 'n': 7, 'index': 7}\n"
     ]
    }
   ],
   "source": [
    "class Circle:\n",
    "    def __init__(self, data, n):\n",
    "        self.data = data\n",
    "        self.n = n\n",
    "        self.index = 0\n",
    "        \n",
    "    def __iter__(self):\n",
    "        return self\n",
    "    \n",
    "    def __next__(self):\n",
    "        if self.index >= self.n:\n",
    "            print(f'\\tIn __next__, {vars(self)}')\n",
    "            raise StopIteration\n",
    "            \n",
    "        value = self.data[self.index % len(self.data)]  \n",
    "        self.index += 1\n",
    "        return value\n",
    "    \n",
    "c = Circle('abc', 7)\n",
    "\n",
    "for one_item in c:\n",
    "    print(one_item, end=' ')"
   ]
  },
  {
   "cell_type": "code",
   "execution_count": 28,
   "id": "c1ce562b-165a-41f1-9f9a-79826efdce0f",
   "metadata": {},
   "outputs": [
    {
     "name": "stdout",
     "output_type": "stream",
     "text": [
      "*** A ***\n",
      "a b c a b c a \tIn __next__, {'data': 'abc', 'n': 7, 'index': 7}\n",
      "\n",
      "*** B ***\n",
      "\tIn __next__, {'data': 'abc', 'n': 7, 'index': 7}\n",
      "\n"
     ]
    }
   ],
   "source": [
    "c = Circle('abc', 7)\n",
    "\n",
    "print('*** A ***')\n",
    "for one_item in c:\n",
    "    print(one_item, end=' ')\n",
    "print()    \n",
    "    \n",
    "print('*** B ***')\n",
    "for one_item in c:\n",
    "    print(one_item, end=' ')   \n",
    "print()    "
   ]
  },
  {
   "cell_type": "code",
   "execution_count": 29,
   "id": "a727e774-15fa-4a91-8382-5f9be283766f",
   "metadata": {},
   "outputs": [
    {
     "name": "stdout",
     "output_type": "stream",
     "text": [
      "*** A ***\n",
      "a b c a b c a \tIn __next__, {'data': 'abc', 'n': 7, 'index': 7}\n",
      "\n",
      "*** B ***\n",
      "a b c a b c a \tIn __next__, {'data': 'abc', 'n': 7, 'index': 7}\n",
      "\n"
     ]
    }
   ],
   "source": [
    "class Circle:\n",
    "    def __init__(self, data, n):\n",
    "        self.data = data\n",
    "        self.n = n\n",
    "        self.index = 0\n",
    "        \n",
    "    def __iter__(self):\n",
    "        self.index = 0\n",
    "        return self\n",
    "    \n",
    "    def __next__(self):\n",
    "        if self.index >= self.n:\n",
    "            print(f'\\tIn __next__, {vars(self)}')\n",
    "            raise StopIteration\n",
    "            \n",
    "        value = self.data[self.index % len(self.data)]  \n",
    "        self.index += 1\n",
    "        return value\n",
    "    \n",
    "c = Circle('abc', 7)\n",
    "\n",
    "print('*** A ***')\n",
    "for one_item in c:\n",
    "    print(one_item, end=' ')\n",
    "print()    \n",
    "    \n",
    "print('*** B ***')\n",
    "for one_item in c:\n",
    "    print(one_item, end=' ')   \n",
    "print()    "
   ]
  },
  {
   "cell_type": "code",
   "execution_count": 30,
   "id": "6636991c-b43a-4d7f-bb65-5c84db60e300",
   "metadata": {},
   "outputs": [],
   "source": [
    "s = 'abcd'\n",
    "\n",
    "i1 = iter(s)\n",
    "i2 = iter(s)"
   ]
  },
  {
   "cell_type": "code",
   "execution_count": 31,
   "id": "fa144d32-f9b6-4fa0-b274-21776d23aa2c",
   "metadata": {},
   "outputs": [
    {
     "data": {
      "text/plain": [
       "'a'"
      ]
     },
     "execution_count": 31,
     "metadata": {},
     "output_type": "execute_result"
    }
   ],
   "source": [
    "next(i1)"
   ]
  },
  {
   "cell_type": "code",
   "execution_count": 32,
   "id": "9628fec5-3d55-4a80-9945-909134be236c",
   "metadata": {},
   "outputs": [
    {
     "data": {
      "text/plain": [
       "'b'"
      ]
     },
     "execution_count": 32,
     "metadata": {},
     "output_type": "execute_result"
    }
   ],
   "source": [
    "next(i1)"
   ]
  },
  {
   "cell_type": "code",
   "execution_count": 33,
   "id": "708672a1-620a-418e-be9c-49a81d7d36f1",
   "metadata": {},
   "outputs": [
    {
     "data": {
      "text/plain": [
       "'c'"
      ]
     },
     "execution_count": 33,
     "metadata": {},
     "output_type": "execute_result"
    }
   ],
   "source": [
    "next(i1)"
   ]
  },
  {
   "cell_type": "code",
   "execution_count": 34,
   "id": "8aa80ea2-8302-4360-9952-ad1fb4817bc3",
   "metadata": {},
   "outputs": [
    {
     "data": {
      "text/plain": [
       "'a'"
      ]
     },
     "execution_count": 34,
     "metadata": {},
     "output_type": "execute_result"
    }
   ],
   "source": [
    "next(i2)"
   ]
  },
  {
   "cell_type": "code",
   "execution_count": 35,
   "id": "5e9220dc-6d30-467a-8667-6a2f529cef1c",
   "metadata": {},
   "outputs": [
    {
     "data": {
      "text/plain": [
       "'d'"
      ]
     },
     "execution_count": 35,
     "metadata": {},
     "output_type": "execute_result"
    }
   ],
   "source": [
    "next(i1)"
   ]
  },
  {
   "cell_type": "code",
   "execution_count": 36,
   "id": "d9b30ad7-236a-4586-b37a-6548b0c26750",
   "metadata": {},
   "outputs": [
    {
     "data": {
      "text/plain": [
       "'b'"
      ]
     },
     "execution_count": 36,
     "metadata": {},
     "output_type": "execute_result"
    }
   ],
   "source": [
    "next(i2)"
   ]
  },
  {
   "cell_type": "code",
   "execution_count": 37,
   "id": "25f69234-0f2a-49b0-858b-5fe2235edd4d",
   "metadata": {},
   "outputs": [
    {
     "name": "stdout",
     "output_type": "stream",
     "text": [
      "*** A ***\n",
      "a b c a b c a \tIn __next__, {'data': 'abc', 'n': 7, 'index': 7}\n",
      "\n",
      "*** B ***\n",
      "a b c a b c a \tIn __next__, {'data': 'abc', 'n': 7, 'index': 7}\n",
      "\n"
     ]
    }
   ],
   "source": [
    "# let's have Circle.__iter__ return a new instance of a specialized iterator class\n",
    "# the iterator class will need to implement __next__\n",
    "\n",
    "class CircleIterator:\n",
    "    def __init__(self, data, n):\n",
    "        self.data = data\n",
    "        self.n = n\n",
    "        self.index = 0\n",
    "\n",
    "    def __next__(self):\n",
    "        if self.index >= self.n:\n",
    "            print(f'\\tIn __next__, {vars(self)}')\n",
    "            raise StopIteration\n",
    "            \n",
    "        value = self.data[self.index % len(self.data)]  \n",
    "        self.index += 1\n",
    "        return value\n",
    "\n",
    "class Circle:\n",
    "    def __init__(self, data, n):\n",
    "        self.data = data\n",
    "        self.n = n\n",
    "        \n",
    "    def __iter__(self):\n",
    "        return CircleIterator(self.data, self.n)\n",
    "    \n",
    "    \n",
    "c = Circle('abc', 7)\n",
    "\n",
    "print('*** A ***')\n",
    "for one_item in c:\n",
    "    print(one_item, end=' ')\n",
    "print()    \n",
    "    \n",
    "print('*** B ***')\n",
    "for one_item in c:\n",
    "    print(one_item, end=' ')   \n",
    "print()    "
   ]
  },
  {
   "cell_type": "code",
   "execution_count": 38,
   "id": "2acd2133-8c84-49c0-a230-64c1ca567864",
   "metadata": {},
   "outputs": [],
   "source": [
    "i1 = iter(c)\n",
    "i2 = iter(c)"
   ]
  },
  {
   "cell_type": "code",
   "execution_count": 39,
   "id": "bc233125-e1a5-40a1-b416-c3a4ff15eacc",
   "metadata": {},
   "outputs": [
    {
     "data": {
      "text/plain": [
       "False"
      ]
     },
     "execution_count": 39,
     "metadata": {},
     "output_type": "execute_result"
    }
   ],
   "source": [
    "i1 is i2"
   ]
  },
  {
   "cell_type": "code",
   "execution_count": 40,
   "id": "e82311b3-f36c-4d20-8317-2f2434931169",
   "metadata": {},
   "outputs": [
    {
     "data": {
      "text/plain": [
       "'a'"
      ]
     },
     "execution_count": 40,
     "metadata": {},
     "output_type": "execute_result"
    }
   ],
   "source": [
    "next(i1)\n"
   ]
  },
  {
   "cell_type": "code",
   "execution_count": 41,
   "id": "9f1670be-1125-41f4-ac67-b9ab5452d327",
   "metadata": {},
   "outputs": [
    {
     "data": {
      "text/plain": [
       "'b'"
      ]
     },
     "execution_count": 41,
     "metadata": {},
     "output_type": "execute_result"
    }
   ],
   "source": [
    "next(i1)"
   ]
  },
  {
   "cell_type": "code",
   "execution_count": 42,
   "id": "0ae116da-4566-4e35-a32a-7697f32a221c",
   "metadata": {},
   "outputs": [
    {
     "data": {
      "text/plain": [
       "'c'"
      ]
     },
     "execution_count": 42,
     "metadata": {},
     "output_type": "execute_result"
    }
   ],
   "source": [
    "next(i1)"
   ]
  },
  {
   "cell_type": "code",
   "execution_count": 43,
   "id": "48f006ef-f6eb-4360-8964-14ba0c87683f",
   "metadata": {},
   "outputs": [
    {
     "data": {
      "text/plain": [
       "'a'"
      ]
     },
     "execution_count": 43,
     "metadata": {},
     "output_type": "execute_result"
    }
   ],
   "source": [
    "next(i2)"
   ]
  },
  {
   "cell_type": "markdown",
   "id": "3faf8f8e-e165-4505-9fc2-918d6338c6bc",
   "metadata": {},
   "source": [
    "# Exercise: MyRange\n",
    "\n",
    "Write a class, `MyRange`, that emulates the built-in `range` class.  It can take one, two, or three (integer) arguments.  Use a separate helper class as your iterator.\n",
    "\n",
    "```python\n",
    "for one_item in MyRange(5):\n",
    "    print(one_item)   # 0 1 2 3 4\n",
    "    \n",
    "for one_item in MyRange(5, 10):\n",
    "    print(one_item)   # 5 6 7 8 9\n",
    "    \n",
    "for one_item in Myrange(5, 20, 3):\n",
    "    print(one_item)   # 5 8 11 14 17\n",
    "```"
   ]
  },
  {
   "cell_type": "code",
   "execution_count": 46,
   "id": "4446be8f-7b42-4a9f-9b64-0235a4864b80",
   "metadata": {},
   "outputs": [
    {
     "name": "stdout",
     "output_type": "stream",
     "text": [
      "0 1 2 3 4 \n",
      "5 6 7 8 9 \n",
      "5 8 11 14 17 \n"
     ]
    }
   ],
   "source": [
    "class MyRange:\n",
    "    def __init__(self, first, second=None, step=1):\n",
    "        if second is None:\n",
    "            self.current = 0\n",
    "            self.stop = first\n",
    "        else:\n",
    "            self.current = first\n",
    "            self.stop = second\n",
    "        self.step = step\n",
    "        \n",
    "    def __iter__(self):\n",
    "        return self\n",
    "    \n",
    "    def __next__(self):\n",
    "        if self.current >= self.stop:\n",
    "            raise StopIteration\n",
    "            \n",
    "        value = self.current\n",
    "        self.current += self.step\n",
    "        return value\n",
    "    \n",
    "    \n",
    "for one_item in MyRange(5):\n",
    "    print(one_item, end=' ')   # 0 1 2 3 4\n",
    "print()\n",
    "    \n",
    "for one_item in MyRange(5, 10):\n",
    "    print(one_item, end=' ')   # 5 6 7 8 9\n",
    "print()\n",
    "    \n",
    "for one_item in MyRange(5, 20, 3):\n",
    "    print(one_item, end=' ')   # 5 8 11 14 17\n",
    "print()    \n",
    "        \n",
    "        "
   ]
  },
  {
   "cell_type": "code",
   "execution_count": 47,
   "id": "645bf850-9537-4892-9e80-3fd0a385ca8a",
   "metadata": {},
   "outputs": [
    {
     "name": "stdout",
     "output_type": "stream",
     "text": [
      "0 1 2 3 4 \n",
      "5 6 7 8 9 \n",
      "5 8 11 14 17 \n"
     ]
    }
   ],
   "source": [
    "class MyRangeIterator:\n",
    "    def __init__(self, current, stop, step):\n",
    "        self.current = current\n",
    "        self.stop = stop\n",
    "        self.step = step\n",
    "    \n",
    "    def __next__(self):\n",
    "        if self.current >= self.stop:\n",
    "            raise StopIteration\n",
    "            \n",
    "        value = self.current\n",
    "        self.current += self.step\n",
    "        return value\n",
    "    \n",
    "class MyRange:\n",
    "    def __init__(self, first, second=None, step=1):\n",
    "        if second is None:\n",
    "            self.current = 0\n",
    "            self.stop = first\n",
    "        else:\n",
    "            self.current = first\n",
    "            self.stop = second\n",
    "        self.step = step\n",
    "        \n",
    "    def __iter__(self):\n",
    "        return MyRangeIterator(self.current, self.stop, self.step)\n",
    "    \n",
    "for one_item in MyRange(5):\n",
    "    print(one_item, end=' ')   # 0 1 2 3 4\n",
    "print()\n",
    "    \n",
    "for one_item in MyRange(5, 10):\n",
    "    print(one_item, end=' ')   # 5 6 7 8 9\n",
    "print()\n",
    "    \n",
    "for one_item in MyRange(5, 20, 3):\n",
    "    print(one_item, end=' ')   # 5 8 11 14 17\n",
    "print()    \n",
    "        \n",
    "        "
   ]
  },
  {
   "cell_type": "code",
   "execution_count": 49,
   "id": "abb88ed9-461b-45b0-8cdf-25bed85b957b",
   "metadata": {},
   "outputs": [
    {
     "name": "stdout",
     "output_type": "stream",
     "text": [
      "0 1 2 3 4 \n",
      "5 6 7 8 9 \n",
      "5 8 11 14 17 \n"
     ]
    }
   ],
   "source": [
    "class MyRangeIterator:\n",
    "    def __init__(self, range):\n",
    "        self.range = range\n",
    "    \n",
    "    def __next__(self):\n",
    "        if self.range.current >= self.range.stop:\n",
    "            raise StopIteration\n",
    "            \n",
    "        value = self.range.current\n",
    "        self.range.current += self.range.step\n",
    "        return value\n",
    "    \n",
    "class MyRange:\n",
    "    def __init__(self, first, second=None, step=1):\n",
    "        if second is None:\n",
    "            self.current = 0\n",
    "            self.stop = first\n",
    "        else:\n",
    "            self.current = first\n",
    "            self.stop = second\n",
    "        self.step = step\n",
    "        \n",
    "    def __iter__(self):\n",
    "        return MyRangeIterator(self)\n",
    "    \n",
    "for one_item in MyRange(5):\n",
    "    print(one_item, end=' ')   # 0 1 2 3 4\n",
    "print()\n",
    "    \n",
    "for one_item in MyRange(5, 10):\n",
    "    print(one_item, end=' ')   # 5 6 7 8 9\n",
    "print()\n",
    "    \n",
    "for one_item in MyRange(5, 20, 3):\n",
    "    print(one_item, end=' ')   # 5 8 11 14 17\n",
    "print()    \n",
    "        \n",
    "        "
   ]
  },
  {
   "cell_type": "code",
   "execution_count": 52,
   "id": "495655f7-4dd5-47d5-93d2-c344efb5c422",
   "metadata": {},
   "outputs": [
    {
     "name": "stdout",
     "output_type": "stream",
     "text": [
      "20\n",
      "17\n",
      "14\n",
      "11\n",
      "8\n"
     ]
    }
   ],
   "source": [
    "for one_item in range(20, 5, -3):\n",
    "    print(one_item)"
   ]
  },
  {
   "cell_type": "code",
   "execution_count": 54,
   "id": "c5fa55c9-05cd-4aab-b160-62d79473c8ad",
   "metadata": {},
   "outputs": [
    {
     "name": "stdout",
     "output_type": "stream",
     "text": [
      "0 1 2 3 4 \n",
      "5 6 7 8 9 \n",
      "5 8 11 14 17 \n",
      "20 17 14 11 8 \n"
     ]
    }
   ],
   "source": [
    "# allow for negative step size\n",
    "\n",
    "class MyRangeIterator:\n",
    "    def __init__(self, range):\n",
    "        self.range = range\n",
    "    \n",
    "    def __next__(self):\n",
    "        if self.range.step >= 0:\n",
    "            if self.range.current >= self.range.stop:\n",
    "                raise StopIteration\n",
    "        else:\n",
    "            if self.range.current <= self.range.stop:\n",
    "                raise StopIteration\n",
    "            \n",
    "        value = self.range.current\n",
    "        self.range.current += self.range.step\n",
    "        return value\n",
    "    \n",
    "class MyRange:\n",
    "    def __init__(self, first, second=None, step=1):\n",
    "        if second is None:\n",
    "            self.current = 0\n",
    "            self.stop = first\n",
    "        else:\n",
    "            self.current = first\n",
    "            self.stop = second\n",
    "        self.step = step\n",
    "        \n",
    "    def __iter__(self):\n",
    "        return MyRangeIterator(self)\n",
    "    \n",
    "for one_item in MyRange(5):\n",
    "    print(one_item, end=' ')   # 0 1 2 3 4\n",
    "print()\n",
    "    \n",
    "for one_item in MyRange(5, 10):\n",
    "    print(one_item, end=' ')   # 5 6 7 8 9\n",
    "print()\n",
    "    \n",
    "for one_item in MyRange(5, 20, 3):\n",
    "    print(one_item, end=' ')   # 5 8 11 14 17\n",
    "print()    \n",
    "        \n",
    "for one_item in MyRange(20, 5, -3):\n",
    "    print(one_item, end=' ')   # 5 8 11 14 17\n",
    "print()    \n",
    "        "
   ]
  },
  {
   "cell_type": "code",
   "execution_count": null,
   "id": "d0de1d64-46f3-450a-85fe-dc53a6aeae4a",
   "metadata": {},
   "outputs": [],
   "source": [
    "class myRangeIterator:\n",
    "    def __init__(self, start, end, step):\n",
    "        self.start = start\n",
    "        self.end = end\n",
    "        self.step = step\n",
    "        self.index = 0\n",
    "        \n",
    "    def __next__(self): \n",
    "        if self.index == self.start and self.end is None:\n",
    "            raise StopIteration\n",
    "        elif (self.end - self.start) == self.index and self.step is None:\n",
    "            raise StopIteration\n",
    "        elif (self.start + self.step * self.index) > self.end:\n",
    "            raise StopIteration\n",
    "        if self.end is None:\n",
    "            value = self.index\n",
    "        elif self.step is None:\n",
    "            value = self.start + self.index\n",
    "        else:\n",
    "             value = self.start + self.step\n",
    "        self.index += 1\n",
    "        return value             \n",
    "    \n",
    "class myRange:\n",
    "    def __init__(self, start, end=None, step=None):\n",
    "        self.start = start\n",
    "        self.end = end\n",
    "        self.step = step\n",
    "    def __iter__(self):\n",
    "        return myRangeIterator(self.start, self.end, self.step)\n",
    "\n",
    "\n",
    "for one_item in myRange(5):\n",
    "   \n"
   ]
  }
 ],
 "metadata": {
  "kernelspec": {
   "display_name": "Python 3 (ipykernel)",
   "language": "python",
   "name": "python3"
  },
  "language_info": {
   "codemirror_mode": {
    "name": "ipython",
    "version": 3
   },
   "file_extension": ".py",
   "mimetype": "text/x-python",
   "name": "python",
   "nbconvert_exporter": "python",
   "pygments_lexer": "ipython3",
   "version": "3.10.0"
  }
 },
 "nbformat": 4,
 "nbformat_minor": 5
}
