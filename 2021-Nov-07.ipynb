{
 "cells": [
  {
   "cell_type": "markdown",
   "id": "eb242b01-9cb9-4482-b11e-aefec7704035",
   "metadata": {},
   "source": [
    "# Agenda\n",
    "\n",
    "- Scoping (LEGB rule)\n",
    "    - local vs. global variables\n",
    "    - builtins\n",
    "- Inner functions + closures\n",
    "- storing functions\n",
    "- comprehensions\n",
    "    - list, set, dict\n",
    "- passing functions as arguments\n",
    "- `lambda`"
   ]
  },
  {
   "cell_type": "code",
   "execution_count": null,
   "id": "2a625639-556b-4ac4-8f40-ab70dfa2674f",
   "metadata": {},
   "outputs": [],
   "source": []
  }
 ],
 "metadata": {
  "kernelspec": {
   "display_name": "Python 3 (ipykernel)",
   "language": "python",
   "name": "python3"
  },
  "language_info": {
   "codemirror_mode": {
    "name": "ipython",
    "version": 3
   },
   "file_extension": ".py",
   "mimetype": "text/x-python",
   "name": "python",
   "nbconvert_exporter": "python",
   "pygments_lexer": "ipython3",
   "version": "3.10.0"
  }
 },
 "nbformat": 4,
 "nbformat_minor": 5
}
