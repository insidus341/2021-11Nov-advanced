{
 "cells": [
  {
   "cell_type": "markdown",
   "id": "eb242b01-9cb9-4482-b11e-aefec7704035",
   "metadata": {},
   "source": [
    "# Agenda\n",
    "\n",
    "- Scoping (LEGB rule)\n",
    "    - local vs. global variables\n",
    "    - builtins\n",
    "- Inner functions + closures\n",
    "- storing functions\n",
    "- comprehensions\n",
    "    - list, set, dict\n",
    "- passing functions as arguments\n",
    "- `lambda`"
   ]
  },
  {
   "cell_type": "markdown",
   "id": "e40b0f95-0e90-4215-929c-42a9e2c8c192",
   "metadata": {},
   "source": [
    "# Scoping\n",
    "\n",
    "What variable exists when? What value is available when?\n",
    "\n",
    "Python's scoping rules are *very* straightforward. You just have to follow them to understand what's happening with variables. **BUT** the rules are very different from other languages."
   ]
  },
  {
   "cell_type": "code",
   "execution_count": 1,
   "id": "d99ce2f0-59a5-40fc-af2e-4a6de78cc360",
   "metadata": {},
   "outputs": [
    {
     "name": "stdout",
     "output_type": "stream",
     "text": [
      "x = 100\n"
     ]
    }
   ],
   "source": [
    "x = 100\n",
    "\n",
    "print(f'x = {x}')  # Python asks: Is x global?  Yes, we get 100"
   ]
  },
  {
   "cell_type": "markdown",
   "id": "948ca8bc-69d9-4c24-abe9-f729afa126ec",
   "metadata": {},
   "source": [
    "# Python has four scopes\n",
    "\n",
    "- `L` Local -- we start here when we're inside of a function body\n",
    "- `E` Enclosing\n",
    "- `G` Global -- we start here when we're *outside* of a function body\n",
    "- `B` Builtin"
   ]
  },
  {
   "cell_type": "code",
   "execution_count": 2,
   "id": "31ee83d0-bb63-49e5-8166-c7a039717bae",
   "metadata": {},
   "outputs": [
    {
     "data": {
      "text/plain": [
       "{'__name__': '__main__',\n",
       " '__doc__': 'Automatically created module for IPython interactive environment',\n",
       " '__package__': None,\n",
       " '__loader__': None,\n",
       " '__spec__': None,\n",
       " '__builtin__': <module 'builtins' (built-in)>,\n",
       " '__builtins__': <module 'builtins' (built-in)>,\n",
       " '_ih': ['',\n",
       "  \"x = 100\\n\\nprint(f'x = {x}')\",\n",
       "  'globals()   # returns a dict of all global variables -- variable names are keys, variable values are values'],\n",
       " '_oh': {},\n",
       " '_dh': ['/Users/reuven/Courses/Current/Cisco-2021-11Nov-advanced'],\n",
       " 'In': ['',\n",
       "  \"x = 100\\n\\nprint(f'x = {x}')\",\n",
       "  'globals()   # returns a dict of all global variables -- variable names are keys, variable values are values'],\n",
       " 'Out': {},\n",
       " 'get_ipython': <bound method InteractiveShell.get_ipython of <ipykernel.zmqshell.ZMQInteractiveShell object at 0x112a0b2b0>>,\n",
       " 'exit': <IPython.core.autocall.ZMQExitAutocall at 0x112a0be20>,\n",
       " 'quit': <IPython.core.autocall.ZMQExitAutocall at 0x112a0be20>,\n",
       " '_': '',\n",
       " '__': '',\n",
       " '___': '',\n",
       " '_i': \"x = 100\\n\\nprint(f'x = {x}')\",\n",
       " '_ii': '',\n",
       " '_iii': '',\n",
       " '_i1': \"x = 100\\n\\nprint(f'x = {x}')\",\n",
       " 'x': 100,\n",
       " '_i2': 'globals()   # returns a dict of all global variables -- variable names are keys, variable values are values'}"
      ]
     },
     "execution_count": 2,
     "metadata": {},
     "output_type": "execute_result"
    }
   ],
   "source": [
    "globals()   # returns a dict of all global variables -- variable names are keys, variable values are values"
   ]
  },
  {
   "cell_type": "code",
   "execution_count": 3,
   "id": "5e62fa1d-4415-49ae-8094-c47f1d7d1dee",
   "metadata": {},
   "outputs": [
    {
     "data": {
      "text/plain": [
       "True"
      ]
     },
     "execution_count": 3,
     "metadata": {},
     "output_type": "execute_result"
    }
   ],
   "source": [
    "# is x a global? We can find out!\n",
    "\n",
    "'x' in globals()"
   ]
  },
  {
   "cell_type": "code",
   "execution_count": 4,
   "id": "6871d3bb-1258-4532-b5cd-c1c9b3046e74",
   "metadata": {},
   "outputs": [
    {
     "data": {
      "text/plain": [
       "100"
      ]
     },
     "execution_count": 4,
     "metadata": {},
     "output_type": "execute_result"
    }
   ],
   "source": [
    "globals()['x']"
   ]
  },
  {
   "cell_type": "code",
   "execution_count": 5,
   "id": "1544c68a-e073-4735-b338-2053f32f9c6b",
   "metadata": {},
   "outputs": [
    {
     "name": "stdout",
     "output_type": "stream",
     "text": [
      "Before, x = 100\n",
      "In myfunc, x = 100\n",
      "After, x = 100\n"
     ]
    }
   ],
   "source": [
    "# Local, (Enclosing), Global, Builtin\n",
    "\n",
    "x = 100\n",
    "\n",
    "def myfunc():\n",
    "    print(f'In myfunc, x = {x}') # Is x local? No.  Is x global? Yes, 100\n",
    "\n",
    "print(f'Before, x = {x}')  # Python asks: Is x global? Yes, 100\n",
    "myfunc()\n",
    "print(f'After, x = {x}')   # Python asks: Is x global? Yes, 100"
   ]
  },
  {
   "cell_type": "code",
   "execution_count": 6,
   "id": "2705aec2-d422-429f-ab5c-e5b4daa04aea",
   "metadata": {},
   "outputs": [
    {
     "data": {
      "text/plain": [
       "()"
      ]
     },
     "execution_count": 6,
     "metadata": {},
     "output_type": "execute_result"
    }
   ],
   "source": [
    "# to see a function's local variables, check __code__.co_varnames\n",
    "\n",
    "myfunc.__code__.co_varnames"
   ]
  },
  {
   "cell_type": "code",
   "execution_count": 7,
   "id": "2870cb42-fcf6-41b2-850b-f2f902374fbb",
   "metadata": {},
   "outputs": [
    {
     "name": "stdout",
     "output_type": "stream",
     "text": [
      "Before, x = 100\n",
      "In myfunc, x = 200\n",
      "After, x = 100\n"
     ]
    }
   ],
   "source": [
    "# Local, (Enclosing), Global, Builtin\n",
    "\n",
    "x = 100\n",
    "\n",
    "def myfunc():\n",
    "    x = 200\n",
    "    print(f'In myfunc, x = {x}') # is x local? Yes, 200\n",
    "\n",
    "print(f'Before, x = {x}')  # is x global? Yes, 100\n",
    "myfunc()\n",
    "print(f'After, x = {x}')   # is x global? Yes, 100"
   ]
  },
  {
   "cell_type": "code",
   "execution_count": 8,
   "id": "cf815ba9-8695-4268-adcf-e700c8292db1",
   "metadata": {},
   "outputs": [
    {
     "name": "stdout",
     "output_type": "stream",
     "text": [
      "Before, x = 100\n"
     ]
    },
    {
     "ename": "UnboundLocalError",
     "evalue": "local variable 'x' referenced before assignment",
     "output_type": "error",
     "traceback": [
      "\u001b[0;31m---------------------------------------------------------------------------\u001b[0m",
      "\u001b[0;31mUnboundLocalError\u001b[0m                         Traceback (most recent call last)",
      "\u001b[0;32m/var/folders/rr/0mnyyv811fs5vyp22gf4fxk00000gn/T/ipykernel_80969/1624799356.py\u001b[0m in \u001b[0;36m<module>\u001b[0;34m\u001b[0m\n\u001b[1;32m      8\u001b[0m \u001b[0;34m\u001b[0m\u001b[0m\n\u001b[1;32m      9\u001b[0m \u001b[0mprint\u001b[0m\u001b[0;34m(\u001b[0m\u001b[0;34mf'Before, x = {x}'\u001b[0m\u001b[0;34m)\u001b[0m\u001b[0;34m\u001b[0m\u001b[0;34m\u001b[0m\u001b[0m\n\u001b[0;32m---> 10\u001b[0;31m \u001b[0mmyfunc\u001b[0m\u001b[0;34m(\u001b[0m\u001b[0;34m)\u001b[0m\u001b[0;34m\u001b[0m\u001b[0;34m\u001b[0m\u001b[0m\n\u001b[0m\u001b[1;32m     11\u001b[0m \u001b[0mprint\u001b[0m\u001b[0;34m(\u001b[0m\u001b[0;34mf'After, x = {x}'\u001b[0m\u001b[0;34m)\u001b[0m\u001b[0;34m\u001b[0m\u001b[0;34m\u001b[0m\u001b[0m\n",
      "\u001b[0;32m/var/folders/rr/0mnyyv811fs5vyp22gf4fxk00000gn/T/ipykernel_80969/1624799356.py\u001b[0m in \u001b[0;36mmyfunc\u001b[0;34m()\u001b[0m\n\u001b[1;32m      4\u001b[0m \u001b[0;34m\u001b[0m\u001b[0m\n\u001b[1;32m      5\u001b[0m \u001b[0;32mdef\u001b[0m \u001b[0mmyfunc\u001b[0m\u001b[0;34m(\u001b[0m\u001b[0;34m)\u001b[0m\u001b[0;34m:\u001b[0m\u001b[0;34m\u001b[0m\u001b[0;34m\u001b[0m\u001b[0m\n\u001b[0;32m----> 6\u001b[0;31m     \u001b[0mprint\u001b[0m\u001b[0;34m(\u001b[0m\u001b[0;34mf'In myfunc, x = {x}'\u001b[0m\u001b[0;34m)\u001b[0m\u001b[0;34m\u001b[0m\u001b[0;34m\u001b[0m\u001b[0m\n\u001b[0m\u001b[1;32m      7\u001b[0m     \u001b[0mx\u001b[0m \u001b[0;34m=\u001b[0m \u001b[0;36m200\u001b[0m\u001b[0;34m\u001b[0m\u001b[0;34m\u001b[0m\u001b[0m\n\u001b[1;32m      8\u001b[0m \u001b[0;34m\u001b[0m\u001b[0m\n",
      "\u001b[0;31mUnboundLocalError\u001b[0m: local variable 'x' referenced before assignment"
     ]
    }
   ],
   "source": [
    "# Local, (Enclosing), Global, Builtin\n",
    "\n",
    "x = 100\n",
    "\n",
    "def myfunc():\n",
    "    print(f'In myfunc, x = {x}') # is x local? Yes. Value is ........ boom!\n",
    "    x = 200\n",
    "\n",
    "print(f'Before, x = {x}')  # is x global? yes -- 100\n",
    "myfunc()\n",
    "print(f'After, x = {x}')   "
   ]
  },
  {
   "cell_type": "code",
   "execution_count": 9,
   "id": "2596f697-2c61-4357-bd05-965d094bf4ec",
   "metadata": {},
   "outputs": [
    {
     "data": {
      "text/plain": [
       "('x',)"
      ]
     },
     "execution_count": 9,
     "metadata": {},
     "output_type": "execute_result"
    }
   ],
   "source": [
    "myfunc.__code__.co_varnames"
   ]
  },
  {
   "cell_type": "code",
   "execution_count": null,
   "id": "3d1754b2-d924-469c-90ae-32b7638c1c72",
   "metadata": {},
   "outputs": [],
   "source": []
  }
 ],
 "metadata": {
  "kernelspec": {
   "display_name": "Python 3 (ipykernel)",
   "language": "python",
   "name": "python3"
  },
  "language_info": {
   "codemirror_mode": {
    "name": "ipython",
    "version": 3
   },
   "file_extension": ".py",
   "mimetype": "text/x-python",
   "name": "python",
   "nbconvert_exporter": "python",
   "pygments_lexer": "ipython3",
   "version": "3.10.0"
  }
 },
 "nbformat": 4,
 "nbformat_minor": 5
}
