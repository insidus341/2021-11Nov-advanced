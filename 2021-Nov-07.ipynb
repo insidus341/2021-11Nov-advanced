{
 "cells": [
  {
   "cell_type": "markdown",
   "id": "eb242b01-9cb9-4482-b11e-aefec7704035",
   "metadata": {},
   "source": [
    "# Agenda\n",
    "\n",
    "- Scoping (LEGB rule)\n",
    "    - local vs. global variables\n",
    "    - builtins\n",
    "- Inner functions + closures\n",
    "- storing functions\n",
    "- comprehensions\n",
    "    - list, set, dict\n",
    "- passing functions as arguments\n",
    "- `lambda`"
   ]
  },
  {
   "cell_type": "markdown",
   "id": "e40b0f95-0e90-4215-929c-42a9e2c8c192",
   "metadata": {},
   "source": [
    "# Scoping\n",
    "\n",
    "What variable exists when? What value is available when?\n",
    "\n",
    "Python's scoping rules are *very* straightforward. You just have to follow them to understand what's happening with variables. **BUT** the rules are very different from other languages."
   ]
  },
  {
   "cell_type": "code",
   "execution_count": 1,
   "id": "d99ce2f0-59a5-40fc-af2e-4a6de78cc360",
   "metadata": {},
   "outputs": [
    {
     "name": "stdout",
     "output_type": "stream",
     "text": [
      "x = 100\n"
     ]
    }
   ],
   "source": [
    "x = 100\n",
    "\n",
    "print(f'x = {x}')  # Python asks: Is x global?  Yes, we get 100"
   ]
  },
  {
   "cell_type": "markdown",
   "id": "948ca8bc-69d9-4c24-abe9-f729afa126ec",
   "metadata": {},
   "source": [
    "# Python has four scopes\n",
    "\n",
    "- `L` Local -- we start here when we're inside of a function body\n",
    "- `E` Enclosing\n",
    "- `G` Global -- we start here when we're *outside* of a function body\n",
    "- `B` Builtin"
   ]
  },
  {
   "cell_type": "code",
   "execution_count": 2,
   "id": "31ee83d0-bb63-49e5-8166-c7a039717bae",
   "metadata": {},
   "outputs": [
    {
     "data": {
      "text/plain": [
       "{'__name__': '__main__',\n",
       " '__doc__': 'Automatically created module for IPython interactive environment',\n",
       " '__package__': None,\n",
       " '__loader__': None,\n",
       " '__spec__': None,\n",
       " '__builtin__': <module 'builtins' (built-in)>,\n",
       " '__builtins__': <module 'builtins' (built-in)>,\n",
       " '_ih': ['',\n",
       "  \"x = 100\\n\\nprint(f'x = {x}')\",\n",
       "  'globals()   # returns a dict of all global variables -- variable names are keys, variable values are values'],\n",
       " '_oh': {},\n",
       " '_dh': ['/Users/reuven/Courses/Current/Cisco-2021-11Nov-advanced'],\n",
       " 'In': ['',\n",
       "  \"x = 100\\n\\nprint(f'x = {x}')\",\n",
       "  'globals()   # returns a dict of all global variables -- variable names are keys, variable values are values'],\n",
       " 'Out': {},\n",
       " 'get_ipython': <bound method InteractiveShell.get_ipython of <ipykernel.zmqshell.ZMQInteractiveShell object at 0x112a0b2b0>>,\n",
       " 'exit': <IPython.core.autocall.ZMQExitAutocall at 0x112a0be20>,\n",
       " 'quit': <IPython.core.autocall.ZMQExitAutocall at 0x112a0be20>,\n",
       " '_': '',\n",
       " '__': '',\n",
       " '___': '',\n",
       " '_i': \"x = 100\\n\\nprint(f'x = {x}')\",\n",
       " '_ii': '',\n",
       " '_iii': '',\n",
       " '_i1': \"x = 100\\n\\nprint(f'x = {x}')\",\n",
       " 'x': 100,\n",
       " '_i2': 'globals()   # returns a dict of all global variables -- variable names are keys, variable values are values'}"
      ]
     },
     "execution_count": 2,
     "metadata": {},
     "output_type": "execute_result"
    }
   ],
   "source": [
    "globals()   # returns a dict of all global variables -- variable names are keys, variable values are values"
   ]
  },
  {
   "cell_type": "code",
   "execution_count": 3,
   "id": "5e62fa1d-4415-49ae-8094-c47f1d7d1dee",
   "metadata": {},
   "outputs": [
    {
     "data": {
      "text/plain": [
       "True"
      ]
     },
     "execution_count": 3,
     "metadata": {},
     "output_type": "execute_result"
    }
   ],
   "source": [
    "# is x a global? We can find out!\n",
    "\n",
    "'x' in globals()"
   ]
  },
  {
   "cell_type": "code",
   "execution_count": 4,
   "id": "6871d3bb-1258-4532-b5cd-c1c9b3046e74",
   "metadata": {},
   "outputs": [
    {
     "data": {
      "text/plain": [
       "100"
      ]
     },
     "execution_count": 4,
     "metadata": {},
     "output_type": "execute_result"
    }
   ],
   "source": [
    "globals()['x']"
   ]
  },
  {
   "cell_type": "code",
   "execution_count": 5,
   "id": "1544c68a-e073-4735-b338-2053f32f9c6b",
   "metadata": {},
   "outputs": [
    {
     "name": "stdout",
     "output_type": "stream",
     "text": [
      "Before, x = 100\n",
      "In myfunc, x = 100\n",
      "After, x = 100\n"
     ]
    }
   ],
   "source": [
    "# Local, (Enclosing), Global, Builtin\n",
    "\n",
    "x = 100\n",
    "\n",
    "def myfunc():\n",
    "    print(f'In myfunc, x = {x}') # Is x local? No.  Is x global? Yes, 100\n",
    "\n",
    "print(f'Before, x = {x}')  # Python asks: Is x global? Yes, 100\n",
    "myfunc()\n",
    "print(f'After, x = {x}')   # Python asks: Is x global? Yes, 100"
   ]
  },
  {
   "cell_type": "code",
   "execution_count": 6,
   "id": "2705aec2-d422-429f-ab5c-e5b4daa04aea",
   "metadata": {},
   "outputs": [
    {
     "data": {
      "text/plain": [
       "()"
      ]
     },
     "execution_count": 6,
     "metadata": {},
     "output_type": "execute_result"
    }
   ],
   "source": [
    "# to see a function's local variables, check __code__.co_varnames\n",
    "\n",
    "myfunc.__code__.co_varnames"
   ]
  },
  {
   "cell_type": "code",
   "execution_count": 7,
   "id": "2870cb42-fcf6-41b2-850b-f2f902374fbb",
   "metadata": {},
   "outputs": [
    {
     "name": "stdout",
     "output_type": "stream",
     "text": [
      "Before, x = 100\n",
      "In myfunc, x = 200\n",
      "After, x = 100\n"
     ]
    }
   ],
   "source": [
    "# Local, (Enclosing), Global, Builtin\n",
    "\n",
    "x = 100\n",
    "\n",
    "def myfunc():\n",
    "    x = 200\n",
    "    print(f'In myfunc, x = {x}') # is x local? Yes, 200\n",
    "\n",
    "print(f'Before, x = {x}')  # is x global? Yes, 100\n",
    "myfunc()\n",
    "print(f'After, x = {x}')   # is x global? Yes, 100"
   ]
  },
  {
   "cell_type": "code",
   "execution_count": 8,
   "id": "cf815ba9-8695-4268-adcf-e700c8292db1",
   "metadata": {},
   "outputs": [
    {
     "name": "stdout",
     "output_type": "stream",
     "text": [
      "Before, x = 100\n"
     ]
    },
    {
     "ename": "UnboundLocalError",
     "evalue": "local variable 'x' referenced before assignment",
     "output_type": "error",
     "traceback": [
      "\u001b[0;31m---------------------------------------------------------------------------\u001b[0m",
      "\u001b[0;31mUnboundLocalError\u001b[0m                         Traceback (most recent call last)",
      "\u001b[0;32m/var/folders/rr/0mnyyv811fs5vyp22gf4fxk00000gn/T/ipykernel_80969/1624799356.py\u001b[0m in \u001b[0;36m<module>\u001b[0;34m\u001b[0m\n\u001b[1;32m      8\u001b[0m \u001b[0;34m\u001b[0m\u001b[0m\n\u001b[1;32m      9\u001b[0m \u001b[0mprint\u001b[0m\u001b[0;34m(\u001b[0m\u001b[0;34mf'Before, x = {x}'\u001b[0m\u001b[0;34m)\u001b[0m\u001b[0;34m\u001b[0m\u001b[0;34m\u001b[0m\u001b[0m\n\u001b[0;32m---> 10\u001b[0;31m \u001b[0mmyfunc\u001b[0m\u001b[0;34m(\u001b[0m\u001b[0;34m)\u001b[0m\u001b[0;34m\u001b[0m\u001b[0;34m\u001b[0m\u001b[0m\n\u001b[0m\u001b[1;32m     11\u001b[0m \u001b[0mprint\u001b[0m\u001b[0;34m(\u001b[0m\u001b[0;34mf'After, x = {x}'\u001b[0m\u001b[0;34m)\u001b[0m\u001b[0;34m\u001b[0m\u001b[0;34m\u001b[0m\u001b[0m\n",
      "\u001b[0;32m/var/folders/rr/0mnyyv811fs5vyp22gf4fxk00000gn/T/ipykernel_80969/1624799356.py\u001b[0m in \u001b[0;36mmyfunc\u001b[0;34m()\u001b[0m\n\u001b[1;32m      4\u001b[0m \u001b[0;34m\u001b[0m\u001b[0m\n\u001b[1;32m      5\u001b[0m \u001b[0;32mdef\u001b[0m \u001b[0mmyfunc\u001b[0m\u001b[0;34m(\u001b[0m\u001b[0;34m)\u001b[0m\u001b[0;34m:\u001b[0m\u001b[0;34m\u001b[0m\u001b[0;34m\u001b[0m\u001b[0m\n\u001b[0;32m----> 6\u001b[0;31m     \u001b[0mprint\u001b[0m\u001b[0;34m(\u001b[0m\u001b[0;34mf'In myfunc, x = {x}'\u001b[0m\u001b[0;34m)\u001b[0m\u001b[0;34m\u001b[0m\u001b[0;34m\u001b[0m\u001b[0m\n\u001b[0m\u001b[1;32m      7\u001b[0m     \u001b[0mx\u001b[0m \u001b[0;34m=\u001b[0m \u001b[0;36m200\u001b[0m\u001b[0;34m\u001b[0m\u001b[0;34m\u001b[0m\u001b[0m\n\u001b[1;32m      8\u001b[0m \u001b[0;34m\u001b[0m\u001b[0m\n",
      "\u001b[0;31mUnboundLocalError\u001b[0m: local variable 'x' referenced before assignment"
     ]
    }
   ],
   "source": [
    "# Local, (Enclosing), Global, Builtin\n",
    "\n",
    "x = 100\n",
    "\n",
    "def myfunc():\n",
    "    print(f'In myfunc, x = {x}') # is x local? Yes. Value is ........ boom!\n",
    "    x = 200  # hoisting problem -- if you assign to a variable in a function, that variable is local NO MATTER WHERE YOU ASSIGN\n",
    "\n",
    "print(f'Before, x = {x}')  # is x global? yes -- 100\n",
    "myfunc()\n",
    "print(f'After, x = {x}')   "
   ]
  },
  {
   "cell_type": "code",
   "execution_count": 9,
   "id": "2596f697-2c61-4357-bd05-965d094bf4ec",
   "metadata": {},
   "outputs": [
    {
     "data": {
      "text/plain": [
       "('x',)"
      ]
     },
     "execution_count": 9,
     "metadata": {},
     "output_type": "execute_result"
    }
   ],
   "source": [
    "myfunc.__code__.co_varnames"
   ]
  },
  {
   "cell_type": "code",
   "execution_count": 11,
   "id": "3d1754b2-d924-469c-90ae-32b7638c1c72",
   "metadata": {},
   "outputs": [
    {
     "name": "stdout",
     "output_type": "stream",
     "text": [
      "Before, x = 100\n"
     ]
    },
    {
     "ename": "UnboundLocalError",
     "evalue": "local variable 'x' referenced before assignment",
     "output_type": "error",
     "traceback": [
      "\u001b[0;31m---------------------------------------------------------------------------\u001b[0m",
      "\u001b[0;31mUnboundLocalError\u001b[0m                         Traceback (most recent call last)",
      "\u001b[0;32m/var/folders/rr/0mnyyv811fs5vyp22gf4fxk00000gn/T/ipykernel_80969/2842892272.py\u001b[0m in \u001b[0;36m<module>\u001b[0;34m\u001b[0m\n\u001b[1;32m      8\u001b[0m \u001b[0;34m\u001b[0m\u001b[0m\n\u001b[1;32m      9\u001b[0m \u001b[0mprint\u001b[0m\u001b[0;34m(\u001b[0m\u001b[0;34mf'Before, x = {x}'\u001b[0m\u001b[0;34m)\u001b[0m\u001b[0;34m\u001b[0m\u001b[0;34m\u001b[0m\u001b[0m\n\u001b[0;32m---> 10\u001b[0;31m \u001b[0mmyfunc\u001b[0m\u001b[0;34m(\u001b[0m\u001b[0;34m)\u001b[0m\u001b[0;34m\u001b[0m\u001b[0;34m\u001b[0m\u001b[0m\n\u001b[0m\u001b[1;32m     11\u001b[0m \u001b[0mprint\u001b[0m\u001b[0;34m(\u001b[0m\u001b[0;34mf'After, x = {x}'\u001b[0m\u001b[0;34m)\u001b[0m\u001b[0;34m\u001b[0m\u001b[0;34m\u001b[0m\u001b[0m\n",
      "\u001b[0;32m/var/folders/rr/0mnyyv811fs5vyp22gf4fxk00000gn/T/ipykernel_80969/2842892272.py\u001b[0m in \u001b[0;36mmyfunc\u001b[0;34m()\u001b[0m\n\u001b[1;32m      4\u001b[0m \u001b[0;34m\u001b[0m\u001b[0m\n\u001b[1;32m      5\u001b[0m \u001b[0;32mdef\u001b[0m \u001b[0mmyfunc\u001b[0m\u001b[0;34m(\u001b[0m\u001b[0;34m)\u001b[0m\u001b[0;34m:\u001b[0m\u001b[0;34m\u001b[0m\u001b[0;34m\u001b[0m\u001b[0m\n\u001b[0;32m----> 6\u001b[0;31m     \u001b[0mx\u001b[0m \u001b[0;34m=\u001b[0m \u001b[0mx\u001b[0m \u001b[0;34m+\u001b[0m \u001b[0;36m1\u001b[0m\u001b[0;34m\u001b[0m\u001b[0;34m\u001b[0m\u001b[0m\n\u001b[0m\u001b[1;32m      7\u001b[0m     \u001b[0mprint\u001b[0m\u001b[0;34m(\u001b[0m\u001b[0;34mf'In myfunc, x = {x}'\u001b[0m\u001b[0;34m)\u001b[0m\u001b[0;34m\u001b[0m\u001b[0;34m\u001b[0m\u001b[0m\n\u001b[1;32m      8\u001b[0m \u001b[0;34m\u001b[0m\u001b[0m\n",
      "\u001b[0;31mUnboundLocalError\u001b[0m: local variable 'x' referenced before assignment"
     ]
    }
   ],
   "source": [
    "# Local, (Enclosing), Global, Builtin\n",
    "\n",
    "x = 100\n",
    "\n",
    "def myfunc():\n",
    "    x = x + 1\n",
    "    print(f'In myfunc, x = {x}') \n",
    "\n",
    "print(f'Before, x = {x}')\n",
    "myfunc()\n",
    "print(f'After, x = {x}')   "
   ]
  },
  {
   "cell_type": "code",
   "execution_count": 16,
   "id": "1a58be7c-7568-4bf2-95f7-fdcc9d86a207",
   "metadata": {},
   "outputs": [
    {
     "name": "stdout",
     "output_type": "stream",
     "text": [
      "Before, x = 100\n",
      "In myfunc, x = 200\n",
      "After, x = 200\n"
     ]
    }
   ],
   "source": [
    "# Local, (Enclosing), Global, Builtin\n",
    "\n",
    "x = 100\n",
    "\n",
    "def myfunc():\n",
    "    global x   # when compiling the function, *DON'T* mark x as local!\n",
    "    x = 200    # assign to the global variable x! (if there is no global x, this creates one)\n",
    "    print(f'In myfunc, x = {x}')  # is x local? No. Is x global? yes -- 200\n",
    "\n",
    "print(f'Before, x = {x}')  \n",
    "myfunc()\n",
    "print(f'After, x = {x}')   # is x global? yes, 200"
   ]
  },
  {
   "cell_type": "code",
   "execution_count": 15,
   "id": "18ea3a99-4e2c-4488-9938-d158c09c5abb",
   "metadata": {},
   "outputs": [
    {
     "data": {
      "text/plain": [
       "()"
      ]
     },
     "execution_count": 15,
     "metadata": {},
     "output_type": "execute_result"
    }
   ],
   "source": [
    "myfunc.__code__.co_varnames"
   ]
  },
  {
   "cell_type": "code",
   "execution_count": 17,
   "id": "b8c3fee7-9066-4038-b124-81da17e9c98f",
   "metadata": {},
   "outputs": [],
   "source": [
    "for i in range(5):\n",
    "    n = i**2"
   ]
  },
  {
   "cell_type": "code",
   "execution_count": 18,
   "id": "5539ddf4-5713-4eb3-832b-1360b9dfd935",
   "metadata": {},
   "outputs": [
    {
     "data": {
      "text/plain": [
       "16"
      ]
     },
     "execution_count": 18,
     "metadata": {},
     "output_type": "execute_result"
    }
   ],
   "source": [
    "# does n still exist?\n",
    "n"
   ]
  },
  {
   "cell_type": "code",
   "execution_count": 19,
   "id": "5d00e0b2-02c3-45ba-8020-cb2051288d84",
   "metadata": {},
   "outputs": [
    {
     "data": {
      "text/plain": [
       "4"
      ]
     },
     "execution_count": 19,
     "metadata": {},
     "output_type": "execute_result"
    }
   ],
   "source": [
    "# does i still exist?\n",
    "i"
   ]
  },
  {
   "cell_type": "code",
   "execution_count": 20,
   "id": "b7b34ad5-f2cb-49ad-98d6-442083b87120",
   "metadata": {},
   "outputs": [
    {
     "name": "stdout",
     "output_type": "stream",
     "text": [
      "Before, y=[10, 20, 30]\n",
      "In myfunc, y=['!', 20, 30]\n",
      "After, y=['!', 20, 30]\n"
     ]
    }
   ],
   "source": [
    "# Local, (Enclosing), Global, Builtin\n",
    "\n",
    "y = [10, 20, 30]\n",
    "\n",
    "def myfunc():\n",
    "    y[0] = '!'  # is y local? no. is y global? yes.  then it runs y.__setitem__(0, '!')\n",
    "    print(f'In myfunc, {y=}')  # set y[0] to '!', which is true for y, the global variable\n",
    "\n",
    "print(f'Before, {y=}')    # is y global? Yes, [10, 20, 30]\n",
    "myfunc()\n",
    "print(f'After, {y=}')     # is y global? Yes, ['!', 20, 30]"
   ]
  },
  {
   "cell_type": "code",
   "execution_count": 21,
   "id": "fd58b81b-bf00-40a7-bbcc-fc6ebcec2c1b",
   "metadata": {},
   "outputs": [
    {
     "data": {
      "text/plain": [
       "()"
      ]
     },
     "execution_count": 21,
     "metadata": {},
     "output_type": "execute_result"
    }
   ],
   "source": [
    "myfunc.__code__.co_varnames"
   ]
  },
  {
   "cell_type": "markdown",
   "id": "ed8c3f96-03ee-4e47-8ff5-5a23d74d73cd",
   "metadata": {},
   "source": [
    "# Does Python have keywords?\n",
    "\n",
    "Yes. `def`, `for`, `while`, `class`, `and`, `or`, `in`.... all of these are keywords. You cannot assign to them. You cannot change them.  They're part of the language.\n",
    "\n",
    "But what about some other words, like `str`, `len`, `sum`?  Are those keywords? **NO**.  Can I assign to them?  Unfortunately, YES.  Those words exist in a final, default namespace known as \"builtins,\" available as `__builtin__`."
   ]
  },
  {
   "cell_type": "code",
   "execution_count": 22,
   "id": "710f8bc9-0f51-4b37-ac03-67d1b5d0b090",
   "metadata": {},
   "outputs": [
    {
     "data": {
      "text/plain": [
       "60"
      ]
     },
     "execution_count": 22,
     "metadata": {},
     "output_type": "execute_result"
    }
   ],
   "source": [
    "sum([10, 20, 30])  # is sum global? No. Is it in builtins? Yes."
   ]
  },
  {
   "cell_type": "code",
   "execution_count": 24,
   "id": "684cf339-377b-449f-b2c1-2c7d8f906b5b",
   "metadata": {},
   "outputs": [],
   "source": [
    "sum = 5  # defined a global variable \"sum\""
   ]
  },
  {
   "cell_type": "code",
   "execution_count": 25,
   "id": "2e9c4673-5304-46b0-a9f0-932b2360eb15",
   "metadata": {},
   "outputs": [
    {
     "ename": "TypeError",
     "evalue": "'int' object is not callable",
     "output_type": "error",
     "traceback": [
      "\u001b[0;31m---------------------------------------------------------------------------\u001b[0m",
      "\u001b[0;31mTypeError\u001b[0m                                 Traceback (most recent call last)",
      "\u001b[0;32m/var/folders/rr/0mnyyv811fs5vyp22gf4fxk00000gn/T/ipykernel_80969/4158229474.py\u001b[0m in \u001b[0;36m<module>\u001b[0;34m\u001b[0m\n\u001b[0;32m----> 1\u001b[0;31m \u001b[0msum\u001b[0m\u001b[0;34m(\u001b[0m\u001b[0;34m[\u001b[0m\u001b[0;36m10\u001b[0m\u001b[0;34m,\u001b[0m \u001b[0;36m20\u001b[0m\u001b[0;34m,\u001b[0m \u001b[0;36m30\u001b[0m\u001b[0;34m]\u001b[0m\u001b[0;34m)\u001b[0m  \u001b[0;31m# is sum global? Yes!  Its value is 5.\u001b[0m\u001b[0;34m\u001b[0m\u001b[0;34m\u001b[0m\u001b[0m\n\u001b[0m",
      "\u001b[0;31mTypeError\u001b[0m: 'int' object is not callable"
     ]
    }
   ],
   "source": [
    "sum([10, 20, 30])  # is sum global? Yes!  Its value is 5."
   ]
  },
  {
   "cell_type": "code",
   "execution_count": 26,
   "id": "2a6127fc-85b9-4888-9d5e-d4d3cc33bbaf",
   "metadata": {},
   "outputs": [],
   "source": [
    "# how can I get out of this?\n",
    "del(sum)   # looks scary, but I'm really only deleting the name in the global namespace"
   ]
  },
  {
   "cell_type": "code",
   "execution_count": 27,
   "id": "dddebd1b-14b8-4e2b-b2d1-346e1627ebc5",
   "metadata": {},
   "outputs": [
    {
     "data": {
      "text/plain": [
       "60"
      ]
     },
     "execution_count": 27,
     "metadata": {},
     "output_type": "execute_result"
    }
   ],
   "source": [
    "sum([10, 20, 30])"
   ]
  },
  {
   "cell_type": "code",
   "execution_count": 28,
   "id": "1fd6792c-28e8-4160-ab29-9ac02377bd92",
   "metadata": {},
   "outputs": [],
   "source": [
    "x = 5"
   ]
  },
  {
   "cell_type": "markdown",
   "id": "6ba24d27-a7d6-481d-95fb-68eb0a4ca740",
   "metadata": {},
   "source": [
    "# Summary of what we know about functions\n",
    "\n",
    "1. Functions are objects, just like everything else in Python.\n",
    "2. We can create a function inside of another function.  \n",
    "3. We can return a function from another function -- because we can return any object from a function.\n",
    "4. When we use `def`, we (a) define a new function object and (b) assign it to a variable.\n",
    "\n",
    "The result of this combination of rules leads us to... inner functions!"
   ]
  },
  {
   "cell_type": "code",
   "execution_count": 29,
   "id": "04dec4f0-e230-4e99-8e9c-cb69f20e0207",
   "metadata": {},
   "outputs": [
    {
     "data": {
      "text/plain": [
       "('inner',)"
      ]
     },
     "execution_count": 29,
     "metadata": {},
     "output_type": "execute_result"
    }
   ],
   "source": [
    "def outer():\n",
    "    def inner():  # \"inner\" is a local variable inside of \"outer\"\n",
    "        print('Hello from inner!')\n",
    "    return inner\n",
    "\n",
    "outer.__code__.co_varnames"
   ]
  },
  {
   "cell_type": "code",
   "execution_count": 30,
   "id": "76b53b6d-5e44-493d-90c6-f15baab0cf9c",
   "metadata": {},
   "outputs": [],
   "source": [
    "f = outer()"
   ]
  },
  {
   "cell_type": "code",
   "execution_count": 31,
   "id": "6c1aef7b-032e-4062-8ea6-073ce2fc3792",
   "metadata": {},
   "outputs": [
    {
     "data": {
      "text/plain": [
       "function"
      ]
     },
     "execution_count": 31,
     "metadata": {},
     "output_type": "execute_result"
    }
   ],
   "source": [
    "type(f)"
   ]
  },
  {
   "cell_type": "code",
   "execution_count": 32,
   "id": "efb4a392-18d6-4dca-935a-d999ddf516c1",
   "metadata": {},
   "outputs": [
    {
     "data": {
      "text/plain": [
       "<function __main__.outer.<locals>.inner()>"
      ]
     },
     "execution_count": 32,
     "metadata": {},
     "output_type": "execute_result"
    }
   ],
   "source": [
    "f"
   ]
  },
  {
   "cell_type": "code",
   "execution_count": 33,
   "id": "9a706d78-a55a-4a59-b781-aa08c8e324d8",
   "metadata": {},
   "outputs": [
    {
     "name": "stdout",
     "output_type": "stream",
     "text": [
      "Hello from inner!\n"
     ]
    }
   ],
   "source": [
    "# how do I run a function? ()\n",
    "f()"
   ]
  },
  {
   "cell_type": "code",
   "execution_count": 37,
   "id": "7036a56e-f639-4103-a893-97e6150d77c6",
   "metadata": {},
   "outputs": [],
   "source": [
    "# Local, Enclosing, Global, Builtin\n",
    "# Enclosing means: Local variables from the enclosing function are still available to our inner function\n",
    "\n",
    "def outer(x):\n",
    "    def inner(y): \n",
    "        return f'Hello from inner, {x=} and {y=}!'\n",
    "    return inner\n",
    "\n",
    "f = outer(10)"
   ]
  },
  {
   "cell_type": "code",
   "execution_count": 38,
   "id": "b3d18e7f-56e1-4c45-8336-221be8bd6929",
   "metadata": {},
   "outputs": [
    {
     "data": {
      "text/plain": [
       "('x', 'inner')"
      ]
     },
     "execution_count": 38,
     "metadata": {},
     "output_type": "execute_result"
    }
   ],
   "source": [
    "outer.__code__.co_varnames"
   ]
  },
  {
   "cell_type": "code",
   "execution_count": 39,
   "id": "7438db79-3d65-4e3a-8350-96128c295c92",
   "metadata": {},
   "outputs": [
    {
     "data": {
      "text/plain": [
       "'Hello from inner, x=10 and y=20!'"
      ]
     },
     "execution_count": 39,
     "metadata": {},
     "output_type": "execute_result"
    }
   ],
   "source": [
    "f(20)"
   ]
  },
  {
   "cell_type": "code",
   "execution_count": 41,
   "id": "7d3ab0b4-0add-43eb-815e-0b6fa6a0e901",
   "metadata": {},
   "outputs": [],
   "source": [
    "# Local, Enclosing, Global, Builtin\n",
    "# Enclosing means: Local variables from the enclosing function are still available to our inner function\n",
    "\n",
    "def outer(x):   # closure -- a function that is returned by another function, and has access to the outer function's variables\n",
    "    def inner(y): \n",
    "        return f'Hello from inner, {x=} and {y=}!'\n",
    "    return inner\n",
    "\n",
    "# Make two separate instances of \"inner\", each with its own separate enclosing scope with x= something else\n",
    "f1 = outer(10)\n",
    "f2 = outer(15)"
   ]
  },
  {
   "cell_type": "code",
   "execution_count": 42,
   "id": "13ba752f-9a2d-4928-9650-332454d123de",
   "metadata": {},
   "outputs": [
    {
     "data": {
      "text/plain": [
       "'Hello from inner, x=10 and y=3!'"
      ]
     },
     "execution_count": 42,
     "metadata": {},
     "output_type": "execute_result"
    }
   ],
   "source": [
    "f1(3)"
   ]
  },
  {
   "cell_type": "code",
   "execution_count": 43,
   "id": "f815d6e3-6d01-4dbc-81b6-df81b0d6f0a6",
   "metadata": {},
   "outputs": [
    {
     "data": {
      "text/plain": [
       "'Hello from inner, x=15 and y=3!'"
      ]
     },
     "execution_count": 43,
     "metadata": {},
     "output_type": "execute_result"
    }
   ],
   "source": [
    "f2(3)"
   ]
  },
  {
   "cell_type": "markdown",
   "id": "d65fdd22-50c6-4d36-b081-ace9fc05c213",
   "metadata": {},
   "source": [
    "# Exercise: Password maker maker\n",
    "\n",
    "1. Write a function, `make_password_maker`, which takes a string argument.  That string contains all of the characters from which we might want to make a password.\n",
    "2. `make_password_maker`, when invoked with a string, returns a function.  The returned function will take a single integer argument.  3. When called, the returned (inner) function returns a string with a password randomly selected from the characters in our string (i.e., outer function's parameter).\n",
    "\n",
    "```python\n",
    "make_alpha_password = make_password_maker('abcdefghij')\n",
    "print(make_alpha_password(5))  # get a 5-character password, randomly taken from a-j\n",
    "print(make_alpha_password(20)) # get a 20-character password, randomly taken from a-j\n",
    "\n",
    "make_symbol_password = make_password_maker('!@#$%^&*()')\n",
    "print(make_symbol_password(5))  # get a 5-character password\n",
    "print(make_symbol_password(20)) # get a 20-character password\n",
    "```\n",
    "\n",
    "To get a random character from a string (or any Python sequence), use `random.choice(s)`, which returns one element."
   ]
  },
  {
   "cell_type": "code",
   "execution_count": 44,
   "id": "0b993e4b-7236-4a5b-b96d-d013acbabaa2",
   "metadata": {},
   "outputs": [],
   "source": [
    "import random\n",
    "\n",
    "def make_password_maker(s):\n",
    "    def make_password(n):\n",
    "        output = ''\n",
    "        for i in range(n):\n",
    "            output += random.choice(s)\n",
    "        return output\n",
    "    return make_password"
   ]
  },
  {
   "cell_type": "code",
   "execution_count": 45,
   "id": "528f9d2d-fa03-471d-81ff-5e9000af9ba0",
   "metadata": {},
   "outputs": [
    {
     "name": "stdout",
     "output_type": "stream",
     "text": [
      "ejjeb\n",
      "igiiicijegaadifjhgbe\n",
      ")@#%#\n",
      "^^&(%@*@^$*#@*(*)*!(\n"
     ]
    }
   ],
   "source": [
    "make_alpha_password = make_password_maker('abcdefghij')\n",
    "print(make_alpha_password(5))  # get a 5-character password, randomly taken from a-j\n",
    "print(make_alpha_password(20)) # get a 20-character password, randomly taken from a-j\n",
    "\n",
    "make_symbol_password = make_password_maker('!@#$%^&*()')\n",
    "print(make_symbol_password(5))  # get a 5-character password\n",
    "print(make_symbol_password(20)) # get a 20-character password\n"
   ]
  },
  {
   "cell_type": "code",
   "execution_count": 50,
   "id": "4a8a3a1e-88df-48c1-ad10-aa6d2a6fc4cf",
   "metadata": {},
   "outputs": [
    {
     "ename": "UnboundLocalError",
     "evalue": "local variable 'counter' referenced before assignment",
     "output_type": "error",
     "traceback": [
      "\u001b[0;31m---------------------------------------------------------------------------\u001b[0m",
      "\u001b[0;31mUnboundLocalError\u001b[0m                         Traceback (most recent call last)",
      "\u001b[0;32m/var/folders/rr/0mnyyv811fs5vyp22gf4fxk00000gn/T/ipykernel_80969/1215116937.py\u001b[0m in \u001b[0;36m<module>\u001b[0;34m\u001b[0m\n\u001b[1;32m      8\u001b[0m \u001b[0mhello\u001b[0m \u001b[0;34m=\u001b[0m \u001b[0mgreet\u001b[0m\u001b[0;34m(\u001b[0m\u001b[0;34m)\u001b[0m\u001b[0;34m\u001b[0m\u001b[0;34m\u001b[0m\u001b[0m\n\u001b[1;32m      9\u001b[0m \u001b[0;34m\u001b[0m\u001b[0m\n\u001b[0;32m---> 10\u001b[0;31m \u001b[0mprint\u001b[0m\u001b[0;34m(\u001b[0m\u001b[0mhello\u001b[0m\u001b[0;34m(\u001b[0m\u001b[0;34m'a'\u001b[0m\u001b[0;34m)\u001b[0m\u001b[0;34m)\u001b[0m\u001b[0;34m\u001b[0m\u001b[0;34m\u001b[0m\u001b[0m\n\u001b[0m\u001b[1;32m     11\u001b[0m \u001b[0mprint\u001b[0m\u001b[0;34m(\u001b[0m\u001b[0mhello\u001b[0m\u001b[0;34m(\u001b[0m\u001b[0;34m'b'\u001b[0m\u001b[0;34m)\u001b[0m\u001b[0;34m)\u001b[0m\u001b[0;34m\u001b[0m\u001b[0;34m\u001b[0m\u001b[0m\n",
      "\u001b[0;32m/var/folders/rr/0mnyyv811fs5vyp22gf4fxk00000gn/T/ipykernel_80969/1215116937.py\u001b[0m in \u001b[0;36minner\u001b[0;34m(name)\u001b[0m\n\u001b[1;32m      2\u001b[0m     \u001b[0mcounter\u001b[0m \u001b[0;34m=\u001b[0m \u001b[0;36m0\u001b[0m\u001b[0;34m\u001b[0m\u001b[0;34m\u001b[0m\u001b[0m\n\u001b[1;32m      3\u001b[0m     \u001b[0;32mdef\u001b[0m \u001b[0minner\u001b[0m\u001b[0;34m(\u001b[0m\u001b[0mname\u001b[0m\u001b[0;34m)\u001b[0m\u001b[0;34m:\u001b[0m\u001b[0;34m\u001b[0m\u001b[0;34m\u001b[0m\u001b[0m\n\u001b[0;32m----> 4\u001b[0;31m         \u001b[0mcounter\u001b[0m \u001b[0;34m+=\u001b[0m \u001b[0;36m1\u001b[0m\u001b[0;34m\u001b[0m\u001b[0;34m\u001b[0m\u001b[0m\n\u001b[0m\u001b[1;32m      5\u001b[0m         \u001b[0;32mreturn\u001b[0m \u001b[0;34mf'{counter} Hello, {name}!'\u001b[0m\u001b[0;34m\u001b[0m\u001b[0;34m\u001b[0m\u001b[0m\n\u001b[1;32m      6\u001b[0m     \u001b[0;32mreturn\u001b[0m \u001b[0minner\u001b[0m\u001b[0;34m\u001b[0m\u001b[0;34m\u001b[0m\u001b[0m\n",
      "\u001b[0;31mUnboundLocalError\u001b[0m: local variable 'counter' referenced before assignment"
     ]
    }
   ],
   "source": [
    "def greet():\n",
    "    counter = 0\n",
    "    def inner(name):\n",
    "        counter += 1\n",
    "        return f'{counter} Hello, {name}!'\n",
    "    return inner\n",
    "\n",
    "hello = greet()\n",
    "\n",
    "print(hello('a'))\n",
    "print(hello('b'))"
   ]
  },
  {
   "cell_type": "code",
   "execution_count": null,
   "id": "ca90b785-33ca-4521-888c-5cb5a664fad6",
   "metadata": {},
   "outputs": [],
   "source": []
  }
 ],
 "metadata": {
  "kernelspec": {
   "display_name": "Python 3 (ipykernel)",
   "language": "python",
   "name": "python3"
  },
  "language_info": {
   "codemirror_mode": {
    "name": "ipython",
    "version": 3
   },
   "file_extension": ".py",
   "mimetype": "text/x-python",
   "name": "python",
   "nbconvert_exporter": "python",
   "pygments_lexer": "ipython3",
   "version": "3.10.0"
  }
 },
 "nbformat": 4,
 "nbformat_minor": 5
}
