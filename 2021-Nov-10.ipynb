{
 "cells": [
  {
   "cell_type": "code",
   "execution_count": 1,
   "id": "3b0876d4-b2b7-4dc7-83a8-c25f086e0f91",
   "metadata": {},
   "outputs": [],
   "source": [
    "# import mymod   # mymod.hello('world') and mymod.goodbye('to you')"
   ]
  },
  {
   "cell_type": "code",
   "execution_count": 2,
   "id": "926c220c-4080-498c-b1f5-2cf81bd01c48",
   "metadata": {},
   "outputs": [],
   "source": [
    "from mymod import hello"
   ]
  },
  {
   "cell_type": "code",
   "execution_count": 3,
   "id": "a3c08c9a-a6da-42d7-8584-fbfbc10a6e44",
   "metadata": {},
   "outputs": [
    {
     "ename": "NameError",
     "evalue": "name 'mymod' is not defined",
     "output_type": "error",
     "traceback": [
      "\u001b[0;31m---------------------------------------------------------------------------\u001b[0m",
      "\u001b[0;31mNameError\u001b[0m                                 Traceback (most recent call last)",
      "\u001b[0;32m/var/folders/rr/0mnyyv811fs5vyp22gf4fxk00000gn/T/ipykernel_50823/2710955346.py\u001b[0m in \u001b[0;36m<module>\u001b[0;34m\u001b[0m\n\u001b[0;32m----> 1\u001b[0;31m \u001b[0mmymod\u001b[0m\u001b[0;34m\u001b[0m\u001b[0;34m\u001b[0m\u001b[0m\n\u001b[0m",
      "\u001b[0;31mNameError\u001b[0m: name 'mymod' is not defined"
     ]
    }
   ],
   "source": [
    "mymod"
   ]
  },
  {
   "cell_type": "code",
   "execution_count": 4,
   "id": "f45104e1-d2d1-4599-ab85-977781460e1e",
   "metadata": {},
   "outputs": [
    {
     "data": {
      "text/plain": [
       "'Hello, world from mymod!'"
      ]
     },
     "execution_count": 4,
     "metadata": {},
     "output_type": "execute_result"
    }
   ],
   "source": [
    "hello('world')"
   ]
  },
  {
   "cell_type": "code",
   "execution_count": 5,
   "id": "dc8e728e-8d6f-42dd-9779-f8f110489db6",
   "metadata": {},
   "outputs": [],
   "source": [
    "import sys"
   ]
  },
  {
   "cell_type": "code",
   "execution_count": 7,
   "id": "65cc21bc-9ee2-448e-9b6b-15d3b37332e4",
   "metadata": {},
   "outputs": [
    {
     "data": {
      "text/plain": [
       "'Hello, world from mymod!'"
      ]
     },
     "execution_count": 7,
     "metadata": {},
     "output_type": "execute_result"
    }
   ],
   "source": [
    "sys.modules['mymod'].hello('world')"
   ]
  },
  {
   "cell_type": "code",
   "execution_count": 8,
   "id": "f293f052-b460-4324-95b9-1a2046055a05",
   "metadata": {},
   "outputs": [
    {
     "data": {
      "text/plain": [
       "'Goodbye, world, from mymod!'"
      ]
     },
     "execution_count": 8,
     "metadata": {},
     "output_type": "execute_result"
    }
   ],
   "source": [
    "sys.modules['mymod'].goodbye('world')"
   ]
  },
  {
   "cell_type": "code",
   "execution_count": 9,
   "id": "4d15503c-2116-4c91-abd4-6d84b35613ee",
   "metadata": {},
   "outputs": [],
   "source": [
    "# import mymod   # looks for mymod.py, loads it, and then sets a global variable mymod that refers to sys.modules['mymod']\n",
    "\n",
    "import mymod as m  # looks for mymod.py, loads it, and then sets a global variable m that refers to sys.modules['mymod']"
   ]
  },
  {
   "cell_type": "code",
   "execution_count": 10,
   "id": "50964503-a444-4d8f-a0bd-077821c9179a",
   "metadata": {},
   "outputs": [
    {
     "data": {
      "text/plain": [
       "<module 'mymod' from '/Users/reuven/Courses/Current/Cisco-2021-11Nov-advanced/mymod.py'>"
      ]
     },
     "execution_count": 10,
     "metadata": {},
     "output_type": "execute_result"
    }
   ],
   "source": [
    "m"
   ]
  },
  {
   "cell_type": "code",
   "execution_count": 11,
   "id": "40856510-2b7a-42eb-8c6d-96389e4b1bf3",
   "metadata": {},
   "outputs": [],
   "source": [
    "# import numpy as np"
   ]
  },
  {
   "cell_type": "code",
   "execution_count": 12,
   "id": "1a3bdff2-42e2-473a-95fd-e511936ce7ca",
   "metadata": {},
   "outputs": [],
   "source": [
    "from mymod import hello as h  # (1) import mymod.py (2) define the global variable h to refer to sys.modules['mymod'].hello"
   ]
  },
  {
   "cell_type": "code",
   "execution_count": 13,
   "id": "3bb3682c-0d00-4ded-b044-13f6db5d6b82",
   "metadata": {},
   "outputs": [
    {
     "data": {
      "text/plain": [
       "'Hello, world from mymod!'"
      ]
     },
     "execution_count": 13,
     "metadata": {},
     "output_type": "execute_result"
    }
   ],
   "source": [
    "h('world')"
   ]
  },
  {
   "cell_type": "markdown",
   "id": "f0111902-af71-4a35-8a8e-cdd073f91335",
   "metadata": {
    "tags": []
   },
   "source": [
    "# Agenda\n",
    "\n",
    "- Classes\n",
    "- Instances\n",
    "- Methods\n",
    "- Attributes (lots and lots on attributes)\n",
    "    - Instance attributes\n",
    "    - Class attributes\n",
    "- Inheritance (including multiple inheritance)\n",
    "- ICPO rule for attribute lookup\n",
    "- Magic methods (lots of them), and how they work\n",
    "- Properties\n",
    "- Descriptors"
   ]
  },
  {
   "cell_type": "markdown",
   "id": "be4bf676-2d63-44fe-aa76-7cd05d5c3798",
   "metadata": {},
   "source": [
    "# What is an object? Also: Why do we care (about objects)?\n",
    "\n",
    "An object in Python has three characteristics:\n",
    "\n",
    "1. A unique number (`id`)\n",
    "2. A type/class (which we can retrieve via `type`)\n",
    "3. Attributes (a private dictionary-like namespace for storage)"
   ]
  },
  {
   "cell_type": "code",
   "execution_count": 14,
   "id": "3592ea91-1b51-4f4e-b595-46fe9ca96c21",
   "metadata": {},
   "outputs": [
    {
     "data": {
      "text/plain": [
       "4388593008"
      ]
     },
     "execution_count": 14,
     "metadata": {},
     "output_type": "execute_result"
    }
   ],
   "source": [
    "s = 'abcd'\n",
    "id(s)"
   ]
  },
  {
   "cell_type": "code",
   "execution_count": 15,
   "id": "dc1dbf4e-91da-4cc8-a990-c97f3fa1d49f",
   "metadata": {},
   "outputs": [
    {
     "data": {
      "text/plain": [
       "str"
      ]
     },
     "execution_count": 15,
     "metadata": {},
     "output_type": "execute_result"
    }
   ],
   "source": [
    "type(s)"
   ]
  },
  {
   "cell_type": "code",
   "execution_count": 16,
   "id": "18063141-b82d-4622-9925-74d596aef33b",
   "metadata": {},
   "outputs": [
    {
     "data": {
      "text/plain": [
       "int"
      ]
     },
     "execution_count": 16,
     "metadata": {},
     "output_type": "execute_result"
    }
   ],
   "source": [
    "x = 1234\n",
    "type(x)"
   ]
  },
  {
   "cell_type": "code",
   "execution_count": 17,
   "id": "0a48c700-7fbf-452b-b7ce-16b0290c4eb1",
   "metadata": {},
   "outputs": [
    {
     "data": {
      "text/plain": [
       "list"
      ]
     },
     "execution_count": 17,
     "metadata": {},
     "output_type": "execute_result"
    }
   ],
   "source": [
    "mylist = [10, 20, 30]\n",
    "type(mylist)"
   ]
  },
  {
   "cell_type": "code",
   "execution_count": 18,
   "id": "4b7bef11-eca9-44fa-89ac-1fe99d2af592",
   "metadata": {},
   "outputs": [],
   "source": [
    "# what might be surprising to you, though, is that classes are objects, too!\n",
    "# each class is also an object, with an ID, type, and attributes"
   ]
  },
  {
   "cell_type": "code",
   "execution_count": 19,
   "id": "6660d82a-27fc-41b5-a71e-bfc81ab9238d",
   "metadata": {},
   "outputs": [
    {
     "data": {
      "text/plain": [
       "type"
      ]
     },
     "execution_count": 19,
     "metadata": {},
     "output_type": "execute_result"
    }
   ],
   "source": [
    "type(str)  "
   ]
  },
  {
   "cell_type": "code",
   "execution_count": 20,
   "id": "a6bd6054-a270-4c6e-aa09-cb42247c81c3",
   "metadata": {},
   "outputs": [
    {
     "data": {
      "text/plain": [
       "type"
      ]
     },
     "execution_count": 20,
     "metadata": {},
     "output_type": "execute_result"
    }
   ],
   "source": [
    "type(int)"
   ]
  },
  {
   "cell_type": "code",
   "execution_count": 21,
   "id": "8f096617-1d9b-4aae-9f78-c201822d8190",
   "metadata": {},
   "outputs": [
    {
     "data": {
      "text/plain": [
       "type"
      ]
     },
     "execution_count": 21,
     "metadata": {},
     "output_type": "execute_result"
    }
   ],
   "source": [
    "type(list)"
   ]
  },
  {
   "cell_type": "code",
   "execution_count": 23,
   "id": "69fcd24e-f1a5-4bd3-a9a7-6fe8f93ffe3a",
   "metadata": {},
   "outputs": [],
   "source": [
    "# all classes in Python have a type of \"type\"\n",
    "# they are all instances of \"type\"\n",
    "\n",
    "# what does \"type\" create? factory objects, objects that create new objects."
   ]
  },
  {
   "cell_type": "code",
   "execution_count": 25,
   "id": "0f18941c-172f-430b-8515-e4070c011079",
   "metadata": {},
   "outputs": [
    {
     "data": {
      "text/plain": [
       "type"
      ]
     },
     "execution_count": 25,
     "metadata": {},
     "output_type": "execute_result"
    }
   ],
   "source": [
    "type(type)   # the factory that creates factories also created itself"
   ]
  },
  {
   "cell_type": "code",
   "execution_count": 26,
   "id": "63e46b08-3648-4659-9b08-0dd2c1c4cb2b",
   "metadata": {
    "collapsed": true,
    "jupyter": {
     "outputs_hidden": true
    },
    "tags": []
   },
   "outputs": [
    {
     "name": "stdout",
     "output_type": "stream",
     "text": [
      "Help on class type in module builtins:\n",
      "\n",
      "class type(object)\n",
      " |  type(object_or_name, bases, dict)\n",
      " |  type(object) -> the object's type\n",
      " |  type(name, bases, dict) -> a new type\n",
      " |  \n",
      " |  Methods defined here:\n",
      " |  \n",
      " |  __call__(self, /, *args, **kwargs)\n",
      " |      Call self as a function.\n",
      " |  \n",
      " |  __delattr__(self, name, /)\n",
      " |      Implement delattr(self, name).\n",
      " |  \n",
      " |  __dir__(self, /)\n",
      " |      Specialized __dir__ implementation for types.\n",
      " |  \n",
      " |  __getattribute__(self, name, /)\n",
      " |      Return getattr(self, name).\n",
      " |  \n",
      " |  __init__(self, /, *args, **kwargs)\n",
      " |      Initialize self.  See help(type(self)) for accurate signature.\n",
      " |  \n",
      " |  __instancecheck__(self, instance, /)\n",
      " |      Check if an object is an instance.\n",
      " |  \n",
      " |  __or__(self, value, /)\n",
      " |      Return self|value.\n",
      " |  \n",
      " |  __repr__(self, /)\n",
      " |      Return repr(self).\n",
      " |  \n",
      " |  __ror__(self, value, /)\n",
      " |      Return value|self.\n",
      " |  \n",
      " |  __setattr__(self, name, value, /)\n",
      " |      Implement setattr(self, name, value).\n",
      " |  \n",
      " |  __sizeof__(self, /)\n",
      " |      Return memory consumption of the type object.\n",
      " |  \n",
      " |  __subclasscheck__(self, subclass, /)\n",
      " |      Check if a class is a subclass.\n",
      " |  \n",
      " |  __subclasses__(self, /)\n",
      " |      Return a list of immediate subclasses.\n",
      " |  \n",
      " |  mro(self, /)\n",
      " |      Return a type's method resolution order.\n",
      " |  \n",
      " |  ----------------------------------------------------------------------\n",
      " |  Class methods defined here:\n",
      " |  \n",
      " |  __prepare__(...)\n",
      " |      __prepare__() -> dict\n",
      " |      used to create the namespace for the class statement\n",
      " |  \n",
      " |  ----------------------------------------------------------------------\n",
      " |  Static methods defined here:\n",
      " |  \n",
      " |  __new__(*args, **kwargs)\n",
      " |      Create and return a new object.  See help(type) for accurate signature.\n",
      " |  \n",
      " |  ----------------------------------------------------------------------\n",
      " |  Data descriptors defined here:\n",
      " |  \n",
      " |  __abstractmethods__\n",
      " |  \n",
      " |  __annotations__\n",
      " |  \n",
      " |  __dict__\n",
      " |  \n",
      " |  __text_signature__\n",
      " |  \n",
      " |  ----------------------------------------------------------------------\n",
      " |  Data and other attributes defined here:\n",
      " |  \n",
      " |  __base__ = <class 'object'>\n",
      " |      The base class of the class hierarchy.\n",
      " |      \n",
      " |      When called, it accepts no arguments and returns a new featureless\n",
      " |      instance that has no instance attributes and cannot be given any.\n",
      " |  \n",
      " |  \n",
      " |  __bases__ = (<class 'object'>,)\n",
      " |  \n",
      " |  __basicsize__ = 888\n",
      " |  \n",
      " |  __dictoffset__ = 264\n",
      " |  \n",
      " |  __flags__ = 2148031744\n",
      " |  \n",
      " |  __itemsize__ = 40\n",
      " |  \n",
      " |  __mro__ = (<class 'type'>, <class 'object'>)\n",
      " |  \n",
      " |  __weakrefoffset__ = 368\n",
      "\n"
     ]
    }
   ],
   "source": [
    "help(type)"
   ]
  },
  {
   "cell_type": "markdown",
   "id": "eb620f8c-cf46-4625-82bb-1cbf5019ea5e",
   "metadata": {},
   "source": [
    "# Attributes\n",
    "\n",
    "When we say `s`, we mean \"the variable `s`\".  But when we say `s.a`, we mean the *attribute* `a` on the variable `s`. Or actually, the attribute `a` on the object that `s` refers to.\n",
    "\n",
    "Attributes are a private dictionary on each object in Python. Every single object has attributes. You retrieve them using `.`.  Whenever you see a `.` before a name, that name is an attribute, *not* a variable.\n"
   ]
  },
  {
   "cell_type": "code",
   "execution_count": 27,
   "id": "6c2754c9-fe72-4952-bb9a-b494cf6b1740",
   "metadata": {},
   "outputs": [
    {
     "ename": "NameError",
     "evalue": "name 'a' is not defined",
     "output_type": "error",
     "traceback": [
      "\u001b[0;31m---------------------------------------------------------------------------\u001b[0m",
      "\u001b[0;31mNameError\u001b[0m                                 Traceback (most recent call last)",
      "\u001b[0;32m/var/folders/rr/0mnyyv811fs5vyp22gf4fxk00000gn/T/ipykernel_50823/713765348.py\u001b[0m in \u001b[0;36m<module>\u001b[0;34m\u001b[0m\n\u001b[0;32m----> 1\u001b[0;31m \u001b[0ma\u001b[0m\u001b[0;34m.\u001b[0m\u001b[0mb\u001b[0m   \u001b[0;31m# retrieve the value of attribute \"b\" on object \"a\"\u001b[0m\u001b[0;34m\u001b[0m\u001b[0;34m\u001b[0m\u001b[0m\n\u001b[0m",
      "\u001b[0;31mNameError\u001b[0m: name 'a' is not defined"
     ]
    }
   ],
   "source": [
    "a.b   # retrieve the value of attribute \"b\" on object \"a\""
   ]
  },
  {
   "cell_type": "code",
   "execution_count": 28,
   "id": "d8b6bd5e-83e8-4b2c-9c14-85854852390e",
   "metadata": {},
   "outputs": [
    {
     "ename": "AttributeError",
     "evalue": "'str' object has no attribute 'b'",
     "output_type": "error",
     "traceback": [
      "\u001b[0;31m---------------------------------------------------------------------------\u001b[0m",
      "\u001b[0;31mAttributeError\u001b[0m                            Traceback (most recent call last)",
      "\u001b[0;32m/var/folders/rr/0mnyyv811fs5vyp22gf4fxk00000gn/T/ipykernel_50823/479626906.py\u001b[0m in \u001b[0;36m<module>\u001b[0;34m\u001b[0m\n\u001b[1;32m      1\u001b[0m \u001b[0ma\u001b[0m \u001b[0;34m=\u001b[0m \u001b[0;34m'abcd'\u001b[0m\u001b[0;34m\u001b[0m\u001b[0;34m\u001b[0m\u001b[0m\n\u001b[0;32m----> 2\u001b[0;31m \u001b[0ma\u001b[0m\u001b[0;34m.\u001b[0m\u001b[0mb\u001b[0m   \u001b[0;31m# retrieve the value of attribute \"b\" on object \"a\"\u001b[0m\u001b[0;34m\u001b[0m\u001b[0;34m\u001b[0m\u001b[0m\n\u001b[0m",
      "\u001b[0;31mAttributeError\u001b[0m: 'str' object has no attribute 'b'"
     ]
    }
   ],
   "source": [
    "a = 'abcd'\n",
    "a.b   # retrieve the value of attribute \"b\" on object \"a\""
   ]
  },
  {
   "cell_type": "code",
   "execution_count": 30,
   "id": "52bd7e27-50d8-42b5-925f-1c5de13aae06",
   "metadata": {},
   "outputs": [
    {
     "data": {
      "text/plain": [
       "['__add__',\n",
       " '__class__',\n",
       " '__contains__',\n",
       " '__delattr__',\n",
       " '__dir__',\n",
       " '__doc__',\n",
       " '__eq__',\n",
       " '__format__',\n",
       " '__ge__',\n",
       " '__getattribute__',\n",
       " '__getitem__',\n",
       " '__getnewargs__',\n",
       " '__gt__',\n",
       " '__hash__',\n",
       " '__init__',\n",
       " '__init_subclass__',\n",
       " '__iter__',\n",
       " '__le__',\n",
       " '__len__',\n",
       " '__lt__',\n",
       " '__mod__',\n",
       " '__mul__',\n",
       " '__ne__',\n",
       " '__new__',\n",
       " '__reduce__',\n",
       " '__reduce_ex__',\n",
       " '__repr__',\n",
       " '__rmod__',\n",
       " '__rmul__',\n",
       " '__setattr__',\n",
       " '__sizeof__',\n",
       " '__str__',\n",
       " '__subclasshook__',\n",
       " 'capitalize',\n",
       " 'casefold',\n",
       " 'center',\n",
       " 'count',\n",
       " 'encode',\n",
       " 'endswith',\n",
       " 'expandtabs',\n",
       " 'find',\n",
       " 'format',\n",
       " 'format_map',\n",
       " 'index',\n",
       " 'isalnum',\n",
       " 'isalpha',\n",
       " 'isascii',\n",
       " 'isdecimal',\n",
       " 'isdigit',\n",
       " 'isidentifier',\n",
       " 'islower',\n",
       " 'isnumeric',\n",
       " 'isprintable',\n",
       " 'isspace',\n",
       " 'istitle',\n",
       " 'isupper',\n",
       " 'join',\n",
       " 'ljust',\n",
       " 'lower',\n",
       " 'lstrip',\n",
       " 'maketrans',\n",
       " 'partition',\n",
       " 'removeprefix',\n",
       " 'removesuffix',\n",
       " 'replace',\n",
       " 'rfind',\n",
       " 'rindex',\n",
       " 'rjust',\n",
       " 'rpartition',\n",
       " 'rsplit',\n",
       " 'rstrip',\n",
       " 'split',\n",
       " 'splitlines',\n",
       " 'startswith',\n",
       " 'strip',\n",
       " 'swapcase',\n",
       " 'title',\n",
       " 'translate',\n",
       " 'upper',\n",
       " 'zfill']"
      ]
     },
     "execution_count": 30,
     "metadata": {},
     "output_type": "execute_result"
    }
   ],
   "source": [
    "# How can we get the list of attributes on an object? We use \"dir\"\n",
    "\n",
    "# attributes can include (a) data, (b) functions, and (c) methods.\n",
    "\n",
    "# when I import a module, all of the module's globals are available to us as attributes on the module object.\n",
    "\n",
    "dir(a)"
   ]
  },
  {
   "cell_type": "code",
   "execution_count": 31,
   "id": "0936fc88-7e6d-47a7-b068-13b1fad462f6",
   "metadata": {},
   "outputs": [
    {
     "data": {
      "text/plain": [
       "'ABCD'"
      ]
     },
     "execution_count": 31,
     "metadata": {},
     "output_type": "execute_result"
    }
   ],
   "source": [
    "s = 'abcd'\n",
    "s.upper() "
   ]
  },
  {
   "cell_type": "code",
   "execution_count": 32,
   "id": "68034af1-d981-4e06-a784-2885deea3949",
   "metadata": {},
   "outputs": [
    {
     "data": {
      "text/plain": [
       "'ABCD'"
      ]
     },
     "execution_count": 32,
     "metadata": {},
     "output_type": "execute_result"
    }
   ],
   "source": [
    "s.upper()  # is translated behind the scenes to getattr(s, 'upper')"
   ]
  },
  {
   "cell_type": "code",
   "execution_count": 33,
   "id": "9131b3dd-cd44-4bcd-8c3c-86cba5900652",
   "metadata": {},
   "outputs": [
    {
     "data": {
      "text/plain": [
       "<function str.upper()>"
      ]
     },
     "execution_count": 33,
     "metadata": {},
     "output_type": "execute_result"
    }
   ],
   "source": [
    "getattr(s, 'upper')  # same as s.upper"
   ]
  },
  {
   "cell_type": "code",
   "execution_count": 34,
   "id": "ebd672ce-87a6-4ad4-a5be-0d869d6b4a22",
   "metadata": {},
   "outputs": [
    {
     "data": {
      "text/plain": [
       "'ABCD'"
      ]
     },
     "execution_count": 34,
     "metadata": {},
     "output_type": "execute_result"
    }
   ],
   "source": [
    "getattr(s, 'upper')()"
   ]
  },
  {
   "cell_type": "code",
   "execution_count": 35,
   "id": "a7168275-2449-4436-9392-229ac9c8e557",
   "metadata": {},
   "outputs": [],
   "source": [
    "import mymod"
   ]
  },
  {
   "cell_type": "code",
   "execution_count": 36,
   "id": "f577a02a-ff62-4f35-bb10-d09c645232dc",
   "metadata": {},
   "outputs": [
    {
     "data": {
      "text/plain": [
       "100"
      ]
     },
     "execution_count": 36,
     "metadata": {},
     "output_type": "execute_result"
    }
   ],
   "source": [
    "mymod.x"
   ]
  },
  {
   "cell_type": "code",
   "execution_count": 37,
   "id": "a5b5f3ee-d6de-4104-bd1d-23d2b36c72a8",
   "metadata": {},
   "outputs": [
    {
     "data": {
      "text/plain": [
       "100"
      ]
     },
     "execution_count": 37,
     "metadata": {},
     "output_type": "execute_result"
    }
   ],
   "source": [
    "getattr(mymod, 'x')"
   ]
  },
  {
   "cell_type": "code",
   "execution_count": 38,
   "id": "4a3acf93-fa16-4c0d-907d-389aa2e244a6",
   "metadata": {},
   "outputs": [],
   "source": [
    "setattr(mymod, 'x', 23456)"
   ]
  },
  {
   "cell_type": "code",
   "execution_count": 39,
   "id": "38604db3-68e3-464d-b7f0-06fd92997364",
   "metadata": {},
   "outputs": [
    {
     "data": {
      "text/plain": [
       "1234"
      ]
     },
     "execution_count": 39,
     "metadata": {},
     "output_type": "execute_result"
    }
   ],
   "source": [
    "x"
   ]
  },
  {
   "cell_type": "markdown",
   "id": "f5c77f7d-865a-4609-8a49-d89f7f29226f",
   "metadata": {},
   "source": [
    "# Creating classes\n",
    "\n",
    "I create a new class in order to have a new type of data, one which more closely reflects what I want to do in my work. A class combines data + methods."
   ]
  },
  {
   "cell_type": "code",
   "execution_count": 40,
   "id": "b3ebb2ff-feea-43a6-8f71-1af89aba5cbd",
   "metadata": {},
   "outputs": [],
   "source": [
    "class Company:\n",
    "    pass    # no content in this class -- but I need something to fill the indentation for Python's syntax"
   ]
  },
  {
   "cell_type": "code",
   "execution_count": 41,
   "id": "3e2ce806-c656-48f3-b2d9-ba476f00be7c",
   "metadata": {},
   "outputs": [
    {
     "data": {
      "text/plain": [
       "type"
      ]
     },
     "execution_count": 41,
     "metadata": {},
     "output_type": "execute_result"
    }
   ],
   "source": [
    "# is Company a class?\n",
    "type(Company)"
   ]
  },
  {
   "cell_type": "code",
   "execution_count": 43,
   "id": "52e9f6ea-3074-40ef-843e-e99da23e3ecf",
   "metadata": {},
   "outputs": [
    {
     "data": {
      "text/plain": [
       "<__main__.Company at 0x1058618d0>"
      ]
     },
     "execution_count": 43,
     "metadata": {},
     "output_type": "execute_result"
    }
   ],
   "source": [
    "# can I create a new instance of Company?\n",
    "c1 = Company()\n",
    "c1"
   ]
  },
  {
   "cell_type": "code",
   "execution_count": 44,
   "id": "f3807346-47fb-449e-a115-14146c8d721b",
   "metadata": {},
   "outputs": [
    {
     "data": {
      "text/plain": [
       "__main__.Company"
      ]
     },
     "execution_count": 44,
     "metadata": {},
     "output_type": "execute_result"
    }
   ],
   "source": [
    "type(c1)"
   ]
  },
  {
   "cell_type": "code",
   "execution_count": 45,
   "id": "1526270d-0435-44b8-b258-dff9aed7f790",
   "metadata": {},
   "outputs": [
    {
     "data": {
      "text/plain": [
       "['__class__',\n",
       " '__delattr__',\n",
       " '__dict__',\n",
       " '__dir__',\n",
       " '__doc__',\n",
       " '__eq__',\n",
       " '__format__',\n",
       " '__ge__',\n",
       " '__getattribute__',\n",
       " '__gt__',\n",
       " '__hash__',\n",
       " '__init__',\n",
       " '__init_subclass__',\n",
       " '__le__',\n",
       " '__lt__',\n",
       " '__module__',\n",
       " '__ne__',\n",
       " '__new__',\n",
       " '__reduce__',\n",
       " '__reduce_ex__',\n",
       " '__repr__',\n",
       " '__setattr__',\n",
       " '__sizeof__',\n",
       " '__str__',\n",
       " '__subclasshook__',\n",
       " '__weakref__']"
      ]
     },
     "execution_count": 45,
     "metadata": {},
     "output_type": "execute_result"
    }
   ],
   "source": [
    "dir(c1)"
   ]
  },
  {
   "cell_type": "code",
   "execution_count": 46,
   "id": "70f29a79-f6d6-4abc-b87d-8e5e7259ad75",
   "metadata": {},
   "outputs": [],
   "source": [
    "# I can set attributes on c1!  I just need to assign to them!\n",
    "c1.name = 'Very Big Company, Inc.'\n",
    "c1.domain = 'Making Lots of Money'"
   ]
  },
  {
   "cell_type": "code",
   "execution_count": 47,
   "id": "040c274d-e77e-4202-b437-26fa5eb403c6",
   "metadata": {},
   "outputs": [
    {
     "data": {
      "text/plain": [
       "'Very Big Company, Inc.'"
      ]
     },
     "execution_count": 47,
     "metadata": {},
     "output_type": "execute_result"
    }
   ],
   "source": [
    "c1.name"
   ]
  },
  {
   "cell_type": "code",
   "execution_count": 48,
   "id": "25e36cef-49e0-4f41-aae8-b26fca0a3668",
   "metadata": {},
   "outputs": [
    {
     "data": {
      "text/plain": [
       "'Making Lots of Money'"
      ]
     },
     "execution_count": 48,
     "metadata": {},
     "output_type": "execute_result"
    }
   ],
   "source": [
    "c1.domain"
   ]
  },
  {
   "cell_type": "code",
   "execution_count": 49,
   "id": "c7382153-b40b-4c33-a327-9c1b64fe5478",
   "metadata": {},
   "outputs": [
    {
     "data": {
      "text/plain": [
       "{'name': 'Very Big Company, Inc.', 'domain': 'Making Lots of Money'}"
      ]
     },
     "execution_count": 49,
     "metadata": {},
     "output_type": "execute_result"
    }
   ],
   "source": [
    "# I can get a dict of all attributes on an object with \"vars\"\n",
    "vars(c1)"
   ]
  },
  {
   "cell_type": "code",
   "execution_count": null,
   "id": "656a54a6-9d3d-4ec8-b0a0-28aa307150a9",
   "metadata": {},
   "outputs": [],
   "source": []
  }
 ],
 "metadata": {
  "kernelspec": {
   "display_name": "Python 3 (ipykernel)",
   "language": "python",
   "name": "python3"
  },
  "language_info": {
   "codemirror_mode": {
    "name": "ipython",
    "version": 3
   },
   "file_extension": ".py",
   "mimetype": "text/x-python",
   "name": "python",
   "nbconvert_exporter": "python",
   "pygments_lexer": "ipython3",
   "version": "3.10.0"
  }
 },
 "nbformat": 4,
 "nbformat_minor": 5
}
