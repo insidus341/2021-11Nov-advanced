{
 "cells": [
  {
   "cell_type": "code",
   "execution_count": 1,
   "id": "3b0876d4-b2b7-4dc7-83a8-c25f086e0f91",
   "metadata": {},
   "outputs": [],
   "source": [
    "# import mymod   # mymod.hello('world') and mymod.goodbye('to you')"
   ]
  },
  {
   "cell_type": "code",
   "execution_count": 2,
   "id": "926c220c-4080-498c-b1f5-2cf81bd01c48",
   "metadata": {},
   "outputs": [],
   "source": [
    "from mymod import hello"
   ]
  },
  {
   "cell_type": "code",
   "execution_count": 3,
   "id": "a3c08c9a-a6da-42d7-8584-fbfbc10a6e44",
   "metadata": {},
   "outputs": [
    {
     "ename": "NameError",
     "evalue": "name 'mymod' is not defined",
     "output_type": "error",
     "traceback": [
      "\u001b[0;31m---------------------------------------------------------------------------\u001b[0m",
      "\u001b[0;31mNameError\u001b[0m                                 Traceback (most recent call last)",
      "\u001b[0;32m/var/folders/rr/0mnyyv811fs5vyp22gf4fxk00000gn/T/ipykernel_50823/2710955346.py\u001b[0m in \u001b[0;36m<module>\u001b[0;34m\u001b[0m\n\u001b[0;32m----> 1\u001b[0;31m \u001b[0mmymod\u001b[0m\u001b[0;34m\u001b[0m\u001b[0;34m\u001b[0m\u001b[0m\n\u001b[0m",
      "\u001b[0;31mNameError\u001b[0m: name 'mymod' is not defined"
     ]
    }
   ],
   "source": [
    "mymod"
   ]
  },
  {
   "cell_type": "code",
   "execution_count": 4,
   "id": "f45104e1-d2d1-4599-ab85-977781460e1e",
   "metadata": {},
   "outputs": [
    {
     "data": {
      "text/plain": [
       "'Hello, world from mymod!'"
      ]
     },
     "execution_count": 4,
     "metadata": {},
     "output_type": "execute_result"
    }
   ],
   "source": [
    "hello('world')"
   ]
  },
  {
   "cell_type": "code",
   "execution_count": 5,
   "id": "dc8e728e-8d6f-42dd-9779-f8f110489db6",
   "metadata": {},
   "outputs": [],
   "source": [
    "import sys"
   ]
  },
  {
   "cell_type": "code",
   "execution_count": 7,
   "id": "65cc21bc-9ee2-448e-9b6b-15d3b37332e4",
   "metadata": {},
   "outputs": [
    {
     "data": {
      "text/plain": [
       "'Hello, world from mymod!'"
      ]
     },
     "execution_count": 7,
     "metadata": {},
     "output_type": "execute_result"
    }
   ],
   "source": [
    "sys.modules['mymod'].hello('world')"
   ]
  },
  {
   "cell_type": "code",
   "execution_count": 8,
   "id": "f293f052-b460-4324-95b9-1a2046055a05",
   "metadata": {},
   "outputs": [
    {
     "data": {
      "text/plain": [
       "'Goodbye, world, from mymod!'"
      ]
     },
     "execution_count": 8,
     "metadata": {},
     "output_type": "execute_result"
    }
   ],
   "source": [
    "sys.modules['mymod'].goodbye('world')"
   ]
  },
  {
   "cell_type": "code",
   "execution_count": 9,
   "id": "4d15503c-2116-4c91-abd4-6d84b35613ee",
   "metadata": {},
   "outputs": [],
   "source": [
    "# import mymod   # looks for mymod.py, loads it, and then sets a global variable mymod that refers to sys.modules['mymod']\n",
    "\n",
    "import mymod as m  # looks for mymod.py, loads it, and then sets a global variable m that refers to sys.modules['mymod']"
   ]
  },
  {
   "cell_type": "code",
   "execution_count": 10,
   "id": "50964503-a444-4d8f-a0bd-077821c9179a",
   "metadata": {},
   "outputs": [
    {
     "data": {
      "text/plain": [
       "<module 'mymod' from '/Users/reuven/Courses/Current/Cisco-2021-11Nov-advanced/mymod.py'>"
      ]
     },
     "execution_count": 10,
     "metadata": {},
     "output_type": "execute_result"
    }
   ],
   "source": [
    "m"
   ]
  },
  {
   "cell_type": "code",
   "execution_count": 11,
   "id": "40856510-2b7a-42eb-8c6d-96389e4b1bf3",
   "metadata": {},
   "outputs": [],
   "source": [
    "# import numpy as np"
   ]
  },
  {
   "cell_type": "code",
   "execution_count": 12,
   "id": "1a3bdff2-42e2-473a-95fd-e511936ce7ca",
   "metadata": {},
   "outputs": [],
   "source": [
    "from mymod import hello as h  # (1) import mymod.py (2) define the global variable h to refer to sys.modules['mymod'].hello"
   ]
  },
  {
   "cell_type": "code",
   "execution_count": 13,
   "id": "3bb3682c-0d00-4ded-b044-13f6db5d6b82",
   "metadata": {},
   "outputs": [
    {
     "data": {
      "text/plain": [
       "'Hello, world from mymod!'"
      ]
     },
     "execution_count": 13,
     "metadata": {},
     "output_type": "execute_result"
    }
   ],
   "source": [
    "h('world')"
   ]
  },
  {
   "cell_type": "markdown",
   "id": "f0111902-af71-4a35-8a8e-cdd073f91335",
   "metadata": {
    "tags": []
   },
   "source": [
    "# Agenda\n",
    "\n",
    "- Classes\n",
    "- Instances\n",
    "- Methods\n",
    "- Attributes (lots and lots on attributes)\n",
    "    - Instance attributes\n",
    "    - Class attributes\n",
    "- Inheritance (including multiple inheritance)\n",
    "- ICPO rule for attribute lookup\n",
    "- Magic methods (lots of them), and how they work\n",
    "- Properties\n",
    "- Descriptors"
   ]
  },
  {
   "cell_type": "code",
   "execution_count": null,
   "id": "7de98e7c-372b-4d72-9f4a-a3a126fff4d4",
   "metadata": {},
   "outputs": [],
   "source": []
  }
 ],
 "metadata": {
  "kernelspec": {
   "display_name": "Python 3 (ipykernel)",
   "language": "python",
   "name": "python3"
  },
  "language_info": {
   "codemirror_mode": {
    "name": "ipython",
    "version": 3
   },
   "file_extension": ".py",
   "mimetype": "text/x-python",
   "name": "python",
   "nbconvert_exporter": "python",
   "pygments_lexer": "ipython3",
   "version": "3.10.0"
  }
 },
 "nbformat": 4,
 "nbformat_minor": 5
}
