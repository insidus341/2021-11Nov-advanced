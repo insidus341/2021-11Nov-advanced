{
 "cells": [
  {
   "cell_type": "markdown",
   "id": "cdad4deb-1b15-43e2-959b-37cbed9a661d",
   "metadata": {
    "tags": []
   },
   "source": [
    "# Agenda\n",
    "\n",
    "- Classes\n",
    "- Instances\n",
    "- Methods\n",
    "- Attributes (lots and lots on attributes)\n",
    "    - Instance attributes\n",
    "    - Class attributes\n",
    "- Inheritance (including multiple inheritance)\n",
    "- Magic methods (lots of them), and how they work\n",
    "- Properties\n",
    "- Descriptors"
   ]
  },
  {
   "cell_type": "code",
   "execution_count": null,
   "id": "3b0876d4-b2b7-4dc7-83a8-c25f086e0f91",
   "metadata": {},
   "outputs": [],
   "source": []
  }
 ],
 "metadata": {
  "kernelspec": {
   "display_name": "Python 3 (ipykernel)",
   "language": "python",
   "name": "python3"
  },
  "language_info": {
   "codemirror_mode": {
    "name": "ipython",
    "version": 3
   },
   "file_extension": ".py",
   "mimetype": "text/x-python",
   "name": "python",
   "nbconvert_exporter": "python",
   "pygments_lexer": "ipython3",
   "version": "3.10.0"
  }
 },
 "nbformat": 4,
 "nbformat_minor": 5
}
