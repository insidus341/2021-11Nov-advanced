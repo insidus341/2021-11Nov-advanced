{
 "cells": [
  {
   "cell_type": "code",
   "execution_count": 1,
   "id": "3b0876d4-b2b7-4dc7-83a8-c25f086e0f91",
   "metadata": {},
   "outputs": [],
   "source": [
    "# import mymod   # mymod.hello('world') and mymod.goodbye('to you')"
   ]
  },
  {
   "cell_type": "code",
   "execution_count": 2,
   "id": "926c220c-4080-498c-b1f5-2cf81bd01c48",
   "metadata": {},
   "outputs": [],
   "source": [
    "from mymod import hello"
   ]
  },
  {
   "cell_type": "code",
   "execution_count": 3,
   "id": "a3c08c9a-a6da-42d7-8584-fbfbc10a6e44",
   "metadata": {},
   "outputs": [
    {
     "ename": "NameError",
     "evalue": "name 'mymod' is not defined",
     "output_type": "error",
     "traceback": [
      "\u001b[0;31m---------------------------------------------------------------------------\u001b[0m",
      "\u001b[0;31mNameError\u001b[0m                                 Traceback (most recent call last)",
      "\u001b[0;32m/var/folders/rr/0mnyyv811fs5vyp22gf4fxk00000gn/T/ipykernel_50823/2710955346.py\u001b[0m in \u001b[0;36m<module>\u001b[0;34m\u001b[0m\n\u001b[0;32m----> 1\u001b[0;31m \u001b[0mmymod\u001b[0m\u001b[0;34m\u001b[0m\u001b[0;34m\u001b[0m\u001b[0m\n\u001b[0m",
      "\u001b[0;31mNameError\u001b[0m: name 'mymod' is not defined"
     ]
    }
   ],
   "source": [
    "mymod"
   ]
  },
  {
   "cell_type": "code",
   "execution_count": 4,
   "id": "f45104e1-d2d1-4599-ab85-977781460e1e",
   "metadata": {},
   "outputs": [
    {
     "data": {
      "text/plain": [
       "'Hello, world from mymod!'"
      ]
     },
     "execution_count": 4,
     "metadata": {},
     "output_type": "execute_result"
    }
   ],
   "source": [
    "hello('world')"
   ]
  },
  {
   "cell_type": "code",
   "execution_count": 5,
   "id": "dc8e728e-8d6f-42dd-9779-f8f110489db6",
   "metadata": {},
   "outputs": [],
   "source": [
    "import sys"
   ]
  },
  {
   "cell_type": "code",
   "execution_count": 7,
   "id": "65cc21bc-9ee2-448e-9b6b-15d3b37332e4",
   "metadata": {},
   "outputs": [
    {
     "data": {
      "text/plain": [
       "'Hello, world from mymod!'"
      ]
     },
     "execution_count": 7,
     "metadata": {},
     "output_type": "execute_result"
    }
   ],
   "source": [
    "sys.modules['mymod'].hello('world')"
   ]
  },
  {
   "cell_type": "code",
   "execution_count": 8,
   "id": "f293f052-b460-4324-95b9-1a2046055a05",
   "metadata": {},
   "outputs": [
    {
     "data": {
      "text/plain": [
       "'Goodbye, world, from mymod!'"
      ]
     },
     "execution_count": 8,
     "metadata": {},
     "output_type": "execute_result"
    }
   ],
   "source": [
    "sys.modules['mymod'].goodbye('world')"
   ]
  },
  {
   "cell_type": "code",
   "execution_count": 9,
   "id": "4d15503c-2116-4c91-abd4-6d84b35613ee",
   "metadata": {},
   "outputs": [],
   "source": [
    "# import mymod   # looks for mymod.py, loads it, and then sets a global variable mymod that refers to sys.modules['mymod']\n",
    "\n",
    "import mymod as m  # looks for mymod.py, loads it, and then sets a global variable m that refers to sys.modules['mymod']"
   ]
  },
  {
   "cell_type": "code",
   "execution_count": 10,
   "id": "50964503-a444-4d8f-a0bd-077821c9179a",
   "metadata": {},
   "outputs": [
    {
     "data": {
      "text/plain": [
       "<module 'mymod' from '/Users/reuven/Courses/Current/Cisco-2021-11Nov-advanced/mymod.py'>"
      ]
     },
     "execution_count": 10,
     "metadata": {},
     "output_type": "execute_result"
    }
   ],
   "source": [
    "m"
   ]
  },
  {
   "cell_type": "code",
   "execution_count": 11,
   "id": "40856510-2b7a-42eb-8c6d-96389e4b1bf3",
   "metadata": {},
   "outputs": [],
   "source": [
    "# import numpy as np"
   ]
  },
  {
   "cell_type": "code",
   "execution_count": 12,
   "id": "1a3bdff2-42e2-473a-95fd-e511936ce7ca",
   "metadata": {},
   "outputs": [],
   "source": [
    "from mymod import hello as h  # (1) import mymod.py (2) define the global variable h to refer to sys.modules['mymod'].hello"
   ]
  },
  {
   "cell_type": "code",
   "execution_count": 13,
   "id": "3bb3682c-0d00-4ded-b044-13f6db5d6b82",
   "metadata": {},
   "outputs": [
    {
     "data": {
      "text/plain": [
       "'Hello, world from mymod!'"
      ]
     },
     "execution_count": 13,
     "metadata": {},
     "output_type": "execute_result"
    }
   ],
   "source": [
    "h('world')"
   ]
  },
  {
   "cell_type": "markdown",
   "id": "f0111902-af71-4a35-8a8e-cdd073f91335",
   "metadata": {
    "tags": []
   },
   "source": [
    "# Agenda\n",
    "\n",
    "- Classes\n",
    "- Instances\n",
    "- Methods\n",
    "- Attributes (lots and lots on attributes)\n",
    "    - Instance attributes\n",
    "    - Class attributes\n",
    "- Inheritance (including multiple inheritance)\n",
    "- ICPO rule for attribute lookup\n",
    "- Magic methods (lots of them), and how they work\n",
    "- Properties\n",
    "- Descriptors"
   ]
  },
  {
   "cell_type": "markdown",
   "id": "be4bf676-2d63-44fe-aa76-7cd05d5c3798",
   "metadata": {},
   "source": [
    "# What is an object? Also: Why do we care (about objects)?\n",
    "\n",
    "An object in Python has three characteristics:\n",
    "\n",
    "1. A unique number (`id`)\n",
    "2. A type/class (which we can retrieve via `type`)\n",
    "3. Attributes (a private dictionary-like namespace for storage)"
   ]
  },
  {
   "cell_type": "code",
   "execution_count": 14,
   "id": "3592ea91-1b51-4f4e-b595-46fe9ca96c21",
   "metadata": {},
   "outputs": [
    {
     "data": {
      "text/plain": [
       "4388593008"
      ]
     },
     "execution_count": 14,
     "metadata": {},
     "output_type": "execute_result"
    }
   ],
   "source": [
    "s = 'abcd'\n",
    "id(s)"
   ]
  },
  {
   "cell_type": "code",
   "execution_count": 15,
   "id": "dc1dbf4e-91da-4cc8-a990-c97f3fa1d49f",
   "metadata": {},
   "outputs": [
    {
     "data": {
      "text/plain": [
       "str"
      ]
     },
     "execution_count": 15,
     "metadata": {},
     "output_type": "execute_result"
    }
   ],
   "source": [
    "type(s)"
   ]
  },
  {
   "cell_type": "code",
   "execution_count": 16,
   "id": "18063141-b82d-4622-9925-74d596aef33b",
   "metadata": {},
   "outputs": [
    {
     "data": {
      "text/plain": [
       "int"
      ]
     },
     "execution_count": 16,
     "metadata": {},
     "output_type": "execute_result"
    }
   ],
   "source": [
    "x = 1234\n",
    "type(x)"
   ]
  },
  {
   "cell_type": "code",
   "execution_count": 17,
   "id": "0a48c700-7fbf-452b-b7ce-16b0290c4eb1",
   "metadata": {},
   "outputs": [
    {
     "data": {
      "text/plain": [
       "list"
      ]
     },
     "execution_count": 17,
     "metadata": {},
     "output_type": "execute_result"
    }
   ],
   "source": [
    "mylist = [10, 20, 30]\n",
    "type(mylist)"
   ]
  },
  {
   "cell_type": "code",
   "execution_count": 18,
   "id": "4b7bef11-eca9-44fa-89ac-1fe99d2af592",
   "metadata": {},
   "outputs": [],
   "source": [
    "# what might be surprising to you, though, is that classes are objects, too!\n",
    "# each class is also an object, with an ID, type, and attributes"
   ]
  },
  {
   "cell_type": "code",
   "execution_count": 19,
   "id": "6660d82a-27fc-41b5-a71e-bfc81ab9238d",
   "metadata": {},
   "outputs": [
    {
     "data": {
      "text/plain": [
       "type"
      ]
     },
     "execution_count": 19,
     "metadata": {},
     "output_type": "execute_result"
    }
   ],
   "source": [
    "type(str)  "
   ]
  },
  {
   "cell_type": "code",
   "execution_count": 20,
   "id": "a6bd6054-a270-4c6e-aa09-cb42247c81c3",
   "metadata": {},
   "outputs": [
    {
     "data": {
      "text/plain": [
       "type"
      ]
     },
     "execution_count": 20,
     "metadata": {},
     "output_type": "execute_result"
    }
   ],
   "source": [
    "type(int)"
   ]
  },
  {
   "cell_type": "code",
   "execution_count": 21,
   "id": "8f096617-1d9b-4aae-9f78-c201822d8190",
   "metadata": {},
   "outputs": [
    {
     "data": {
      "text/plain": [
       "type"
      ]
     },
     "execution_count": 21,
     "metadata": {},
     "output_type": "execute_result"
    }
   ],
   "source": [
    "type(list)"
   ]
  },
  {
   "cell_type": "code",
   "execution_count": 23,
   "id": "69fcd24e-f1a5-4bd3-a9a7-6fe8f93ffe3a",
   "metadata": {},
   "outputs": [],
   "source": [
    "# all classes in Python have a type of \"type\"\n",
    "# they are all instances of \"type\"\n",
    "\n",
    "# what does \"type\" create? factory objects, objects that create new objects."
   ]
  },
  {
   "cell_type": "code",
   "execution_count": 25,
   "id": "0f18941c-172f-430b-8515-e4070c011079",
   "metadata": {},
   "outputs": [
    {
     "data": {
      "text/plain": [
       "type"
      ]
     },
     "execution_count": 25,
     "metadata": {},
     "output_type": "execute_result"
    }
   ],
   "source": [
    "type(type)   # the factory that creates factories also created itself"
   ]
  },
  {
   "cell_type": "code",
   "execution_count": 26,
   "id": "63e46b08-3648-4659-9b08-0dd2c1c4cb2b",
   "metadata": {
    "collapsed": true,
    "jupyter": {
     "outputs_hidden": true
    },
    "tags": []
   },
   "outputs": [
    {
     "name": "stdout",
     "output_type": "stream",
     "text": [
      "Help on class type in module builtins:\n",
      "\n",
      "class type(object)\n",
      " |  type(object_or_name, bases, dict)\n",
      " |  type(object) -> the object's type\n",
      " |  type(name, bases, dict) -> a new type\n",
      " |  \n",
      " |  Methods defined here:\n",
      " |  \n",
      " |  __call__(self, /, *args, **kwargs)\n",
      " |      Call self as a function.\n",
      " |  \n",
      " |  __delattr__(self, name, /)\n",
      " |      Implement delattr(self, name).\n",
      " |  \n",
      " |  __dir__(self, /)\n",
      " |      Specialized __dir__ implementation for types.\n",
      " |  \n",
      " |  __getattribute__(self, name, /)\n",
      " |      Return getattr(self, name).\n",
      " |  \n",
      " |  __init__(self, /, *args, **kwargs)\n",
      " |      Initialize self.  See help(type(self)) for accurate signature.\n",
      " |  \n",
      " |  __instancecheck__(self, instance, /)\n",
      " |      Check if an object is an instance.\n",
      " |  \n",
      " |  __or__(self, value, /)\n",
      " |      Return self|value.\n",
      " |  \n",
      " |  __repr__(self, /)\n",
      " |      Return repr(self).\n",
      " |  \n",
      " |  __ror__(self, value, /)\n",
      " |      Return value|self.\n",
      " |  \n",
      " |  __setattr__(self, name, value, /)\n",
      " |      Implement setattr(self, name, value).\n",
      " |  \n",
      " |  __sizeof__(self, /)\n",
      " |      Return memory consumption of the type object.\n",
      " |  \n",
      " |  __subclasscheck__(self, subclass, /)\n",
      " |      Check if a class is a subclass.\n",
      " |  \n",
      " |  __subclasses__(self, /)\n",
      " |      Return a list of immediate subclasses.\n",
      " |  \n",
      " |  mro(self, /)\n",
      " |      Return a type's method resolution order.\n",
      " |  \n",
      " |  ----------------------------------------------------------------------\n",
      " |  Class methods defined here:\n",
      " |  \n",
      " |  __prepare__(...)\n",
      " |      __prepare__() -> dict\n",
      " |      used to create the namespace for the class statement\n",
      " |  \n",
      " |  ----------------------------------------------------------------------\n",
      " |  Static methods defined here:\n",
      " |  \n",
      " |  __new__(*args, **kwargs)\n",
      " |      Create and return a new object.  See help(type) for accurate signature.\n",
      " |  \n",
      " |  ----------------------------------------------------------------------\n",
      " |  Data descriptors defined here:\n",
      " |  \n",
      " |  __abstractmethods__\n",
      " |  \n",
      " |  __annotations__\n",
      " |  \n",
      " |  __dict__\n",
      " |  \n",
      " |  __text_signature__\n",
      " |  \n",
      " |  ----------------------------------------------------------------------\n",
      " |  Data and other attributes defined here:\n",
      " |  \n",
      " |  __base__ = <class 'object'>\n",
      " |      The base class of the class hierarchy.\n",
      " |      \n",
      " |      When called, it accepts no arguments and returns a new featureless\n",
      " |      instance that has no instance attributes and cannot be given any.\n",
      " |  \n",
      " |  \n",
      " |  __bases__ = (<class 'object'>,)\n",
      " |  \n",
      " |  __basicsize__ = 888\n",
      " |  \n",
      " |  __dictoffset__ = 264\n",
      " |  \n",
      " |  __flags__ = 2148031744\n",
      " |  \n",
      " |  __itemsize__ = 40\n",
      " |  \n",
      " |  __mro__ = (<class 'type'>, <class 'object'>)\n",
      " |  \n",
      " |  __weakrefoffset__ = 368\n",
      "\n"
     ]
    }
   ],
   "source": [
    "help(type)"
   ]
  },
  {
   "cell_type": "markdown",
   "id": "eb620f8c-cf46-4625-82bb-1cbf5019ea5e",
   "metadata": {},
   "source": [
    "# Attributes\n",
    "\n",
    "When we say `s`, we mean \"the variable `s`\".  But when we say `s.a`, we mean the *attribute* `a` on the variable `s`. Or actually, the attribute `a` on the object that `s` refers to.\n",
    "\n",
    "Attributes are a private dictionary on each object in Python. Every single object has attributes. You retrieve them using `.`.  Whenever you see a `.` before a name, that name is an attribute, *not* a variable."
   ]
  },
  {
   "cell_type": "code",
   "execution_count": null,
   "id": "6c2754c9-fe72-4952-bb9a-b494cf6b1740",
   "metadata": {},
   "outputs": [],
   "source": []
  }
 ],
 "metadata": {
  "kernelspec": {
   "display_name": "Python 3 (ipykernel)",
   "language": "python",
   "name": "python3"
  },
  "language_info": {
   "codemirror_mode": {
    "name": "ipython",
    "version": 3
   },
   "file_extension": ".py",
   "mimetype": "text/x-python",
   "name": "python",
   "nbconvert_exporter": "python",
   "pygments_lexer": "ipython3",
   "version": "3.10.0"
  }
 },
 "nbformat": 4,
 "nbformat_minor": 5
}
