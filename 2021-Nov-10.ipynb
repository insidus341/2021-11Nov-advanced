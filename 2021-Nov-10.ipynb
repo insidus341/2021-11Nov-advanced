{
 "cells": [
  {
   "cell_type": "code",
   "execution_count": 1,
   "id": "3b0876d4-b2b7-4dc7-83a8-c25f086e0f91",
   "metadata": {},
   "outputs": [],
   "source": [
    "# import mymod   # mymod.hello('world') and mymod.goodbye('to you')"
   ]
  },
  {
   "cell_type": "code",
   "execution_count": 2,
   "id": "926c220c-4080-498c-b1f5-2cf81bd01c48",
   "metadata": {},
   "outputs": [],
   "source": [
    "from mymod import hello"
   ]
  },
  {
   "cell_type": "code",
   "execution_count": 3,
   "id": "a3c08c9a-a6da-42d7-8584-fbfbc10a6e44",
   "metadata": {},
   "outputs": [
    {
     "ename": "NameError",
     "evalue": "name 'mymod' is not defined",
     "output_type": "error",
     "traceback": [
      "\u001b[0;31m---------------------------------------------------------------------------\u001b[0m",
      "\u001b[0;31mNameError\u001b[0m                                 Traceback (most recent call last)",
      "\u001b[0;32m/var/folders/rr/0mnyyv811fs5vyp22gf4fxk00000gn/T/ipykernel_50823/2710955346.py\u001b[0m in \u001b[0;36m<module>\u001b[0;34m\u001b[0m\n\u001b[0;32m----> 1\u001b[0;31m \u001b[0mmymod\u001b[0m\u001b[0;34m\u001b[0m\u001b[0;34m\u001b[0m\u001b[0m\n\u001b[0m",
      "\u001b[0;31mNameError\u001b[0m: name 'mymod' is not defined"
     ]
    }
   ],
   "source": [
    "mymod"
   ]
  },
  {
   "cell_type": "code",
   "execution_count": 4,
   "id": "f45104e1-d2d1-4599-ab85-977781460e1e",
   "metadata": {},
   "outputs": [
    {
     "data": {
      "text/plain": [
       "'Hello, world from mymod!'"
      ]
     },
     "execution_count": 4,
     "metadata": {},
     "output_type": "execute_result"
    }
   ],
   "source": [
    "hello('world')"
   ]
  },
  {
   "cell_type": "code",
   "execution_count": 5,
   "id": "dc8e728e-8d6f-42dd-9779-f8f110489db6",
   "metadata": {},
   "outputs": [],
   "source": [
    "import sys"
   ]
  },
  {
   "cell_type": "code",
   "execution_count": 7,
   "id": "65cc21bc-9ee2-448e-9b6b-15d3b37332e4",
   "metadata": {},
   "outputs": [
    {
     "data": {
      "text/plain": [
       "'Hello, world from mymod!'"
      ]
     },
     "execution_count": 7,
     "metadata": {},
     "output_type": "execute_result"
    }
   ],
   "source": [
    "sys.modules['mymod'].hello('world')"
   ]
  },
  {
   "cell_type": "code",
   "execution_count": 8,
   "id": "f293f052-b460-4324-95b9-1a2046055a05",
   "metadata": {},
   "outputs": [
    {
     "data": {
      "text/plain": [
       "'Goodbye, world, from mymod!'"
      ]
     },
     "execution_count": 8,
     "metadata": {},
     "output_type": "execute_result"
    }
   ],
   "source": [
    "sys.modules['mymod'].goodbye('world')"
   ]
  },
  {
   "cell_type": "code",
   "execution_count": 9,
   "id": "4d15503c-2116-4c91-abd4-6d84b35613ee",
   "metadata": {},
   "outputs": [],
   "source": [
    "# import mymod   # looks for mymod.py, loads it, and then sets a global variable mymod that refers to sys.modules['mymod']\n",
    "\n",
    "import mymod as m  # looks for mymod.py, loads it, and then sets a global variable m that refers to sys.modules['mymod']"
   ]
  },
  {
   "cell_type": "code",
   "execution_count": 10,
   "id": "50964503-a444-4d8f-a0bd-077821c9179a",
   "metadata": {},
   "outputs": [
    {
     "data": {
      "text/plain": [
       "<module 'mymod' from '/Users/reuven/Courses/Current/Cisco-2021-11Nov-advanced/mymod.py'>"
      ]
     },
     "execution_count": 10,
     "metadata": {},
     "output_type": "execute_result"
    }
   ],
   "source": [
    "m"
   ]
  },
  {
   "cell_type": "code",
   "execution_count": 11,
   "id": "40856510-2b7a-42eb-8c6d-96389e4b1bf3",
   "metadata": {},
   "outputs": [],
   "source": [
    "# import numpy as np"
   ]
  },
  {
   "cell_type": "code",
   "execution_count": 12,
   "id": "1a3bdff2-42e2-473a-95fd-e511936ce7ca",
   "metadata": {},
   "outputs": [],
   "source": [
    "from mymod import hello as h  # (1) import mymod.py (2) define the global variable h to refer to sys.modules['mymod'].hello"
   ]
  },
  {
   "cell_type": "code",
   "execution_count": 13,
   "id": "3bb3682c-0d00-4ded-b044-13f6db5d6b82",
   "metadata": {},
   "outputs": [
    {
     "data": {
      "text/plain": [
       "'Hello, world from mymod!'"
      ]
     },
     "execution_count": 13,
     "metadata": {},
     "output_type": "execute_result"
    }
   ],
   "source": [
    "h('world')"
   ]
  },
  {
   "cell_type": "markdown",
   "id": "f0111902-af71-4a35-8a8e-cdd073f91335",
   "metadata": {
    "tags": []
   },
   "source": [
    "# Agenda\n",
    "\n",
    "- Classes\n",
    "- Instances\n",
    "- Methods\n",
    "- Attributes (lots and lots on attributes)\n",
    "    - Instance attributes\n",
    "    - Class attributes\n",
    "- Inheritance (including multiple inheritance)\n",
    "- ICPO rule for attribute lookup\n",
    "- Magic methods (lots of them), and how they work\n",
    "- Properties\n",
    "- Descriptors"
   ]
  },
  {
   "cell_type": "markdown",
   "id": "be4bf676-2d63-44fe-aa76-7cd05d5c3798",
   "metadata": {},
   "source": [
    "# What is an object? Also: Why do we care (about objects)?\n",
    "\n",
    "An object in Python has three characteristics:\n",
    "\n",
    "1. A unique number (`id`)\n",
    "2. A type/class (which we can retrieve via `type`)\n",
    "3. Attributes (a private dictionary-like namespace for storage)"
   ]
  },
  {
   "cell_type": "code",
   "execution_count": 14,
   "id": "3592ea91-1b51-4f4e-b595-46fe9ca96c21",
   "metadata": {},
   "outputs": [
    {
     "data": {
      "text/plain": [
       "4388593008"
      ]
     },
     "execution_count": 14,
     "metadata": {},
     "output_type": "execute_result"
    }
   ],
   "source": [
    "s = 'abcd'\n",
    "id(s)"
   ]
  },
  {
   "cell_type": "code",
   "execution_count": 15,
   "id": "dc1dbf4e-91da-4cc8-a990-c97f3fa1d49f",
   "metadata": {},
   "outputs": [
    {
     "data": {
      "text/plain": [
       "str"
      ]
     },
     "execution_count": 15,
     "metadata": {},
     "output_type": "execute_result"
    }
   ],
   "source": [
    "type(s)"
   ]
  },
  {
   "cell_type": "code",
   "execution_count": 16,
   "id": "18063141-b82d-4622-9925-74d596aef33b",
   "metadata": {},
   "outputs": [
    {
     "data": {
      "text/plain": [
       "int"
      ]
     },
     "execution_count": 16,
     "metadata": {},
     "output_type": "execute_result"
    }
   ],
   "source": [
    "x = 1234\n",
    "type(x)"
   ]
  },
  {
   "cell_type": "code",
   "execution_count": 17,
   "id": "0a48c700-7fbf-452b-b7ce-16b0290c4eb1",
   "metadata": {},
   "outputs": [
    {
     "data": {
      "text/plain": [
       "list"
      ]
     },
     "execution_count": 17,
     "metadata": {},
     "output_type": "execute_result"
    }
   ],
   "source": [
    "mylist = [10, 20, 30]\n",
    "type(mylist)"
   ]
  },
  {
   "cell_type": "code",
   "execution_count": 18,
   "id": "4b7bef11-eca9-44fa-89ac-1fe99d2af592",
   "metadata": {},
   "outputs": [],
   "source": [
    "# what might be surprising to you, though, is that classes are objects, too!\n",
    "# each class is also an object, with an ID, type, and attributes"
   ]
  },
  {
   "cell_type": "code",
   "execution_count": 19,
   "id": "6660d82a-27fc-41b5-a71e-bfc81ab9238d",
   "metadata": {},
   "outputs": [
    {
     "data": {
      "text/plain": [
       "type"
      ]
     },
     "execution_count": 19,
     "metadata": {},
     "output_type": "execute_result"
    }
   ],
   "source": [
    "type(str)  "
   ]
  },
  {
   "cell_type": "code",
   "execution_count": 20,
   "id": "a6bd6054-a270-4c6e-aa09-cb42247c81c3",
   "metadata": {},
   "outputs": [
    {
     "data": {
      "text/plain": [
       "type"
      ]
     },
     "execution_count": 20,
     "metadata": {},
     "output_type": "execute_result"
    }
   ],
   "source": [
    "type(int)"
   ]
  },
  {
   "cell_type": "code",
   "execution_count": 21,
   "id": "8f096617-1d9b-4aae-9f78-c201822d8190",
   "metadata": {},
   "outputs": [
    {
     "data": {
      "text/plain": [
       "type"
      ]
     },
     "execution_count": 21,
     "metadata": {},
     "output_type": "execute_result"
    }
   ],
   "source": [
    "type(list)"
   ]
  },
  {
   "cell_type": "code",
   "execution_count": 23,
   "id": "69fcd24e-f1a5-4bd3-a9a7-6fe8f93ffe3a",
   "metadata": {},
   "outputs": [],
   "source": [
    "# all classes in Python have a type of \"type\"\n",
    "# they are all instances of \"type\"\n",
    "\n",
    "# what does \"type\" create? factory objects, objects that create new objects."
   ]
  },
  {
   "cell_type": "code",
   "execution_count": 25,
   "id": "0f18941c-172f-430b-8515-e4070c011079",
   "metadata": {},
   "outputs": [
    {
     "data": {
      "text/plain": [
       "type"
      ]
     },
     "execution_count": 25,
     "metadata": {},
     "output_type": "execute_result"
    }
   ],
   "source": [
    "type(type)   # the factory that creates factories also created itself"
   ]
  },
  {
   "cell_type": "code",
   "execution_count": 26,
   "id": "63e46b08-3648-4659-9b08-0dd2c1c4cb2b",
   "metadata": {
    "collapsed": true,
    "jupyter": {
     "outputs_hidden": true
    },
    "tags": []
   },
   "outputs": [
    {
     "name": "stdout",
     "output_type": "stream",
     "text": [
      "Help on class type in module builtins:\n",
      "\n",
      "class type(object)\n",
      " |  type(object_or_name, bases, dict)\n",
      " |  type(object) -> the object's type\n",
      " |  type(name, bases, dict) -> a new type\n",
      " |  \n",
      " |  Methods defined here:\n",
      " |  \n",
      " |  __call__(self, /, *args, **kwargs)\n",
      " |      Call self as a function.\n",
      " |  \n",
      " |  __delattr__(self, name, /)\n",
      " |      Implement delattr(self, name).\n",
      " |  \n",
      " |  __dir__(self, /)\n",
      " |      Specialized __dir__ implementation for types.\n",
      " |  \n",
      " |  __getattribute__(self, name, /)\n",
      " |      Return getattr(self, name).\n",
      " |  \n",
      " |  __init__(self, /, *args, **kwargs)\n",
      " |      Initialize self.  See help(type(self)) for accurate signature.\n",
      " |  \n",
      " |  __instancecheck__(self, instance, /)\n",
      " |      Check if an object is an instance.\n",
      " |  \n",
      " |  __or__(self, value, /)\n",
      " |      Return self|value.\n",
      " |  \n",
      " |  __repr__(self, /)\n",
      " |      Return repr(self).\n",
      " |  \n",
      " |  __ror__(self, value, /)\n",
      " |      Return value|self.\n",
      " |  \n",
      " |  __setattr__(self, name, value, /)\n",
      " |      Implement setattr(self, name, value).\n",
      " |  \n",
      " |  __sizeof__(self, /)\n",
      " |      Return memory consumption of the type object.\n",
      " |  \n",
      " |  __subclasscheck__(self, subclass, /)\n",
      " |      Check if a class is a subclass.\n",
      " |  \n",
      " |  __subclasses__(self, /)\n",
      " |      Return a list of immediate subclasses.\n",
      " |  \n",
      " |  mro(self, /)\n",
      " |      Return a type's method resolution order.\n",
      " |  \n",
      " |  ----------------------------------------------------------------------\n",
      " |  Class methods defined here:\n",
      " |  \n",
      " |  __prepare__(...)\n",
      " |      __prepare__() -> dict\n",
      " |      used to create the namespace for the class statement\n",
      " |  \n",
      " |  ----------------------------------------------------------------------\n",
      " |  Static methods defined here:\n",
      " |  \n",
      " |  __new__(*args, **kwargs)\n",
      " |      Create and return a new object.  See help(type) for accurate signature.\n",
      " |  \n",
      " |  ----------------------------------------------------------------------\n",
      " |  Data descriptors defined here:\n",
      " |  \n",
      " |  __abstractmethods__\n",
      " |  \n",
      " |  __annotations__\n",
      " |  \n",
      " |  __dict__\n",
      " |  \n",
      " |  __text_signature__\n",
      " |  \n",
      " |  ----------------------------------------------------------------------\n",
      " |  Data and other attributes defined here:\n",
      " |  \n",
      " |  __base__ = <class 'object'>\n",
      " |      The base class of the class hierarchy.\n",
      " |      \n",
      " |      When called, it accepts no arguments and returns a new featureless\n",
      " |      instance that has no instance attributes and cannot be given any.\n",
      " |  \n",
      " |  \n",
      " |  __bases__ = (<class 'object'>,)\n",
      " |  \n",
      " |  __basicsize__ = 888\n",
      " |  \n",
      " |  __dictoffset__ = 264\n",
      " |  \n",
      " |  __flags__ = 2148031744\n",
      " |  \n",
      " |  __itemsize__ = 40\n",
      " |  \n",
      " |  __mro__ = (<class 'type'>, <class 'object'>)\n",
      " |  \n",
      " |  __weakrefoffset__ = 368\n",
      "\n"
     ]
    }
   ],
   "source": [
    "help(type)"
   ]
  },
  {
   "cell_type": "markdown",
   "id": "eb620f8c-cf46-4625-82bb-1cbf5019ea5e",
   "metadata": {},
   "source": [
    "# Attributes\n",
    "\n",
    "When we say `s`, we mean \"the variable `s`\".  But when we say `s.a`, we mean the *attribute* `a` on the variable `s`. Or actually, the attribute `a` on the object that `s` refers to.\n",
    "\n",
    "Attributes are a private dictionary on each object in Python. Every single object has attributes. You retrieve them using `.`.  Whenever you see a `.` before a name, that name is an attribute, *not* a variable.\n"
   ]
  },
  {
   "cell_type": "code",
   "execution_count": 27,
   "id": "6c2754c9-fe72-4952-bb9a-b494cf6b1740",
   "metadata": {},
   "outputs": [
    {
     "ename": "NameError",
     "evalue": "name 'a' is not defined",
     "output_type": "error",
     "traceback": [
      "\u001b[0;31m---------------------------------------------------------------------------\u001b[0m",
      "\u001b[0;31mNameError\u001b[0m                                 Traceback (most recent call last)",
      "\u001b[0;32m/var/folders/rr/0mnyyv811fs5vyp22gf4fxk00000gn/T/ipykernel_50823/713765348.py\u001b[0m in \u001b[0;36m<module>\u001b[0;34m\u001b[0m\n\u001b[0;32m----> 1\u001b[0;31m \u001b[0ma\u001b[0m\u001b[0;34m.\u001b[0m\u001b[0mb\u001b[0m   \u001b[0;31m# retrieve the value of attribute \"b\" on object \"a\"\u001b[0m\u001b[0;34m\u001b[0m\u001b[0;34m\u001b[0m\u001b[0m\n\u001b[0m",
      "\u001b[0;31mNameError\u001b[0m: name 'a' is not defined"
     ]
    }
   ],
   "source": [
    "a.b   # retrieve the value of attribute \"b\" on object \"a\""
   ]
  },
  {
   "cell_type": "code",
   "execution_count": 28,
   "id": "d8b6bd5e-83e8-4b2c-9c14-85854852390e",
   "metadata": {},
   "outputs": [
    {
     "ename": "AttributeError",
     "evalue": "'str' object has no attribute 'b'",
     "output_type": "error",
     "traceback": [
      "\u001b[0;31m---------------------------------------------------------------------------\u001b[0m",
      "\u001b[0;31mAttributeError\u001b[0m                            Traceback (most recent call last)",
      "\u001b[0;32m/var/folders/rr/0mnyyv811fs5vyp22gf4fxk00000gn/T/ipykernel_50823/479626906.py\u001b[0m in \u001b[0;36m<module>\u001b[0;34m\u001b[0m\n\u001b[1;32m      1\u001b[0m \u001b[0ma\u001b[0m \u001b[0;34m=\u001b[0m \u001b[0;34m'abcd'\u001b[0m\u001b[0;34m\u001b[0m\u001b[0;34m\u001b[0m\u001b[0m\n\u001b[0;32m----> 2\u001b[0;31m \u001b[0ma\u001b[0m\u001b[0;34m.\u001b[0m\u001b[0mb\u001b[0m   \u001b[0;31m# retrieve the value of attribute \"b\" on object \"a\"\u001b[0m\u001b[0;34m\u001b[0m\u001b[0;34m\u001b[0m\u001b[0m\n\u001b[0m",
      "\u001b[0;31mAttributeError\u001b[0m: 'str' object has no attribute 'b'"
     ]
    }
   ],
   "source": [
    "a = 'abcd'\n",
    "a.b   # retrieve the value of attribute \"b\" on object \"a\""
   ]
  },
  {
   "cell_type": "code",
   "execution_count": 30,
   "id": "52bd7e27-50d8-42b5-925f-1c5de13aae06",
   "metadata": {},
   "outputs": [
    {
     "data": {
      "text/plain": [
       "['__add__',\n",
       " '__class__',\n",
       " '__contains__',\n",
       " '__delattr__',\n",
       " '__dir__',\n",
       " '__doc__',\n",
       " '__eq__',\n",
       " '__format__',\n",
       " '__ge__',\n",
       " '__getattribute__',\n",
       " '__getitem__',\n",
       " '__getnewargs__',\n",
       " '__gt__',\n",
       " '__hash__',\n",
       " '__init__',\n",
       " '__init_subclass__',\n",
       " '__iter__',\n",
       " '__le__',\n",
       " '__len__',\n",
       " '__lt__',\n",
       " '__mod__',\n",
       " '__mul__',\n",
       " '__ne__',\n",
       " '__new__',\n",
       " '__reduce__',\n",
       " '__reduce_ex__',\n",
       " '__repr__',\n",
       " '__rmod__',\n",
       " '__rmul__',\n",
       " '__setattr__',\n",
       " '__sizeof__',\n",
       " '__str__',\n",
       " '__subclasshook__',\n",
       " 'capitalize',\n",
       " 'casefold',\n",
       " 'center',\n",
       " 'count',\n",
       " 'encode',\n",
       " 'endswith',\n",
       " 'expandtabs',\n",
       " 'find',\n",
       " 'format',\n",
       " 'format_map',\n",
       " 'index',\n",
       " 'isalnum',\n",
       " 'isalpha',\n",
       " 'isascii',\n",
       " 'isdecimal',\n",
       " 'isdigit',\n",
       " 'isidentifier',\n",
       " 'islower',\n",
       " 'isnumeric',\n",
       " 'isprintable',\n",
       " 'isspace',\n",
       " 'istitle',\n",
       " 'isupper',\n",
       " 'join',\n",
       " 'ljust',\n",
       " 'lower',\n",
       " 'lstrip',\n",
       " 'maketrans',\n",
       " 'partition',\n",
       " 'removeprefix',\n",
       " 'removesuffix',\n",
       " 'replace',\n",
       " 'rfind',\n",
       " 'rindex',\n",
       " 'rjust',\n",
       " 'rpartition',\n",
       " 'rsplit',\n",
       " 'rstrip',\n",
       " 'split',\n",
       " 'splitlines',\n",
       " 'startswith',\n",
       " 'strip',\n",
       " 'swapcase',\n",
       " 'title',\n",
       " 'translate',\n",
       " 'upper',\n",
       " 'zfill']"
      ]
     },
     "execution_count": 30,
     "metadata": {},
     "output_type": "execute_result"
    }
   ],
   "source": [
    "# How can we get the list of attributes on an object? We use \"dir\"\n",
    "\n",
    "# attributes can include (a) data, (b) functions, and (c) methods.\n",
    "\n",
    "# when I import a module, all of the module's globals are available to us as attributes on the module object.\n",
    "\n",
    "dir(a)"
   ]
  },
  {
   "cell_type": "code",
   "execution_count": 31,
   "id": "0936fc88-7e6d-47a7-b068-13b1fad462f6",
   "metadata": {},
   "outputs": [
    {
     "data": {
      "text/plain": [
       "'ABCD'"
      ]
     },
     "execution_count": 31,
     "metadata": {},
     "output_type": "execute_result"
    }
   ],
   "source": [
    "s = 'abcd'\n",
    "s.upper() "
   ]
  },
  {
   "cell_type": "code",
   "execution_count": 32,
   "id": "68034af1-d981-4e06-a784-2885deea3949",
   "metadata": {},
   "outputs": [
    {
     "data": {
      "text/plain": [
       "'ABCD'"
      ]
     },
     "execution_count": 32,
     "metadata": {},
     "output_type": "execute_result"
    }
   ],
   "source": [
    "s.upper()  # is translated behind the scenes to getattr(s, 'upper')"
   ]
  },
  {
   "cell_type": "code",
   "execution_count": 33,
   "id": "9131b3dd-cd44-4bcd-8c3c-86cba5900652",
   "metadata": {},
   "outputs": [
    {
     "data": {
      "text/plain": [
       "<function str.upper()>"
      ]
     },
     "execution_count": 33,
     "metadata": {},
     "output_type": "execute_result"
    }
   ],
   "source": [
    "getattr(s, 'upper')  # same as s.upper"
   ]
  },
  {
   "cell_type": "code",
   "execution_count": 34,
   "id": "ebd672ce-87a6-4ad4-a5be-0d869d6b4a22",
   "metadata": {},
   "outputs": [
    {
     "data": {
      "text/plain": [
       "'ABCD'"
      ]
     },
     "execution_count": 34,
     "metadata": {},
     "output_type": "execute_result"
    }
   ],
   "source": [
    "getattr(s, 'upper')()"
   ]
  },
  {
   "cell_type": "code",
   "execution_count": 35,
   "id": "a7168275-2449-4436-9392-229ac9c8e557",
   "metadata": {},
   "outputs": [],
   "source": [
    "import mymod"
   ]
  },
  {
   "cell_type": "code",
   "execution_count": 36,
   "id": "f577a02a-ff62-4f35-bb10-d09c645232dc",
   "metadata": {},
   "outputs": [
    {
     "data": {
      "text/plain": [
       "100"
      ]
     },
     "execution_count": 36,
     "metadata": {},
     "output_type": "execute_result"
    }
   ],
   "source": [
    "mymod.x"
   ]
  },
  {
   "cell_type": "code",
   "execution_count": 37,
   "id": "a5b5f3ee-d6de-4104-bd1d-23d2b36c72a8",
   "metadata": {},
   "outputs": [
    {
     "data": {
      "text/plain": [
       "100"
      ]
     },
     "execution_count": 37,
     "metadata": {},
     "output_type": "execute_result"
    }
   ],
   "source": [
    "getattr(mymod, 'x')"
   ]
  },
  {
   "cell_type": "code",
   "execution_count": 38,
   "id": "4a3acf93-fa16-4c0d-907d-389aa2e244a6",
   "metadata": {},
   "outputs": [],
   "source": [
    "setattr(mymod, 'x', 23456)"
   ]
  },
  {
   "cell_type": "code",
   "execution_count": 39,
   "id": "38604db3-68e3-464d-b7f0-06fd92997364",
   "metadata": {},
   "outputs": [
    {
     "data": {
      "text/plain": [
       "1234"
      ]
     },
     "execution_count": 39,
     "metadata": {},
     "output_type": "execute_result"
    }
   ],
   "source": [
    "x"
   ]
  },
  {
   "cell_type": "markdown",
   "id": "f5c77f7d-865a-4609-8a49-d89f7f29226f",
   "metadata": {},
   "source": [
    "# Creating classes\n",
    "\n",
    "I create a new class in order to have a new type of data, one which more closely reflects what I want to do in my work. A class combines data + methods."
   ]
  },
  {
   "cell_type": "code",
   "execution_count": 40,
   "id": "b3ebb2ff-feea-43a6-8f71-1af89aba5cbd",
   "metadata": {},
   "outputs": [],
   "source": [
    "class Company:\n",
    "    pass    # no content in this class -- but I need something to fill the indentation for Python's syntax"
   ]
  },
  {
   "cell_type": "code",
   "execution_count": 41,
   "id": "3e2ce806-c656-48f3-b2d9-ba476f00be7c",
   "metadata": {},
   "outputs": [
    {
     "data": {
      "text/plain": [
       "type"
      ]
     },
     "execution_count": 41,
     "metadata": {},
     "output_type": "execute_result"
    }
   ],
   "source": [
    "# is Company a class?\n",
    "type(Company)"
   ]
  },
  {
   "cell_type": "code",
   "execution_count": 43,
   "id": "52e9f6ea-3074-40ef-843e-e99da23e3ecf",
   "metadata": {},
   "outputs": [
    {
     "data": {
      "text/plain": [
       "<__main__.Company at 0x1058618d0>"
      ]
     },
     "execution_count": 43,
     "metadata": {},
     "output_type": "execute_result"
    }
   ],
   "source": [
    "# can I create a new instance of Company?\n",
    "c1 = Company()\n",
    "c1"
   ]
  },
  {
   "cell_type": "code",
   "execution_count": 44,
   "id": "f3807346-47fb-449e-a115-14146c8d721b",
   "metadata": {},
   "outputs": [
    {
     "data": {
      "text/plain": [
       "__main__.Company"
      ]
     },
     "execution_count": 44,
     "metadata": {},
     "output_type": "execute_result"
    }
   ],
   "source": [
    "type(c1)"
   ]
  },
  {
   "cell_type": "code",
   "execution_count": 45,
   "id": "1526270d-0435-44b8-b258-dff9aed7f790",
   "metadata": {},
   "outputs": [
    {
     "data": {
      "text/plain": [
       "['__class__',\n",
       " '__delattr__',\n",
       " '__dict__',\n",
       " '__dir__',\n",
       " '__doc__',\n",
       " '__eq__',\n",
       " '__format__',\n",
       " '__ge__',\n",
       " '__getattribute__',\n",
       " '__gt__',\n",
       " '__hash__',\n",
       " '__init__',\n",
       " '__init_subclass__',\n",
       " '__le__',\n",
       " '__lt__',\n",
       " '__module__',\n",
       " '__ne__',\n",
       " '__new__',\n",
       " '__reduce__',\n",
       " '__reduce_ex__',\n",
       " '__repr__',\n",
       " '__setattr__',\n",
       " '__sizeof__',\n",
       " '__str__',\n",
       " '__subclasshook__',\n",
       " '__weakref__']"
      ]
     },
     "execution_count": 45,
     "metadata": {},
     "output_type": "execute_result"
    }
   ],
   "source": [
    "dir(c1)"
   ]
  },
  {
   "cell_type": "code",
   "execution_count": 46,
   "id": "70f29a79-f6d6-4abc-b87d-8e5e7259ad75",
   "metadata": {},
   "outputs": [],
   "source": [
    "# I can set attributes on c1!  I just need to assign to them!\n",
    "c1.name = 'Very Big Company, Inc.'\n",
    "c1.domain = 'Making Lots of Money'"
   ]
  },
  {
   "cell_type": "code",
   "execution_count": 47,
   "id": "040c274d-e77e-4202-b437-26fa5eb403c6",
   "metadata": {},
   "outputs": [
    {
     "data": {
      "text/plain": [
       "'Very Big Company, Inc.'"
      ]
     },
     "execution_count": 47,
     "metadata": {},
     "output_type": "execute_result"
    }
   ],
   "source": [
    "c1.name"
   ]
  },
  {
   "cell_type": "code",
   "execution_count": 48,
   "id": "25e36cef-49e0-4f41-aae8-b26fca0a3668",
   "metadata": {},
   "outputs": [
    {
     "data": {
      "text/plain": [
       "'Making Lots of Money'"
      ]
     },
     "execution_count": 48,
     "metadata": {},
     "output_type": "execute_result"
    }
   ],
   "source": [
    "c1.domain"
   ]
  },
  {
   "cell_type": "code",
   "execution_count": 49,
   "id": "c7382153-b40b-4c33-a327-9c1b64fe5478",
   "metadata": {},
   "outputs": [
    {
     "data": {
      "text/plain": [
       "{'name': 'Very Big Company, Inc.', 'domain': 'Making Lots of Money'}"
      ]
     },
     "execution_count": 49,
     "metadata": {},
     "output_type": "execute_result"
    }
   ],
   "source": [
    "# I can get a dict of all attributes on an object with \"vars\"\n",
    "vars(c1)"
   ]
  },
  {
   "cell_type": "code",
   "execution_count": 50,
   "id": "656a54a6-9d3d-4ec8-b0a0-28aa307150a9",
   "metadata": {},
   "outputs": [],
   "source": [
    "# let's start a second company! (Our first was so successful...)\n",
    "\n",
    "c2 = Company()\n",
    "c2.country = 'USA'\n",
    "c2.employee_count = 1000"
   ]
  },
  {
   "cell_type": "code",
   "execution_count": 51,
   "id": "b94bc30c-d1f3-4435-9c0e-b29eb62a5ae3",
   "metadata": {},
   "outputs": [
    {
     "data": {
      "text/plain": [
       "{'country': 'USA', 'employee_count': 1000}"
      ]
     },
     "execution_count": 51,
     "metadata": {},
     "output_type": "execute_result"
    }
   ],
   "source": [
    "vars(c2)"
   ]
  },
  {
   "cell_type": "code",
   "execution_count": 52,
   "id": "edeb89f2-9edd-4a89-b459-2c7073a027a4",
   "metadata": {},
   "outputs": [
    {
     "data": {
      "text/plain": [
       "{'name': 'Very Big Company, Inc.', 'domain': 'Making Lots of Money'}"
      ]
     },
     "execution_count": 52,
     "metadata": {},
     "output_type": "execute_result"
    }
   ],
   "source": [
    "vars(c1)"
   ]
  },
  {
   "cell_type": "code",
   "execution_count": 53,
   "id": "cdf60b0e-cb2e-46e3-af9d-90fc85b57bb3",
   "metadata": {},
   "outputs": [],
   "source": [
    "# What do I really want? When I create a new instance of Company, the instance will have the same\n",
    "# attribute names as all other instances of Company."
   ]
  },
  {
   "cell_type": "code",
   "execution_count": 58,
   "id": "070e26df-7a7d-4093-ab62-fe1ecdfec0dd",
   "metadata": {},
   "outputs": [],
   "source": [
    "# Python doesn't have the same constructor mechanism as other languages do.\n",
    "# In particular, `__init__` is not the constructor method."
   ]
  },
  {
   "cell_type": "markdown",
   "id": "e5a4b315-9929-4891-ad94-495adca4769e",
   "metadata": {},
   "source": [
    "What happens when we create a new object in Python?  For example, when I call `Company()`.\n",
    "\n",
    "1. Python calls the constructor method, `__new__`.  **DO NOT IMPLEMENT `__new__` UNLESS YOU REALLY KNOW WHAT YOU'RE DOING.**\n",
    "   - Allocates memory for the new object\n",
    "   - Creates the object, and assigns it to local variable `o`.\n",
    "2. `__new__` then calls `__init__` on `o`.\n",
    "    - The instance is available inside of `__init__` as `self`.\n",
    "    - The job of `__init__` is to add attributes to the new object.\n",
    "    - The object was created before `__init__` was called!\n",
    "    - `__init__` doesn't return anything, because its return value is ignored.\n",
    "3. Finally, `__new__` returns the new object to the caller.    "
   ]
  },
  {
   "cell_type": "code",
   "execution_count": 59,
   "id": "83e30d97-0464-409b-92d6-fc531d3992d1",
   "metadata": {},
   "outputs": [],
   "source": [
    "class Company:\n",
    "    def __init__(self):    # self is the instance that we're creating, and __init__'s job is to add attributes\n",
    "        self.name = 'Big Company'\n",
    "        self.domain = 'Making money'"
   ]
  },
  {
   "cell_type": "code",
   "execution_count": 60,
   "id": "93ad3332-a5f5-42f3-8cb4-d9c987198119",
   "metadata": {},
   "outputs": [],
   "source": [
    "c1 = Company() "
   ]
  },
  {
   "cell_type": "code",
   "execution_count": 61,
   "id": "9354da08-25fe-4fce-8a44-656e307ce2d5",
   "metadata": {},
   "outputs": [
    {
     "data": {
      "text/plain": [
       "{'name': 'Big Company', 'domain': 'Making money'}"
      ]
     },
     "execution_count": 61,
     "metadata": {},
     "output_type": "execute_result"
    }
   ],
   "source": [
    "vars(c1)"
   ]
  },
  {
   "cell_type": "code",
   "execution_count": 62,
   "id": "d0c2a856-7c82-4a48-9b5b-5ddf4f779ecf",
   "metadata": {},
   "outputs": [],
   "source": [
    "c2 = Company()"
   ]
  },
  {
   "cell_type": "code",
   "execution_count": 63,
   "id": "92fe297a-1dd3-4659-b420-74fd003d694e",
   "metadata": {},
   "outputs": [
    {
     "data": {
      "text/plain": [
       "{'name': 'Big Company', 'domain': 'Making money'}"
      ]
     },
     "execution_count": 63,
     "metadata": {},
     "output_type": "execute_result"
    }
   ],
   "source": [
    "vars(c2)"
   ]
  },
  {
   "cell_type": "code",
   "execution_count": 64,
   "id": "2983554f-9dbc-47af-aaa0-93f548a0c360",
   "metadata": {},
   "outputs": [],
   "source": [
    "class Company:\n",
    "    def __init__(self, name, domain): \n",
    "        self.name = name\n",
    "        self.domain = domain"
   ]
  },
  {
   "cell_type": "code",
   "execution_count": 65,
   "id": "313021e5-cc0b-4235-b218-ed0a2eab1e1e",
   "metadata": {},
   "outputs": [],
   "source": [
    "c1 = Company('Big Company', 'Making money')\n",
    "c2 = Company('Uber', 'Losing money')"
   ]
  },
  {
   "cell_type": "code",
   "execution_count": 66,
   "id": "019e3344-c453-440f-98ee-821fa4f6d7cd",
   "metadata": {},
   "outputs": [
    {
     "data": {
      "text/plain": [
       "{'name': 'Big Company', 'domain': 'Making money'}"
      ]
     },
     "execution_count": 66,
     "metadata": {},
     "output_type": "execute_result"
    }
   ],
   "source": [
    "vars(c1)"
   ]
  },
  {
   "cell_type": "code",
   "execution_count": 67,
   "id": "d8b93319-b041-4ebc-98ab-636ee2a8ced1",
   "metadata": {},
   "outputs": [
    {
     "data": {
      "text/plain": [
       "{'name': 'Uber', 'domain': 'Losing money'}"
      ]
     },
     "execution_count": 67,
     "metadata": {},
     "output_type": "execute_result"
    }
   ],
   "source": [
    "vars(c2)"
   ]
  },
  {
   "cell_type": "code",
   "execution_count": 68,
   "id": "3c6f48e2-666a-4ab3-a372-555f9d9e729f",
   "metadata": {},
   "outputs": [
    {
     "name": "stdout",
     "output_type": "stream",
     "text": [
      "The Zen of Python, by Tim Peters\n",
      "\n",
      "Beautiful is better than ugly.\n",
      "Explicit is better than implicit.\n",
      "Simple is better than complex.\n",
      "Complex is better than complicated.\n",
      "Flat is better than nested.\n",
      "Sparse is better than dense.\n",
      "Readability counts.\n",
      "Special cases aren't special enough to break the rules.\n",
      "Although practicality beats purity.\n",
      "Errors should never pass silently.\n",
      "Unless explicitly silenced.\n",
      "In the face of ambiguity, refuse the temptation to guess.\n",
      "There should be one-- and preferably only one --obvious way to do it.\n",
      "Although that way may not be obvious at first unless you're Dutch.\n",
      "Now is better than never.\n",
      "Although never is often better than *right* now.\n",
      "If the implementation is hard to explain, it's a bad idea.\n",
      "If the implementation is easy to explain, it may be a good idea.\n",
      "Namespaces are one honking great idea -- let's do more of those!\n"
     ]
    }
   ],
   "source": [
    "import this"
   ]
  },
  {
   "cell_type": "code",
   "execution_count": 69,
   "id": "be779bcf-79d1-47a1-a414-17858e37b303",
   "metadata": {},
   "outputs": [
    {
     "data": {
      "text/plain": [
       "'ABCD'"
      ]
     },
     "execution_count": 69,
     "metadata": {},
     "output_type": "execute_result"
    }
   ],
   "source": [
    "s = 'abcd'\n",
    "s.upper()  "
   ]
  },
  {
   "cell_type": "code",
   "execution_count": 70,
   "id": "6b0bca26-b5eb-485c-894a-e81581de467b",
   "metadata": {},
   "outputs": [
    {
     "data": {
      "text/plain": [
       "'ABCD'"
      ]
     },
     "execution_count": 70,
     "metadata": {},
     "output_type": "execute_result"
    }
   ],
   "source": [
    "s.upper()  # rewritten to be str.upper(s)"
   ]
  },
  {
   "cell_type": "code",
   "execution_count": 71,
   "id": "c3c9b6b5-1a64-4fcf-8fd5-b8c2dfb01ed8",
   "metadata": {},
   "outputs": [
    {
     "name": "stdout",
     "output_type": "stream",
     "text": [
      "Cisco\n",
      "Reuven, Inc.\n"
     ]
    }
   ],
   "source": [
    "class Company:\n",
    "    def __init__(self, name, domain): \n",
    "        self.name = name\n",
    "        self.domain = domain\n",
    "        \n",
    "    def get_name(self):\n",
    "        return self.name\n",
    "    \n",
    "    def set_name(self, new_name):\n",
    "        self.name = new_name\n",
    "        \n",
    "    def get_domain(self):\n",
    "        return self.domain\n",
    "    \n",
    "    def set_domain(self, new_domain):\n",
    "        self.domain = new_domain\n",
    "        \n",
    "c1 = Company('Cisco', 'networking')\n",
    "print(c1.get_name())\n",
    "c1.set_name('Reuven, Inc.')\n",
    "print(c1.get_name())"
   ]
  },
  {
   "cell_type": "code",
   "execution_count": 72,
   "id": "d7edadef-e443-49e3-b887-f08eaa83db07",
   "metadata": {},
   "outputs": [
    {
     "name": "stdout",
     "output_type": "stream",
     "text": [
      "Cisco\n",
      "Reuven, Inc.\n"
     ]
    }
   ],
   "source": [
    "# traditionally, we don't write setter/getter methods in Python!\n",
    "\n",
    "class Company:\n",
    "    def __init__(self, name, domain): \n",
    "        self.name = name\n",
    "        self.domain = domain\n",
    "        \n",
    "c1 = Company('Cisco', 'networking')\n",
    "print(c1.name)\n",
    "c1.name = 'Reuven, Inc.'\n",
    "print(c1.name)"
   ]
  },
  {
   "cell_type": "markdown",
   "id": "72aa532d-088a-4559-93b9-2fde16f5650e",
   "metadata": {},
   "source": [
    "# Exercise: Ice cream\n",
    "\n",
    "1. In a module called `icecream.py`, define a class, `Scoop`, which will represent one scoop of ice cream. It will have one attribute, `flavor`.\n",
    "2. In that same module, define a second class, `Bowl`, which will represent a bowl of ice cream.  Each instance of `Bowl` should have one attribute, `scoops`, containing our scoops.\n",
    "3. Bowls should also have two methods -- `add_scoops`, which should take any number of scoops and add them to the `scoops` attribute, and `flavors`, a method that returns a list of strings, the flavors of scoops we've stored.\n",
    "\n",
    "```python\n",
    "s1 = Scoop('chocolate')\n",
    "s2 = Scoop('vanilla')\n",
    "s3 = Scoop('coffee')\n",
    "\n",
    "print(s1.flavor)  # prints chocolate\n",
    "\n",
    "b = Bowl()\n",
    "b.add_scoops(s1, s2)\n",
    "b.add_scoops(s3)\n",
    "print(b.flavors())  # ['chocolate', 'vanilla', 'coffee']\n",
    "```"
   ]
  },
  {
   "cell_type": "code",
   "execution_count": 73,
   "id": "db25f994-113a-4604-bf94-419a70e1bc37",
   "metadata": {},
   "outputs": [
    {
     "name": "stdout",
     "output_type": "stream",
     "text": [
      "Hello, name1!\n",
      "Hello, name2!\n"
     ]
    }
   ],
   "source": [
    "class Person:\n",
    "    def __init__(self, name):\n",
    "        self.name = name\n",
    "        \n",
    "    def greet(self):\n",
    "        return f'Hello, {self.name}!'\n",
    "\n",
    "p1 = Person('name1')\n",
    "p2 = Person('name2')\n",
    "\n",
    "print(p1.greet())\n",
    "print(p2.greet())"
   ]
  },
  {
   "cell_type": "code",
   "execution_count": 75,
   "id": "f5e68b51-8651-4dc7-9057-0c6eadb9c0e0",
   "metadata": {},
   "outputs": [
    {
     "name": "stdout",
     "output_type": "stream",
     "text": [
      "Before, population = 0\n",
      "After, population = 2\n",
      "Hello, name1!\n",
      "Hello, name2!\n"
     ]
    }
   ],
   "source": [
    "population = 0\n",
    "\n",
    "class Person:\n",
    "    def __init__(self, name):\n",
    "        global population\n",
    "        self.name = name\n",
    "        population += 1\n",
    "        \n",
    "    def greet(self):\n",
    "        return f'Hello, {self.name}!'\n",
    "\n",
    "print(f'Before, population = {population}')\n",
    "p1 = Person('name1')\n",
    "p2 = Person('name2')\n",
    "print(f'After, population = {population}')\n",
    "\n",
    "print(p1.greet())\n",
    "print(p2.greet())"
   ]
  },
  {
   "cell_type": "code",
   "execution_count": 76,
   "id": "bb07e637-664a-4c34-bce4-03aa7890f99f",
   "metadata": {},
   "outputs": [
    {
     "name": "stdout",
     "output_type": "stream",
     "text": [
      "Before, population = 0\n",
      "After, population = 2\n",
      "Hello, name1!\n",
      "Hello, name2!\n"
     ]
    }
   ],
   "source": [
    "class Person:\n",
    "    def __init__(self, name):\n",
    "        self.name = name\n",
    "        Person.population += 1\n",
    "        \n",
    "    def greet(self):\n",
    "        return f'Hello, {self.name}!'\n",
    "\n",
    "# after I create the class, I'll add a new attribute to the class object\n",
    "Person.population = 0\n",
    "\n",
    "print(f'Before, population = {Person.population}')\n",
    "p1 = Person('name1')\n",
    "p2 = Person('name2')\n",
    "print(f'After, population = {Person.population}')\n",
    "\n",
    "print(p1.greet())\n",
    "print(p2.greet())"
   ]
  },
  {
   "cell_type": "code",
   "execution_count": 78,
   "id": "d7260d18-b0ad-4df1-a044-566f1f4f74b1",
   "metadata": {},
   "outputs": [
    {
     "name": "stdout",
     "output_type": "stream",
     "text": [
      "A\n",
      "B\n",
      "D\n",
      "E\n",
      "C\n",
      "C\n"
     ]
    }
   ],
   "source": [
    "# Quiz on Python classes\n",
    "\n",
    "print('A')\n",
    "class Person:\n",
    "    print('B')\n",
    "    def __init__(self, name):  # this line needs to run in order for Person.__init__ to be defined\n",
    "        print('C')\n",
    "        self.name = name\n",
    "    print('D')\n",
    "print('E')    \n",
    "        \n",
    "p1 = Person('name1')  #before this line, Person.__init__ is defined\n",
    "p2 = Person('name2')"
   ]
  },
  {
   "cell_type": "code",
   "execution_count": 79,
   "id": "0e248881-a31b-4d0c-90e6-9bd641c5486f",
   "metadata": {},
   "outputs": [],
   "source": [
    "# the body of a function doesn't execute when I define the function\n",
    "# it's logical to assume that the body of a class doesn't execute when I define the class!\n",
    "\n",
    "def myfunc():\n",
    "    print('asdfsafas')"
   ]
  },
  {
   "cell_type": "code",
   "execution_count": 81,
   "id": "a318d449-4135-4c99-ad07-e8befffa20d8",
   "metadata": {},
   "outputs": [
    {
     "name": "stdout",
     "output_type": "stream",
     "text": [
      "Before, population = 0\n",
      "After, population = 2\n",
      "Hello, name1!\n",
      "Hello, name2!\n"
     ]
    }
   ],
   "source": [
    "class Person:\n",
    "    population = 0   # this is not a variable. it is a class attribute, Person.population\n",
    "    \n",
    "    def __init__(self, name):\n",
    "        self.name = name\n",
    "        Person.population += 1\n",
    "        \n",
    "    def greet(self):\n",
    "        return f'Hello, {self.name}!'\n",
    "\n",
    "print(f'Before, population = {Person.population}')\n",
    "p1 = Person('name1')\n",
    "p2 = Person('name2')\n",
    "print(f'After, population = {Person.population}')\n",
    "\n",
    "print(p1.greet())\n",
    "print(p2.greet())"
   ]
  },
  {
   "cell_type": "code",
   "execution_count": 83,
   "id": "7940c6a2-9bd3-4f04-9a27-9d983b1d21d4",
   "metadata": {},
   "outputs": [
    {
     "name": "stdout",
     "output_type": "stream",
     "text": [
      "Before, population = 0\n",
      "After, population = 2\n",
      "After, p1.population = 2\n",
      "After, p2.population = 3\n",
      "Hello, name1!\n",
      "Hello, name2!\n"
     ]
    }
   ],
   "source": [
    "class Person:\n",
    "    population = 0   # this is not a variable. it is a class attribute, Person.population\n",
    "    \n",
    "    def __init__(self, name):\n",
    "        self.name = name\n",
    "        Person.population += 1\n",
    "        \n",
    "    def greet(self):\n",
    "        return f'Hello, {self.name}!'\n",
    "\n",
    "print(f'Before, population = {Person.population}')\n",
    "p1 = Person('name1')\n",
    "p2 = Person('name2')\n",
    "\n",
    "print(f'After, population = {Person.population}')\n",
    "print(f'After, p1.population = {p1.population}')\n",
    "print(f'After, p2.population = {p2.population}')\n",
    "\n",
    "print(p1.greet())\n",
    "print(p2.greet())"
   ]
  },
  {
   "cell_type": "markdown",
   "id": "9ed8277a-645d-4f13-b62a-c9dd560d5e8f",
   "metadata": {},
   "source": [
    "# Attribute lookup: The ICPO rule\n",
    "\n",
    "- `I` instance\n",
    "- `C` class\n",
    "- `P` parents\n",
    "- `O` `object`, the highest object in Python's hierarchy"
   ]
  },
  {
   "cell_type": "code",
   "execution_count": 84,
   "id": "8057cc3e-b14f-424a-ba25-e5656af88809",
   "metadata": {},
   "outputs": [
    {
     "name": "stdout",
     "output_type": "stream",
     "text": [
      "Before, population = 0\n",
      "After, population = 0\n",
      "After, p1.population = 1\n",
      "After, p2.population = 1\n",
      "Hello, name1!\n",
      "Hello, name2!\n"
     ]
    }
   ],
   "source": [
    "# bad -- don't do this!\n",
    "\n",
    "class Person:\n",
    "    population = 0   # this is not a variable. it is a class attribute, Person.population\n",
    "    \n",
    "    def __init__(self, name):\n",
    "        self.name = name\n",
    "        self.population = self.population + 1          # instead of Person.population += 1\n",
    "        \n",
    "    def greet(self):\n",
    "        return f'Hello, {self.name}!'\n",
    "\n",
    "print(f'Before, population = {Person.population}')\n",
    "p1 = Person('name1')\n",
    "p2 = Person('name2')\n",
    "\n",
    "print(f'After, population = {Person.population}')\n",
    "print(f'After, p1.population = {p1.population}')\n",
    "print(f'After, p2.population = {p2.population}')\n",
    "\n",
    "print(p1.greet())\n",
    "print(p2.greet())"
   ]
  },
  {
   "cell_type": "markdown",
   "id": "9f9ec953-ec4a-49c6-88cc-cee9fbc1d499",
   "metadata": {
    "tags": []
   },
   "source": [
    "# Working with class attributes\n",
    "\n",
    "When do we want class attributes?\n",
    "1. Methods\n",
    "2. Data\n",
    "    - Semi-constants -- values that are used in a class, and might be useful to access via a known name\n",
    "    - Shared data -- account balances, or turns remaining.. things that are common to the entire class. But each instance needs to use the class name, not `self`, to access and update.\n",
    "    \n",
    "When we *retrieve* from a class attribute, it doesn't matter if we do so via `self` or the class name. Many people say it's better to use `self`, so that when we deal with inheritance, it's easier.\n",
    "\n",
    "When we *assign* to a class attribute, it's crucial that we do so via the class name."
   ]
  },
  {
   "cell_type": "code",
   "execution_count": 96,
   "id": "5b2c679a-dfa3-4e82-bd79-89a32ad89be1",
   "metadata": {},
   "outputs": [
    {
     "name": "stdout",
     "output_type": "stream",
     "text": [
      "Before, population = 0\n",
      "After, population = 2\n",
      "After, p1.population = 2\n",
      "After, p2.population = 2\n",
      "Hello, name1!\n",
      "Hello, name2!\n",
      "I am dead! name1\n",
      "I am dead! name2\n",
      "After deleting, population = 0\n"
     ]
    }
   ],
   "source": [
    "# Destructor methods -- the closest that Python has is __del__, which runs when the object\n",
    "# is removed / destroyed by the garbage collector\n",
    "\n",
    "class Person:\n",
    "    population = 0   \n",
    "    \n",
    "    def __init__(self, name):\n",
    "        self.name = name\n",
    "        Person.population += 1\n",
    "        \n",
    "    def greet(self):\n",
    "        return f'Hello, {self.name}!'\n",
    "    \n",
    "    def __del__(self):  # this method runs *JUST BEFORE* the garbage collector destroys it\n",
    "        Person.population -= 1\n",
    "        print(f'I am dead! {self.name}')\n",
    "\n",
    "print(f'Before, population = {Person.population}')\n",
    "p1 = Person('name1')\n",
    "p2 = Person('name2')\n",
    "\n",
    "print(f'After, population = {Person.population}')\n",
    "print(f'After, p1.population = {p1.population}')\n",
    "print(f'After, p2.population = {p2.population}')\n",
    "\n",
    "print(p1.greet())\n",
    "print(p2.greet())\n",
    "\n",
    "del(p1)\n",
    "del(p2)\n",
    "\n",
    "print(f'After deleting, population = {Person.population}')"
   ]
  },
  {
   "cell_type": "markdown",
   "id": "b8d739ae-4d1e-4001-b51b-b9a8541e20aa",
   "metadata": {},
   "source": [
    "# Next up:\n",
    "\n",
    "- Using class attributes\n",
    "- Inheritance (and how it's just a logical extension of attribute rules)\n",
    "- Magic methods"
   ]
  },
  {
   "cell_type": "markdown",
   "id": "5b8b21b1-d546-4d14-b2fe-c3587bc9c5da",
   "metadata": {},
   "source": [
    "# Exercise: Limit bowl size\n",
    "\n",
    "We're now going to modify our `Bowl` class, such that if someone adds scoops (using the `add_scoops` method), we will only add up to 3 scoops. That is: The first three scoops we add, in one call or multiple calls, will be added. Any scoops beyond the first three will be completely ignored."
   ]
  },
  {
   "cell_type": "code",
   "execution_count": 99,
   "id": "0b7e4b0a-4678-42b0-9076-cee3325a627c",
   "metadata": {},
   "outputs": [
    {
     "name": "stdout",
     "output_type": "stream",
     "text": [
      "Hello, name1!\n",
      "Hello, name2!\n",
      "Hello, emp1!\n",
      "Hello, emp2!\n"
     ]
    }
   ],
   "source": [
    "class Person:\n",
    "    \n",
    "    def __init__(self, name):\n",
    "        self.name = name\n",
    "        \n",
    "    def greet(self):\n",
    "        return f'Hello, {self.name}!'\n",
    "    \n",
    "p1 = Person('name1')\n",
    "p2 = Person('name2')\n",
    "\n",
    "print(p1.greet())\n",
    "print(p2.greet())\n",
    "\n",
    "\n",
    "class Employee(Person):  # this means: Employee is-a Person, Employee inherits from Person\n",
    "    \n",
    "    def __init__(self, name, id_number):\n",
    "        self.name = name\n",
    "        self.id_number = id_number\n",
    "            \n",
    "e1 = Employee('emp1', 1)\n",
    "e2 = Employee('emp2', 2)\n",
    "\n",
    "print(e1.greet())  \n",
    "print(e2.greet())"
   ]
  },
  {
   "cell_type": "markdown",
   "id": "a7867460-dca6-4dbc-81a7-7e92c9aa97cd",
   "metadata": {},
   "source": [
    "# Inheritance\n",
    "\n",
    "When one class inherits from another, we can say that its behavior is exactly like the parent class. In fact, we say it has an \"is-a\" relationship -- the child is-a parent.  \n",
    "\n",
    "Examples: Book is-a publication. Employee is-a Person.\n",
    "\n",
    "The point is that we can DRY up our code, avoiding repetition.  I can write much less code. I can depend on code that others have written -- even others outside of my own company/organization.\n",
    "\n",
    "In Python, inheritance means one thing, and one thing only: We modify the search path for attributes.  We indicate that if an attribute isn't found on our class, that Python should search in another class (the parent) before looking at `object` (the ultimate parent)."
   ]
  },
  {
   "cell_type": "code",
   "execution_count": 104,
   "id": "9f5938a1-0b98-4309-b7c2-2869aca9438e",
   "metadata": {},
   "outputs": [
    {
     "name": "stdout",
     "output_type": "stream",
     "text": [
      "Hello, name1!\n",
      "Hello, name2!\n",
      "Hello, emp1!\n",
      "Hello, emp2!\n"
     ]
    }
   ],
   "source": [
    "class Person:\n",
    "    \n",
    "    def __init__(self, name):\n",
    "        self.name = name\n",
    "        \n",
    "    def greet(self):\n",
    "        return f'Hello, {self.name}!'\n",
    "    \n",
    "p1 = Person('name1')\n",
    "p2 = Person('name2')\n",
    "\n",
    "print(p1.greet())\n",
    "print(p2.greet())\n",
    "\n",
    "\n",
    "class Employee(Person):  # this means: Employee is-a Person, Employee inherits from Person\n",
    "    \n",
    "    def __init__(self, name, id_number):\n",
    "        Person.__init__(self, name)\n",
    "        self.id_number = id_number\n",
    "            \n",
    "e1 = Employee('emp1', 1)  # does e1's class have __init__? YES\n",
    "e2 = Employee('emp2', 2)\n",
    "\n",
    "print(e1.greet())  \n",
    "print(e2.greet())"
   ]
  },
  {
   "cell_type": "code",
   "execution_count": 102,
   "id": "6701ac7c-5ae9-43bb-b799-24c8d6afc436",
   "metadata": {},
   "outputs": [
    {
     "data": {
      "text/plain": [
       "{'id_number': 1}"
      ]
     },
     "execution_count": 102,
     "metadata": {},
     "output_type": "execute_result"
    }
   ],
   "source": [
    "vars(e1)"
   ]
  },
  {
   "cell_type": "code",
   "execution_count": 103,
   "id": "cd962755-8e3f-49ae-979e-d8927258fd88",
   "metadata": {},
   "outputs": [
    {
     "data": {
      "text/plain": [
       "{'id_number': 2}"
      ]
     },
     "execution_count": 103,
     "metadata": {},
     "output_type": "execute_result"
    }
   ],
   "source": [
    "vars(e2)"
   ]
  },
  {
   "cell_type": "code",
   "execution_count": null,
   "id": "b06d0ae2-6143-4f6d-a004-8dc4a6cf4959",
   "metadata": {},
   "outputs": [],
   "source": [
    "class Person:\n",
    "    \n",
    "    def __init__(self, name):\n",
    "        self.name = name\n",
    "        \n",
    "    def greet(self):\n",
    "        return f'Hello, {self.name}!'\n",
    "    \n",
    "p1 = Person('name1')\n",
    "p2 = Person('name2')\n",
    "\n",
    "print(p1.greet())\n",
    "print(p2.greet())\n",
    "\n",
    "\n",
    "class Employee(Person):  # this means: Employee is-a Person, Employee inherits from Person\n",
    "    \n",
    "    def __init__(self, name, id_number):\n",
    "        # Person.__init__(self, name)  # if we call the method explicitly, we must pass self\n",
    "        super().__init__(name)  # super() figures out self, passes the call to __init__ to the first appropriate class\n",
    "        self.id_number = id_number\n",
    "            \n",
    "e1 = Employee('emp1', 1)  # does e1's class have __init__? YES\n",
    "e2 = Employee('emp2', 2)\n",
    "\n",
    "print(e1.greet())  \n",
    "print(e2.greet())"
   ]
  },
  {
   "cell_type": "markdown",
   "id": "3b4ff87c-dbb7-4bfb-8a24-0e5a08519c73",
   "metadata": {},
   "source": [
    "# Three paradigms for method inheritance\n",
    "\n",
    "1. Do nothing in the child. The parent method is called.\n",
    "2. In the child's method, call `super()` and then invoke the parent's method. Or, if you prefer, explicitly call the method on the parent. Then, after doing that, do something special in the child. This paradigm allows us to mix together parent behavior and child behavior.\n",
    "3. Write a method in the child, and *don't* call the parent method. This allows the child to do something different than the parent. Or to add a new method, and new functionality, that doesn't exist in the parent."
   ]
  },
  {
   "cell_type": "markdown",
   "id": "74a9975a-9157-46d2-af2c-df866b1b2923",
   "metadata": {},
   "source": [
    "# Exercise: `BigBowl`\n",
    "\n",
    "1. Implement the `BigBowl` class, which is the same as `Bowl`, except that it allows for up to 5 scoops. \n",
    "2. Modify the `Bowl` class as little as possible when implementing this, and make the `BigBowl` class as minimal as possible for things still to work."
   ]
  },
  {
   "cell_type": "code",
   "execution_count": 105,
   "id": "16d7fd10-bd5a-44c6-bb3d-829c4d2104c9",
   "metadata": {},
   "outputs": [],
   "source": [
    "class Scoop:\n",
    "    def __init__(self, flavor):\n",
    "        self.flavor = flavor\n",
    "\n",
    "\n",
    "class Bowl:\n",
    "    MAX_SCOOPS = 3   # class attribute MAX_SCOOPS\n",
    "\n",
    "    def __init__(self):\n",
    "        self.scoops = []\n",
    "\n",
    "    def add_scoops(self, *args):\n",
    "        for one_scoop in args:\n",
    "            if len(self.scoops) >= self.MAX_SCOOPS:\n",
    "                break\n",
    "            self.scoops.append(one_scoop)\n",
    "\n",
    "    def flavors(self):\n",
    "        return [one_scoop.flavor\n",
    "                for one_scoop in self.scoops]\n",
    "\n",
    "        # output = []\n",
    "        # for one_scoop in self.scoops:\n",
    "        #     output.append(one_scoop.flavor)\n",
    "        # return output\n",
    "\n",
    "\n",
    "class BigBowl(Bowl):\n",
    "    MAX_SCOOPS = 5\n",
    "\n"
   ]
  },
  {
   "cell_type": "code",
   "execution_count": 106,
   "id": "22271176-91b2-4f4f-b1eb-33f8aea10916",
   "metadata": {},
   "outputs": [
    {
     "data": {
      "text/plain": [
       "(__main__.Scoop, object)"
      ]
     },
     "execution_count": 106,
     "metadata": {},
     "output_type": "execute_result"
    }
   ],
   "source": [
    "Scoop.__mro__  # what is the method resolution order for instances of Scoop?"
   ]
  },
  {
   "cell_type": "code",
   "execution_count": 107,
   "id": "1ae25d95-9d72-469a-a491-ffa2449b621d",
   "metadata": {},
   "outputs": [
    {
     "data": {
      "text/plain": [
       "(__main__.Bowl, object)"
      ]
     },
     "execution_count": 107,
     "metadata": {},
     "output_type": "execute_result"
    }
   ],
   "source": [
    "Bowl.__mro__"
   ]
  },
  {
   "cell_type": "code",
   "execution_count": 108,
   "id": "a8ab9399-f509-412a-8862-6b632105b957",
   "metadata": {},
   "outputs": [
    {
     "data": {
      "text/plain": [
       "(__main__.BigBowl, __main__.Bowl, object)"
      ]
     },
     "execution_count": 108,
     "metadata": {},
     "output_type": "execute_result"
    }
   ],
   "source": [
    "BigBowl.__mro__"
   ]
  },
  {
   "cell_type": "code",
   "execution_count": 109,
   "id": "1fd452c8-3937-4cb2-b3c4-c4d6226b0e33",
   "metadata": {},
   "outputs": [
    {
     "ename": "AttributeError",
     "evalue": "'Person' object has no attribute 'asdfasfdafa'",
     "output_type": "error",
     "traceback": [
      "\u001b[0;31m---------------------------------------------------------------------------\u001b[0m",
      "\u001b[0;31mAttributeError\u001b[0m                            Traceback (most recent call last)",
      "\u001b[0;32m/var/folders/rr/0mnyyv811fs5vyp22gf4fxk00000gn/T/ipykernel_50823/2596105370.py\u001b[0m in \u001b[0;36m<module>\u001b[0;34m\u001b[0m\n\u001b[0;32m----> 1\u001b[0;31m \u001b[0mp1\u001b[0m\u001b[0;34m.\u001b[0m\u001b[0masdfasfdafa\u001b[0m\u001b[0;34m(\u001b[0m\u001b[0;34m)\u001b[0m\u001b[0;34m\u001b[0m\u001b[0;34m\u001b[0m\u001b[0m\n\u001b[0m",
      "\u001b[0;31mAttributeError\u001b[0m: 'Person' object has no attribute 'asdfasfdafa'"
     ]
    }
   ],
   "source": [
    "p1.asdfasfdafa()"
   ]
  },
  {
   "cell_type": "code",
   "execution_count": 110,
   "id": "909eb194-b86c-442d-80c6-71641c45728c",
   "metadata": {},
   "outputs": [],
   "source": [
    "class MyClass:\n",
    "    pass\n",
    "\n",
    "m = MyClass()"
   ]
  },
  {
   "cell_type": "code",
   "execution_count": 111,
   "id": "9b263d0e-7ad5-4f5d-a194-ca81267cece9",
   "metadata": {},
   "outputs": [],
   "source": [
    "# m.__init__()  -> MyClass.__init__() -> object.__init__()"
   ]
  },
  {
   "cell_type": "code",
   "execution_count": 112,
   "id": "c9193635-fb4d-4686-b484-b593ceb2619d",
   "metadata": {},
   "outputs": [
    {
     "ename": "TypeError",
     "evalue": "MyClass() takes no arguments",
     "output_type": "error",
     "traceback": [
      "\u001b[0;31m---------------------------------------------------------------------------\u001b[0m",
      "\u001b[0;31mTypeError\u001b[0m                                 Traceback (most recent call last)",
      "\u001b[0;32m/var/folders/rr/0mnyyv811fs5vyp22gf4fxk00000gn/T/ipykernel_50823/363966084.py\u001b[0m in \u001b[0;36m<module>\u001b[0;34m\u001b[0m\n\u001b[0;32m----> 1\u001b[0;31m \u001b[0mm\u001b[0m \u001b[0;34m=\u001b[0m \u001b[0mMyClass\u001b[0m\u001b[0;34m(\u001b[0m\u001b[0;36m5\u001b[0m\u001b[0;34m)\u001b[0m\u001b[0;34m\u001b[0m\u001b[0;34m\u001b[0m\u001b[0m\n\u001b[0m",
      "\u001b[0;31mTypeError\u001b[0m: MyClass() takes no arguments"
     ]
    }
   ],
   "source": [
    "m = MyClass(5)"
   ]
  },
  {
   "cell_type": "code",
   "execution_count": 117,
   "id": "ad2d03d7-f524-4a5a-955f-77d3ddd00272",
   "metadata": {},
   "outputs": [
    {
     "ename": "TypeError",
     "evalue": "MyClass.__init__() takes exactly one argument (the instance to initialize)",
     "output_type": "error",
     "traceback": [
      "\u001b[0;31m---------------------------------------------------------------------------\u001b[0m",
      "\u001b[0;31mTypeError\u001b[0m                                 Traceback (most recent call last)",
      "\u001b[0;32m/var/folders/rr/0mnyyv811fs5vyp22gf4fxk00000gn/T/ipykernel_50823/1045524335.py\u001b[0m in \u001b[0;36m<module>\u001b[0;34m\u001b[0m\n\u001b[0;32m----> 1\u001b[0;31m \u001b[0mobject\u001b[0m\u001b[0;34m.\u001b[0m\u001b[0m__init__\u001b[0m\u001b[0;34m(\u001b[0m\u001b[0mm\u001b[0m\u001b[0;34m,\u001b[0m\u001b[0;36m5\u001b[0m\u001b[0;34m)\u001b[0m\u001b[0;34m\u001b[0m\u001b[0;34m\u001b[0m\u001b[0m\n\u001b[0m",
      "\u001b[0;31mTypeError\u001b[0m: MyClass.__init__() takes exactly one argument (the instance to initialize)"
     ]
    }
   ],
   "source": [
    "object.__init__(m,5)"
   ]
  },
  {
   "cell_type": "code",
   "execution_count": 118,
   "id": "08cee8f0-bd23-4e06-a2b7-35cc1b40bcca",
   "metadata": {},
   "outputs": [
    {
     "data": {
      "text/plain": [
       "(__main__.SuperBigBowl, __main__.BigBowl, __main__.Bowl, object)"
      ]
     },
     "execution_count": 118,
     "metadata": {},
     "output_type": "execute_result"
    }
   ],
   "source": [
    "class SuperBigBowl(BigBowl):\n",
    "    pass\n",
    "\n",
    "SuperBigBowl.__mro__"
   ]
  },
  {
   "cell_type": "code",
   "execution_count": 119,
   "id": "0f762170-e1f1-4b5b-8754-3f4362220732",
   "metadata": {},
   "outputs": [],
   "source": [
    "# Multiple inheritance!"
   ]
  },
  {
   "cell_type": "code",
   "execution_count": 124,
   "id": "eb0080e7-3984-45b9-9990-2d11d56c9954",
   "metadata": {},
   "outputs": [],
   "source": [
    "class A:\n",
    "    def __init__(self, x):\n",
    "        self.x = x\n",
    "        \n",
    "    def x2(self):\n",
    "        return self.x * 2\n",
    "    \n",
    "class B:\n",
    "    def __init__(self, y):\n",
    "        self.y = y\n",
    "        \n",
    "    def y3(self):\n",
    "        return self.y * 3\n",
    "    \n",
    "class C(A, B):  # rule: list superclasses in order, *ALWAYS* with children before parents\n",
    "    pass"
   ]
  },
  {
   "cell_type": "code",
   "execution_count": 121,
   "id": "7cbd95d8-9e3b-4c9a-a274-7472ffac62c7",
   "metadata": {},
   "outputs": [
    {
     "ename": "TypeError",
     "evalue": "A.__init__() missing 1 required positional argument: 'x'",
     "output_type": "error",
     "traceback": [
      "\u001b[0;31m---------------------------------------------------------------------------\u001b[0m",
      "\u001b[0;31mTypeError\u001b[0m                                 Traceback (most recent call last)",
      "\u001b[0;32m/var/folders/rr/0mnyyv811fs5vyp22gf4fxk00000gn/T/ipykernel_50823/2116358722.py\u001b[0m in \u001b[0;36m<module>\u001b[0;34m\u001b[0m\n\u001b[0;32m----> 1\u001b[0;31m \u001b[0mc\u001b[0m \u001b[0;34m=\u001b[0m \u001b[0mC\u001b[0m\u001b[0;34m(\u001b[0m\u001b[0;34m)\u001b[0m  \u001b[0;31m# will this work?\u001b[0m\u001b[0;34m\u001b[0m\u001b[0;34m\u001b[0m\u001b[0m\n\u001b[0m",
      "\u001b[0;31mTypeError\u001b[0m: A.__init__() missing 1 required positional argument: 'x'"
     ]
    }
   ],
   "source": [
    "c = C()  # will this work?"
   ]
  },
  {
   "cell_type": "code",
   "execution_count": 122,
   "id": "9aec4ee1-9f88-4378-be32-4b7bdd073538",
   "metadata": {},
   "outputs": [
    {
     "data": {
      "text/plain": [
       "(__main__.C, __main__.A, __main__.B, object)"
      ]
     },
     "execution_count": 122,
     "metadata": {},
     "output_type": "execute_result"
    }
   ],
   "source": [
    "C.__mro__"
   ]
  },
  {
   "cell_type": "code",
   "execution_count": 134,
   "id": "1661e46b-9c72-417f-b74f-523421920153",
   "metadata": {},
   "outputs": [
    {
     "data": {
      "text/plain": [
       "{'x': 10}"
      ]
     },
     "execution_count": 134,
     "metadata": {},
     "output_type": "execute_result"
    }
   ],
   "source": [
    "class A:\n",
    "    A_MAX = 100\n",
    "    def __init__(self, x):\n",
    "        self.x = x\n",
    "        \n",
    "    def x2(self):\n",
    "        return self.x * 2\n",
    "    \n",
    "class B:\n",
    "    B_MAX = 200\n",
    "    def __init__(self, y):\n",
    "        self.y = y\n",
    "        \n",
    "    def y3(self):\n",
    "        return self.y * 3\n",
    "    \n",
    "class C(A, B):  # rule: list superclasses in order, *ALWAYS* with children before parents\n",
    "    def __init__(self, x, y):\n",
    "        # I have to explicitly call __init__ on each of my parents classes\n",
    "        A.__init__(self, x)\n",
    "        B.__init__(self, y)\n",
    "        \n",
    "c = C(10)\n",
    "vars(c)"
   ]
  },
  {
   "cell_type": "code",
   "execution_count": null,
   "id": "30521b9a-562f-474a-b532-b949d6458ac0",
   "metadata": {},
   "outputs": [],
   "source": []
  },
  {
   "cell_type": "code",
   "execution_count": 129,
   "id": "a7ab2a4e-4e9c-4736-8bff-89ca10f1e985",
   "metadata": {},
   "outputs": [
    {
     "data": {
      "text/plain": [
       "20"
      ]
     },
     "execution_count": 135,
     "metadata": {},
     "output_type": "execute_result"
    }
   ],
   "source": [
    "c.x2()"
   ]
  },
  {
   "cell_type": "code",
   "execution_count": 130,
   "id": "41a0a30f-ea27-4e63-bba2-7c895a15e449",
   "metadata": {},
   "outputs": [
    {
     "ename": "AttributeError",
     "evalue": "'C' object has no attribute 'y'",
     "output_type": "error",
     "traceback": [
      "\u001b[0;31m---------------------------------------------------------------------------\u001b[0m",
      "\u001b[0;31mAttributeError\u001b[0m                            Traceback (most recent call last)",
      "\u001b[0;32m/var/folders/rr/0mnyyv811fs5vyp22gf4fxk00000gn/T/ipykernel_50823/1290406532.py\u001b[0m in \u001b[0;36m<module>\u001b[0;34m\u001b[0m\n\u001b[0;32m----> 1\u001b[0;31m \u001b[0mc\u001b[0m\u001b[0;34m.\u001b[0m\u001b[0my3\u001b[0m\u001b[0;34m(\u001b[0m\u001b[0;34m)\u001b[0m\u001b[0;34m\u001b[0m\u001b[0;34m\u001b[0m\u001b[0m\n\u001b[0m",
      "\u001b[0;32m/var/folders/rr/0mnyyv811fs5vyp22gf4fxk00000gn/T/ipykernel_50823/3170987649.py\u001b[0m in \u001b[0;36my3\u001b[0;34m(self)\u001b[0m\n\u001b[1;32m     13\u001b[0m \u001b[0;34m\u001b[0m\u001b[0m\n\u001b[1;32m     14\u001b[0m     \u001b[0;32mdef\u001b[0m \u001b[0my3\u001b[0m\u001b[0;34m(\u001b[0m\u001b[0mself\u001b[0m\u001b[0;34m)\u001b[0m\u001b[0;34m:\u001b[0m\u001b[0;34m\u001b[0m\u001b[0;34m\u001b[0m\u001b[0m\n\u001b[0;32m---> 15\u001b[0;31m         \u001b[0;32mreturn\u001b[0m \u001b[0mself\u001b[0m\u001b[0;34m.\u001b[0m\u001b[0my\u001b[0m \u001b[0;34m*\u001b[0m \u001b[0;36m3\u001b[0m\u001b[0;34m\u001b[0m\u001b[0;34m\u001b[0m\u001b[0m\n\u001b[0m\u001b[1;32m     16\u001b[0m \u001b[0;34m\u001b[0m\u001b[0m\n\u001b[1;32m     17\u001b[0m \u001b[0;32mclass\u001b[0m \u001b[0mC\u001b[0m\u001b[0;34m(\u001b[0m\u001b[0mA\u001b[0m\u001b[0;34m,\u001b[0m \u001b[0mB\u001b[0m\u001b[0;34m)\u001b[0m\u001b[0;34m:\u001b[0m  \u001b[0;31m# rule: list superclasses in order, *ALWAYS* with children before parents\u001b[0m\u001b[0;34m\u001b[0m\u001b[0;34m\u001b[0m\u001b[0m\n",
      "\u001b[0;31mAttributeError\u001b[0m: 'C' object has no attribute 'y'"
     ]
    }
   ],
   "source": [
    "c.y3()"
   ]
  },
  {
   "cell_type": "code",
   "execution_count": 131,
   "id": "7de6f41f-e22b-4339-af5e-e3193c63d4c7",
   "metadata": {},
   "outputs": [
    {
     "data": {
      "text/plain": [
       "100"
      ]
     },
     "execution_count": 131,
     "metadata": {},
     "output_type": "execute_result"
    }
   ],
   "source": [
    "c.A_MAX"
   ]
  },
  {
   "cell_type": "code",
   "execution_count": 132,
   "id": "ce64c9ad-2e05-4a02-812b-cf0e9557adf6",
   "metadata": {},
   "outputs": [
    {
     "data": {
      "text/plain": [
       "200"
      ]
     },
     "execution_count": 132,
     "metadata": {},
     "output_type": "execute_result"
    }
   ],
   "source": [
    "c.B_MAX"
   ]
  },
  {
   "cell_type": "markdown",
   "id": "881ad97b-0a10-43de-9d1f-761cfd05d059",
   "metadata": {},
   "source": [
    "# Magic methods\n",
    "\n",
    "We've already seen that `__init__`, when we define it, is invoked automatically by Python, and initializes our object. There are a *lot* of other methods like `__init__`, that also have \"dunder\" names, and which are also invoked automatically by Python in various situations.  These are known as \"magic methods.\"\n",
    "\n",
    "If you implement a magic method, then Python will notice it, and then use it at the appropriate times.\n",
    "\n",
    "You generally don't want to invoke magic methods explicitly and on your own.  Rather, it's sort of a callback, one that you define knowing that it'll be run by someone else at the right time."
   ]
  },
  {
   "cell_type": "code",
   "execution_count": 137,
   "id": "08f0c8c0-f184-44b2-a15f-efac9e747447",
   "metadata": {},
   "outputs": [
    {
     "name": "stdout",
     "output_type": "stream",
     "text": [
      "<__main__.Person object at 0x10599b8e0>\n"
     ]
    }
   ],
   "source": [
    "# Method __str__\n",
    "\n",
    "print(p1)"
   ]
  },
  {
   "cell_type": "code",
   "execution_count": 138,
   "id": "4a264e9d-221c-4192-af7e-a6de9b68532b",
   "metadata": {},
   "outputs": [
    {
     "data": {
      "text/plain": [
       "4388927712"
      ]
     },
     "execution_count": 138,
     "metadata": {},
     "output_type": "execute_result"
    }
   ],
   "source": [
    "0x10599b8e0"
   ]
  },
  {
   "cell_type": "code",
   "execution_count": 139,
   "id": "3d02474e-4afd-4d9f-8f75-2eb84f6c4c3f",
   "metadata": {},
   "outputs": [
    {
     "data": {
      "text/plain": [
       "4388927712"
      ]
     },
     "execution_count": 139,
     "metadata": {},
     "output_type": "execute_result"
    }
   ],
   "source": [
    "id(p1)"
   ]
  },
  {
   "cell_type": "code",
   "execution_count": 140,
   "id": "0f2bcfba-0864-4852-a930-880dd09e58e5",
   "metadata": {},
   "outputs": [
    {
     "name": "stdout",
     "output_type": "stream",
     "text": [
      "<__main__.Person object at 0x10599b8e0>\n"
     ]
    }
   ],
   "source": [
    "print(p1) # --> print(str(p1)) --> print(p1.__str__()) --> print(Person.__str__(p1)) --> print(object.__str__(p1))"
   ]
  },
  {
   "cell_type": "code",
   "execution_count": 142,
   "id": "9d439a1a-a684-49e7-bb88-271c44edd583",
   "metadata": {},
   "outputs": [
    {
     "name": "stdout",
     "output_type": "stream",
     "text": [
      "<__main__.Person object at 0x10599b8e0>\n"
     ]
    }
   ],
   "source": [
    "print(object.__str__(p1))"
   ]
  },
  {
   "cell_type": "code",
   "execution_count": 143,
   "id": "4f24292f-08f9-4970-a69f-ad4e3f9044d9",
   "metadata": {},
   "outputs": [
    {
     "name": "stdout",
     "output_type": "stream",
     "text": [
      "Person with name = name1\n",
      "Person with name = name2\n"
     ]
    }
   ],
   "source": [
    "# If I implement Person.__str__, then I can have a custom string value for my Person class\n",
    "\n",
    "class Person:\n",
    "    def __init__(self, name):\n",
    "        self.name = name\n",
    "        \n",
    "    def __str__(self):\n",
    "        return f'Person with name = {self.name}'\n",
    "    \n",
    "p1 = Person('name1')\n",
    "p2 = Person('name2')\n",
    "\n",
    "print(p1)\n",
    "print(p2)"
   ]
  },
  {
   "cell_type": "code",
   "execution_count": 144,
   "id": "7eaf31b5-d4d1-49cb-a6cd-494ef307245b",
   "metadata": {},
   "outputs": [
    {
     "data": {
      "text/plain": [
       "<__main__.Person at 0x10673e4a0>"
      ]
     },
     "execution_count": 144,
     "metadata": {},
     "output_type": "execute_result"
    }
   ],
   "source": [
    "p1"
   ]
  },
  {
   "cell_type": "code",
   "execution_count": 145,
   "id": "343545fa-2d37-42d7-9dfb-c90d7bfa7e82",
   "metadata": {},
   "outputs": [
    {
     "data": {
      "text/plain": [
       "<__main__.Person at 0x10673c9d0>"
      ]
     },
     "execution_count": 145,
     "metadata": {},
     "output_type": "execute_result"
    }
   ],
   "source": [
    "p2"
   ]
  },
  {
   "cell_type": "code",
   "execution_count": 146,
   "id": "41908c97-09d4-4aa6-911d-a1ac734ecfce",
   "metadata": {},
   "outputs": [],
   "source": [
    "# There are two ways to turn an object into a string!\n",
    "\n",
    "# __str__ -- produces a string meant for end users, non-programmers\n",
    "# __repr__ (\"representation\") -- produces a string for developers, debuggers, etc.\n",
    "\n",
    "# In theory, __repr__ should return something that can be evaluated as a Python program\n",
    "# In reality, I suggest you define __repr__ and ignore __str__ unless you want to make a distinction between devs + normal users.\n",
    "\n",
    "# because: if you only define __repr__, it handles __str__ as well.  The opposite is not true.\n"
   ]
  },
  {
   "cell_type": "code",
   "execution_count": 147,
   "id": "3705a156-738a-4a9d-8f32-a6532419e03f",
   "metadata": {},
   "outputs": [
    {
     "name": "stdout",
     "output_type": "stream",
     "text": [
      "Person with name = name1\n",
      "Person with name = name2\n"
     ]
    }
   ],
   "source": [
    "class Person:\n",
    "    def __init__(self, name):\n",
    "        self.name = name\n",
    "        \n",
    "    def __repr__(self):\n",
    "        return f'Person with name = {self.name}'\n",
    "    \n",
    "p1 = Person('name1')\n",
    "p2 = Person('name2')\n",
    "\n",
    "print(p1)\n",
    "print(p2)"
   ]
  },
  {
   "cell_type": "code",
   "execution_count": 148,
   "id": "f88ba87d-dff3-4fd8-a284-0866c6419db7",
   "metadata": {},
   "outputs": [
    {
     "data": {
      "text/plain": [
       "Person with name = name1"
      ]
     },
     "execution_count": 148,
     "metadata": {},
     "output_type": "execute_result"
    }
   ],
   "source": [
    "p1"
   ]
  },
  {
   "cell_type": "code",
   "execution_count": 149,
   "id": "7b6a3ba9-bcd1-4646-b6cc-12e32ce3e027",
   "metadata": {},
   "outputs": [
    {
     "data": {
      "text/plain": [
       "Person with name = name2"
      ]
     },
     "execution_count": 149,
     "metadata": {},
     "output_type": "execute_result"
    }
   ],
   "source": [
    "p2"
   ]
  },
  {
   "cell_type": "markdown",
   "id": "f5fa8acf-74a4-4746-b8d7-93913c0f8655",
   "metadata": {},
   "source": [
    "# Exercise: Print some ice cream!\n",
    "\n",
    "1. Change `Scoop`, such that turning an instance of `Scoop` into a string will return something like `Scoop of FLAVOR`.\n",
    "2. Change `Bowl`, such that turning an instance of `Bowl` into a string returns something like `Bowl of:` followed by numbered lines, each with a separate instance of `Scoop`. \n",
    "\n",
    "Example output:\n",
    "\n",
    "    Bowl of:\n",
    "        1. Scoop of chocolate\n",
    "        2. Scoop of vanilla\n",
    "        3. Scoop of coffee"
   ]
  },
  {
   "cell_type": "code",
   "execution_count": 150,
   "id": "09a881e9-dbca-4865-940d-006733fded59",
   "metadata": {},
   "outputs": [
    {
     "data": {
      "text/plain": [
       "4"
      ]
     },
     "execution_count": 150,
     "metadata": {},
     "output_type": "execute_result"
    }
   ],
   "source": [
    "s = 'abcd'\n",
    "len(s)"
   ]
  },
  {
   "cell_type": "code",
   "execution_count": 151,
   "id": "827d3697-51cb-44d9-ab4c-2dabf23b3059",
   "metadata": {},
   "outputs": [],
   "source": [
    "# len(s) actually calls s.__len__()"
   ]
  },
  {
   "cell_type": "code",
   "execution_count": 152,
   "id": "7a1e53b3-175c-4536-9ad4-08458cbcd930",
   "metadata": {},
   "outputs": [
    {
     "data": {
      "text/plain": [
       "4"
      ]
     },
     "execution_count": 152,
     "metadata": {},
     "output_type": "execute_result"
    }
   ],
   "source": [
    "s.__len__()"
   ]
  },
  {
   "cell_type": "markdown",
   "id": "8f99e013-bbc0-4fd0-bdb0-80804587b41e",
   "metadata": {},
   "source": [
    "# Exercise: Length of bowl\n",
    "\n",
    "Add support for `len` to the `Bowl` class, so that invoking `len` on an instance returns the number of scoops in the bowl."
   ]
  },
  {
   "cell_type": "code",
   "execution_count": 153,
   "id": "a8f8ba49-daaf-4063-aadc-3ba0c930f385",
   "metadata": {},
   "outputs": [
    {
     "data": {
      "text/plain": [
       "'a'"
      ]
     },
     "execution_count": 153,
     "metadata": {},
     "output_type": "execute_result"
    }
   ],
   "source": [
    "s = 'abcde'\n",
    "s[0]"
   ]
  },
  {
   "cell_type": "code",
   "execution_count": 154,
   "id": "6ff78f30-cf3b-439b-bc8a-b490d8d1a5e4",
   "metadata": {},
   "outputs": [
    {
     "data": {
      "text/plain": [
       "20"
      ]
     },
     "execution_count": 154,
     "metadata": {},
     "output_type": "execute_result"
    }
   ],
   "source": [
    "mylist = [10, 20, 30, 40, 50]\n",
    "mylist[1]"
   ]
  },
  {
   "cell_type": "code",
   "execution_count": 155,
   "id": "736a98d8-4275-40e1-9913-b7b3fa95be4d",
   "metadata": {},
   "outputs": [
    {
     "data": {
      "text/plain": [
       "300"
      ]
     },
     "execution_count": 155,
     "metadata": {},
     "output_type": "execute_result"
    }
   ],
   "source": [
    "t = (100, 200, 300, 400)\n",
    "t[2]"
   ]
  },
  {
   "cell_type": "markdown",
   "id": "23e1236f-703a-4f4b-bef0-af2c8810b48b",
   "metadata": {},
   "source": [
    "# Exercise: Square brackets on a `Bowl`\n",
    "\n",
    "When I use square brackets, I'm using a magic method\n",
    "\n",
    "`thing[n] --> thing.__getitem__(n)`\n",
    "\n",
    "Add support for retrieval via `[]` on a bowl, so that if there are 5 scoops and I say `bb[3]`, I'll get back the `Scoop` object at that index. \n",
    "\n",
    "If the index isn't valid, let the exception be raised."
   ]
  },
  {
   "cell_type": "markdown",
   "id": "2beb542d-397f-49ab-8900-96fe8803d7c0",
   "metadata": {},
   "source": [
    "# Next up:\n",
    "\n",
    "1. The full object system in Python\n",
    "2. More magic methods\n",
    "    - Operator overloading\n",
    "    - Context managers\n",
    "    - Format codes\n",
    "    - Equality and sorting\n",
    "3. Properties \n",
    "4. Descriptors\n",
    "\n",
    "Return at 13:20 Paris Time"
   ]
  },
  {
   "cell_type": "code",
   "execution_count": 157,
   "id": "cf11b43d-71e7-4b44-9ae8-1411d4e03150",
   "metadata": {},
   "outputs": [
    {
     "data": {
      "text/plain": [
       "['MAX_SCOOPS',\n",
       " '__class__',\n",
       " '__delattr__',\n",
       " '__dict__',\n",
       " '__dir__',\n",
       " '__doc__',\n",
       " '__eq__',\n",
       " '__format__',\n",
       " '__ge__',\n",
       " '__getattribute__',\n",
       " '__gt__',\n",
       " '__hash__',\n",
       " '__init__',\n",
       " '__init_subclass__',\n",
       " '__le__',\n",
       " '__lt__',\n",
       " '__module__',\n",
       " '__ne__',\n",
       " '__new__',\n",
       " '__reduce__',\n",
       " '__reduce_ex__',\n",
       " '__repr__',\n",
       " '__setattr__',\n",
       " '__sizeof__',\n",
       " '__str__',\n",
       " '__subclasshook__',\n",
       " '__weakref__',\n",
       " 'add_scoops',\n",
       " 'flavors']"
      ]
     },
     "execution_count": 157,
     "metadata": {},
     "output_type": "execute_result"
    }
   ],
   "source": [
    "dir(Bowl)"
   ]
  },
  {
   "cell_type": "code",
   "execution_count": 158,
   "id": "fbceac47-5604-4ba9-9eb3-36868aa916e1",
   "metadata": {},
   "outputs": [],
   "source": [
    "b = Bowl()"
   ]
  },
  {
   "cell_type": "code",
   "execution_count": 159,
   "id": "73cf2f06-ed25-43bd-bfce-429ed551ce63",
   "metadata": {},
   "outputs": [
    {
     "data": {
      "text/plain": [
       "__main__.Bowl"
      ]
     },
     "execution_count": 159,
     "metadata": {},
     "output_type": "execute_result"
    }
   ],
   "source": [
    "type(b)"
   ]
  },
  {
   "cell_type": "code",
   "execution_count": 160,
   "id": "91e56b2b-7cbf-496d-ba7a-dbe403af3503",
   "metadata": {},
   "outputs": [
    {
     "data": {
      "text/plain": [
       "__main__.Bowl"
      ]
     },
     "execution_count": 160,
     "metadata": {},
     "output_type": "execute_result"
    }
   ],
   "source": [
    "b.__class__"
   ]
  },
  {
   "cell_type": "code",
   "execution_count": 161,
   "id": "4d037556-1b8b-4f0a-9d02-c0996516723a",
   "metadata": {},
   "outputs": [
    {
     "data": {
      "text/plain": [
       "type"
      ]
     },
     "execution_count": 161,
     "metadata": {},
     "output_type": "execute_result"
    }
   ],
   "source": [
    "Bowl.__class__"
   ]
  },
  {
   "cell_type": "code",
   "execution_count": 162,
   "id": "456c0a28-83ea-4e51-892a-ee2069adc296",
   "metadata": {},
   "outputs": [
    {
     "data": {
      "text/plain": [
       "type"
      ]
     },
     "execution_count": 162,
     "metadata": {},
     "output_type": "execute_result"
    }
   ],
   "source": [
    "type.__class__"
   ]
  },
  {
   "cell_type": "code",
   "execution_count": 163,
   "id": "61a5982a-823b-4162-93f1-eb26fc9e8582",
   "metadata": {},
   "outputs": [
    {
     "data": {
      "text/plain": [
       "(object,)"
      ]
     },
     "execution_count": 163,
     "metadata": {},
     "output_type": "execute_result"
    }
   ],
   "source": [
    "Bowl.__bases__"
   ]
  },
  {
   "cell_type": "code",
   "execution_count": 164,
   "id": "ae8b1a0c-ebaf-43ab-8e78-dd85a119c073",
   "metadata": {},
   "outputs": [
    {
     "data": {
      "text/plain": [
       "(__main__.A, __main__.B)"
      ]
     },
     "execution_count": 164,
     "metadata": {},
     "output_type": "execute_result"
    }
   ],
   "source": [
    "C.__bases__"
   ]
  },
  {
   "cell_type": "code",
   "execution_count": 167,
   "id": "50462b5f-53d0-477a-8532-127fb580eb11",
   "metadata": {},
   "outputs": [
    {
     "data": {
      "text/plain": [
       "()"
      ]
     },
     "execution_count": 167,
     "metadata": {},
     "output_type": "execute_result"
    }
   ],
   "source": [
    "object.__bases__"
   ]
  },
  {
   "cell_type": "code",
   "execution_count": 168,
   "id": "36da2876-597d-4d72-983a-1bac470adffc",
   "metadata": {},
   "outputs": [
    {
     "data": {
      "text/plain": [
       "type"
      ]
     },
     "execution_count": 168,
     "metadata": {},
     "output_type": "execute_result"
    }
   ],
   "source": [
    "type(type)"
   ]
  },
  {
   "cell_type": "code",
   "execution_count": 169,
   "id": "233dc435-c34a-4853-ab49-6cc7bcefb70b",
   "metadata": {},
   "outputs": [
    {
     "data": {
      "text/plain": [
       "(object,)"
      ]
     },
     "execution_count": 169,
     "metadata": {},
     "output_type": "execute_result"
    }
   ],
   "source": [
    "type.__bases__"
   ]
  },
  {
   "cell_type": "code",
   "execution_count": 172,
   "id": "6d0c4f9c-bab3-4c20-a9df-c13e2cf9f061",
   "metadata": {},
   "outputs": [],
   "source": [
    "class MyType(type):   # a new metaclass\n",
    "    pass\n",
    "\n",
    "class MyClass(metaclass=MyType):  # create a new class whose metaclass is MyType\n",
    "    pass"
   ]
  },
  {
   "cell_type": "code",
   "execution_count": 173,
   "id": "7e6f70ea-d6ce-4fb8-94f8-7e6b4ea58269",
   "metadata": {},
   "outputs": [
    {
     "data": {
      "text/plain": [
       "__main__.MyType"
      ]
     },
     "execution_count": 173,
     "metadata": {},
     "output_type": "execute_result"
    }
   ],
   "source": [
    "type(MyClass)"
   ]
  },
  {
   "cell_type": "code",
   "execution_count": null,
   "id": "3296c909-6b08-43cb-a397-ac6845a3f287",
   "metadata": {},
   "outputs": [],
   "source": []
  }
 ],
 "metadata": {
  "kernelspec": {
   "display_name": "Python 3 (ipykernel)",
   "language": "python",
   "name": "python3"
  },
  "language_info": {
   "codemirror_mode": {
    "name": "ipython",
    "version": 3
   },
   "file_extension": ".py",
   "mimetype": "text/x-python",
   "name": "python",
   "nbconvert_exporter": "python",
   "pygments_lexer": "ipython3",
   "version": "3.10.0"
  }
 },
 "nbformat": 4,
 "nbformat_minor": 5
}
