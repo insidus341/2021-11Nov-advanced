{
 "cells": [
  {
   "cell_type": "markdown",
   "id": "88885e73-adf4-42a7-a983-798ea8dc5d9a",
   "metadata": {},
   "source": [
    "# Agenda\n",
    "\n",
    "1. Data structures\n",
    "    - Built-in data strucures (behind the scenes)\n",
    "    - Advanced data structures (`namedtuple`, `Counter`, etc. from the `collections` module)\n",
    "2. Functions\n",
    "    - Function objects\n",
    "    - Parameters\n",
    "    - Mapping arguments to parameters\n",
    "    - LEGB rule for variable lookup + scoping\n",
    "    - Inner functions + closures\n",
    "    - Storing functions as objects\n",
    "3. Functional programming\n",
    "    - Comprehensions\n",
    "    - Passing functions as arguments to other functions\n",
    "    - `lambda` and similar functional-programming systems\n",
    "4. Modules + packages\n",
    "    - How modu\n",
    "5. Objects\n",
    "6. Iterators + generators\n",
    "7. Decorators\n",
    "8. Concurrency (threads + processes)"
   ]
  }
 ],
 "metadata": {
  "kernelspec": {
   "display_name": "Python 3 (ipykernel)",
   "language": "python",
   "name": "python3"
  },
  "language_info": {
   "codemirror_mode": {
    "name": "ipython",
    "version": 3
   },
   "file_extension": ".py",
   "mimetype": "text/x-python",
   "name": "python",
   "nbconvert_exporter": "python",
   "pygments_lexer": "ipython3",
   "version": "3.10.0"
  }
 },
 "nbformat": 4,
 "nbformat_minor": 5
}
