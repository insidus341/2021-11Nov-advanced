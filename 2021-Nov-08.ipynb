{
 "cells": [
  {
   "cell_type": "markdown",
   "id": "88885e73-adf4-42a7-a983-798ea8dc5d9a",
   "metadata": {},
   "source": [
    "# Agenda\n",
    "\n",
    "1. Data structures (Monday)\n",
    "    - Built-in data strucures (behind the scenes)\n",
    "    - Advanced data structures (`namedtuple`, `Counter`, etc. from the `collections` module)\n",
    "2. Functions (Monday + Tuesday)\n",
    "    - Function objects\n",
    "    - Parameters\n",
    "    - Mapping arguments to parameters\n",
    "    - LEGB rule for variable lookup + scoping\n",
    "    - Inner functions + closures\n",
    "    - Storing functions as objects\n",
    "3. Functional programming (Tuesday)\n",
    "    - Comprehensions\n",
    "    - Passing functions as arguments to other functions\n",
    "    - `lambda` and similar functional-programming systems\n",
    "4. Modules + packages (Tuesday + Wednesday)\n",
    "    - How modules work\n",
    "    - Packages vs. modules\n",
    "    - PyPI\n",
    "5. Objects (Wednesday)\n",
    "    - What are objects?\n",
    "    - Classes, methods, instances\n",
    "    - Inheritance\n",
    "    - Attributes -- one of the most important things you can learn in Python!\n",
    "    - ICPO rule for attribute lookup\n",
    "    - Magic methods\n",
    "    - Properties\n",
    "    - Descriptors    \n",
    "6. Iterators + generators (Thursday)\n",
    "    - Iterator protocol\n",
    "    - Adding iteration to a class\n",
    "    - Generator functions\n",
    "    - Generator comprehensions\n",
    "7. Decorators (Thursday)\n",
    "    - What are they?\n",
    "    - Writing decorators \n",
    "8. Concurrency (threads + processes) (Thursday)\n",
    "    - Multithreading in Python\n",
    "    - Multiprocessing "
   ]
  },
  {
   "cell_type": "code",
   "execution_count": 1,
   "id": "0ac45a16-fcb3-4828-8aec-930b094a45b9",
   "metadata": {},
   "outputs": [
    {
     "data": {
      "text/plain": [
       "'3.10.0 (default, Oct 13 2021, 06:45:00) [Clang 13.0.0 (clang-1300.0.29.3)]'"
      ]
     },
     "execution_count": 1,
     "metadata": {},
     "output_type": "execute_result"
    }
   ],
   "source": [
    "import sys\n",
    "sys.version"
   ]
  },
  {
   "cell_type": "code",
   "execution_count": 4,
   "id": "c0e26905-1697-4c9a-91f7-14c482006ce6",
   "metadata": {},
   "outputs": [
    {
     "ename": "NameError",
     "evalue": "name 'naem' is not defined",
     "output_type": "error",
     "traceback": [
      "\u001b[0;31m---------------------------------------------------------------------------\u001b[0m",
      "\u001b[0;31mNameError\u001b[0m                                 Traceback (most recent call last)",
      "\u001b[0;32m/var/folders/rr/0mnyyv811fs5vyp22gf4fxk00000gn/T/ipykernel_19718/162852798.py\u001b[0m in \u001b[0;36m<module>\u001b[0;34m\u001b[0m\n\u001b[1;32m      1\u001b[0m \u001b[0mname\u001b[0m \u001b[0;34m=\u001b[0m \u001b[0;34m'Reuven'\u001b[0m\u001b[0;34m\u001b[0m\u001b[0;34m\u001b[0m\u001b[0m\n\u001b[0;32m----> 2\u001b[0;31m \u001b[0mprint\u001b[0m\u001b[0;34m(\u001b[0m\u001b[0mnaem\u001b[0m\u001b[0;34m)\u001b[0m\u001b[0;34m\u001b[0m\u001b[0;34m\u001b[0m\u001b[0m\n\u001b[0m",
      "\u001b[0;31mNameError\u001b[0m: name 'naem' is not defined"
     ]
    }
   ],
   "source": [
    "name = 'Reuven'\n",
    "print(naem)"
   ]
  },
  {
   "cell_type": "markdown",
   "id": "39dc5ebf-0415-4acf-ae46-ef2618100cbe",
   "metadata": {},
   "source": [
    "# Data structures"
   ]
  },
  {
   "cell_type": "code",
   "execution_count": 5,
   "id": "d89a4c03-bd5f-4068-9536-e2b32014b826",
   "metadata": {},
   "outputs": [],
   "source": [
    "x = None"
   ]
  },
  {
   "cell_type": "code",
   "execution_count": 7,
   "id": "0cb26e36-c91e-4b5d-93c3-1bf4475d28b5",
   "metadata": {},
   "outputs": [
    {
     "name": "stdout",
     "output_type": "stream",
     "text": [
      "None\n"
     ]
    }
   ],
   "source": [
    "print(x)"
   ]
  },
  {
   "cell_type": "code",
   "execution_count": 8,
   "id": "e1c268b3-9938-440c-896a-3f34b215474f",
   "metadata": {},
   "outputs": [],
   "source": [
    "x"
   ]
  },
  {
   "cell_type": "code",
   "execution_count": 9,
   "id": "81935911-3d26-4007-96ed-58ac9a05b816",
   "metadata": {},
   "outputs": [
    {
     "data": {
      "text/plain": [
       "NoneType"
      ]
     },
     "execution_count": 9,
     "metadata": {},
     "output_type": "execute_result"
    }
   ],
   "source": [
    "type(None)"
   ]
  },
  {
   "cell_type": "code",
   "execution_count": 10,
   "id": "d5fc7496-f59f-4174-ada0-66eb3dc14659",
   "metadata": {},
   "outputs": [],
   "source": [
    "x = None\n",
    "y = None\n",
    "z = None"
   ]
  },
  {
   "cell_type": "code",
   "execution_count": 12,
   "id": "4555338f-5430-42a4-9fa5-a903dd32fb45",
   "metadata": {},
   "outputs": [
    {
     "data": {
      "text/plain": [
       "True"
      ]
     },
     "execution_count": 12,
     "metadata": {},
     "output_type": "execute_result"
    }
   ],
   "source": [
    "# is x the same as None?\n",
    "\n",
    "x == None    # not Pythonic!"
   ]
  },
  {
   "cell_type": "code",
   "execution_count": 13,
   "id": "9ca02300-5f7b-4916-946e-58170f45defc",
   "metadata": {},
   "outputs": [],
   "source": [
    "# None is a singleton.  Every None is the same None."
   ]
  },
  {
   "cell_type": "code",
   "execution_count": 14,
   "id": "7abbb101-605e-465a-8738-68fdd94f6029",
   "metadata": {},
   "outputs": [
    {
     "data": {
      "text/plain": [
       "True"
      ]
     },
     "execution_count": 14,
     "metadata": {},
     "output_type": "execute_result"
    }
   ],
   "source": [
    "x = None\n",
    "y = None\n",
    "\n",
    "x is y   # this asks: are x and y both referring to precisely the same object?"
   ]
  },
  {
   "cell_type": "code",
   "execution_count": 15,
   "id": "0634273e-f71f-48ec-a745-83d14f00dfd7",
   "metadata": {},
   "outputs": [
    {
     "data": {
      "text/plain": [
       "True"
      ]
     },
     "execution_count": 15,
     "metadata": {},
     "output_type": "execute_result"
    }
   ],
   "source": [
    "# really, \"is\" is checking\n",
    "# every object has an id number in Python\n",
    "\n",
    "id(x) == id(y)    "
   ]
  },
  {
   "cell_type": "code",
   "execution_count": 16,
   "id": "5dde06f1-dc74-48b7-99c1-32cce8178477",
   "metadata": {},
   "outputs": [
    {
     "data": {
      "text/plain": [
       "4475355152"
      ]
     },
     "execution_count": 16,
     "metadata": {},
     "output_type": "execute_result"
    }
   ],
   "source": [
    "id(x)"
   ]
  },
  {
   "cell_type": "code",
   "execution_count": 17,
   "id": "90b5db6a-2f6d-4d2d-bb47-dab8e8e52382",
   "metadata": {},
   "outputs": [
    {
     "data": {
      "text/plain": [
       "4475355152"
      ]
     },
     "execution_count": 17,
     "metadata": {},
     "output_type": "execute_result"
    }
   ],
   "source": [
    "id(y)"
   ]
  },
  {
   "cell_type": "code",
   "execution_count": 18,
   "id": "ae2d3512-d854-48e6-9c53-b9782c218dd2",
   "metadata": {},
   "outputs": [],
   "source": [
    "# the ID of an object is... its location in memory."
   ]
  },
  {
   "cell_type": "code",
   "execution_count": 19,
   "id": "4f7d56fb-1e14-4694-b514-25549240be8e",
   "metadata": {},
   "outputs": [
    {
     "data": {
      "text/plain": [
       "'0x10ac08010'"
      ]
     },
     "execution_count": 19,
     "metadata": {},
     "output_type": "execute_result"
    }
   ],
   "source": [
    "hex(id(y))"
   ]
  },
  {
   "cell_type": "code",
   "execution_count": 20,
   "id": "357869d2-2b69-46bc-ad7b-524533b0b65e",
   "metadata": {},
   "outputs": [
    {
     "data": {
      "text/plain": [
       "True"
      ]
     },
     "execution_count": 20,
     "metadata": {},
     "output_type": "execute_result"
    }
   ],
   "source": [
    "x = 100\n",
    "y = 100\n",
    "\n",
    "x == y"
   ]
  },
  {
   "cell_type": "code",
   "execution_count": 21,
   "id": "0bcee833-5e65-4261-be61-7d8f5dd0d9ea",
   "metadata": {},
   "outputs": [
    {
     "data": {
      "text/plain": [
       "True"
      ]
     },
     "execution_count": 21,
     "metadata": {},
     "output_type": "execute_result"
    }
   ],
   "source": [
    "x is y  # are these the same object?"
   ]
  },
  {
   "cell_type": "code",
   "execution_count": 22,
   "id": "8dbe01a3-182f-4282-9be3-a55831368bc2",
   "metadata": {},
   "outputs": [
    {
     "data": {
      "text/plain": [
       "True"
      ]
     },
     "execution_count": 22,
     "metadata": {},
     "output_type": "execute_result"
    }
   ],
   "source": [
    "x = 10000\n",
    "y = 10000\n",
    "\n",
    "x == y"
   ]
  },
  {
   "cell_type": "code",
   "execution_count": 23,
   "id": "f19aae79-31f3-4a9b-82a5-d5d87549abab",
   "metadata": {},
   "outputs": [
    {
     "data": {
      "text/plain": [
       "False"
      ]
     },
     "execution_count": 23,
     "metadata": {},
     "output_type": "execute_result"
    }
   ],
   "source": [
    "x is y"
   ]
  },
  {
   "cell_type": "code",
   "execution_count": 24,
   "id": "f592f058-e060-42a4-be8d-2883a961ebbf",
   "metadata": {},
   "outputs": [],
   "source": [
    "# if you're using \"==\" to check values and \"is\" to see if objects are the same object, then this doesn't cause any trouble!\n",
    "# but... many people use \"is\" because they think it's more aesthetic, or faster, or nicer... "
   ]
  },
  {
   "cell_type": "markdown",
   "id": "9c03505f-7ae3-41d4-976d-eea26546ad6b",
   "metadata": {},
   "source": [
    "# Reuven's rule of `is`\n",
    "\n",
    "Only use it with `None`."
   ]
  },
  {
   "cell_type": "code",
   "execution_count": 25,
   "id": "4fd6125a-6c58-41d0-97d7-fba353b5752a",
   "metadata": {},
   "outputs": [
    {
     "data": {
      "text/plain": [
       "True"
      ]
     },
     "execution_count": 25,
     "metadata": {},
     "output_type": "execute_result"
    }
   ],
   "source": [
    "s = 'abcd'\n",
    "t = 'abcd'\n",
    "\n",
    "s == t"
   ]
  },
  {
   "cell_type": "code",
   "execution_count": 26,
   "id": "e6e3b464-27b1-4d1a-9f46-c9083ff2cecd",
   "metadata": {},
   "outputs": [
    {
     "data": {
      "text/plain": [
       "True"
      ]
     },
     "execution_count": 26,
     "metadata": {},
     "output_type": "execute_result"
    }
   ],
   "source": [
    "s is t"
   ]
  },
  {
   "cell_type": "code",
   "execution_count": 27,
   "id": "1d923c80-1148-4af5-8be9-e3769559264e",
   "metadata": {},
   "outputs": [
    {
     "data": {
      "text/plain": [
       "True"
      ]
     },
     "execution_count": 27,
     "metadata": {},
     "output_type": "execute_result"
    }
   ],
   "source": [
    "s = 'ab.cd'\n",
    "t = 'ab.cd'\n",
    "\n",
    "s == t"
   ]
  },
  {
   "cell_type": "code",
   "execution_count": 28,
   "id": "ad08f083-c59a-40a6-b74c-d79eb5b7f2d0",
   "metadata": {},
   "outputs": [
    {
     "data": {
      "text/plain": [
       "False"
      ]
     },
     "execution_count": 28,
     "metadata": {},
     "output_type": "execute_result"
    }
   ],
   "source": [
    "s is t"
   ]
  },
  {
   "cell_type": "code",
   "execution_count": 29,
   "id": "4593de2e-da0e-4358-8fb9-1cc03ddd12c5",
   "metadata": {},
   "outputs": [
    {
     "data": {
      "text/plain": [
       "True"
      ]
     },
     "execution_count": 29,
     "metadata": {},
     "output_type": "execute_result"
    }
   ],
   "source": [
    "s = 'abcde' * 100_000\n",
    "t = 'abcde' * 100_000\n",
    "\n",
    "s == t"
   ]
  },
  {
   "cell_type": "code",
   "execution_count": 30,
   "id": "b4ba66fc-c2ed-47b5-b484-e3622bc96637",
   "metadata": {},
   "outputs": [
    {
     "data": {
      "text/plain": [
       "False"
      ]
     },
     "execution_count": 30,
     "metadata": {},
     "output_type": "execute_result"
    }
   ],
   "source": [
    "s is t"
   ]
  },
  {
   "cell_type": "markdown",
   "id": "73bced31-250e-4c05-a8c2-91d5a0617c0b",
   "metadata": {},
   "source": [
    "# What's going on with strings as `==` vs `is`?\n",
    "\n",
    "Every time we use a variable in Python, Python turns that variable name into a string. It then uses that string to look up the variable in its internal dictionary of variables and values. (We can see that dict by calling the `globals()` function.)\n",
    "\n",
    "In order to speed this process up, and not create a huge number of strings that are then thrown away, Python caches all strings that are both short and legal variable names.  This caching is run by the `sys.intern` function.  The first time it sees a string, it creates the string.  Subsequent times, it reuses the same string."
   ]
  },
  {
   "cell_type": "code",
   "execution_count": 31,
   "id": "307a7670-3eea-4db0-8a18-3ae129d47ec7",
   "metadata": {},
   "outputs": [
    {
     "name": "stdout",
     "output_type": "stream",
     "text": [
      "Yes, it is None!\n"
     ]
    }
   ],
   "source": [
    "x = None\n",
    "\n",
    "if x is None:\n",
    "    print('Yes, it is None!')\n",
    "else:\n",
    "    print('No, it is not None!')"
   ]
  },
  {
   "cell_type": "code",
   "execution_count": 32,
   "id": "f0b422da-f0fa-4983-8cbf-75f3e8243f5c",
   "metadata": {},
   "outputs": [
    {
     "name": "stdout",
     "output_type": "stream",
     "text": [
      "No, it is False-ish!\n"
     ]
    }
   ],
   "source": [
    "x = None\n",
    "\n",
    "if x:\n",
    "    print('Yes, it is True-ish!')\n",
    "else:\n",
    "    print('No, it is False-ish!')"
   ]
  },
  {
   "cell_type": "code",
   "execution_count": 33,
   "id": "397a932f-fca0-4153-a689-3f5e852ae25d",
   "metadata": {},
   "outputs": [
    {
     "data": {
      "text/plain": [
       "False"
      ]
     },
     "execution_count": 33,
     "metadata": {},
     "output_type": "execute_result"
    }
   ],
   "source": [
    "None == False"
   ]
  },
  {
   "cell_type": "markdown",
   "id": "b39f377a-7381-4818-a820-fe6db3203ac4",
   "metadata": {},
   "source": [
    "# What is `True` in Python?\n",
    "\n",
    "Every expression, in a boolean context, is `True` in Python... except for:\n",
    "\n",
    "- `None`\n",
    "- `False`\n",
    "- 0 (of any numeric type)\n",
    "- anything empty (meaning: `''`, `[]`, `()`, `{}`)"
   ]
  },
  {
   "cell_type": "code",
   "execution_count": 34,
   "id": "dc631398-b9bb-4f90-a635-b83f84c1f31e",
   "metadata": {},
   "outputs": [
    {
     "name": "stdin",
     "output_type": "stream",
     "text": [
      "Enter your name:  world\n"
     ]
    },
    {
     "name": "stdout",
     "output_type": "stream",
     "text": [
      "Hello, world!\n"
     ]
    },
    {
     "name": "stdin",
     "output_type": "stream",
     "text": [
      "Enter your name:  Reuven\n"
     ]
    },
    {
     "name": "stdout",
     "output_type": "stream",
     "text": [
      "Hello, Reuven!\n"
     ]
    },
    {
     "name": "stdin",
     "output_type": "stream",
     "text": [
      "Enter your name:  \n"
     ]
    }
   ],
   "source": [
    "while True:\n",
    "    name = input('Enter your name: ').strip()\n",
    "    \n",
    "    if not name:   # if we got an empty string\n",
    "        break\n",
    "        \n",
    "    print(f'Hello, {name}!')"
   ]
  },
  {
   "cell_type": "code",
   "execution_count": 35,
   "id": "24bb80a8-da0d-4e65-b7a5-2b1f228e0afb",
   "metadata": {},
   "outputs": [
    {
     "ename": "SyntaxError",
     "evalue": "invalid syntax. Maybe you meant '==' or ':=' instead of '='? (3166419494.py, line 1)",
     "output_type": "error",
     "traceback": [
      "\u001b[0;36m  File \u001b[0;32m\"/var/folders/rr/0mnyyv811fs5vyp22gf4fxk00000gn/T/ipykernel_19718/3166419494.py\"\u001b[0;36m, line \u001b[0;32m1\u001b[0m\n\u001b[0;31m    while name = input('Enter your name: ').strip():\u001b[0m\n\u001b[0m          ^\u001b[0m\n\u001b[0;31mSyntaxError\u001b[0m\u001b[0;31m:\u001b[0m invalid syntax. Maybe you meant '==' or ':=' instead of '='?\n"
     ]
    }
   ],
   "source": [
    "# Assignment in Python is *not* an expression\n",
    "# Meaning: Assignment doesn't return any value from it\n",
    "\n",
    "while name = input('Enter your name: ').strip():\n",
    "    \n",
    "    print(f'Hello, {name}!')"
   ]
  },
  {
   "cell_type": "code",
   "execution_count": 36,
   "id": "bb87b567-c5bd-4d8e-8f79-8c1bc4e4447c",
   "metadata": {},
   "outputs": [
    {
     "name": "stdin",
     "output_type": "stream",
     "text": [
      "Enter your name:  world\n"
     ]
    },
    {
     "name": "stdout",
     "output_type": "stream",
     "text": [
      "Hello, world!\n"
     ]
    },
    {
     "name": "stdin",
     "output_type": "stream",
     "text": [
      "Enter your name:  asdfsaf\n"
     ]
    },
    {
     "name": "stdout",
     "output_type": "stream",
     "text": [
      "Hello, asdfsaf!\n"
     ]
    },
    {
     "name": "stdin",
     "output_type": "stream",
     "text": [
      "Enter your name:  Reuven\n"
     ]
    },
    {
     "name": "stdout",
     "output_type": "stream",
     "text": [
      "Hello, Reuven!\n"
     ]
    },
    {
     "name": "stdin",
     "output_type": "stream",
     "text": [
      "Enter your name:  \n"
     ]
    }
   ],
   "source": [
    "# As of Python 3.8, we have the \"assignment expression\" operator, :=\n",
    "# also known as \"the walrus\"\n",
    "\n",
    "# input returns a string\n",
    "# str.strip returns a string\n",
    "# that string is assigned to name\n",
    "# because of :=, the assignment returns a string (whatever was assigned to \"name\")\n",
    "# then \"while\" looks to its right, and sees a string, and turns it into a boolean: False for empty strings, True for all others\n",
    "\n",
    "while name := input('Enter your name: ').strip():\n",
    "    \n",
    "    print(f'Hello, {name}!')"
   ]
  },
  {
   "cell_type": "code",
   "execution_count": 38,
   "id": "b6077129-0931-4852-9205-2b1dfd89f4bc",
   "metadata": {},
   "outputs": [],
   "source": [
    "# please don't do this\n",
    "if x := 5:\n",
    "    pass"
   ]
  },
  {
   "cell_type": "code",
   "execution_count": 39,
   "id": "87aa3e48-1146-4470-bc7a-d74e73f09e75",
   "metadata": {},
   "outputs": [
    {
     "data": {
      "text/plain": [
       "5"
      ]
     },
     "execution_count": 39,
     "metadata": {},
     "output_type": "execute_result"
    }
   ],
   "source": [
    "x"
   ]
  },
  {
   "cell_type": "markdown",
   "id": "bffc87d6-1f4a-44ff-b9d3-8731e2409dbb",
   "metadata": {},
   "source": [
    "# Numbers!\n",
    "\n",
    "Python has three types of numbers:\n",
    "\n",
    "- Integers\n",
    "- Floats\n",
    "- Complex"
   ]
  },
  {
   "cell_type": "code",
   "execution_count": 40,
   "id": "e051d76f-b905-4104-96be-4baa8bae7f41",
   "metadata": {},
   "outputs": [
    {
     "data": {
      "text/plain": [
       "int"
      ]
     },
     "execution_count": 40,
     "metadata": {},
     "output_type": "execute_result"
    }
   ],
   "source": [
    "x = 100  # this is an integer\n",
    "type(x)"
   ]
  },
  {
   "cell_type": "code",
   "execution_count": 41,
   "id": "0c9e5efb-5812-4119-9938-ed90facfc00f",
   "metadata": {},
   "outputs": [],
   "source": [
    "# what is the largest int we can get in Python?\n",
    "# or: How many bits are in Python integers?\n",
    "\n",
    "# Answer: There is no limit, bits are irrelevant"
   ]
  },
  {
   "cell_type": "code",
   "execution_count": 43,
   "id": "39541ad3-3cf2-436a-97c6-e986034a1e46",
   "metadata": {},
   "outputs": [
    {
     "data": {
      "text/plain": [
       "24"
      ]
     },
     "execution_count": 43,
     "metadata": {},
     "output_type": "execute_result"
    }
   ],
   "source": [
    "import sys\n",
    "\n",
    "x = 0\n",
    "sys.getsizeof(x)   # 24 bytes for an integer! Zero!"
   ]
  },
  {
   "cell_type": "code",
   "execution_count": 44,
   "id": "d67c1030-7e25-4a80-8005-42cfc914276d",
   "metadata": {},
   "outputs": [
    {
     "data": {
      "text/plain": [
       "28"
      ]
     },
     "execution_count": 44,
     "metadata": {},
     "output_type": "execute_result"
    }
   ],
   "source": [
    "x = 1\n",
    "sys.getsizeof(x)"
   ]
  },
  {
   "cell_type": "code",
   "execution_count": 45,
   "id": "ab211a8d-ac15-42d9-b332-2c5e22162c1c",
   "metadata": {},
   "outputs": [
    {
     "data": {
      "text/plain": [
       "28"
      ]
     },
     "execution_count": 45,
     "metadata": {},
     "output_type": "execute_result"
    }
   ],
   "source": [
    "x = 1000\n",
    "sys.getsizeof(x)"
   ]
  },
  {
   "cell_type": "code",
   "execution_count": 46,
   "id": "fdd9022c-1397-4c7f-a540-d37953440f72",
   "metadata": {},
   "outputs": [
    {
     "data": {
      "text/plain": [
       "1356"
      ]
     },
     "execution_count": 46,
     "metadata": {},
     "output_type": "execute_result"
    }
   ],
   "source": [
    "x = x ** 1000 \n",
    "sys.getsizeof(x)"
   ]
  },
  {
   "cell_type": "code",
   "execution_count": 47,
   "id": "44085c34-a4e3-4aa1-ba19-62b5633b966a",
   "metadata": {},
   "outputs": [
    {
     "data": {
      "text/plain": [
       "1328796"
      ]
     },
     "execution_count": 47,
     "metadata": {},
     "output_type": "execute_result"
    }
   ],
   "source": [
    "x = x ** 1000\n",
    "sys.getsizeof(x)"
   ]
  },
  {
   "cell_type": "code",
   "execution_count": 48,
   "id": "6ca64d2c-2444-4b77-9378-3e1e8d64f5d1",
   "metadata": {},
   "outputs": [
    {
     "data": {
      "text/plain": [
       "12345"
      ]
     },
     "execution_count": 48,
     "metadata": {},
     "output_type": "execute_result"
    }
   ],
   "source": [
    "s = '12345'\n",
    "\n",
    "int(s)   # creates a new instance of int, based on s"
   ]
  },
  {
   "cell_type": "code",
   "execution_count": 49,
   "id": "f9422eb1-3a37-40d6-9105-a2a1d7e0af49",
   "metadata": {},
   "outputs": [
    {
     "data": {
      "text/plain": [
       "74565"
      ]
     },
     "execution_count": 49,
     "metadata": {},
     "output_type": "execute_result"
    }
   ],
   "source": [
    "# no no no  s is actually a hex number\n",
    "\n",
    "int(s, 16)  # intepret s as hex"
   ]
  },
  {
   "cell_type": "code",
   "execution_count": 50,
   "id": "00545644-695d-45e8-b440-970e2a347550",
   "metadata": {},
   "outputs": [
    {
     "data": {
      "text/plain": [
       "5349"
      ]
     },
     "execution_count": 50,
     "metadata": {},
     "output_type": "execute_result"
    }
   ],
   "source": [
    "int(s, 8) # interpret as octal"
   ]
  },
  {
   "cell_type": "code",
   "execution_count": 51,
   "id": "5912a0a6-721d-435a-9757-5151d175870e",
   "metadata": {},
   "outputs": [
    {
     "data": {
      "text/plain": [
       "int"
      ]
     },
     "execution_count": 51,
     "metadata": {},
     "output_type": "execute_result"
    }
   ],
   "source": [
    "# floats \n",
    "\n",
    "type(1)"
   ]
  },
  {
   "cell_type": "code",
   "execution_count": 52,
   "id": "a0f6697b-9371-4465-ba97-d9cc7b3cb692",
   "metadata": {},
   "outputs": [
    {
     "data": {
      "text/plain": [
       "float"
      ]
     },
     "execution_count": 52,
     "metadata": {},
     "output_type": "execute_result"
    }
   ],
   "source": [
    "type(1.0)"
   ]
  },
  {
   "cell_type": "code",
   "execution_count": 53,
   "id": "a5adf663-d8da-4d48-b68e-ff5e16e3865f",
   "metadata": {},
   "outputs": [
    {
     "data": {
      "text/plain": [
       "0.30000000000000004"
      ]
     },
     "execution_count": 53,
     "metadata": {},
     "output_type": "execute_result"
    }
   ],
   "source": [
    "0.1 + 0.2"
   ]
  },
  {
   "cell_type": "markdown",
   "id": "0e3ad381-0dd4-4bfe-a142-503e3703995d",
   "metadata": {},
   "source": [
    "# Dealing with floats \n",
    "\n",
    "1. OK, floats are inaccurate. Nothing to do about it.\n",
    "2. Use the `round` function to round everything: `round(x, 2)` will return `x` with only 2 digits after the decimal point.\n",
    "3. Use integers, which don't have this issue, and then just talk about cents/pence.  So you'd use 100 instead of 1.00, and avoid the problem.\n",
    "4. Use BCD (binary coded decimals).  In other words: Store decimal numbers, and do decimal math. (Using the `Decimal` class in the `decimal` module)"
   ]
  },
  {
   "cell_type": "code",
   "execution_count": 54,
   "id": "f260963b-d0bc-44f8-a556-479ea5e53a56",
   "metadata": {},
   "outputs": [
    {
     "data": {
      "text/plain": [
       "Decimal('0.3')"
      ]
     },
     "execution_count": 54,
     "metadata": {},
     "output_type": "execute_result"
    }
   ],
   "source": [
    "from decimal import Decimal\n",
    "\n",
    "x = Decimal('0.1')\n",
    "y = Decimal('0.2')\n",
    "\n",
    "x + y"
   ]
  },
  {
   "cell_type": "code",
   "execution_count": 55,
   "id": "72064b49-a68a-4532-bb2c-3a81753a8b06",
   "metadata": {},
   "outputs": [
    {
     "data": {
      "text/plain": [
       "0.3"
      ]
     },
     "execution_count": 55,
     "metadata": {},
     "output_type": "execute_result"
    }
   ],
   "source": [
    "float(x+y)"
   ]
  },
  {
   "cell_type": "code",
   "execution_count": 56,
   "id": "8581a7ca-9310-4620-b444-485bc64f3d04",
   "metadata": {},
   "outputs": [
    {
     "data": {
      "text/plain": [
       "Decimal('0.3000000000000000166533453694')"
      ]
     },
     "execution_count": 56,
     "metadata": {},
     "output_type": "execute_result"
    }
   ],
   "source": [
    "# if you use decimal.Decimal, create your objects using strings, not floats!\n",
    "\n",
    "x = Decimal(0.1)\n",
    "y = Decimal(0.2)\n",
    "\n",
    "x + y"
   ]
  },
  {
   "cell_type": "code",
   "execution_count": 57,
   "id": "ad89e601-78b9-45c8-bd01-a39edbff50bb",
   "metadata": {},
   "outputs": [
    {
     "data": {
      "text/plain": [
       "Decimal('0.1000000000000000055511151231257827021181583404541015625')"
      ]
     },
     "execution_count": 57,
     "metadata": {},
     "output_type": "execute_result"
    }
   ],
   "source": [
    "x"
   ]
  },
  {
   "cell_type": "code",
   "execution_count": 58,
   "id": "278ae4ed-7916-4d17-bea6-e26d87aa7057",
   "metadata": {},
   "outputs": [
    {
     "data": {
      "text/plain": [
       "Decimal('0.200000000000000011102230246251565404236316680908203125')"
      ]
     },
     "execution_count": 58,
     "metadata": {},
     "output_type": "execute_result"
    }
   ],
   "source": [
    "y"
   ]
  },
  {
   "cell_type": "code",
   "execution_count": 59,
   "id": "149f8e79-23c6-4310-9ade-5fd508286d9e",
   "metadata": {},
   "outputs": [],
   "source": [
    "# Complex \n",
    "\n",
    "x = 10+3j\n",
    "y = 5-8j"
   ]
  },
  {
   "cell_type": "code",
   "execution_count": 61,
   "id": "de09f63e-19f1-454a-bef9-013c26d28c82",
   "metadata": {},
   "outputs": [
    {
     "data": {
      "text/plain": [
       "(15-5j)"
      ]
     },
     "execution_count": 61,
     "metadata": {},
     "output_type": "execute_result"
    }
   ],
   "source": [
    "x+y"
   ]
  },
  {
   "cell_type": "code",
   "execution_count": 62,
   "id": "137e6087-0df1-45c5-b65e-30cb1c105c5b",
   "metadata": {},
   "outputs": [
    {
     "data": {
      "text/plain": [
       "(74-65j)"
      ]
     },
     "execution_count": 62,
     "metadata": {},
     "output_type": "execute_result"
    }
   ],
   "source": [
    "x*y"
   ]
  },
  {
   "cell_type": "markdown",
   "id": "b4047baf-d9fe-4a6a-8641-152a51a5e930",
   "metadata": {},
   "source": [
    "# Strings\n",
    "\n",
    "- Strings are immutable!\n",
    "- Strings use Unicode!"
   ]
  },
  {
   "cell_type": "code",
   "execution_count": 63,
   "id": "bbabfdef-808c-4af6-9e9f-d4cd1881ad70",
   "metadata": {},
   "outputs": [
    {
     "data": {
      "text/plain": [
       "'a'"
      ]
     },
     "execution_count": 63,
     "metadata": {},
     "output_type": "execute_result"
    }
   ],
   "source": [
    "s = 'abcdefghij'\n",
    "s[0]"
   ]
  },
  {
   "cell_type": "code",
   "execution_count": 64,
   "id": "eb9b4303-967f-41de-b841-424fda5495c1",
   "metadata": {},
   "outputs": [
    {
     "ename": "TypeError",
     "evalue": "'str' object does not support item assignment",
     "output_type": "error",
     "traceback": [
      "\u001b[0;31m---------------------------------------------------------------------------\u001b[0m",
      "\u001b[0;31mTypeError\u001b[0m                                 Traceback (most recent call last)",
      "\u001b[0;32m/var/folders/rr/0mnyyv811fs5vyp22gf4fxk00000gn/T/ipykernel_19718/3948101549.py\u001b[0m in \u001b[0;36m<module>\u001b[0;34m\u001b[0m\n\u001b[0;32m----> 1\u001b[0;31m \u001b[0ms\u001b[0m\u001b[0;34m[\u001b[0m\u001b[0;36m0\u001b[0m\u001b[0;34m]\u001b[0m \u001b[0;34m=\u001b[0m \u001b[0;34m'!'\u001b[0m  \u001b[0;31m# this won't work -- strings are immutable!\u001b[0m\u001b[0;34m\u001b[0m\u001b[0;34m\u001b[0m\u001b[0m\n\u001b[0m",
      "\u001b[0;31mTypeError\u001b[0m: 'str' object does not support item assignment"
     ]
    }
   ],
   "source": [
    "s[0] = '!'  # this won't work -- strings are immutable!"
   ]
  },
  {
   "cell_type": "code",
   "execution_count": 65,
   "id": "3cbf1537-da92-40b5-8032-8c6356084736",
   "metadata": {},
   "outputs": [
    {
     "data": {
      "text/plain": [
       "'abcdefghijklmnop'"
      ]
     },
     "execution_count": 65,
     "metadata": {},
     "output_type": "execute_result"
    }
   ],
   "source": [
    "# but wait ... what about\n",
    "\n",
    "x = 'abcdefghij'\n",
    "x += 'klmnop'  # same as saying x = x + 'klmnop'\n",
    "\n",
    "x"
   ]
  },
  {
   "cell_type": "code",
   "execution_count": 66,
   "id": "5a216a3c-fc93-4cfd-8272-3425c479e0ae",
   "metadata": {},
   "outputs": [
    {
     "data": {
      "text/plain": [
       "4"
      ]
     },
     "execution_count": 66,
     "metadata": {},
     "output_type": "execute_result"
    }
   ],
   "source": [
    "s = 'שלום'\n",
    "len(s)"
   ]
  },
  {
   "cell_type": "code",
   "execution_count": 67,
   "id": "db11fbad-7fe2-4915-a1fa-09574388f0de",
   "metadata": {},
   "outputs": [
    {
     "name": "stdout",
     "output_type": "stream",
     "text": [
      "ש\n"
     ]
    }
   ],
   "source": [
    "print(s[0])"
   ]
  },
  {
   "cell_type": "code",
   "execution_count": 68,
   "id": "13e8caed-ce97-4903-8f4c-586404831154",
   "metadata": {},
   "outputs": [
    {
     "data": {
      "text/plain": [
       "b'\\xd7\\xa9\\xd7\\x9c\\xd7\\x95\\xd7\\x9d'"
      ]
     },
     "execution_count": 68,
     "metadata": {},
     "output_type": "execute_result"
    }
   ],
   "source": [
    "# how can I work with bytes, if I'm stuck using characters?\n",
    "# meaning: All strings in Python must be legit UTF-8 (Unicode characters)\n",
    "\n",
    "# we have a second string type in Python: bytes\n",
    "\n",
    "s.encode()  # give me a byte string based on the characters in s"
   ]
  },
  {
   "cell_type": "code",
   "execution_count": 69,
   "id": "81b8c5b5-5d9c-47d5-9c10-94c8fabbf175",
   "metadata": {},
   "outputs": [
    {
     "data": {
      "text/plain": [
       "b'hello'"
      ]
     },
     "execution_count": 69,
     "metadata": {},
     "output_type": "execute_result"
    }
   ],
   "source": [
    "s = 'hello'\n",
    "s.encode()"
   ]
  },
  {
   "cell_type": "code",
   "execution_count": 70,
   "id": "0c38909a-4bde-4ed5-beb4-494adfe01cb3",
   "metadata": {},
   "outputs": [],
   "source": [
    "b = s.encode()"
   ]
  },
  {
   "cell_type": "code",
   "execution_count": 71,
   "id": "fe710344-7c85-47bf-8d5d-90fa6f65b7d6",
   "metadata": {},
   "outputs": [
    {
     "data": {
      "text/plain": [
       "104"
      ]
     },
     "execution_count": 71,
     "metadata": {},
     "output_type": "execute_result"
    }
   ],
   "source": [
    "b[0]"
   ]
  },
  {
   "cell_type": "code",
   "execution_count": 72,
   "id": "be9b7d83-d337-4fae-ae5c-8f53adb1e754",
   "metadata": {},
   "outputs": [
    {
     "data": {
      "text/plain": [
       "'hello'"
      ]
     },
     "execution_count": 72,
     "metadata": {},
     "output_type": "execute_result"
    }
   ],
   "source": [
    "b.decode()   # return a string, based on the bytes"
   ]
  },
  {
   "cell_type": "code",
   "execution_count": 73,
   "id": "82674f56-a4e1-4ab6-b4c2-fdc5aba2a7c9",
   "metadata": {},
   "outputs": [
    {
     "data": {
      "text/plain": [
       "b'hello'"
      ]
     },
     "execution_count": 73,
     "metadata": {},
     "output_type": "execute_result"
    }
   ],
   "source": [
    "s.encode()   # return a byte string, based on the characters"
   ]
  },
  {
   "cell_type": "code",
   "execution_count": 74,
   "id": "0ca6ef99-a0a1-4d7f-af86-a6a4ff261dc4",
   "metadata": {},
   "outputs": [
    {
     "data": {
      "text/plain": [
       "b'hello'"
      ]
     },
     "execution_count": 74,
     "metadata": {},
     "output_type": "execute_result"
    }
   ],
   "source": [
    "b'hello'"
   ]
  },
  {
   "cell_type": "code",
   "execution_count": 75,
   "id": "52e5324b-34ea-4b9a-8e4e-87ff7cd1a6eb",
   "metadata": {},
   "outputs": [
    {
     "ename": "SyntaxError",
     "evalue": "bytes can only contain ASCII literal characters (2953791869.py, line 1)",
     "output_type": "error",
     "traceback": [
      "\u001b[0;36m  File \u001b[0;32m\"/var/folders/rr/0mnyyv811fs5vyp22gf4fxk00000gn/T/ipykernel_19718/2953791869.py\"\u001b[0;36m, line \u001b[0;32m1\u001b[0m\n\u001b[0;31m    b'שלום'\u001b[0m\n\u001b[0m           ^\u001b[0m\n\u001b[0;31mSyntaxError\u001b[0m\u001b[0;31m:\u001b[0m bytes can only contain ASCII literal characters\n"
     ]
    }
   ],
   "source": [
    "b'שלום'"
   ]
  },
  {
   "cell_type": "code",
   "execution_count": 76,
   "id": "5c6c1f3e-373d-4e10-a8cf-3a8de6a35e0e",
   "metadata": {},
   "outputs": [
    {
     "data": {
      "text/plain": [
       "['abcd', 'ef', 'ghi', 'kjl']"
      ]
     },
     "execution_count": 76,
     "metadata": {},
     "output_type": "execute_result"
    }
   ],
   "source": [
    "# split and join\n",
    "\n",
    "# split is a string method that returns a list of strings\n",
    "\n",
    "s = 'abcd|ef|ghi|kjl'\n",
    "s.split('|')  "
   ]
  },
  {
   "cell_type": "code",
   "execution_count": 77,
   "id": "7941bcd8-7bbc-4e72-a430-f2198dba78fb",
   "metadata": {},
   "outputs": [
    {
     "data": {
      "text/plain": [
       "['this', 'is', 'a', 'bunch', 'of', 'words']"
      ]
     },
     "execution_count": 77,
     "metadata": {},
     "output_type": "execute_result"
    }
   ],
   "source": [
    "s = 'this is a bunch of words'\n",
    "s.split(' ')"
   ]
  },
  {
   "cell_type": "code",
   "execution_count": 78,
   "id": "3342cfe3-12c9-44c4-a8d9-4ae98c0af6d9",
   "metadata": {},
   "outputs": [
    {
     "data": {
      "text/plain": [
       "['this', '', '', 'is', 'a', '', '', '', 'bunch', 'of', '', 'words']"
      ]
     },
     "execution_count": 78,
     "metadata": {},
     "output_type": "execute_result"
    }
   ],
   "source": [
    "# Python split our string on every single space character...\n",
    "\n",
    "s = 'this   is a    bunch of  words'\n",
    "s.split(' ') "
   ]
  },
  {
   "cell_type": "code",
   "execution_count": 79,
   "id": "e72b2190-29b2-4258-aedd-c2ee9d6734f7",
   "metadata": {},
   "outputs": [
    {
     "data": {
      "text/plain": [
       "['this', 'is', 'a', 'bunch', 'of', 'words']"
      ]
     },
     "execution_count": 79,
     "metadata": {},
     "output_type": "execute_result"
    }
   ],
   "source": [
    "# we avoid this by passing *NO* argument to str.split\n",
    "\n",
    "s.split()  # split on any number of whitespace characters in a row (space, \\t, \\n, \\r, \\v)"
   ]
  },
  {
   "cell_type": "code",
   "execution_count": 80,
   "id": "9093899e-4dd9-4004-9b29-a262585e0daa",
   "metadata": {},
   "outputs": [
    {
     "data": {
      "text/plain": [
       "['this', 'is', 'a', 'bunch', 'of', 'words']"
      ]
     },
     "execution_count": 80,
     "metadata": {},
     "output_type": "execute_result"
    }
   ],
   "source": [
    "words = s.split()\n",
    "words"
   ]
  },
  {
   "cell_type": "code",
   "execution_count": 81,
   "id": "f8bdc343-aa08-47ff-bcfd-84d65d7c5457",
   "metadata": {},
   "outputs": [
    {
     "data": {
      "text/plain": [
       "'this*is*a*bunch*of*words'"
      ]
     },
     "execution_count": 81,
     "metadata": {},
     "output_type": "execute_result"
    }
   ],
   "source": [
    "# how can I put them back together?\n",
    "# str.join\n",
    "\n",
    "'*'.join(words)   "
   ]
  },
  {
   "cell_type": "code",
   "execution_count": 82,
   "id": "8077d4bf-e9ad-499e-818a-d309c6c132ce",
   "metadata": {},
   "outputs": [
    {
     "data": {
      "text/plain": [
       "'this is a bunch of words'"
      ]
     },
     "execution_count": 82,
     "metadata": {},
     "output_type": "execute_result"
    }
   ],
   "source": [
    "' '.join(words)"
   ]
  },
  {
   "cell_type": "markdown",
   "id": "35f2f8b5-0636-4d23-be4d-d12f098104b2",
   "metadata": {},
   "source": [
    "# Exercise: Pig Latin sentence\n",
    "\n",
    "1. Pig Latin is a \"secret\" language used by children in the English-speaking world (especially the US). The rules are:\n",
    "    - If a word starts with a vowel (a, e, i, o, or u) then we add `way` to it\n",
    "    - If a word starts with anything else, then we move the first letter to the end, and add `ay`.\n",
    "2. For this exercise, ask the user to enter a sentence (all lowercase, no punctuation)\n",
    "3. Print the entire sentence, translated into Pig Latin, word by word, on one line.\n",
    "\n",
    "Examples:\n",
    "\n",
    "    Enter a sentence: this is a test\n",
    "    histay isway away esttay\n",
    "    \n",
    "    Enter a sentence: this papaya is delicious\n",
    "    histay apayapay isway eliciousday\n",
    "    \n",
    "    "
   ]
  },
  {
   "cell_type": "code",
   "execution_count": 83,
   "id": "9c04b4a1-7bcb-4cd1-b594-79cbb8f83d9e",
   "metadata": {},
   "outputs": [
    {
     "name": "stdout",
     "output_type": "stream",
     "text": [
      "abc\n",
      "def\n",
      "\n"
     ]
    }
   ],
   "source": [
    "s = 'abc\\ndef\\n'\n",
    "print(s)"
   ]
  },
  {
   "cell_type": "code",
   "execution_count": 84,
   "id": "9b240d4b-8327-4821-886f-2e32f4b950c2",
   "metadata": {},
   "outputs": [
    {
     "name": "stdin",
     "output_type": "stream",
     "text": [
      "Enter a string: abc\n"
     ]
    }
   ],
   "source": [
    "s = input('Enter a string:')"
   ]
  },
  {
   "cell_type": "code",
   "execution_count": null,
   "id": "f2eaa517-5069-4f80-8d5a-1d1d7ed86c91",
   "metadata": {},
   "outputs": [],
   "source": []
  }
 ],
 "metadata": {
  "kernelspec": {
   "display_name": "Python 3 (ipykernel)",
   "language": "python",
   "name": "python3"
  },
  "language_info": {
   "codemirror_mode": {
    "name": "ipython",
    "version": 3
   },
   "file_extension": ".py",
   "mimetype": "text/x-python",
   "name": "python",
   "nbconvert_exporter": "python",
   "pygments_lexer": "ipython3",
   "version": "3.10.0"
  }
 },
 "nbformat": 4,
 "nbformat_minor": 5
}
