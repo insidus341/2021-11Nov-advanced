{
 "cells": [
  {
   "cell_type": "markdown",
   "id": "88885e73-adf4-42a7-a983-798ea8dc5d9a",
   "metadata": {},
   "source": [
    "# Agenda\n",
    "\n",
    "1. Data structures (Monday)\n",
    "    - Built-in data strucures (behind the scenes)\n",
    "    - Advanced data structures (`namedtuple`, `Counter`, etc. from the `collections` module)\n",
    "2. Functions (Monday + Tuesday)\n",
    "    - Function objects\n",
    "    - Parameters\n",
    "    - Mapping arguments to parameters\n",
    "    - LEGB rule for variable lookup + scoping\n",
    "    - Inner functions + closures\n",
    "    - Storing functions as objects\n",
    "3. Functional programming (Tuesday)\n",
    "    - Comprehensions\n",
    "    - Passing functions as arguments to other functions\n",
    "    - `lambda` and similar functional-programming systems\n",
    "4. Modules + packages (Tuesday + Wednesday)\n",
    "    - How modules work\n",
    "    - Packages vs. modules\n",
    "    - PyPI\n",
    "5. Objects (Wednesday)\n",
    "    - What are objects?\n",
    "    - Classes, methods, instances\n",
    "    - Inheritance\n",
    "    - Attributes -- one of the most important things you can learn in Python!\n",
    "    - ICPO rule for attribute lookup\n",
    "    - Magic methods\n",
    "    - Properties\n",
    "    - Descriptors    \n",
    "6. Iterators + generators (Thursday)\n",
    "    - Iterator protocol\n",
    "    - Adding iteration to a class\n",
    "    - Generator functions\n",
    "    - Generator comprehensions\n",
    "7. Decorators (Thursday)\n",
    "    - What are they?\n",
    "    - Writing decorators \n",
    "8. Concurrency (threads + processes) (Thursday)\n",
    "    - Multithreading in Python\n",
    "    - Multiprocessing "
   ]
  },
  {
   "cell_type": "code",
   "execution_count": 1,
   "id": "0ac45a16-fcb3-4828-8aec-930b094a45b9",
   "metadata": {},
   "outputs": [
    {
     "data": {
      "text/plain": [
       "'3.10.0 (default, Oct 13 2021, 06:45:00) [Clang 13.0.0 (clang-1300.0.29.3)]'"
      ]
     },
     "execution_count": 1,
     "metadata": {},
     "output_type": "execute_result"
    }
   ],
   "source": [
    "import sys\n",
    "sys.version"
   ]
  },
  {
   "cell_type": "code",
   "execution_count": 4,
   "id": "c0e26905-1697-4c9a-91f7-14c482006ce6",
   "metadata": {},
   "outputs": [
    {
     "ename": "NameError",
     "evalue": "name 'naem' is not defined",
     "output_type": "error",
     "traceback": [
      "\u001b[0;31m---------------------------------------------------------------------------\u001b[0m",
      "\u001b[0;31mNameError\u001b[0m                                 Traceback (most recent call last)",
      "\u001b[0;32m/var/folders/rr/0mnyyv811fs5vyp22gf4fxk00000gn/T/ipykernel_19718/162852798.py\u001b[0m in \u001b[0;36m<module>\u001b[0;34m\u001b[0m\n\u001b[1;32m      1\u001b[0m \u001b[0mname\u001b[0m \u001b[0;34m=\u001b[0m \u001b[0;34m'Reuven'\u001b[0m\u001b[0;34m\u001b[0m\u001b[0;34m\u001b[0m\u001b[0m\n\u001b[0;32m----> 2\u001b[0;31m \u001b[0mprint\u001b[0m\u001b[0;34m(\u001b[0m\u001b[0mnaem\u001b[0m\u001b[0;34m)\u001b[0m\u001b[0;34m\u001b[0m\u001b[0;34m\u001b[0m\u001b[0m\n\u001b[0m",
      "\u001b[0;31mNameError\u001b[0m: name 'naem' is not defined"
     ]
    }
   ],
   "source": [
    "name = 'Reuven'\n",
    "print(naem)"
   ]
  },
  {
   "cell_type": "markdown",
   "id": "39dc5ebf-0415-4acf-ae46-ef2618100cbe",
   "metadata": {},
   "source": [
    "# Data structures"
   ]
  },
  {
   "cell_type": "code",
   "execution_count": 5,
   "id": "d89a4c03-bd5f-4068-9536-e2b32014b826",
   "metadata": {},
   "outputs": [],
   "source": [
    "x = None"
   ]
  },
  {
   "cell_type": "code",
   "execution_count": 7,
   "id": "0cb26e36-c91e-4b5d-93c3-1bf4475d28b5",
   "metadata": {},
   "outputs": [
    {
     "name": "stdout",
     "output_type": "stream",
     "text": [
      "None\n"
     ]
    }
   ],
   "source": [
    "print(x)"
   ]
  },
  {
   "cell_type": "code",
   "execution_count": 8,
   "id": "e1c268b3-9938-440c-896a-3f34b215474f",
   "metadata": {},
   "outputs": [],
   "source": [
    "x"
   ]
  },
  {
   "cell_type": "code",
   "execution_count": 9,
   "id": "81935911-3d26-4007-96ed-58ac9a05b816",
   "metadata": {},
   "outputs": [
    {
     "data": {
      "text/plain": [
       "NoneType"
      ]
     },
     "execution_count": 9,
     "metadata": {},
     "output_type": "execute_result"
    }
   ],
   "source": [
    "type(None)"
   ]
  },
  {
   "cell_type": "code",
   "execution_count": 10,
   "id": "d5fc7496-f59f-4174-ada0-66eb3dc14659",
   "metadata": {},
   "outputs": [],
   "source": [
    "x = None\n",
    "y = None\n",
    "z = None"
   ]
  },
  {
   "cell_type": "code",
   "execution_count": 12,
   "id": "4555338f-5430-42a4-9fa5-a903dd32fb45",
   "metadata": {},
   "outputs": [
    {
     "data": {
      "text/plain": [
       "True"
      ]
     },
     "execution_count": 12,
     "metadata": {},
     "output_type": "execute_result"
    }
   ],
   "source": [
    "# is x the same as None?\n",
    "\n",
    "x == None    # not Pythonic!"
   ]
  },
  {
   "cell_type": "code",
   "execution_count": 13,
   "id": "9ca02300-5f7b-4916-946e-58170f45defc",
   "metadata": {},
   "outputs": [],
   "source": [
    "# None is a singleton.  Every None is the same None."
   ]
  },
  {
   "cell_type": "code",
   "execution_count": 14,
   "id": "7abbb101-605e-465a-8738-68fdd94f6029",
   "metadata": {},
   "outputs": [
    {
     "data": {
      "text/plain": [
       "True"
      ]
     },
     "execution_count": 14,
     "metadata": {},
     "output_type": "execute_result"
    }
   ],
   "source": [
    "x = None\n",
    "y = None\n",
    "\n",
    "x is y   # this asks: are x and y both referring to precisely the same object?"
   ]
  },
  {
   "cell_type": "code",
   "execution_count": 15,
   "id": "0634273e-f71f-48ec-a745-83d14f00dfd7",
   "metadata": {},
   "outputs": [
    {
     "data": {
      "text/plain": [
       "True"
      ]
     },
     "execution_count": 15,
     "metadata": {},
     "output_type": "execute_result"
    }
   ],
   "source": [
    "# really, \"is\" is checking\n",
    "# every object has an id number in Python\n",
    "\n",
    "id(x) == id(y)    "
   ]
  },
  {
   "cell_type": "code",
   "execution_count": 16,
   "id": "5dde06f1-dc74-48b7-99c1-32cce8178477",
   "metadata": {},
   "outputs": [
    {
     "data": {
      "text/plain": [
       "4475355152"
      ]
     },
     "execution_count": 16,
     "metadata": {},
     "output_type": "execute_result"
    }
   ],
   "source": [
    "id(x)"
   ]
  },
  {
   "cell_type": "code",
   "execution_count": 17,
   "id": "90b5db6a-2f6d-4d2d-bb47-dab8e8e52382",
   "metadata": {},
   "outputs": [
    {
     "data": {
      "text/plain": [
       "4475355152"
      ]
     },
     "execution_count": 17,
     "metadata": {},
     "output_type": "execute_result"
    }
   ],
   "source": [
    "id(y)"
   ]
  },
  {
   "cell_type": "code",
   "execution_count": 18,
   "id": "ae2d3512-d854-48e6-9c53-b9782c218dd2",
   "metadata": {},
   "outputs": [],
   "source": [
    "# the ID of an object is... its location in memory."
   ]
  },
  {
   "cell_type": "code",
   "execution_count": 19,
   "id": "4f7d56fb-1e14-4694-b514-25549240be8e",
   "metadata": {},
   "outputs": [
    {
     "data": {
      "text/plain": [
       "'0x10ac08010'"
      ]
     },
     "execution_count": 19,
     "metadata": {},
     "output_type": "execute_result"
    }
   ],
   "source": [
    "hex(id(y))"
   ]
  },
  {
   "cell_type": "code",
   "execution_count": 20,
   "id": "357869d2-2b69-46bc-ad7b-524533b0b65e",
   "metadata": {},
   "outputs": [
    {
     "data": {
      "text/plain": [
       "True"
      ]
     },
     "execution_count": 20,
     "metadata": {},
     "output_type": "execute_result"
    }
   ],
   "source": [
    "x = 100\n",
    "y = 100\n",
    "\n",
    "x == y"
   ]
  },
  {
   "cell_type": "code",
   "execution_count": 21,
   "id": "0bcee833-5e65-4261-be61-7d8f5dd0d9ea",
   "metadata": {},
   "outputs": [
    {
     "data": {
      "text/plain": [
       "True"
      ]
     },
     "execution_count": 21,
     "metadata": {},
     "output_type": "execute_result"
    }
   ],
   "source": [
    "x is y  # are these the same object?"
   ]
  },
  {
   "cell_type": "code",
   "execution_count": 22,
   "id": "8dbe01a3-182f-4282-9be3-a55831368bc2",
   "metadata": {},
   "outputs": [
    {
     "data": {
      "text/plain": [
       "True"
      ]
     },
     "execution_count": 22,
     "metadata": {},
     "output_type": "execute_result"
    }
   ],
   "source": [
    "x = 10000\n",
    "y = 10000\n",
    "\n",
    "x == y"
   ]
  },
  {
   "cell_type": "code",
   "execution_count": 23,
   "id": "f19aae79-31f3-4a9b-82a5-d5d87549abab",
   "metadata": {},
   "outputs": [
    {
     "data": {
      "text/plain": [
       "False"
      ]
     },
     "execution_count": 23,
     "metadata": {},
     "output_type": "execute_result"
    }
   ],
   "source": [
    "x is y"
   ]
  },
  {
   "cell_type": "code",
   "execution_count": 24,
   "id": "f592f058-e060-42a4-be8d-2883a961ebbf",
   "metadata": {},
   "outputs": [],
   "source": [
    "# if you're using \"==\" to check values and \"is\" to see if objects are the same object, then this doesn't cause any trouble!\n",
    "# but... many people use \"is\" because they think it's more aesthetic, or faster, or nicer... "
   ]
  },
  {
   "cell_type": "markdown",
   "id": "9c03505f-7ae3-41d4-976d-eea26546ad6b",
   "metadata": {},
   "source": [
    "# Reuven's rule of `is`\n",
    "\n",
    "Only use it with `None`."
   ]
  },
  {
   "cell_type": "code",
   "execution_count": 25,
   "id": "4fd6125a-6c58-41d0-97d7-fba353b5752a",
   "metadata": {},
   "outputs": [
    {
     "data": {
      "text/plain": [
       "True"
      ]
     },
     "execution_count": 25,
     "metadata": {},
     "output_type": "execute_result"
    }
   ],
   "source": [
    "s = 'abcd'\n",
    "t = 'abcd'\n",
    "\n",
    "s == t"
   ]
  },
  {
   "cell_type": "code",
   "execution_count": 26,
   "id": "e6e3b464-27b1-4d1a-9f46-c9083ff2cecd",
   "metadata": {},
   "outputs": [
    {
     "data": {
      "text/plain": [
       "True"
      ]
     },
     "execution_count": 26,
     "metadata": {},
     "output_type": "execute_result"
    }
   ],
   "source": [
    "s is t"
   ]
  },
  {
   "cell_type": "code",
   "execution_count": 27,
   "id": "1d923c80-1148-4af5-8be9-e3769559264e",
   "metadata": {},
   "outputs": [
    {
     "data": {
      "text/plain": [
       "True"
      ]
     },
     "execution_count": 27,
     "metadata": {},
     "output_type": "execute_result"
    }
   ],
   "source": [
    "s = 'ab.cd'\n",
    "t = 'ab.cd'\n",
    "\n",
    "s == t"
   ]
  },
  {
   "cell_type": "code",
   "execution_count": 28,
   "id": "ad08f083-c59a-40a6-b74c-d79eb5b7f2d0",
   "metadata": {},
   "outputs": [
    {
     "data": {
      "text/plain": [
       "False"
      ]
     },
     "execution_count": 28,
     "metadata": {},
     "output_type": "execute_result"
    }
   ],
   "source": [
    "s is t"
   ]
  },
  {
   "cell_type": "code",
   "execution_count": 29,
   "id": "4593de2e-da0e-4358-8fb9-1cc03ddd12c5",
   "metadata": {},
   "outputs": [
    {
     "data": {
      "text/plain": [
       "True"
      ]
     },
     "execution_count": 29,
     "metadata": {},
     "output_type": "execute_result"
    }
   ],
   "source": [
    "s = 'abcde' * 100_000\n",
    "t = 'abcde' * 100_000\n",
    "\n",
    "s == t"
   ]
  },
  {
   "cell_type": "code",
   "execution_count": 30,
   "id": "b4ba66fc-c2ed-47b5-b484-e3622bc96637",
   "metadata": {},
   "outputs": [
    {
     "data": {
      "text/plain": [
       "False"
      ]
     },
     "execution_count": 30,
     "metadata": {},
     "output_type": "execute_result"
    }
   ],
   "source": [
    "s is t"
   ]
  },
  {
   "cell_type": "markdown",
   "id": "73bced31-250e-4c05-a8c2-91d5a0617c0b",
   "metadata": {},
   "source": [
    "# What's going on with strings as `==` vs `is`?\n",
    "\n",
    "Every time we use a variable in Python, Python turns that variable name into a string. It then uses that string to look up the variable in its internal dictionary of variables and values. (We can see that dict by calling the `globals()` function.)\n",
    "\n",
    "In order to speed this process up, and not create a huge number of strings that are then thrown away, Python caches all strings that are both short and legal variable names.  This caching is run by the `sys.intern` function.  The first time it sees a string, it creates the string.  Subsequent times, it reuses the same string."
   ]
  },
  {
   "cell_type": "code",
   "execution_count": 31,
   "id": "307a7670-3eea-4db0-8a18-3ae129d47ec7",
   "metadata": {},
   "outputs": [
    {
     "name": "stdout",
     "output_type": "stream",
     "text": [
      "Yes, it is None!\n"
     ]
    }
   ],
   "source": [
    "x = None\n",
    "\n",
    "if x is None:\n",
    "    print('Yes, it is None!')\n",
    "else:\n",
    "    print('No, it is not None!')"
   ]
  },
  {
   "cell_type": "code",
   "execution_count": 32,
   "id": "f0b422da-f0fa-4983-8cbf-75f3e8243f5c",
   "metadata": {},
   "outputs": [
    {
     "name": "stdout",
     "output_type": "stream",
     "text": [
      "No, it is False-ish!\n"
     ]
    }
   ],
   "source": [
    "x = None\n",
    "\n",
    "if x:\n",
    "    print('Yes, it is True-ish!')\n",
    "else:\n",
    "    print('No, it is False-ish!')"
   ]
  },
  {
   "cell_type": "code",
   "execution_count": 33,
   "id": "397a932f-fca0-4153-a689-3f5e852ae25d",
   "metadata": {},
   "outputs": [
    {
     "data": {
      "text/plain": [
       "False"
      ]
     },
     "execution_count": 33,
     "metadata": {},
     "output_type": "execute_result"
    }
   ],
   "source": [
    "None == False"
   ]
  },
  {
   "cell_type": "markdown",
   "id": "b39f377a-7381-4818-a820-fe6db3203ac4",
   "metadata": {},
   "source": [
    "# What is `True` in Python?\n",
    "\n",
    "Every expression, in a boolean context, is `True` in Python... except for:\n",
    "\n",
    "- `None`\n",
    "- `False`\n",
    "- 0 (of any numeric type)\n",
    "- anything empty (meaning: `''`, `[]`, `()`, `{}`)"
   ]
  },
  {
   "cell_type": "code",
   "execution_count": 34,
   "id": "dc631398-b9bb-4f90-a635-b83f84c1f31e",
   "metadata": {},
   "outputs": [
    {
     "name": "stdin",
     "output_type": "stream",
     "text": [
      "Enter your name:  world\n"
     ]
    },
    {
     "name": "stdout",
     "output_type": "stream",
     "text": [
      "Hello, world!\n"
     ]
    },
    {
     "name": "stdin",
     "output_type": "stream",
     "text": [
      "Enter your name:  Reuven\n"
     ]
    },
    {
     "name": "stdout",
     "output_type": "stream",
     "text": [
      "Hello, Reuven!\n"
     ]
    },
    {
     "name": "stdin",
     "output_type": "stream",
     "text": [
      "Enter your name:  \n"
     ]
    }
   ],
   "source": [
    "while True:\n",
    "    name = input('Enter your name: ').strip()\n",
    "    \n",
    "    if not name:   # if we got an empty string\n",
    "        break\n",
    "        \n",
    "    print(f'Hello, {name}!')"
   ]
  },
  {
   "cell_type": "code",
   "execution_count": 35,
   "id": "24bb80a8-da0d-4e65-b7a5-2b1f228e0afb",
   "metadata": {},
   "outputs": [
    {
     "ename": "SyntaxError",
     "evalue": "invalid syntax. Maybe you meant '==' or ':=' instead of '='? (3166419494.py, line 1)",
     "output_type": "error",
     "traceback": [
      "\u001b[0;36m  File \u001b[0;32m\"/var/folders/rr/0mnyyv811fs5vyp22gf4fxk00000gn/T/ipykernel_19718/3166419494.py\"\u001b[0;36m, line \u001b[0;32m1\u001b[0m\n\u001b[0;31m    while name = input('Enter your name: ').strip():\u001b[0m\n\u001b[0m          ^\u001b[0m\n\u001b[0;31mSyntaxError\u001b[0m\u001b[0;31m:\u001b[0m invalid syntax. Maybe you meant '==' or ':=' instead of '='?\n"
     ]
    }
   ],
   "source": [
    "# Assignment in Python is *not* an expression\n",
    "# Meaning: Assignment doesn't return any value from it\n",
    "\n",
    "while name = input('Enter your name: ').strip():\n",
    "    \n",
    "    print(f'Hello, {name}!')"
   ]
  },
  {
   "cell_type": "code",
   "execution_count": 36,
   "id": "bb87b567-c5bd-4d8e-8f79-8c1bc4e4447c",
   "metadata": {},
   "outputs": [
    {
     "name": "stdin",
     "output_type": "stream",
     "text": [
      "Enter your name:  world\n"
     ]
    },
    {
     "name": "stdout",
     "output_type": "stream",
     "text": [
      "Hello, world!\n"
     ]
    },
    {
     "name": "stdin",
     "output_type": "stream",
     "text": [
      "Enter your name:  asdfsaf\n"
     ]
    },
    {
     "name": "stdout",
     "output_type": "stream",
     "text": [
      "Hello, asdfsaf!\n"
     ]
    },
    {
     "name": "stdin",
     "output_type": "stream",
     "text": [
      "Enter your name:  Reuven\n"
     ]
    },
    {
     "name": "stdout",
     "output_type": "stream",
     "text": [
      "Hello, Reuven!\n"
     ]
    },
    {
     "name": "stdin",
     "output_type": "stream",
     "text": [
      "Enter your name:  \n"
     ]
    }
   ],
   "source": [
    "# As of Python 3.8, we have the \"assignment expression\" operator, :=\n",
    "# also known as \"the walrus\"\n",
    "\n",
    "# input returns a string\n",
    "# str.strip returns a string\n",
    "# that string is assigned to name\n",
    "# because of :=, the assignment returns a string (whatever was assigned to \"name\")\n",
    "# then \"while\" looks to its right, and sees a string, and turns it into a boolean: False for empty strings, True for all others\n",
    "\n",
    "while name := input('Enter your name: ').strip():\n",
    "    \n",
    "    print(f'Hello, {name}!')"
   ]
  },
  {
   "cell_type": "code",
   "execution_count": 38,
   "id": "b6077129-0931-4852-9205-2b1dfd89f4bc",
   "metadata": {},
   "outputs": [],
   "source": [
    "# please don't do this\n",
    "if x := 5:\n",
    "    pass"
   ]
  },
  {
   "cell_type": "code",
   "execution_count": 39,
   "id": "87aa3e48-1146-4470-bc7a-d74e73f09e75",
   "metadata": {},
   "outputs": [
    {
     "data": {
      "text/plain": [
       "5"
      ]
     },
     "execution_count": 39,
     "metadata": {},
     "output_type": "execute_result"
    }
   ],
   "source": [
    "x"
   ]
  },
  {
   "cell_type": "markdown",
   "id": "bffc87d6-1f4a-44ff-b9d3-8731e2409dbb",
   "metadata": {},
   "source": [
    "# Numbers!\n",
    "\n",
    "Python has three types of numbers:\n",
    "\n",
    "- Integers\n",
    "- Floats\n",
    "- Complex"
   ]
  },
  {
   "cell_type": "code",
   "execution_count": 40,
   "id": "e051d76f-b905-4104-96be-4baa8bae7f41",
   "metadata": {},
   "outputs": [
    {
     "data": {
      "text/plain": [
       "int"
      ]
     },
     "execution_count": 40,
     "metadata": {},
     "output_type": "execute_result"
    }
   ],
   "source": [
    "x = 100  # this is an integer\n",
    "type(x)"
   ]
  },
  {
   "cell_type": "code",
   "execution_count": 41,
   "id": "0c9e5efb-5812-4119-9938-ed90facfc00f",
   "metadata": {},
   "outputs": [],
   "source": [
    "# what is the largest int we can get in Python?\n",
    "# or: How many bits are in Python integers?\n",
    "\n",
    "# Answer: There is no limit, bits are irrelevant"
   ]
  },
  {
   "cell_type": "code",
   "execution_count": 43,
   "id": "39541ad3-3cf2-436a-97c6-e986034a1e46",
   "metadata": {},
   "outputs": [
    {
     "data": {
      "text/plain": [
       "24"
      ]
     },
     "execution_count": 43,
     "metadata": {},
     "output_type": "execute_result"
    }
   ],
   "source": [
    "import sys\n",
    "\n",
    "x = 0\n",
    "sys.getsizeof(x)   # 24 bytes for an integer! Zero!"
   ]
  },
  {
   "cell_type": "code",
   "execution_count": 44,
   "id": "d67c1030-7e25-4a80-8005-42cfc914276d",
   "metadata": {},
   "outputs": [
    {
     "data": {
      "text/plain": [
       "28"
      ]
     },
     "execution_count": 44,
     "metadata": {},
     "output_type": "execute_result"
    }
   ],
   "source": [
    "x = 1\n",
    "sys.getsizeof(x)"
   ]
  },
  {
   "cell_type": "code",
   "execution_count": 45,
   "id": "ab211a8d-ac15-42d9-b332-2c5e22162c1c",
   "metadata": {},
   "outputs": [
    {
     "data": {
      "text/plain": [
       "28"
      ]
     },
     "execution_count": 45,
     "metadata": {},
     "output_type": "execute_result"
    }
   ],
   "source": [
    "x = 1000\n",
    "sys.getsizeof(x)"
   ]
  },
  {
   "cell_type": "code",
   "execution_count": 46,
   "id": "fdd9022c-1397-4c7f-a540-d37953440f72",
   "metadata": {},
   "outputs": [
    {
     "data": {
      "text/plain": [
       "1356"
      ]
     },
     "execution_count": 46,
     "metadata": {},
     "output_type": "execute_result"
    }
   ],
   "source": [
    "x = x ** 1000 \n",
    "sys.getsizeof(x)"
   ]
  },
  {
   "cell_type": "code",
   "execution_count": 47,
   "id": "44085c34-a4e3-4aa1-ba19-62b5633b966a",
   "metadata": {},
   "outputs": [
    {
     "data": {
      "text/plain": [
       "1328796"
      ]
     },
     "execution_count": 47,
     "metadata": {},
     "output_type": "execute_result"
    }
   ],
   "source": [
    "x = x ** 1000\n",
    "sys.getsizeof(x)"
   ]
  },
  {
   "cell_type": "code",
   "execution_count": 48,
   "id": "6ca64d2c-2444-4b77-9378-3e1e8d64f5d1",
   "metadata": {},
   "outputs": [
    {
     "data": {
      "text/plain": [
       "12345"
      ]
     },
     "execution_count": 48,
     "metadata": {},
     "output_type": "execute_result"
    }
   ],
   "source": [
    "s = '12345'\n",
    "\n",
    "int(s)   # creates a new instance of int, based on s"
   ]
  },
  {
   "cell_type": "code",
   "execution_count": 49,
   "id": "f9422eb1-3a37-40d6-9105-a2a1d7e0af49",
   "metadata": {},
   "outputs": [
    {
     "data": {
      "text/plain": [
       "74565"
      ]
     },
     "execution_count": 49,
     "metadata": {},
     "output_type": "execute_result"
    }
   ],
   "source": [
    "# no no no  s is actually a hex number\n",
    "\n",
    "int(s, 16)  # intepret s as hex"
   ]
  },
  {
   "cell_type": "code",
   "execution_count": 50,
   "id": "00545644-695d-45e8-b440-970e2a347550",
   "metadata": {},
   "outputs": [
    {
     "data": {
      "text/plain": [
       "5349"
      ]
     },
     "execution_count": 50,
     "metadata": {},
     "output_type": "execute_result"
    }
   ],
   "source": [
    "int(s, 8) # interpret as octal"
   ]
  },
  {
   "cell_type": "code",
   "execution_count": 51,
   "id": "5912a0a6-721d-435a-9757-5151d175870e",
   "metadata": {},
   "outputs": [
    {
     "data": {
      "text/plain": [
       "int"
      ]
     },
     "execution_count": 51,
     "metadata": {},
     "output_type": "execute_result"
    }
   ],
   "source": [
    "# floats \n",
    "\n",
    "type(1)"
   ]
  },
  {
   "cell_type": "code",
   "execution_count": 52,
   "id": "a0f6697b-9371-4465-ba97-d9cc7b3cb692",
   "metadata": {},
   "outputs": [
    {
     "data": {
      "text/plain": [
       "float"
      ]
     },
     "execution_count": 52,
     "metadata": {},
     "output_type": "execute_result"
    }
   ],
   "source": [
    "type(1.0)"
   ]
  },
  {
   "cell_type": "code",
   "execution_count": 53,
   "id": "a5adf663-d8da-4d48-b68e-ff5e16e3865f",
   "metadata": {},
   "outputs": [
    {
     "data": {
      "text/plain": [
       "0.30000000000000004"
      ]
     },
     "execution_count": 53,
     "metadata": {},
     "output_type": "execute_result"
    }
   ],
   "source": [
    "0.1 + 0.2"
   ]
  },
  {
   "cell_type": "markdown",
   "id": "0e3ad381-0dd4-4bfe-a142-503e3703995d",
   "metadata": {},
   "source": [
    "# Dealing with floats \n",
    "\n",
    "1. OK, floats are inaccurate. Nothing to do about it.\n",
    "2. Use the `round` function to round everything: `round(x, 2)` will return `x` with only 2 digits after the decimal point.\n",
    "3. Use integers, which don't have this issue, and then just talk about cents/pence.  So you'd use 100 instead of 1.00, and avoid the problem.\n",
    "4. Use BCD (binary coded decimals).  In other words: Store decimal numbers, and do decimal math. (Using the `Decimal` class in the `decimal` module)"
   ]
  },
  {
   "cell_type": "code",
   "execution_count": 54,
   "id": "f260963b-d0bc-44f8-a556-479ea5e53a56",
   "metadata": {},
   "outputs": [
    {
     "data": {
      "text/plain": [
       "Decimal('0.3')"
      ]
     },
     "execution_count": 54,
     "metadata": {},
     "output_type": "execute_result"
    }
   ],
   "source": [
    "from decimal import Decimal\n",
    "\n",
    "x = Decimal('0.1')\n",
    "y = Decimal('0.2')\n",
    "\n",
    "x + y"
   ]
  },
  {
   "cell_type": "code",
   "execution_count": 55,
   "id": "72064b49-a68a-4532-bb2c-3a81753a8b06",
   "metadata": {},
   "outputs": [
    {
     "data": {
      "text/plain": [
       "0.3"
      ]
     },
     "execution_count": 55,
     "metadata": {},
     "output_type": "execute_result"
    }
   ],
   "source": [
    "float(x+y)"
   ]
  },
  {
   "cell_type": "code",
   "execution_count": 56,
   "id": "8581a7ca-9310-4620-b444-485bc64f3d04",
   "metadata": {},
   "outputs": [
    {
     "data": {
      "text/plain": [
       "Decimal('0.3000000000000000166533453694')"
      ]
     },
     "execution_count": 56,
     "metadata": {},
     "output_type": "execute_result"
    }
   ],
   "source": [
    "# if you use decimal.Decimal, create your objects using strings, not floats!\n",
    "\n",
    "x = Decimal(0.1)\n",
    "y = Decimal(0.2)\n",
    "\n",
    "x + y"
   ]
  },
  {
   "cell_type": "code",
   "execution_count": 57,
   "id": "ad89e601-78b9-45c8-bd01-a39edbff50bb",
   "metadata": {},
   "outputs": [
    {
     "data": {
      "text/plain": [
       "Decimal('0.1000000000000000055511151231257827021181583404541015625')"
      ]
     },
     "execution_count": 57,
     "metadata": {},
     "output_type": "execute_result"
    }
   ],
   "source": [
    "x"
   ]
  },
  {
   "cell_type": "code",
   "execution_count": 58,
   "id": "278ae4ed-7916-4d17-bea6-e26d87aa7057",
   "metadata": {},
   "outputs": [
    {
     "data": {
      "text/plain": [
       "Decimal('0.200000000000000011102230246251565404236316680908203125')"
      ]
     },
     "execution_count": 58,
     "metadata": {},
     "output_type": "execute_result"
    }
   ],
   "source": [
    "y"
   ]
  },
  {
   "cell_type": "code",
   "execution_count": 59,
   "id": "149f8e79-23c6-4310-9ade-5fd508286d9e",
   "metadata": {},
   "outputs": [],
   "source": [
    "# Complex \n",
    "\n",
    "x = 10+3j\n",
    "y = 5-8j"
   ]
  },
  {
   "cell_type": "code",
   "execution_count": 61,
   "id": "de09f63e-19f1-454a-bef9-013c26d28c82",
   "metadata": {},
   "outputs": [
    {
     "data": {
      "text/plain": [
       "(15-5j)"
      ]
     },
     "execution_count": 61,
     "metadata": {},
     "output_type": "execute_result"
    }
   ],
   "source": [
    "x+y"
   ]
  },
  {
   "cell_type": "code",
   "execution_count": 62,
   "id": "137e6087-0df1-45c5-b65e-30cb1c105c5b",
   "metadata": {},
   "outputs": [
    {
     "data": {
      "text/plain": [
       "(74-65j)"
      ]
     },
     "execution_count": 62,
     "metadata": {},
     "output_type": "execute_result"
    }
   ],
   "source": [
    "x*y"
   ]
  },
  {
   "cell_type": "markdown",
   "id": "b4047baf-d9fe-4a6a-8641-152a51a5e930",
   "metadata": {},
   "source": [
    "# Strings\n",
    "\n",
    "- Strings are immutable!\n",
    "- Strings use Unicode!"
   ]
  },
  {
   "cell_type": "code",
   "execution_count": 63,
   "id": "bbabfdef-808c-4af6-9e9f-d4cd1881ad70",
   "metadata": {},
   "outputs": [
    {
     "data": {
      "text/plain": [
       "'a'"
      ]
     },
     "execution_count": 63,
     "metadata": {},
     "output_type": "execute_result"
    }
   ],
   "source": [
    "s = 'abcdefghij'\n",
    "s[0]"
   ]
  },
  {
   "cell_type": "code",
   "execution_count": 64,
   "id": "eb9b4303-967f-41de-b841-424fda5495c1",
   "metadata": {},
   "outputs": [
    {
     "ename": "TypeError",
     "evalue": "'str' object does not support item assignment",
     "output_type": "error",
     "traceback": [
      "\u001b[0;31m---------------------------------------------------------------------------\u001b[0m",
      "\u001b[0;31mTypeError\u001b[0m                                 Traceback (most recent call last)",
      "\u001b[0;32m/var/folders/rr/0mnyyv811fs5vyp22gf4fxk00000gn/T/ipykernel_19718/3948101549.py\u001b[0m in \u001b[0;36m<module>\u001b[0;34m\u001b[0m\n\u001b[0;32m----> 1\u001b[0;31m \u001b[0ms\u001b[0m\u001b[0;34m[\u001b[0m\u001b[0;36m0\u001b[0m\u001b[0;34m]\u001b[0m \u001b[0;34m=\u001b[0m \u001b[0;34m'!'\u001b[0m  \u001b[0;31m# this won't work -- strings are immutable!\u001b[0m\u001b[0;34m\u001b[0m\u001b[0;34m\u001b[0m\u001b[0m\n\u001b[0m",
      "\u001b[0;31mTypeError\u001b[0m: 'str' object does not support item assignment"
     ]
    }
   ],
   "source": [
    "s[0] = '!'  # this won't work -- strings are immutable!"
   ]
  },
  {
   "cell_type": "code",
   "execution_count": 65,
   "id": "3cbf1537-da92-40b5-8032-8c6356084736",
   "metadata": {},
   "outputs": [
    {
     "data": {
      "text/plain": [
       "'abcdefghijklmnop'"
      ]
     },
     "execution_count": 65,
     "metadata": {},
     "output_type": "execute_result"
    }
   ],
   "source": [
    "# but wait ... what about\n",
    "\n",
    "x = 'abcdefghij'\n",
    "x += 'klmnop'  # same as saying x = x + 'klmnop'\n",
    "\n",
    "x"
   ]
  },
  {
   "cell_type": "code",
   "execution_count": 66,
   "id": "5a216a3c-fc93-4cfd-8272-3425c479e0ae",
   "metadata": {},
   "outputs": [
    {
     "data": {
      "text/plain": [
       "4"
      ]
     },
     "execution_count": 66,
     "metadata": {},
     "output_type": "execute_result"
    }
   ],
   "source": [
    "s = 'שלום'\n",
    "len(s)"
   ]
  },
  {
   "cell_type": "code",
   "execution_count": 67,
   "id": "db11fbad-7fe2-4915-a1fa-09574388f0de",
   "metadata": {},
   "outputs": [
    {
     "name": "stdout",
     "output_type": "stream",
     "text": [
      "ש\n"
     ]
    }
   ],
   "source": [
    "print(s[0])"
   ]
  },
  {
   "cell_type": "code",
   "execution_count": 68,
   "id": "13e8caed-ce97-4903-8f4c-586404831154",
   "metadata": {},
   "outputs": [
    {
     "data": {
      "text/plain": [
       "b'\\xd7\\xa9\\xd7\\x9c\\xd7\\x95\\xd7\\x9d'"
      ]
     },
     "execution_count": 68,
     "metadata": {},
     "output_type": "execute_result"
    }
   ],
   "source": [
    "# how can I work with bytes, if I'm stuck using characters?\n",
    "# meaning: All strings in Python must be legit UTF-8 (Unicode characters)\n",
    "\n",
    "# we have a second string type in Python: bytes\n",
    "\n",
    "s.encode()  # give me a byte string based on the characters in s"
   ]
  },
  {
   "cell_type": "code",
   "execution_count": 69,
   "id": "81b8c5b5-5d9c-47d5-9c10-94c8fabbf175",
   "metadata": {},
   "outputs": [
    {
     "data": {
      "text/plain": [
       "b'hello'"
      ]
     },
     "execution_count": 69,
     "metadata": {},
     "output_type": "execute_result"
    }
   ],
   "source": [
    "s = 'hello'\n",
    "s.encode()"
   ]
  },
  {
   "cell_type": "code",
   "execution_count": 70,
   "id": "0c38909a-4bde-4ed5-beb4-494adfe01cb3",
   "metadata": {},
   "outputs": [],
   "source": [
    "b = s.encode()"
   ]
  },
  {
   "cell_type": "code",
   "execution_count": 71,
   "id": "fe710344-7c85-47bf-8d5d-90fa6f65b7d6",
   "metadata": {},
   "outputs": [
    {
     "data": {
      "text/plain": [
       "104"
      ]
     },
     "execution_count": 71,
     "metadata": {},
     "output_type": "execute_result"
    }
   ],
   "source": [
    "b[0]"
   ]
  },
  {
   "cell_type": "code",
   "execution_count": 72,
   "id": "be9b7d83-d337-4fae-ae5c-8f53adb1e754",
   "metadata": {},
   "outputs": [
    {
     "data": {
      "text/plain": [
       "'hello'"
      ]
     },
     "execution_count": 72,
     "metadata": {},
     "output_type": "execute_result"
    }
   ],
   "source": [
    "b.decode()   # return a string, based on the bytes"
   ]
  },
  {
   "cell_type": "code",
   "execution_count": 73,
   "id": "82674f56-a4e1-4ab6-b4c2-fdc5aba2a7c9",
   "metadata": {},
   "outputs": [
    {
     "data": {
      "text/plain": [
       "b'hello'"
      ]
     },
     "execution_count": 73,
     "metadata": {},
     "output_type": "execute_result"
    }
   ],
   "source": [
    "s.encode()   # return a byte string, based on the characters"
   ]
  },
  {
   "cell_type": "code",
   "execution_count": 74,
   "id": "0ca6ef99-a0a1-4d7f-af86-a6a4ff261dc4",
   "metadata": {},
   "outputs": [
    {
     "data": {
      "text/plain": [
       "b'hello'"
      ]
     },
     "execution_count": 74,
     "metadata": {},
     "output_type": "execute_result"
    }
   ],
   "source": [
    "b'hello'"
   ]
  },
  {
   "cell_type": "code",
   "execution_count": 75,
   "id": "52e5324b-34ea-4b9a-8e4e-87ff7cd1a6eb",
   "metadata": {},
   "outputs": [
    {
     "ename": "SyntaxError",
     "evalue": "bytes can only contain ASCII literal characters (2953791869.py, line 1)",
     "output_type": "error",
     "traceback": [
      "\u001b[0;36m  File \u001b[0;32m\"/var/folders/rr/0mnyyv811fs5vyp22gf4fxk00000gn/T/ipykernel_19718/2953791869.py\"\u001b[0;36m, line \u001b[0;32m1\u001b[0m\n\u001b[0;31m    b'שלום'\u001b[0m\n\u001b[0m           ^\u001b[0m\n\u001b[0;31mSyntaxError\u001b[0m\u001b[0;31m:\u001b[0m bytes can only contain ASCII literal characters\n"
     ]
    }
   ],
   "source": [
    "b'שלום'"
   ]
  },
  {
   "cell_type": "code",
   "execution_count": 76,
   "id": "5c6c1f3e-373d-4e10-a8cf-3a8de6a35e0e",
   "metadata": {},
   "outputs": [
    {
     "data": {
      "text/plain": [
       "['abcd', 'ef', 'ghi', 'kjl']"
      ]
     },
     "execution_count": 76,
     "metadata": {},
     "output_type": "execute_result"
    }
   ],
   "source": [
    "# split and join\n",
    "\n",
    "# split is a string method that returns a list of strings\n",
    "\n",
    "s = 'abcd|ef|ghi|kjl'\n",
    "s.split('|')  "
   ]
  },
  {
   "cell_type": "code",
   "execution_count": 77,
   "id": "7941bcd8-7bbc-4e72-a430-f2198dba78fb",
   "metadata": {},
   "outputs": [
    {
     "data": {
      "text/plain": [
       "['this', 'is', 'a', 'bunch', 'of', 'words']"
      ]
     },
     "execution_count": 77,
     "metadata": {},
     "output_type": "execute_result"
    }
   ],
   "source": [
    "s = 'this is a bunch of words'\n",
    "s.split(' ')"
   ]
  },
  {
   "cell_type": "code",
   "execution_count": 78,
   "id": "3342cfe3-12c9-44c4-a8d9-4ae98c0af6d9",
   "metadata": {},
   "outputs": [
    {
     "data": {
      "text/plain": [
       "['this', '', '', 'is', 'a', '', '', '', 'bunch', 'of', '', 'words']"
      ]
     },
     "execution_count": 78,
     "metadata": {},
     "output_type": "execute_result"
    }
   ],
   "source": [
    "# Python split our string on every single space character...\n",
    "\n",
    "s = 'this   is a    bunch of  words'\n",
    "s.split(' ') "
   ]
  },
  {
   "cell_type": "code",
   "execution_count": 79,
   "id": "e72b2190-29b2-4258-aedd-c2ee9d6734f7",
   "metadata": {},
   "outputs": [
    {
     "data": {
      "text/plain": [
       "['this', 'is', 'a', 'bunch', 'of', 'words']"
      ]
     },
     "execution_count": 79,
     "metadata": {},
     "output_type": "execute_result"
    }
   ],
   "source": [
    "# we avoid this by passing *NO* argument to str.split\n",
    "\n",
    "s.split()  # split on any number of whitespace characters in a row (space, \\t, \\n, \\r, \\v)"
   ]
  },
  {
   "cell_type": "code",
   "execution_count": 80,
   "id": "9093899e-4dd9-4004-9b29-a262585e0daa",
   "metadata": {},
   "outputs": [
    {
     "data": {
      "text/plain": [
       "['this', 'is', 'a', 'bunch', 'of', 'words']"
      ]
     },
     "execution_count": 80,
     "metadata": {},
     "output_type": "execute_result"
    }
   ],
   "source": [
    "words = s.split()\n",
    "words"
   ]
  },
  {
   "cell_type": "code",
   "execution_count": 81,
   "id": "f8bdc343-aa08-47ff-bcfd-84d65d7c5457",
   "metadata": {},
   "outputs": [
    {
     "data": {
      "text/plain": [
       "'this*is*a*bunch*of*words'"
      ]
     },
     "execution_count": 81,
     "metadata": {},
     "output_type": "execute_result"
    }
   ],
   "source": [
    "# how can I put them back together?\n",
    "# str.join\n",
    "\n",
    "'*'.join(words)   "
   ]
  },
  {
   "cell_type": "code",
   "execution_count": 82,
   "id": "8077d4bf-e9ad-499e-818a-d309c6c132ce",
   "metadata": {},
   "outputs": [
    {
     "data": {
      "text/plain": [
       "'this is a bunch of words'"
      ]
     },
     "execution_count": 82,
     "metadata": {},
     "output_type": "execute_result"
    }
   ],
   "source": [
    "' '.join(words)"
   ]
  },
  {
   "cell_type": "markdown",
   "id": "35f2f8b5-0636-4d23-be4d-d12f098104b2",
   "metadata": {},
   "source": [
    "# Exercise: Pig Latin sentence\n",
    "\n",
    "1. Pig Latin is a \"secret\" language used by children in the English-speaking world (especially the US). The rules are:\n",
    "    - If a word starts with a vowel (a, e, i, o, or u) then we add `way` to it\n",
    "    - If a word starts with anything else, then we move the first letter to the end, and add `ay`.\n",
    "2. For this exercise, ask the user to enter a sentence (all lowercase, no punctuation)\n",
    "3. Print the entire sentence, translated into Pig Latin, word by word, on one line.\n",
    "\n",
    "Examples:\n",
    "\n",
    "    Enter a sentence: this is a test\n",
    "    histay isway away esttay\n",
    "    \n",
    "    Enter a sentence: this papaya is delicious\n",
    "    histay apayapay isway eliciousday\n",
    "    \n",
    "    "
   ]
  },
  {
   "cell_type": "code",
   "execution_count": 83,
   "id": "9c04b4a1-7bcb-4cd1-b594-79cbb8f83d9e",
   "metadata": {},
   "outputs": [
    {
     "name": "stdout",
     "output_type": "stream",
     "text": [
      "abc\n",
      "def\n",
      "\n"
     ]
    }
   ],
   "source": [
    "s = 'abc\\ndef\\n'\n",
    "print(s)"
   ]
  },
  {
   "cell_type": "code",
   "execution_count": 84,
   "id": "9b240d4b-8327-4821-886f-2e32f4b950c2",
   "metadata": {},
   "outputs": [
    {
     "name": "stdin",
     "output_type": "stream",
     "text": [
      "Enter a string: abc\n"
     ]
    }
   ],
   "source": [
    "s = input('Enter a string:')"
   ]
  },
  {
   "cell_type": "code",
   "execution_count": 86,
   "id": "f2eaa517-5069-4f80-8d5a-1d1d7ed86c91",
   "metadata": {},
   "outputs": [
    {
     "name": "stdin",
     "output_type": "stream",
     "text": [
      "Enter a sentence:  this is a test\n"
     ]
    },
    {
     "name": "stdout",
     "output_type": "stream",
     "text": [
      "histay isway away esttay\n"
     ]
    }
   ],
   "source": [
    "output = []\n",
    "s = input('Enter a sentence: ').strip().lower()\n",
    "\n",
    "for one_word in s.split():\n",
    "    if one_word[0] in 'aeiou':\n",
    "        output.append(one_word + 'way')\n",
    "    else:\n",
    "        output.append(one_word[1:] + one_word[0] + 'ay')\n",
    "        \n",
    "print(' '.join(output))"
   ]
  },
  {
   "cell_type": "markdown",
   "id": "168fd537-759a-4d97-a713-07339413069f",
   "metadata": {},
   "source": [
    "# Sequences\n",
    "\n",
    "String, list, and tuple are all *sequences*.  They can all:\n",
    "\n",
    "- Get one character, counting from the left, with a positive index (`s[0]`)\n",
    "- Get one character, counting from the *right*, with a negative index (`s[-1]`)\n",
    "- Get a slice `s[start:finish:step]`\n",
    "- Iterate with a `for` loop\n",
    "- Search with `in`\n",
    "- Count how often something appears with the `.count` method\n",
    "- Search with the `.index` method\n"
   ]
  },
  {
   "cell_type": "markdown",
   "id": "c1d00bcc-1bfd-4756-b1fe-38baa8d3efec",
   "metadata": {},
   "source": [
    "# Lists vs. tuples\n",
    "\n",
    "Lists are mutable, and tuples are immutable. But that's *not* how Python wants us to think about them! \n",
    "\n",
    "We should think about them this way:\n",
    "- Lists are for sequences of the same type\n",
    "- Tuples are for sequences of *different* types\n",
    "\n",
    "List of strings, list of lists, list of functions.  But a tuple representing a person (name + age).  Or a tuple representing coordinates.\n",
    "\n",
    "Tuples are supposed to be for structs / records."
   ]
  },
  {
   "cell_type": "code",
   "execution_count": 88,
   "id": "bc295922-b122-4596-86c1-0550b69ea18b",
   "metadata": {},
   "outputs": [
    {
     "name": "stdout",
     "output_type": "stream",
     "text": [
      "i=0, len(mylist)=0, sys.getsizeof(mylist)=56\n",
      "i=1, len(mylist)=1, sys.getsizeof(mylist)=88\n",
      "i=2, len(mylist)=2, sys.getsizeof(mylist)=88\n",
      "i=3, len(mylist)=3, sys.getsizeof(mylist)=88\n",
      "i=4, len(mylist)=4, sys.getsizeof(mylist)=88\n",
      "i=5, len(mylist)=5, sys.getsizeof(mylist)=120\n",
      "i=6, len(mylist)=6, sys.getsizeof(mylist)=120\n",
      "i=7, len(mylist)=7, sys.getsizeof(mylist)=120\n",
      "i=8, len(mylist)=8, sys.getsizeof(mylist)=120\n",
      "i=9, len(mylist)=9, sys.getsizeof(mylist)=184\n",
      "i=10, len(mylist)=10, sys.getsizeof(mylist)=184\n",
      "i=11, len(mylist)=11, sys.getsizeof(mylist)=184\n",
      "i=12, len(mylist)=12, sys.getsizeof(mylist)=184\n",
      "i=13, len(mylist)=13, sys.getsizeof(mylist)=184\n",
      "i=14, len(mylist)=14, sys.getsizeof(mylist)=184\n",
      "i=15, len(mylist)=15, sys.getsizeof(mylist)=184\n",
      "i=16, len(mylist)=16, sys.getsizeof(mylist)=184\n",
      "i=17, len(mylist)=17, sys.getsizeof(mylist)=248\n",
      "i=18, len(mylist)=18, sys.getsizeof(mylist)=248\n",
      "i=19, len(mylist)=19, sys.getsizeof(mylist)=248\n",
      "i=20, len(mylist)=20, sys.getsizeof(mylist)=248\n",
      "i=21, len(mylist)=21, sys.getsizeof(mylist)=248\n",
      "i=22, len(mylist)=22, sys.getsizeof(mylist)=248\n",
      "i=23, len(mylist)=23, sys.getsizeof(mylist)=248\n",
      "i=24, len(mylist)=24, sys.getsizeof(mylist)=248\n",
      "i=25, len(mylist)=25, sys.getsizeof(mylist)=312\n",
      "i=26, len(mylist)=26, sys.getsizeof(mylist)=312\n",
      "i=27, len(mylist)=27, sys.getsizeof(mylist)=312\n",
      "i=28, len(mylist)=28, sys.getsizeof(mylist)=312\n",
      "i=29, len(mylist)=29, sys.getsizeof(mylist)=312\n"
     ]
    }
   ],
   "source": [
    "# Python allocates memory to a list, assuming that it'll need some more in the future for new elements.\n",
    "# Each time we add enough elements to use up that spare memory, it then allocates a bunch more.\n",
    "\n",
    "mylist = []\n",
    "\n",
    "for i in range(30):\n",
    "    print(f'{i=}, {len(mylist)=}, {sys.getsizeof(mylist)=}')\n",
    "    mylist.append(i)"
   ]
  },
  {
   "cell_type": "code",
   "execution_count": 89,
   "id": "642a662a-8db7-41c9-9054-4ab5a990ad16",
   "metadata": {},
   "outputs": [
    {
     "data": {
      "text/plain": [
       "312"
      ]
     },
     "execution_count": 89,
     "metadata": {},
     "output_type": "execute_result"
    }
   ],
   "source": [
    "sys.getsizeof(mylist)"
   ]
  },
  {
   "cell_type": "code",
   "execution_count": 90,
   "id": "8b18c44b-9e21-484e-a81a-2623528844f7",
   "metadata": {},
   "outputs": [
    {
     "data": {
      "text/plain": [
       "312"
      ]
     },
     "execution_count": 90,
     "metadata": {},
     "output_type": "execute_result"
    }
   ],
   "source": [
    "mylist[0] = 'abcde'\n",
    "sys.getsizeof(mylist)"
   ]
  },
  {
   "cell_type": "code",
   "execution_count": 91,
   "id": "9804079c-19ef-4888-a4ea-c2810e1840c3",
   "metadata": {},
   "outputs": [
    {
     "data": {
      "text/plain": [
       "312"
      ]
     },
     "execution_count": 91,
     "metadata": {},
     "output_type": "execute_result"
    }
   ],
   "source": [
    "mylist[0] = 'abcde' * 100_000_000\n",
    "sys.getsizeof(mylist)  # getsizeof checks the size of the list, *not* the elements of the list"
   ]
  },
  {
   "cell_type": "code",
   "execution_count": 92,
   "id": "6c9fa399-ac92-402d-b08a-ca451e9b0d91",
   "metadata": {},
   "outputs": [
    {
     "data": {
      "text/plain": [
       "tuple"
      ]
     },
     "execution_count": 92,
     "metadata": {},
     "output_type": "execute_result"
    }
   ],
   "source": [
    "t = (10, 20, 30)\n",
    "type(t)"
   ]
  },
  {
   "cell_type": "code",
   "execution_count": 93,
   "id": "9595f6a2-ac76-49ab-8328-98b03d27e3c0",
   "metadata": {},
   "outputs": [
    {
     "data": {
      "text/plain": [
       "tuple"
      ]
     },
     "execution_count": 93,
     "metadata": {},
     "output_type": "execute_result"
    }
   ],
   "source": [
    "t = (10, 20)\n",
    "type(t)"
   ]
  },
  {
   "cell_type": "code",
   "execution_count": 94,
   "id": "bef06f4e-206b-4d2c-805f-015e35e0b58d",
   "metadata": {},
   "outputs": [
    {
     "data": {
      "text/plain": [
       "int"
      ]
     },
     "execution_count": 94,
     "metadata": {},
     "output_type": "execute_result"
    }
   ],
   "source": [
    "t = (10)   # no comma, no tuple\n",
    "type(t)"
   ]
  },
  {
   "cell_type": "code",
   "execution_count": 95,
   "id": "5ddb1215-28e1-493d-8d9f-faaaee9e48cd",
   "metadata": {},
   "outputs": [
    {
     "data": {
      "text/plain": [
       "tuple"
      ]
     },
     "execution_count": 95,
     "metadata": {},
     "output_type": "execute_result"
    }
   ],
   "source": [
    "t = ()  # no comma, but it's still a tuple... because it's empty\n",
    "type(t)"
   ]
  },
  {
   "cell_type": "code",
   "execution_count": 96,
   "id": "91e66bcd-2333-4be5-a28b-cbabe4221f52",
   "metadata": {},
   "outputs": [
    {
     "data": {
      "text/plain": [
       "14"
      ]
     },
     "execution_count": 96,
     "metadata": {},
     "output_type": "execute_result"
    }
   ],
   "source": [
    "2 + 3 * 4   # first multiplication, then addition"
   ]
  },
  {
   "cell_type": "code",
   "execution_count": 97,
   "id": "aaac4e7a-4437-44c5-a3c1-dbc0609e46b6",
   "metadata": {},
   "outputs": [
    {
     "data": {
      "text/plain": [
       "20"
      ]
     },
     "execution_count": 97,
     "metadata": {},
     "output_type": "execute_result"
    }
   ],
   "source": [
    "(2 + 3) * 4  # now we have parentheses, which change priority"
   ]
  },
  {
   "cell_type": "code",
   "execution_count": 98,
   "id": "bfadd1bd-7678-4196-a69f-5c3e48e7ecb4",
   "metadata": {},
   "outputs": [
    {
     "data": {
      "text/plain": [
       "tuple"
      ]
     },
     "execution_count": 98,
     "metadata": {},
     "output_type": "execute_result"
    }
   ],
   "source": [
    "t = (10,)  # now it's a tuple!\n",
    "type(t)"
   ]
  },
  {
   "cell_type": "code",
   "execution_count": 99,
   "id": "21de06a8-050e-4576-a286-16b7a63ffdaa",
   "metadata": {},
   "outputs": [
    {
     "data": {
      "text/plain": [
       "(5, 5, 5, 5)"
      ]
     },
     "execution_count": 99,
     "metadata": {},
     "output_type": "execute_result"
    }
   ],
   "source": [
    "(2 + 3,) * 4  # will this work?"
   ]
  },
  {
   "cell_type": "code",
   "execution_count": 101,
   "id": "7ef06cdd-3189-4a64-8ae8-9ad1da7aa991",
   "metadata": {},
   "outputs": [
    {
     "data": {
      "text/plain": [
       "(10, 20, 30, 40, 50)"
      ]
     },
     "execution_count": 101,
     "metadata": {},
     "output_type": "execute_result"
    }
   ],
   "source": [
    "t = 10, 20, 30, 40, 50 # also a tuple -- commas are more important than ()\n",
    "t"
   ]
  },
  {
   "cell_type": "code",
   "execution_count": 102,
   "id": "e3cd206e-eb56-4634-bd60-49cc3b3b0a89",
   "metadata": {},
   "outputs": [
    {
     "ename": "TypeError",
     "evalue": "'tuple' object does not support item assignment",
     "output_type": "error",
     "traceback": [
      "\u001b[0;31m---------------------------------------------------------------------------\u001b[0m",
      "\u001b[0;31mTypeError\u001b[0m                                 Traceback (most recent call last)",
      "\u001b[0;32m/var/folders/rr/0mnyyv811fs5vyp22gf4fxk00000gn/T/ipykernel_19718/3955374607.py\u001b[0m in \u001b[0;36m<module>\u001b[0;34m\u001b[0m\n\u001b[0;32m----> 1\u001b[0;31m \u001b[0mt\u001b[0m\u001b[0;34m[\u001b[0m\u001b[0;36m0\u001b[0m\u001b[0;34m]\u001b[0m \u001b[0;34m=\u001b[0m \u001b[0;34m'!'\u001b[0m\u001b[0;34m\u001b[0m\u001b[0;34m\u001b[0m\u001b[0m\n\u001b[0m",
      "\u001b[0;31mTypeError\u001b[0m: 'tuple' object does not support item assignment"
     ]
    }
   ],
   "source": [
    "t[0] = '!'  "
   ]
  },
  {
   "cell_type": "code",
   "execution_count": 109,
   "id": "b7044bb6-f215-4dbc-a81e-f2e993ddd5e8",
   "metadata": {},
   "outputs": [],
   "source": [
    "t = ([10, 20, 30], \n",
    "     [100, 200, 300])"
   ]
  },
  {
   "cell_type": "code",
   "execution_count": 110,
   "id": "8a93cb7e-b64c-4cfb-b542-c3085edcb290",
   "metadata": {},
   "outputs": [],
   "source": [
    "# I can change the list that the tuple refers to \n",
    "t[0].append('!')"
   ]
  },
  {
   "cell_type": "code",
   "execution_count": 111,
   "id": "6121d181-4195-442c-abc7-25344122eff7",
   "metadata": {},
   "outputs": [
    {
     "data": {
      "text/plain": [
       "([10, 20, 30, '!'], [100, 200, 300])"
      ]
     },
     "execution_count": 111,
     "metadata": {},
     "output_type": "execute_result"
    }
   ],
   "source": [
    "t"
   ]
  },
  {
   "cell_type": "code",
   "execution_count": 112,
   "id": "b4d79fe6-0dc0-471e-b885-80d516bd0443",
   "metadata": {},
   "outputs": [
    {
     "ename": "TypeError",
     "evalue": "'tuple' object does not support item assignment",
     "output_type": "error",
     "traceback": [
      "\u001b[0;31m---------------------------------------------------------------------------\u001b[0m",
      "\u001b[0;31mTypeError\u001b[0m                                 Traceback (most recent call last)",
      "\u001b[0;32m/var/folders/rr/0mnyyv811fs5vyp22gf4fxk00000gn/T/ipykernel_19718/4187112048.py\u001b[0m in \u001b[0;36m<module>\u001b[0;34m\u001b[0m\n\u001b[0;32m----> 1\u001b[0;31m \u001b[0mt\u001b[0m\u001b[0;34m[\u001b[0m\u001b[0;36m0\u001b[0m\u001b[0;34m]\u001b[0m \u001b[0;34m+=\u001b[0m \u001b[0;34m[\u001b[0m\u001b[0;36m40\u001b[0m\u001b[0;34m,\u001b[0m \u001b[0;36m50\u001b[0m\u001b[0;34m,\u001b[0m \u001b[0;36m60\u001b[0m\u001b[0;34m]\u001b[0m\u001b[0;34m\u001b[0m\u001b[0;34m\u001b[0m\u001b[0m\n\u001b[0m",
      "\u001b[0;31mTypeError\u001b[0m: 'tuple' object does not support item assignment"
     ]
    }
   ],
   "source": [
    "t[0] += [40, 50, 60]   # += calls the \"__iadd__\" method for inplace addition. First it modifies the list, then it assigns back to the owner"
   ]
  },
  {
   "cell_type": "code",
   "execution_count": 113,
   "id": "c750bb62-2e5f-4ca8-91ea-bc9f2f108abd",
   "metadata": {},
   "outputs": [
    {
     "data": {
      "text/plain": [
       "([10, 20, 30, '!', 40, 50, 60], [100, 200, 300])"
      ]
     },
     "execution_count": 113,
     "metadata": {},
     "output_type": "execute_result"
    }
   ],
   "source": [
    "t"
   ]
  },
  {
   "cell_type": "markdown",
   "id": "fb319803-bbf0-415d-ad15-ed49a4e3302c",
   "metadata": {},
   "source": [
    "# Tuples, good and bad\n",
    "\n",
    "Good:\n",
    "- Very efficient\n",
    "- Immutable (see above)\n",
    "\n",
    "Bad:\n",
    "- I don't like using numeric indexes\n",
    "\n"
   ]
  },
  {
   "cell_type": "code",
   "execution_count": 114,
   "id": "5c141304-9db5-4667-83bf-0fe165ac7e79",
   "metadata": {},
   "outputs": [
    {
     "data": {
      "text/plain": [
       "'Reuven'"
      ]
     },
     "execution_count": 114,
     "metadata": {},
     "output_type": "execute_result"
    }
   ],
   "source": [
    "person = ('Reuven', 'Lerner', 46)\n",
    "\n",
    "person[0]  # get first name"
   ]
  },
  {
   "cell_type": "code",
   "execution_count": 115,
   "id": "56c77344-9bef-4dd8-8a4f-1190e8186207",
   "metadata": {},
   "outputs": [
    {
     "data": {
      "text/plain": [
       "'Lerner'"
      ]
     },
     "execution_count": 115,
     "metadata": {},
     "output_type": "execute_result"
    }
   ],
   "source": [
    "person[1] # get last name"
   ]
  },
  {
   "cell_type": "code",
   "execution_count": 116,
   "id": "4715ab0f-1d90-4ecb-a7fd-7809907e6daa",
   "metadata": {},
   "outputs": [
    {
     "data": {
      "text/plain": [
       "46"
      ]
     },
     "execution_count": 116,
     "metadata": {},
     "output_type": "execute_result"
    }
   ],
   "source": [
    "person[2] # get shoe size"
   ]
  },
  {
   "cell_type": "code",
   "execution_count": 117,
   "id": "b580edc6-9c5c-45f2-8ff0-81a438646f46",
   "metadata": {},
   "outputs": [],
   "source": [
    "# I want the best of both words: Efficient like a tuple, but with names like a dict or object\n",
    "\n",
    "from collections import namedtuple"
   ]
  },
  {
   "cell_type": "code",
   "execution_count": 123,
   "id": "8a42032b-b57e-4931-9ca7-8269d6d88540",
   "metadata": {},
   "outputs": [],
   "source": [
    "# when we use \"namedtuple\", we're creating a new class\n",
    "# the class will inherit from tuple, and thus be immutable\n",
    "# each instance will have attributes that let us retrieve the elements by name\n",
    "\n",
    "Person = namedtuple('Person', ['first', 'last', 'shoesize'])"
   ]
  },
  {
   "cell_type": "code",
   "execution_count": 124,
   "id": "e84c77ef-7fbc-4959-bb1f-78306ab01e5b",
   "metadata": {},
   "outputs": [
    {
     "data": {
      "text/plain": [
       "'Person'"
      ]
     },
     "execution_count": 124,
     "metadata": {},
     "output_type": "execute_result"
    }
   ],
   "source": [
    "# every class in Python has as __name__ attribute, a string indicating its name\n",
    "# the way to do this with namedtuple is to pass the name as a string in the call \n",
    "\n",
    "Person.__name__"
   ]
  },
  {
   "cell_type": "code",
   "execution_count": 125,
   "id": "84458c07-7e78-410c-9094-34b800cd948d",
   "metadata": {},
   "outputs": [],
   "source": [
    "# create a new instance of Person\n",
    "\n",
    "p = Person('Reuven', 'Lerner', 46)"
   ]
  },
  {
   "cell_type": "code",
   "execution_count": 126,
   "id": "3956e681-a22e-4363-b1ad-9c7851af62c3",
   "metadata": {},
   "outputs": [
    {
     "data": {
      "text/plain": [
       "'Reuven'"
      ]
     },
     "execution_count": 126,
     "metadata": {},
     "output_type": "execute_result"
    }
   ],
   "source": [
    "p[0]"
   ]
  },
  {
   "cell_type": "code",
   "execution_count": 127,
   "id": "97bc1486-8a4d-4268-ba11-cbdafa71db2c",
   "metadata": {},
   "outputs": [
    {
     "data": {
      "text/plain": [
       "'Lerner'"
      ]
     },
     "execution_count": 127,
     "metadata": {},
     "output_type": "execute_result"
    }
   ],
   "source": [
    "p[1]"
   ]
  },
  {
   "cell_type": "code",
   "execution_count": 128,
   "id": "ae87b516-4c59-4dc2-83e9-44d619c3a449",
   "metadata": {},
   "outputs": [
    {
     "data": {
      "text/plain": [
       "46"
      ]
     },
     "execution_count": 128,
     "metadata": {},
     "output_type": "execute_result"
    }
   ],
   "source": [
    "p[2]"
   ]
  },
  {
   "cell_type": "code",
   "execution_count": 130,
   "id": "e9a62917-9dd7-47a2-b98a-b3c2ee056061",
   "metadata": {},
   "outputs": [
    {
     "data": {
      "text/plain": [
       "'Reuven'"
      ]
     },
     "execution_count": 130,
     "metadata": {},
     "output_type": "execute_result"
    }
   ],
   "source": [
    "p.first"
   ]
  },
  {
   "cell_type": "code",
   "execution_count": 131,
   "id": "b4844512-661d-464c-a652-b9f48ab02827",
   "metadata": {},
   "outputs": [
    {
     "data": {
      "text/plain": [
       "'Lerner'"
      ]
     },
     "execution_count": 131,
     "metadata": {},
     "output_type": "execute_result"
    }
   ],
   "source": [
    "p.last"
   ]
  },
  {
   "cell_type": "code",
   "execution_count": 132,
   "id": "2ce34e8a-06c6-4a39-a8a5-b81cd8116265",
   "metadata": {},
   "outputs": [
    {
     "data": {
      "text/plain": [
       "46"
      ]
     },
     "execution_count": 132,
     "metadata": {},
     "output_type": "execute_result"
    }
   ],
   "source": [
    "p.shoesize"
   ]
  },
  {
   "cell_type": "code",
   "execution_count": 133,
   "id": "784b3eb9-9f1e-4924-8f15-4ccd47401642",
   "metadata": {},
   "outputs": [
    {
     "name": "stdout",
     "output_type": "stream",
     "text": [
      "Person(first='Reuven', last='Lerner', shoesize=46)\n"
     ]
    }
   ],
   "source": [
    "print(p)"
   ]
  },
  {
   "cell_type": "code",
   "execution_count": 134,
   "id": "dff9a6c9-a4e4-4642-ba5c-fb65d369512d",
   "metadata": {},
   "outputs": [
    {
     "ename": "AttributeError",
     "evalue": "can't set attribute",
     "output_type": "error",
     "traceback": [
      "\u001b[0;31m---------------------------------------------------------------------------\u001b[0m",
      "\u001b[0;31mAttributeError\u001b[0m                            Traceback (most recent call last)",
      "\u001b[0;32m/var/folders/rr/0mnyyv811fs5vyp22gf4fxk00000gn/T/ipykernel_19718/409318222.py\u001b[0m in \u001b[0;36m<module>\u001b[0;34m\u001b[0m\n\u001b[0;32m----> 1\u001b[0;31m \u001b[0mp\u001b[0m\u001b[0;34m.\u001b[0m\u001b[0mfirst\u001b[0m \u001b[0;34m=\u001b[0m \u001b[0;34m'asfsafas'\u001b[0m\u001b[0;34m\u001b[0m\u001b[0;34m\u001b[0m\u001b[0m\n\u001b[0m",
      "\u001b[0;31mAttributeError\u001b[0m: can't set attribute"
     ]
    }
   ],
   "source": [
    "p.first = 'asfsafas'"
   ]
  },
  {
   "cell_type": "code",
   "execution_count": 136,
   "id": "16771e77-7e06-42af-b72c-d52158c4adad",
   "metadata": {},
   "outputs": [
    {
     "data": {
      "text/plain": [
       "Person(first='whatever', last='Lerner', shoesize=46)"
      ]
     },
     "execution_count": 136,
     "metadata": {},
     "output_type": "execute_result"
    }
   ],
   "source": [
    "# If I want to create a new Person based on the existing Person, I can use _replace\n",
    "\n",
    "p._replace(first='whatever')"
   ]
  },
  {
   "cell_type": "code",
   "execution_count": 137,
   "id": "379ffdc5-c10f-4c9e-bc79-23808707d963",
   "metadata": {},
   "outputs": [
    {
     "data": {
      "text/plain": [
       "56"
      ]
     },
     "execution_count": 137,
     "metadata": {},
     "output_type": "execute_result"
    }
   ],
   "source": [
    "sys.getsizeof(t)"
   ]
  },
  {
   "cell_type": "code",
   "execution_count": 138,
   "id": "94b5056c-9b5f-4910-9815-4aa6f0ea8963",
   "metadata": {},
   "outputs": [],
   "source": [
    "from typing import NamedTuple\n",
    "\n",
    "class Person(NamedTuple):\n",
    "    first : str\n",
    "    last : str\n",
    "    shoesize : int"
   ]
  },
  {
   "cell_type": "markdown",
   "id": "afbc240a-12ae-4317-a672-0ca59c87bb0d",
   "metadata": {},
   "source": [
    "# Exercise: Bookshop\n",
    "\n",
    "1. Create a `Book` class, using `namedtuple`. Each instance of `Book` will have three fields: `title`, `author`, `price`.\n",
    "2. Create a list, `inventory`, with three or four books that you've created.\n",
    "3. Create a variable, `total`, with the user's total purchase amount (currently 0).\n",
    "4. Ask the user, repeatedly, to enter the name of a book they want to buy.\n",
    "    - If they enter an empty string, stop asking and print `total`.\n",
    "    - If they enter the name of a book in our inventory, print all of the details, and the current (updated) total.\n",
    "    - If they enter the name of a book *not* in our inventory, scold them a bit and them try again.\n",
    "5. Print the total.\n",
    "\n",
    "Example:\n",
    "\n",
    "    Enter a book: title1\n",
    "    title1 by author1 costs 50, total is now 50\n",
    "    Enter a book: title2\n",
    "    title2 by author2 costs 75, total is 125\n",
    "    Enter a book: whatever\n",
    "    We don't carry whatever!\n",
    "    Enter a book: [ENTER]\n",
    "    Total is 125"
   ]
  },
  {
   "cell_type": "code",
   "execution_count": 141,
   "id": "8667d12e-aede-49f5-b74a-8392d2f4fc29",
   "metadata": {},
   "outputs": [
    {
     "name": "stdin",
     "output_type": "stream",
     "text": [
      "Enter title:  title1\n"
     ]
    },
    {
     "name": "stdout",
     "output_type": "stream",
     "text": [
      "Found title1 by author1, price is 50; new total is 50\n"
     ]
    },
    {
     "name": "stdin",
     "output_type": "stream",
     "text": [
      "Enter title:  asdfasdfa\n"
     ]
    },
    {
     "name": "stdout",
     "output_type": "stream",
     "text": [
      "We do not have asdfasdfa\n"
     ]
    },
    {
     "name": "stdin",
     "output_type": "stream",
     "text": [
      "Enter title:  \n"
     ]
    },
    {
     "name": "stdout",
     "output_type": "stream",
     "text": [
      "total=50\n"
     ]
    }
   ],
   "source": [
    "from collections import namedtuple\n",
    "\n",
    "Book = namedtuple('Book', ['title', 'author', 'price'])\n",
    "\n",
    "book1 = Book('title1', 'author1', 50)\n",
    "book2 = Book('title2', 'author1', 60)\n",
    "book3 = Book('title3', 'author2', 75)\n",
    "book4 = Book('title4', 'author3', 150)\n",
    "\n",
    "inventory = [book1, book2, book3, book4]\n",
    "\n",
    "total = 0\n",
    "\n",
    "while True:\n",
    "    look_for = input('Enter title: ').strip()\n",
    "    \n",
    "    if not look_for:   # empty string? break\n",
    "        break\n",
    "        \n",
    "    for one_book in inventory:\n",
    "        if one_book.title == look_for:\n",
    "            price = one_book.price\n",
    "            total += price\n",
    "            print(f'Found {look_for} by {one_book.author}, price is {price}; new total is {total}')\n",
    "            break\n",
    "            \n",
    "    else:  # this fires if we got to the natural end of the loop -- NOT exiting via break\n",
    "        print(f'We do not have {look_for}')\n",
    "            \n",
    "print(f'{total=}')"
   ]
  },
  {
   "cell_type": "markdown",
   "id": "f4796b8f-5e36-48a5-95a9-a4a158193379",
   "metadata": {},
   "source": [
    "# Next up:\n",
    "\n",
    "- Dictionaries \n",
    "- Sets\n",
    "- Variants on dicts\n",
    "\n",
    "Return at 11 Paris Time"
   ]
  },
  {
   "cell_type": "markdown",
   "id": "39d70a43-ebca-49eb-a2e9-785855179c52",
   "metadata": {},
   "source": [
    "# Names for dictionaries\n",
    "\n",
    "- Hash table\n",
    "- Hash\n",
    "- Hash map\n",
    "- Map\n",
    "- Key-value store\n",
    "- Name-value store\n",
    "- Associative array"
   ]
  },
  {
   "cell_type": "code",
   "execution_count": 142,
   "id": "e9b20828-1f09-4a88-ad5f-de87e45afa72",
   "metadata": {},
   "outputs": [
    {
     "data": {
      "text/plain": [
       "3"
      ]
     },
     "execution_count": 142,
     "metadata": {},
     "output_type": "execute_result"
    }
   ],
   "source": [
    "d = {'a':1, 'b':2, 'c':3}\n",
    "len(d)"
   ]
  },
  {
   "cell_type": "code",
   "execution_count": 143,
   "id": "d6b5790f-1faf-4d1d-9e0c-94244afeb54b",
   "metadata": {},
   "outputs": [
    {
     "data": {
      "text/plain": [
       "1"
      ]
     },
     "execution_count": 143,
     "metadata": {},
     "output_type": "execute_result"
    }
   ],
   "source": [
    "d['a']"
   ]
  },
  {
   "cell_type": "code",
   "execution_count": 144,
   "id": "d4c5324f-8f8a-44ea-a570-9e386a1159ff",
   "metadata": {},
   "outputs": [
    {
     "data": {
      "text/plain": [
       "2"
      ]
     },
     "execution_count": 144,
     "metadata": {},
     "output_type": "execute_result"
    }
   ],
   "source": [
    "d['b']"
   ]
  },
  {
   "cell_type": "code",
   "execution_count": 145,
   "id": "1d025119-0f38-4208-a6d0-6ab5fe40180b",
   "metadata": {},
   "outputs": [
    {
     "ename": "KeyError",
     "evalue": "'x'",
     "output_type": "error",
     "traceback": [
      "\u001b[0;31m---------------------------------------------------------------------------\u001b[0m",
      "\u001b[0;31mKeyError\u001b[0m                                  Traceback (most recent call last)",
      "\u001b[0;32m/var/folders/rr/0mnyyv811fs5vyp22gf4fxk00000gn/T/ipykernel_19718/2324463119.py\u001b[0m in \u001b[0;36m<module>\u001b[0;34m\u001b[0m\n\u001b[0;32m----> 1\u001b[0;31m \u001b[0md\u001b[0m\u001b[0;34m[\u001b[0m\u001b[0;34m'x'\u001b[0m\u001b[0;34m]\u001b[0m\u001b[0;34m\u001b[0m\u001b[0;34m\u001b[0m\u001b[0m\n\u001b[0m",
      "\u001b[0;31mKeyError\u001b[0m: 'x'"
     ]
    }
   ],
   "source": [
    "d['x']"
   ]
  },
  {
   "cell_type": "code",
   "execution_count": 146,
   "id": "0e0e46b6-2da1-4468-89c3-d739962fd377",
   "metadata": {},
   "outputs": [
    {
     "data": {
      "text/plain": [
       "{'a': 1, 'b': 2, 'c': 3}"
      ]
     },
     "execution_count": 146,
     "metadata": {},
     "output_type": "execute_result"
    }
   ],
   "source": [
    "d"
   ]
  },
  {
   "cell_type": "code",
   "execution_count": 147,
   "id": "d41a31e5-a008-45cf-88c1-ff7561e12487",
   "metadata": {},
   "outputs": [],
   "source": [
    "d['x'] = 100   # this will either add to the dict (if 'x' isn't yet a key) or will replace the existing value\n"
   ]
  },
  {
   "cell_type": "code",
   "execution_count": 148,
   "id": "3a80aec8-c1f9-4ccc-9787-2b3018de4c13",
   "metadata": {},
   "outputs": [
    {
     "data": {
      "text/plain": [
       "{'a': 1, 'b': 2, 'c': 3, 'x': 100}"
      ]
     },
     "execution_count": 148,
     "metadata": {},
     "output_type": "execute_result"
    }
   ],
   "source": [
    "d"
   ]
  },
  {
   "cell_type": "code",
   "execution_count": 149,
   "id": "932be0df-9a4e-471e-a9ae-58089fe180d7",
   "metadata": {},
   "outputs": [
    {
     "data": {
      "text/plain": [
       "100"
      ]
     },
     "execution_count": 149,
     "metadata": {},
     "output_type": "execute_result"
    }
   ],
   "source": [
    "# remove something from a dict\n",
    "\n",
    "d.pop('x')  # removes the pair, and returns the value"
   ]
  },
  {
   "cell_type": "code",
   "execution_count": 150,
   "id": "1bf9e6e2-df40-4e4a-b0d0-de4bad1789a9",
   "metadata": {},
   "outputs": [
    {
     "ename": "KeyError",
     "evalue": "'x'",
     "output_type": "error",
     "traceback": [
      "\u001b[0;31m---------------------------------------------------------------------------\u001b[0m",
      "\u001b[0;31mKeyError\u001b[0m                                  Traceback (most recent call last)",
      "\u001b[0;32m/var/folders/rr/0mnyyv811fs5vyp22gf4fxk00000gn/T/ipykernel_19718/1348887736.py\u001b[0m in \u001b[0;36m<module>\u001b[0;34m\u001b[0m\n\u001b[0;32m----> 1\u001b[0;31m \u001b[0md\u001b[0m\u001b[0;34m.\u001b[0m\u001b[0mpop\u001b[0m\u001b[0;34m(\u001b[0m\u001b[0;34m'x'\u001b[0m\u001b[0;34m)\u001b[0m\u001b[0;34m\u001b[0m\u001b[0;34m\u001b[0m\u001b[0m\n\u001b[0m",
      "\u001b[0;31mKeyError\u001b[0m: 'x'"
     ]
    }
   ],
   "source": [
    "d.pop('x')"
   ]
  },
  {
   "cell_type": "code",
   "execution_count": 151,
   "id": "d1977c99-85c2-4221-9e78-4fc94abc1758",
   "metadata": {},
   "outputs": [
    {
     "data": {
      "text/plain": [
       "1"
      ]
     },
     "execution_count": 151,
     "metadata": {},
     "output_type": "execute_result"
    }
   ],
   "source": [
    "# I want to retrieve from a dict and *not* get an error if the key doesn't exist\n",
    "# I could use if-else... or I can use dict.get\n",
    "\n",
    "d.get('a')  # this means: if 'a' is a key in d, return d['a'] otherwise, return None"
   ]
  },
  {
   "cell_type": "code",
   "execution_count": 152,
   "id": "7f941026-bc74-407a-8427-e893f6f08217",
   "metadata": {},
   "outputs": [],
   "source": [
    "d.get('q')  "
   ]
  },
  {
   "cell_type": "code",
   "execution_count": 153,
   "id": "143f8fbe-1a91-4892-b4f6-7aa649e530f8",
   "metadata": {},
   "outputs": [
    {
     "data": {
      "text/plain": [
       "'No such key'"
      ]
     },
     "execution_count": 153,
     "metadata": {},
     "output_type": "execute_result"
    }
   ],
   "source": [
    "# Alternative: Pass a second argument to dict.get, and that'll be the default\n",
    "d.get('q', 'No such key')"
   ]
  },
  {
   "cell_type": "code",
   "execution_count": 154,
   "id": "180f3fcb-609d-4269-af23-cb2c6263ecb3",
   "metadata": {},
   "outputs": [
    {
     "data": {
      "text/plain": [
       "{'a': 1, 'b': 2, 'c': 3}"
      ]
     },
     "execution_count": 154,
     "metadata": {},
     "output_type": "execute_result"
    }
   ],
   "source": [
    "# I want to assign to a dict, and only add a new key-value pair.  If the key already exists, then\n",
    "# I want to ignore my assignment.\n",
    "\n",
    "d"
   ]
  },
  {
   "cell_type": "code",
   "execution_count": 156,
   "id": "d9ab113e-f2e9-40b3-9b40-68b58793c271",
   "metadata": {},
   "outputs": [
    {
     "data": {
      "text/plain": [
       "100"
      ]
     },
     "execution_count": 156,
     "metadata": {},
     "output_type": "execute_result"
    }
   ],
   "source": [
    "d.setdefault('x', 100)   # it'll return 100, since I successfully added 'x', and 100 is its value"
   ]
  },
  {
   "cell_type": "code",
   "execution_count": 157,
   "id": "9ed43db2-d123-427a-99d1-45d51eed488c",
   "metadata": {},
   "outputs": [
    {
     "data": {
      "text/plain": [
       "100"
      ]
     },
     "execution_count": 157,
     "metadata": {},
     "output_type": "execute_result"
    }
   ],
   "source": [
    "d.setdefault('x', 2)     # returns 100, because 'x' is already a key -- so we get the existing value to indicate our assignment failed"
   ]
  },
  {
   "cell_type": "code",
   "execution_count": 158,
   "id": "c98fdac5-930b-44d9-a5f7-8c02f49f434c",
   "metadata": {},
   "outputs": [],
   "source": [
    "d = {'a':1, 'b':2, 'c':3}\n",
    "other = {'b':20, 'c':30, 'd':40}\n",
    "\n",
    "d.update(other)  # assign each key-value pair from other onto d -- d will change *and* any conflicts are in favor of \"other\""
   ]
  },
  {
   "cell_type": "code",
   "execution_count": 159,
   "id": "8de74ff0-a7df-42f5-af39-4239a4567a85",
   "metadata": {},
   "outputs": [
    {
     "data": {
      "text/plain": [
       "{'a': 1, 'b': 20, 'c': 30, 'd': 40}"
      ]
     },
     "execution_count": 159,
     "metadata": {},
     "output_type": "execute_result"
    }
   ],
   "source": [
    "d"
   ]
  },
  {
   "cell_type": "code",
   "execution_count": 160,
   "id": "284a2989-c565-48df-a533-327d294a164f",
   "metadata": {},
   "outputs": [
    {
     "data": {
      "text/plain": [
       "{'a': 1, 'b': 20, 'c': 30, 'd': 40}"
      ]
     },
     "execution_count": 160,
     "metadata": {},
     "output_type": "execute_result"
    }
   ],
   "source": [
    "# as of Python 3.9, we don't have to change d!  We can use the | operator to do this and get a new dict back\n",
    "\n",
    "d = {'a':1, 'b':2, 'c':3}\n",
    "other = {'b':20, 'c':30, 'd':40}\n",
    "\n",
    "d | other"
   ]
  },
  {
   "cell_type": "code",
   "execution_count": 161,
   "id": "af5d467c-a3c7-473d-ae5e-479c99d775a9",
   "metadata": {},
   "outputs": [
    {
     "data": {
      "text/plain": [
       "{'a': 1, 'b': 2, 'c': 3}"
      ]
     },
     "execution_count": 161,
     "metadata": {},
     "output_type": "execute_result"
    }
   ],
   "source": [
    "d"
   ]
  },
  {
   "cell_type": "code",
   "execution_count": 162,
   "id": "3bbf606f-d64b-476b-83f4-145b2dc046ff",
   "metadata": {},
   "outputs": [],
   "source": [
    "d |= other   # basically, same as d.update(other)"
   ]
  },
  {
   "cell_type": "code",
   "execution_count": 163,
   "id": "2df1db75-ddc2-4a60-ae0c-77673d326aac",
   "metadata": {},
   "outputs": [
    {
     "data": {
      "text/plain": [
       "{'a': 1, 'b': 20, 'c': 30, 'd': 40}"
      ]
     },
     "execution_count": 163,
     "metadata": {},
     "output_type": "execute_result"
    }
   ],
   "source": [
    "d"
   ]
  },
  {
   "cell_type": "code",
   "execution_count": 165,
   "id": "de9bf631-0748-44ab-91d0-76f3eb0191ee",
   "metadata": {},
   "outputs": [
    {
     "data": {
      "text/plain": [
       "{'a': None, 'b': None, 'c': None, 'd': None}"
      ]
     },
     "execution_count": 165,
     "metadata": {},
     "output_type": "execute_result"
    }
   ],
   "source": [
    "# creating dicts\n",
    "\n",
    "# I want to create a new dict with keys a, b, c, and d.  All values should be 0.\n",
    "\n",
    "dict.fromkeys('abcd')  # by default, all values are None"
   ]
  },
  {
   "cell_type": "code",
   "execution_count": 166,
   "id": "9a634858-4802-426d-876c-87fd1949daf1",
   "metadata": {},
   "outputs": [
    {
     "data": {
      "text/plain": [
       "{'a': 0, 'b': 0, 'c': 0, 'd': 0}"
      ]
     },
     "execution_count": 166,
     "metadata": {},
     "output_type": "execute_result"
    }
   ],
   "source": [
    "dict.fromkeys('abcd', 0)"
   ]
  },
  {
   "cell_type": "code",
   "execution_count": 168,
   "id": "730518ea-30c7-4a57-b1a5-dc01c529d71a",
   "metadata": {},
   "outputs": [
    {
     "data": {
      "text/plain": [
       "{'a': [], 'b': [], 'c': [], 'd': []}"
      ]
     },
     "execution_count": 168,
     "metadata": {},
     "output_type": "execute_result"
    }
   ],
   "source": [
    "# beware mutable values!\n",
    "\n",
    "d = dict.fromkeys('abcd', [])\n",
    "d"
   ]
  },
  {
   "cell_type": "code",
   "execution_count": 169,
   "id": "37d7330b-04cd-4525-9801-9f3e6ebd9b4f",
   "metadata": {},
   "outputs": [],
   "source": [
    "d['a'].append('hello')"
   ]
  },
  {
   "cell_type": "code",
   "execution_count": 170,
   "id": "8e710dbc-88bf-42df-8bf5-6f32815631a9",
   "metadata": {},
   "outputs": [
    {
     "data": {
      "text/plain": [
       "['hello']"
      ]
     },
     "execution_count": 170,
     "metadata": {},
     "output_type": "execute_result"
    }
   ],
   "source": [
    "d['a']"
   ]
  },
  {
   "cell_type": "code",
   "execution_count": 171,
   "id": "9504859b-b617-4efb-93fc-c719d7becd84",
   "metadata": {},
   "outputs": [
    {
     "data": {
      "text/plain": [
       "['hello']"
      ]
     },
     "execution_count": 171,
     "metadata": {},
     "output_type": "execute_result"
    }
   ],
   "source": [
    "d['b']"
   ]
  },
  {
   "cell_type": "code",
   "execution_count": 172,
   "id": "90ef0e78-02e0-41b9-8e90-85a4eb7e1daf",
   "metadata": {},
   "outputs": [
    {
     "data": {
      "text/plain": [
       "['hello']"
      ]
     },
     "execution_count": 172,
     "metadata": {},
     "output_type": "execute_result"
    }
   ],
   "source": [
    "d['c']"
   ]
  },
  {
   "cell_type": "code",
   "execution_count": 173,
   "id": "f98622cf-cbbc-400d-8be5-da2d78259495",
   "metadata": {},
   "outputs": [
    {
     "data": {
      "text/plain": [
       "['hello']"
      ]
     },
     "execution_count": 173,
     "metadata": {},
     "output_type": "execute_result"
    }
   ],
   "source": [
    "d['d']"
   ]
  },
  {
   "cell_type": "code",
   "execution_count": 174,
   "id": "206d7726-a87c-4512-a9ce-4dab1f06e27b",
   "metadata": {},
   "outputs": [
    {
     "ename": "TypeError",
     "evalue": "unhashable type: 'list'",
     "output_type": "error",
     "traceback": [
      "\u001b[0;31m---------------------------------------------------------------------------\u001b[0m",
      "\u001b[0;31mTypeError\u001b[0m                                 Traceback (most recent call last)",
      "\u001b[0;32m/var/folders/rr/0mnyyv811fs5vyp22gf4fxk00000gn/T/ipykernel_19718/182766810.py\u001b[0m in \u001b[0;36m<module>\u001b[0;34m\u001b[0m\n\u001b[1;32m      1\u001b[0m \u001b[0mmylist\u001b[0m \u001b[0;34m=\u001b[0m \u001b[0;34m[\u001b[0m\u001b[0;36m10\u001b[0m\u001b[0;34m,\u001b[0m \u001b[0;36m20\u001b[0m\u001b[0;34m,\u001b[0m \u001b[0;36m30\u001b[0m\u001b[0;34m]\u001b[0m\u001b[0;34m\u001b[0m\u001b[0;34m\u001b[0m\u001b[0m\n\u001b[1;32m      2\u001b[0m \u001b[0;34m\u001b[0m\u001b[0m\n\u001b[0;32m----> 3\u001b[0;31m \u001b[0md\u001b[0m\u001b[0;34m[\u001b[0m\u001b[0mmylist\u001b[0m\u001b[0;34m]\u001b[0m \u001b[0;34m=\u001b[0m \u001b[0;36m5\u001b[0m\u001b[0;34m\u001b[0m\u001b[0;34m\u001b[0m\u001b[0m\n\u001b[0m",
      "\u001b[0;31mTypeError\u001b[0m: unhashable type: 'list'"
     ]
    }
   ],
   "source": [
    "mylist = [10, 20, 30]\n",
    "\n",
    "d[mylist] = 5"
   ]
  },
  {
   "cell_type": "markdown",
   "id": "4c013b92-72b4-446e-b3b3-68b1bed4d73d",
   "metadata": {},
   "source": [
    "# How are dicts implemented?\n",
    "\n",
    "## Part 1: Before Python 3.6\n",
    "\n",
    "In the olden days, dictionaries were simple hash tables.  Meaning: The location of a key-value pair was determined by the value returned by `hash(key)`. "
   ]
  },
  {
   "cell_type": "raw",
   "id": "cf98ae64-96f9-404e-a76b-b3965f10547e",
   "metadata": {},
   "source": [
    "Hash table -- when started, a dict would contain 8 rows, numbered 0-7 (we don't have access to these numbers).\n",
    "\n",
    "     k      v\n",
    "0     'c'    3\n",
    "1\n",
    "2\n",
    "3     'a'     1\n",
    "4\n",
    "5\n",
    "6\n",
    "7     'b'     2\n",
    "     "
   ]
  },
  {
   "cell_type": "code",
   "execution_count": 176,
   "id": "329ff7e8-129d-4036-9eb5-f5b06855135d",
   "metadata": {},
   "outputs": [
    {
     "data": {
      "text/plain": [
       "3"
      ]
     },
     "execution_count": 176,
     "metadata": {},
     "output_type": "execute_result"
    }
   ],
   "source": [
    "d['a'] = 1\n",
    "\n",
    "hash('a') % 8    # gives us a result from 0-7"
   ]
  },
  {
   "cell_type": "code",
   "execution_count": 177,
   "id": "35be98af-eab7-4c45-8730-62d01378e178",
   "metadata": {},
   "outputs": [],
   "source": [
    "d['b'] = 2\n",
    "d['c'] = 3"
   ]
  },
  {
   "cell_type": "code",
   "execution_count": 178,
   "id": "9fe25310-77e2-49de-ad35-f578775cf7dc",
   "metadata": {},
   "outputs": [
    {
     "data": {
      "text/plain": [
       "7"
      ]
     },
     "execution_count": 178,
     "metadata": {},
     "output_type": "execute_result"
    }
   ],
   "source": [
    "hash('b') % 8"
   ]
  },
  {
   "cell_type": "code",
   "execution_count": 179,
   "id": "370be8a8-6da4-42c1-9858-479d661a55ed",
   "metadata": {},
   "outputs": [
    {
     "data": {
      "text/plain": [
       "7"
      ]
     },
     "execution_count": 179,
     "metadata": {},
     "output_type": "execute_result"
    }
   ],
   "source": [
    "hash('c') % 8"
   ]
  },
  {
   "cell_type": "markdown",
   "id": "dc8711fa-8916-4c1d-b133-159aa909a550",
   "metadata": {},
   "source": [
    "# Good and bad with this implementation\n",
    "\n",
    "Good\n",
    "- Simple to understand \n",
    "- Simple to implement\n",
    "- Even collisions are fairly straightforward\n",
    "- Searching by key is very fast -- O(1), or constant time\n",
    "- When our dict reaches 2/3 fullness, it doubles in size -- again, easy to deal with\n",
    "\n",
    "Bad\n",
    "- We're allocating far more space than we need (to ensure lots of empty slots)\n",
    "- The order of items in a dict is completely unknowable\n",
    "- Mutable data cannot be used as a key -- because if it changes, then the value of `hash(key)` will change, and our values will get lost"
   ]
  },
  {
   "cell_type": "markdown",
   "id": "f22414f5-ce40-4736-ad6b-b62395991dfd",
   "metadata": {},
   "source": [
    "# Dictionary implementation, starting in 3.6\n",
    "\n",
    "Now we use *two* data structures:\n",
    "- A table that grows over time, with one row added for each new key-value pair in the dict.\n",
    "- An array (at the C level) that keeps track of the indexes in that table."
   ]
  },
  {
   "cell_type": "raw",
   "id": "8b913554-f6b5-4594-b4a8-d90829892831",
   "metadata": {},
   "source": [
    "Two data structures:\n",
    "\n",
    "(1) Table\n",
    "index    key      value\n",
    "  0       'a'       1\n",
    "  \n",
    "\n",
    "\n",
    "\n",
    "(2) \n",
    "Array, starts with 8 elements\n",
    "[None,None,None,None,None,None,None,None]"
   ]
  },
  {
   "cell_type": "code",
   "execution_count": 180,
   "id": "5d9288e7-42d1-4cba-a5f5-c9a91b9fcf16",
   "metadata": {},
   "outputs": [
    {
     "data": {
      "text/plain": [
       "3"
      ]
     },
     "execution_count": 180,
     "metadata": {},
     "output_type": "execute_result"
    }
   ],
   "source": [
    "d = {}\n",
    "d['a'] = 1\n",
    "hash('a') % 8"
   ]
  },
  {
   "cell_type": "code",
   "execution_count": 181,
   "id": "cfc676e4-76be-4b0b-a76b-315ccda3cd13",
   "metadata": {},
   "outputs": [],
   "source": [
    "d['b'] = 2\n",
    "d['c'] = 3"
   ]
  },
  {
   "cell_type": "code",
   "execution_count": null,
   "id": "c92c14df-bc8c-4784-8580-1772e9fdf263",
   "metadata": {},
   "outputs": [],
   "source": []
  }
 ],
 "metadata": {
  "kernelspec": {
   "display_name": "Python 3 (ipykernel)",
   "language": "python",
   "name": "python3"
  },
  "language_info": {
   "codemirror_mode": {
    "name": "ipython",
    "version": 3
   },
   "file_extension": ".py",
   "mimetype": "text/x-python",
   "name": "python",
   "nbconvert_exporter": "python",
   "pygments_lexer": "ipython3",
   "version": "3.10.0"
  }
 },
 "nbformat": 4,
 "nbformat_minor": 5
}
