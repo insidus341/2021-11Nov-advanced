{
 "cells": [
  {
   "cell_type": "markdown",
   "id": "88885e73-adf4-42a7-a983-798ea8dc5d9a",
   "metadata": {},
   "source": [
    "# Agenda\n",
    "\n",
    "1. Data structures (Monday)\n",
    "    - Built-in data strucures (behind the scenes)\n",
    "    - Advanced data structures (`namedtuple`, `Counter`, etc. from the `collections` module)\n",
    "2. Functions (Monday + Tuesday)\n",
    "    - Function objects\n",
    "    - Parameters\n",
    "    - Mapping arguments to parameters\n",
    "    - LEGB rule for variable lookup + scoping\n",
    "    - Inner functions + closures\n",
    "    - Storing functions as objects\n",
    "3. Functional programming (Tuesday)\n",
    "    - Comprehensions\n",
    "    - Passing functions as arguments to other functions\n",
    "    - `lambda` and similar functional-programming systems\n",
    "4. Modules + packages (Tuesday + Wednesday)\n",
    "    - How modules work\n",
    "    - Packages vs. modules\n",
    "    - PyPI\n",
    "5. Objects (Wednesday)\n",
    "    - What are objects?\n",
    "    - Classes, methods, instances\n",
    "    - Inheritance\n",
    "    - Attributes -- one of the most important things you can learn in Python!\n",
    "    - ICPO rule for attribute lookup\n",
    "    - Magic methods\n",
    "    - Properties\n",
    "    - Descriptors    \n",
    "6. Iterators + generators (Thursday)\n",
    "    - Iterator protocol\n",
    "    - Adding iteration to a class\n",
    "    - Generator functions\n",
    "    - Generator comprehensions\n",
    "7. Decorators (Thursday)\n",
    "    - What are they?\n",
    "    - Writing decorators \n",
    "8. Concurrency (threads + processes) (Thursday)\n",
    "    - Multithreading in Python\n",
    "    - Multiprocessing "
   ]
  },
  {
   "cell_type": "code",
   "execution_count": 1,
   "id": "0ac45a16-fcb3-4828-8aec-930b094a45b9",
   "metadata": {},
   "outputs": [
    {
     "data": {
      "text/plain": [
       "'3.10.0 (default, Oct 13 2021, 06:45:00) [Clang 13.0.0 (clang-1300.0.29.3)]'"
      ]
     },
     "execution_count": 1,
     "metadata": {},
     "output_type": "execute_result"
    }
   ],
   "source": [
    "import sys\n",
    "sys.version"
   ]
  },
  {
   "cell_type": "code",
   "execution_count": 4,
   "id": "c0e26905-1697-4c9a-91f7-14c482006ce6",
   "metadata": {},
   "outputs": [
    {
     "ename": "NameError",
     "evalue": "name 'naem' is not defined",
     "output_type": "error",
     "traceback": [
      "\u001b[0;31m---------------------------------------------------------------------------\u001b[0m",
      "\u001b[0;31mNameError\u001b[0m                                 Traceback (most recent call last)",
      "\u001b[0;32m/var/folders/rr/0mnyyv811fs5vyp22gf4fxk00000gn/T/ipykernel_19718/162852798.py\u001b[0m in \u001b[0;36m<module>\u001b[0;34m\u001b[0m\n\u001b[1;32m      1\u001b[0m \u001b[0mname\u001b[0m \u001b[0;34m=\u001b[0m \u001b[0;34m'Reuven'\u001b[0m\u001b[0;34m\u001b[0m\u001b[0;34m\u001b[0m\u001b[0m\n\u001b[0;32m----> 2\u001b[0;31m \u001b[0mprint\u001b[0m\u001b[0;34m(\u001b[0m\u001b[0mnaem\u001b[0m\u001b[0;34m)\u001b[0m\u001b[0;34m\u001b[0m\u001b[0;34m\u001b[0m\u001b[0m\n\u001b[0m",
      "\u001b[0;31mNameError\u001b[0m: name 'naem' is not defined"
     ]
    }
   ],
   "source": [
    "name = 'Reuven'\n",
    "print(naem)"
   ]
  },
  {
   "cell_type": "markdown",
   "id": "39dc5ebf-0415-4acf-ae46-ef2618100cbe",
   "metadata": {},
   "source": [
    "# Data structures"
   ]
  },
  {
   "cell_type": "code",
   "execution_count": 5,
   "id": "d89a4c03-bd5f-4068-9536-e2b32014b826",
   "metadata": {},
   "outputs": [],
   "source": [
    "x = None"
   ]
  },
  {
   "cell_type": "code",
   "execution_count": 7,
   "id": "0cb26e36-c91e-4b5d-93c3-1bf4475d28b5",
   "metadata": {},
   "outputs": [
    {
     "name": "stdout",
     "output_type": "stream",
     "text": [
      "None\n"
     ]
    }
   ],
   "source": [
    "print(x)"
   ]
  },
  {
   "cell_type": "code",
   "execution_count": 8,
   "id": "e1c268b3-9938-440c-896a-3f34b215474f",
   "metadata": {},
   "outputs": [],
   "source": [
    "x"
   ]
  },
  {
   "cell_type": "code",
   "execution_count": 9,
   "id": "81935911-3d26-4007-96ed-58ac9a05b816",
   "metadata": {},
   "outputs": [
    {
     "data": {
      "text/plain": [
       "NoneType"
      ]
     },
     "execution_count": 9,
     "metadata": {},
     "output_type": "execute_result"
    }
   ],
   "source": [
    "type(None)"
   ]
  },
  {
   "cell_type": "code",
   "execution_count": 10,
   "id": "d5fc7496-f59f-4174-ada0-66eb3dc14659",
   "metadata": {},
   "outputs": [],
   "source": [
    "x = None\n",
    "y = None\n",
    "z = None"
   ]
  },
  {
   "cell_type": "code",
   "execution_count": 12,
   "id": "4555338f-5430-42a4-9fa5-a903dd32fb45",
   "metadata": {},
   "outputs": [
    {
     "data": {
      "text/plain": [
       "True"
      ]
     },
     "execution_count": 12,
     "metadata": {},
     "output_type": "execute_result"
    }
   ],
   "source": [
    "# is x the same as None?\n",
    "\n",
    "x == None    # not Pythonic!"
   ]
  },
  {
   "cell_type": "code",
   "execution_count": 13,
   "id": "9ca02300-5f7b-4916-946e-58170f45defc",
   "metadata": {},
   "outputs": [],
   "source": [
    "# None is a singleton.  Every None is the same None."
   ]
  },
  {
   "cell_type": "code",
   "execution_count": 14,
   "id": "7abbb101-605e-465a-8738-68fdd94f6029",
   "metadata": {},
   "outputs": [
    {
     "data": {
      "text/plain": [
       "True"
      ]
     },
     "execution_count": 14,
     "metadata": {},
     "output_type": "execute_result"
    }
   ],
   "source": [
    "x = None\n",
    "y = None\n",
    "\n",
    "x is y   # this asks: are x and y both referring to precisely the same object?"
   ]
  },
  {
   "cell_type": "code",
   "execution_count": null,
   "id": "0634273e-f71f-48ec-a745-83d14f00dfd7",
   "metadata": {},
   "outputs": [],
   "source": []
  }
 ],
 "metadata": {
  "kernelspec": {
   "display_name": "Python 3 (ipykernel)",
   "language": "python",
   "name": "python3"
  },
  "language_info": {
   "codemirror_mode": {
    "name": "ipython",
    "version": 3
   },
   "file_extension": ".py",
   "mimetype": "text/x-python",
   "name": "python",
   "nbconvert_exporter": "python",
   "pygments_lexer": "ipython3",
   "version": "3.10.0"
  }
 },
 "nbformat": 4,
 "nbformat_minor": 5
}
