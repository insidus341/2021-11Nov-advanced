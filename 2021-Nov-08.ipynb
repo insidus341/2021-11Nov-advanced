{
 "cells": [
  {
   "cell_type": "markdown",
   "id": "88885e73-adf4-42a7-a983-798ea8dc5d9a",
   "metadata": {},
   "source": [
    "# Agenda\n",
    "\n",
    "1. Data structures (Monday)\n",
    "    - Built-in data strucures (behind the scenes)\n",
    "    - Advanced data structures (`namedtuple`, `Counter`, etc. from the `collections` module)\n",
    "2. Functions (Monday + Tuesday)\n",
    "    - Function objects\n",
    "    - Parameters\n",
    "    - Mapping arguments to parameters\n",
    "    - LEGB rule for variable lookup + scoping\n",
    "    - Inner functions + closures\n",
    "    - Storing functions as objects\n",
    "3. Functional programming (Tuesday)\n",
    "    - Comprehensions\n",
    "    - Passing functions as arguments to other functions\n",
    "    - `lambda` and similar functional-programming systems\n",
    "4. Modules + packages (Tuesday + Wednesday)\n",
    "    - How modules work\n",
    "    - Packages vs. modules\n",
    "    - PyPI\n",
    "5. Objects (Wednesday)\n",
    "    - What are objects?\n",
    "    - Classes, methods, instances\n",
    "    - Inheritance\n",
    "    - Attributes -- one of the most important things you can learn in Python!\n",
    "    - ICPO rule for attribute lookup\n",
    "    - Magic methods\n",
    "    - Properties\n",
    "    - Descriptors    \n",
    "6. Iterators + generators\n",
    "    - Iterator protocol\n",
    "    - Adding iteration to a class\n",
    "    - Generator functions\n",
    "    - Generator comprehensions\n",
    "7. Decorators\n",
    "    - What are they?\n",
    "    - Writing decorators \n",
    "8. Concurrency (threads + processes)\n",
    "    - Multithreading in Python\n",
    "    - Multiporc"
   ]
  }
 ],
 "metadata": {
  "kernelspec": {
   "display_name": "Python 3 (ipykernel)",
   "language": "python",
   "name": "python3"
  },
  "language_info": {
   "codemirror_mode": {
    "name": "ipython",
    "version": 3
   },
   "file_extension": ".py",
   "mimetype": "text/x-python",
   "name": "python",
   "nbconvert_exporter": "python",
   "pygments_lexer": "ipython3",
   "version": "3.10.0"
  }
 },
 "nbformat": 4,
 "nbformat_minor": 5
}
