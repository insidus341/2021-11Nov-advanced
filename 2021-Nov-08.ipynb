{
 "cells": [
  {
   "cell_type": "markdown",
   "id": "88885e73-adf4-42a7-a983-798ea8dc5d9a",
   "metadata": {},
   "source": [
    "# Agenda\n",
    "\n",
    "1. Data structures (Monday)\n",
    "    - Built-in data strucures (behind the scenes)\n",
    "    - Advanced data structures (`namedtuple`, `Counter`, etc. from the `collections` module)\n",
    "2. Functions (Monday + Tuesday)\n",
    "    - Function objects\n",
    "    - Parameters\n",
    "    - Mapping arguments to parameters\n",
    "    - LEGB rule for variable lookup + scoping\n",
    "    - Inner functions + closures\n",
    "    - Storing functions as objects\n",
    "3. Functional programming (Tuesday)\n",
    "    - Comprehensions\n",
    "    - Passing functions as arguments to other functions\n",
    "    - `lambda` and similar functional-programming systems\n",
    "4. Modules + packages (Tuesday + Wednesday)\n",
    "    - How modules work\n",
    "    - Packages vs. modules\n",
    "    - PyPI\n",
    "5. Objects (Wednesday)\n",
    "    - What are objects?\n",
    "    - Classes, methods, instances\n",
    "    - Inheritance\n",
    "    - Attributes -- one of the most important things you can learn in Python!\n",
    "    - ICPO rule for attribute lookup\n",
    "    - Magic methods\n",
    "    - Properties\n",
    "    - Descriptors    \n",
    "6. Iterators + generators (Thursday)\n",
    "    - Iterator protocol\n",
    "    - Adding iteration to a class\n",
    "    - Generator functions\n",
    "    - Generator comprehensions\n",
    "7. Decorators (Thursday)\n",
    "    - What are they?\n",
    "    - Writing decorators \n",
    "8. Concurrency (threads + processes) (Thursday)\n",
    "    - Multithreading in Python\n",
    "    - Multiprocessing "
   ]
  },
  {
   "cell_type": "code",
   "execution_count": 1,
   "id": "0ac45a16-fcb3-4828-8aec-930b094a45b9",
   "metadata": {},
   "outputs": [
    {
     "data": {
      "text/plain": [
       "'3.10.0 (default, Oct 13 2021, 06:45:00) [Clang 13.0.0 (clang-1300.0.29.3)]'"
      ]
     },
     "execution_count": 1,
     "metadata": {},
     "output_type": "execute_result"
    }
   ],
   "source": [
    "import sys\n",
    "sys.version"
   ]
  },
  {
   "cell_type": "code",
   "execution_count": 4,
   "id": "c0e26905-1697-4c9a-91f7-14c482006ce6",
   "metadata": {},
   "outputs": [
    {
     "ename": "NameError",
     "evalue": "name 'naem' is not defined",
     "output_type": "error",
     "traceback": [
      "\u001b[0;31m---------------------------------------------------------------------------\u001b[0m",
      "\u001b[0;31mNameError\u001b[0m                                 Traceback (most recent call last)",
      "\u001b[0;32m/var/folders/rr/0mnyyv811fs5vyp22gf4fxk00000gn/T/ipykernel_19718/162852798.py\u001b[0m in \u001b[0;36m<module>\u001b[0;34m\u001b[0m\n\u001b[1;32m      1\u001b[0m \u001b[0mname\u001b[0m \u001b[0;34m=\u001b[0m \u001b[0;34m'Reuven'\u001b[0m\u001b[0;34m\u001b[0m\u001b[0;34m\u001b[0m\u001b[0m\n\u001b[0;32m----> 2\u001b[0;31m \u001b[0mprint\u001b[0m\u001b[0;34m(\u001b[0m\u001b[0mnaem\u001b[0m\u001b[0;34m)\u001b[0m\u001b[0;34m\u001b[0m\u001b[0;34m\u001b[0m\u001b[0m\n\u001b[0m",
      "\u001b[0;31mNameError\u001b[0m: name 'naem' is not defined"
     ]
    }
   ],
   "source": [
    "name = 'Reuven'\n",
    "print(naem)"
   ]
  },
  {
   "cell_type": "markdown",
   "id": "39dc5ebf-0415-4acf-ae46-ef2618100cbe",
   "metadata": {},
   "source": [
    "# Data structures"
   ]
  },
  {
   "cell_type": "code",
   "execution_count": 5,
   "id": "d89a4c03-bd5f-4068-9536-e2b32014b826",
   "metadata": {},
   "outputs": [],
   "source": [
    "x = None"
   ]
  },
  {
   "cell_type": "code",
   "execution_count": 7,
   "id": "0cb26e36-c91e-4b5d-93c3-1bf4475d28b5",
   "metadata": {},
   "outputs": [
    {
     "name": "stdout",
     "output_type": "stream",
     "text": [
      "None\n"
     ]
    }
   ],
   "source": [
    "print(x)"
   ]
  },
  {
   "cell_type": "code",
   "execution_count": 8,
   "id": "e1c268b3-9938-440c-896a-3f34b215474f",
   "metadata": {},
   "outputs": [],
   "source": [
    "x"
   ]
  },
  {
   "cell_type": "code",
   "execution_count": 9,
   "id": "81935911-3d26-4007-96ed-58ac9a05b816",
   "metadata": {},
   "outputs": [
    {
     "data": {
      "text/plain": [
       "NoneType"
      ]
     },
     "execution_count": 9,
     "metadata": {},
     "output_type": "execute_result"
    }
   ],
   "source": [
    "type(None)"
   ]
  },
  {
   "cell_type": "code",
   "execution_count": 10,
   "id": "d5fc7496-f59f-4174-ada0-66eb3dc14659",
   "metadata": {},
   "outputs": [],
   "source": [
    "x = None\n",
    "y = None\n",
    "z = None"
   ]
  },
  {
   "cell_type": "code",
   "execution_count": 12,
   "id": "4555338f-5430-42a4-9fa5-a903dd32fb45",
   "metadata": {},
   "outputs": [
    {
     "data": {
      "text/plain": [
       "True"
      ]
     },
     "execution_count": 12,
     "metadata": {},
     "output_type": "execute_result"
    }
   ],
   "source": [
    "# is x the same as None?\n",
    "\n",
    "x == None    # not Pythonic!"
   ]
  },
  {
   "cell_type": "code",
   "execution_count": 13,
   "id": "9ca02300-5f7b-4916-946e-58170f45defc",
   "metadata": {},
   "outputs": [],
   "source": [
    "# None is a singleton.  Every None is the same None."
   ]
  },
  {
   "cell_type": "code",
   "execution_count": 14,
   "id": "7abbb101-605e-465a-8738-68fdd94f6029",
   "metadata": {},
   "outputs": [
    {
     "data": {
      "text/plain": [
       "True"
      ]
     },
     "execution_count": 14,
     "metadata": {},
     "output_type": "execute_result"
    }
   ],
   "source": [
    "x = None\n",
    "y = None\n",
    "\n",
    "x is y   # this asks: are x and y both referring to precisely the same object?"
   ]
  },
  {
   "cell_type": "code",
   "execution_count": 15,
   "id": "0634273e-f71f-48ec-a745-83d14f00dfd7",
   "metadata": {},
   "outputs": [
    {
     "data": {
      "text/plain": [
       "True"
      ]
     },
     "execution_count": 15,
     "metadata": {},
     "output_type": "execute_result"
    }
   ],
   "source": [
    "# really, \"is\" is checking\n",
    "# every object has an id number in Python\n",
    "\n",
    "id(x) == id(y)    "
   ]
  },
  {
   "cell_type": "code",
   "execution_count": 16,
   "id": "5dde06f1-dc74-48b7-99c1-32cce8178477",
   "metadata": {},
   "outputs": [
    {
     "data": {
      "text/plain": [
       "4475355152"
      ]
     },
     "execution_count": 16,
     "metadata": {},
     "output_type": "execute_result"
    }
   ],
   "source": [
    "id(x)"
   ]
  },
  {
   "cell_type": "code",
   "execution_count": 17,
   "id": "90b5db6a-2f6d-4d2d-bb47-dab8e8e52382",
   "metadata": {},
   "outputs": [
    {
     "data": {
      "text/plain": [
       "4475355152"
      ]
     },
     "execution_count": 17,
     "metadata": {},
     "output_type": "execute_result"
    }
   ],
   "source": [
    "id(y)"
   ]
  },
  {
   "cell_type": "code",
   "execution_count": 18,
   "id": "ae2d3512-d854-48e6-9c53-b9782c218dd2",
   "metadata": {},
   "outputs": [],
   "source": [
    "# the ID of an object is... its location in memory."
   ]
  },
  {
   "cell_type": "code",
   "execution_count": 19,
   "id": "4f7d56fb-1e14-4694-b514-25549240be8e",
   "metadata": {},
   "outputs": [
    {
     "data": {
      "text/plain": [
       "'0x10ac08010'"
      ]
     },
     "execution_count": 19,
     "metadata": {},
     "output_type": "execute_result"
    }
   ],
   "source": [
    "hex(id(y))"
   ]
  },
  {
   "cell_type": "code",
   "execution_count": 20,
   "id": "357869d2-2b69-46bc-ad7b-524533b0b65e",
   "metadata": {},
   "outputs": [
    {
     "data": {
      "text/plain": [
       "True"
      ]
     },
     "execution_count": 20,
     "metadata": {},
     "output_type": "execute_result"
    }
   ],
   "source": [
    "x = 100\n",
    "y = 100\n",
    "\n",
    "x == y"
   ]
  },
  {
   "cell_type": "code",
   "execution_count": 21,
   "id": "0bcee833-5e65-4261-be61-7d8f5dd0d9ea",
   "metadata": {},
   "outputs": [
    {
     "data": {
      "text/plain": [
       "True"
      ]
     },
     "execution_count": 21,
     "metadata": {},
     "output_type": "execute_result"
    }
   ],
   "source": [
    "x is y  # are these the same object?"
   ]
  },
  {
   "cell_type": "code",
   "execution_count": 22,
   "id": "8dbe01a3-182f-4282-9be3-a55831368bc2",
   "metadata": {},
   "outputs": [
    {
     "data": {
      "text/plain": [
       "True"
      ]
     },
     "execution_count": 22,
     "metadata": {},
     "output_type": "execute_result"
    }
   ],
   "source": [
    "x = 10000\n",
    "y = 10000\n",
    "\n",
    "x == y"
   ]
  },
  {
   "cell_type": "code",
   "execution_count": 23,
   "id": "f19aae79-31f3-4a9b-82a5-d5d87549abab",
   "metadata": {},
   "outputs": [
    {
     "data": {
      "text/plain": [
       "False"
      ]
     },
     "execution_count": 23,
     "metadata": {},
     "output_type": "execute_result"
    }
   ],
   "source": [
    "x is y"
   ]
  },
  {
   "cell_type": "code",
   "execution_count": 24,
   "id": "f592f058-e060-42a4-be8d-2883a961ebbf",
   "metadata": {},
   "outputs": [],
   "source": [
    "# if you're using \"==\" to check values and \"is\" to see if objects are the same object, then this doesn't cause any trouble!\n",
    "# but... many people use \"is\" because they think it's more aesthetic, or faster, or nicer... "
   ]
  },
  {
   "cell_type": "markdown",
   "id": "9c03505f-7ae3-41d4-976d-eea26546ad6b",
   "metadata": {},
   "source": [
    "# Reuven's rule of `is`\n",
    "\n",
    "Only use it with `None`."
   ]
  },
  {
   "cell_type": "code",
   "execution_count": 25,
   "id": "4fd6125a-6c58-41d0-97d7-fba353b5752a",
   "metadata": {},
   "outputs": [
    {
     "data": {
      "text/plain": [
       "True"
      ]
     },
     "execution_count": 25,
     "metadata": {},
     "output_type": "execute_result"
    }
   ],
   "source": [
    "s = 'abcd'\n",
    "t = 'abcd'\n",
    "\n",
    "s == t"
   ]
  },
  {
   "cell_type": "code",
   "execution_count": 26,
   "id": "e6e3b464-27b1-4d1a-9f46-c9083ff2cecd",
   "metadata": {},
   "outputs": [
    {
     "data": {
      "text/plain": [
       "True"
      ]
     },
     "execution_count": 26,
     "metadata": {},
     "output_type": "execute_result"
    }
   ],
   "source": [
    "s is t"
   ]
  },
  {
   "cell_type": "code",
   "execution_count": 27,
   "id": "1d923c80-1148-4af5-8be9-e3769559264e",
   "metadata": {},
   "outputs": [
    {
     "data": {
      "text/plain": [
       "True"
      ]
     },
     "execution_count": 27,
     "metadata": {},
     "output_type": "execute_result"
    }
   ],
   "source": [
    "s = 'ab.cd'\n",
    "t = 'ab.cd'\n",
    "\n",
    "s == t"
   ]
  },
  {
   "cell_type": "code",
   "execution_count": 28,
   "id": "ad08f083-c59a-40a6-b74c-d79eb5b7f2d0",
   "metadata": {},
   "outputs": [
    {
     "data": {
      "text/plain": [
       "False"
      ]
     },
     "execution_count": 28,
     "metadata": {},
     "output_type": "execute_result"
    }
   ],
   "source": [
    "s is t"
   ]
  },
  {
   "cell_type": "code",
   "execution_count": 29,
   "id": "4593de2e-da0e-4358-8fb9-1cc03ddd12c5",
   "metadata": {},
   "outputs": [
    {
     "data": {
      "text/plain": [
       "True"
      ]
     },
     "execution_count": 29,
     "metadata": {},
     "output_type": "execute_result"
    }
   ],
   "source": [
    "s = 'abcde' * 100_000\n",
    "t = 'abcde' * 100_000\n",
    "\n",
    "s == t"
   ]
  },
  {
   "cell_type": "code",
   "execution_count": 30,
   "id": "b4ba66fc-c2ed-47b5-b484-e3622bc96637",
   "metadata": {},
   "outputs": [
    {
     "data": {
      "text/plain": [
       "False"
      ]
     },
     "execution_count": 30,
     "metadata": {},
     "output_type": "execute_result"
    }
   ],
   "source": [
    "s is t"
   ]
  },
  {
   "cell_type": "markdown",
   "id": "73bced31-250e-4c05-a8c2-91d5a0617c0b",
   "metadata": {},
   "source": [
    "# What's going on with strings as `==` vs `is`?\n",
    "\n",
    "Every time we use a variable in Python, Python turns that variable name into a string. It then uses that string to look up the variable in its internal dictionary of variables and values. (We can see that dict by calling the `globals()` function.)\n",
    "\n",
    "In order to speed this process up, and not create a huge number of strings that are then thrown away, Python caches all strings that are both short and legal variable names.  This caching is run by the `sys.intern` function.  The first time it sees a string, it creates the string.  Subsequent times, it reuses the same string."
   ]
  },
  {
   "cell_type": "code",
   "execution_count": 31,
   "id": "307a7670-3eea-4db0-8a18-3ae129d47ec7",
   "metadata": {},
   "outputs": [
    {
     "name": "stdout",
     "output_type": "stream",
     "text": [
      "Yes, it is None!\n"
     ]
    }
   ],
   "source": [
    "x = None\n",
    "\n",
    "if x is None:\n",
    "    print('Yes, it is None!')\n",
    "else:\n",
    "    print('No, it is not None!')"
   ]
  },
  {
   "cell_type": "code",
   "execution_count": 32,
   "id": "f0b422da-f0fa-4983-8cbf-75f3e8243f5c",
   "metadata": {},
   "outputs": [
    {
     "name": "stdout",
     "output_type": "stream",
     "text": [
      "No, it is False-ish!\n"
     ]
    }
   ],
   "source": [
    "x = None\n",
    "\n",
    "if x:\n",
    "    print('Yes, it is True-ish!')\n",
    "else:\n",
    "    print('No, it is False-ish!')"
   ]
  },
  {
   "cell_type": "code",
   "execution_count": 33,
   "id": "397a932f-fca0-4153-a689-3f5e852ae25d",
   "metadata": {},
   "outputs": [
    {
     "data": {
      "text/plain": [
       "False"
      ]
     },
     "execution_count": 33,
     "metadata": {},
     "output_type": "execute_result"
    }
   ],
   "source": [
    "None == False"
   ]
  },
  {
   "cell_type": "code",
   "execution_count": null,
   "id": "015b579a-e9dc-4686-8b52-f8beb5a8bad0",
   "metadata": {},
   "outputs": [],
   "source": []
  }
 ],
 "metadata": {
  "kernelspec": {
   "display_name": "Python 3 (ipykernel)",
   "language": "python",
   "name": "python3"
  },
  "language_info": {
   "codemirror_mode": {
    "name": "ipython",
    "version": 3
   },
   "file_extension": ".py",
   "mimetype": "text/x-python",
   "name": "python",
   "nbconvert_exporter": "python",
   "pygments_lexer": "ipython3",
   "version": "3.10.0"
  }
 },
 "nbformat": 4,
 "nbformat_minor": 5
}
