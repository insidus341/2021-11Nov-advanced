{
 "cells": [
  {
   "cell_type": "markdown",
   "id": "eb242b01-9cb9-4482-b11e-aefec7704035",
   "metadata": {},
   "source": [
    "# Agenda\n",
    "\n",
    "- Scoping (LEGB rule)\n",
    "    - local vs. global variables\n",
    "    - builtins\n",
    "- Inner functions + closures\n",
    "- storing functions\n",
    "- comprehensions\n",
    "    - list, set, dict\n",
    "- passing functions as arguments\n",
    "- `lambda`"
   ]
  },
  {
   "cell_type": "markdown",
   "id": "e40b0f95-0e90-4215-929c-42a9e2c8c192",
   "metadata": {},
   "source": [
    "# Scoping\n",
    "\n",
    "What variable exists when? What value is available when?\n",
    "\n",
    "Python's scoping rules are *very* straightforward. You just have to follow them to understand what's happening with variables. **BUT** the rules are very different from other languages."
   ]
  },
  {
   "cell_type": "code",
   "execution_count": 1,
   "id": "d99ce2f0-59a5-40fc-af2e-4a6de78cc360",
   "metadata": {},
   "outputs": [
    {
     "name": "stdout",
     "output_type": "stream",
     "text": [
      "x = 100\n"
     ]
    }
   ],
   "source": [
    "x = 100\n",
    "\n",
    "print(f'x = {x}')  # Python asks: Is x global?  Yes, we get 100"
   ]
  },
  {
   "cell_type": "markdown",
   "id": "948ca8bc-69d9-4c24-abe9-f729afa126ec",
   "metadata": {},
   "source": [
    "# Python has four scopes\n",
    "\n",
    "- `L` Local -- we start here when we're inside of a function body\n",
    "- `E` Enclosing\n",
    "- `G` Global -- we start here when we're *outside* of a function body\n",
    "- `B` Builtin"
   ]
  },
  {
   "cell_type": "code",
   "execution_count": 2,
   "id": "31ee83d0-bb63-49e5-8166-c7a039717bae",
   "metadata": {},
   "outputs": [
    {
     "data": {
      "text/plain": [
       "{'__name__': '__main__',\n",
       " '__doc__': 'Automatically created module for IPython interactive environment',\n",
       " '__package__': None,\n",
       " '__loader__': None,\n",
       " '__spec__': None,\n",
       " '__builtin__': <module 'builtins' (built-in)>,\n",
       " '__builtins__': <module 'builtins' (built-in)>,\n",
       " '_ih': ['',\n",
       "  \"x = 100\\n\\nprint(f'x = {x}')\",\n",
       "  'globals()   # returns a dict of all global variables -- variable names are keys, variable values are values'],\n",
       " '_oh': {},\n",
       " '_dh': ['/Users/reuven/Courses/Current/Cisco-2021-11Nov-advanced'],\n",
       " 'In': ['',\n",
       "  \"x = 100\\n\\nprint(f'x = {x}')\",\n",
       "  'globals()   # returns a dict of all global variables -- variable names are keys, variable values are values'],\n",
       " 'Out': {},\n",
       " 'get_ipython': <bound method InteractiveShell.get_ipython of <ipykernel.zmqshell.ZMQInteractiveShell object at 0x112a0b2b0>>,\n",
       " 'exit': <IPython.core.autocall.ZMQExitAutocall at 0x112a0be20>,\n",
       " 'quit': <IPython.core.autocall.ZMQExitAutocall at 0x112a0be20>,\n",
       " '_': '',\n",
       " '__': '',\n",
       " '___': '',\n",
       " '_i': \"x = 100\\n\\nprint(f'x = {x}')\",\n",
       " '_ii': '',\n",
       " '_iii': '',\n",
       " '_i1': \"x = 100\\n\\nprint(f'x = {x}')\",\n",
       " 'x': 100,\n",
       " '_i2': 'globals()   # returns a dict of all global variables -- variable names are keys, variable values are values'}"
      ]
     },
     "execution_count": 2,
     "metadata": {},
     "output_type": "execute_result"
    }
   ],
   "source": [
    "globals()   # returns a dict of all global variables -- variable names are keys, variable values are values"
   ]
  },
  {
   "cell_type": "code",
   "execution_count": 3,
   "id": "5e62fa1d-4415-49ae-8094-c47f1d7d1dee",
   "metadata": {},
   "outputs": [
    {
     "data": {
      "text/plain": [
       "True"
      ]
     },
     "execution_count": 3,
     "metadata": {},
     "output_type": "execute_result"
    }
   ],
   "source": [
    "# is x a global? We can find out!\n",
    "\n",
    "'x' in globals()"
   ]
  },
  {
   "cell_type": "code",
   "execution_count": 4,
   "id": "6871d3bb-1258-4532-b5cd-c1c9b3046e74",
   "metadata": {},
   "outputs": [
    {
     "data": {
      "text/plain": [
       "100"
      ]
     },
     "execution_count": 4,
     "metadata": {},
     "output_type": "execute_result"
    }
   ],
   "source": [
    "globals()['x']"
   ]
  },
  {
   "cell_type": "code",
   "execution_count": 5,
   "id": "1544c68a-e073-4735-b338-2053f32f9c6b",
   "metadata": {},
   "outputs": [
    {
     "name": "stdout",
     "output_type": "stream",
     "text": [
      "Before, x = 100\n",
      "In myfunc, x = 100\n",
      "After, x = 100\n"
     ]
    }
   ],
   "source": [
    "# Local, (Enclosing), Global, Builtin\n",
    "\n",
    "x = 100\n",
    "\n",
    "def myfunc():\n",
    "    print(f'In myfunc, x = {x}') # Is x local? No.  Is x global? Yes, 100\n",
    "\n",
    "print(f'Before, x = {x}')  # Python asks: Is x global? Yes, 100\n",
    "myfunc()\n",
    "print(f'After, x = {x}')   # Python asks: Is x global? Yes, 100"
   ]
  },
  {
   "cell_type": "code",
   "execution_count": 6,
   "id": "2705aec2-d422-429f-ab5c-e5b4daa04aea",
   "metadata": {},
   "outputs": [
    {
     "data": {
      "text/plain": [
       "()"
      ]
     },
     "execution_count": 6,
     "metadata": {},
     "output_type": "execute_result"
    }
   ],
   "source": [
    "# to see a function's local variables, check __code__.co_varnames\n",
    "\n",
    "myfunc.__code__.co_varnames"
   ]
  },
  {
   "cell_type": "code",
   "execution_count": 7,
   "id": "2870cb42-fcf6-41b2-850b-f2f902374fbb",
   "metadata": {},
   "outputs": [
    {
     "name": "stdout",
     "output_type": "stream",
     "text": [
      "Before, x = 100\n",
      "In myfunc, x = 200\n",
      "After, x = 100\n"
     ]
    }
   ],
   "source": [
    "# Local, (Enclosing), Global, Builtin\n",
    "\n",
    "x = 100\n",
    "\n",
    "def myfunc():\n",
    "    x = 200\n",
    "    print(f'In myfunc, x = {x}') # is x local? Yes, 200\n",
    "\n",
    "print(f'Before, x = {x}')  # is x global? Yes, 100\n",
    "myfunc()\n",
    "print(f'After, x = {x}')   # is x global? Yes, 100"
   ]
  },
  {
   "cell_type": "code",
   "execution_count": 8,
   "id": "cf815ba9-8695-4268-adcf-e700c8292db1",
   "metadata": {},
   "outputs": [
    {
     "name": "stdout",
     "output_type": "stream",
     "text": [
      "Before, x = 100\n"
     ]
    },
    {
     "ename": "UnboundLocalError",
     "evalue": "local variable 'x' referenced before assignment",
     "output_type": "error",
     "traceback": [
      "\u001b[0;31m---------------------------------------------------------------------------\u001b[0m",
      "\u001b[0;31mUnboundLocalError\u001b[0m                         Traceback (most recent call last)",
      "\u001b[0;32m/var/folders/rr/0mnyyv811fs5vyp22gf4fxk00000gn/T/ipykernel_80969/1624799356.py\u001b[0m in \u001b[0;36m<module>\u001b[0;34m\u001b[0m\n\u001b[1;32m      8\u001b[0m \u001b[0;34m\u001b[0m\u001b[0m\n\u001b[1;32m      9\u001b[0m \u001b[0mprint\u001b[0m\u001b[0;34m(\u001b[0m\u001b[0;34mf'Before, x = {x}'\u001b[0m\u001b[0;34m)\u001b[0m\u001b[0;34m\u001b[0m\u001b[0;34m\u001b[0m\u001b[0m\n\u001b[0;32m---> 10\u001b[0;31m \u001b[0mmyfunc\u001b[0m\u001b[0;34m(\u001b[0m\u001b[0;34m)\u001b[0m\u001b[0;34m\u001b[0m\u001b[0;34m\u001b[0m\u001b[0m\n\u001b[0m\u001b[1;32m     11\u001b[0m \u001b[0mprint\u001b[0m\u001b[0;34m(\u001b[0m\u001b[0;34mf'After, x = {x}'\u001b[0m\u001b[0;34m)\u001b[0m\u001b[0;34m\u001b[0m\u001b[0;34m\u001b[0m\u001b[0m\n",
      "\u001b[0;32m/var/folders/rr/0mnyyv811fs5vyp22gf4fxk00000gn/T/ipykernel_80969/1624799356.py\u001b[0m in \u001b[0;36mmyfunc\u001b[0;34m()\u001b[0m\n\u001b[1;32m      4\u001b[0m \u001b[0;34m\u001b[0m\u001b[0m\n\u001b[1;32m      5\u001b[0m \u001b[0;32mdef\u001b[0m \u001b[0mmyfunc\u001b[0m\u001b[0;34m(\u001b[0m\u001b[0;34m)\u001b[0m\u001b[0;34m:\u001b[0m\u001b[0;34m\u001b[0m\u001b[0;34m\u001b[0m\u001b[0m\n\u001b[0;32m----> 6\u001b[0;31m     \u001b[0mprint\u001b[0m\u001b[0;34m(\u001b[0m\u001b[0;34mf'In myfunc, x = {x}'\u001b[0m\u001b[0;34m)\u001b[0m\u001b[0;34m\u001b[0m\u001b[0;34m\u001b[0m\u001b[0m\n\u001b[0m\u001b[1;32m      7\u001b[0m     \u001b[0mx\u001b[0m \u001b[0;34m=\u001b[0m \u001b[0;36m200\u001b[0m\u001b[0;34m\u001b[0m\u001b[0;34m\u001b[0m\u001b[0m\n\u001b[1;32m      8\u001b[0m \u001b[0;34m\u001b[0m\u001b[0m\n",
      "\u001b[0;31mUnboundLocalError\u001b[0m: local variable 'x' referenced before assignment"
     ]
    }
   ],
   "source": [
    "# Local, (Enclosing), Global, Builtin\n",
    "\n",
    "x = 100\n",
    "\n",
    "def myfunc():\n",
    "    print(f'In myfunc, x = {x}') # is x local? Yes. Value is ........ boom!\n",
    "    x = 200  # hoisting problem -- if you assign to a variable in a function, that variable is local NO MATTER WHERE YOU ASSIGN\n",
    "\n",
    "print(f'Before, x = {x}')  # is x global? yes -- 100\n",
    "myfunc()\n",
    "print(f'After, x = {x}')   "
   ]
  },
  {
   "cell_type": "code",
   "execution_count": 9,
   "id": "2596f697-2c61-4357-bd05-965d094bf4ec",
   "metadata": {},
   "outputs": [
    {
     "data": {
      "text/plain": [
       "('x',)"
      ]
     },
     "execution_count": 9,
     "metadata": {},
     "output_type": "execute_result"
    }
   ],
   "source": [
    "myfunc.__code__.co_varnames"
   ]
  },
  {
   "cell_type": "code",
   "execution_count": 11,
   "id": "3d1754b2-d924-469c-90ae-32b7638c1c72",
   "metadata": {},
   "outputs": [
    {
     "name": "stdout",
     "output_type": "stream",
     "text": [
      "Before, x = 100\n"
     ]
    },
    {
     "ename": "UnboundLocalError",
     "evalue": "local variable 'x' referenced before assignment",
     "output_type": "error",
     "traceback": [
      "\u001b[0;31m---------------------------------------------------------------------------\u001b[0m",
      "\u001b[0;31mUnboundLocalError\u001b[0m                         Traceback (most recent call last)",
      "\u001b[0;32m/var/folders/rr/0mnyyv811fs5vyp22gf4fxk00000gn/T/ipykernel_80969/2842892272.py\u001b[0m in \u001b[0;36m<module>\u001b[0;34m\u001b[0m\n\u001b[1;32m      8\u001b[0m \u001b[0;34m\u001b[0m\u001b[0m\n\u001b[1;32m      9\u001b[0m \u001b[0mprint\u001b[0m\u001b[0;34m(\u001b[0m\u001b[0;34mf'Before, x = {x}'\u001b[0m\u001b[0;34m)\u001b[0m\u001b[0;34m\u001b[0m\u001b[0;34m\u001b[0m\u001b[0m\n\u001b[0;32m---> 10\u001b[0;31m \u001b[0mmyfunc\u001b[0m\u001b[0;34m(\u001b[0m\u001b[0;34m)\u001b[0m\u001b[0;34m\u001b[0m\u001b[0;34m\u001b[0m\u001b[0m\n\u001b[0m\u001b[1;32m     11\u001b[0m \u001b[0mprint\u001b[0m\u001b[0;34m(\u001b[0m\u001b[0;34mf'After, x = {x}'\u001b[0m\u001b[0;34m)\u001b[0m\u001b[0;34m\u001b[0m\u001b[0;34m\u001b[0m\u001b[0m\n",
      "\u001b[0;32m/var/folders/rr/0mnyyv811fs5vyp22gf4fxk00000gn/T/ipykernel_80969/2842892272.py\u001b[0m in \u001b[0;36mmyfunc\u001b[0;34m()\u001b[0m\n\u001b[1;32m      4\u001b[0m \u001b[0;34m\u001b[0m\u001b[0m\n\u001b[1;32m      5\u001b[0m \u001b[0;32mdef\u001b[0m \u001b[0mmyfunc\u001b[0m\u001b[0;34m(\u001b[0m\u001b[0;34m)\u001b[0m\u001b[0;34m:\u001b[0m\u001b[0;34m\u001b[0m\u001b[0;34m\u001b[0m\u001b[0m\n\u001b[0;32m----> 6\u001b[0;31m     \u001b[0mx\u001b[0m \u001b[0;34m=\u001b[0m \u001b[0mx\u001b[0m \u001b[0;34m+\u001b[0m \u001b[0;36m1\u001b[0m\u001b[0;34m\u001b[0m\u001b[0;34m\u001b[0m\u001b[0m\n\u001b[0m\u001b[1;32m      7\u001b[0m     \u001b[0mprint\u001b[0m\u001b[0;34m(\u001b[0m\u001b[0;34mf'In myfunc, x = {x}'\u001b[0m\u001b[0;34m)\u001b[0m\u001b[0;34m\u001b[0m\u001b[0;34m\u001b[0m\u001b[0m\n\u001b[1;32m      8\u001b[0m \u001b[0;34m\u001b[0m\u001b[0m\n",
      "\u001b[0;31mUnboundLocalError\u001b[0m: local variable 'x' referenced before assignment"
     ]
    }
   ],
   "source": [
    "# Local, (Enclosing), Global, Builtin\n",
    "\n",
    "x = 100\n",
    "\n",
    "def myfunc():\n",
    "    x = x + 1\n",
    "    print(f'In myfunc, x = {x}') \n",
    "\n",
    "print(f'Before, x = {x}')\n",
    "myfunc()\n",
    "print(f'After, x = {x}')   "
   ]
  },
  {
   "cell_type": "code",
   "execution_count": 16,
   "id": "1a58be7c-7568-4bf2-95f7-fdcc9d86a207",
   "metadata": {},
   "outputs": [
    {
     "name": "stdout",
     "output_type": "stream",
     "text": [
      "Before, x = 100\n",
      "In myfunc, x = 200\n",
      "After, x = 200\n"
     ]
    }
   ],
   "source": [
    "# Local, (Enclosing), Global, Builtin\n",
    "\n",
    "x = 100\n",
    "\n",
    "def myfunc():\n",
    "    global x   # when compiling the function, *DON'T* mark x as local!\n",
    "    x = 200    # assign to the global variable x! (if there is no global x, this creates one)\n",
    "    print(f'In myfunc, x = {x}')  # is x local? No. Is x global? yes -- 200\n",
    "\n",
    "print(f'Before, x = {x}')  \n",
    "myfunc()\n",
    "print(f'After, x = {x}')   # is x global? yes, 200"
   ]
  },
  {
   "cell_type": "code",
   "execution_count": 15,
   "id": "18ea3a99-4e2c-4488-9938-d158c09c5abb",
   "metadata": {},
   "outputs": [
    {
     "data": {
      "text/plain": [
       "()"
      ]
     },
     "execution_count": 15,
     "metadata": {},
     "output_type": "execute_result"
    }
   ],
   "source": [
    "myfunc.__code__.co_varnames"
   ]
  },
  {
   "cell_type": "code",
   "execution_count": 17,
   "id": "b8c3fee7-9066-4038-b124-81da17e9c98f",
   "metadata": {},
   "outputs": [],
   "source": [
    "for i in range(5):\n",
    "    n = i**2"
   ]
  },
  {
   "cell_type": "code",
   "execution_count": 18,
   "id": "5539ddf4-5713-4eb3-832b-1360b9dfd935",
   "metadata": {},
   "outputs": [
    {
     "data": {
      "text/plain": [
       "16"
      ]
     },
     "execution_count": 18,
     "metadata": {},
     "output_type": "execute_result"
    }
   ],
   "source": [
    "# does n still exist?\n",
    "n"
   ]
  },
  {
   "cell_type": "code",
   "execution_count": 19,
   "id": "5d00e0b2-02c3-45ba-8020-cb2051288d84",
   "metadata": {},
   "outputs": [
    {
     "data": {
      "text/plain": [
       "4"
      ]
     },
     "execution_count": 19,
     "metadata": {},
     "output_type": "execute_result"
    }
   ],
   "source": [
    "# does i still exist?\n",
    "i"
   ]
  },
  {
   "cell_type": "code",
   "execution_count": 20,
   "id": "b7b34ad5-f2cb-49ad-98d6-442083b87120",
   "metadata": {},
   "outputs": [
    {
     "name": "stdout",
     "output_type": "stream",
     "text": [
      "Before, y=[10, 20, 30]\n",
      "In myfunc, y=['!', 20, 30]\n",
      "After, y=['!', 20, 30]\n"
     ]
    }
   ],
   "source": [
    "# Local, (Enclosing), Global, Builtin\n",
    "\n",
    "y = [10, 20, 30]\n",
    "\n",
    "def myfunc():\n",
    "    y[0] = '!'  # is y local? no. is y global? yes.  then it runs y.__setitem__(0, '!')\n",
    "    print(f'In myfunc, {y=}')  # set y[0] to '!', which is true for y, the global variable\n",
    "\n",
    "print(f'Before, {y=}')    # is y global? Yes, [10, 20, 30]\n",
    "myfunc()\n",
    "print(f'After, {y=}')     # is y global? Yes, ['!', 20, 30]"
   ]
  },
  {
   "cell_type": "code",
   "execution_count": 21,
   "id": "fd58b81b-bf00-40a7-bbcc-fc6ebcec2c1b",
   "metadata": {},
   "outputs": [
    {
     "data": {
      "text/plain": [
       "()"
      ]
     },
     "execution_count": 21,
     "metadata": {},
     "output_type": "execute_result"
    }
   ],
   "source": [
    "myfunc.__code__.co_varnames"
   ]
  },
  {
   "cell_type": "markdown",
   "id": "ed8c3f96-03ee-4e47-8ff5-5a23d74d73cd",
   "metadata": {},
   "source": [
    "# Does Python have keywords?\n",
    "\n",
    "Yes. `def`, `for`, `while`, `class`, `and`, `or`, `in`.... all of these are keywords. You cannot assign to them. You cannot change them.  They're part of the language.\n",
    "\n",
    "But what about some other words, like `str`, `len`, `sum`?  Are those keywords? **NO**.  Can I assign to them?  Unfortunately, YES.  Those words exist in a final, default namespace known as \"builtins,\" available as `__builtin__`."
   ]
  },
  {
   "cell_type": "code",
   "execution_count": 22,
   "id": "710f8bc9-0f51-4b37-ac03-67d1b5d0b090",
   "metadata": {},
   "outputs": [
    {
     "data": {
      "text/plain": [
       "60"
      ]
     },
     "execution_count": 22,
     "metadata": {},
     "output_type": "execute_result"
    }
   ],
   "source": [
    "sum([10, 20, 30])  # is sum global? No. Is it in builtins? Yes."
   ]
  },
  {
   "cell_type": "code",
   "execution_count": 24,
   "id": "684cf339-377b-449f-b2c1-2c7d8f906b5b",
   "metadata": {},
   "outputs": [],
   "source": [
    "sum = 5  # defined a global variable \"sum\""
   ]
  },
  {
   "cell_type": "code",
   "execution_count": 25,
   "id": "2e9c4673-5304-46b0-a9f0-932b2360eb15",
   "metadata": {},
   "outputs": [
    {
     "ename": "TypeError",
     "evalue": "'int' object is not callable",
     "output_type": "error",
     "traceback": [
      "\u001b[0;31m---------------------------------------------------------------------------\u001b[0m",
      "\u001b[0;31mTypeError\u001b[0m                                 Traceback (most recent call last)",
      "\u001b[0;32m/var/folders/rr/0mnyyv811fs5vyp22gf4fxk00000gn/T/ipykernel_80969/4158229474.py\u001b[0m in \u001b[0;36m<module>\u001b[0;34m\u001b[0m\n\u001b[0;32m----> 1\u001b[0;31m \u001b[0msum\u001b[0m\u001b[0;34m(\u001b[0m\u001b[0;34m[\u001b[0m\u001b[0;36m10\u001b[0m\u001b[0;34m,\u001b[0m \u001b[0;36m20\u001b[0m\u001b[0;34m,\u001b[0m \u001b[0;36m30\u001b[0m\u001b[0;34m]\u001b[0m\u001b[0;34m)\u001b[0m  \u001b[0;31m# is sum global? Yes!  Its value is 5.\u001b[0m\u001b[0;34m\u001b[0m\u001b[0;34m\u001b[0m\u001b[0m\n\u001b[0m",
      "\u001b[0;31mTypeError\u001b[0m: 'int' object is not callable"
     ]
    }
   ],
   "source": [
    "sum([10, 20, 30])  # is sum global? Yes!  Its value is 5."
   ]
  },
  {
   "cell_type": "code",
   "execution_count": 26,
   "id": "2a6127fc-85b9-4888-9d5e-d4d3cc33bbaf",
   "metadata": {},
   "outputs": [],
   "source": [
    "# how can I get out of this?\n",
    "del(sum)   # looks scary, but I'm really only deleting the name in the global namespace"
   ]
  },
  {
   "cell_type": "code",
   "execution_count": 27,
   "id": "dddebd1b-14b8-4e2b-b2d1-346e1627ebc5",
   "metadata": {},
   "outputs": [
    {
     "data": {
      "text/plain": [
       "60"
      ]
     },
     "execution_count": 27,
     "metadata": {},
     "output_type": "execute_result"
    }
   ],
   "source": [
    "sum([10, 20, 30])"
   ]
  },
  {
   "cell_type": "code",
   "execution_count": 28,
   "id": "1fd6792c-28e8-4160-ab29-9ac02377bd92",
   "metadata": {},
   "outputs": [],
   "source": [
    "x = 5"
   ]
  },
  {
   "cell_type": "markdown",
   "id": "6ba24d27-a7d6-481d-95fb-68eb0a4ca740",
   "metadata": {},
   "source": [
    "# Summary of what we know about functions\n",
    "\n",
    "1. Functions are objects, just like everything else in Python.\n",
    "2. We can create a function inside of another function.  \n",
    "3. We can return a function from another function -- because we can return any object from a function.\n",
    "4. When we use `def`, we (a) define a new function object and (b) assign it to a variable.\n",
    "\n",
    "The result of this combination of rules leads us to... inner functions!"
   ]
  },
  {
   "cell_type": "code",
   "execution_count": 29,
   "id": "04dec4f0-e230-4e99-8e9c-cb69f20e0207",
   "metadata": {},
   "outputs": [
    {
     "data": {
      "text/plain": [
       "('inner',)"
      ]
     },
     "execution_count": 29,
     "metadata": {},
     "output_type": "execute_result"
    }
   ],
   "source": [
    "def outer():\n",
    "    def inner():  # \"inner\" is a local variable inside of \"outer\"\n",
    "        print('Hello from inner!')\n",
    "    return inner\n",
    "\n",
    "outer.__code__.co_varnames"
   ]
  },
  {
   "cell_type": "code",
   "execution_count": 30,
   "id": "76b53b6d-5e44-493d-90c6-f15baab0cf9c",
   "metadata": {},
   "outputs": [],
   "source": [
    "f = outer()"
   ]
  },
  {
   "cell_type": "code",
   "execution_count": 31,
   "id": "6c1aef7b-032e-4062-8ea6-073ce2fc3792",
   "metadata": {},
   "outputs": [
    {
     "data": {
      "text/plain": [
       "function"
      ]
     },
     "execution_count": 31,
     "metadata": {},
     "output_type": "execute_result"
    }
   ],
   "source": [
    "type(f)"
   ]
  },
  {
   "cell_type": "code",
   "execution_count": 32,
   "id": "efb4a392-18d6-4dca-935a-d999ddf516c1",
   "metadata": {},
   "outputs": [
    {
     "data": {
      "text/plain": [
       "<function __main__.outer.<locals>.inner()>"
      ]
     },
     "execution_count": 32,
     "metadata": {},
     "output_type": "execute_result"
    }
   ],
   "source": [
    "f"
   ]
  },
  {
   "cell_type": "code",
   "execution_count": 33,
   "id": "9a706d78-a55a-4a59-b781-aa08c8e324d8",
   "metadata": {},
   "outputs": [
    {
     "name": "stdout",
     "output_type": "stream",
     "text": [
      "Hello from inner!\n"
     ]
    }
   ],
   "source": [
    "# how do I run a function? ()\n",
    "f()"
   ]
  },
  {
   "cell_type": "code",
   "execution_count": 37,
   "id": "7036a56e-f639-4103-a893-97e6150d77c6",
   "metadata": {},
   "outputs": [],
   "source": [
    "# Local, Enclosing, Global, Builtin\n",
    "# Enclosing means: Local variables from the enclosing function are still available to our inner function\n",
    "\n",
    "def outer(x):\n",
    "    def inner(y): \n",
    "        return f'Hello from inner, {x=} and {y=}!'\n",
    "    return inner\n",
    "\n",
    "f = outer(10)"
   ]
  },
  {
   "cell_type": "code",
   "execution_count": 38,
   "id": "b3d18e7f-56e1-4c45-8336-221be8bd6929",
   "metadata": {},
   "outputs": [
    {
     "data": {
      "text/plain": [
       "('x', 'inner')"
      ]
     },
     "execution_count": 38,
     "metadata": {},
     "output_type": "execute_result"
    }
   ],
   "source": [
    "outer.__code__.co_varnames"
   ]
  },
  {
   "cell_type": "code",
   "execution_count": 39,
   "id": "7438db79-3d65-4e3a-8350-96128c295c92",
   "metadata": {},
   "outputs": [
    {
     "data": {
      "text/plain": [
       "'Hello from inner, x=10 and y=20!'"
      ]
     },
     "execution_count": 39,
     "metadata": {},
     "output_type": "execute_result"
    }
   ],
   "source": [
    "f(20)"
   ]
  },
  {
   "cell_type": "code",
   "execution_count": 41,
   "id": "7d3ab0b4-0add-43eb-815e-0b6fa6a0e901",
   "metadata": {},
   "outputs": [],
   "source": [
    "# Local, Enclosing, Global, Builtin\n",
    "# Enclosing means: Local variables from the enclosing function are still available to our inner function\n",
    "\n",
    "def outer(x):   # closure -- a function that is returned by another function, and has access to the outer function's variables\n",
    "    def inner(y): \n",
    "        return f'Hello from inner, {x=} and {y=}!'\n",
    "    return inner\n",
    "\n",
    "# Make two separate instances of \"inner\", each with its own separate enclosing scope with x= something else\n",
    "f1 = outer(10)\n",
    "f2 = outer(15)"
   ]
  },
  {
   "cell_type": "code",
   "execution_count": 42,
   "id": "13ba752f-9a2d-4928-9650-332454d123de",
   "metadata": {},
   "outputs": [
    {
     "data": {
      "text/plain": [
       "'Hello from inner, x=10 and y=3!'"
      ]
     },
     "execution_count": 42,
     "metadata": {},
     "output_type": "execute_result"
    }
   ],
   "source": [
    "f1(3)"
   ]
  },
  {
   "cell_type": "code",
   "execution_count": 43,
   "id": "f815d6e3-6d01-4dbc-81b6-df81b0d6f0a6",
   "metadata": {},
   "outputs": [
    {
     "data": {
      "text/plain": [
       "'Hello from inner, x=15 and y=3!'"
      ]
     },
     "execution_count": 43,
     "metadata": {},
     "output_type": "execute_result"
    }
   ],
   "source": [
    "f2(3)"
   ]
  },
  {
   "cell_type": "markdown",
   "id": "d65fdd22-50c6-4d36-b081-ace9fc05c213",
   "metadata": {},
   "source": [
    "# Exercise: Password maker maker\n",
    "\n",
    "1. Write a function, `make_password_maker`, which takes a string argument.  That string contains all of the characters from which we might want to make a password.\n",
    "2. `make_password_maker`, when invoked with a string, returns a function.  The returned function will take a single integer argument.  3. When called, the returned (inner) function returns a string with a password randomly selected from the characters in our string (i.e., outer function's parameter).\n",
    "\n",
    "```python\n",
    "make_alpha_password = make_password_maker('abcdefghij')\n",
    "print(make_alpha_password(5))  # get a 5-character password, randomly taken from a-j\n",
    "print(make_alpha_password(20)) # get a 20-character password, randomly taken from a-j\n",
    "\n",
    "make_symbol_password = make_password_maker('!@#$%^&*()')\n",
    "print(make_symbol_password(5))  # get a 5-character password\n",
    "print(make_symbol_password(20)) # get a 20-character password\n",
    "```\n",
    "\n",
    "To get a random character from a string (or any Python sequence), use `random.choice(s)`, which returns one element."
   ]
  },
  {
   "cell_type": "code",
   "execution_count": 44,
   "id": "0b993e4b-7236-4a5b-b96d-d013acbabaa2",
   "metadata": {},
   "outputs": [],
   "source": [
    "import random\n",
    "\n",
    "def make_password_maker(s):\n",
    "    def make_password(n):\n",
    "        output = ''\n",
    "        for i in range(n):\n",
    "            output += random.choice(s)\n",
    "        return output\n",
    "    return make_password"
   ]
  },
  {
   "cell_type": "code",
   "execution_count": 45,
   "id": "528f9d2d-fa03-471d-81ff-5e9000af9ba0",
   "metadata": {},
   "outputs": [
    {
     "name": "stdout",
     "output_type": "stream",
     "text": [
      "ejjeb\n",
      "igiiicijegaadifjhgbe\n",
      ")@#%#\n",
      "^^&(%@*@^$*#@*(*)*!(\n"
     ]
    }
   ],
   "source": [
    "make_alpha_password = make_password_maker('abcdefghij')\n",
    "print(make_alpha_password(5))  # get a 5-character password, randomly taken from a-j\n",
    "print(make_alpha_password(20)) # get a 20-character password, randomly taken from a-j\n",
    "\n",
    "make_symbol_password = make_password_maker('!@#$%^&*()')\n",
    "print(make_symbol_password(5))  # get a 5-character password\n",
    "print(make_symbol_password(20)) # get a 20-character password\n"
   ]
  },
  {
   "cell_type": "code",
   "execution_count": 51,
   "id": "4a8a3a1e-88df-48c1-ad10-aa6d2a6fc4cf",
   "metadata": {},
   "outputs": [
    {
     "name": "stdout",
     "output_type": "stream",
     "text": [
      "1 Hello, a!\n",
      "2 Hello, b!\n"
     ]
    }
   ],
   "source": [
    "def greet():\n",
    "    counter = 0\n",
    "    def inner(name):\n",
    "        nonlocal counter  # don't make counter local. Rather, access (and update) the local variable in the enclosing scope\n",
    "        counter += 1\n",
    "        return f'{counter} Hello, {name}!'\n",
    "    return inner\n",
    "\n",
    "hello = greet()\n",
    "\n",
    "print(hello('a'))\n",
    "print(hello('b'))"
   ]
  },
  {
   "cell_type": "code",
   "execution_count": 52,
   "id": "ca90b785-33ca-4521-888c-5cb5a664fad6",
   "metadata": {},
   "outputs": [
    {
     "data": {
      "text/plain": [
       "'3 Hello, c!'"
      ]
     },
     "execution_count": 52,
     "metadata": {},
     "output_type": "execute_result"
    }
   ],
   "source": [
    "hello('c')"
   ]
  },
  {
   "cell_type": "code",
   "execution_count": 53,
   "id": "af5870a7-482a-41f2-9a44-33dd45bc20aa",
   "metadata": {},
   "outputs": [
    {
     "data": {
      "text/plain": [
       "'4 Hello, d!'"
      ]
     },
     "execution_count": 53,
     "metadata": {},
     "output_type": "execute_result"
    }
   ],
   "source": [
    "hello('d')"
   ]
  },
  {
   "cell_type": "code",
   "execution_count": 54,
   "id": "7e7d93cc-2f6d-49b9-8640-2d4bb00e42f5",
   "metadata": {},
   "outputs": [],
   "source": [
    "def greet(s):\n",
    "    counter = 0\n",
    "    def inner(name):\n",
    "        nonlocal counter  \n",
    "        counter += 1\n",
    "        return f'{counter} {s}, {name}!'\n",
    "    return inner"
   ]
  },
  {
   "cell_type": "code",
   "execution_count": 55,
   "id": "4fb8d6d7-55d6-4a5b-8ab9-804dd5903e9b",
   "metadata": {},
   "outputs": [],
   "source": [
    "hello = greet('hello')\n",
    "goodbye = greet('goodbye')"
   ]
  },
  {
   "cell_type": "code",
   "execution_count": 56,
   "id": "99400be2-e28d-4f04-8866-2527cd2a526b",
   "metadata": {},
   "outputs": [
    {
     "data": {
      "text/plain": [
       "'1 hello, out there!'"
      ]
     },
     "execution_count": 56,
     "metadata": {},
     "output_type": "execute_result"
    }
   ],
   "source": [
    "hello('out there')"
   ]
  },
  {
   "cell_type": "code",
   "execution_count": 57,
   "id": "47c05699-1eec-445d-b3b8-593c9946bcbb",
   "metadata": {},
   "outputs": [
    {
     "data": {
      "text/plain": [
       "'2 hello, again!'"
      ]
     },
     "execution_count": 57,
     "metadata": {},
     "output_type": "execute_result"
    }
   ],
   "source": [
    "hello('again')\n"
   ]
  },
  {
   "cell_type": "code",
   "execution_count": 58,
   "id": "5b30ea9e-0e75-4296-b726-ae9df8b68fc2",
   "metadata": {},
   "outputs": [
    {
     "data": {
      "text/plain": [
       "'3 hello, I am probably annoying you with all of these hellos!!'"
      ]
     },
     "execution_count": 58,
     "metadata": {},
     "output_type": "execute_result"
    }
   ],
   "source": [
    "hello('I am probably annoying you with all of these hellos!')"
   ]
  },
  {
   "cell_type": "code",
   "execution_count": 59,
   "id": "cf1775bd-c5ea-460f-858f-d2e578c454a9",
   "metadata": {},
   "outputs": [
    {
     "data": {
      "text/plain": [
       "'1 goodbye, whoever!'"
      ]
     },
     "execution_count": 59,
     "metadata": {},
     "output_type": "execute_result"
    }
   ],
   "source": [
    "goodbye('whoever')"
   ]
  },
  {
   "cell_type": "code",
   "execution_count": 60,
   "id": "42b293f3-eb29-4838-897f-728e639855ab",
   "metadata": {},
   "outputs": [],
   "source": [
    "def hi(name):\n",
    "    return f'Hi, {name}!'"
   ]
  },
  {
   "cell_type": "code",
   "execution_count": 62,
   "id": "2eb2ae3f-9d2c-4c32-9ab3-bb6774a61a53",
   "metadata": {},
   "outputs": [],
   "source": [
    "# each time I run a function, I get a new frame / stack frame with local variables\n",
    "# normally, the end of a function's run is also the end of the frame -- the local storage goes away\n",
    "# but because our inner function refers to its local variables, the outer frame cannot go away"
   ]
  },
  {
   "cell_type": "code",
   "execution_count": 63,
   "id": "7f771cfe-e6c2-4509-b1a3-7819fc583055",
   "metadata": {},
   "outputs": [
    {
     "data": {
      "text/plain": [
       "'4 hello, a!'"
      ]
     },
     "execution_count": 63,
     "metadata": {},
     "output_type": "execute_result"
    }
   ],
   "source": [
    "hello('a')"
   ]
  },
  {
   "cell_type": "code",
   "execution_count": 64,
   "id": "7249de7e-b64f-44d2-bd7d-1ab2e29c7300",
   "metadata": {},
   "outputs": [
    {
     "data": {
      "text/plain": [
       "'2 goodbye, b!'"
      ]
     },
     "execution_count": 64,
     "metadata": {},
     "output_type": "execute_result"
    }
   ],
   "source": [
    "goodbye('b')"
   ]
  },
  {
   "cell_type": "code",
   "execution_count": 66,
   "id": "29d8c1e9-c668-4d14-98e4-6ad95890aeb3",
   "metadata": {},
   "outputs": [
    {
     "data": {
      "text/plain": [
       "('counter', 's')"
      ]
     },
     "execution_count": 66,
     "metadata": {},
     "output_type": "execute_result"
    }
   ],
   "source": [
    "hello.__code__.co_freevars  # these are the two variables we're going to use from the enclosing function"
   ]
  },
  {
   "cell_type": "code",
   "execution_count": 67,
   "id": "cf479347-1706-43cf-8aa7-1c5d070daa24",
   "metadata": {},
   "outputs": [
    {
     "data": {
      "text/plain": [
       "('counter', 's')"
      ]
     },
     "execution_count": 67,
     "metadata": {},
     "output_type": "execute_result"
    }
   ],
   "source": [
    "greet.__code__.co_cellvars  # these are the variables that our inner function will refer to "
   ]
  },
  {
   "cell_type": "code",
   "execution_count": 68,
   "id": "535acb3e-cbe5-4d10-bffc-d6280a0b9195",
   "metadata": {},
   "outputs": [
    {
     "name": "stdin",
     "output_type": "stream",
     "text": [
      "Enter a choice:  a\n"
     ]
    },
    {
     "name": "stdout",
     "output_type": "stream",
     "text": [
      "Hello from A!\n"
     ]
    },
    {
     "name": "stdin",
     "output_type": "stream",
     "text": [
      "Enter a choice:  b\n"
     ]
    },
    {
     "name": "stdout",
     "output_type": "stream",
     "text": [
      "Hello from B!\n"
     ]
    },
    {
     "name": "stdin",
     "output_type": "stream",
     "text": [
      "Enter a choice:  c\n"
     ]
    },
    {
     "name": "stdout",
     "output_type": "stream",
     "text": [
      "No such choice c\n"
     ]
    },
    {
     "name": "stdin",
     "output_type": "stream",
     "text": [
      "Enter a choice:  \n"
     ]
    }
   ],
   "source": [
    "def a():\n",
    "    return 'Hello from A!'\n",
    "\n",
    "def b():\n",
    "    return 'Hello from B!'\n",
    "\n",
    "while True:\n",
    "    s = input('Enter a choice: ').strip()\n",
    "    \n",
    "    if not s:\n",
    "        break\n",
    "        \n",
    "    if s == 'a':\n",
    "        print(a())\n",
    "    elif s == 'b':\n",
    "        print(b())\n",
    "    else:\n",
    "        print(f'No such choice {s}')"
   ]
  },
  {
   "cell_type": "code",
   "execution_count": 69,
   "id": "9b95ab1e-4710-441b-85ae-0dbe7a0d6fc2",
   "metadata": {},
   "outputs": [
    {
     "name": "stdin",
     "output_type": "stream",
     "text": [
      "Enter a choice:  a\n"
     ]
    },
    {
     "name": "stdout",
     "output_type": "stream",
     "text": [
      "Hello from A!\n"
     ]
    },
    {
     "name": "stdin",
     "output_type": "stream",
     "text": [
      "Enter a choice:  b\n"
     ]
    },
    {
     "name": "stdout",
     "output_type": "stream",
     "text": [
      "Hello from B!\n"
     ]
    },
    {
     "name": "stdin",
     "output_type": "stream",
     "text": [
      "Enter a choice:  c\n"
     ]
    },
    {
     "name": "stdout",
     "output_type": "stream",
     "text": [
      "No such choice c\n"
     ]
    },
    {
     "name": "stdin",
     "output_type": "stream",
     "text": [
      "Enter a choice:  \n"
     ]
    }
   ],
   "source": [
    "def a():\n",
    "    return 'Hello from A!'\n",
    "\n",
    "def b():\n",
    "    return 'Hello from B!'\n",
    "\n",
    "# dispatch table -- choose a function from a dict\n",
    "\n",
    "# store the functions as values in a dict\n",
    "funcs = {'a':a,  # keys are strings, values are funcs\n",
    "         'b':b} \n",
    "\n",
    "while True:\n",
    "    s = input('Enter a choice: ').strip()\n",
    "    \n",
    "    if not s:\n",
    "        break\n",
    "        \n",
    "    if s in funcs:  # is s a key in our dict?\n",
    "        print(funcs[s]())  # retrieve the function funcs[s], then execute it with ()\n",
    "    else:\n",
    "        print(f'No such choice {s}')"
   ]
  },
  {
   "cell_type": "markdown",
   "id": "5358f7f4-90c7-4626-bd18-e212d3c6e6b3",
   "metadata": {},
   "source": [
    "# Exercise: Calculator\n",
    "\n",
    "1. Define two functions, `add` and `sub`, which can add and subtract two numbers.\n",
    "2. Put them in a dictionary as values.\n",
    "3. Ask the user, repeatedly, to enter a math expression with either `+` or `-`.\n",
    "4. Choose the appropriate function, and print the result.\n",
    "5. If the user tries to enter an illegal expression or use an operator we don't support, scold them a bit.\n",
    "\n",
    "Example:\n",
    "\n",
    "    Enter expression: 2 + 3\n",
    "    2 + 3 = 5\n",
    "    Enter expression: 10 - 8\n",
    "    10 - 8 = 2\n",
    "    Enter expression: [ENTER]\n",
    "    "
   ]
  },
  {
   "cell_type": "code",
   "execution_count": 70,
   "id": "fc924b70-f4eb-4317-b252-125e51cb4b1b",
   "metadata": {},
   "outputs": [
    {
     "name": "stdin",
     "output_type": "stream",
     "text": [
      "Enter expression:  2 + 3\n"
     ]
    },
    {
     "name": "stdout",
     "output_type": "stream",
     "text": [
      "2 + 3 = 5\n"
     ]
    },
    {
     "name": "stdin",
     "output_type": "stream",
     "text": [
      "Enter expression:  10 - 8\n"
     ]
    },
    {
     "name": "stdout",
     "output_type": "stream",
     "text": [
      "10 - 8 = 2\n"
     ]
    },
    {
     "name": "stdin",
     "output_type": "stream",
     "text": [
      "Enter expression:  10 * 5\n"
     ]
    },
    {
     "name": "stdout",
     "output_type": "stream",
     "text": [
      "10 * 5 = No such operator *\n"
     ]
    },
    {
     "name": "stdin",
     "output_type": "stream",
     "text": [
      "Enter expression:  \n"
     ]
    }
   ],
   "source": [
    "def add(first, second):\n",
    "    return first + second\n",
    "\n",
    "def sub(first, second):\n",
    "    return first - second\n",
    "\n",
    "funcs = {'+':add,\n",
    "         '-':sub}\n",
    "\n",
    "while s := input('Enter expression: ').strip():\n",
    "    n1, op, n2 = s.split()\n",
    "    \n",
    "    n1 = int(n1)\n",
    "    n2 = int(n2)\n",
    "    \n",
    "    if op in funcs:\n",
    "        result = funcs[op](n1, n2)\n",
    "        \n",
    "    else:\n",
    "        result = f'No such operator {op}'\n",
    "        \n",
    "    print(f'{n1} {op} {n2} = {result}')\n",
    "    "
   ]
  },
  {
   "cell_type": "code",
   "execution_count": 71,
   "id": "12af484e-6692-4aed-a0aa-6f0710aebbe4",
   "metadata": {},
   "outputs": [
    {
     "name": "stdin",
     "output_type": "stream",
     "text": [
      "Enter expression:  2 + 500\n"
     ]
    },
    {
     "name": "stdout",
     "output_type": "stream",
     "text": [
      "2 + 500 = 502\n"
     ]
    },
    {
     "name": "stdin",
     "output_type": "stream",
     "text": [
      "Enter expression:  2 * 2345\n"
     ]
    },
    {
     "name": "stdout",
     "output_type": "stream",
     "text": [
      "2 * 2345 = 4690\n"
     ]
    },
    {
     "name": "stdin",
     "output_type": "stream",
     "text": [
      "Enter expression:  \n"
     ]
    }
   ],
   "source": [
    "import operator  # module containing functions that do Python's operator things\n",
    "\n",
    "funcs = {'+':operator.add,\n",
    "         '-':operator.sub,\n",
    "        '*':operator.mul,\n",
    "        '/':operator.truediv}\n",
    "\n",
    "while s := input('Enter expression: ').strip():\n",
    "    n1, op, n2 = s.split()\n",
    "    \n",
    "    n1 = int(n1)\n",
    "    n2 = int(n2)\n",
    "    \n",
    "    if op in funcs:\n",
    "        result = funcs[op](n1, n2)\n",
    "        \n",
    "    else:\n",
    "        result = f'No such operator {op}'\n",
    "        \n",
    "    print(f'{n1} {op} {n2} = {result}')\n",
    "    "
   ]
  },
  {
   "cell_type": "markdown",
   "id": "b333f986-488d-4009-9464-8d76bdff50ef",
   "metadata": {},
   "source": [
    "# Functional programming\n",
    "\n",
    "1. Comprehensions\n",
    "    - List comprehensions\n",
    "    - Set comprehensions\n",
    "    - Dict comprehensions\n",
    "    - Nested comprehensions\n",
    "2. Functions as arguments to other functions\n",
    "    - Sorting\n",
    "    - What kinds of functions can we use?\n",
    "    - Writing functions that take other functions\n",
    "3. Other functional techniques\n",
    "    - `lambda`\n",
    "    - `map` and `filter`\n",
    "    - `reduce`\n",
    "    "
   ]
  },
  {
   "cell_type": "code",
   "execution_count": 73,
   "id": "f03f97bd-2b3c-4b2a-99af-059e59995f24",
   "metadata": {},
   "outputs": [
    {
     "data": {
      "text/plain": [
       "[0, 1, 4, 9, 16, 25, 36, 49, 64, 81]"
      ]
     },
     "execution_count": 73,
     "metadata": {},
     "output_type": "execute_result"
    }
   ],
   "source": [
    "numbers = range(10)\n",
    "\n",
    "# I want a list with each element from \"numbers\" squared (i.e., to the 2nd power)\n",
    "\n",
    "output = []\n",
    "\n",
    "for one_number in numbers:\n",
    "    output.append(one_number ** 2)\n",
    "    \n",
    "output      # unfortunately, this works!"
   ]
  },
  {
   "cell_type": "code",
   "execution_count": 75,
   "id": "102bb805-cd74-4111-9d35-88f405f30760",
   "metadata": {},
   "outputs": [
    {
     "data": {
      "text/plain": [
       "[0, 1, 4, 9, 16, 25, 36, 49, 64, 81]"
      ]
     },
     "execution_count": 75,
     "metadata": {},
     "output_type": "execute_result"
    }
   ],
   "source": [
    "# list comrehension -- achieves the same goals\n",
    "\n",
    "numbers = range(10)\n",
    "\n",
    "# this is a list comprehension! -- square brackets mean a list\n",
    "# the output list contains the result of running our expression on each element of numbers\n",
    "output = [one_number ** 2 for one_number in numbers]\n",
    "\n",
    "output"
   ]
  },
  {
   "cell_type": "markdown",
   "id": "2ef42f53-5e5f-485f-ab4c-a3575e665a6c",
   "metadata": {},
   "source": [
    "# When should I use a comprehension?\n",
    "\n",
    "- When you have an input sequence\n",
    "- You want to get a list back, based on that input sequence\n",
    "- You can express the difference between the input and output as a single Python expression"
   ]
  },
  {
   "cell_type": "code",
   "execution_count": 77,
   "id": "ad23d9c9-8cf2-44c3-910b-41636782662b",
   "metadata": {},
   "outputs": [
    {
     "data": {
      "text/plain": [
       "[0, 1, 4, 9, 16, 25, 36, 49, 64, 81]"
      ]
     },
     "execution_count": 77,
     "metadata": {},
     "output_type": "execute_result"
    }
   ],
   "source": [
    "[one_number ** 2             # expression -- SELECT\n",
    " for one_number in numbers]  # iteration  -- FROM"
   ]
  },
  {
   "cell_type": "code",
   "execution_count": 78,
   "id": "ef2f9f96-6dd0-4483-972e-c6d44012bc70",
   "metadata": {},
   "outputs": [
    {
     "name": "stdout",
     "output_type": "stream",
     "text": [
      "0\n",
      "1\n",
      "2\n",
      "3\n",
      "4\n",
      "5\n",
      "6\n",
      "7\n",
      "8\n",
      "9\n"
     ]
    },
    {
     "data": {
      "text/plain": [
       "[None, None, None, None, None, None, None, None, None, None]"
      ]
     },
     "execution_count": 78,
     "metadata": {},
     "output_type": "execute_result"
    }
   ],
   "source": [
    "# never use print inside of a comprehension\n",
    "# the point of a comprehension is the return value from our expression\n",
    "\n",
    "[print(one_number)\n",
    "  for one_number in numbers]"
   ]
  },
  {
   "cell_type": "code",
   "execution_count": 79,
   "id": "d4433f93-eda2-4262-aad8-08e0c097d929",
   "metadata": {},
   "outputs": [
    {
     "data": {
      "text/plain": [
       "'a*bc*def*g'"
      ]
     },
     "execution_count": 79,
     "metadata": {},
     "output_type": "execute_result"
    }
   ],
   "source": [
    "mylist = ['a', 'bc', 'def', 'g']\n",
    "\n",
    "'*'.join(mylist)    # glue.join(string_sequence)"
   ]
  },
  {
   "cell_type": "code",
   "execution_count": 80,
   "id": "0f460ee7-aea3-404a-99b6-2256677a7339",
   "metadata": {},
   "outputs": [
    {
     "ename": "TypeError",
     "evalue": "sequence item 0: expected str instance, int found",
     "output_type": "error",
     "traceback": [
      "\u001b[0;31m---------------------------------------------------------------------------\u001b[0m",
      "\u001b[0;31mTypeError\u001b[0m                                 Traceback (most recent call last)",
      "\u001b[0;32m/var/folders/rr/0mnyyv811fs5vyp22gf4fxk00000gn/T/ipykernel_80969/3465391870.py\u001b[0m in \u001b[0;36m<module>\u001b[0;34m\u001b[0m\n\u001b[1;32m      1\u001b[0m \u001b[0mmylist\u001b[0m \u001b[0;34m=\u001b[0m \u001b[0;34m[\u001b[0m\u001b[0;36m10\u001b[0m\u001b[0;34m,\u001b[0m \u001b[0;36m20\u001b[0m\u001b[0;34m,\u001b[0m \u001b[0;36m30\u001b[0m\u001b[0;34m]\u001b[0m\u001b[0;34m\u001b[0m\u001b[0;34m\u001b[0m\u001b[0m\n\u001b[1;32m      2\u001b[0m \u001b[0;34m\u001b[0m\u001b[0m\n\u001b[0;32m----> 3\u001b[0;31m \u001b[0;34m'*'\u001b[0m\u001b[0;34m.\u001b[0m\u001b[0mjoin\u001b[0m\u001b[0;34m(\u001b[0m\u001b[0mmylist\u001b[0m\u001b[0;34m)\u001b[0m\u001b[0;34m\u001b[0m\u001b[0;34m\u001b[0m\u001b[0m\n\u001b[0m",
      "\u001b[0;31mTypeError\u001b[0m: sequence item 0: expected str instance, int found"
     ]
    }
   ],
   "source": [
    "mylist = [10, 20, 30]\n",
    "\n",
    "'*'.join(mylist)"
   ]
  },
  {
   "cell_type": "code",
   "execution_count": 81,
   "id": "b58d333a-5e9a-4c8e-8af0-27dff8bd271a",
   "metadata": {},
   "outputs": [
    {
     "data": {
      "text/plain": [
       "['10', '20', '30']"
      ]
     },
     "execution_count": 81,
     "metadata": {},
     "output_type": "execute_result"
    }
   ],
   "source": [
    "# I have a list of ints\n",
    "# I want a list of strings\n",
    "# I can convert int->string with \"str\"\n",
    "\n",
    "[str(one_item)\n",
    " for one_item in mylist]"
   ]
  },
  {
   "cell_type": "code",
   "execution_count": 83,
   "id": "472b81ee-9ae1-4c68-beaf-efaeb8bb5ac8",
   "metadata": {},
   "outputs": [
    {
     "data": {
      "text/plain": [
       "'10*20*30'"
      ]
     },
     "execution_count": 83,
     "metadata": {},
     "output_type": "execute_result"
    }
   ],
   "source": [
    "# create a new list with the comprehension,\n",
    "# and pass that new list (of strings) to '*'.join\n",
    "\n",
    "'*'.join([str(one_item)\n",
    "          for one_item in mylist])          "
   ]
  },
  {
   "cell_type": "code",
   "execution_count": 85,
   "id": "d10a757b-14ad-49f1-8e8a-a0e669c46d00",
   "metadata": {},
   "outputs": [],
   "source": [
    "words = 'this is a bunch of words'\n"
   ]
  },
  {
   "cell_type": "code",
   "execution_count": 86,
   "id": "da96a1a3-eb36-4534-8503-47b1e62dbff2",
   "metadata": {},
   "outputs": [
    {
     "data": {
      "text/plain": [
       "'This is a bunch of words'"
      ]
     },
     "execution_count": 86,
     "metadata": {},
     "output_type": "execute_result"
    }
   ],
   "source": [
    "# the method str.capitalize returns a string with all lowercase, except for the first character,\n",
    "# which is capitalized\n",
    "words.capitalize()"
   ]
  },
  {
   "cell_type": "code",
   "execution_count": 87,
   "id": "d612affe-f27f-42a0-afa2-1125d589eb5f",
   "metadata": {},
   "outputs": [
    {
     "data": {
      "text/plain": [
       "'This Is A Bunch Of Words'"
      ]
     },
     "execution_count": 87,
     "metadata": {},
     "output_type": "execute_result"
    }
   ],
   "source": [
    "# the method str.title returns a string with each word's first character capitalized,\n",
    "# and the rest lowercase\n",
    "words.title()"
   ]
  },
  {
   "cell_type": "code",
   "execution_count": 90,
   "id": "0eed9a09-5aa5-4789-9f64-0660b3bfc7a7",
   "metadata": {},
   "outputs": [
    {
     "data": {
      "text/plain": [
       "'This Is A Bunch Of Words'"
      ]
     },
     "execution_count": 90,
     "metadata": {},
     "output_type": "execute_result"
    }
   ],
   "source": [
    "# I'm going to pretend that str.title doesn't exist.\n",
    "# can I use str.capitalize instead?\n",
    "\n",
    "# Input is a list of strings (words.split())\n",
    "# Output is a single string\n",
    "# Convert from a string to a capitalized string with str.capitalize... then use join to combine them\n",
    "\n",
    "' '.join([one_word.capitalize()\n",
    "  for one_word in words.split()])"
   ]
  },
  {
   "cell_type": "markdown",
   "id": "9a56d020-8be0-4728-878c-24b1afb0e469",
   "metadata": {},
   "source": [
    "# Exercises with comprehensions\n",
    "\n",
    "1. Ask the user to enter some integers, separated by spaces. Add them together, and print the result.\n",
    "2. Ask the user to enter a sentence. Count the number of non-whitespace characters in the sentence. (Don't use `str.replace`)"
   ]
  },
  {
   "cell_type": "code",
   "execution_count": 91,
   "id": "3a5a3e56-9aab-4813-b15d-08dcc7360ab5",
   "metadata": {},
   "outputs": [
    {
     "name": "stdin",
     "output_type": "stream",
     "text": [
      "Enter some integers:  10 20 30\n"
     ]
    },
    {
     "ename": "TypeError",
     "evalue": "unsupported operand type(s) for +: 'int' and 'str'",
     "output_type": "error",
     "traceback": [
      "\u001b[0;31m---------------------------------------------------------------------------\u001b[0m",
      "\u001b[0;31mTypeError\u001b[0m                                 Traceback (most recent call last)",
      "\u001b[0;32m/var/folders/rr/0mnyyv811fs5vyp22gf4fxk00000gn/T/ipykernel_80969/4038483230.py\u001b[0m in \u001b[0;36m<module>\u001b[0;34m\u001b[0m\n\u001b[1;32m      1\u001b[0m \u001b[0ms\u001b[0m \u001b[0;34m=\u001b[0m \u001b[0minput\u001b[0m\u001b[0;34m(\u001b[0m\u001b[0;34m'Enter some integers: '\u001b[0m\u001b[0;34m)\u001b[0m\u001b[0;34m.\u001b[0m\u001b[0mstrip\u001b[0m\u001b[0;34m(\u001b[0m\u001b[0;34m)\u001b[0m\u001b[0;34m\u001b[0m\u001b[0;34m\u001b[0m\u001b[0m\n\u001b[1;32m      2\u001b[0m \u001b[0;34m\u001b[0m\u001b[0m\n\u001b[0;32m----> 3\u001b[0;31m \u001b[0msum\u001b[0m\u001b[0;34m(\u001b[0m\u001b[0ms\u001b[0m\u001b[0;34m.\u001b[0m\u001b[0msplit\u001b[0m\u001b[0;34m(\u001b[0m\u001b[0;34m)\u001b[0m\u001b[0;34m)\u001b[0m\u001b[0;34m\u001b[0m\u001b[0;34m\u001b[0m\u001b[0m\n\u001b[0m",
      "\u001b[0;31mTypeError\u001b[0m: unsupported operand type(s) for +: 'int' and 'str'"
     ]
    }
   ],
   "source": [
    "s = input('Enter some integers: ').strip()\n",
    "\n",
    "sum(s.split())  # you cannot add together a list of strings to 0"
   ]
  },
  {
   "cell_type": "code",
   "execution_count": 95,
   "id": "4c20331c-63e0-49db-aeda-cf22af1c3f02",
   "metadata": {},
   "outputs": [
    {
     "name": "stdin",
     "output_type": "stream",
     "text": [
      "Enter some integers:  10 15 20 35\n"
     ]
    },
    {
     "data": {
      "text/plain": [
       "80"
      ]
     },
     "execution_count": 95,
     "metadata": {},
     "output_type": "execute_result"
    }
   ],
   "source": [
    "# I have a list of strings (s.split())\n",
    "# I want a list of integers (to feed to sum)\n",
    "# I can move from string -> int running int()\n",
    "\n",
    "s = input('Enter some integers: ').strip()\n",
    "\n",
    "sum([int(one_item)\n",
    " for one_item in s.split()])"
   ]
  },
  {
   "cell_type": "code",
   "execution_count": 96,
   "id": "d5e4c536-0cb8-4065-98b4-e89d6b9cfc8b",
   "metadata": {},
   "outputs": [
    {
     "name": "stdin",
     "output_type": "stream",
     "text": [
      "Enter a sentence:  this is a test\n"
     ]
    },
    {
     "name": "stdout",
     "output_type": "stream",
     "text": [
      "14\n"
     ]
    }
   ],
   "source": [
    "# enter a sentence, and count the non-whitespace characters\n",
    "\n",
    "s = input('Enter a sentence: ').strip()\n",
    "\n",
    "print(len(s))"
   ]
  },
  {
   "cell_type": "code",
   "execution_count": 98,
   "id": "e5840e88-cff6-4639-add7-7ea9a560d1bd",
   "metadata": {},
   "outputs": [
    {
     "name": "stdin",
     "output_type": "stream",
     "text": [
      "Enter a sentence:  this is a test\n"
     ]
    },
    {
     "data": {
      "text/plain": [
       "11"
      ]
     },
     "execution_count": 98,
     "metadata": {},
     "output_type": "execute_result"
    }
   ],
   "source": [
    "# I have a list of strings\n",
    "# I want a list of integers, so that I can run sum() on it\n",
    "# I can run len() on each item\n",
    "\n",
    "s = input('Enter a sentence: ').strip()\n",
    "\n",
    "sum([len(one_word)\n",
    " for one_word in s.split()])"
   ]
  },
  {
   "cell_type": "code",
   "execution_count": 100,
   "id": "c174b8b1-5e47-422a-a51b-402bfd0930f7",
   "metadata": {},
   "outputs": [
    {
     "data": {
      "text/plain": [
       "['##\\n',\n",
       " '# User Database\\n',\n",
       " '# \\n',\n",
       " '# Note that this file is consulted directly only when the system is running\\n',\n",
       " '# in single-user mode.  At other times this information is provided by\\n',\n",
       " '# Open Directory.\\n',\n",
       " '#\\n',\n",
       " '# See the opendirectoryd(8) man page for additional information about\\n',\n",
       " '# Open Directory.\\n',\n",
       " '##\\n',\n",
       " 'nobody:*:-2:-2:Unprivileged User:/var/empty:/usr/bin/false\\n',\n",
       " 'root:*:0:0:System Administrator:/var/root:/bin/sh\\n',\n",
       " 'daemon:*:1:1:System Services:/var/root:/usr/bin/false\\n',\n",
       " '_uucp:*:4:4:Unix to Unix Copy Protocol:/var/spool/uucp:/usr/sbin/uucico\\n',\n",
       " '_taskgated:*:13:13:Task Gate Daemon:/var/empty:/usr/bin/false\\n',\n",
       " '_networkd:*:24:24:Network Services:/var/networkd:/usr/bin/false\\n',\n",
       " '_installassistant:*:25:25:Install Assistant:/var/empty:/usr/bin/false\\n',\n",
       " '_lp:*:26:26:Printing Services:/var/spool/cups:/usr/bin/false\\n',\n",
       " '_postfix:*:27:27:Postfix Mail Server:/var/spool/postfix:/usr/bin/false\\n',\n",
       " '_scsd:*:31:31:Service Configuration Service:/var/empty:/usr/bin/false\\n',\n",
       " '_ces:*:32:32:Certificate Enrollment Service:/var/empty:/usr/bin/false\\n',\n",
       " '_appstore:*:33:33:Mac App Store Service:/var/db/appstore:/usr/bin/false\\n',\n",
       " '_mcxalr:*:54:54:MCX AppLaunch:/var/empty:/usr/bin/false\\n',\n",
       " '_appleevents:*:55:55:AppleEvents Daemon:/var/empty:/usr/bin/false\\n',\n",
       " '_geod:*:56:56:Geo Services Daemon:/var/db/geod:/usr/bin/false\\n',\n",
       " '_devdocs:*:59:59:Developer Documentation:/var/empty:/usr/bin/false\\n',\n",
       " '_sandbox:*:60:60:Seatbelt:/var/empty:/usr/bin/false\\n',\n",
       " '_mdnsresponder:*:65:65:mDNSResponder:/var/empty:/usr/bin/false\\n',\n",
       " '_ard:*:67:67:Apple Remote Desktop:/var/empty:/usr/bin/false\\n',\n",
       " '_www:*:70:70:World Wide Web Server:/Library/WebServer:/usr/bin/false\\n',\n",
       " '_eppc:*:71:71:Apple Events User:/var/empty:/usr/bin/false\\n',\n",
       " '_cvs:*:72:72:CVS Server:/var/empty:/usr/bin/false\\n',\n",
       " '_svn:*:73:73:SVN Server:/var/empty:/usr/bin/false\\n',\n",
       " '_mysql:*:74:74:MySQL Server:/var/empty:/usr/bin/false\\n',\n",
       " '_sshd:*:75:75:sshd Privilege separation:/var/empty:/usr/bin/false\\n',\n",
       " '_qtss:*:76:76:QuickTime Streaming Server:/var/empty:/usr/bin/false\\n',\n",
       " '_cyrus:*:77:6:Cyrus Administrator:/var/imap:/usr/bin/false\\n',\n",
       " '_mailman:*:78:78:Mailman List Server:/var/empty:/usr/bin/false\\n',\n",
       " '_appserver:*:79:79:Application Server:/var/empty:/usr/bin/false\\n',\n",
       " '_clamav:*:82:82:ClamAV Daemon:/var/virusmails:/usr/bin/false\\n',\n",
       " '_amavisd:*:83:83:AMaViS Daemon:/var/virusmails:/usr/bin/false\\n',\n",
       " '_jabber:*:84:84:Jabber XMPP Server:/var/empty:/usr/bin/false\\n',\n",
       " '_appowner:*:87:87:Application Owner:/var/empty:/usr/bin/false\\n',\n",
       " '_windowserver:*:88:88:WindowServer:/var/empty:/usr/bin/false\\n',\n",
       " '_spotlight:*:89:89:Spotlight:/var/empty:/usr/bin/false\\n',\n",
       " '_tokend:*:91:91:Token Daemon:/var/empty:/usr/bin/false\\n',\n",
       " '_securityagent:*:92:92:SecurityAgent:/var/db/securityagent:/usr/bin/false\\n',\n",
       " '_calendar:*:93:93:Calendar:/var/empty:/usr/bin/false\\n',\n",
       " '_teamsserver:*:94:94:TeamsServer:/var/teamsserver:/usr/bin/false\\n',\n",
       " '_update_sharing:*:95:-2:Update Sharing:/var/empty:/usr/bin/false\\n',\n",
       " '_installer:*:96:-2:Installer:/var/empty:/usr/bin/false\\n',\n",
       " '_atsserver:*:97:97:ATS Server:/var/empty:/usr/bin/false\\n',\n",
       " '_ftp:*:98:-2:FTP Daemon:/var/empty:/usr/bin/false\\n',\n",
       " '_unknown:*:99:99:Unknown User:/var/empty:/usr/bin/false\\n',\n",
       " '_softwareupdate:*:200:200:Software Update Service:/var/db/softwareupdate:/usr/bin/false\\n',\n",
       " '_coreaudiod:*:202:202:Core Audio Daemon:/var/empty:/usr/bin/false\\n',\n",
       " '_screensaver:*:203:203:Screensaver:/var/empty:/usr/bin/false\\n',\n",
       " '_locationd:*:205:205:Location Daemon:/var/db/locationd:/usr/bin/false\\n',\n",
       " '_trustevaluationagent:*:208:208:Trust Evaluation Agent:/var/empty:/usr/bin/false\\n',\n",
       " '_timezone:*:210:210:AutoTimeZoneDaemon:/var/empty:/usr/bin/false\\n',\n",
       " '_lda:*:211:211:Local Delivery Agent:/var/empty:/usr/bin/false\\n',\n",
       " '_cvmsroot:*:212:212:CVMS Root:/var/empty:/usr/bin/false\\n',\n",
       " '_usbmuxd:*:213:213:iPhone OS Device Helper:/var/db/lockdown:/usr/bin/false\\n',\n",
       " '_dovecot:*:214:6:Dovecot Administrator:/var/empty:/usr/bin/false\\n',\n",
       " '_dpaudio:*:215:215:DP Audio:/var/empty:/usr/bin/false\\n',\n",
       " '_postgres:*:216:216:PostgreSQL Server:/var/empty:/usr/bin/false\\n',\n",
       " '_krbtgt:*:217:-2:Kerberos Ticket Granting Ticket:/var/empty:/usr/bin/false\\n',\n",
       " '_kadmin_admin:*:218:-2:Kerberos Admin Service:/var/empty:/usr/bin/false\\n',\n",
       " '_kadmin_changepw:*:219:-2:Kerberos Change Password Service:/var/empty:/usr/bin/false\\n',\n",
       " '_devicemgr:*:220:220:Device Management Server:/var/empty:/usr/bin/false\\n',\n",
       " '_webauthserver:*:221:221:Web Auth Server:/var/empty:/usr/bin/false\\n',\n",
       " '_netbios:*:222:222:NetBIOS:/var/empty:/usr/bin/false\\n',\n",
       " '_warmd:*:224:224:Warm Daemon:/var/empty:/usr/bin/false\\n',\n",
       " '_dovenull:*:227:227:Dovecot Authentication:/var/empty:/usr/bin/false\\n',\n",
       " '_netstatistics:*:228:228:Network Statistics Daemon:/var/empty:/usr/bin/false\\n',\n",
       " '_avbdeviced:*:229:-2:Ethernet AVB Device Daemon:/var/empty:/usr/bin/false\\n',\n",
       " '_krb_krbtgt:*:230:-2:Open Directory Kerberos Ticket Granting Ticket:/var/empty:/usr/bin/false\\n',\n",
       " '_krb_kadmin:*:231:-2:Open Directory Kerberos Admin Service:/var/empty:/usr/bin/false\\n',\n",
       " '_krb_changepw:*:232:-2:Open Directory Kerberos Change Password Service:/var/empty:/usr/bin/false\\n',\n",
       " '_krb_kerberos:*:233:-2:Open Directory Kerberos:/var/empty:/usr/bin/false\\n',\n",
       " '_krb_anonymous:*:234:-2:Open Directory Kerberos Anonymous:/var/empty:/usr/bin/false\\n',\n",
       " '_assetcache:*:235:235:Asset Cache Service:/var/empty:/usr/bin/false\\n',\n",
       " '_coremediaiod:*:236:236:Core Media IO Daemon:/var/empty:/usr/bin/false\\n',\n",
       " '_launchservicesd:*:239:239:_launchservicesd:/var/empty:/usr/bin/false\\n',\n",
       " '_iconservices:*:240:240:IconServices:/var/empty:/usr/bin/false\\n',\n",
       " '_distnote:*:241:241:DistNote:/var/empty:/usr/bin/false\\n',\n",
       " '_nsurlsessiond:*:242:242:NSURLSession Daemon:/var/db/nsurlsessiond:/usr/bin/false\\n',\n",
       " '_displaypolicyd:*:244:244:Display Policy Daemon:/var/empty:/usr/bin/false\\n',\n",
       " '_astris:*:245:245:Astris Services:/var/db/astris:/usr/bin/false\\n',\n",
       " '_krbfast:*:246:-2:Kerberos FAST Account:/var/empty:/usr/bin/false\\n',\n",
       " '_gamecontrollerd:*:247:247:Game Controller Daemon:/var/empty:/usr/bin/false\\n',\n",
       " '_mbsetupuser:*:248:248:Setup User:/var/setup:/bin/bash\\n',\n",
       " '_ondemand:*:249:249:On Demand Resource Daemon:/var/db/ondemand:/usr/bin/false\\n',\n",
       " '_xserverdocs:*:251:251:macOS Server Documents Service:/var/empty:/usr/bin/false\\n',\n",
       " '_wwwproxy:*:252:252:WWW Proxy:/var/empty:/usr/bin/false\\n',\n",
       " '_mobileasset:*:253:253:MobileAsset User:/var/ma:/usr/bin/false\\n',\n",
       " '_findmydevice:*:254:254:Find My Device Daemon:/var/db/findmydevice:/usr/bin/false\\n',\n",
       " '_datadetectors:*:257:257:DataDetectors:/var/db/datadetectors:/usr/bin/false\\n',\n",
       " '_captiveagent:*:258:258:captiveagent:/var/empty:/usr/bin/false\\n',\n",
       " '_ctkd:*:259:259:ctkd Account:/var/empty:/usr/bin/false\\n',\n",
       " '_applepay:*:260:260:applepay Account:/var/db/applepay:/usr/bin/false\\n',\n",
       " '_hidd:*:261:261:HID Service User:/var/db/hidd:/usr/bin/false\\n',\n",
       " '_cmiodalassistants:*:262:262:CoreMedia IO Assistants User:/var/db/cmiodalassistants:/usr/bin/false\\n',\n",
       " '_analyticsd:*:263:263:Analytics Daemon:/var/db/analyticsd:/usr/bin/false\\n',\n",
       " '_fpsd:*:265:265:FPS Daemon:/var/db/fpsd:/usr/bin/false\\n',\n",
       " '_timed:*:266:266:Time Sync Daemon:/var/db/timed:/usr/bin/false\\n',\n",
       " '_nearbyd:*:268:268:Proximity and Ranging Daemon:/var/db/nearbyd:/usr/bin/false\\n',\n",
       " '_reportmemoryexception:*:269:269:ReportMemoryException:/var/db/reportmemoryexception:/usr/bin/false\\n',\n",
       " '_driverkit:*:270:270:DriverKit:/var/empty:/usr/bin/false\\n',\n",
       " '_diskimagesiod:*:271:271:DiskImages IO Daemon:/var/db/diskimagesiod:/usr/bin/false\\n',\n",
       " '_logd:*:272:272:Log Daemon:/var/db/diagnostics:/usr/bin/false\\n',\n",
       " '_appinstalld:*:273:273:App Install Daemon:/var/db/appinstalld:/usr/bin/false\\n',\n",
       " '_installcoordinationd:*:274:274:Install Coordination Daemon:/var/db/installcoordinationd:/usr/bin/false\\n',\n",
       " '_demod:*:275:275:Demo Daemon:/var/empty:/usr/bin/false\\n',\n",
       " '_rmd:*:277:277:Remote Management Daemon:/var/db/rmd:/usr/bin/false\\n',\n",
       " '_fud:*:278:278:Firmware Update Daemon:/var/db/fud:/usr/bin/false\\n',\n",
       " '_knowledgegraphd:*:279:279:Knowledge Graph Daemon:/var/db/knowledgegraphd:/usr/bin/false\\n',\n",
       " '_coreml:*:280:280:CoreML Services:/var/empty:/usr/bin/false\\n',\n",
       " '_trustd:*:282:282:trustd:/var/empty:/usr/bin/false\\n',\n",
       " '_oahd:*:441:441:OAH Daemon:/var/empty:/usr/bin/false\\n']"
      ]
     },
     "execution_count": 100,
     "metadata": {},
     "output_type": "execute_result"
    }
   ],
   "source": [
    "# this returns a list of strings, with each string being a line in the file\n",
    "[one_line\n",
    "  for one_line in open('/etc/passwd')]"
   ]
  },
  {
   "cell_type": "code",
   "execution_count": 103,
   "id": "6cf840c6-0a1f-43c2-a4fe-9bb067016817",
   "metadata": {},
   "outputs": [
    {
     "data": {
      "text/plain": [
       "['nobody',\n",
       " 'root',\n",
       " 'daemon',\n",
       " '_uucp',\n",
       " '_taskgated',\n",
       " '_networkd',\n",
       " '_installassistant',\n",
       " '_lp',\n",
       " '_postfix',\n",
       " '_scsd',\n",
       " '_ces',\n",
       " '_appstore',\n",
       " '_mcxalr',\n",
       " '_appleevents',\n",
       " '_geod',\n",
       " '_devdocs',\n",
       " '_sandbox',\n",
       " '_mdnsresponder',\n",
       " '_ard',\n",
       " '_www',\n",
       " '_eppc',\n",
       " '_cvs',\n",
       " '_svn',\n",
       " '_mysql',\n",
       " '_sshd',\n",
       " '_qtss',\n",
       " '_cyrus',\n",
       " '_mailman',\n",
       " '_appserver',\n",
       " '_clamav',\n",
       " '_amavisd',\n",
       " '_jabber',\n",
       " '_appowner',\n",
       " '_windowserver',\n",
       " '_spotlight',\n",
       " '_tokend',\n",
       " '_securityagent',\n",
       " '_calendar',\n",
       " '_teamsserver',\n",
       " '_update_sharing',\n",
       " '_installer',\n",
       " '_atsserver',\n",
       " '_ftp',\n",
       " '_unknown',\n",
       " '_softwareupdate',\n",
       " '_coreaudiod',\n",
       " '_screensaver',\n",
       " '_locationd',\n",
       " '_trustevaluationagent',\n",
       " '_timezone',\n",
       " '_lda',\n",
       " '_cvmsroot',\n",
       " '_usbmuxd',\n",
       " '_dovecot',\n",
       " '_dpaudio',\n",
       " '_postgres',\n",
       " '_krbtgt',\n",
       " '_kadmin_admin',\n",
       " '_kadmin_changepw',\n",
       " '_devicemgr',\n",
       " '_webauthserver',\n",
       " '_netbios',\n",
       " '_warmd',\n",
       " '_dovenull',\n",
       " '_netstatistics',\n",
       " '_avbdeviced',\n",
       " '_krb_krbtgt',\n",
       " '_krb_kadmin',\n",
       " '_krb_changepw',\n",
       " '_krb_kerberos',\n",
       " '_krb_anonymous',\n",
       " '_assetcache',\n",
       " '_coremediaiod',\n",
       " '_launchservicesd',\n",
       " '_iconservices',\n",
       " '_distnote',\n",
       " '_nsurlsessiond',\n",
       " '_displaypolicyd',\n",
       " '_astris',\n",
       " '_krbfast',\n",
       " '_gamecontrollerd',\n",
       " '_mbsetupuser',\n",
       " '_ondemand',\n",
       " '_xserverdocs',\n",
       " '_wwwproxy',\n",
       " '_mobileasset',\n",
       " '_findmydevice',\n",
       " '_datadetectors',\n",
       " '_captiveagent',\n",
       " '_ctkd',\n",
       " '_applepay',\n",
       " '_hidd',\n",
       " '_cmiodalassistants',\n",
       " '_analyticsd',\n",
       " '_fpsd',\n",
       " '_timed',\n",
       " '_nearbyd',\n",
       " '_reportmemoryexception',\n",
       " '_driverkit',\n",
       " '_diskimagesiod',\n",
       " '_logd',\n",
       " '_appinstalld',\n",
       " '_installcoordinationd',\n",
       " '_demod',\n",
       " '_rmd',\n",
       " '_fud',\n",
       " '_knowledgegraphd',\n",
       " '_coreml',\n",
       " '_trustd',\n",
       " '_oahd']"
      ]
     },
     "execution_count": 103,
     "metadata": {},
     "output_type": "execute_result"
    }
   ],
   "source": [
    "# list of strings -- the usernames in /etc/passwd\n",
    "\n",
    "# when I use \"if\" in a list comprehension, the output might be shorter than the input\n",
    "\n",
    "[one_line.split(':')[0]                 # expression -- SELECT\n",
    "  for one_line in open('/etc/passwd')   # iteration  -- FROM\n",
    "  if not one_line.startswith('#')]      # condition  -- WHERE"
   ]
  },
  {
   "cell_type": "code",
   "execution_count": 104,
   "id": "efe985fa-61c8-4456-b526-4982ecb4cdc5",
   "metadata": {},
   "outputs": [
    {
     "name": "stdout",
     "output_type": "stream",
     "text": [
      "5\n",
      "\t10     \n",
      "\t20\n",
      "  \t3\n",
      "\t\t   \t20        \n",
      "\n",
      " 25\n"
     ]
    }
   ],
   "source": [
    "!cat nums.txt"
   ]
  },
  {
   "cell_type": "markdown",
   "id": "6ef69885-3e70-46f8-bf6c-a2ee9d8a261f",
   "metadata": {},
   "source": [
    "# Exercise: Sum the numbers\n",
    "\n",
    "Use a list comprehension to sum the numbers in `nums.txt`.\n",
    "- You should read the file line by line (not all at once)\n",
    "- Only one line lacks any integer\n",
    "- No line contains more than one integer"
   ]
  },
  {
   "cell_type": "code",
   "execution_count": 105,
   "id": "e4ad9bf2-5632-41a4-ae34-509e44149c2a",
   "metadata": {},
   "outputs": [
    {
     "data": {
      "text/plain": [
       "['5\\n',\n",
       " '\\t10     \\n',\n",
       " '\\t20\\n',\n",
       " '  \\t3\\n',\n",
       " '\\t\\t   \\t20        \\n',\n",
       " '\\n',\n",
       " ' 25\\n']"
      ]
     },
     "execution_count": 105,
     "metadata": {},
     "output_type": "execute_result"
    }
   ],
   "source": [
    "[one_line\n",
    " for one_line in open('nums.txt')]"
   ]
  },
  {
   "cell_type": "code",
   "execution_count": 106,
   "id": "bcc4cdf1-fd67-41bb-96e7-33813a6a5770",
   "metadata": {},
   "outputs": [
    {
     "ename": "ValueError",
     "evalue": "invalid literal for int() with base 10: '\\n'",
     "output_type": "error",
     "traceback": [
      "\u001b[0;31m---------------------------------------------------------------------------\u001b[0m",
      "\u001b[0;31mValueError\u001b[0m                                Traceback (most recent call last)",
      "\u001b[0;32m/var/folders/rr/0mnyyv811fs5vyp22gf4fxk00000gn/T/ipykernel_80969/2909245040.py\u001b[0m in \u001b[0;36m<module>\u001b[0;34m\u001b[0m\n\u001b[0;32m----> 1\u001b[0;31m [int(one_line)\n\u001b[0m\u001b[1;32m      2\u001b[0m  for one_line in open('nums.txt')]\n",
      "\u001b[0;32m/var/folders/rr/0mnyyv811fs5vyp22gf4fxk00000gn/T/ipykernel_80969/2909245040.py\u001b[0m in \u001b[0;36m<listcomp>\u001b[0;34m(.0)\u001b[0m\n\u001b[0;32m----> 1\u001b[0;31m [int(one_line)\n\u001b[0m\u001b[1;32m      2\u001b[0m  for one_line in open('nums.txt')]\n",
      "\u001b[0;31mValueError\u001b[0m: invalid literal for int() with base 10: '\\n'"
     ]
    }
   ],
   "source": [
    "[int(one_line)\n",
    " for one_line in open('nums.txt')]"
   ]
  },
  {
   "cell_type": "code",
   "execution_count": 107,
   "id": "ac6efdcb-c83b-4a00-a314-af14dbea8e01",
   "metadata": {},
   "outputs": [
    {
     "data": {
      "text/plain": [
       "5"
      ]
     },
     "execution_count": 107,
     "metadata": {},
     "output_type": "execute_result"
    }
   ],
   "source": [
    "int('5')"
   ]
  },
  {
   "cell_type": "code",
   "execution_count": 108,
   "id": "54f9ba45-3064-45d3-a42b-5ba0dcc0b922",
   "metadata": {},
   "outputs": [
    {
     "data": {
      "text/plain": [
       "5"
      ]
     },
     "execution_count": 108,
     "metadata": {},
     "output_type": "execute_result"
    }
   ],
   "source": [
    "int('    5    ')"
   ]
  },
  {
   "cell_type": "code",
   "execution_count": 109,
   "id": "3592ef61-db4e-4d02-a913-7a44ccaa5546",
   "metadata": {},
   "outputs": [
    {
     "data": {
      "text/plain": [
       "5"
      ]
     },
     "execution_count": 109,
     "metadata": {},
     "output_type": "execute_result"
    }
   ],
   "source": [
    "int('\\n\\n5\\n\\n')"
   ]
  },
  {
   "cell_type": "code",
   "execution_count": 110,
   "id": "6af5242d-6529-415d-bbe1-20faab463f2f",
   "metadata": {},
   "outputs": [
    {
     "data": {
      "text/plain": [
       "0"
      ]
     },
     "execution_count": 110,
     "metadata": {},
     "output_type": "execute_result"
    }
   ],
   "source": [
    "int()"
   ]
  },
  {
   "cell_type": "code",
   "execution_count": 111,
   "id": "3123dcc4-489e-4209-a273-f9de8f4687f4",
   "metadata": {},
   "outputs": [
    {
     "ename": "ValueError",
     "evalue": "invalid literal for int() with base 10: ' '",
     "output_type": "error",
     "traceback": [
      "\u001b[0;31m---------------------------------------------------------------------------\u001b[0m",
      "\u001b[0;31mValueError\u001b[0m                                Traceback (most recent call last)",
      "\u001b[0;32m/var/folders/rr/0mnyyv811fs5vyp22gf4fxk00000gn/T/ipykernel_80969/2966849267.py\u001b[0m in \u001b[0;36m<module>\u001b[0;34m\u001b[0m\n\u001b[0;32m----> 1\u001b[0;31m \u001b[0mint\u001b[0m\u001b[0;34m(\u001b[0m\u001b[0;34m' '\u001b[0m\u001b[0;34m)\u001b[0m\u001b[0;34m\u001b[0m\u001b[0;34m\u001b[0m\u001b[0m\n\u001b[0m",
      "\u001b[0;31mValueError\u001b[0m: invalid literal for int() with base 10: ' '"
     ]
    }
   ],
   "source": [
    "int(' ')"
   ]
  },
  {
   "cell_type": "code",
   "execution_count": 112,
   "id": "417633c1-fe4b-4552-8b19-c357b76edefb",
   "metadata": {},
   "outputs": [
    {
     "data": {
      "text/plain": [
       "[5, 10, 20, 3, 20, 25]"
      ]
     },
     "execution_count": 112,
     "metadata": {},
     "output_type": "execute_result"
    }
   ],
   "source": [
    "[int(one_line)\n",
    " for one_line in open('nums.txt')\n",
    " if one_line.strip()]  # only calculate the int if we have something left after removing whitespace"
   ]
  },
  {
   "cell_type": "code",
   "execution_count": 113,
   "id": "00c0b9a3-1dc9-4333-b478-598ca3e73c51",
   "metadata": {},
   "outputs": [
    {
     "data": {
      "text/plain": [
       "[5, 10, 20, 3, 20, 25]"
      ]
     },
     "execution_count": 113,
     "metadata": {},
     "output_type": "execute_result"
    }
   ],
   "source": [
    "[int(one_line)\n",
    " for one_line in open('nums.txt')\n",
    " if one_line.strip().isdigit()]  # only calculate the int if we have digits left after removing whitespace"
   ]
  },
  {
   "cell_type": "code",
   "execution_count": 114,
   "id": "192315b4-7e30-480b-bb4c-d18009ce338f",
   "metadata": {},
   "outputs": [
    {
     "data": {
      "text/plain": [
       "83"
      ]
     },
     "execution_count": 114,
     "metadata": {},
     "output_type": "execute_result"
    }
   ],
   "source": [
    "sum([int(one_line)\n",
    " for one_line in open('nums.txt')\n",
    " if one_line.strip().isdigit()])"
   ]
  },
  {
   "cell_type": "code",
   "execution_count": 115,
   "id": "33faeee6-0d34-43b4-800d-2125feb86534",
   "metadata": {},
   "outputs": [
    {
     "name": "stdout",
     "output_type": "stream",
     "text": [
      "Adidas\torange\t43\n",
      "Nike\tblack\t41\n",
      "Adidas\tblack\t39\n",
      "New Balance\tpink\t41\n",
      "Nike\twhite\t44\n",
      "New Balance\torange\t38\n",
      "Nike\tpink\t44\n",
      "Adidas\tpink\t44\n",
      "New Balance\torange\t39\n",
      "New Balance\tblack\t43\n"
     ]
    }
   ],
   "source": [
    "!head shoe-data.txt"
   ]
  },
  {
   "cell_type": "markdown",
   "id": "c22e8b63-3402-45b7-9590-f4d8c68b2cab",
   "metadata": {},
   "source": [
    "# Exercise: Shoes to dicts\n",
    "\n",
    "1. I want to create a list of dicts, based on the file `shoe-data.txt`.\n",
    "2. In the file, we have 100 lines, each of which contains three columns -- a brand, a color, and a size.  The columns are separated by tab characters (`'\\t'`).\n",
    "3. Use a list comprehension to turn each line into a dict with three keys -- `brand`, `color`, and `size`.  You can keep the size as a string, if you want; it won't make a difference.\n",
    "4. I suggest writing a function that returns a dict, which you'll then call for each line in the file.\n",
    "\n",
    "Note: We don't want one big dictionary. We want a list of 100 dicts, each of which has the same three keys."
   ]
  },
  {
   "cell_type": "code",
   "execution_count": 120,
   "id": "bc0fbcc3-bf2c-49c4-a052-f307bda5c53f",
   "metadata": {},
   "outputs": [
    {
     "data": {
      "text/plain": [
       "[{'brand': 'Adidas', 'color': 'orange', 'size': '43'},\n",
       " {'brand': 'Nike', 'color': 'black', 'size': '41'},\n",
       " {'brand': 'Adidas', 'color': 'black', 'size': '39'},\n",
       " {'brand': 'New Balance', 'color': 'pink', 'size': '41'},\n",
       " {'brand': 'Nike', 'color': 'white', 'size': '44'},\n",
       " {'brand': 'New Balance', 'color': 'orange', 'size': '38'},\n",
       " {'brand': 'Nike', 'color': 'pink', 'size': '44'},\n",
       " {'brand': 'Adidas', 'color': 'pink', 'size': '44'},\n",
       " {'brand': 'New Balance', 'color': 'orange', 'size': '39'},\n",
       " {'brand': 'New Balance', 'color': 'black', 'size': '43'},\n",
       " {'brand': 'New Balance', 'color': 'orange', 'size': '44'},\n",
       " {'brand': 'Nike', 'color': 'black', 'size': '41'},\n",
       " {'brand': 'Adidas', 'color': 'orange', 'size': '37'},\n",
       " {'brand': 'Adidas', 'color': 'black', 'size': '38'},\n",
       " {'brand': 'Adidas', 'color': 'pink', 'size': '41'},\n",
       " {'brand': 'Adidas', 'color': 'white', 'size': '36'},\n",
       " {'brand': 'Adidas', 'color': 'orange', 'size': '36'},\n",
       " {'brand': 'Nike', 'color': 'pink', 'size': '41'},\n",
       " {'brand': 'Adidas', 'color': 'pink', 'size': '35'},\n",
       " {'brand': 'New Balance', 'color': 'orange', 'size': '37'},\n",
       " {'brand': 'Nike', 'color': 'pink', 'size': '43'},\n",
       " {'brand': 'Nike', 'color': 'black', 'size': '43'},\n",
       " {'brand': 'Nike', 'color': 'black', 'size': '42'},\n",
       " {'brand': 'Nike', 'color': 'black', 'size': '35'},\n",
       " {'brand': 'Adidas', 'color': 'black', 'size': '41'},\n",
       " {'brand': 'New Balance', 'color': 'pink', 'size': '40'},\n",
       " {'brand': 'Adidas', 'color': 'white', 'size': '35'},\n",
       " {'brand': 'New Balance', 'color': 'pink', 'size': '41'},\n",
       " {'brand': 'New Balance', 'color': 'orange', 'size': '41'},\n",
       " {'brand': 'Adidas', 'color': 'orange', 'size': '40'},\n",
       " {'brand': 'New Balance', 'color': 'orange', 'size': '40'},\n",
       " {'brand': 'New Balance', 'color': 'white', 'size': '44'},\n",
       " {'brand': 'New Balance', 'color': 'pink', 'size': '40'},\n",
       " {'brand': 'Nike', 'color': 'black', 'size': '43'},\n",
       " {'brand': 'Nike', 'color': 'pink', 'size': '36'},\n",
       " {'brand': 'New Balance', 'color': 'white', 'size': '39'},\n",
       " {'brand': 'Nike', 'color': 'black', 'size': '42'},\n",
       " {'brand': 'Adidas', 'color': 'black', 'size': '41'},\n",
       " {'brand': 'New Balance', 'color': 'orange', 'size': '40'},\n",
       " {'brand': 'New Balance', 'color': 'black', 'size': '40'},\n",
       " {'brand': 'Nike', 'color': 'white', 'size': '37'},\n",
       " {'brand': 'Adidas', 'color': 'black', 'size': '39'},\n",
       " {'brand': 'Adidas', 'color': 'black', 'size': '40'},\n",
       " {'brand': 'Adidas', 'color': 'orange', 'size': '38'},\n",
       " {'brand': 'New Balance', 'color': 'orange', 'size': '39'},\n",
       " {'brand': 'Nike', 'color': 'black', 'size': '35'},\n",
       " {'brand': 'Adidas', 'color': 'white', 'size': '39'},\n",
       " {'brand': 'Nike', 'color': 'white', 'size': '37'},\n",
       " {'brand': 'Adidas', 'color': 'orange', 'size': '37'},\n",
       " {'brand': 'Adidas', 'color': 'pink', 'size': '35'},\n",
       " {'brand': 'New Balance', 'color': 'orange', 'size': '41'},\n",
       " {'brand': 'Nike', 'color': 'pink', 'size': '44'},\n",
       " {'brand': 'Nike', 'color': 'pink', 'size': '38'},\n",
       " {'brand': 'Adidas', 'color': 'black', 'size': '39'},\n",
       " {'brand': 'New Balance', 'color': 'white', 'size': '35'},\n",
       " {'brand': 'Nike', 'color': 'pink', 'size': '40'},\n",
       " {'brand': 'Nike', 'color': 'white', 'size': '44'},\n",
       " {'brand': 'Nike', 'color': 'orange', 'size': '38'},\n",
       " {'brand': 'Adidas', 'color': 'orange', 'size': '42'},\n",
       " {'brand': 'New Balance', 'color': 'orange', 'size': '43'},\n",
       " {'brand': 'Adidas', 'color': 'pink', 'size': '39'},\n",
       " {'brand': 'Adidas', 'color': 'pink', 'size': '41'},\n",
       " {'brand': 'Adidas', 'color': 'pink', 'size': '39'},\n",
       " {'brand': 'Nike', 'color': 'white', 'size': '37'},\n",
       " {'brand': 'Nike', 'color': 'orange', 'size': '38'},\n",
       " {'brand': 'Adidas', 'color': 'orange', 'size': '39'},\n",
       " {'brand': 'Nike', 'color': 'pink', 'size': '40'},\n",
       " {'brand': 'Adidas', 'color': 'white', 'size': '36'},\n",
       " {'brand': 'Nike', 'color': 'orange', 'size': '40'},\n",
       " {'brand': 'New Balance', 'color': 'pink', 'size': '40'},\n",
       " {'brand': 'New Balance', 'color': 'black', 'size': '40'},\n",
       " {'brand': 'New Balance', 'color': 'pink', 'size': '40'},\n",
       " {'brand': 'Adidas', 'color': 'pink', 'size': '41'},\n",
       " {'brand': 'Nike', 'color': 'pink', 'size': '40'},\n",
       " {'brand': 'Nike', 'color': 'black', 'size': '41'},\n",
       " {'brand': 'Nike', 'color': 'black', 'size': '39'},\n",
       " {'brand': 'New Balance', 'color': 'white', 'size': '38'},\n",
       " {'brand': 'Adidas', 'color': 'black', 'size': '41'},\n",
       " {'brand': 'Nike', 'color': 'orange', 'size': '36'},\n",
       " {'brand': 'Nike', 'color': 'black', 'size': '38'},\n",
       " {'brand': 'New Balance', 'color': 'black', 'size': '40'},\n",
       " {'brand': 'New Balance', 'color': 'pink', 'size': '40'},\n",
       " {'brand': 'Adidas', 'color': 'black', 'size': '42'},\n",
       " {'brand': 'Adidas', 'color': 'white', 'size': '40'},\n",
       " {'brand': 'New Balance', 'color': 'orange', 'size': '38'},\n",
       " {'brand': 'Nike', 'color': 'pink', 'size': '41'},\n",
       " {'brand': 'Adidas', 'color': 'orange', 'size': '37'},\n",
       " {'brand': 'Nike', 'color': 'black', 'size': '44'},\n",
       " {'brand': 'Adidas', 'color': 'pink', 'size': '36'},\n",
       " {'brand': 'Adidas', 'color': 'white', 'size': '35'},\n",
       " {'brand': 'Nike', 'color': 'black', 'size': '38'},\n",
       " {'brand': 'Nike', 'color': 'pink', 'size': '42'},\n",
       " {'brand': 'New Balance', 'color': 'black', 'size': '43'},\n",
       " {'brand': 'Nike', 'color': 'white', 'size': '38'},\n",
       " {'brand': 'New Balance', 'color': 'pink', 'size': '39'},\n",
       " {'brand': 'Nike', 'color': 'orange', 'size': '39'},\n",
       " {'brand': 'New Balance', 'color': 'orange', 'size': '40'},\n",
       " {'brand': 'New Balance', 'color': 'white', 'size': '44'},\n",
       " {'brand': 'Adidas', 'color': 'black', 'size': '42'},\n",
       " {'brand': 'Nike', 'color': 'black', 'size': '35'}]"
      ]
     },
     "execution_count": 120,
     "metadata": {},
     "output_type": "execute_result"
    }
   ],
   "source": [
    "def line_to_dict(one_line):\n",
    "    fields = one_line.strip().split('\\t')\n",
    "    \n",
    "    return {'brand':fields[0],\n",
    "            'color':fields[1],\n",
    "            'size':fields[2]}\n",
    "\n",
    "[line_to_dict(one_line)\n",
    "  for one_line in open('shoe-data.txt')]"
   ]
  },
  {
   "cell_type": "code",
   "execution_count": 121,
   "id": "fca5da05-0c69-4b94-90da-0cfa2c237cf2",
   "metadata": {},
   "outputs": [
    {
     "data": {
      "text/plain": [
       "[{'brand': 'Adidas', 'color': 'orange', 'size': '43'},\n",
       " {'brand': 'Nike', 'color': 'black', 'size': '41'},\n",
       " {'brand': 'Adidas', 'color': 'black', 'size': '39'},\n",
       " {'brand': 'New Balance', 'color': 'pink', 'size': '41'},\n",
       " {'brand': 'Nike', 'color': 'white', 'size': '44'},\n",
       " {'brand': 'New Balance', 'color': 'orange', 'size': '38'},\n",
       " {'brand': 'Nike', 'color': 'pink', 'size': '44'},\n",
       " {'brand': 'Adidas', 'color': 'pink', 'size': '44'},\n",
       " {'brand': 'New Balance', 'color': 'orange', 'size': '39'},\n",
       " {'brand': 'New Balance', 'color': 'black', 'size': '43'},\n",
       " {'brand': 'New Balance', 'color': 'orange', 'size': '44'},\n",
       " {'brand': 'Nike', 'color': 'black', 'size': '41'},\n",
       " {'brand': 'Adidas', 'color': 'orange', 'size': '37'},\n",
       " {'brand': 'Adidas', 'color': 'black', 'size': '38'},\n",
       " {'brand': 'Adidas', 'color': 'pink', 'size': '41'},\n",
       " {'brand': 'Adidas', 'color': 'white', 'size': '36'},\n",
       " {'brand': 'Adidas', 'color': 'orange', 'size': '36'},\n",
       " {'brand': 'Nike', 'color': 'pink', 'size': '41'},\n",
       " {'brand': 'Adidas', 'color': 'pink', 'size': '35'},\n",
       " {'brand': 'New Balance', 'color': 'orange', 'size': '37'},\n",
       " {'brand': 'Nike', 'color': 'pink', 'size': '43'},\n",
       " {'brand': 'Nike', 'color': 'black', 'size': '43'},\n",
       " {'brand': 'Nike', 'color': 'black', 'size': '42'},\n",
       " {'brand': 'Nike', 'color': 'black', 'size': '35'},\n",
       " {'brand': 'Adidas', 'color': 'black', 'size': '41'},\n",
       " {'brand': 'New Balance', 'color': 'pink', 'size': '40'},\n",
       " {'brand': 'Adidas', 'color': 'white', 'size': '35'},\n",
       " {'brand': 'New Balance', 'color': 'pink', 'size': '41'},\n",
       " {'brand': 'New Balance', 'color': 'orange', 'size': '41'},\n",
       " {'brand': 'Adidas', 'color': 'orange', 'size': '40'},\n",
       " {'brand': 'New Balance', 'color': 'orange', 'size': '40'},\n",
       " {'brand': 'New Balance', 'color': 'white', 'size': '44'},\n",
       " {'brand': 'New Balance', 'color': 'pink', 'size': '40'},\n",
       " {'brand': 'Nike', 'color': 'black', 'size': '43'},\n",
       " {'brand': 'Nike', 'color': 'pink', 'size': '36'},\n",
       " {'brand': 'New Balance', 'color': 'white', 'size': '39'},\n",
       " {'brand': 'Nike', 'color': 'black', 'size': '42'},\n",
       " {'brand': 'Adidas', 'color': 'black', 'size': '41'},\n",
       " {'brand': 'New Balance', 'color': 'orange', 'size': '40'},\n",
       " {'brand': 'New Balance', 'color': 'black', 'size': '40'},\n",
       " {'brand': 'Nike', 'color': 'white', 'size': '37'},\n",
       " {'brand': 'Adidas', 'color': 'black', 'size': '39'},\n",
       " {'brand': 'Adidas', 'color': 'black', 'size': '40'},\n",
       " {'brand': 'Adidas', 'color': 'orange', 'size': '38'},\n",
       " {'brand': 'New Balance', 'color': 'orange', 'size': '39'},\n",
       " {'brand': 'Nike', 'color': 'black', 'size': '35'},\n",
       " {'brand': 'Adidas', 'color': 'white', 'size': '39'},\n",
       " {'brand': 'Nike', 'color': 'white', 'size': '37'},\n",
       " {'brand': 'Adidas', 'color': 'orange', 'size': '37'},\n",
       " {'brand': 'Adidas', 'color': 'pink', 'size': '35'},\n",
       " {'brand': 'New Balance', 'color': 'orange', 'size': '41'},\n",
       " {'brand': 'Nike', 'color': 'pink', 'size': '44'},\n",
       " {'brand': 'Nike', 'color': 'pink', 'size': '38'},\n",
       " {'brand': 'Adidas', 'color': 'black', 'size': '39'},\n",
       " {'brand': 'New Balance', 'color': 'white', 'size': '35'},\n",
       " {'brand': 'Nike', 'color': 'pink', 'size': '40'},\n",
       " {'brand': 'Nike', 'color': 'white', 'size': '44'},\n",
       " {'brand': 'Nike', 'color': 'orange', 'size': '38'},\n",
       " {'brand': 'Adidas', 'color': 'orange', 'size': '42'},\n",
       " {'brand': 'New Balance', 'color': 'orange', 'size': '43'},\n",
       " {'brand': 'Adidas', 'color': 'pink', 'size': '39'},\n",
       " {'brand': 'Adidas', 'color': 'pink', 'size': '41'},\n",
       " {'brand': 'Adidas', 'color': 'pink', 'size': '39'},\n",
       " {'brand': 'Nike', 'color': 'white', 'size': '37'},\n",
       " {'brand': 'Nike', 'color': 'orange', 'size': '38'},\n",
       " {'brand': 'Adidas', 'color': 'orange', 'size': '39'},\n",
       " {'brand': 'Nike', 'color': 'pink', 'size': '40'},\n",
       " {'brand': 'Adidas', 'color': 'white', 'size': '36'},\n",
       " {'brand': 'Nike', 'color': 'orange', 'size': '40'},\n",
       " {'brand': 'New Balance', 'color': 'pink', 'size': '40'},\n",
       " {'brand': 'New Balance', 'color': 'black', 'size': '40'},\n",
       " {'brand': 'New Balance', 'color': 'pink', 'size': '40'},\n",
       " {'brand': 'Adidas', 'color': 'pink', 'size': '41'},\n",
       " {'brand': 'Nike', 'color': 'pink', 'size': '40'},\n",
       " {'brand': 'Nike', 'color': 'black', 'size': '41'},\n",
       " {'brand': 'Nike', 'color': 'black', 'size': '39'},\n",
       " {'brand': 'New Balance', 'color': 'white', 'size': '38'},\n",
       " {'brand': 'Adidas', 'color': 'black', 'size': '41'},\n",
       " {'brand': 'Nike', 'color': 'orange', 'size': '36'},\n",
       " {'brand': 'Nike', 'color': 'black', 'size': '38'},\n",
       " {'brand': 'New Balance', 'color': 'black', 'size': '40'},\n",
       " {'brand': 'New Balance', 'color': 'pink', 'size': '40'},\n",
       " {'brand': 'Adidas', 'color': 'black', 'size': '42'},\n",
       " {'brand': 'Adidas', 'color': 'white', 'size': '40'},\n",
       " {'brand': 'New Balance', 'color': 'orange', 'size': '38'},\n",
       " {'brand': 'Nike', 'color': 'pink', 'size': '41'},\n",
       " {'brand': 'Adidas', 'color': 'orange', 'size': '37'},\n",
       " {'brand': 'Nike', 'color': 'black', 'size': '44'},\n",
       " {'brand': 'Adidas', 'color': 'pink', 'size': '36'},\n",
       " {'brand': 'Adidas', 'color': 'white', 'size': '35'},\n",
       " {'brand': 'Nike', 'color': 'black', 'size': '38'},\n",
       " {'brand': 'Nike', 'color': 'pink', 'size': '42'},\n",
       " {'brand': 'New Balance', 'color': 'black', 'size': '43'},\n",
       " {'brand': 'Nike', 'color': 'white', 'size': '38'},\n",
       " {'brand': 'New Balance', 'color': 'pink', 'size': '39'},\n",
       " {'brand': 'Nike', 'color': 'orange', 'size': '39'},\n",
       " {'brand': 'New Balance', 'color': 'orange', 'size': '40'},\n",
       " {'brand': 'New Balance', 'color': 'white', 'size': '44'},\n",
       " {'brand': 'Adidas', 'color': 'black', 'size': '42'},\n",
       " {'brand': 'Nike', 'color': 'black', 'size': '35'}]"
      ]
     },
     "execution_count": 121,
     "metadata": {},
     "output_type": "execute_result"
    }
   ],
   "source": [
    "def line_to_dict(one_line):\n",
    "    brand, color, size = one_line.strip().split('\\t')\n",
    "    \n",
    "    return {'brand':brand,\n",
    "            'color':color,\n",
    "            'size':size}\n",
    "\n",
    "[line_to_dict(one_line)\n",
    "  for one_line in open('shoe-data.txt')]"
   ]
  },
  {
   "cell_type": "code",
   "execution_count": 122,
   "id": "57eb642b-7b80-4124-871e-18b5dbe9a473",
   "metadata": {},
   "outputs": [
    {
     "data": {
      "text/plain": [
       "{'a': 1, 'b': 2, 'c': 3}"
      ]
     },
     "execution_count": 122,
     "metadata": {},
     "output_type": "execute_result"
    }
   ],
   "source": [
    "# I can create a dict with a list of tuples\n",
    "\n",
    "dict([('a', 1), ('b', 2), ('c', 3)])"
   ]
  },
  {
   "cell_type": "code",
   "execution_count": 123,
   "id": "450f2a0a-3f3f-475f-9f21-6424b0134bc0",
   "metadata": {},
   "outputs": [
    {
     "data": {
      "text/plain": [
       "[('a', 1), ('b', 2), ('c', 3)]"
      ]
     },
     "execution_count": 123,
     "metadata": {},
     "output_type": "execute_result"
    }
   ],
   "source": [
    "# one way to create a list of tuples is with \"zip\"\n",
    "\n",
    "s = 'abc'\n",
    "mylist = [1,2,3]\n",
    "\n",
    "# zip creates a list of tuples\n",
    "# tuple 0 has index 0 for each input\n",
    "# tuple 1 has index 1 for each input \n",
    "# ...\n",
    "# tuple n has index n for each input\n",
    "\n",
    "list(zip(s, mylist))"
   ]
  },
  {
   "cell_type": "code",
   "execution_count": 124,
   "id": "6ee5b620-9e91-4da5-b629-5c96497c3a86",
   "metadata": {},
   "outputs": [
    {
     "data": {
      "text/plain": [
       "[{'brand': 'Adidas', 'color': 'orange', 'size': '43'},\n",
       " {'brand': 'Nike', 'color': 'black', 'size': '41'},\n",
       " {'brand': 'Adidas', 'color': 'black', 'size': '39'},\n",
       " {'brand': 'New Balance', 'color': 'pink', 'size': '41'},\n",
       " {'brand': 'Nike', 'color': 'white', 'size': '44'},\n",
       " {'brand': 'New Balance', 'color': 'orange', 'size': '38'},\n",
       " {'brand': 'Nike', 'color': 'pink', 'size': '44'},\n",
       " {'brand': 'Adidas', 'color': 'pink', 'size': '44'},\n",
       " {'brand': 'New Balance', 'color': 'orange', 'size': '39'},\n",
       " {'brand': 'New Balance', 'color': 'black', 'size': '43'},\n",
       " {'brand': 'New Balance', 'color': 'orange', 'size': '44'},\n",
       " {'brand': 'Nike', 'color': 'black', 'size': '41'},\n",
       " {'brand': 'Adidas', 'color': 'orange', 'size': '37'},\n",
       " {'brand': 'Adidas', 'color': 'black', 'size': '38'},\n",
       " {'brand': 'Adidas', 'color': 'pink', 'size': '41'},\n",
       " {'brand': 'Adidas', 'color': 'white', 'size': '36'},\n",
       " {'brand': 'Adidas', 'color': 'orange', 'size': '36'},\n",
       " {'brand': 'Nike', 'color': 'pink', 'size': '41'},\n",
       " {'brand': 'Adidas', 'color': 'pink', 'size': '35'},\n",
       " {'brand': 'New Balance', 'color': 'orange', 'size': '37'},\n",
       " {'brand': 'Nike', 'color': 'pink', 'size': '43'},\n",
       " {'brand': 'Nike', 'color': 'black', 'size': '43'},\n",
       " {'brand': 'Nike', 'color': 'black', 'size': '42'},\n",
       " {'brand': 'Nike', 'color': 'black', 'size': '35'},\n",
       " {'brand': 'Adidas', 'color': 'black', 'size': '41'},\n",
       " {'brand': 'New Balance', 'color': 'pink', 'size': '40'},\n",
       " {'brand': 'Adidas', 'color': 'white', 'size': '35'},\n",
       " {'brand': 'New Balance', 'color': 'pink', 'size': '41'},\n",
       " {'brand': 'New Balance', 'color': 'orange', 'size': '41'},\n",
       " {'brand': 'Adidas', 'color': 'orange', 'size': '40'},\n",
       " {'brand': 'New Balance', 'color': 'orange', 'size': '40'},\n",
       " {'brand': 'New Balance', 'color': 'white', 'size': '44'},\n",
       " {'brand': 'New Balance', 'color': 'pink', 'size': '40'},\n",
       " {'brand': 'Nike', 'color': 'black', 'size': '43'},\n",
       " {'brand': 'Nike', 'color': 'pink', 'size': '36'},\n",
       " {'brand': 'New Balance', 'color': 'white', 'size': '39'},\n",
       " {'brand': 'Nike', 'color': 'black', 'size': '42'},\n",
       " {'brand': 'Adidas', 'color': 'black', 'size': '41'},\n",
       " {'brand': 'New Balance', 'color': 'orange', 'size': '40'},\n",
       " {'brand': 'New Balance', 'color': 'black', 'size': '40'},\n",
       " {'brand': 'Nike', 'color': 'white', 'size': '37'},\n",
       " {'brand': 'Adidas', 'color': 'black', 'size': '39'},\n",
       " {'brand': 'Adidas', 'color': 'black', 'size': '40'},\n",
       " {'brand': 'Adidas', 'color': 'orange', 'size': '38'},\n",
       " {'brand': 'New Balance', 'color': 'orange', 'size': '39'},\n",
       " {'brand': 'Nike', 'color': 'black', 'size': '35'},\n",
       " {'brand': 'Adidas', 'color': 'white', 'size': '39'},\n",
       " {'brand': 'Nike', 'color': 'white', 'size': '37'},\n",
       " {'brand': 'Adidas', 'color': 'orange', 'size': '37'},\n",
       " {'brand': 'Adidas', 'color': 'pink', 'size': '35'},\n",
       " {'brand': 'New Balance', 'color': 'orange', 'size': '41'},\n",
       " {'brand': 'Nike', 'color': 'pink', 'size': '44'},\n",
       " {'brand': 'Nike', 'color': 'pink', 'size': '38'},\n",
       " {'brand': 'Adidas', 'color': 'black', 'size': '39'},\n",
       " {'brand': 'New Balance', 'color': 'white', 'size': '35'},\n",
       " {'brand': 'Nike', 'color': 'pink', 'size': '40'},\n",
       " {'brand': 'Nike', 'color': 'white', 'size': '44'},\n",
       " {'brand': 'Nike', 'color': 'orange', 'size': '38'},\n",
       " {'brand': 'Adidas', 'color': 'orange', 'size': '42'},\n",
       " {'brand': 'New Balance', 'color': 'orange', 'size': '43'},\n",
       " {'brand': 'Adidas', 'color': 'pink', 'size': '39'},\n",
       " {'brand': 'Adidas', 'color': 'pink', 'size': '41'},\n",
       " {'brand': 'Adidas', 'color': 'pink', 'size': '39'},\n",
       " {'brand': 'Nike', 'color': 'white', 'size': '37'},\n",
       " {'brand': 'Nike', 'color': 'orange', 'size': '38'},\n",
       " {'brand': 'Adidas', 'color': 'orange', 'size': '39'},\n",
       " {'brand': 'Nike', 'color': 'pink', 'size': '40'},\n",
       " {'brand': 'Adidas', 'color': 'white', 'size': '36'},\n",
       " {'brand': 'Nike', 'color': 'orange', 'size': '40'},\n",
       " {'brand': 'New Balance', 'color': 'pink', 'size': '40'},\n",
       " {'brand': 'New Balance', 'color': 'black', 'size': '40'},\n",
       " {'brand': 'New Balance', 'color': 'pink', 'size': '40'},\n",
       " {'brand': 'Adidas', 'color': 'pink', 'size': '41'},\n",
       " {'brand': 'Nike', 'color': 'pink', 'size': '40'},\n",
       " {'brand': 'Nike', 'color': 'black', 'size': '41'},\n",
       " {'brand': 'Nike', 'color': 'black', 'size': '39'},\n",
       " {'brand': 'New Balance', 'color': 'white', 'size': '38'},\n",
       " {'brand': 'Adidas', 'color': 'black', 'size': '41'},\n",
       " {'brand': 'Nike', 'color': 'orange', 'size': '36'},\n",
       " {'brand': 'Nike', 'color': 'black', 'size': '38'},\n",
       " {'brand': 'New Balance', 'color': 'black', 'size': '40'},\n",
       " {'brand': 'New Balance', 'color': 'pink', 'size': '40'},\n",
       " {'brand': 'Adidas', 'color': 'black', 'size': '42'},\n",
       " {'brand': 'Adidas', 'color': 'white', 'size': '40'},\n",
       " {'brand': 'New Balance', 'color': 'orange', 'size': '38'},\n",
       " {'brand': 'Nike', 'color': 'pink', 'size': '41'},\n",
       " {'brand': 'Adidas', 'color': 'orange', 'size': '37'},\n",
       " {'brand': 'Nike', 'color': 'black', 'size': '44'},\n",
       " {'brand': 'Adidas', 'color': 'pink', 'size': '36'},\n",
       " {'brand': 'Adidas', 'color': 'white', 'size': '35'},\n",
       " {'brand': 'Nike', 'color': 'black', 'size': '38'},\n",
       " {'brand': 'Nike', 'color': 'pink', 'size': '42'},\n",
       " {'brand': 'New Balance', 'color': 'black', 'size': '43'},\n",
       " {'brand': 'Nike', 'color': 'white', 'size': '38'},\n",
       " {'brand': 'New Balance', 'color': 'pink', 'size': '39'},\n",
       " {'brand': 'Nike', 'color': 'orange', 'size': '39'},\n",
       " {'brand': 'New Balance', 'color': 'orange', 'size': '40'},\n",
       " {'brand': 'New Balance', 'color': 'white', 'size': '44'},\n",
       " {'brand': 'Adidas', 'color': 'black', 'size': '42'},\n",
       " {'brand': 'Nike', 'color': 'black', 'size': '35'}]"
      ]
     },
     "execution_count": 124,
     "metadata": {},
     "output_type": "execute_result"
    }
   ],
   "source": [
    "def line_to_dict(one_line):\n",
    "    return dict(zip(['brand', 'color', 'size'],\n",
    "                    one_line.strip().split('\\t')))\n",
    "    \n",
    "[line_to_dict(one_line)\n",
    "  for one_line in open('shoe-data.txt')]"
   ]
  },
  {
   "cell_type": "code",
   "execution_count": 125,
   "id": "2653644d-1c00-4851-82be-4daad5a65f1f",
   "metadata": {},
   "outputs": [
    {
     "data": {
      "text/plain": [
       "{10, 20, 30, 40}"
      ]
     },
     "execution_count": 125,
     "metadata": {},
     "output_type": "execute_result"
    }
   ],
   "source": [
    "s = {10, 20, 30, 10, 20, 30, 20, 30, 10, 40, 20, 30}\n",
    "s"
   ]
  },
  {
   "cell_type": "code",
   "execution_count": 126,
   "id": "1a791483-4f67-4e6c-ac01-aeaefd433e4c",
   "metadata": {},
   "outputs": [
    {
     "data": {
      "text/plain": [
       "{10, 20, 30, 40}"
      ]
     },
     "execution_count": 126,
     "metadata": {},
     "output_type": "execute_result"
    }
   ],
   "source": [
    "mylist = [10, 20, 30, 10, 20, 30, 40, 20, 30, 40]\n",
    "\n",
    "# how can I create a set from mylist?\n",
    "\n",
    "set(mylist)"
   ]
  },
  {
   "cell_type": "code",
   "execution_count": 128,
   "id": "87d57931-eb10-4645-b8cb-c1dafa80923a",
   "metadata": {},
   "outputs": [
    {
     "data": {
      "text/plain": [
       "{10, 20, 30, 40}"
      ]
     },
     "execution_count": 128,
     "metadata": {},
     "output_type": "execute_result"
    }
   ],
   "source": [
    "{*mylist}  # this creates a set based on the elements of mylist"
   ]
  },
  {
   "cell_type": "code",
   "execution_count": 129,
   "id": "0464d149-b3e0-4ff0-a04a-dc673e681378",
   "metadata": {},
   "outputs": [
    {
     "ename": "TypeError",
     "evalue": "unhashable type: 'list'",
     "output_type": "error",
     "traceback": [
      "\u001b[0;31m---------------------------------------------------------------------------\u001b[0m",
      "\u001b[0;31mTypeError\u001b[0m                                 Traceback (most recent call last)",
      "\u001b[0;32m/var/folders/rr/0mnyyv811fs5vyp22gf4fxk00000gn/T/ipykernel_80969/162714737.py\u001b[0m in \u001b[0;36m<module>\u001b[0;34m\u001b[0m\n\u001b[0;32m----> 1\u001b[0;31m \u001b[0;34m{\u001b[0m\u001b[0mmylist\u001b[0m\u001b[0;34m}\u001b[0m\u001b[0;34m\u001b[0m\u001b[0;34m\u001b[0m\u001b[0m\n\u001b[0m",
      "\u001b[0;31mTypeError\u001b[0m: unhashable type: 'list'"
     ]
    }
   ],
   "source": [
    "{mylist}"
   ]
  },
  {
   "cell_type": "code",
   "execution_count": 133,
   "id": "154a1989-ded1-4d2e-a019-cecd0fed883b",
   "metadata": {},
   "outputs": [
    {
     "name": "stdin",
     "output_type": "stream",
     "text": [
      "Enter integers, separated by spaces:  10 20 30 10 20 30\n"
     ]
    },
    {
     "data": {
      "text/plain": [
       "60"
      ]
     },
     "execution_count": 133,
     "metadata": {},
     "output_type": "execute_result"
    }
   ],
   "source": [
    "# sum the unique numbers that the user gave us\n",
    "\n",
    "s = input('Enter integers, separated by spaces: ').strip()\n",
    "\n",
    "sum(set([int(one_number)\n",
    " for one_number in s.split()]))"
   ]
  },
  {
   "cell_type": "code",
   "execution_count": 134,
   "id": "ee6f8678-73af-4d36-8f5e-2cc3220e0f41",
   "metadata": {},
   "outputs": [
    {
     "name": "stdin",
     "output_type": "stream",
     "text": [
      "Enter integers, separated by spaces:  10 20 30 10 20 30\n"
     ]
    },
    {
     "data": {
      "text/plain": [
       "60"
      ]
     },
     "execution_count": 134,
     "metadata": {},
     "output_type": "execute_result"
    }
   ],
   "source": [
    "# we can create a *set comprehension*\n",
    "# just like a list comprehension, except:\n",
    "# (1) we use {}\n",
    "# (2) all elements must be hashable\n",
    "# (3) we return a set\n",
    "\n",
    "s = input('Enter integers, separated by spaces: ').strip()\n",
    "\n",
    "sum({int(one_number)\n",
    " for one_number in s.split()})"
   ]
  },
  {
   "cell_type": "markdown",
   "id": "00729d59-ec76-48dc-b11c-606acf1dde3b",
   "metadata": {},
   "source": [
    "# Exercise: Unix shells\n",
    "\n",
    "1. In the zipfile I gave you is the file `linux-etc-passwd.txt`. I want to get a set, showing the different shells that Unix users have on my system.\n",
    "2. The shell is the final field of each record.\n"
   ]
  },
  {
   "cell_type": "code",
   "execution_count": 135,
   "id": "50368e90-197f-49f5-9af7-93f1733be96c",
   "metadata": {},
   "outputs": [
    {
     "name": "stdout",
     "output_type": "stream",
     "text": [
      "# This is a comment\n",
      "# You should ignore me\n",
      "root:x:0:0:root:/root:/bin/bash\n",
      "daemon:x:1:1:daemon:/usr/sbin:/usr/sbin/nologin\n",
      "bin:x:2:2:bin:/bin:/usr/sbin/nologin\n",
      "sys:x:3:3:sys:/dev:/usr/sbin/nologin\n",
      "sync:x:4:65534:sync:/bin:/bin/sync\n",
      "games:x:5:60:games:/usr/games:/usr/sbin/nologin\n",
      "man:x:6:12:man:/var/cache/man:/usr/sbin/nologin\n",
      "lp:x:7:7:lp:/var/spool/lpd:/usr/sbin/nologin\n"
     ]
    }
   ],
   "source": [
    "!head linux-etc-passwd.txt"
   ]
  },
  {
   "cell_type": "code",
   "execution_count": 138,
   "id": "6d562a84-7499-4ea9-9aa2-acee86f4acae",
   "metadata": {},
   "outputs": [
    {
     "data": {
      "text/plain": [
       "['root:x:0:0:root:/root:/bin/bash\\n',\n",
       " 'daemon:x:1:1:daemon:/usr/sbin:/usr/sbin/nologin\\n',\n",
       " 'bin:x:2:2:bin:/bin:/usr/sbin/nologin\\n',\n",
       " 'sys:x:3:3:sys:/dev:/usr/sbin/nologin\\n',\n",
       " 'sync:x:4:65534:sync:/bin:/bin/sync\\n',\n",
       " 'games:x:5:60:games:/usr/games:/usr/sbin/nologin\\n',\n",
       " 'man:x:6:12:man:/var/cache/man:/usr/sbin/nologin\\n',\n",
       " 'lp:x:7:7:lp:/var/spool/lpd:/usr/sbin/nologin\\n',\n",
       " 'mail:x:8:8:mail:/var/mail:/usr/sbin/nologin\\n',\n",
       " 'news:x:9:9:news:/var/spool/news:/usr/sbin/nologin\\n',\n",
       " 'uucp:x:10:10:uucp:/var/spool/uucp:/usr/sbin/nologin\\n',\n",
       " 'proxy:x:13:13:proxy:/bin:/usr/sbin/nologin\\n',\n",
       " 'www-data:x:33:33:www-data:/var/www:/usr/sbin/nologin\\n',\n",
       " 'backup:x:34:34:backup:/var/backups:/usr/sbin/nologin\\n',\n",
       " 'list:x:38:38:Mailing List Manager:/var/list:/usr/sbin/nologin\\n',\n",
       " 'irc:x:39:39:ircd:/var/run/ircd:/usr/sbin/nologin\\n',\n",
       " 'gnats:x:41:41:Gnats Bug-Reporting System (admin):/var/lib/gnats:/usr/sbin/nologin\\n',\n",
       " 'nobody:x:65534:65534:nobody:/nonexistent:/usr/sbin/nologin\\n',\n",
       " 'syslog:x:101:104::/home/syslog:/bin/false\\n',\n",
       " 'messagebus:x:102:106::/var/run/dbus:/bin/false\\n',\n",
       " 'landscape:x:103:109::/var/lib/landscape:/bin/false\\n',\n",
       " 'jci:x:955:955::/home/jci:/bin/bash\\n',\n",
       " 'sshd:x:104:65534::/var/run/sshd:/usr/sbin/nologin\\n',\n",
       " 'user:x:1000:1000:user,,,:/home/user:/bin/bash\\n',\n",
       " 'reuven:x:1001:1001:Reuven M. Lerner,,,:/home/reuven:/bin/bash\\n',\n",
       " 'postfix:x:105:113::/var/spool/postfix:/bin/false\\n',\n",
       " 'colord:x:106:116:colord colour management daemon,,,:/var/lib/colord:/bin/false\\n',\n",
       " 'postgres:x:107:117:PostgreSQL administrator,,,:/var/lib/postgresql:/bin/bash\\n',\n",
       " 'dovecot:x:108:119:Dovecot mail server,,,:/usr/lib/dovecot:/bin/false\\n',\n",
       " 'dovenull:x:109:120:Dovecot login user,,,:/nonexistent:/bin/false\\n',\n",
       " 'postgrey:x:110:121::/var/lib/postgrey:/bin/false\\n',\n",
       " 'debian-spamd:x:111:122::/var/lib/spamassassin:/bin/sh\\n',\n",
       " 'memcache:x:113:124:Memcached,,,:/nonexistent:/bin/false\\n',\n",
       " 'genadi:x:1002:1003:Genadi Reznichenko,,,:/home/genadi:/bin/bash\\n',\n",
       " 'shira:x:1003:1004:Shira Friedman,,,:/home/shira:/bin/bash\\n',\n",
       " 'atara:x:1004:1005:Atara Lerner-Friedman,,,:/home/atara:/bin/bash\\n',\n",
       " 'shikma:x:1005:1006:Shikma Lerner-Friedman,,,:/home/shikma:/bin/bash\\n',\n",
       " 'amotz:x:1006:1007:Amotz Lerner-Friedman,,,:/home/amotz:/bin/bash\\n',\n",
       " 'mysql:x:114:125:MySQL Server,,,:/nonexistent:/bin/false\\n',\n",
       " 'clamav:x:115:126::/var/lib/clamav:/bin/false\\n',\n",
       " 'amavis:x:116:127:AMaViS system user,,,:/var/lib/amavis:/bin/sh\\n',\n",
       " 'opendkim:x:117:128::/var/run/opendkim:/bin/false\\n',\n",
       " 'gitlab-redis:x:999:1009::/var/opt/gitlab/redis:/bin/nologin\\n',\n",
       " 'gitlab-psql:x:998:1010::/var/opt/gitlab/postgresql:/bin/sh\\n',\n",
       " 'git:x:1007:1008:GitLab,,,:/home/git:/bin/bash\\n',\n",
       " 'opendmarc:x:118:129::/var/run/opendmarc:/bin/false\\n',\n",
       " 'dkim-milter-python:x:119:130::/var/run/dkim-milter-python:/bin/false\\n',\n",
       " 'deploy:x:1008:1011:Deploy,,,:/home/deploy:/bin/bash\\n',\n",
       " 'redis:x:112:123:redis server,,,:/var/lib/redis:/bin/false\\n']"
      ]
     },
     "execution_count": 138,
     "metadata": {},
     "output_type": "execute_result"
    }
   ],
   "source": [
    "[one_line \n",
    " for one_line in open('linux-etc-passwd.txt')\n",
    " if not one_line.startswith('#') and not one_line.startswith('\\n')]"
   ]
  },
  {
   "cell_type": "code",
   "execution_count": 140,
   "id": "9642ee9b-530c-463e-bc26-3146482f0545",
   "metadata": {},
   "outputs": [
    {
     "data": {
      "text/plain": [
       "['root:x:0:0:root:/root:/bin/bash\\n',\n",
       " 'daemon:x:1:1:daemon:/usr/sbin:/usr/sbin/nologin\\n',\n",
       " 'bin:x:2:2:bin:/bin:/usr/sbin/nologin\\n',\n",
       " 'sys:x:3:3:sys:/dev:/usr/sbin/nologin\\n',\n",
       " 'sync:x:4:65534:sync:/bin:/bin/sync\\n',\n",
       " 'games:x:5:60:games:/usr/games:/usr/sbin/nologin\\n',\n",
       " 'man:x:6:12:man:/var/cache/man:/usr/sbin/nologin\\n',\n",
       " 'lp:x:7:7:lp:/var/spool/lpd:/usr/sbin/nologin\\n',\n",
       " 'mail:x:8:8:mail:/var/mail:/usr/sbin/nologin\\n',\n",
       " 'news:x:9:9:news:/var/spool/news:/usr/sbin/nologin\\n',\n",
       " 'uucp:x:10:10:uucp:/var/spool/uucp:/usr/sbin/nologin\\n',\n",
       " 'proxy:x:13:13:proxy:/bin:/usr/sbin/nologin\\n',\n",
       " 'www-data:x:33:33:www-data:/var/www:/usr/sbin/nologin\\n',\n",
       " 'backup:x:34:34:backup:/var/backups:/usr/sbin/nologin\\n',\n",
       " 'list:x:38:38:Mailing List Manager:/var/list:/usr/sbin/nologin\\n',\n",
       " 'irc:x:39:39:ircd:/var/run/ircd:/usr/sbin/nologin\\n',\n",
       " 'gnats:x:41:41:Gnats Bug-Reporting System (admin):/var/lib/gnats:/usr/sbin/nologin\\n',\n",
       " 'nobody:x:65534:65534:nobody:/nonexistent:/usr/sbin/nologin\\n',\n",
       " 'syslog:x:101:104::/home/syslog:/bin/false\\n',\n",
       " 'messagebus:x:102:106::/var/run/dbus:/bin/false\\n',\n",
       " 'landscape:x:103:109::/var/lib/landscape:/bin/false\\n',\n",
       " 'jci:x:955:955::/home/jci:/bin/bash\\n',\n",
       " 'sshd:x:104:65534::/var/run/sshd:/usr/sbin/nologin\\n',\n",
       " 'user:x:1000:1000:user,,,:/home/user:/bin/bash\\n',\n",
       " 'reuven:x:1001:1001:Reuven M. Lerner,,,:/home/reuven:/bin/bash\\n',\n",
       " 'postfix:x:105:113::/var/spool/postfix:/bin/false\\n',\n",
       " 'colord:x:106:116:colord colour management daemon,,,:/var/lib/colord:/bin/false\\n',\n",
       " 'postgres:x:107:117:PostgreSQL administrator,,,:/var/lib/postgresql:/bin/bash\\n',\n",
       " 'dovecot:x:108:119:Dovecot mail server,,,:/usr/lib/dovecot:/bin/false\\n',\n",
       " 'dovenull:x:109:120:Dovecot login user,,,:/nonexistent:/bin/false\\n',\n",
       " 'postgrey:x:110:121::/var/lib/postgrey:/bin/false\\n',\n",
       " 'debian-spamd:x:111:122::/var/lib/spamassassin:/bin/sh\\n',\n",
       " 'memcache:x:113:124:Memcached,,,:/nonexistent:/bin/false\\n',\n",
       " 'genadi:x:1002:1003:Genadi Reznichenko,,,:/home/genadi:/bin/bash\\n',\n",
       " 'shira:x:1003:1004:Shira Friedman,,,:/home/shira:/bin/bash\\n',\n",
       " 'atara:x:1004:1005:Atara Lerner-Friedman,,,:/home/atara:/bin/bash\\n',\n",
       " 'shikma:x:1005:1006:Shikma Lerner-Friedman,,,:/home/shikma:/bin/bash\\n',\n",
       " 'amotz:x:1006:1007:Amotz Lerner-Friedman,,,:/home/amotz:/bin/bash\\n',\n",
       " 'mysql:x:114:125:MySQL Server,,,:/nonexistent:/bin/false\\n',\n",
       " 'clamav:x:115:126::/var/lib/clamav:/bin/false\\n',\n",
       " 'amavis:x:116:127:AMaViS system user,,,:/var/lib/amavis:/bin/sh\\n',\n",
       " 'opendkim:x:117:128::/var/run/opendkim:/bin/false\\n',\n",
       " 'gitlab-redis:x:999:1009::/var/opt/gitlab/redis:/bin/nologin\\n',\n",
       " 'gitlab-psql:x:998:1010::/var/opt/gitlab/postgresql:/bin/sh\\n',\n",
       " 'git:x:1007:1008:GitLab,,,:/home/git:/bin/bash\\n',\n",
       " 'opendmarc:x:118:129::/var/run/opendmarc:/bin/false\\n',\n",
       " 'dkim-milter-python:x:119:130::/var/run/dkim-milter-python:/bin/false\\n',\n",
       " 'deploy:x:1008:1011:Deploy,,,:/home/deploy:/bin/bash\\n',\n",
       " 'redis:x:112:123:redis server,,,:/var/lib/redis:/bin/false\\n']"
      ]
     },
     "execution_count": 140,
     "metadata": {},
     "output_type": "execute_result"
    }
   ],
   "source": [
    "[one_line \n",
    " for one_line in open('linux-etc-passwd.txt')\n",
    " if not one_line.startswith('#')   # two \"if\" lines are the same as saying \"and\" for the two conditions\n",
    " if not one_line.startswith('\\n')]"
   ]
  },
  {
   "cell_type": "code",
   "execution_count": 144,
   "id": "9d930911-a373-4c67-87cf-5e287073fb7b",
   "metadata": {},
   "outputs": [
    {
     "data": {
      "text/plain": [
       "{'/bin/bash',\n",
       " '/bin/false',\n",
       " '/bin/nologin',\n",
       " '/bin/sh',\n",
       " '/bin/sync',\n",
       " '/usr/sbin/nologin'}"
      ]
     },
     "execution_count": 144,
     "metadata": {},
     "output_type": "execute_result"
    }
   ],
   "source": [
    "# all of the different shells in my etc-passwd file\n",
    "\n",
    "{one_line.strip().split(':')[-1]\n",
    " for one_line in open('linux-etc-passwd.txt')\n",
    " if not one_line.startswith(('#', '\\n'))}"
   ]
  },
  {
   "cell_type": "code",
   "execution_count": 147,
   "id": "1fbb15a1-8482-4174-910b-24f751b9fe33",
   "metadata": {},
   "outputs": [
    {
     "data": {
      "text/plain": [
       "Counter({'/bin/bash': 12,\n",
       "         '/usr/sbin/nologin': 17,\n",
       "         '/bin/sync': 1,\n",
       "         '/bin/false': 15,\n",
       "         '/bin/sh': 3,\n",
       "         '/bin/nologin': 1})"
      ]
     },
     "execution_count": 147,
     "metadata": {},
     "output_type": "execute_result"
    }
   ],
   "source": [
    "# instead: how many times is each shell used?\n",
    "# use Counter + a list comprehension (not a set!)\n",
    "\n",
    "from collections import Counter\n",
    "\n",
    "Counter([one_line.strip().split(':')[-1]\n",
    " for one_line in open('linux-etc-passwd.txt')\n",
    " if not one_line.startswith(('#', '\\n'))])"
   ]
  },
  {
   "cell_type": "code",
   "execution_count": 149,
   "id": "fecfae36-8158-4016-a680-11d26555f3e2",
   "metadata": {},
   "outputs": [
    {
     "data": {
      "text/plain": [
       "{'this': 4, 'is': 2, 'a': 1, 'bunch': 5, 'of': 2, 'words': 5}"
      ]
     },
     "execution_count": 149,
     "metadata": {},
     "output_type": "execute_result"
    }
   ],
   "source": [
    "# dict comprehensions: Each dict comprehension creates *one* dictionary\n",
    "# (1) Uses {}\n",
    "# (2) Has : between key expression + value expression\n",
    "# (3) the key must be hashable\n",
    "# (4) output is one dict\n",
    "\n",
    "words = 'this is a bunch of words'\n",
    "\n",
    "{ one_word  :  len(one_word)\n",
    "  for one_word in words.split() }"
   ]
  },
  {
   "cell_type": "code",
   "execution_count": 153,
   "id": "989c0157-6906-4ef6-834c-839595cdfbda",
   "metadata": {},
   "outputs": [
    {
     "data": {
      "text/plain": [
       "{'root': '0',\n",
       " 'daemon': '1',\n",
       " 'bin': '2',\n",
       " 'sys': '3',\n",
       " 'sync': '4',\n",
       " 'games': '5',\n",
       " 'man': '6',\n",
       " 'lp': '7',\n",
       " 'mail': '8',\n",
       " 'news': '9',\n",
       " 'uucp': '10',\n",
       " 'proxy': '13',\n",
       " 'www-data': '33',\n",
       " 'backup': '34',\n",
       " 'list': '38',\n",
       " 'irc': '39',\n",
       " 'gnats': '41',\n",
       " 'nobody': '65534',\n",
       " 'syslog': '101',\n",
       " 'messagebus': '102',\n",
       " 'landscape': '103',\n",
       " 'jci': '955',\n",
       " 'sshd': '104',\n",
       " 'user': '1000',\n",
       " 'reuven': '1001',\n",
       " 'postfix': '105',\n",
       " 'colord': '106',\n",
       " 'postgres': '107',\n",
       " 'dovecot': '108',\n",
       " 'dovenull': '109',\n",
       " 'postgrey': '110',\n",
       " 'debian-spamd': '111',\n",
       " 'memcache': '113',\n",
       " 'genadi': '1002',\n",
       " 'shira': '1003',\n",
       " 'atara': '1004',\n",
       " 'shikma': '1005',\n",
       " 'amotz': '1006',\n",
       " 'mysql': '114',\n",
       " 'clamav': '115',\n",
       " 'amavis': '116',\n",
       " 'opendkim': '117',\n",
       " 'gitlab-redis': '999',\n",
       " 'gitlab-psql': '998',\n",
       " 'git': '1007',\n",
       " 'opendmarc': '118',\n",
       " 'dkim-milter-python': '119',\n",
       " 'deploy': '1008',\n",
       " 'redis': '112'}"
      ]
     },
     "execution_count": 153,
     "metadata": {},
     "output_type": "execute_result"
    }
   ],
   "source": [
    "# let's create a dict of our passwd file, with keys being usernames and values being user IDs (index 2)\n",
    "\n",
    "{one_line.split(':')[0]  : one_line.split(':')[2]\n",
    " for one_line in open('linux-etc-passwd.txt')\n",
    " if not one_line.startswith(('#', '\\n'))}"
   ]
  },
  {
   "cell_type": "code",
   "execution_count": 154,
   "id": "870e2294-e05b-46cb-947e-da985071f377",
   "metadata": {},
   "outputs": [
    {
     "name": "stdout",
     "output_type": "stream",
     "text": [
      "linux-etc-passwd.txt  myconfig.txt  outfile.txt\n",
      "mini-access-log.txt   nums.txt\t    shoe-data.txt\n"
     ]
    }
   ],
   "source": [
    "!ls *.txt"
   ]
  },
  {
   "cell_type": "code",
   "execution_count": 155,
   "id": "7ac44058-c3ba-4e94-bc49-29aeb5520000",
   "metadata": {},
   "outputs": [
    {
     "data": {
      "text/plain": [
       "{1: 'a', 2: 'b', 3: 'c'}"
      ]
     },
     "execution_count": 155,
     "metadata": {},
     "output_type": "execute_result"
    }
   ],
   "source": [
    "# how can I flip a dict? (keys -> values, and values -> keys)\n",
    "\n",
    "d = {'a':1, 'b':2, 'c':3}\n",
    "\n",
    "{one_value : one_key\n",
    "  for one_key, one_value in d.items()}"
   ]
  },
  {
   "cell_type": "code",
   "execution_count": 156,
   "id": "b19aaac4-3d95-4f6a-a3ec-8abe8a62d666",
   "metadata": {},
   "outputs": [
    {
     "data": {
      "text/plain": [
       "{1: 'a', 2: 'e', 3: 'd'}"
      ]
     },
     "execution_count": 156,
     "metadata": {},
     "output_type": "execute_result"
    }
   ],
   "source": [
    "d = {'a':1, 'b':2, 'c':3, 'd':3, 'e':2}\n",
    "\n",
    "{one_value : one_key\n",
    "  for one_key, one_value in d.items()}"
   ]
  },
  {
   "cell_type": "markdown",
   "id": "208bc8c0-5a14-41e3-b92f-f539083c7d1f",
   "metadata": {},
   "source": [
    "# Exercise: Count vowels dict\n",
    "\n",
    "1. Write a function, `count_vowels`, which takes a string and returns the number of vowels (a, e, i, o, and u) in the string.\n",
    "2. Ask the user to enter a sentence.\n",
    "3. Use a dict comprehension and your function to return a dict in which the keys are the unique words, and the values are the vowel counts for each word."
   ]
  },
  {
   "cell_type": "code",
   "execution_count": 157,
   "id": "dd1f2249-365a-4135-a351-1a58516fd4a6",
   "metadata": {},
   "outputs": [
    {
     "name": "stdin",
     "output_type": "stream",
     "text": [
      "Enter a sentence:  this is a fantastic and extremely ridiculous test of my functionality\n"
     ]
    },
    {
     "data": {
      "text/plain": [
       "{'this': 1,\n",
       " 'is': 1,\n",
       " 'a': 1,\n",
       " 'fantastic': 3,\n",
       " 'and': 1,\n",
       " 'extremely': 3,\n",
       " 'ridiculous': 5,\n",
       " 'test': 1,\n",
       " 'of': 1,\n",
       " 'my': 0,\n",
       " 'functionality': 5}"
      ]
     },
     "execution_count": 157,
     "metadata": {},
     "output_type": "execute_result"
    }
   ],
   "source": [
    "def count_vowels(s):\n",
    "    total = 0\n",
    "    for one_letter in s:\n",
    "        if one_letter in 'aeiou':\n",
    "            total += 1\n",
    "    return total\n",
    "\n",
    "sentence = input('Enter a sentence: ').strip()\n",
    "\n",
    "{  one_word   : count_vowels(one_word)\n",
    " for one_word in sentence.split()                            \n",
    "}"
   ]
  },
  {
   "cell_type": "code",
   "execution_count": 159,
   "id": "c8be7eba-26f6-4aa5-8409-4369097c1fbb",
   "metadata": {},
   "outputs": [
    {
     "name": "stdin",
     "output_type": "stream",
     "text": [
      "Enter a sentence:  this is another attempt\n"
     ]
    },
    {
     "data": {
      "text/plain": [
       "{'this': 1, 'is': 1, 'another': 3, 'attempt': 2}"
      ]
     },
     "execution_count": 159,
     "metadata": {},
     "output_type": "execute_result"
    }
   ],
   "source": [
    "def count_vowels(s):\n",
    "    return len([1\n",
    "                for one_letter in s\n",
    "                if one_letter.lower() in 'aeiou'])\n",
    "\n",
    "sentence = input('Enter a sentence: ').strip()\n",
    "\n",
    "{  one_word   : count_vowels(one_word)\n",
    " for one_word in sentence.split()                            \n",
    "}"
   ]
  },
  {
   "cell_type": "markdown",
   "id": "ba356229-ce34-4a12-81e5-bdd88c61dedf",
   "metadata": {},
   "source": [
    "# Next up\n",
    "\n",
    "1. Nested comprehensions\n",
    "2. Passing functions as arguments\n",
    "3. `lambda` and friends\n",
    "4. Modules "
   ]
  },
  {
   "cell_type": "code",
   "execution_count": 160,
   "id": "0cfaed45-7dff-4c02-8e3b-fd4a5352c83c",
   "metadata": {},
   "outputs": [],
   "source": [
    "# Resume at 13:20 Paris Time"
   ]
  },
  {
   "cell_type": "code",
   "execution_count": 161,
   "id": "367232fa-de5a-40dc-b3fa-4ba3727a1ae9",
   "metadata": {},
   "outputs": [
    {
     "data": {
      "text/plain": [
       "{'root': '0',\n",
       " 'daemon': '1',\n",
       " 'bin': '2',\n",
       " 'sys': '3',\n",
       " 'sync': '4',\n",
       " 'games': '5',\n",
       " 'man': '6',\n",
       " 'lp': '7',\n",
       " 'mail': '8',\n",
       " 'news': '9',\n",
       " 'uucp': '10',\n",
       " 'proxy': '13',\n",
       " 'www-data': '33',\n",
       " 'backup': '34',\n",
       " 'list': '38',\n",
       " 'irc': '39',\n",
       " 'gnats': '41',\n",
       " 'nobody': '65534',\n",
       " 'syslog': '101',\n",
       " 'messagebus': '102',\n",
       " 'landscape': '103',\n",
       " 'jci': '955',\n",
       " 'sshd': '104',\n",
       " 'user': '1000',\n",
       " 'reuven': '1001',\n",
       " 'postfix': '105',\n",
       " 'colord': '106',\n",
       " 'postgres': '107',\n",
       " 'dovecot': '108',\n",
       " 'dovenull': '109',\n",
       " 'postgrey': '110',\n",
       " 'debian-spamd': '111',\n",
       " 'memcache': '113',\n",
       " 'genadi': '1002',\n",
       " 'shira': '1003',\n",
       " 'atara': '1004',\n",
       " 'shikma': '1005',\n",
       " 'amotz': '1006',\n",
       " 'mysql': '114',\n",
       " 'clamav': '115',\n",
       " 'amavis': '116',\n",
       " 'opendkim': '117',\n",
       " 'gitlab-redis': '999',\n",
       " 'gitlab-psql': '998',\n",
       " 'git': '1007',\n",
       " 'opendmarc': '118',\n",
       " 'dkim-milter-python': '119',\n",
       " 'deploy': '1008',\n",
       " 'redis': '112'}"
      ]
     },
     "execution_count": 161,
     "metadata": {},
     "output_type": "execute_result"
    }
   ],
   "source": [
    "# dict comprehension -- gets us usernames (index 0) and user IDs (index 2) from linux-etc-passwd.txt\n",
    "\n",
    "{one_line.split(':')[0]  : one_line.split(':')[2]\n",
    " for one_line in open('linux-etc-passwd.txt')\n",
    " if not one_line.startswith(('#', '\\n'))}"
   ]
  },
  {
   "cell_type": "code",
   "execution_count": 167,
   "id": "e7c7a2f5-39a2-4eae-8076-06f64d6a1dc7",
   "metadata": {},
   "outputs": [
    {
     "data": {
      "text/plain": [
       "{'root': '0',\n",
       " 'daemon': '1',\n",
       " 'bin': '2',\n",
       " 'sys': '3',\n",
       " 'sync': '4',\n",
       " 'games': '5',\n",
       " 'man': '6',\n",
       " 'lp': '7',\n",
       " 'mail': '8',\n",
       " 'news': '9',\n",
       " 'uucp': '10',\n",
       " 'proxy': '13',\n",
       " 'www-data': '33',\n",
       " 'backup': '34',\n",
       " 'list': '38',\n",
       " 'irc': '39',\n",
       " 'gnats': '41',\n",
       " 'nobody': '65534',\n",
       " 'syslog': '101',\n",
       " 'messagebus': '102',\n",
       " 'landscape': '103',\n",
       " 'jci': '955',\n",
       " 'sshd': '104',\n",
       " 'user': '1000',\n",
       " 'reuven': '1001',\n",
       " 'postfix': '105',\n",
       " 'colord': '106',\n",
       " 'postgres': '107',\n",
       " 'dovecot': '108',\n",
       " 'dovenull': '109',\n",
       " 'postgrey': '110',\n",
       " 'debian-spamd': '111',\n",
       " 'memcache': '113',\n",
       " 'genadi': '1002',\n",
       " 'shira': '1003',\n",
       " 'atara': '1004',\n",
       " 'shikma': '1005',\n",
       " 'amotz': '1006',\n",
       " 'mysql': '114',\n",
       " 'clamav': '115',\n",
       " 'amavis': '116',\n",
       " 'opendkim': '117',\n",
       " 'gitlab-redis': '999',\n",
       " 'gitlab-psql': '998',\n",
       " 'git': '1007',\n",
       " 'opendmarc': '118',\n",
       " 'dkim-milter-python': '119',\n",
       " 'deploy': '1008',\n",
       " 'redis': '112'}"
      ]
     },
     "execution_count": 167,
     "metadata": {},
     "output_type": "execute_result"
    }
   ],
   "source": [
    "{fields[0]  : fields[2]\n",
    " for one_line in open('linux-etc-passwd.txt')\n",
    " if not one_line.startswith(('#', '\\n'))\n",
    " if (fields := one_line.split(':'))}  # we split one_line, assigning the list to fields... the result is sent to \"if\""
   ]
  },
  {
   "cell_type": "code",
   "execution_count": 170,
   "id": "89f71840-8303-4c98-8828-80fe7e60e81e",
   "metadata": {},
   "outputs": [
    {
     "ename": "SyntaxError",
     "evalue": "invalid syntax (1707263041.py, line 4)",
     "output_type": "error",
     "traceback": [
      "\u001b[0;36m  File \u001b[0;32m\"/var/folders/rr/0mnyyv811fs5vyp22gf4fxk00000gn/T/ipykernel_80969/1707263041.py\"\u001b[0;36m, line \u001b[0;32m4\u001b[0m\n\u001b[0;31m    if (username, passwd, id_number, *rest := one_line.split(':'))}  # we split one_line, assigning the list to fields... the result is sent to \"if\"\u001b[0m\n\u001b[0m                                           ^\u001b[0m\n\u001b[0;31mSyntaxError\u001b[0m\u001b[0;31m:\u001b[0m invalid syntax\n"
     ]
    }
   ],
   "source": [
    "{fields[0]  : fields[2]\n",
    " for one_line in open('linux-etc-passwd.txt')\n",
    " if not one_line.startswith(('#', '\\n'))\n",
    " if (username, passwd, id_number, *rest := one_line.split(':'))}  # we split one_line, assigning the list to fields... the result is sent to \"if\""
   ]
  },
  {
   "cell_type": "code",
   "execution_count": 171,
   "id": "dc01fd96-521d-4db5-97da-c099528ec14b",
   "metadata": {},
   "outputs": [
    {
     "data": {
      "text/plain": [
       "[[10, 20, 25, 30],\n",
       " [40, 50, 60, 70, 80],\n",
       " [90, 95, 100],\n",
       " [105, 110, 115, 120, 125, 130]]"
      ]
     },
     "execution_count": 171,
     "metadata": {},
     "output_type": "execute_result"
    }
   ],
   "source": [
    "mylist = [[10, 20, 25, 30], \n",
    "          [40, 50, 60, 70, 80],\n",
    "          [90, 95, 100],\n",
    "          [105, 110, 115, 120, 125, 130]]\n",
    "\n",
    "mylist"
   ]
  },
  {
   "cell_type": "code",
   "execution_count": 172,
   "id": "f2b4eb7b-1b19-43ea-b0ad-3dde4276b45f",
   "metadata": {},
   "outputs": [
    {
     "data": {
      "text/plain": [
       "18"
      ]
     },
     "execution_count": 174,
     "metadata": {},
     "output_type": "execute_result"
    }
   ],
   "source": [
    "# how can I get a flattened list (all elements at the top-level list -- no sublists) back from mylist?\n",
    "\n",
    "output = []\n",
    "\n",
    "for one_sublist in mylist:\n",
    "    for one_element in one_sublist:\n",
    "        output.append(one_element)\n",
    "        \n",
    "output    "
   ]
  },
  {
   "cell_type": "code",
   "execution_count": 173,
   "id": "165ad2e2-2c97-41ac-b547-14b575f88cc3",
   "metadata": {},
   "outputs": [
    {
     "data": {
      "text/plain": [
       "[[10, 20, 25, 30],\n",
       " [40, 50, 60, 70, 80],\n",
       " [90, 95, 100],\n",
       " [105, 110, 115, 120, 125, 130]]"
      ]
     },
     "execution_count": 173,
     "metadata": {},
     "output_type": "execute_result"
    }
   ],
   "source": [
    "[one_sublist\n",
    " for one_sublist in mylist]"
   ]
  },
  {
   "cell_type": "code",
   "execution_count": 177,
   "id": "29dfdbd4-bd60-4e07-ba7e-7ae04fa6a901",
   "metadata": {},
   "outputs": [
    {
     "data": {
      "text/plain": [
       "[10, 20, 25, 30, 40, 50, 60, 70, 80, 90, 95, 100, 105, 110, 115, 120, 125, 130]"
      ]
     },
     "execution_count": 177,
     "metadata": {},
     "output_type": "execute_result"
    }
   ],
   "source": [
    "# nested comprehension -- great for nested, iterable data structures when I want output\n",
    "# for each inner element, not each outer element\n",
    "\n",
    "[one_element\n",
    " for one_sublist in mylist\n",
    " for one_element in one_sublist]"
   ]
  },
  {
   "cell_type": "code",
   "execution_count": 176,
   "id": "4f8c8e66-1c39-4b1d-b101-dec702cf7658",
   "metadata": {},
   "outputs": [
    {
     "data": {
      "text/plain": [
       "[10, 20, 25, 30, 40, 50, 60, 70, 80, 90, 95, 100, 105, 110, 115, 120, 125, 130]"
      ]
     },
     "execution_count": 176,
     "metadata": {},
     "output_type": "execute_result"
    }
   ],
   "source": [
    "# this does the same thing, but is (in my opinion) unreadable\n",
    "[one_element for one_sublist in mylist for one_element in one_sublist]"
   ]
  },
  {
   "cell_type": "code",
   "execution_count": 178,
   "id": "4ec7d5c5-0687-4cde-8cdd-c6b50ec90eb9",
   "metadata": {},
   "outputs": [
    {
     "data": {
      "text/plain": [
       "[10, 20, 25, 30, 40, 50, 60, 70, 80, 105, 110, 115, 120, 125, 130]"
      ]
     },
     "execution_count": 178,
     "metadata": {},
     "output_type": "execute_result"
    }
   ],
   "source": [
    "[one_element\n",
    " for one_sublist in mylist\n",
    " if len(one_sublist) > 3\n",
    " for one_element in one_sublist]"
   ]
  },
  {
   "cell_type": "code",
   "execution_count": 179,
   "id": "124ba83d-8e62-4288-8582-56e24f337e3d",
   "metadata": {},
   "outputs": [
    {
     "data": {
      "text/plain": [
       "[25, 105, 115, 125]"
      ]
     },
     "execution_count": 179,
     "metadata": {},
     "output_type": "execute_result"
    }
   ],
   "source": [
    "# get me odd elements from the sublists of mylist, from sublists with at least 4 elements\n",
    "\n",
    "[one_element\n",
    " for one_sublist in mylist\n",
    " if len(one_sublist) > 3\n",
    " for one_element in one_sublist\n",
    " if one_element % 2  ]  # meaning: odd items"
   ]
  },
  {
   "cell_type": "code",
   "execution_count": 180,
   "id": "a253e674-8db4-47b6-8acc-aca2823f403e",
   "metadata": {},
   "outputs": [
    {
     "name": "stdout",
     "output_type": "stream",
     "text": [
      "1::Toy Story (1995)::Animation|Children's|Comedy\n",
      "2::Jumanji (1995)::Adventure|Children's|Fantasy\n",
      "3::Grumpier Old Men (1995)::Comedy|Romance\n",
      "4::Waiting to Exhale (1995)::Comedy|Drama\n",
      "5::Father of the Bride Part II (1995)::Comedy\n",
      "6::Heat (1995)::Action|Crime|Thriller\n",
      "7::Sabrina (1995)::Comedy|Romance\n",
      "8::Tom and Huck (1995)::Adventure|Children's\n",
      "9::Sudden Death (1995)::Action\n",
      "10::GoldenEye (1995)::Action|Adventure|Thriller\n"
     ]
    }
   ],
   "source": [
    "!head movies.dat"
   ]
  },
  {
   "cell_type": "markdown",
   "id": "8a42fb67-732e-48b9-a2d3-23bae4d4a5ce",
   "metadata": {},
   "source": [
    "# Exercise: Movie genres\n",
    "\n",
    "Use a comprehension to read from `movies.dat`, and determine what are the 5 most common genres associated with movies.\n",
    "\n",
    "Note: If a movie has multiple genres, then each of the genres should be counted separately."
   ]
  },
  {
   "cell_type": "code",
   "execution_count": 185,
   "id": "cbd4a83b-1743-47e9-81ba-78bc86ad1d31",
   "metadata": {},
   "outputs": [
    {
     "data": {
      "text/plain": [
       "Counter({'Animation': 105,\n",
       "         \"Children's\": 251,\n",
       "         'Comedy': 1200,\n",
       "         'Adventure': 283,\n",
       "         'Fantasy': 68,\n",
       "         'Romance': 471,\n",
       "         'Drama': 1603,\n",
       "         'Action': 503,\n",
       "         'Crime': 211,\n",
       "         'Thriller': 492,\n",
       "         'Horror': 343,\n",
       "         'Sci-Fi': 276,\n",
       "         'Documentary': 127,\n",
       "         'War': 143,\n",
       "         'Musical': 114,\n",
       "         'Mystery': 106,\n",
       "         'Film-Noir': 44,\n",
       "         'Western': 68})"
      ]
     },
     "execution_count": 185,
     "metadata": {},
     "output_type": "execute_result"
    }
   ],
   "source": [
    "from collections import Counter\n",
    "\n",
    "c = Counter([one_field\n",
    " for one_line in open('movies.dat')\n",
    " for one_field in one_line.split('::')[-1].strip().split('|')])\n",
    "\n",
    "c"
   ]
  },
  {
   "cell_type": "code",
   "execution_count": 186,
   "id": "e6e9c649-774b-40af-afb0-28ada2c01b8a",
   "metadata": {},
   "outputs": [
    {
     "data": {
      "text/plain": [
       "[('Drama', 1603),\n",
       " ('Comedy', 1200),\n",
       " ('Action', 503),\n",
       " ('Thriller', 492),\n",
       " ('Romance', 471),\n",
       " ('Horror', 343),\n",
       " ('Adventure', 283),\n",
       " ('Sci-Fi', 276),\n",
       " (\"Children's\", 251),\n",
       " ('Crime', 211),\n",
       " ('War', 143),\n",
       " ('Documentary', 127),\n",
       " ('Musical', 114),\n",
       " ('Mystery', 106),\n",
       " ('Animation', 105),\n",
       " ('Fantasy', 68),\n",
       " ('Western', 68),\n",
       " ('Film-Noir', 44)]"
      ]
     },
     "execution_count": 186,
     "metadata": {},
     "output_type": "execute_result"
    }
   ],
   "source": [
    "c.most_common()"
   ]
  },
  {
   "cell_type": "code",
   "execution_count": 187,
   "id": "bbe3cb28-589a-4356-a3a4-3d3f8b2c21f9",
   "metadata": {},
   "outputs": [
    {
     "data": {
      "text/plain": [
       "[('Drama', 1603),\n",
       " ('Comedy', 1200),\n",
       " ('Action', 503),\n",
       " ('Thriller', 492),\n",
       " ('Romance', 471)]"
      ]
     },
     "execution_count": 187,
     "metadata": {},
     "output_type": "execute_result"
    }
   ],
   "source": [
    "c.most_common(5)"
   ]
  },
  {
   "cell_type": "code",
   "execution_count": 195,
   "id": "89de913e-9c81-4ede-92d6-1c85954a1a93",
   "metadata": {},
   "outputs": [
    {
     "name": "stdout",
     "output_type": "stream",
     "text": [
      "Animation........105\n",
      "Children's.......251\n",
      "Comedy..........1200\n",
      "Adventure........283\n",
      "Fantasy...........68\n",
      "Romance..........471\n",
      "Drama...........1603\n",
      "Action...........503\n",
      "Crime............211\n",
      "Thriller.........492\n",
      "Horror...........343\n",
      "Sci-Fi...........276\n",
      "Documentary......127\n",
      "War..............143\n",
      "Musical..........114\n",
      "Mystery..........106\n",
      "Film-Noir.........44\n",
      "Western...........68\n"
     ]
    }
   ],
   "source": [
    "c = Counter([one_field\n",
    " for one_line in open('movies.dat')\n",
    " for one_field in one_line.split('::')[-1].strip().split('|')])\n",
    "\n",
    "for key, value in c.items():\n",
    "    print(f'{key:.<14}{value:.>6}')"
   ]
  },
  {
   "cell_type": "code",
   "execution_count": 199,
   "id": "28e4abc6-5b2b-4114-a741-78ef2351621b",
   "metadata": {},
   "outputs": [
    {
     "name": "stdout",
     "output_type": "stream",
     "text": [
      "Animation.....xxxxx\n",
      "Children's....xxxxxxxxxxxx\n",
      "Comedy........xxxxxxxxxxxxxxxxxxxxxxxxxxxxxxxxxxxxxxxxxxxxxxxxxxxxxxxxxxxx\n",
      "Adventure.....xxxxxxxxxxxxxx\n",
      "Fantasy.......xxx\n",
      "Romance.......xxxxxxxxxxxxxxxxxxxxxxx\n",
      "Drama.........xxxxxxxxxxxxxxxxxxxxxxxxxxxxxxxxxxxxxxxxxxxxxxxxxxxxxxxxxxxxxxxxxxxxxxxxxxxxxxxx\n",
      "Action........xxxxxxxxxxxxxxxxxxxxxxxxx\n",
      "Crime.........xxxxxxxxxx\n",
      "Thriller......xxxxxxxxxxxxxxxxxxxxxxxx\n",
      "Horror........xxxxxxxxxxxxxxxxx\n",
      "Sci-Fi........xxxxxxxxxxxxx\n",
      "Documentary...xxxxxx\n",
      "War...........xxxxxxx\n",
      "Musical.......xxxxx\n",
      "Mystery.......xxxxx\n",
      "Film-Noir.....xx\n",
      "Western.......xxx\n"
     ]
    }
   ],
   "source": [
    "c = Counter([one_field\n",
    " for one_line in open('movies.dat')\n",
    " for one_field in one_line.split('::')[-1].strip().split('|')])\n",
    "\n",
    "for key, value in c.items():\n",
    "    print(f'{key:.<14}{(value // 20) * \"x\"}')"
   ]
  },
  {
   "cell_type": "markdown",
   "id": "54b470bb-dd54-4cd3-b8bc-06523f0e35c6",
   "metadata": {},
   "source": [
    "# Functions as arguments\n",
    "\n",
    "Functions are objects. And any object can be passed as an argument to another function. So we can design our functions to accept other functions as arguments, and thus let the caller determine how we're going to proceed."
   ]
  },
  {
   "cell_type": "code",
   "execution_count": 200,
   "id": "507acb78-1c51-4ab8-a8a0-25d7f5b2ac8e",
   "metadata": {},
   "outputs": [
    {
     "data": {
      "text/plain": [
       "['This',\n",
       " 'is',\n",
       " 'a',\n",
       " 'bunch',\n",
       " 'of',\n",
       " 'words',\n",
       " 'for',\n",
       " 'my',\n",
       " 'Python',\n",
       " 'course',\n",
       " 'with',\n",
       " 'Cisco']"
      ]
     },
     "execution_count": 200,
     "metadata": {},
     "output_type": "execute_result"
    }
   ],
   "source": [
    "words = 'This is a bunch of words for my Python course with Cisco'.split()\n",
    "words"
   ]
  },
  {
   "cell_type": "code",
   "execution_count": 202,
   "id": "64036a71-4eb0-4a15-8e58-12f8a7df7ee3",
   "metadata": {},
   "outputs": [
    {
     "data": {
      "text/plain": [
       "['Cisco',\n",
       " 'Python',\n",
       " 'This',\n",
       " 'a',\n",
       " 'bunch',\n",
       " 'course',\n",
       " 'for',\n",
       " 'is',\n",
       " 'my',\n",
       " 'of',\n",
       " 'with',\n",
       " 'words']"
      ]
     },
     "execution_count": 202,
     "metadata": {},
     "output_type": "execute_result"
    }
   ],
   "source": [
    "# one way to sort is with list.sort:\n",
    "# avoid using list.sort -- because it changes the list itself! (not very functional)\n",
    "\n",
    "words.sort()  \n",
    "words"
   ]
  },
  {
   "cell_type": "code",
   "execution_count": 203,
   "id": "519d0d00-ff53-4067-8956-4620328eae52",
   "metadata": {},
   "outputs": [
    {
     "data": {
      "text/plain": [
       "['Cisco',\n",
       " 'Python',\n",
       " 'This',\n",
       " 'a',\n",
       " 'bunch',\n",
       " 'course',\n",
       " 'for',\n",
       " 'is',\n",
       " 'my',\n",
       " 'of',\n",
       " 'with',\n",
       " 'words']"
      ]
     },
     "execution_count": 203,
     "metadata": {},
     "output_type": "execute_result"
    }
   ],
   "source": [
    "# rather, try to use \"sorted\" -- a builtin function that works with *any* iterable,\n",
    "# and returns a new list of sorted items (doesn't change the original list)\n",
    "\n",
    "words = 'This is a bunch of words for my Python course with Cisco'.split()\n",
    "sorted(words)"
   ]
  },
  {
   "cell_type": "markdown",
   "id": "908bf8f4-9f88-47d3-be62-2a063c15fa44",
   "metadata": {},
   "source": [
    "# Sorting strings\n",
    "\n",
    "How does Python sort strings?  It compares two strings at a time -- let's call them A and B.\n",
    "\n",
    "It compares `A[0]` and `B[0]`.  It checks the Unicode number for each character.  It determines which one comes first.\n",
    "\n",
    "- If `A[0] == B[0]`, then Python checks index 1.\n",
    "- Still the same? Try index 2\n",
    "- ... it just continues until either `A` or `B` ends (and the shorter one wins) or they are the same.\n"
   ]
  },
  {
   "cell_type": "code",
   "execution_count": 204,
   "id": "29ffd20f-2e39-429d-95ee-fff80d58bb60",
   "metadata": {},
   "outputs": [
    {
     "data": {
      "text/plain": [
       "65"
      ]
     },
     "execution_count": 204,
     "metadata": {},
     "output_type": "execute_result"
    }
   ],
   "source": [
    "ord('A')  # gives me the Unicode number for 'A'"
   ]
  },
  {
   "cell_type": "code",
   "execution_count": 205,
   "id": "7cccc5d7-42e0-4933-a047-c5200e9f23f3",
   "metadata": {},
   "outputs": [
    {
     "data": {
      "text/plain": [
       "97"
      ]
     },
     "execution_count": 205,
     "metadata": {},
     "output_type": "execute_result"
    }
   ],
   "source": [
    "ord('a')"
   ]
  },
  {
   "cell_type": "code",
   "execution_count": 206,
   "id": "8b82c833-c934-4194-a044-d38a1bbfa676",
   "metadata": {},
   "outputs": [
    {
     "data": {
      "text/plain": [
       "True"
      ]
     },
     "execution_count": 206,
     "metadata": {},
     "output_type": "execute_result"
    }
   ],
   "source": [
    "'Z' < 'a'"
   ]
  },
  {
   "cell_type": "markdown",
   "id": "34c9794f-6c3c-457b-a1ec-dc2023298d7f",
   "metadata": {},
   "source": [
    "How can I sort my words without regard for case?\n",
    "\n",
    "(I don't want to convert them all to lowercase... I want to keep the orignal values, just sort them case-insensitive.)\n",
    "\n",
    "What if, when we compare `A` and `B`, we actually compare `f(A)` and `f(B)` -- applying the same function to `A` and `B`, and using the results for our comparison?"
   ]
  },
  {
   "cell_type": "code",
   "execution_count": 207,
   "id": "7160b78a-8663-4d24-80d3-4ab696b5a077",
   "metadata": {},
   "outputs": [
    {
     "data": {
      "text/plain": [
       "['a',\n",
       " 'is',\n",
       " 'of',\n",
       " 'my',\n",
       " 'for',\n",
       " 'This',\n",
       " 'with',\n",
       " 'bunch',\n",
       " 'words',\n",
       " 'Cisco',\n",
       " 'Python',\n",
       " 'course']"
      ]
     },
     "execution_count": 207,
     "metadata": {},
     "output_type": "execute_result"
    }
   ],
   "source": [
    "# We do this by passing a function as the \"key\" keyword argument to \"sorted\".\n",
    "\n",
    "sorted(words, key=len)  # now it won't compare words, but word lengths"
   ]
  },
  {
   "cell_type": "code",
   "execution_count": 208,
   "id": "1f167dec-4d00-4ce3-b240-4c29cf32c706",
   "metadata": {},
   "outputs": [
    {
     "data": {
      "text/plain": [
       "['a',\n",
       " 'bunch',\n",
       " 'Cisco',\n",
       " 'course',\n",
       " 'for',\n",
       " 'is',\n",
       " 'my',\n",
       " 'of',\n",
       " 'Python',\n",
       " 'This',\n",
       " 'with',\n",
       " 'words']"
      ]
     },
     "execution_count": 208,
     "metadata": {},
     "output_type": "execute_result"
    }
   ],
   "source": [
    "# how, then, can I sort case insensitively?\n",
    "# use str.lower as my key function... and thus, compare them in lowercase while preserving the original capitalization\n",
    "\n",
    "sorted(words, key=str.lower)"
   ]
  },
  {
   "cell_type": "markdown",
   "id": "073d1c0c-264e-4c44-b9f0-44394631a85c",
   "metadata": {},
   "source": [
    "# Exercises with sorting\n",
    "\n",
    "1. Ask the user to enter a sentence. Sort the words by vowel count (using the function from before).\n",
    "2. Now sort the words backwards -- first checking the final letter, then the 2nd-to-final letter, etc., until we get to the start of the word.  So words that end with `a` will come before those that end with `z`.\n",
    "3. Ask the user to enter a bunch of numbers, separated by spaces. Sort them by absolute value. (So yes, you will probably want some negative numbers when you try it.)"
   ]
  },
  {
   "cell_type": "code",
   "execution_count": 209,
   "id": "41aa72e0-cd07-4eec-bc8a-c0aa840867fb",
   "metadata": {},
   "outputs": [
    {
     "name": "stdin",
     "output_type": "stream",
     "text": [
      "Enter a sentence:  this is a fantastic and interesting and wonderful experiment\n"
     ]
    },
    {
     "name": "stdout",
     "output_type": "stream",
     "text": [
      "['this', 'is', 'a', 'and', 'and', 'fantastic', 'wonderful', 'interesting', 'experiment']\n"
     ]
    }
   ],
   "source": [
    "def vowel_count(s):\n",
    "    total = 0\n",
    "    for one_character in s.lower():\n",
    "        if one_character in 'aeiou':\n",
    "            total += 1\n",
    "    return total\n",
    "\n",
    "s = input('Enter a sentence: ').strip()\n",
    "\n",
    "words = s.split()\n",
    "print(sorted(words, key=vowel_count))"
   ]
  },
  {
   "cell_type": "code",
   "execution_count": 210,
   "id": "aefea785-bb76-45b2-ba84-ccc9cb7226ac",
   "metadata": {},
   "outputs": [
    {
     "name": "stdout",
     "output_type": "stream",
     "text": [
      "['interesting', 'experiment', 'fantastic', 'wonderful', 'this', 'is', 'a', 'and', 'and']\n"
     ]
    }
   ],
   "source": [
    "# sort from highest to lowest\n",
    "print(sorted(words, key=vowel_count, reverse=True))"
   ]
  },
  {
   "cell_type": "code",
   "execution_count": 211,
   "id": "80ff7ab2-41e5-487f-9ff4-49496ff971a0",
   "metadata": {},
   "outputs": [
    {
     "name": "stdout",
     "output_type": "stream",
     "text": [
      "['a', 'fantastic', 'and', 'and', 'interesting', 'wonderful', 'is', 'this', 'experiment']\n"
     ]
    }
   ],
   "source": [
    "def by_backwards_word(s):\n",
    "    return s[::-1] \n",
    "\n",
    "print(sorted(words, key=by_backwards_word))"
   ]
  },
  {
   "cell_type": "code",
   "execution_count": 212,
   "id": "ccd3c742-cfe9-46d8-8cf3-468f8876980c",
   "metadata": {},
   "outputs": [
    {
     "name": "stdout",
     "output_type": "stream",
     "text": [
      "Now checking \"this\"\n",
      "Now checking \"is\"\n",
      "Now checking \"a\"\n",
      "Now checking \"fantastic\"\n",
      "Now checking \"and\"\n",
      "Now checking \"interesting\"\n",
      "Now checking \"and\"\n",
      "Now checking \"wonderful\"\n",
      "Now checking \"experiment\"\n",
      "['a', 'fantastic', 'and', 'and', 'interesting', 'wonderful', 'is', 'this', 'experiment']\n"
     ]
    }
   ],
   "source": [
    "def by_backwards_word(s):\n",
    "    print(f'Now checking \"{s}\"')\n",
    "    return s[::-1] \n",
    "\n",
    "print(sorted(words, key=by_backwards_word))"
   ]
  },
  {
   "cell_type": "code",
   "execution_count": 215,
   "id": "ff630bee-c210-41db-bf62-2e6a768a5d5e",
   "metadata": {},
   "outputs": [
    {
     "name": "stdin",
     "output_type": "stream",
     "text": [
      "Enter numbers:  2 -4 6 -8 10 -12\n"
     ]
    },
    {
     "name": "stdout",
     "output_type": "stream",
     "text": [
      "[-12, -8, -4, 2, 6, 10]\n"
     ]
    }
   ],
   "source": [
    "s = input('Enter numbers: ').strip()\n",
    "\n",
    "numbers = [int(one_item)\n",
    "           for one_item in s.split()]\n",
    "\n",
    "print(sorted(numbers))"
   ]
  },
  {
   "cell_type": "code",
   "execution_count": 216,
   "id": "ef4abf0a-2c48-4890-879b-aa665933dac8",
   "metadata": {},
   "outputs": [
    {
     "name": "stdout",
     "output_type": "stream",
     "text": [
      "[2, -4, 6, -8, 10, -12]\n"
     ]
    }
   ],
   "source": [
    "print(sorted(numbers, key=abs))"
   ]
  },
  {
   "cell_type": "markdown",
   "id": "3133d2da-cae7-4f71-8221-d46b653eb3b0",
   "metadata": {},
   "source": [
    "# Exercise: Sorting our shoes\n",
    "\n",
    "1. Sort the shoes (list of dicts) by brand.\n",
    "2. Sort the shoes first by brand, and then by size (within each brand)\n",
    "3. **HARDER** Ask the user by what field(s) they want to sort, and sort in that way."
   ]
  },
  {
   "cell_type": "code",
   "execution_count": 217,
   "id": "455fea0d-2e9b-4192-9786-63c30c8e0454",
   "metadata": {},
   "outputs": [
    {
     "ename": "NameError",
     "evalue": "name 'shoes' is not defined",
     "output_type": "error",
     "traceback": [
      "\u001b[0;31m---------------------------------------------------------------------------\u001b[0m",
      "\u001b[0;31mNameError\u001b[0m                                 Traceback (most recent call last)",
      "\u001b[0;32m/var/folders/rr/0mnyyv811fs5vyp22gf4fxk00000gn/T/ipykernel_80969/4240176057.py\u001b[0m in \u001b[0;36m<module>\u001b[0;34m\u001b[0m\n\u001b[0;32m----> 1\u001b[0;31m \u001b[0mshoes\u001b[0m\u001b[0;34m\u001b[0m\u001b[0;34m\u001b[0m\u001b[0m\n\u001b[0m",
      "\u001b[0;31mNameError\u001b[0m: name 'shoes' is not defined"
     ]
    }
   ],
   "source": [
    "shoes"
   ]
  },
  {
   "cell_type": "code",
   "execution_count": 218,
   "id": "f38ab542-f9b1-40fb-a457-73117c523d8c",
   "metadata": {},
   "outputs": [],
   "source": [
    "def line_to_dict(one_line):\n",
    "    return dict(zip(['brand', 'color', 'size'],\n",
    "                    one_line.strip().split('\\t')))\n",
    "    \n",
    "shoes = [line_to_dict(one_line)\n",
    "  for one_line in open('shoe-data.txt')]"
   ]
  },
  {
   "cell_type": "code",
   "execution_count": 219,
   "id": "3f3bb576-f8be-4655-b9dc-5388428b3604",
   "metadata": {},
   "outputs": [
    {
     "ename": "TypeError",
     "evalue": "'<' not supported between instances of 'dict' and 'dict'",
     "output_type": "error",
     "traceback": [
      "\u001b[0;31m---------------------------------------------------------------------------\u001b[0m",
      "\u001b[0;31mTypeError\u001b[0m                                 Traceback (most recent call last)",
      "\u001b[0;32m/var/folders/rr/0mnyyv811fs5vyp22gf4fxk00000gn/T/ipykernel_80969/2991608331.py\u001b[0m in \u001b[0;36m<module>\u001b[0;34m\u001b[0m\n\u001b[0;32m----> 1\u001b[0;31m \u001b[0msorted\u001b[0m\u001b[0;34m(\u001b[0m\u001b[0mshoes\u001b[0m\u001b[0;34m)\u001b[0m\u001b[0;34m\u001b[0m\u001b[0;34m\u001b[0m\u001b[0m\n\u001b[0m",
      "\u001b[0;31mTypeError\u001b[0m: '<' not supported between instances of 'dict' and 'dict'"
     ]
    }
   ],
   "source": [
    "sorted(shoes)"
   ]
  },
  {
   "cell_type": "code",
   "execution_count": 220,
   "id": "6ddcde31-0a04-4089-b60c-7cb98d8107f4",
   "metadata": {
    "collapsed": true,
    "jupyter": {
     "outputs_hidden": true
    },
    "tags": []
   },
   "outputs": [
    {
     "data": {
      "text/plain": [
       "[{'brand': 'Adidas', 'color': 'orange', 'size': '43'},\n",
       " {'brand': 'Adidas', 'color': 'black', 'size': '39'},\n",
       " {'brand': 'Adidas', 'color': 'pink', 'size': '44'},\n",
       " {'brand': 'Adidas', 'color': 'orange', 'size': '37'},\n",
       " {'brand': 'Adidas', 'color': 'black', 'size': '38'},\n",
       " {'brand': 'Adidas', 'color': 'pink', 'size': '41'},\n",
       " {'brand': 'Adidas', 'color': 'white', 'size': '36'},\n",
       " {'brand': 'Adidas', 'color': 'orange', 'size': '36'},\n",
       " {'brand': 'Adidas', 'color': 'pink', 'size': '35'},\n",
       " {'brand': 'Adidas', 'color': 'black', 'size': '41'},\n",
       " {'brand': 'Adidas', 'color': 'white', 'size': '35'},\n",
       " {'brand': 'Adidas', 'color': 'orange', 'size': '40'},\n",
       " {'brand': 'Adidas', 'color': 'black', 'size': '41'},\n",
       " {'brand': 'Adidas', 'color': 'black', 'size': '39'},\n",
       " {'brand': 'Adidas', 'color': 'black', 'size': '40'},\n",
       " {'brand': 'Adidas', 'color': 'orange', 'size': '38'},\n",
       " {'brand': 'Adidas', 'color': 'white', 'size': '39'},\n",
       " {'brand': 'Adidas', 'color': 'orange', 'size': '37'},\n",
       " {'brand': 'Adidas', 'color': 'pink', 'size': '35'},\n",
       " {'brand': 'Adidas', 'color': 'black', 'size': '39'},\n",
       " {'brand': 'Adidas', 'color': 'orange', 'size': '42'},\n",
       " {'brand': 'Adidas', 'color': 'pink', 'size': '39'},\n",
       " {'brand': 'Adidas', 'color': 'pink', 'size': '41'},\n",
       " {'brand': 'Adidas', 'color': 'pink', 'size': '39'},\n",
       " {'brand': 'Adidas', 'color': 'orange', 'size': '39'},\n",
       " {'brand': 'Adidas', 'color': 'white', 'size': '36'},\n",
       " {'brand': 'Adidas', 'color': 'pink', 'size': '41'},\n",
       " {'brand': 'Adidas', 'color': 'black', 'size': '41'},\n",
       " {'brand': 'Adidas', 'color': 'black', 'size': '42'},\n",
       " {'brand': 'Adidas', 'color': 'white', 'size': '40'},\n",
       " {'brand': 'Adidas', 'color': 'orange', 'size': '37'},\n",
       " {'brand': 'Adidas', 'color': 'pink', 'size': '36'},\n",
       " {'brand': 'Adidas', 'color': 'white', 'size': '35'},\n",
       " {'brand': 'Adidas', 'color': 'black', 'size': '42'},\n",
       " {'brand': 'New Balance', 'color': 'pink', 'size': '41'},\n",
       " {'brand': 'New Balance', 'color': 'orange', 'size': '38'},\n",
       " {'brand': 'New Balance', 'color': 'orange', 'size': '39'},\n",
       " {'brand': 'New Balance', 'color': 'black', 'size': '43'},\n",
       " {'brand': 'New Balance', 'color': 'orange', 'size': '44'},\n",
       " {'brand': 'New Balance', 'color': 'orange', 'size': '37'},\n",
       " {'brand': 'New Balance', 'color': 'pink', 'size': '40'},\n",
       " {'brand': 'New Balance', 'color': 'pink', 'size': '41'},\n",
       " {'brand': 'New Balance', 'color': 'orange', 'size': '41'},\n",
       " {'brand': 'New Balance', 'color': 'orange', 'size': '40'},\n",
       " {'brand': 'New Balance', 'color': 'white', 'size': '44'},\n",
       " {'brand': 'New Balance', 'color': 'pink', 'size': '40'},\n",
       " {'brand': 'New Balance', 'color': 'white', 'size': '39'},\n",
       " {'brand': 'New Balance', 'color': 'orange', 'size': '40'},\n",
       " {'brand': 'New Balance', 'color': 'black', 'size': '40'},\n",
       " {'brand': 'New Balance', 'color': 'orange', 'size': '39'},\n",
       " {'brand': 'New Balance', 'color': 'orange', 'size': '41'},\n",
       " {'brand': 'New Balance', 'color': 'white', 'size': '35'},\n",
       " {'brand': 'New Balance', 'color': 'orange', 'size': '43'},\n",
       " {'brand': 'New Balance', 'color': 'pink', 'size': '40'},\n",
       " {'brand': 'New Balance', 'color': 'black', 'size': '40'},\n",
       " {'brand': 'New Balance', 'color': 'pink', 'size': '40'},\n",
       " {'brand': 'New Balance', 'color': 'white', 'size': '38'},\n",
       " {'brand': 'New Balance', 'color': 'black', 'size': '40'},\n",
       " {'brand': 'New Balance', 'color': 'pink', 'size': '40'},\n",
       " {'brand': 'New Balance', 'color': 'orange', 'size': '38'},\n",
       " {'brand': 'New Balance', 'color': 'black', 'size': '43'},\n",
       " {'brand': 'New Balance', 'color': 'pink', 'size': '39'},\n",
       " {'brand': 'New Balance', 'color': 'orange', 'size': '40'},\n",
       " {'brand': 'New Balance', 'color': 'white', 'size': '44'},\n",
       " {'brand': 'Nike', 'color': 'black', 'size': '41'},\n",
       " {'brand': 'Nike', 'color': 'white', 'size': '44'},\n",
       " {'brand': 'Nike', 'color': 'pink', 'size': '44'},\n",
       " {'brand': 'Nike', 'color': 'black', 'size': '41'},\n",
       " {'brand': 'Nike', 'color': 'pink', 'size': '41'},\n",
       " {'brand': 'Nike', 'color': 'pink', 'size': '43'},\n",
       " {'brand': 'Nike', 'color': 'black', 'size': '43'},\n",
       " {'brand': 'Nike', 'color': 'black', 'size': '42'},\n",
       " {'brand': 'Nike', 'color': 'black', 'size': '35'},\n",
       " {'brand': 'Nike', 'color': 'black', 'size': '43'},\n",
       " {'brand': 'Nike', 'color': 'pink', 'size': '36'},\n",
       " {'brand': 'Nike', 'color': 'black', 'size': '42'},\n",
       " {'brand': 'Nike', 'color': 'white', 'size': '37'},\n",
       " {'brand': 'Nike', 'color': 'black', 'size': '35'},\n",
       " {'brand': 'Nike', 'color': 'white', 'size': '37'},\n",
       " {'brand': 'Nike', 'color': 'pink', 'size': '44'},\n",
       " {'brand': 'Nike', 'color': 'pink', 'size': '38'},\n",
       " {'brand': 'Nike', 'color': 'pink', 'size': '40'},\n",
       " {'brand': 'Nike', 'color': 'white', 'size': '44'},\n",
       " {'brand': 'Nike', 'color': 'orange', 'size': '38'},\n",
       " {'brand': 'Nike', 'color': 'white', 'size': '37'},\n",
       " {'brand': 'Nike', 'color': 'orange', 'size': '38'},\n",
       " {'brand': 'Nike', 'color': 'pink', 'size': '40'},\n",
       " {'brand': 'Nike', 'color': 'orange', 'size': '40'},\n",
       " {'brand': 'Nike', 'color': 'pink', 'size': '40'},\n",
       " {'brand': 'Nike', 'color': 'black', 'size': '41'},\n",
       " {'brand': 'Nike', 'color': 'black', 'size': '39'},\n",
       " {'brand': 'Nike', 'color': 'orange', 'size': '36'},\n",
       " {'brand': 'Nike', 'color': 'black', 'size': '38'},\n",
       " {'brand': 'Nike', 'color': 'pink', 'size': '41'},\n",
       " {'brand': 'Nike', 'color': 'black', 'size': '44'},\n",
       " {'brand': 'Nike', 'color': 'black', 'size': '38'},\n",
       " {'brand': 'Nike', 'color': 'pink', 'size': '42'},\n",
       " {'brand': 'Nike', 'color': 'white', 'size': '38'},\n",
       " {'brand': 'Nike', 'color': 'orange', 'size': '39'},\n",
       " {'brand': 'Nike', 'color': 'black', 'size': '35'}]"
      ]
     },
     "execution_count": 220,
     "metadata": {},
     "output_type": "execute_result"
    }
   ],
   "source": [
    "def by_brand(shoe_dict):\n",
    "    return shoe_dict['brand']\n",
    "\n",
    "sorted(shoes, key=by_brand)"
   ]
  },
  {
   "cell_type": "code",
   "execution_count": 221,
   "id": "46acf6f2-651d-4af7-82df-b3cd3b7f5c8a",
   "metadata": {
    "collapsed": true,
    "jupyter": {
     "outputs_hidden": true
    },
    "tags": []
   },
   "outputs": [
    {
     "data": {
      "text/plain": [
       "[{'brand': 'Adidas', 'color': 'pink', 'size': '35'},\n",
       " {'brand': 'Adidas', 'color': 'white', 'size': '35'},\n",
       " {'brand': 'Adidas', 'color': 'pink', 'size': '35'},\n",
       " {'brand': 'Adidas', 'color': 'white', 'size': '35'},\n",
       " {'brand': 'Adidas', 'color': 'white', 'size': '36'},\n",
       " {'brand': 'Adidas', 'color': 'orange', 'size': '36'},\n",
       " {'brand': 'Adidas', 'color': 'white', 'size': '36'},\n",
       " {'brand': 'Adidas', 'color': 'pink', 'size': '36'},\n",
       " {'brand': 'Adidas', 'color': 'orange', 'size': '37'},\n",
       " {'brand': 'Adidas', 'color': 'orange', 'size': '37'},\n",
       " {'brand': 'Adidas', 'color': 'orange', 'size': '37'},\n",
       " {'brand': 'Adidas', 'color': 'black', 'size': '38'},\n",
       " {'brand': 'Adidas', 'color': 'orange', 'size': '38'},\n",
       " {'brand': 'Adidas', 'color': 'black', 'size': '39'},\n",
       " {'brand': 'Adidas', 'color': 'black', 'size': '39'},\n",
       " {'brand': 'Adidas', 'color': 'white', 'size': '39'},\n",
       " {'brand': 'Adidas', 'color': 'black', 'size': '39'},\n",
       " {'brand': 'Adidas', 'color': 'pink', 'size': '39'},\n",
       " {'brand': 'Adidas', 'color': 'pink', 'size': '39'},\n",
       " {'brand': 'Adidas', 'color': 'orange', 'size': '39'},\n",
       " {'brand': 'Adidas', 'color': 'orange', 'size': '40'},\n",
       " {'brand': 'Adidas', 'color': 'black', 'size': '40'},\n",
       " {'brand': 'Adidas', 'color': 'white', 'size': '40'},\n",
       " {'brand': 'Adidas', 'color': 'pink', 'size': '41'},\n",
       " {'brand': 'Adidas', 'color': 'black', 'size': '41'},\n",
       " {'brand': 'Adidas', 'color': 'black', 'size': '41'},\n",
       " {'brand': 'Adidas', 'color': 'pink', 'size': '41'},\n",
       " {'brand': 'Adidas', 'color': 'pink', 'size': '41'},\n",
       " {'brand': 'Adidas', 'color': 'black', 'size': '41'},\n",
       " {'brand': 'Adidas', 'color': 'orange', 'size': '42'},\n",
       " {'brand': 'Adidas', 'color': 'black', 'size': '42'},\n",
       " {'brand': 'Adidas', 'color': 'black', 'size': '42'},\n",
       " {'brand': 'Adidas', 'color': 'orange', 'size': '43'},\n",
       " {'brand': 'Adidas', 'color': 'pink', 'size': '44'},\n",
       " {'brand': 'New Balance', 'color': 'white', 'size': '35'},\n",
       " {'brand': 'New Balance', 'color': 'orange', 'size': '37'},\n",
       " {'brand': 'New Balance', 'color': 'orange', 'size': '38'},\n",
       " {'brand': 'New Balance', 'color': 'white', 'size': '38'},\n",
       " {'brand': 'New Balance', 'color': 'orange', 'size': '38'},\n",
       " {'brand': 'New Balance', 'color': 'orange', 'size': '39'},\n",
       " {'brand': 'New Balance', 'color': 'white', 'size': '39'},\n",
       " {'brand': 'New Balance', 'color': 'orange', 'size': '39'},\n",
       " {'brand': 'New Balance', 'color': 'pink', 'size': '39'},\n",
       " {'brand': 'New Balance', 'color': 'pink', 'size': '40'},\n",
       " {'brand': 'New Balance', 'color': 'orange', 'size': '40'},\n",
       " {'brand': 'New Balance', 'color': 'pink', 'size': '40'},\n",
       " {'brand': 'New Balance', 'color': 'orange', 'size': '40'},\n",
       " {'brand': 'New Balance', 'color': 'black', 'size': '40'},\n",
       " {'brand': 'New Balance', 'color': 'pink', 'size': '40'},\n",
       " {'brand': 'New Balance', 'color': 'black', 'size': '40'},\n",
       " {'brand': 'New Balance', 'color': 'pink', 'size': '40'},\n",
       " {'brand': 'New Balance', 'color': 'black', 'size': '40'},\n",
       " {'brand': 'New Balance', 'color': 'pink', 'size': '40'},\n",
       " {'brand': 'New Balance', 'color': 'orange', 'size': '40'},\n",
       " {'brand': 'New Balance', 'color': 'pink', 'size': '41'},\n",
       " {'brand': 'New Balance', 'color': 'pink', 'size': '41'},\n",
       " {'brand': 'New Balance', 'color': 'orange', 'size': '41'},\n",
       " {'brand': 'New Balance', 'color': 'orange', 'size': '41'},\n",
       " {'brand': 'New Balance', 'color': 'black', 'size': '43'},\n",
       " {'brand': 'New Balance', 'color': 'orange', 'size': '43'},\n",
       " {'brand': 'New Balance', 'color': 'black', 'size': '43'},\n",
       " {'brand': 'New Balance', 'color': 'orange', 'size': '44'},\n",
       " {'brand': 'New Balance', 'color': 'white', 'size': '44'},\n",
       " {'brand': 'New Balance', 'color': 'white', 'size': '44'},\n",
       " {'brand': 'Nike', 'color': 'black', 'size': '35'},\n",
       " {'brand': 'Nike', 'color': 'black', 'size': '35'},\n",
       " {'brand': 'Nike', 'color': 'black', 'size': '35'},\n",
       " {'brand': 'Nike', 'color': 'pink', 'size': '36'},\n",
       " {'brand': 'Nike', 'color': 'orange', 'size': '36'},\n",
       " {'brand': 'Nike', 'color': 'white', 'size': '37'},\n",
       " {'brand': 'Nike', 'color': 'white', 'size': '37'},\n",
       " {'brand': 'Nike', 'color': 'white', 'size': '37'},\n",
       " {'brand': 'Nike', 'color': 'pink', 'size': '38'},\n",
       " {'brand': 'Nike', 'color': 'orange', 'size': '38'},\n",
       " {'brand': 'Nike', 'color': 'orange', 'size': '38'},\n",
       " {'brand': 'Nike', 'color': 'black', 'size': '38'},\n",
       " {'brand': 'Nike', 'color': 'black', 'size': '38'},\n",
       " {'brand': 'Nike', 'color': 'white', 'size': '38'},\n",
       " {'brand': 'Nike', 'color': 'black', 'size': '39'},\n",
       " {'brand': 'Nike', 'color': 'orange', 'size': '39'},\n",
       " {'brand': 'Nike', 'color': 'pink', 'size': '40'},\n",
       " {'brand': 'Nike', 'color': 'pink', 'size': '40'},\n",
       " {'brand': 'Nike', 'color': 'orange', 'size': '40'},\n",
       " {'brand': 'Nike', 'color': 'pink', 'size': '40'},\n",
       " {'brand': 'Nike', 'color': 'black', 'size': '41'},\n",
       " {'brand': 'Nike', 'color': 'black', 'size': '41'},\n",
       " {'brand': 'Nike', 'color': 'pink', 'size': '41'},\n",
       " {'brand': 'Nike', 'color': 'black', 'size': '41'},\n",
       " {'brand': 'Nike', 'color': 'pink', 'size': '41'},\n",
       " {'brand': 'Nike', 'color': 'black', 'size': '42'},\n",
       " {'brand': 'Nike', 'color': 'black', 'size': '42'},\n",
       " {'brand': 'Nike', 'color': 'pink', 'size': '42'},\n",
       " {'brand': 'Nike', 'color': 'pink', 'size': '43'},\n",
       " {'brand': 'Nike', 'color': 'black', 'size': '43'},\n",
       " {'brand': 'Nike', 'color': 'black', 'size': '43'},\n",
       " {'brand': 'Nike', 'color': 'white', 'size': '44'},\n",
       " {'brand': 'Nike', 'color': 'pink', 'size': '44'},\n",
       " {'brand': 'Nike', 'color': 'pink', 'size': '44'},\n",
       " {'brand': 'Nike', 'color': 'white', 'size': '44'},\n",
       " {'brand': 'Nike', 'color': 'black', 'size': '44'}]"
      ]
     },
     "execution_count": 221,
     "metadata": {},
     "output_type": "execute_result"
    }
   ],
   "source": [
    "def by_brand_and_size(shoe_dict):\n",
    "    return shoe_dict['brand'], shoe_dict['size']\n",
    "\n",
    "sorted(shoes, key=by_brand_and_size)"
   ]
  },
  {
   "cell_type": "code",
   "execution_count": null,
   "id": "1ff31922-5bef-4a9d-8cee-cb1033c01628",
   "metadata": {},
   "outputs": [],
   "source": [
    "# comparing sequences\n",
    "\n",
    "# compare index 0 in both\n",
    "# then index 1 in both\n"
   ]
  },
  {
   "cell_type": "code",
   "execution_count": 224,
   "id": "2c46e355-180a-43b1-a078-af2ceaf48f45",
   "metadata": {},
   "outputs": [
    {
     "name": "stdin",
     "output_type": "stream",
     "text": [
      "Enter sort field(s):  brand size\n"
     ]
    }
   ],
   "source": [
    "sort_by = input('Enter sort field(s): ').split()"
   ]
  },
  {
   "cell_type": "code",
   "execution_count": 225,
   "id": "b6316e80-6df0-4ff2-8124-4ef828fbdf36",
   "metadata": {},
   "outputs": [
    {
     "data": {
      "text/plain": [
       "['brand', 'size']"
      ]
     },
     "execution_count": 225,
     "metadata": {},
     "output_type": "execute_result"
    }
   ],
   "source": [
    "sort_by"
   ]
  },
  {
   "cell_type": "code",
   "execution_count": 229,
   "id": "8f1a14d3-32f2-4271-8aa7-1fc2ae7540cd",
   "metadata": {},
   "outputs": [],
   "source": [
    "# I need to have a function that will return shoe_dict[each_field] in a list\n",
    "\n",
    "def by_chosen_fields(shoe_dict):\n",
    "    output = []\n",
    "    for one_field in sort_by:\n",
    "        output.append(shoe_dict[one_field])\n",
    "    return output"
   ]
  },
  {
   "cell_type": "code",
   "execution_count": 230,
   "id": "009883b0-01c1-4429-88b5-65ec9414d429",
   "metadata": {},
   "outputs": [
    {
     "data": {
      "text/plain": [
       "['Adidas', '43']"
      ]
     },
     "execution_count": 230,
     "metadata": {},
     "output_type": "execute_result"
    }
   ],
   "source": [
    "by_chosen_fields(shoes[0])"
   ]
  },
  {
   "cell_type": "code",
   "execution_count": 231,
   "id": "20a00b7d-7563-4824-996e-345f4ed288fd",
   "metadata": {},
   "outputs": [
    {
     "data": {
      "text/plain": [
       "{'brand': 'Adidas', 'color': 'orange', 'size': '43'}"
      ]
     },
     "execution_count": 231,
     "metadata": {},
     "output_type": "execute_result"
    }
   ],
   "source": [
    "shoes[0]"
   ]
  },
  {
   "cell_type": "code",
   "execution_count": null,
   "id": "6782da55-729e-4f30-9cbe-0d2f757f0206",
   "metadata": {},
   "outputs": [],
   "source": []
  },
  {
   "cell_type": "code",
   "execution_count": 232,
   "id": "8f1e8c70-6afe-4e69-9919-54ee7e2fb04f",
   "metadata": {
    "collapsed": true,
    "jupyter": {
     "outputs_hidden": true
    },
    "tags": []
   },
   "outputs": [
    {
     "data": {
      "text/plain": [
       "[{'brand': 'Adidas', 'color': 'pink', 'size': '35'},\n",
       " {'brand': 'Adidas', 'color': 'white', 'size': '35'},\n",
       " {'brand': 'Adidas', 'color': 'pink', 'size': '35'},\n",
       " {'brand': 'Adidas', 'color': 'white', 'size': '35'},\n",
       " {'brand': 'Adidas', 'color': 'white', 'size': '36'},\n",
       " {'brand': 'Adidas', 'color': 'orange', 'size': '36'},\n",
       " {'brand': 'Adidas', 'color': 'white', 'size': '36'},\n",
       " {'brand': 'Adidas', 'color': 'pink', 'size': '36'},\n",
       " {'brand': 'Adidas', 'color': 'orange', 'size': '37'},\n",
       " {'brand': 'Adidas', 'color': 'orange', 'size': '37'},\n",
       " {'brand': 'Adidas', 'color': 'orange', 'size': '37'},\n",
       " {'brand': 'Adidas', 'color': 'black', 'size': '38'},\n",
       " {'brand': 'Adidas', 'color': 'orange', 'size': '38'},\n",
       " {'brand': 'Adidas', 'color': 'black', 'size': '39'},\n",
       " {'brand': 'Adidas', 'color': 'black', 'size': '39'},\n",
       " {'brand': 'Adidas', 'color': 'white', 'size': '39'},\n",
       " {'brand': 'Adidas', 'color': 'black', 'size': '39'},\n",
       " {'brand': 'Adidas', 'color': 'pink', 'size': '39'},\n",
       " {'brand': 'Adidas', 'color': 'pink', 'size': '39'},\n",
       " {'brand': 'Adidas', 'color': 'orange', 'size': '39'},\n",
       " {'brand': 'Adidas', 'color': 'orange', 'size': '40'},\n",
       " {'brand': 'Adidas', 'color': 'black', 'size': '40'},\n",
       " {'brand': 'Adidas', 'color': 'white', 'size': '40'},\n",
       " {'brand': 'Adidas', 'color': 'pink', 'size': '41'},\n",
       " {'brand': 'Adidas', 'color': 'black', 'size': '41'},\n",
       " {'brand': 'Adidas', 'color': 'black', 'size': '41'},\n",
       " {'brand': 'Adidas', 'color': 'pink', 'size': '41'},\n",
       " {'brand': 'Adidas', 'color': 'pink', 'size': '41'},\n",
       " {'brand': 'Adidas', 'color': 'black', 'size': '41'},\n",
       " {'brand': 'Adidas', 'color': 'orange', 'size': '42'},\n",
       " {'brand': 'Adidas', 'color': 'black', 'size': '42'},\n",
       " {'brand': 'Adidas', 'color': 'black', 'size': '42'},\n",
       " {'brand': 'Adidas', 'color': 'orange', 'size': '43'},\n",
       " {'brand': 'Adidas', 'color': 'pink', 'size': '44'},\n",
       " {'brand': 'New Balance', 'color': 'white', 'size': '35'},\n",
       " {'brand': 'New Balance', 'color': 'orange', 'size': '37'},\n",
       " {'brand': 'New Balance', 'color': 'orange', 'size': '38'},\n",
       " {'brand': 'New Balance', 'color': 'white', 'size': '38'},\n",
       " {'brand': 'New Balance', 'color': 'orange', 'size': '38'},\n",
       " {'brand': 'New Balance', 'color': 'orange', 'size': '39'},\n",
       " {'brand': 'New Balance', 'color': 'white', 'size': '39'},\n",
       " {'brand': 'New Balance', 'color': 'orange', 'size': '39'},\n",
       " {'brand': 'New Balance', 'color': 'pink', 'size': '39'},\n",
       " {'brand': 'New Balance', 'color': 'pink', 'size': '40'},\n",
       " {'brand': 'New Balance', 'color': 'orange', 'size': '40'},\n",
       " {'brand': 'New Balance', 'color': 'pink', 'size': '40'},\n",
       " {'brand': 'New Balance', 'color': 'orange', 'size': '40'},\n",
       " {'brand': 'New Balance', 'color': 'black', 'size': '40'},\n",
       " {'brand': 'New Balance', 'color': 'pink', 'size': '40'},\n",
       " {'brand': 'New Balance', 'color': 'black', 'size': '40'},\n",
       " {'brand': 'New Balance', 'color': 'pink', 'size': '40'},\n",
       " {'brand': 'New Balance', 'color': 'black', 'size': '40'},\n",
       " {'brand': 'New Balance', 'color': 'pink', 'size': '40'},\n",
       " {'brand': 'New Balance', 'color': 'orange', 'size': '40'},\n",
       " {'brand': 'New Balance', 'color': 'pink', 'size': '41'},\n",
       " {'brand': 'New Balance', 'color': 'pink', 'size': '41'},\n",
       " {'brand': 'New Balance', 'color': 'orange', 'size': '41'},\n",
       " {'brand': 'New Balance', 'color': 'orange', 'size': '41'},\n",
       " {'brand': 'New Balance', 'color': 'black', 'size': '43'},\n",
       " {'brand': 'New Balance', 'color': 'orange', 'size': '43'},\n",
       " {'brand': 'New Balance', 'color': 'black', 'size': '43'},\n",
       " {'brand': 'New Balance', 'color': 'orange', 'size': '44'},\n",
       " {'brand': 'New Balance', 'color': 'white', 'size': '44'},\n",
       " {'brand': 'New Balance', 'color': 'white', 'size': '44'},\n",
       " {'brand': 'Nike', 'color': 'black', 'size': '35'},\n",
       " {'brand': 'Nike', 'color': 'black', 'size': '35'},\n",
       " {'brand': 'Nike', 'color': 'black', 'size': '35'},\n",
       " {'brand': 'Nike', 'color': 'pink', 'size': '36'},\n",
       " {'brand': 'Nike', 'color': 'orange', 'size': '36'},\n",
       " {'brand': 'Nike', 'color': 'white', 'size': '37'},\n",
       " {'brand': 'Nike', 'color': 'white', 'size': '37'},\n",
       " {'brand': 'Nike', 'color': 'white', 'size': '37'},\n",
       " {'brand': 'Nike', 'color': 'pink', 'size': '38'},\n",
       " {'brand': 'Nike', 'color': 'orange', 'size': '38'},\n",
       " {'brand': 'Nike', 'color': 'orange', 'size': '38'},\n",
       " {'brand': 'Nike', 'color': 'black', 'size': '38'},\n",
       " {'brand': 'Nike', 'color': 'black', 'size': '38'},\n",
       " {'brand': 'Nike', 'color': 'white', 'size': '38'},\n",
       " {'brand': 'Nike', 'color': 'black', 'size': '39'},\n",
       " {'brand': 'Nike', 'color': 'orange', 'size': '39'},\n",
       " {'brand': 'Nike', 'color': 'pink', 'size': '40'},\n",
       " {'brand': 'Nike', 'color': 'pink', 'size': '40'},\n",
       " {'brand': 'Nike', 'color': 'orange', 'size': '40'},\n",
       " {'brand': 'Nike', 'color': 'pink', 'size': '40'},\n",
       " {'brand': 'Nike', 'color': 'black', 'size': '41'},\n",
       " {'brand': 'Nike', 'color': 'black', 'size': '41'},\n",
       " {'brand': 'Nike', 'color': 'pink', 'size': '41'},\n",
       " {'brand': 'Nike', 'color': 'black', 'size': '41'},\n",
       " {'brand': 'Nike', 'color': 'pink', 'size': '41'},\n",
       " {'brand': 'Nike', 'color': 'black', 'size': '42'},\n",
       " {'brand': 'Nike', 'color': 'black', 'size': '42'},\n",
       " {'brand': 'Nike', 'color': 'pink', 'size': '42'},\n",
       " {'brand': 'Nike', 'color': 'pink', 'size': '43'},\n",
       " {'brand': 'Nike', 'color': 'black', 'size': '43'},\n",
       " {'brand': 'Nike', 'color': 'black', 'size': '43'},\n",
       " {'brand': 'Nike', 'color': 'white', 'size': '44'},\n",
       " {'brand': 'Nike', 'color': 'pink', 'size': '44'},\n",
       " {'brand': 'Nike', 'color': 'pink', 'size': '44'},\n",
       " {'brand': 'Nike', 'color': 'white', 'size': '44'},\n",
       " {'brand': 'Nike', 'color': 'black', 'size': '44'}]"
      ]
     },
     "execution_count": 232,
     "metadata": {},
     "output_type": "execute_result"
    }
   ],
   "source": [
    "sorted(shoes, key=by_chosen_fields)"
   ]
  },
  {
   "cell_type": "code",
   "execution_count": 233,
   "id": "2892fef4-8b9c-4a14-925f-ff1081b84e64",
   "metadata": {
    "collapsed": true,
    "jupyter": {
     "outputs_hidden": true
    },
    "tags": []
   },
   "outputs": [
    {
     "data": {
      "text/plain": [
       "[{'brand': 'Nike', 'color': 'black', 'size': '35'},\n",
       " {'brand': 'Nike', 'color': 'black', 'size': '35'},\n",
       " {'brand': 'Nike', 'color': 'black', 'size': '35'},\n",
       " {'brand': 'Adidas', 'color': 'pink', 'size': '35'},\n",
       " {'brand': 'Adidas', 'color': 'pink', 'size': '35'},\n",
       " {'brand': 'Adidas', 'color': 'white', 'size': '35'},\n",
       " {'brand': 'New Balance', 'color': 'white', 'size': '35'},\n",
       " {'brand': 'Adidas', 'color': 'white', 'size': '35'},\n",
       " {'brand': 'Adidas', 'color': 'orange', 'size': '36'},\n",
       " {'brand': 'Nike', 'color': 'orange', 'size': '36'},\n",
       " {'brand': 'Nike', 'color': 'pink', 'size': '36'},\n",
       " {'brand': 'Adidas', 'color': 'pink', 'size': '36'},\n",
       " {'brand': 'Adidas', 'color': 'white', 'size': '36'},\n",
       " {'brand': 'Adidas', 'color': 'white', 'size': '36'},\n",
       " {'brand': 'Adidas', 'color': 'orange', 'size': '37'},\n",
       " {'brand': 'New Balance', 'color': 'orange', 'size': '37'},\n",
       " {'brand': 'Adidas', 'color': 'orange', 'size': '37'},\n",
       " {'brand': 'Adidas', 'color': 'orange', 'size': '37'},\n",
       " {'brand': 'Nike', 'color': 'white', 'size': '37'},\n",
       " {'brand': 'Nike', 'color': 'white', 'size': '37'},\n",
       " {'brand': 'Nike', 'color': 'white', 'size': '37'},\n",
       " {'brand': 'Adidas', 'color': 'black', 'size': '38'},\n",
       " {'brand': 'Nike', 'color': 'black', 'size': '38'},\n",
       " {'brand': 'Nike', 'color': 'black', 'size': '38'},\n",
       " {'brand': 'New Balance', 'color': 'orange', 'size': '38'},\n",
       " {'brand': 'Adidas', 'color': 'orange', 'size': '38'},\n",
       " {'brand': 'Nike', 'color': 'orange', 'size': '38'},\n",
       " {'brand': 'Nike', 'color': 'orange', 'size': '38'},\n",
       " {'brand': 'New Balance', 'color': 'orange', 'size': '38'},\n",
       " {'brand': 'Nike', 'color': 'pink', 'size': '38'},\n",
       " {'brand': 'New Balance', 'color': 'white', 'size': '38'},\n",
       " {'brand': 'Nike', 'color': 'white', 'size': '38'},\n",
       " {'brand': 'Adidas', 'color': 'black', 'size': '39'},\n",
       " {'brand': 'Adidas', 'color': 'black', 'size': '39'},\n",
       " {'brand': 'Adidas', 'color': 'black', 'size': '39'},\n",
       " {'brand': 'Nike', 'color': 'black', 'size': '39'},\n",
       " {'brand': 'New Balance', 'color': 'orange', 'size': '39'},\n",
       " {'brand': 'New Balance', 'color': 'orange', 'size': '39'},\n",
       " {'brand': 'Adidas', 'color': 'orange', 'size': '39'},\n",
       " {'brand': 'Nike', 'color': 'orange', 'size': '39'},\n",
       " {'brand': 'Adidas', 'color': 'pink', 'size': '39'},\n",
       " {'brand': 'Adidas', 'color': 'pink', 'size': '39'},\n",
       " {'brand': 'New Balance', 'color': 'pink', 'size': '39'},\n",
       " {'brand': 'New Balance', 'color': 'white', 'size': '39'},\n",
       " {'brand': 'Adidas', 'color': 'white', 'size': '39'},\n",
       " {'brand': 'New Balance', 'color': 'black', 'size': '40'},\n",
       " {'brand': 'Adidas', 'color': 'black', 'size': '40'},\n",
       " {'brand': 'New Balance', 'color': 'black', 'size': '40'},\n",
       " {'brand': 'New Balance', 'color': 'black', 'size': '40'},\n",
       " {'brand': 'Adidas', 'color': 'orange', 'size': '40'},\n",
       " {'brand': 'New Balance', 'color': 'orange', 'size': '40'},\n",
       " {'brand': 'New Balance', 'color': 'orange', 'size': '40'},\n",
       " {'brand': 'Nike', 'color': 'orange', 'size': '40'},\n",
       " {'brand': 'New Balance', 'color': 'orange', 'size': '40'},\n",
       " {'brand': 'New Balance', 'color': 'pink', 'size': '40'},\n",
       " {'brand': 'New Balance', 'color': 'pink', 'size': '40'},\n",
       " {'brand': 'Nike', 'color': 'pink', 'size': '40'},\n",
       " {'brand': 'Nike', 'color': 'pink', 'size': '40'},\n",
       " {'brand': 'New Balance', 'color': 'pink', 'size': '40'},\n",
       " {'brand': 'New Balance', 'color': 'pink', 'size': '40'},\n",
       " {'brand': 'Nike', 'color': 'pink', 'size': '40'},\n",
       " {'brand': 'New Balance', 'color': 'pink', 'size': '40'},\n",
       " {'brand': 'Adidas', 'color': 'white', 'size': '40'},\n",
       " {'brand': 'Nike', 'color': 'black', 'size': '41'},\n",
       " {'brand': 'Nike', 'color': 'black', 'size': '41'},\n",
       " {'brand': 'Adidas', 'color': 'black', 'size': '41'},\n",
       " {'brand': 'Adidas', 'color': 'black', 'size': '41'},\n",
       " {'brand': 'Nike', 'color': 'black', 'size': '41'},\n",
       " {'brand': 'Adidas', 'color': 'black', 'size': '41'},\n",
       " {'brand': 'New Balance', 'color': 'orange', 'size': '41'},\n",
       " {'brand': 'New Balance', 'color': 'orange', 'size': '41'},\n",
       " {'brand': 'New Balance', 'color': 'pink', 'size': '41'},\n",
       " {'brand': 'Adidas', 'color': 'pink', 'size': '41'},\n",
       " {'brand': 'Nike', 'color': 'pink', 'size': '41'},\n",
       " {'brand': 'New Balance', 'color': 'pink', 'size': '41'},\n",
       " {'brand': 'Adidas', 'color': 'pink', 'size': '41'},\n",
       " {'brand': 'Adidas', 'color': 'pink', 'size': '41'},\n",
       " {'brand': 'Nike', 'color': 'pink', 'size': '41'},\n",
       " {'brand': 'Nike', 'color': 'black', 'size': '42'},\n",
       " {'brand': 'Nike', 'color': 'black', 'size': '42'},\n",
       " {'brand': 'Adidas', 'color': 'black', 'size': '42'},\n",
       " {'brand': 'Adidas', 'color': 'black', 'size': '42'},\n",
       " {'brand': 'Adidas', 'color': 'orange', 'size': '42'},\n",
       " {'brand': 'Nike', 'color': 'pink', 'size': '42'},\n",
       " {'brand': 'New Balance', 'color': 'black', 'size': '43'},\n",
       " {'brand': 'Nike', 'color': 'black', 'size': '43'},\n",
       " {'brand': 'Nike', 'color': 'black', 'size': '43'},\n",
       " {'brand': 'New Balance', 'color': 'black', 'size': '43'},\n",
       " {'brand': 'Adidas', 'color': 'orange', 'size': '43'},\n",
       " {'brand': 'New Balance', 'color': 'orange', 'size': '43'},\n",
       " {'brand': 'Nike', 'color': 'pink', 'size': '43'},\n",
       " {'brand': 'Nike', 'color': 'black', 'size': '44'},\n",
       " {'brand': 'New Balance', 'color': 'orange', 'size': '44'},\n",
       " {'brand': 'Nike', 'color': 'pink', 'size': '44'},\n",
       " {'brand': 'Adidas', 'color': 'pink', 'size': '44'},\n",
       " {'brand': 'Nike', 'color': 'pink', 'size': '44'},\n",
       " {'brand': 'Nike', 'color': 'white', 'size': '44'},\n",
       " {'brand': 'New Balance', 'color': 'white', 'size': '44'},\n",
       " {'brand': 'Nike', 'color': 'white', 'size': '44'},\n",
       " {'brand': 'New Balance', 'color': 'white', 'size': '44'}]"
      ]
     },
     "execution_count": 233,
     "metadata": {},
     "output_type": "execute_result"
    }
   ],
   "source": [
    "sort_by = ['size', 'color']\n",
    "\n",
    "sorted(shoes, key=by_chosen_fields)"
   ]
  },
  {
   "cell_type": "code",
   "execution_count": 234,
   "id": "09d26979-c0c6-40f1-9231-1ad0f471d9a5",
   "metadata": {
    "collapsed": true,
    "jupyter": {
     "outputs_hidden": true
    },
    "tags": []
   },
   "outputs": [
    {
     "name": "stdin",
     "output_type": "stream",
     "text": [
      "Enter sort field(s):  color brand\n"
     ]
    },
    {
     "data": {
      "text/plain": [
       "[{'brand': 'Adidas', 'color': 'black', 'size': '39'},\n",
       " {'brand': 'Adidas', 'color': 'black', 'size': '38'},\n",
       " {'brand': 'Adidas', 'color': 'black', 'size': '41'},\n",
       " {'brand': 'Adidas', 'color': 'black', 'size': '41'},\n",
       " {'brand': 'Adidas', 'color': 'black', 'size': '39'},\n",
       " {'brand': 'Adidas', 'color': 'black', 'size': '40'},\n",
       " {'brand': 'Adidas', 'color': 'black', 'size': '39'},\n",
       " {'brand': 'Adidas', 'color': 'black', 'size': '41'},\n",
       " {'brand': 'Adidas', 'color': 'black', 'size': '42'},\n",
       " {'brand': 'Adidas', 'color': 'black', 'size': '42'},\n",
       " {'brand': 'New Balance', 'color': 'black', 'size': '43'},\n",
       " {'brand': 'New Balance', 'color': 'black', 'size': '40'},\n",
       " {'brand': 'New Balance', 'color': 'black', 'size': '40'},\n",
       " {'brand': 'New Balance', 'color': 'black', 'size': '40'},\n",
       " {'brand': 'New Balance', 'color': 'black', 'size': '43'},\n",
       " {'brand': 'Nike', 'color': 'black', 'size': '41'},\n",
       " {'brand': 'Nike', 'color': 'black', 'size': '41'},\n",
       " {'brand': 'Nike', 'color': 'black', 'size': '43'},\n",
       " {'brand': 'Nike', 'color': 'black', 'size': '42'},\n",
       " {'brand': 'Nike', 'color': 'black', 'size': '35'},\n",
       " {'brand': 'Nike', 'color': 'black', 'size': '43'},\n",
       " {'brand': 'Nike', 'color': 'black', 'size': '42'},\n",
       " {'brand': 'Nike', 'color': 'black', 'size': '35'},\n",
       " {'brand': 'Nike', 'color': 'black', 'size': '41'},\n",
       " {'brand': 'Nike', 'color': 'black', 'size': '39'},\n",
       " {'brand': 'Nike', 'color': 'black', 'size': '38'},\n",
       " {'brand': 'Nike', 'color': 'black', 'size': '44'},\n",
       " {'brand': 'Nike', 'color': 'black', 'size': '38'},\n",
       " {'brand': 'Nike', 'color': 'black', 'size': '35'},\n",
       " {'brand': 'Adidas', 'color': 'orange', 'size': '43'},\n",
       " {'brand': 'Adidas', 'color': 'orange', 'size': '37'},\n",
       " {'brand': 'Adidas', 'color': 'orange', 'size': '36'},\n",
       " {'brand': 'Adidas', 'color': 'orange', 'size': '40'},\n",
       " {'brand': 'Adidas', 'color': 'orange', 'size': '38'},\n",
       " {'brand': 'Adidas', 'color': 'orange', 'size': '37'},\n",
       " {'brand': 'Adidas', 'color': 'orange', 'size': '42'},\n",
       " {'brand': 'Adidas', 'color': 'orange', 'size': '39'},\n",
       " {'brand': 'Adidas', 'color': 'orange', 'size': '37'},\n",
       " {'brand': 'New Balance', 'color': 'orange', 'size': '38'},\n",
       " {'brand': 'New Balance', 'color': 'orange', 'size': '39'},\n",
       " {'brand': 'New Balance', 'color': 'orange', 'size': '44'},\n",
       " {'brand': 'New Balance', 'color': 'orange', 'size': '37'},\n",
       " {'brand': 'New Balance', 'color': 'orange', 'size': '41'},\n",
       " {'brand': 'New Balance', 'color': 'orange', 'size': '40'},\n",
       " {'brand': 'New Balance', 'color': 'orange', 'size': '40'},\n",
       " {'brand': 'New Balance', 'color': 'orange', 'size': '39'},\n",
       " {'brand': 'New Balance', 'color': 'orange', 'size': '41'},\n",
       " {'brand': 'New Balance', 'color': 'orange', 'size': '43'},\n",
       " {'brand': 'New Balance', 'color': 'orange', 'size': '38'},\n",
       " {'brand': 'New Balance', 'color': 'orange', 'size': '40'},\n",
       " {'brand': 'Nike', 'color': 'orange', 'size': '38'},\n",
       " {'brand': 'Nike', 'color': 'orange', 'size': '38'},\n",
       " {'brand': 'Nike', 'color': 'orange', 'size': '40'},\n",
       " {'brand': 'Nike', 'color': 'orange', 'size': '36'},\n",
       " {'brand': 'Nike', 'color': 'orange', 'size': '39'},\n",
       " {'brand': 'Adidas', 'color': 'pink', 'size': '44'},\n",
       " {'brand': 'Adidas', 'color': 'pink', 'size': '41'},\n",
       " {'brand': 'Adidas', 'color': 'pink', 'size': '35'},\n",
       " {'brand': 'Adidas', 'color': 'pink', 'size': '35'},\n",
       " {'brand': 'Adidas', 'color': 'pink', 'size': '39'},\n",
       " {'brand': 'Adidas', 'color': 'pink', 'size': '41'},\n",
       " {'brand': 'Adidas', 'color': 'pink', 'size': '39'},\n",
       " {'brand': 'Adidas', 'color': 'pink', 'size': '41'},\n",
       " {'brand': 'Adidas', 'color': 'pink', 'size': '36'},\n",
       " {'brand': 'New Balance', 'color': 'pink', 'size': '41'},\n",
       " {'brand': 'New Balance', 'color': 'pink', 'size': '40'},\n",
       " {'brand': 'New Balance', 'color': 'pink', 'size': '41'},\n",
       " {'brand': 'New Balance', 'color': 'pink', 'size': '40'},\n",
       " {'brand': 'New Balance', 'color': 'pink', 'size': '40'},\n",
       " {'brand': 'New Balance', 'color': 'pink', 'size': '40'},\n",
       " {'brand': 'New Balance', 'color': 'pink', 'size': '40'},\n",
       " {'brand': 'New Balance', 'color': 'pink', 'size': '39'},\n",
       " {'brand': 'Nike', 'color': 'pink', 'size': '44'},\n",
       " {'brand': 'Nike', 'color': 'pink', 'size': '41'},\n",
       " {'brand': 'Nike', 'color': 'pink', 'size': '43'},\n",
       " {'brand': 'Nike', 'color': 'pink', 'size': '36'},\n",
       " {'brand': 'Nike', 'color': 'pink', 'size': '44'},\n",
       " {'brand': 'Nike', 'color': 'pink', 'size': '38'},\n",
       " {'brand': 'Nike', 'color': 'pink', 'size': '40'},\n",
       " {'brand': 'Nike', 'color': 'pink', 'size': '40'},\n",
       " {'brand': 'Nike', 'color': 'pink', 'size': '40'},\n",
       " {'brand': 'Nike', 'color': 'pink', 'size': '41'},\n",
       " {'brand': 'Nike', 'color': 'pink', 'size': '42'},\n",
       " {'brand': 'Adidas', 'color': 'white', 'size': '36'},\n",
       " {'brand': 'Adidas', 'color': 'white', 'size': '35'},\n",
       " {'brand': 'Adidas', 'color': 'white', 'size': '39'},\n",
       " {'brand': 'Adidas', 'color': 'white', 'size': '36'},\n",
       " {'brand': 'Adidas', 'color': 'white', 'size': '40'},\n",
       " {'brand': 'Adidas', 'color': 'white', 'size': '35'},\n",
       " {'brand': 'New Balance', 'color': 'white', 'size': '44'},\n",
       " {'brand': 'New Balance', 'color': 'white', 'size': '39'},\n",
       " {'brand': 'New Balance', 'color': 'white', 'size': '35'},\n",
       " {'brand': 'New Balance', 'color': 'white', 'size': '38'},\n",
       " {'brand': 'New Balance', 'color': 'white', 'size': '44'},\n",
       " {'brand': 'Nike', 'color': 'white', 'size': '44'},\n",
       " {'brand': 'Nike', 'color': 'white', 'size': '37'},\n",
       " {'brand': 'Nike', 'color': 'white', 'size': '37'},\n",
       " {'brand': 'Nike', 'color': 'white', 'size': '44'},\n",
       " {'brand': 'Nike', 'color': 'white', 'size': '37'},\n",
       " {'brand': 'Nike', 'color': 'white', 'size': '38'}]"
      ]
     },
     "execution_count": 234,
     "metadata": {},
     "output_type": "execute_result"
    }
   ],
   "source": [
    "sort_by = input('Enter sort field(s): ').split()\n",
    "\n",
    "def by_chosen_fields(sort_by):\n",
    "    def inner(shoe_dict):\n",
    "        output = []\n",
    "        for one_field in sort_by:\n",
    "            output.append(shoe_dict[one_field])\n",
    "        return output\n",
    "    return inner\n",
    "\n",
    "sorted(shoes, key=by_chosen_fields(sort_by))"
   ]
  },
  {
   "cell_type": "code",
   "execution_count": 236,
   "id": "03fb2bba-587d-45c4-95b1-adb882b41508",
   "metadata": {
    "collapsed": true,
    "jupyter": {
     "outputs_hidden": true
    },
    "tags": []
   },
   "outputs": [
    {
     "name": "stdin",
     "output_type": "stream",
     "text": [
      "Enter sort field(s):  brand color\n"
     ]
    },
    {
     "data": {
      "text/plain": [
       "[{'brand': 'Adidas', 'color': 'black', 'size': '39'},\n",
       " {'brand': 'Adidas', 'color': 'black', 'size': '38'},\n",
       " {'brand': 'Adidas', 'color': 'black', 'size': '41'},\n",
       " {'brand': 'Adidas', 'color': 'black', 'size': '41'},\n",
       " {'brand': 'Adidas', 'color': 'black', 'size': '39'},\n",
       " {'brand': 'Adidas', 'color': 'black', 'size': '40'},\n",
       " {'brand': 'Adidas', 'color': 'black', 'size': '39'},\n",
       " {'brand': 'Adidas', 'color': 'black', 'size': '41'},\n",
       " {'brand': 'Adidas', 'color': 'black', 'size': '42'},\n",
       " {'brand': 'Adidas', 'color': 'black', 'size': '42'},\n",
       " {'brand': 'Adidas', 'color': 'orange', 'size': '43'},\n",
       " {'brand': 'Adidas', 'color': 'orange', 'size': '37'},\n",
       " {'brand': 'Adidas', 'color': 'orange', 'size': '36'},\n",
       " {'brand': 'Adidas', 'color': 'orange', 'size': '40'},\n",
       " {'brand': 'Adidas', 'color': 'orange', 'size': '38'},\n",
       " {'brand': 'Adidas', 'color': 'orange', 'size': '37'},\n",
       " {'brand': 'Adidas', 'color': 'orange', 'size': '42'},\n",
       " {'brand': 'Adidas', 'color': 'orange', 'size': '39'},\n",
       " {'brand': 'Adidas', 'color': 'orange', 'size': '37'},\n",
       " {'brand': 'Adidas', 'color': 'pink', 'size': '44'},\n",
       " {'brand': 'Adidas', 'color': 'pink', 'size': '41'},\n",
       " {'brand': 'Adidas', 'color': 'pink', 'size': '35'},\n",
       " {'brand': 'Adidas', 'color': 'pink', 'size': '35'},\n",
       " {'brand': 'Adidas', 'color': 'pink', 'size': '39'},\n",
       " {'brand': 'Adidas', 'color': 'pink', 'size': '41'},\n",
       " {'brand': 'Adidas', 'color': 'pink', 'size': '39'},\n",
       " {'brand': 'Adidas', 'color': 'pink', 'size': '41'},\n",
       " {'brand': 'Adidas', 'color': 'pink', 'size': '36'},\n",
       " {'brand': 'Adidas', 'color': 'white', 'size': '36'},\n",
       " {'brand': 'Adidas', 'color': 'white', 'size': '35'},\n",
       " {'brand': 'Adidas', 'color': 'white', 'size': '39'},\n",
       " {'brand': 'Adidas', 'color': 'white', 'size': '36'},\n",
       " {'brand': 'Adidas', 'color': 'white', 'size': '40'},\n",
       " {'brand': 'Adidas', 'color': 'white', 'size': '35'},\n",
       " {'brand': 'New Balance', 'color': 'black', 'size': '43'},\n",
       " {'brand': 'New Balance', 'color': 'black', 'size': '40'},\n",
       " {'brand': 'New Balance', 'color': 'black', 'size': '40'},\n",
       " {'brand': 'New Balance', 'color': 'black', 'size': '40'},\n",
       " {'brand': 'New Balance', 'color': 'black', 'size': '43'},\n",
       " {'brand': 'New Balance', 'color': 'orange', 'size': '38'},\n",
       " {'brand': 'New Balance', 'color': 'orange', 'size': '39'},\n",
       " {'brand': 'New Balance', 'color': 'orange', 'size': '44'},\n",
       " {'brand': 'New Balance', 'color': 'orange', 'size': '37'},\n",
       " {'brand': 'New Balance', 'color': 'orange', 'size': '41'},\n",
       " {'brand': 'New Balance', 'color': 'orange', 'size': '40'},\n",
       " {'brand': 'New Balance', 'color': 'orange', 'size': '40'},\n",
       " {'brand': 'New Balance', 'color': 'orange', 'size': '39'},\n",
       " {'brand': 'New Balance', 'color': 'orange', 'size': '41'},\n",
       " {'brand': 'New Balance', 'color': 'orange', 'size': '43'},\n",
       " {'brand': 'New Balance', 'color': 'orange', 'size': '38'},\n",
       " {'brand': 'New Balance', 'color': 'orange', 'size': '40'},\n",
       " {'brand': 'New Balance', 'color': 'pink', 'size': '41'},\n",
       " {'brand': 'New Balance', 'color': 'pink', 'size': '40'},\n",
       " {'brand': 'New Balance', 'color': 'pink', 'size': '41'},\n",
       " {'brand': 'New Balance', 'color': 'pink', 'size': '40'},\n",
       " {'brand': 'New Balance', 'color': 'pink', 'size': '40'},\n",
       " {'brand': 'New Balance', 'color': 'pink', 'size': '40'},\n",
       " {'brand': 'New Balance', 'color': 'pink', 'size': '40'},\n",
       " {'brand': 'New Balance', 'color': 'pink', 'size': '39'},\n",
       " {'brand': 'New Balance', 'color': 'white', 'size': '44'},\n",
       " {'brand': 'New Balance', 'color': 'white', 'size': '39'},\n",
       " {'brand': 'New Balance', 'color': 'white', 'size': '35'},\n",
       " {'brand': 'New Balance', 'color': 'white', 'size': '38'},\n",
       " {'brand': 'New Balance', 'color': 'white', 'size': '44'},\n",
       " {'brand': 'Nike', 'color': 'black', 'size': '41'},\n",
       " {'brand': 'Nike', 'color': 'black', 'size': '41'},\n",
       " {'brand': 'Nike', 'color': 'black', 'size': '43'},\n",
       " {'brand': 'Nike', 'color': 'black', 'size': '42'},\n",
       " {'brand': 'Nike', 'color': 'black', 'size': '35'},\n",
       " {'brand': 'Nike', 'color': 'black', 'size': '43'},\n",
       " {'brand': 'Nike', 'color': 'black', 'size': '42'},\n",
       " {'brand': 'Nike', 'color': 'black', 'size': '35'},\n",
       " {'brand': 'Nike', 'color': 'black', 'size': '41'},\n",
       " {'brand': 'Nike', 'color': 'black', 'size': '39'},\n",
       " {'brand': 'Nike', 'color': 'black', 'size': '38'},\n",
       " {'brand': 'Nike', 'color': 'black', 'size': '44'},\n",
       " {'brand': 'Nike', 'color': 'black', 'size': '38'},\n",
       " {'brand': 'Nike', 'color': 'black', 'size': '35'},\n",
       " {'brand': 'Nike', 'color': 'orange', 'size': '38'},\n",
       " {'brand': 'Nike', 'color': 'orange', 'size': '38'},\n",
       " {'brand': 'Nike', 'color': 'orange', 'size': '40'},\n",
       " {'brand': 'Nike', 'color': 'orange', 'size': '36'},\n",
       " {'brand': 'Nike', 'color': 'orange', 'size': '39'},\n",
       " {'brand': 'Nike', 'color': 'pink', 'size': '44'},\n",
       " {'brand': 'Nike', 'color': 'pink', 'size': '41'},\n",
       " {'brand': 'Nike', 'color': 'pink', 'size': '43'},\n",
       " {'brand': 'Nike', 'color': 'pink', 'size': '36'},\n",
       " {'brand': 'Nike', 'color': 'pink', 'size': '44'},\n",
       " {'brand': 'Nike', 'color': 'pink', 'size': '38'},\n",
       " {'brand': 'Nike', 'color': 'pink', 'size': '40'},\n",
       " {'brand': 'Nike', 'color': 'pink', 'size': '40'},\n",
       " {'brand': 'Nike', 'color': 'pink', 'size': '40'},\n",
       " {'brand': 'Nike', 'color': 'pink', 'size': '41'},\n",
       " {'brand': 'Nike', 'color': 'pink', 'size': '42'},\n",
       " {'brand': 'Nike', 'color': 'white', 'size': '44'},\n",
       " {'brand': 'Nike', 'color': 'white', 'size': '37'},\n",
       " {'brand': 'Nike', 'color': 'white', 'size': '37'},\n",
       " {'brand': 'Nike', 'color': 'white', 'size': '44'},\n",
       " {'brand': 'Nike', 'color': 'white', 'size': '37'},\n",
       " {'brand': 'Nike', 'color': 'white', 'size': '38'}]"
      ]
     },
     "execution_count": 236,
     "metadata": {},
     "output_type": "execute_result"
    }
   ],
   "source": [
    "sort_by = input('Enter sort field(s): ').split()\n",
    "\n",
    "def by_chosen_fields(*sort_fields):\n",
    "    def inner(shoe_dict):\n",
    "        return [shoe_dict[one_field]\n",
    "                for one_field in sort_fields]\n",
    "    return inner\n",
    "\n",
    "sorted(shoes, key=by_chosen_fields(*sort_by))"
   ]
  },
  {
   "cell_type": "code",
   "execution_count": null,
   "id": "43fba9f7-2107-4838-9c29-d32f48d22821",
   "metadata": {},
   "outputs": [],
   "source": [
    "by_chosen_fields('brand', 'color')  # previously, we had to say by_chosen_fields(['brand', 'color'])"
   ]
  },
  {
   "cell_type": "code",
   "execution_count": 237,
   "id": "eb5dd4ca-37d4-4c1f-bc79-35ca1c9d858c",
   "metadata": {
    "collapsed": true,
    "jupyter": {
     "outputs_hidden": true
    },
    "tags": []
   },
   "outputs": [
    {
     "data": {
      "text/plain": [
       "[{'brand': 'Adidas', 'color': 'black', 'size': '39'},\n",
       " {'brand': 'Adidas', 'color': 'black', 'size': '38'},\n",
       " {'brand': 'Adidas', 'color': 'black', 'size': '41'},\n",
       " {'brand': 'Adidas', 'color': 'black', 'size': '41'},\n",
       " {'brand': 'Adidas', 'color': 'black', 'size': '39'},\n",
       " {'brand': 'Adidas', 'color': 'black', 'size': '40'},\n",
       " {'brand': 'Adidas', 'color': 'black', 'size': '39'},\n",
       " {'brand': 'Adidas', 'color': 'black', 'size': '41'},\n",
       " {'brand': 'Adidas', 'color': 'black', 'size': '42'},\n",
       " {'brand': 'Adidas', 'color': 'black', 'size': '42'},\n",
       " {'brand': 'Adidas', 'color': 'orange', 'size': '43'},\n",
       " {'brand': 'Adidas', 'color': 'orange', 'size': '37'},\n",
       " {'brand': 'Adidas', 'color': 'orange', 'size': '36'},\n",
       " {'brand': 'Adidas', 'color': 'orange', 'size': '40'},\n",
       " {'brand': 'Adidas', 'color': 'orange', 'size': '38'},\n",
       " {'brand': 'Adidas', 'color': 'orange', 'size': '37'},\n",
       " {'brand': 'Adidas', 'color': 'orange', 'size': '42'},\n",
       " {'brand': 'Adidas', 'color': 'orange', 'size': '39'},\n",
       " {'brand': 'Adidas', 'color': 'orange', 'size': '37'},\n",
       " {'brand': 'Adidas', 'color': 'pink', 'size': '44'},\n",
       " {'brand': 'Adidas', 'color': 'pink', 'size': '41'},\n",
       " {'brand': 'Adidas', 'color': 'pink', 'size': '35'},\n",
       " {'brand': 'Adidas', 'color': 'pink', 'size': '35'},\n",
       " {'brand': 'Adidas', 'color': 'pink', 'size': '39'},\n",
       " {'brand': 'Adidas', 'color': 'pink', 'size': '41'},\n",
       " {'brand': 'Adidas', 'color': 'pink', 'size': '39'},\n",
       " {'brand': 'Adidas', 'color': 'pink', 'size': '41'},\n",
       " {'brand': 'Adidas', 'color': 'pink', 'size': '36'},\n",
       " {'brand': 'Adidas', 'color': 'white', 'size': '36'},\n",
       " {'brand': 'Adidas', 'color': 'white', 'size': '35'},\n",
       " {'brand': 'Adidas', 'color': 'white', 'size': '39'},\n",
       " {'brand': 'Adidas', 'color': 'white', 'size': '36'},\n",
       " {'brand': 'Adidas', 'color': 'white', 'size': '40'},\n",
       " {'brand': 'Adidas', 'color': 'white', 'size': '35'},\n",
       " {'brand': 'New Balance', 'color': 'black', 'size': '43'},\n",
       " {'brand': 'New Balance', 'color': 'black', 'size': '40'},\n",
       " {'brand': 'New Balance', 'color': 'black', 'size': '40'},\n",
       " {'brand': 'New Balance', 'color': 'black', 'size': '40'},\n",
       " {'brand': 'New Balance', 'color': 'black', 'size': '43'},\n",
       " {'brand': 'New Balance', 'color': 'orange', 'size': '38'},\n",
       " {'brand': 'New Balance', 'color': 'orange', 'size': '39'},\n",
       " {'brand': 'New Balance', 'color': 'orange', 'size': '44'},\n",
       " {'brand': 'New Balance', 'color': 'orange', 'size': '37'},\n",
       " {'brand': 'New Balance', 'color': 'orange', 'size': '41'},\n",
       " {'brand': 'New Balance', 'color': 'orange', 'size': '40'},\n",
       " {'brand': 'New Balance', 'color': 'orange', 'size': '40'},\n",
       " {'brand': 'New Balance', 'color': 'orange', 'size': '39'},\n",
       " {'brand': 'New Balance', 'color': 'orange', 'size': '41'},\n",
       " {'brand': 'New Balance', 'color': 'orange', 'size': '43'},\n",
       " {'brand': 'New Balance', 'color': 'orange', 'size': '38'},\n",
       " {'brand': 'New Balance', 'color': 'orange', 'size': '40'},\n",
       " {'brand': 'New Balance', 'color': 'pink', 'size': '41'},\n",
       " {'brand': 'New Balance', 'color': 'pink', 'size': '40'},\n",
       " {'brand': 'New Balance', 'color': 'pink', 'size': '41'},\n",
       " {'brand': 'New Balance', 'color': 'pink', 'size': '40'},\n",
       " {'brand': 'New Balance', 'color': 'pink', 'size': '40'},\n",
       " {'brand': 'New Balance', 'color': 'pink', 'size': '40'},\n",
       " {'brand': 'New Balance', 'color': 'pink', 'size': '40'},\n",
       " {'brand': 'New Balance', 'color': 'pink', 'size': '39'},\n",
       " {'brand': 'New Balance', 'color': 'white', 'size': '44'},\n",
       " {'brand': 'New Balance', 'color': 'white', 'size': '39'},\n",
       " {'brand': 'New Balance', 'color': 'white', 'size': '35'},\n",
       " {'brand': 'New Balance', 'color': 'white', 'size': '38'},\n",
       " {'brand': 'New Balance', 'color': 'white', 'size': '44'},\n",
       " {'brand': 'Nike', 'color': 'black', 'size': '41'},\n",
       " {'brand': 'Nike', 'color': 'black', 'size': '41'},\n",
       " {'brand': 'Nike', 'color': 'black', 'size': '43'},\n",
       " {'brand': 'Nike', 'color': 'black', 'size': '42'},\n",
       " {'brand': 'Nike', 'color': 'black', 'size': '35'},\n",
       " {'brand': 'Nike', 'color': 'black', 'size': '43'},\n",
       " {'brand': 'Nike', 'color': 'black', 'size': '42'},\n",
       " {'brand': 'Nike', 'color': 'black', 'size': '35'},\n",
       " {'brand': 'Nike', 'color': 'black', 'size': '41'},\n",
       " {'brand': 'Nike', 'color': 'black', 'size': '39'},\n",
       " {'brand': 'Nike', 'color': 'black', 'size': '38'},\n",
       " {'brand': 'Nike', 'color': 'black', 'size': '44'},\n",
       " {'brand': 'Nike', 'color': 'black', 'size': '38'},\n",
       " {'brand': 'Nike', 'color': 'black', 'size': '35'},\n",
       " {'brand': 'Nike', 'color': 'orange', 'size': '38'},\n",
       " {'brand': 'Nike', 'color': 'orange', 'size': '38'},\n",
       " {'brand': 'Nike', 'color': 'orange', 'size': '40'},\n",
       " {'brand': 'Nike', 'color': 'orange', 'size': '36'},\n",
       " {'brand': 'Nike', 'color': 'orange', 'size': '39'},\n",
       " {'brand': 'Nike', 'color': 'pink', 'size': '44'},\n",
       " {'brand': 'Nike', 'color': 'pink', 'size': '41'},\n",
       " {'brand': 'Nike', 'color': 'pink', 'size': '43'},\n",
       " {'brand': 'Nike', 'color': 'pink', 'size': '36'},\n",
       " {'brand': 'Nike', 'color': 'pink', 'size': '44'},\n",
       " {'brand': 'Nike', 'color': 'pink', 'size': '38'},\n",
       " {'brand': 'Nike', 'color': 'pink', 'size': '40'},\n",
       " {'brand': 'Nike', 'color': 'pink', 'size': '40'},\n",
       " {'brand': 'Nike', 'color': 'pink', 'size': '40'},\n",
       " {'brand': 'Nike', 'color': 'pink', 'size': '41'},\n",
       " {'brand': 'Nike', 'color': 'pink', 'size': '42'},\n",
       " {'brand': 'Nike', 'color': 'white', 'size': '44'},\n",
       " {'brand': 'Nike', 'color': 'white', 'size': '37'},\n",
       " {'brand': 'Nike', 'color': 'white', 'size': '37'},\n",
       " {'brand': 'Nike', 'color': 'white', 'size': '44'},\n",
       " {'brand': 'Nike', 'color': 'white', 'size': '37'},\n",
       " {'brand': 'Nike', 'color': 'white', 'size': '38'}]"
      ]
     },
     "execution_count": 237,
     "metadata": {},
     "output_type": "execute_result"
    }
   ],
   "source": [
    "import operator\n",
    "\n",
    "sorted(shoes, key=operator.itemgetter(*sort_by))"
   ]
  },
  {
   "cell_type": "code",
   "execution_count": 238,
   "id": "134affe9-09e1-45df-b692-c7df1dd50bdd",
   "metadata": {},
   "outputs": [],
   "source": [
    "def apply_to_filenames(func, *filenames):\n",
    "    return { one_filename : func(one_filename)\n",
    "             for one_filename in filenames }"
   ]
  },
  {
   "cell_type": "code",
   "execution_count": 239,
   "id": "cdbb8892-6a67-4d64-b822-7b226ee2c879",
   "metadata": {},
   "outputs": [],
   "source": [
    "def file_vowel_count(filename):\n",
    "    total = 0\n",
    "    for one_line in open(filename):\n",
    "        for one_character in one_line.lower():\n",
    "            if one_character in 'aeiou':\n",
    "                total += 1\n",
    "    return total"
   ]
  },
  {
   "cell_type": "code",
   "execution_count": 240,
   "id": "23c412b2-27a2-45a4-9d72-a240b88313ef",
   "metadata": {},
   "outputs": [
    {
     "name": "stdout",
     "output_type": "stream",
     "text": [
      "linux-etc-passwd.txt  myconfig.txt  outfile.txt\n",
      "mini-access-log.txt   nums.txt\t    shoe-data.txt\n"
     ]
    }
   ],
   "source": [
    "!ls *.txt"
   ]
  },
  {
   "cell_type": "code",
   "execution_count": 241,
   "id": "fcb2217b-1e13-4078-a974-1a4e4415ea5f",
   "metadata": {},
   "outputs": [
    {
     "data": {
      "text/plain": [
       "{'myconfig.txt': 1,\n",
       " 'outfile.txt': 5000,\n",
       " 'shoe-data.txt': 463,\n",
       " 'mini-access-log.txt': 5000}"
      ]
     },
     "execution_count": 241,
     "metadata": {},
     "output_type": "execute_result"
    }
   ],
   "source": [
    "apply_to_filenames(file_vowel_count, \n",
    "                   'myconfig.txt', 'outfile.txt', 'shoe-data.txt', 'mini-access-log.txt')"
   ]
  },
  {
   "cell_type": "code",
   "execution_count": 244,
   "id": "4d188a9e-0600-44dc-af59-b94c274595a6",
   "metadata": {},
   "outputs": [
    {
     "data": {
      "text/plain": [
       "['myconfig.txt',\n",
       " 'mini-access-log.txt',\n",
       " '.DS_Store',\n",
       " 'movies.dat',\n",
       " 'nums.txt',\n",
       " 'advanced-exercise-files.zip',\n",
       " 'old.ipynb',\n",
       " 'shoe-data.txt',\n",
       " 'outfile.txt',\n",
       " 'linux-etc-passwd.txt',\n",
       " '2021-Nov-09.ipynb',\n",
       " '2021-Nov-08.html',\n",
       " 'cisco-2021-11Nov-08.zip',\n",
       " 'old.html',\n",
       " '.ipynb_checkpoints',\n",
       " 'taxi.csv',\n",
       " '2021-Nov-08.ipynb',\n",
       " '.git']"
      ]
     },
     "execution_count": 244,
     "metadata": {},
     "output_type": "execute_result"
    }
   ],
   "source": [
    "import os\n",
    "os.listdir('.')"
   ]
  },
  {
   "cell_type": "code",
   "execution_count": 246,
   "id": "700c1a55-9e6c-48ae-b720-e0eb1c02c572",
   "metadata": {},
   "outputs": [
    {
     "data": {
      "text/plain": [
       "['myconfig.txt',\n",
       " 'mini-access-log.txt',\n",
       " 'nums.txt',\n",
       " 'shoe-data.txt',\n",
       " 'outfile.txt',\n",
       " 'linux-etc-passwd.txt']"
      ]
     },
     "execution_count": 246,
     "metadata": {},
     "output_type": "execute_result"
    }
   ],
   "source": [
    "import glob  # pattern matching we are used to in the shell\n",
    "glob.glob('*.txt')"
   ]
  },
  {
   "cell_type": "code",
   "execution_count": 248,
   "id": "4c1cb777-8bf6-41ae-9c28-cd5914ea09a2",
   "metadata": {},
   "outputs": [
    {
     "data": {
      "text/plain": [
       "{'myconfig.txt': 1,\n",
       " 'mini-access-log.txt': 5000,\n",
       " 'nums.txt': 0,\n",
       " 'shoe-data.txt': 463,\n",
       " 'outfile.txt': 5000,\n",
       " 'linux-etc-passwd.txt': 583}"
      ]
     },
     "execution_count": 248,
     "metadata": {},
     "output_type": "execute_result"
    }
   ],
   "source": [
    "# I want to use apply_to_filenames with file_vowel_count on the output from glob.glob('*.txt')\n",
    "# glob.glob returns a list -- we remove the square brackets, or unravel it, with * before the call\n",
    "\n",
    "apply_to_filenames(file_vowel_count, *glob.glob('*.txt'))"
   ]
  },
  {
   "cell_type": "markdown",
   "id": "03f13874-1b7f-4052-9a16-7c9baba14b4e",
   "metadata": {},
   "source": [
    "# Next up\n",
    "\n",
    "- `lambda` and friends\n",
    "- Modules"
   ]
  },
  {
   "cell_type": "code",
   "execution_count": 249,
   "id": "083a8357-1a96-4494-98b1-0938ab586fe9",
   "metadata": {},
   "outputs": [],
   "source": [
    "# Return at :15"
   ]
  },
  {
   "cell_type": "code",
   "execution_count": 250,
   "id": "7f4ef22c-9d44-470d-b191-bb5c51abd23c",
   "metadata": {},
   "outputs": [],
   "source": [
    "def square(x):\n",
    "    return x ** 2"
   ]
  },
  {
   "cell_type": "code",
   "execution_count": 251,
   "id": "deab1969-31ef-43a6-a3ec-6715c925cf92",
   "metadata": {},
   "outputs": [
    {
     "data": {
      "text/plain": [
       "25"
      ]
     },
     "execution_count": 251,
     "metadata": {},
     "output_type": "execute_result"
    }
   ],
   "source": [
    "square(5)"
   ]
  },
  {
   "cell_type": "code",
   "execution_count": 252,
   "id": "0ec49385-bda8-4f08-9c18-b8bf83a83137",
   "metadata": {},
   "outputs": [],
   "source": [
    "# create a function object without assigning it to a variable..\n",
    "# that's what lambda does\n",
    "\n",
    "# we say that it creates \"an anonymous function object.\""
   ]
  },
  {
   "cell_type": "code",
   "execution_count": 253,
   "id": "a1bfe610-19be-4c04-84fd-d3a1a983aa32",
   "metadata": {},
   "outputs": [
    {
     "data": {
      "text/plain": [
       "<function __main__.<lambda>(x)>"
      ]
     },
     "execution_count": 253,
     "metadata": {},
     "output_type": "execute_result"
    }
   ],
   "source": [
    "# lambda is a keyword\n",
    "# any arguments go right after the word \"lambda\" and before the : \n",
    "# the body of the function is ** ONE LINE **, and also ** ONE EXPRESSION **\n",
    "# this means: no assignment. no for loops. no while loops. no if statements.\n",
    "# also: No return statement; the value of the expression is returned\n",
    "\n",
    "lambda x: x**2  "
   ]
  },
  {
   "cell_type": "code",
   "execution_count": 254,
   "id": "ea985bf4-8ca8-488d-b7ba-ade9b7548887",
   "metadata": {},
   "outputs": [
    {
     "data": {
      "text/plain": [
       "25"
      ]
     },
     "execution_count": 254,
     "metadata": {},
     "output_type": "execute_result"
    }
   ],
   "source": [
    "# I can execute the function like this:\n",
    "\n",
    "(lambda x: x**2)(5)"
   ]
  },
  {
   "cell_type": "code",
   "execution_count": 257,
   "id": "084ef8a8-b81b-48af-b2bf-719edbdbe7e8",
   "metadata": {},
   "outputs": [
    {
     "data": {
      "text/plain": [
       "25"
      ]
     },
     "execution_count": 257,
     "metadata": {},
     "output_type": "execute_result"
    }
   ],
   "source": [
    "(lambda x: x**2)(5)"
   ]
  },
  {
   "cell_type": "code",
   "execution_count": 258,
   "id": "0e330472-9db4-4af3-866f-58cee0196777",
   "metadata": {},
   "outputs": [],
   "source": [
    "# is this possible? yes, but don't do this!  define a real function instead\n",
    "square2 = lambda x: x**2"
   ]
  },
  {
   "cell_type": "code",
   "execution_count": 259,
   "id": "1c2726ba-1f9e-42af-bd0b-cbe877f3960b",
   "metadata": {},
   "outputs": [
    {
     "data": {
      "text/plain": [
       "36"
      ]
     },
     "execution_count": 259,
     "metadata": {},
     "output_type": "execute_result"
    }
   ],
   "source": [
    "square2(6)"
   ]
  },
  {
   "cell_type": "code",
   "execution_count": 261,
   "id": "3dc03278-fb48-44f0-aa7d-11600181e190",
   "metadata": {},
   "outputs": [
    {
     "name": "stdout",
     "output_type": "stream",
     "text": [
      "Now checking \"this\"\n",
      "Now checking \"is\"\n",
      "Now checking \"a\"\n",
      "Now checking \"fantastic\"\n",
      "Now checking \"and\"\n",
      "Now checking \"interesting\"\n",
      "Now checking \"and\"\n",
      "Now checking \"wonderful\"\n",
      "Now checking \"experiment\"\n"
     ]
    },
    {
     "data": {
      "text/plain": [
       "['a',\n",
       " 'fantastic',\n",
       " 'and',\n",
       " 'and',\n",
       " 'interesting',\n",
       " 'wonderful',\n",
       " 'is',\n",
       " 'this',\n",
       " 'experiment']"
      ]
     },
     "execution_count": 261,
     "metadata": {},
     "output_type": "execute_result"
    }
   ],
   "source": [
    "sorted(words, key=by_backwards_word)"
   ]
  },
  {
   "cell_type": "code",
   "execution_count": 262,
   "id": "85bdff66-d8b3-43b4-b9d2-a2209144e2ab",
   "metadata": {},
   "outputs": [
    {
     "data": {
      "text/plain": [
       "['a',\n",
       " 'fantastic',\n",
       " 'and',\n",
       " 'and',\n",
       " 'interesting',\n",
       " 'wonderful',\n",
       " 'is',\n",
       " 'this',\n",
       " 'experiment']"
      ]
     },
     "execution_count": 262,
     "metadata": {},
     "output_type": "execute_result"
    }
   ],
   "source": [
    "sorted(words, key=lambda one_word: one_word[::-1])"
   ]
  },
  {
   "cell_type": "code",
   "execution_count": 263,
   "id": "b4124769-2b1c-49ca-9a3e-0eebb9131305",
   "metadata": {},
   "outputs": [
    {
     "data": {
      "text/plain": [
       "[1, 9, 25, 49, 81]"
      ]
     },
     "execution_count": 263,
     "metadata": {},
     "output_type": "execute_result"
    }
   ],
   "source": [
    "numbers = range(10)\n",
    "\n",
    "# this will return a list of the odd numbers up to 10 squared\n",
    "[one_number ** 2            # expression -- operates on each element -- modern equivalent of the classic \"map\" function\n",
    " for one_number in numbers \n",
    " if one_number % 2]         # condition -- filters -- modern equivalent of the classic \"filter\" function"
   ]
  },
  {
   "cell_type": "code",
   "execution_count": 265,
   "id": "927c4f84-8550-41b6-91f0-efca8ce45bb5",
   "metadata": {},
   "outputs": [
    {
     "data": {
      "text/plain": [
       "[0, 1, 4, 9, 16, 25, 36, 49, 64, 81]"
      ]
     },
     "execution_count": 265,
     "metadata": {},
     "output_type": "execute_result"
    }
   ],
   "source": [
    "# map takes (a) a function and (b) an iterable\n",
    "# it applies the function to each element, returning a list (really an iterable)\n",
    "\n",
    "# this is the function equivalent of the list comprehension's expression and output\n",
    "\n",
    "list(map(lambda x: x**2, \n",
    "         numbers))"
   ]
  },
  {
   "cell_type": "code",
   "execution_count": 267,
   "id": "d2a9242c-6e45-4bef-a704-30289eeb6776",
   "metadata": {},
   "outputs": [
    {
     "data": {
      "text/plain": [
       "[1, 3, 5, 7, 9]"
      ]
     },
     "execution_count": 267,
     "metadata": {},
     "output_type": "execute_result"
    }
   ],
   "source": [
    "# filter takes (a) a function and (b) an iterable\n",
    "# it applies the function to each element, and returns only those elements for which the function returns True\n",
    "\n",
    "# this is the function equivalent of the list comprehension's \"if\" statement\n",
    "\n",
    "list(filter(lambda x: x%2,\n",
    "       numbers))"
   ]
  },
  {
   "cell_type": "code",
   "execution_count": 269,
   "id": "630a95e5-bfa9-4ca1-9bea-5be9506bd91e",
   "metadata": {},
   "outputs": [
    {
     "data": {
      "text/plain": [
       "[1, 9, 25, 49, 81]"
      ]
     },
     "execution_count": 269,
     "metadata": {},
     "output_type": "execute_result"
    }
   ],
   "source": [
    "# this is the same as our comprehension from above, squaring the odd numbers up to 10\n",
    "list(map(lambda x:x**2,\n",
    "    filter(lambda x: x%2, numbers)))"
   ]
  },
  {
   "cell_type": "code",
   "execution_count": 270,
   "id": "7d4fa059-a3a4-467f-84d2-2c911c788184",
   "metadata": {},
   "outputs": [
    {
     "data": {
      "text/plain": [
       "[1, 9, 25, 49, 81]"
      ]
     },
     "execution_count": 270,
     "metadata": {},
     "output_type": "execute_result"
    }
   ],
   "source": [
    "def square(x):\n",
    "    return x ** 2\n",
    "\n",
    "def is_odd(x):\n",
    "    return x % 2\n",
    "\n",
    "\n",
    "list(map(square,\n",
    "    filter(is_odd, numbers)))"
   ]
  },
  {
   "cell_type": "code",
   "execution_count": 272,
   "id": "c5008197-7b5d-4e87-87d4-4241b43ab952",
   "metadata": {},
   "outputs": [
    {
     "data": {
      "text/plain": [
       "60"
      ]
     },
     "execution_count": 272,
     "metadata": {},
     "output_type": "execute_result"
    }
   ],
   "source": [
    "# map applies a function to each element of a sequence\n",
    "# it has no memory of what it did previously, and it doesn't carry any result onto subsequent calls\n",
    "\n",
    "# \"reduce\" applies a function to each element of a sequence, like map\n",
    "# unlike map, reduce gets, in each iteration, the result of the previous one\n",
    "# I'm thus able to accumulate information over many iterations\n",
    "\n",
    "# the name means: let's take a list, and reduce it to a single integer (or other data type)\n",
    "\n",
    "from functools import reduce\n",
    "\n",
    "numbers = [10, 20, 30]\n",
    "\n",
    "reduce(lambda total, current: total + current,   # total is what we got from the *previous* iteration\n",
    "       numbers,\n",
    "       0)    # this is the value for total in the first iteration"
   ]
  },
  {
   "cell_type": "markdown",
   "id": "e1d67663-4353-42dc-9a39-0722b5a4ae92",
   "metadata": {},
   "source": [
    "# What did `reduce` just do?\n",
    "\n",
    "First iteration: \n",
    "- `total` is 0 (from our 3rd argument)\n",
    "- `current` is 10 (from our list)\n",
    "- Our function calculates `total` + `current` = 10\n",
    "- This is the return value, which is passed along to...\n",
    "\n",
    "Second iteration:\n",
    "- `total` is 10 (from our previous iteration)\n",
    "- `current` is 20 (from our list)\n",
    "- Our function calculates `total` + `current` = 30\n",
    "- This is the return value, which is passed along to...\n",
    "\n",
    "Third iteration:\n",
    "- `total` is 30 (from our previous iteration)\n",
    "- `current` is 30 (from our list)\n",
    "- Our function calculates `total` + `current` = 60\n",
    "- This is the return value, which is passed along to...\n",
    "\n",
    "The result: 60"
   ]
  },
  {
   "cell_type": "code",
   "execution_count": 275,
   "id": "c422555b-cf1c-4931-95cd-789a724887ef",
   "metadata": {},
   "outputs": [
    {
     "data": {
      "text/plain": [
       "120"
      ]
     },
     "execution_count": 275,
     "metadata": {},
     "output_type": "execute_result"
    }
   ],
   "source": [
    "numbers = [1,2,3,4,5]\n",
    "\n",
    "reduce(lambda total, current: total * current,\n",
    "       numbers,\n",
    "       1)    # this is 5! (5 factorial -- meaning 5*4*3*2*1"
   ]
  },
  {
   "cell_type": "markdown",
   "id": "0d545f82-ee81-4642-bfde-239d72616286",
   "metadata": {},
   "source": [
    "# What are modules?"
   ]
  },
  {
   "cell_type": "markdown",
   "id": "0083a7a8-3108-41c0-b49d-43ea584ced74",
   "metadata": {},
   "source": [
    "# DRY rule -- don't repeat yourself! \n",
    "\n",
    "- If you have several lines in a row that are similar, you should DRY them up into a loop.\n",
    "- If you have several places in your program that are similar, you should DRY them up into a function.\n",
    "- If you have several places in multiple programs that are similar, you should DRY them up into a library, or module."
   ]
  },
  {
   "cell_type": "code",
   "execution_count": 276,
   "id": "6bbcd95c-5d90-403b-b643-6e87067aef54",
   "metadata": {},
   "outputs": [],
   "source": [
    "import random   "
   ]
  },
  {
   "cell_type": "code",
   "execution_count": 277,
   "id": "dd39399e-603c-46aa-a57e-5c3b40e97bae",
   "metadata": {},
   "outputs": [
    {
     "data": {
      "text/plain": [
       "module"
      ]
     },
     "execution_count": 277,
     "metadata": {},
     "output_type": "execute_result"
    }
   ],
   "source": [
    "type(random)"
   ]
  },
  {
   "cell_type": "code",
   "execution_count": 278,
   "id": "3b648595-13b8-402c-adaf-f80fc517f1ae",
   "metadata": {},
   "outputs": [
    {
     "data": {
      "text/plain": [
       "['/Users/reuven/Courses/Current/Cisco-2021-11Nov-advanced',\n",
       " '/usr/local/Cellar/python@3.10/3.10.0_2/Frameworks/Python.framework/Versions/3.10/lib/python310.zip',\n",
       " '/usr/local/Cellar/python@3.10/3.10.0_2/Frameworks/Python.framework/Versions/3.10/lib/python3.10',\n",
       " '/usr/local/Cellar/python@3.10/3.10.0_2/Frameworks/Python.framework/Versions/3.10/lib/python3.10/lib-dynload',\n",
       " '',\n",
       " '/usr/local/lib/python3.10/site-packages',\n",
       " '/usr/local/Cellar/pybind11/2.8.1/libexec/lib/python3.10/site-packages',\n",
       " '/usr/local/lib/python3.10/site-packages/IPython/extensions',\n",
       " '/Users/reuven/.ipython']"
      ]
     },
     "execution_count": 278,
     "metadata": {},
     "output_type": "execute_result"
    }
   ],
   "source": [
    "import sys\n",
    "sys.path  # list of strings indicating where Python should look for module files"
   ]
  },
  {
   "cell_type": "code",
   "execution_count": 279,
   "id": "afa3e09a-296a-4367-bb7c-a8754790d4ed",
   "metadata": {},
   "outputs": [
    {
     "ename": "ModuleNotFoundError",
     "evalue": "No module named 'asdfafafafa'",
     "output_type": "error",
     "traceback": [
      "\u001b[0;31m---------------------------------------------------------------------------\u001b[0m",
      "\u001b[0;31mModuleNotFoundError\u001b[0m                       Traceback (most recent call last)",
      "\u001b[0;32m/var/folders/rr/0mnyyv811fs5vyp22gf4fxk00000gn/T/ipykernel_80969/3686075117.py\u001b[0m in \u001b[0;36m<module>\u001b[0;34m\u001b[0m\n\u001b[0;32m----> 1\u001b[0;31m \u001b[0;32mimport\u001b[0m \u001b[0masdfafafafa\u001b[0m\u001b[0;34m\u001b[0m\u001b[0;34m\u001b[0m\u001b[0m\n\u001b[0m",
      "\u001b[0;31mModuleNotFoundError\u001b[0m: No module named 'asdfafafafa'"
     ]
    }
   ],
   "source": [
    "import asdfafafafa"
   ]
  },
  {
   "cell_type": "code",
   "execution_count": 280,
   "id": "7b269bd8-aad9-45bc-a141-316ce92d559c",
   "metadata": {},
   "outputs": [
    {
     "data": {
      "text/plain": [
       "63"
      ]
     },
     "execution_count": 280,
     "metadata": {},
     "output_type": "execute_result"
    }
   ],
   "source": [
    "# Python looks for random as a variable .. LEGB\n",
    "# is random global? Yes!\n",
    "\n",
    "random.randint(0, 100)"
   ]
  },
  {
   "cell_type": "code",
   "execution_count": 289,
   "id": "f74870c8-beaf-40db-9180-5642034dea4c",
   "metadata": {
    "collapsed": true,
    "jupyter": {
     "outputs_hidden": true
    },
    "tags": []
   },
   "outputs": [
    {
     "data": {
      "text/plain": [
       "{'sys': <module 'sys' (built-in)>,\n",
       " 'builtins': <module 'builtins' (built-in)>,\n",
       " '_frozen_importlib': <module '_frozen_importlib' (frozen)>,\n",
       " '_imp': <module '_imp' (built-in)>,\n",
       " '_thread': <module '_thread' (built-in)>,\n",
       " '_warnings': <module '_warnings' (built-in)>,\n",
       " '_weakref': <module '_weakref' (built-in)>,\n",
       " '_io': <module '_io' (built-in)>,\n",
       " 'marshal': <module 'marshal' (built-in)>,\n",
       " 'posix': <module 'posix' (built-in)>,\n",
       " '_frozen_importlib_external': <module '_frozen_importlib_external' (frozen)>,\n",
       " 'time': <module 'time' (built-in)>,\n",
       " 'zipimport': <module 'zipimport' (frozen)>,\n",
       " '_codecs': <module '_codecs' (built-in)>,\n",
       " 'codecs': <module 'codecs' from '/usr/local/Cellar/python@3.10/3.10.0_2/Frameworks/Python.framework/Versions/3.10/lib/python3.10/codecs.py'>,\n",
       " 'encodings.aliases': <module 'encodings.aliases' from '/usr/local/Cellar/python@3.10/3.10.0_2/Frameworks/Python.framework/Versions/3.10/lib/python3.10/encodings/aliases.py'>,\n",
       " 'encodings': <module 'encodings' from '/usr/local/Cellar/python@3.10/3.10.0_2/Frameworks/Python.framework/Versions/3.10/lib/python3.10/encodings/__init__.py'>,\n",
       " 'encodings.utf_8': <module 'encodings.utf_8' from '/usr/local/Cellar/python@3.10/3.10.0_2/Frameworks/Python.framework/Versions/3.10/lib/python3.10/encodings/utf_8.py'>,\n",
       " '_signal': <module '_signal' (built-in)>,\n",
       " '_abc': <module '_abc' (built-in)>,\n",
       " 'abc': <module 'abc' from '/usr/local/Cellar/python@3.10/3.10.0_2/Frameworks/Python.framework/Versions/3.10/lib/python3.10/abc.py'>,\n",
       " 'io': <module 'io' from '/usr/local/Cellar/python@3.10/3.10.0_2/Frameworks/Python.framework/Versions/3.10/lib/python3.10/io.py'>,\n",
       " '__main__': <module '__main__'>,\n",
       " '_stat': <module '_stat' (built-in)>,\n",
       " 'stat': <module 'stat' from '/usr/local/Cellar/python@3.10/3.10.0_2/Frameworks/Python.framework/Versions/3.10/lib/python3.10/stat.py'>,\n",
       " '_collections_abc': <module '_collections_abc' from '/usr/local/Cellar/python@3.10/3.10.0_2/Frameworks/Python.framework/Versions/3.10/lib/python3.10/_collections_abc.py'>,\n",
       " 'genericpath': <module 'genericpath' from '/usr/local/Cellar/python@3.10/3.10.0_2/Frameworks/Python.framework/Versions/3.10/lib/python3.10/genericpath.py'>,\n",
       " 'posixpath': <module 'posixpath' from '/usr/local/Cellar/python@3.10/3.10.0_2/Frameworks/Python.framework/Versions/3.10/lib/python3.10/posixpath.py'>,\n",
       " 'os.path': <module 'posixpath' from '/usr/local/Cellar/python@3.10/3.10.0_2/Frameworks/Python.framework/Versions/3.10/lib/python3.10/posixpath.py'>,\n",
       " 'os': <module 'os' from '/usr/local/Cellar/python@3.10/3.10.0_2/Frameworks/Python.framework/Versions/3.10/lib/python3.10/os.py'>,\n",
       " '_sitebuiltins': <module '_sitebuiltins' from '/usr/local/Cellar/python@3.10/3.10.0_2/Frameworks/Python.framework/Versions/3.10/lib/python3.10/_sitebuiltins.py'>,\n",
       " 'types': <module 'types' from '/usr/local/Cellar/python@3.10/3.10.0_2/Frameworks/Python.framework/Versions/3.10/lib/python3.10/types.py'>,\n",
       " 'importlib._bootstrap': <module '_frozen_importlib' (frozen)>,\n",
       " 'importlib._bootstrap_external': <module '_frozen_importlib_external' (frozen)>,\n",
       " 'warnings': <module 'warnings' from '/usr/local/Cellar/python@3.10/3.10.0_2/Frameworks/Python.framework/Versions/3.10/lib/python3.10/warnings.py'>,\n",
       " 'importlib': <module 'importlib' from '/usr/local/Cellar/python@3.10/3.10.0_2/Frameworks/Python.framework/Versions/3.10/lib/python3.10/importlib/__init__.py'>,\n",
       " 'importlib._abc': <module 'importlib._abc' from '/usr/local/Cellar/python@3.10/3.10.0_2/Frameworks/Python.framework/Versions/3.10/lib/python3.10/importlib/_abc.py'>,\n",
       " 'itertools': <module 'itertools' (built-in)>,\n",
       " 'keyword': <module 'keyword' from '/usr/local/Cellar/python@3.10/3.10.0_2/Frameworks/Python.framework/Versions/3.10/lib/python3.10/keyword.py'>,\n",
       " '_operator': <module '_operator' (built-in)>,\n",
       " 'operator': <module 'operator' from '/usr/local/Cellar/python@3.10/3.10.0_2/Frameworks/Python.framework/Versions/3.10/lib/python3.10/operator.py'>,\n",
       " 'reprlib': <module 'reprlib' from '/usr/local/Cellar/python@3.10/3.10.0_2/Frameworks/Python.framework/Versions/3.10/lib/python3.10/reprlib.py'>,\n",
       " '_collections': <module '_collections' (built-in)>,\n",
       " 'collections': <module 'collections' from '/usr/local/Cellar/python@3.10/3.10.0_2/Frameworks/Python.framework/Versions/3.10/lib/python3.10/collections/__init__.py'>,\n",
       " '_functools': <module '_functools' (built-in)>,\n",
       " 'functools': <module 'functools' from '/usr/local/Cellar/python@3.10/3.10.0_2/Frameworks/Python.framework/Versions/3.10/lib/python3.10/functools.py'>,\n",
       " 'contextlib': <module 'contextlib' from '/usr/local/Cellar/python@3.10/3.10.0_2/Frameworks/Python.framework/Versions/3.10/lib/python3.10/contextlib.py'>,\n",
       " 'importlib.util': <module 'importlib.util' from '/usr/local/Cellar/python@3.10/3.10.0_2/Frameworks/Python.framework/Versions/3.10/lib/python3.10/importlib/util.py'>,\n",
       " 'importlib.machinery': <module 'importlib.machinery' from '/usr/local/Cellar/python@3.10/3.10.0_2/Frameworks/Python.framework/Versions/3.10/lib/python3.10/importlib/machinery.py'>,\n",
       " 'paste': <module 'paste' (<_frozen_importlib_external._NamespaceLoader object at 0x110300fd0>)>,\n",
       " 'mpl_toolkits': <module 'mpl_toolkits' (<_frozen_importlib_external._NamespaceLoader object at 0x1103011b0>)>,\n",
       " 'ruamel': <module 'ruamel' (<_frozen_importlib_external._NamespaceLoader object at 0x1103010f0>)>,\n",
       " 'virtualenvwrapper': <module 'virtualenvwrapper' (<_frozen_importlib_external._NamespaceLoader object at 0x1102e3580>)>,\n",
       " 'zope': <module 'zope' (<_frozen_importlib_external._NamespaceLoader object at 0x1103002b0>)>,\n",
       " 'enum': <module 'enum' from '/usr/local/Cellar/python@3.10/3.10.0_2/Frameworks/Python.framework/Versions/3.10/lib/python3.10/enum.py'>,\n",
       " '_sre': <module '_sre' (built-in)>,\n",
       " 'sre_constants': <module 'sre_constants' from '/usr/local/Cellar/python@3.10/3.10.0_2/Frameworks/Python.framework/Versions/3.10/lib/python3.10/sre_constants.py'>,\n",
       " 'sre_parse': <module 'sre_parse' from '/usr/local/Cellar/python@3.10/3.10.0_2/Frameworks/Python.framework/Versions/3.10/lib/python3.10/sre_parse.py'>,\n",
       " 'sre_compile': <module 'sre_compile' from '/usr/local/Cellar/python@3.10/3.10.0_2/Frameworks/Python.framework/Versions/3.10/lib/python3.10/sre_compile.py'>,\n",
       " '_locale': <module '_locale' (built-in)>,\n",
       " 'copyreg': <module 'copyreg' from '/usr/local/Cellar/python@3.10/3.10.0_2/Frameworks/Python.framework/Versions/3.10/lib/python3.10/copyreg.py'>,\n",
       " 're': <module 're' from '/usr/local/Cellar/python@3.10/3.10.0_2/Frameworks/Python.framework/Versions/3.10/lib/python3.10/re.py'>,\n",
       " 'sitecustomize': <module 'sitecustomize' from '/usr/local/Cellar/python@3.10/3.10.0_2/Frameworks/Python.framework/Versions/3.10/lib/python3.10/sitecustomize.py'>,\n",
       " 'site': <module 'site' from '/usr/local/Cellar/python@3.10/3.10.0_2/Frameworks/Python.framework/Versions/3.10/lib/python3.10/site.py'>,\n",
       " 'runpy': <module 'runpy' from '/usr/local/Cellar/python@3.10/3.10.0_2/Frameworks/Python.framework/Versions/3.10/lib/python3.10/runpy.py'>,\n",
       " 'ipykernel._version': <module 'ipykernel._version' from '/usr/local/lib/python3.10/site-packages/ipykernel/_version.py'>,\n",
       " '_json': <module '_json' from '/usr/local/Cellar/python@3.10/3.10.0_2/Frameworks/Python.framework/Versions/3.10/lib/python3.10/lib-dynload/_json.cpython-310-darwin.so'>,\n",
       " 'json.scanner': <module 'json.scanner' from '/usr/local/Cellar/python@3.10/3.10.0_2/Frameworks/Python.framework/Versions/3.10/lib/python3.10/json/scanner.py'>,\n",
       " 'json.decoder': <module 'json.decoder' from '/usr/local/Cellar/python@3.10/3.10.0_2/Frameworks/Python.framework/Versions/3.10/lib/python3.10/json/decoder.py'>,\n",
       " 'json.encoder': <module 'json.encoder' from '/usr/local/Cellar/python@3.10/3.10.0_2/Frameworks/Python.framework/Versions/3.10/lib/python3.10/json/encoder.py'>,\n",
       " 'json': <module 'json' from '/usr/local/Cellar/python@3.10/3.10.0_2/Frameworks/Python.framework/Versions/3.10/lib/python3.10/json/__init__.py'>,\n",
       " 'errno': <module 'errno' (built-in)>,\n",
       " 'signal': <module 'signal' from '/usr/local/Cellar/python@3.10/3.10.0_2/Frameworks/Python.framework/Versions/3.10/lib/python3.10/signal.py'>,\n",
       " '_weakrefset': <module '_weakrefset' from '/usr/local/Cellar/python@3.10/3.10.0_2/Frameworks/Python.framework/Versions/3.10/lib/python3.10/_weakrefset.py'>,\n",
       " 'threading': <module 'threading' from '/usr/local/Cellar/python@3.10/3.10.0_2/Frameworks/Python.framework/Versions/3.10/lib/python3.10/threading.py'>,\n",
       " 'fcntl': <module 'fcntl' from '/usr/local/Cellar/python@3.10/3.10.0_2/Frameworks/Python.framework/Versions/3.10/lib/python3.10/lib-dynload/fcntl.cpython-310-darwin.so'>,\n",
       " '_posixsubprocess': <module '_posixsubprocess' from '/usr/local/Cellar/python@3.10/3.10.0_2/Frameworks/Python.framework/Versions/3.10/lib/python3.10/lib-dynload/_posixsubprocess.cpython-310-darwin.so'>,\n",
       " 'select': <module 'select' from '/usr/local/Cellar/python@3.10/3.10.0_2/Frameworks/Python.framework/Versions/3.10/lib/python3.10/lib-dynload/select.cpython-310-darwin.so'>,\n",
       " 'collections.abc': <module 'collections.abc' from '/usr/local/Cellar/python@3.10/3.10.0_2/Frameworks/Python.framework/Versions/3.10/lib/python3.10/collections/abc.py'>,\n",
       " 'math': <module 'math' from '/usr/local/Cellar/python@3.10/3.10.0_2/Frameworks/Python.framework/Versions/3.10/lib/python3.10/lib-dynload/math.cpython-310-darwin.so'>,\n",
       " 'selectors': <module 'selectors' from '/usr/local/Cellar/python@3.10/3.10.0_2/Frameworks/Python.framework/Versions/3.10/lib/python3.10/selectors.py'>,\n",
       " 'subprocess': <module 'subprocess' from '/usr/local/Cellar/python@3.10/3.10.0_2/Frameworks/Python.framework/Versions/3.10/lib/python3.10/subprocess.py'>,\n",
       " 'typing.io': typing.io,\n",
       " 'typing.re': typing.re,\n",
       " 'typing': <module 'typing' from '/usr/local/Cellar/python@3.10/3.10.0_2/Frameworks/Python.framework/Versions/3.10/lib/python3.10/typing.py'>,\n",
       " 'jupyter_client._version': <module 'jupyter_client._version' from '/usr/local/lib/python3.10/site-packages/jupyter_client/_version.py'>,\n",
       " '_ast': <module '_ast' (built-in)>,\n",
       " 'ast': <module 'ast' from '/usr/local/Cellar/python@3.10/3.10.0_2/Frameworks/Python.framework/Versions/3.10/lib/python3.10/ast.py'>,\n",
       " '_opcode': <module '_opcode' from '/usr/local/Cellar/python@3.10/3.10.0_2/Frameworks/Python.framework/Versions/3.10/lib/python3.10/lib-dynload/_opcode.cpython-310-darwin.so'>,\n",
       " 'opcode': <module 'opcode' from '/usr/local/Cellar/python@3.10/3.10.0_2/Frameworks/Python.framework/Versions/3.10/lib/python3.10/opcode.py'>,\n",
       " 'dis': <module 'dis' from '/usr/local/Cellar/python@3.10/3.10.0_2/Frameworks/Python.framework/Versions/3.10/lib/python3.10/dis.py'>,\n",
       " 'token': <module 'token' from '/usr/local/Cellar/python@3.10/3.10.0_2/Frameworks/Python.framework/Versions/3.10/lib/python3.10/token.py'>,\n",
       " 'tokenize': <module 'tokenize' from '/usr/local/Cellar/python@3.10/3.10.0_2/Frameworks/Python.framework/Versions/3.10/lib/python3.10/tokenize.py'>,\n",
       " 'linecache': <module 'linecache' from '/usr/local/Cellar/python@3.10/3.10.0_2/Frameworks/Python.framework/Versions/3.10/lib/python3.10/linecache.py'>,\n",
       " 'inspect': <module 'inspect' from '/usr/local/Cellar/python@3.10/3.10.0_2/Frameworks/Python.framework/Versions/3.10/lib/python3.10/inspect.py'>,\n",
       " 'traitlets.utils': <module 'traitlets.utils' from '/usr/local/lib/python3.10/site-packages/traitlets/utils/__init__.py'>,\n",
       " 'traitlets.utils.getargspec': <module 'traitlets.utils.getargspec' from '/usr/local/lib/python3.10/site-packages/traitlets/utils/getargspec.py'>,\n",
       " 'traitlets.utils.importstring': <module 'traitlets.utils.importstring' from '/usr/local/lib/python3.10/site-packages/traitlets/utils/importstring.py'>,\n",
       " 'traitlets.utils.sentinel': <module 'traitlets.utils.sentinel' from '/usr/local/lib/python3.10/site-packages/traitlets/utils/sentinel.py'>,\n",
       " 'traitlets.utils.bunch': <module 'traitlets.utils.bunch' from '/usr/local/lib/python3.10/site-packages/traitlets/utils/bunch.py'>,\n",
       " 'traitlets.utils.descriptions': <module 'traitlets.utils.descriptions' from '/usr/local/lib/python3.10/site-packages/traitlets/utils/descriptions.py'>,\n",
       " 'traitlets.traitlets': <module 'traitlets.traitlets' from '/usr/local/lib/python3.10/site-packages/traitlets/traitlets.py'>,\n",
       " 'weakref': <module 'weakref' from '/usr/local/Cellar/python@3.10/3.10.0_2/Frameworks/Python.framework/Versions/3.10/lib/python3.10/weakref.py'>,\n",
       " 'copy': <module 'copy' from '/usr/local/Cellar/python@3.10/3.10.0_2/Frameworks/Python.framework/Versions/3.10/lib/python3.10/copy.py'>,\n",
       " 'traitlets.utils.decorators': <module 'traitlets.utils.decorators' from '/usr/local/lib/python3.10/site-packages/traitlets/utils/decorators.py'>,\n",
       " 'traitlets._version': <module 'traitlets._version' from '/usr/local/lib/python3.10/site-packages/traitlets/_version.py'>,\n",
       " 'traitlets': <module 'traitlets' from '/usr/local/lib/python3.10/site-packages/traitlets/__init__.py'>,\n",
       " 'concurrent': <module 'concurrent' from '/usr/local/Cellar/python@3.10/3.10.0_2/Frameworks/Python.framework/Versions/3.10/lib/python3.10/concurrent/__init__.py'>,\n",
       " 'traceback': <module 'traceback' from '/usr/local/Cellar/python@3.10/3.10.0_2/Frameworks/Python.framework/Versions/3.10/lib/python3.10/traceback.py'>,\n",
       " '_string': <module '_string' (built-in)>,\n",
       " 'string': <module 'string' from '/usr/local/Cellar/python@3.10/3.10.0_2/Frameworks/Python.framework/Versions/3.10/lib/python3.10/string.py'>,\n",
       " 'atexit': <module 'atexit' (built-in)>,\n",
       " 'logging': <module 'logging' from '/usr/local/Cellar/python@3.10/3.10.0_2/Frameworks/Python.framework/Versions/3.10/lib/python3.10/logging/__init__.py'>,\n",
       " 'concurrent.futures._base': <module 'concurrent.futures._base' from '/usr/local/Cellar/python@3.10/3.10.0_2/Frameworks/Python.framework/Versions/3.10/lib/python3.10/concurrent/futures/_base.py'>,\n",
       " 'concurrent.futures': <module 'concurrent.futures' from '/usr/local/Cellar/python@3.10/3.10.0_2/Frameworks/Python.framework/Versions/3.10/lib/python3.10/concurrent/futures/__init__.py'>,\n",
       " '_heapq': <module '_heapq' from '/usr/local/Cellar/python@3.10/3.10.0_2/Frameworks/Python.framework/Versions/3.10/lib/python3.10/lib-dynload/_heapq.cpython-310-darwin.so'>,\n",
       " 'heapq': <module 'heapq' from '/usr/local/Cellar/python@3.10/3.10.0_2/Frameworks/Python.framework/Versions/3.10/lib/python3.10/heapq.py'>,\n",
       " '_socket': <module '_socket' from '/usr/local/Cellar/python@3.10/3.10.0_2/Frameworks/Python.framework/Versions/3.10/lib/python3.10/lib-dynload/_socket.cpython-310-darwin.so'>,\n",
       " 'array': <module 'array' from '/usr/local/Cellar/python@3.10/3.10.0_2/Frameworks/Python.framework/Versions/3.10/lib/python3.10/lib-dynload/array.cpython-310-darwin.so'>,\n",
       " 'socket': <module 'socket' from '/usr/local/Cellar/python@3.10/3.10.0_2/Frameworks/Python.framework/Versions/3.10/lib/python3.10/socket.py'>,\n",
       " '_ssl': <module '_ssl' from '/usr/local/Cellar/python@3.10/3.10.0_2/Frameworks/Python.framework/Versions/3.10/lib/python3.10/lib-dynload/_ssl.cpython-310-darwin.so'>,\n",
       " '_struct': <module '_struct' from '/usr/local/Cellar/python@3.10/3.10.0_2/Frameworks/Python.framework/Versions/3.10/lib/python3.10/lib-dynload/_struct.cpython-310-darwin.so'>,\n",
       " 'struct': <module 'struct' from '/usr/local/Cellar/python@3.10/3.10.0_2/Frameworks/Python.framework/Versions/3.10/lib/python3.10/struct.py'>,\n",
       " 'binascii': <module 'binascii' from '/usr/local/Cellar/python@3.10/3.10.0_2/Frameworks/Python.framework/Versions/3.10/lib/python3.10/lib-dynload/binascii.cpython-310-darwin.so'>,\n",
       " 'base64': <module 'base64' from '/usr/local/Cellar/python@3.10/3.10.0_2/Frameworks/Python.framework/Versions/3.10/lib/python3.10/base64.py'>,\n",
       " 'ssl': <module 'ssl' from '/usr/local/Cellar/python@3.10/3.10.0_2/Frameworks/Python.framework/Versions/3.10/lib/python3.10/ssl.py'>,\n",
       " 'asyncio.constants': <module 'asyncio.constants' from '/usr/local/Cellar/python@3.10/3.10.0_2/Frameworks/Python.framework/Versions/3.10/lib/python3.10/asyncio/constants.py'>,\n",
       " 'asyncio.format_helpers': <module 'asyncio.format_helpers' from '/usr/local/Cellar/python@3.10/3.10.0_2/Frameworks/Python.framework/Versions/3.10/lib/python3.10/asyncio/format_helpers.py'>,\n",
       " 'asyncio.base_futures': <module 'asyncio.base_futures' from '/usr/local/Cellar/python@3.10/3.10.0_2/Frameworks/Python.framework/Versions/3.10/lib/python3.10/asyncio/base_futures.py'>,\n",
       " 'asyncio.log': <module 'asyncio.log' from '/usr/local/Cellar/python@3.10/3.10.0_2/Frameworks/Python.framework/Versions/3.10/lib/python3.10/asyncio/log.py'>,\n",
       " 'asyncio.coroutines': <module 'asyncio.coroutines' from '/usr/local/Cellar/python@3.10/3.10.0_2/Frameworks/Python.framework/Versions/3.10/lib/python3.10/asyncio/coroutines.py'>,\n",
       " '_contextvars': <module '_contextvars' from '/usr/local/Cellar/python@3.10/3.10.0_2/Frameworks/Python.framework/Versions/3.10/lib/python3.10/lib-dynload/_contextvars.cpython-310-darwin.so'>,\n",
       " 'contextvars': <module 'contextvars' from '/usr/local/Cellar/python@3.10/3.10.0_2/Frameworks/Python.framework/Versions/3.10/lib/python3.10/contextvars.py'>,\n",
       " 'asyncio.exceptions': <module 'asyncio.exceptions' from '/usr/local/Cellar/python@3.10/3.10.0_2/Frameworks/Python.framework/Versions/3.10/lib/python3.10/asyncio/exceptions.py'>,\n",
       " 'asyncio.base_tasks': <module 'asyncio.base_tasks' from '/usr/local/Cellar/python@3.10/3.10.0_2/Frameworks/Python.framework/Versions/3.10/lib/python3.10/asyncio/base_tasks.py'>,\n",
       " '_asyncio': <module '_asyncio' from '/usr/local/Cellar/python@3.10/3.10.0_2/Frameworks/Python.framework/Versions/3.10/lib/python3.10/lib-dynload/_asyncio.cpython-310-darwin.so'>,\n",
       " 'asyncio.events': <module 'asyncio.events' from '/usr/local/Cellar/python@3.10/3.10.0_2/Frameworks/Python.framework/Versions/3.10/lib/python3.10/asyncio/events.py'>,\n",
       " 'asyncio.futures': <module 'asyncio.futures' from '/usr/local/Cellar/python@3.10/3.10.0_2/Frameworks/Python.framework/Versions/3.10/lib/python3.10/asyncio/futures.py'>,\n",
       " 'asyncio.protocols': <module 'asyncio.protocols' from '/usr/local/Cellar/python@3.10/3.10.0_2/Frameworks/Python.framework/Versions/3.10/lib/python3.10/asyncio/protocols.py'>,\n",
       " 'asyncio.transports': <module 'asyncio.transports' from '/usr/local/Cellar/python@3.10/3.10.0_2/Frameworks/Python.framework/Versions/3.10/lib/python3.10/asyncio/transports.py'>,\n",
       " 'asyncio.sslproto': <module 'asyncio.sslproto' from '/usr/local/Cellar/python@3.10/3.10.0_2/Frameworks/Python.framework/Versions/3.10/lib/python3.10/asyncio/sslproto.py'>,\n",
       " 'asyncio.mixins': <module 'asyncio.mixins' from '/usr/local/Cellar/python@3.10/3.10.0_2/Frameworks/Python.framework/Versions/3.10/lib/python3.10/asyncio/mixins.py'>,\n",
       " 'asyncio.locks': <module 'asyncio.locks' from '/usr/local/Cellar/python@3.10/3.10.0_2/Frameworks/Python.framework/Versions/3.10/lib/python3.10/asyncio/locks.py'>,\n",
       " 'asyncio.tasks': <module 'asyncio.tasks' from '/usr/local/Cellar/python@3.10/3.10.0_2/Frameworks/Python.framework/Versions/3.10/lib/python3.10/asyncio/tasks.py'>,\n",
       " 'asyncio.staggered': <module 'asyncio.staggered' from '/usr/local/Cellar/python@3.10/3.10.0_2/Frameworks/Python.framework/Versions/3.10/lib/python3.10/asyncio/staggered.py'>,\n",
       " 'asyncio.trsock': <module 'asyncio.trsock' from '/usr/local/Cellar/python@3.10/3.10.0_2/Frameworks/Python.framework/Versions/3.10/lib/python3.10/asyncio/trsock.py'>,\n",
       " 'asyncio.base_events': <module 'asyncio.base_events' from '/usr/local/Cellar/python@3.10/3.10.0_2/Frameworks/Python.framework/Versions/3.10/lib/python3.10/asyncio/base_events.py'>,\n",
       " 'asyncio.runners': <module 'asyncio.runners' from '/usr/local/Cellar/python@3.10/3.10.0_2/Frameworks/Python.framework/Versions/3.10/lib/python3.10/asyncio/runners.py'>,\n",
       " 'asyncio.queues': <module 'asyncio.queues' from '/usr/local/Cellar/python@3.10/3.10.0_2/Frameworks/Python.framework/Versions/3.10/lib/python3.10/asyncio/queues.py'>,\n",
       " 'asyncio.streams': <module 'asyncio.streams' from '/usr/local/Cellar/python@3.10/3.10.0_2/Frameworks/Python.framework/Versions/3.10/lib/python3.10/asyncio/streams.py'>,\n",
       " 'asyncio.subprocess': <module 'asyncio.subprocess' from '/usr/local/Cellar/python@3.10/3.10.0_2/Frameworks/Python.framework/Versions/3.10/lib/python3.10/asyncio/subprocess.py'>,\n",
       " 'asyncio.threads': <module 'asyncio.threads' from '/usr/local/Cellar/python@3.10/3.10.0_2/Frameworks/Python.framework/Versions/3.10/lib/python3.10/asyncio/threads.py'>,\n",
       " 'asyncio.base_subprocess': <module 'asyncio.base_subprocess' from '/usr/local/Cellar/python@3.10/3.10.0_2/Frameworks/Python.framework/Versions/3.10/lib/python3.10/asyncio/base_subprocess.py'>,\n",
       " 'asyncio.selector_events': <module 'asyncio.selector_events' from '/usr/local/Cellar/python@3.10/3.10.0_2/Frameworks/Python.framework/Versions/3.10/lib/python3.10/asyncio/selector_events.py'>,\n",
       " 'asyncio.unix_events': <module 'asyncio.unix_events' from '/usr/local/Cellar/python@3.10/3.10.0_2/Frameworks/Python.framework/Versions/3.10/lib/python3.10/asyncio/unix_events.py'>,\n",
       " 'asyncio': <module 'asyncio' from '/usr/local/Cellar/python@3.10/3.10.0_2/Frameworks/Python.framework/Versions/3.10/lib/python3.10/asyncio/__init__.py'>,\n",
       " '_queue': <module '_queue' from '/usr/local/Cellar/python@3.10/3.10.0_2/Frameworks/Python.framework/Versions/3.10/lib/python3.10/lib-dynload/_queue.cpython-310-darwin.so'>,\n",
       " 'queue': <module 'queue' from '/usr/local/Cellar/python@3.10/3.10.0_2/Frameworks/Python.framework/Versions/3.10/lib/python3.10/queue.py'>,\n",
       " 'platform': <module 'platform' from '/usr/local/Cellar/python@3.10/3.10.0_2/Frameworks/Python.framework/Versions/3.10/lib/python3.10/platform.py'>,\n",
       " '_ctypes': <module '_ctypes' from '/usr/local/Cellar/python@3.10/3.10.0_2/Frameworks/Python.framework/Versions/3.10/lib/python3.10/lib-dynload/_ctypes.cpython-310-darwin.so'>,\n",
       " 'ctypes._endian': <module 'ctypes._endian' from '/usr/local/Cellar/python@3.10/3.10.0_2/Frameworks/Python.framework/Versions/3.10/lib/python3.10/ctypes/_endian.py'>,\n",
       " 'ctypes': <module 'ctypes' from '/usr/local/Cellar/python@3.10/3.10.0_2/Frameworks/Python.framework/Versions/3.10/lib/python3.10/ctypes/__init__.py'>,\n",
       " 'zmq.backend.select': <module 'zmq.backend.select' from '/usr/local/lib/python3.10/site-packages/zmq/backend/select.py'>,\n",
       " 'cython_runtime': <module 'cython_runtime'>,\n",
       " 'zmq.backend.cython.constants': <module 'zmq.backend.cython.constants' from '/usr/local/lib/python3.10/site-packages/zmq/backend/cython/constants.cpython-310-darwin.so'>,\n",
       " '_cython_0_29_24': <module '_cython_0_29_24'>,\n",
       " 'zmq.backend.cython.error': <module 'zmq.backend.cython.error' from '/usr/local/lib/python3.10/site-packages/zmq/backend/cython/error.cpython-310-darwin.so'>,\n",
       " 'zmq.error': <module 'zmq.error' from '/usr/local/lib/python3.10/site-packages/zmq/error.py'>,\n",
       " 'zmq.backend.cython.message': <module 'zmq.backend.cython.message' from '/usr/local/lib/python3.10/site-packages/zmq/backend/cython/message.cpython-310-darwin.so'>,\n",
       " 'zmq.backend.cython.context': <module 'zmq.backend.cython.context' from '/usr/local/lib/python3.10/site-packages/zmq/backend/cython/context.cpython-310-darwin.so'>,\n",
       " '_bisect': <module '_bisect' from '/usr/local/Cellar/python@3.10/3.10.0_2/Frameworks/Python.framework/Versions/3.10/lib/python3.10/lib-dynload/_bisect.cpython-310-darwin.so'>,\n",
       " 'bisect': <module 'bisect' from '/usr/local/Cellar/python@3.10/3.10.0_2/Frameworks/Python.framework/Versions/3.10/lib/python3.10/bisect.py'>,\n",
       " '_random': <module '_random' from '/usr/local/Cellar/python@3.10/3.10.0_2/Frameworks/Python.framework/Versions/3.10/lib/python3.10/lib-dynload/_random.cpython-310-darwin.so'>,\n",
       " '_sha512': <module '_sha512' from '/usr/local/Cellar/python@3.10/3.10.0_2/Frameworks/Python.framework/Versions/3.10/lib/python3.10/lib-dynload/_sha512.cpython-310-darwin.so'>,\n",
       " 'random': <module 'random' from '/usr/local/Cellar/python@3.10/3.10.0_2/Frameworks/Python.framework/Versions/3.10/lib/python3.10/random.py'>,\n",
       " '_compat_pickle': <module '_compat_pickle' from '/usr/local/Cellar/python@3.10/3.10.0_2/Frameworks/Python.framework/Versions/3.10/lib/python3.10/_compat_pickle.py'>,\n",
       " '_pickle': <module '_pickle' from '/usr/local/Cellar/python@3.10/3.10.0_2/Frameworks/Python.framework/Versions/3.10/lib/python3.10/lib-dynload/_pickle.cpython-310-darwin.so'>,\n",
       " 'pickle': <module 'pickle' from '/usr/local/Cellar/python@3.10/3.10.0_2/Frameworks/Python.framework/Versions/3.10/lib/python3.10/pickle.py'>,\n",
       " 'zmq.backend.cython.socket': <module 'zmq.backend.cython.socket' from '/usr/local/lib/python3.10/site-packages/zmq/backend/cython/socket.cpython-310-darwin.so'>,\n",
       " 'zmq.backend.cython.utils': <module 'zmq.backend.cython.utils' from '/usr/local/lib/python3.10/site-packages/zmq/backend/cython/utils.cpython-310-darwin.so'>,\n",
       " 'zmq.backend.cython._poll': <module 'zmq.backend.cython._poll' from '/usr/local/lib/python3.10/site-packages/zmq/backend/cython/_poll.cpython-310-darwin.so'>,\n",
       " 'zmq.backend.cython._version': <module 'zmq.backend.cython._version' from '/usr/local/lib/python3.10/site-packages/zmq/backend/cython/_version.cpython-310-darwin.so'>,\n",
       " 'zmq.backend.cython._device': <module 'zmq.backend.cython._device' from '/usr/local/lib/python3.10/site-packages/zmq/backend/cython/_device.cpython-310-darwin.so'>,\n",
       " 'zmq.backend.cython._proxy_steerable': <module 'zmq.backend.cython._proxy_steerable' from '/usr/local/lib/python3.10/site-packages/zmq/backend/cython/_proxy_steerable.cpython-310-darwin.so'>,\n",
       " 'zmq.backend.cython': <module 'zmq.backend.cython' from '/usr/local/lib/python3.10/site-packages/zmq/backend/cython/__init__.py'>,\n",
       " 'zmq.backend': <module 'zmq.backend' from '/usr/local/lib/python3.10/site-packages/zmq/backend/__init__.py'>,\n",
       " 'zmq.utils': <module 'zmq.utils' from '/usr/local/lib/python3.10/site-packages/zmq/utils/__init__.py'>,\n",
       " 'zmq.utils.constant_names': <module 'zmq.utils.constant_names' from '/usr/local/lib/python3.10/site-packages/zmq/utils/constant_names.py'>,\n",
       " 'zmq.sugar.constants': <module 'zmq.sugar.constants' from '/usr/local/lib/python3.10/site-packages/zmq/sugar/constants.py'>,\n",
       " 'zmq.sugar.attrsettr': <module 'zmq.sugar.attrsettr' from '/usr/local/lib/python3.10/site-packages/zmq/sugar/attrsettr.py'>,\n",
       " 'zmq.sugar.poll': <module 'zmq.sugar.poll' from '/usr/local/lib/python3.10/site-packages/zmq/sugar/poll.py'>,\n",
       " 'zmq.utils.jsonapi': <module 'zmq.utils.jsonapi' from '/usr/local/lib/python3.10/site-packages/zmq/utils/jsonapi.py'>,\n",
       " 'zmq.utils.strtypes': <module 'zmq.utils.strtypes' from '/usr/local/lib/python3.10/site-packages/zmq/utils/strtypes.py'>,\n",
       " 'zmq.sugar.socket': <module 'zmq.sugar.socket' from '/usr/local/lib/python3.10/site-packages/zmq/sugar/socket.py'>,\n",
       " 'zmq.sugar.context': <module 'zmq.sugar.context' from '/usr/local/lib/python3.10/site-packages/zmq/sugar/context.py'>,\n",
       " 'zmq.sugar.frame': <module 'zmq.sugar.frame' from '/usr/local/lib/python3.10/site-packages/zmq/sugar/frame.py'>,\n",
       " 'zmq.sugar.tracker': <module 'zmq.sugar.tracker' from '/usr/local/lib/python3.10/site-packages/zmq/sugar/tracker.py'>,\n",
       " 'zmq.sugar.version': <module 'zmq.sugar.version' from '/usr/local/lib/python3.10/site-packages/zmq/sugar/version.py'>,\n",
       " 'zmq.sugar.stopwatch': <module 'zmq.sugar.stopwatch' from '/usr/local/lib/python3.10/site-packages/zmq/sugar/stopwatch.py'>,\n",
       " 'zmq.sugar': <module 'zmq.sugar' from '/usr/local/lib/python3.10/site-packages/zmq/sugar/__init__.py'>,\n",
       " 'zmq': <module 'zmq' from '/usr/local/lib/python3.10/site-packages/zmq/__init__.py'>,\n",
       " 'zmq._future': <module 'zmq._future' from '/usr/local/lib/python3.10/site-packages/zmq/_future.py'>,\n",
       " 'zmq.asyncio': <module 'zmq.asyncio' from '/usr/local/lib/python3.10/site-packages/zmq/asyncio.py'>,\n",
       " 'jupyter_client.channelsabc': <module 'jupyter_client.channelsabc' from '/usr/local/lib/python3.10/site-packages/jupyter_client/channelsabc.py'>,\n",
       " '_hashlib': <module '_hashlib' from '/usr/local/Cellar/python@3.10/3.10.0_2/Frameworks/Python.framework/Versions/3.10/lib/python3.10/lib-dynload/_hashlib.cpython-310-darwin.so'>,\n",
       " '_blake2': <module '_blake2' from '/usr/local/Cellar/python@3.10/3.10.0_2/Frameworks/Python.framework/Versions/3.10/lib/python3.10/lib-dynload/_blake2.cpython-310-darwin.so'>,\n",
       " 'hashlib': <module 'hashlib' from '/usr/local/Cellar/python@3.10/3.10.0_2/Frameworks/Python.framework/Versions/3.10/lib/python3.10/hashlib.py'>,\n",
       " 'hmac': <module 'hmac' from '/usr/local/Cellar/python@3.10/3.10.0_2/Frameworks/Python.framework/Versions/3.10/lib/python3.10/hmac.py'>,\n",
       " 'dataclasses': <module 'dataclasses' from '/usr/local/Cellar/python@3.10/3.10.0_2/Frameworks/Python.framework/Versions/3.10/lib/python3.10/dataclasses.py'>,\n",
       " 'pprint': <module 'pprint' from '/usr/local/Cellar/python@3.10/3.10.0_2/Frameworks/Python.framework/Versions/3.10/lib/python3.10/pprint.py'>,\n",
       " '_datetime': <module '_datetime' from '/usr/local/Cellar/python@3.10/3.10.0_2/Frameworks/Python.framework/Versions/3.10/lib/python3.10/lib-dynload/_datetime.cpython-310-darwin.so'>,\n",
       " 'datetime': <module 'datetime' from '/usr/local/Cellar/python@3.10/3.10.0_2/Frameworks/Python.framework/Versions/3.10/lib/python3.10/datetime.py'>,\n",
       " 'gettext': <module 'gettext' from '/usr/local/Cellar/python@3.10/3.10.0_2/Frameworks/Python.framework/Versions/3.10/lib/python3.10/gettext.py'>,\n",
       " 'argparse': <module 'argparse' from '/usr/local/Cellar/python@3.10/3.10.0_2/Frameworks/Python.framework/Versions/3.10/lib/python3.10/argparse.py'>,\n",
       " 'traitlets.config.loader': <module 'traitlets.config.loader' from '/usr/local/lib/python3.10/site-packages/traitlets/config/loader.py'>,\n",
       " 'textwrap': <module 'textwrap' from '/usr/local/Cellar/python@3.10/3.10.0_2/Frameworks/Python.framework/Versions/3.10/lib/python3.10/textwrap.py'>,\n",
       " 'traitlets.utils.text': <module 'traitlets.utils.text' from '/usr/local/lib/python3.10/site-packages/traitlets/utils/text.py'>,\n",
       " 'traitlets.config.configurable': <module 'traitlets.config.configurable' from '/usr/local/lib/python3.10/site-packages/traitlets/config/configurable.py'>,\n",
       " 'traitlets.config.application': <module 'traitlets.config.application' from '/usr/local/lib/python3.10/site-packages/traitlets/config/application.py'>,\n",
       " 'traitlets.config': <module 'traitlets.config' from '/usr/local/lib/python3.10/site-packages/traitlets/config/__init__.py'>,\n",
       " 'traitlets.log': <module 'traitlets.log' from '/usr/local/lib/python3.10/site-packages/traitlets/log.py'>,\n",
       " '__future__': <module '__future__' from '/usr/local/Cellar/python@3.10/3.10.0_2/Frameworks/Python.framework/Versions/3.10/lib/python3.10/__future__.py'>,\n",
       " 'tornado': <module 'tornado' from '/usr/local/lib/python3.10/site-packages/tornado/__init__.py'>,\n",
       " 'logging.handlers': <module 'logging.handlers' from '/usr/local/Cellar/python@3.10/3.10.0_2/Frameworks/Python.framework/Versions/3.10/lib/python3.10/logging/handlers.py'>,\n",
       " 'html.entities': <module 'html.entities' from '/usr/local/Cellar/python@3.10/3.10.0_2/Frameworks/Python.framework/Versions/3.10/lib/python3.10/html/entities.py'>,\n",
       " 'html': <module 'html' from '/usr/local/Cellar/python@3.10/3.10.0_2/Frameworks/Python.framework/Versions/3.10/lib/python3.10/html/__init__.py'>,\n",
       " 'urllib': <module 'urllib' from '/usr/local/Cellar/python@3.10/3.10.0_2/Frameworks/Python.framework/Versions/3.10/lib/python3.10/urllib/__init__.py'>,\n",
       " 'urllib.parse': <module 'urllib.parse' from '/usr/local/Cellar/python@3.10/3.10.0_2/Frameworks/Python.framework/Versions/3.10/lib/python3.10/urllib/parse.py'>,\n",
       " 'zlib': <module 'zlib' from '/usr/local/Cellar/python@3.10/3.10.0_2/Frameworks/Python.framework/Versions/3.10/lib/python3.10/lib-dynload/zlib.cpython-310-darwin.so'>,\n",
       " 'tornado.speedups': <module 'tornado.speedups' from '/usr/local/lib/python3.10/site-packages/tornado/speedups.cpython-310-darwin.so'>,\n",
       " 'tornado.util': <module 'tornado.util' from '/usr/local/lib/python3.10/site-packages/tornado/util.py'>,\n",
       " 'tornado.escape': <module 'tornado.escape' from '/usr/local/lib/python3.10/site-packages/tornado/escape.py'>,\n",
       " 'colorama.ansi': <module 'colorama.ansi' from '/usr/local/lib/python3.10/site-packages/colorama/ansi.py'>,\n",
       " 'colorama.win32': <module 'colorama.win32' from '/usr/local/lib/python3.10/site-packages/colorama/win32.py'>,\n",
       " 'colorama.winterm': <module 'colorama.winterm' from '/usr/local/lib/python3.10/site-packages/colorama/winterm.py'>,\n",
       " 'colorama.ansitowin32': <module 'colorama.ansitowin32' from '/usr/local/lib/python3.10/site-packages/colorama/ansitowin32.py'>,\n",
       " 'colorama.initialise': <module 'colorama.initialise' from '/usr/local/lib/python3.10/site-packages/colorama/initialise.py'>,\n",
       " 'colorama': <module 'colorama' from '/usr/local/lib/python3.10/site-packages/colorama/__init__.py'>,\n",
       " '_curses': <module '_curses' from '/usr/local/Cellar/python@3.10/3.10.0_2/Frameworks/Python.framework/Versions/3.10/lib/python3.10/lib-dynload/_curses.cpython-310-darwin.so'>,\n",
       " 'curses': <module 'curses' from '/usr/local/Cellar/python@3.10/3.10.0_2/Frameworks/Python.framework/Versions/3.10/lib/python3.10/curses/__init__.py'>,\n",
       " 'tornado.log': <module 'tornado.log' from '/usr/local/lib/python3.10/site-packages/tornado/log.py'>,\n",
       " 'numbers': <module 'numbers' from '/usr/local/Cellar/python@3.10/3.10.0_2/Frameworks/Python.framework/Versions/3.10/lib/python3.10/numbers.py'>,\n",
       " 'tornado.concurrent': <module 'tornado.concurrent' from '/usr/local/lib/python3.10/site-packages/tornado/concurrent.py'>,\n",
       " 'tornado.ioloop': <module 'tornado.ioloop' from '/usr/local/lib/python3.10/site-packages/tornado/ioloop.py'>,\n",
       " 'tornado.platform': <module 'tornado.platform' from '/usr/local/lib/python3.10/site-packages/tornado/platform/__init__.py'>,\n",
       " 'tornado.gen': <module 'tornado.gen' from '/usr/local/lib/python3.10/site-packages/tornado/gen.py'>,\n",
       " 'tornado.platform.asyncio': <module 'tornado.platform.asyncio' from '/usr/local/lib/python3.10/site-packages/tornado/platform/asyncio.py'>,\n",
       " 'zmq.eventloop.ioloop': <module 'zmq.eventloop.ioloop' from '/usr/local/lib/python3.10/site-packages/zmq/eventloop/ioloop.py'>,\n",
       " 'zmq.eventloop': <module 'zmq.eventloop' from '/usr/local/lib/python3.10/site-packages/zmq/eventloop/__init__.py'>,\n",
       " 'zmq.eventloop.zmqstream': <module 'zmq.eventloop.zmqstream' from '/usr/local/lib/python3.10/site-packages/zmq/eventloop/zmqstream.py'>,\n",
       " 'jupyter_client.adapter': <module 'jupyter_client.adapter' from '/usr/local/lib/python3.10/site-packages/jupyter_client/adapter.py'>,\n",
       " 'dateutil._version': <module 'dateutil._version' from '/usr/local/lib/python3.10/site-packages/dateutil/_version.py'>,\n",
       " 'dateutil': <module 'dateutil' from '/usr/local/lib/python3.10/site-packages/dateutil/__init__.py'>,\n",
       " 'locale': <module 'locale' from '/usr/local/Cellar/python@3.10/3.10.0_2/Frameworks/Python.framework/Versions/3.10/lib/python3.10/locale.py'>,\n",
       " 'calendar': <module 'calendar' from '/usr/local/Cellar/python@3.10/3.10.0_2/Frameworks/Python.framework/Versions/3.10/lib/python3.10/calendar.py'>,\n",
       " 'six': <module 'six' from '/usr/local/lib/python3.10/site-packages/six.py'>,\n",
       " '_decimal': <module '_decimal' from '/usr/local/Cellar/python@3.10/3.10.0_2/Frameworks/Python.framework/Versions/3.10/lib/python3.10/lib-dynload/_decimal.cpython-310-darwin.so'>,\n",
       " 'decimal': <module 'decimal' from '/usr/local/Cellar/python@3.10/3.10.0_2/Frameworks/Python.framework/Versions/3.10/lib/python3.10/decimal.py'>,\n",
       " 'dateutil._common': <module 'dateutil._common' from '/usr/local/lib/python3.10/site-packages/dateutil/_common.py'>,\n",
       " 'dateutil.relativedelta': <module 'dateutil.relativedelta' from '/usr/local/lib/python3.10/site-packages/dateutil/relativedelta.py'>,\n",
       " 'six.moves': <module 'six.moves' (<six._SixMetaPathImporter object at 0x1112ad720>)>,\n",
       " 'dateutil.tz._common': <module 'dateutil.tz._common' from '/usr/local/lib/python3.10/site-packages/dateutil/tz/_common.py'>,\n",
       " 'dateutil.tz._factories': <module 'dateutil.tz._factories' from '/usr/local/lib/python3.10/site-packages/dateutil/tz/_factories.py'>,\n",
       " 'dateutil.tz.tz': <module 'dateutil.tz.tz' from '/usr/local/lib/python3.10/site-packages/dateutil/tz/tz.py'>,\n",
       " 'dateutil.tz': <module 'dateutil.tz' from '/usr/local/lib/python3.10/site-packages/dateutil/tz/__init__.py'>,\n",
       " 'dateutil.parser._parser': <module 'dateutil.parser._parser' from '/usr/local/lib/python3.10/site-packages/dateutil/parser/_parser.py'>,\n",
       " 'dateutil.parser.isoparser': <module 'dateutil.parser.isoparser' from '/usr/local/lib/python3.10/site-packages/dateutil/parser/isoparser.py'>,\n",
       " 'dateutil.parser': <module 'dateutil.parser' from '/usr/local/lib/python3.10/site-packages/dateutil/parser/__init__.py'>,\n",
       " '_strptime': <module '_strptime' from '/usr/local/Cellar/python@3.10/3.10.0_2/Frameworks/Python.framework/Versions/3.10/lib/python3.10/_strptime.py'>,\n",
       " 'jupyter_client.jsonutil': <module 'jupyter_client.jsonutil' from '/usr/local/lib/python3.10/site-packages/jupyter_client/jsonutil.py'>,\n",
       " 'jupyter_client.session': <module 'jupyter_client.session' from '/usr/local/lib/python3.10/site-packages/jupyter_client/session.py'>,\n",
       " 'jupyter_client.channels': <module 'jupyter_client.channels' from '/usr/local/lib/python3.10/site-packages/jupyter_client/channels.py'>,\n",
       " 'termios': <module 'termios' from '/usr/local/Cellar/python@3.10/3.10.0_2/Frameworks/Python.framework/Versions/3.10/lib/python3.10/lib-dynload/termios.cpython-310-darwin.so'>,\n",
       " 'getpass': <module 'getpass' from '/usr/local/Cellar/python@3.10/3.10.0_2/Frameworks/Python.framework/Versions/3.10/lib/python3.10/getpass.py'>,\n",
       " 'jupyter_client.clientabc': <module 'jupyter_client.clientabc' from '/usr/local/lib/python3.10/site-packages/jupyter_client/clientabc.py'>,\n",
       " 'fnmatch': <module 'fnmatch' from '/usr/local/Cellar/python@3.10/3.10.0_2/Frameworks/Python.framework/Versions/3.10/lib/python3.10/fnmatch.py'>,\n",
       " 'glob': <module 'glob' from '/usr/local/Cellar/python@3.10/3.10.0_2/Frameworks/Python.framework/Versions/3.10/lib/python3.10/glob.py'>,\n",
       " '_compression': <module '_compression' from '/usr/local/Cellar/python@3.10/3.10.0_2/Frameworks/Python.framework/Versions/3.10/lib/python3.10/_compression.py'>,\n",
       " '_bz2': <module '_bz2' from '/usr/local/Cellar/python@3.10/3.10.0_2/Frameworks/Python.framework/Versions/3.10/lib/python3.10/lib-dynload/_bz2.cpython-310-darwin.so'>,\n",
       " 'bz2': <module 'bz2' from '/usr/local/Cellar/python@3.10/3.10.0_2/Frameworks/Python.framework/Versions/3.10/lib/python3.10/bz2.py'>,\n",
       " '_lzma': <module '_lzma' from '/usr/local/Cellar/python@3.10/3.10.0_2/Frameworks/Python.framework/Versions/3.10/lib/python3.10/lib-dynload/_lzma.cpython-310-darwin.so'>,\n",
       " 'lzma': <module 'lzma' from '/usr/local/Cellar/python@3.10/3.10.0_2/Frameworks/Python.framework/Versions/3.10/lib/python3.10/lzma.py'>,\n",
       " 'shutil': <module 'shutil' from '/usr/local/Cellar/python@3.10/3.10.0_2/Frameworks/Python.framework/Versions/3.10/lib/python3.10/shutil.py'>,\n",
       " 'tempfile': <module 'tempfile' from '/usr/local/Cellar/python@3.10/3.10.0_2/Frameworks/Python.framework/Versions/3.10/lib/python3.10/tempfile.py'>,\n",
       " 'jupyter_core.version': <module 'jupyter_core.version' from '/usr/local/lib/python3.10/site-packages/jupyter_core/version.py'>,\n",
       " 'jupyter_core': <module 'jupyter_core' from '/usr/local/lib/python3.10/site-packages/jupyter_core/__init__.py'>,\n",
       " 'ntpath': <module 'ntpath' from '/usr/local/Cellar/python@3.10/3.10.0_2/Frameworks/Python.framework/Versions/3.10/lib/python3.10/ntpath.py'>,\n",
       " 'pathlib': <module 'pathlib' from '/usr/local/Cellar/python@3.10/3.10.0_2/Frameworks/Python.framework/Versions/3.10/lib/python3.10/pathlib.py'>,\n",
       " 'jupyter_core.paths': <module 'jupyter_core.paths' from '/usr/local/lib/python3.10/site-packages/jupyter_core/paths.py'>,\n",
       " 'jupyter_client.localinterfaces': <module 'jupyter_client.localinterfaces' from '/usr/local/lib/python3.10/site-packages/jupyter_client/localinterfaces.py'>,\n",
       " 'jupyter_client.utils': <module 'jupyter_client.utils' from '/usr/local/lib/python3.10/site-packages/jupyter_client/utils.py'>,\n",
       " 'jupyter_client.connect': <module 'jupyter_client.connect' from '/usr/local/lib/python3.10/site-packages/jupyter_client/connect.py'>,\n",
       " 'jupyter_client.client': <module 'jupyter_client.client' from '/usr/local/lib/python3.10/site-packages/jupyter_client/client.py'>,\n",
       " 'jupyter_client.asynchronous.client': <module 'jupyter_client.asynchronous.client' from '/usr/local/lib/python3.10/site-packages/jupyter_client/asynchronous/client.py'>,\n",
       " 'jupyter_client.asynchronous': <module 'jupyter_client.asynchronous' from '/usr/local/lib/python3.10/site-packages/jupyter_client/asynchronous/__init__.py'>,\n",
       " 'jupyter_client.blocking.client': <module 'jupyter_client.blocking.client' from '/usr/local/lib/python3.10/site-packages/jupyter_client/blocking/client.py'>,\n",
       " 'jupyter_client.blocking': <module 'jupyter_client.blocking' from '/usr/local/lib/python3.10/site-packages/jupyter_client/blocking/__init__.py'>,\n",
       " 'jupyter_client.launcher': <module 'jupyter_client.launcher' from '/usr/local/lib/python3.10/site-packages/jupyter_client/launcher.py'>,\n",
       " '_uuid': <module '_uuid' from '/usr/local/Cellar/python@3.10/3.10.0_2/Frameworks/Python.framework/Versions/3.10/lib/python3.10/lib-dynload/_uuid.cpython-310-darwin.so'>,\n",
       " 'uuid': <module 'uuid' from '/usr/local/Cellar/python@3.10/3.10.0_2/Frameworks/Python.framework/Versions/3.10/lib/python3.10/uuid.py'>,\n",
       " 'jupyter_client.managerabc': <module 'jupyter_client.managerabc' from '/usr/local/lib/python3.10/site-packages/jupyter_client/managerabc.py'>,\n",
       " 'zipfile': <module 'zipfile' from '/usr/local/Cellar/python@3.10/3.10.0_2/Frameworks/Python.framework/Versions/3.10/lib/python3.10/zipfile.py'>,\n",
       " 'configparser': <module 'configparser' from '/usr/local/Cellar/python@3.10/3.10.0_2/Frameworks/Python.framework/Versions/3.10/lib/python3.10/configparser.py'>,\n",
       " 'entrypoints': <module 'entrypoints' from '/usr/local/lib/python3.10/site-packages/entrypoints.py'>,\n",
       " 'jupyter_client.provisioning.provisioner_base': <module 'jupyter_client.provisioning.provisioner_base' from '/usr/local/lib/python3.10/site-packages/jupyter_client/provisioning/provisioner_base.py'>,\n",
       " 'jupyter_client.provisioning.factory': <module 'jupyter_client.provisioning.factory' from '/usr/local/lib/python3.10/site-packages/jupyter_client/provisioning/factory.py'>,\n",
       " 'jupyter_client.provisioning.local_provisioner': <module 'jupyter_client.provisioning.local_provisioner' from '/usr/local/lib/python3.10/site-packages/jupyter_client/provisioning/local_provisioner.py'>,\n",
       " 'jupyter_client.provisioning': <module 'jupyter_client.provisioning' from '/usr/local/lib/python3.10/site-packages/jupyter_client/provisioning/__init__.py'>,\n",
       " 'jupyter_client.kernelspec': <module 'jupyter_client.kernelspec' from '/usr/local/lib/python3.10/site-packages/jupyter_client/kernelspec.py'>,\n",
       " 'jupyter_client.manager': <module 'jupyter_client.manager' from '/usr/local/lib/python3.10/site-packages/jupyter_client/manager.py'>,\n",
       " 'jupyter_client.multikernelmanager': <module 'jupyter_client.multikernelmanager' from '/usr/local/lib/python3.10/site-packages/jupyter_client/multikernelmanager.py'>,\n",
       " 'jupyter_client': <module 'jupyter_client' from '/usr/local/lib/python3.10/site-packages/jupyter_client/__init__.py'>,\n",
       " 'ipykernel.connect': <module 'ipykernel.connect' from '/usr/local/lib/python3.10/site-packages/ipykernel/connect.py'>,\n",
       " 'ipykernel': <module 'ipykernel' from '/usr/local/lib/python3.10/site-packages/ipykernel/__init__.py'>,\n",
       " 'IPython.core': <module 'IPython.core' from '/usr/local/lib/python3.10/site-packages/IPython/core/__init__.py'>,\n",
       " 'IPython.core.getipython': <module 'IPython.core.getipython' from '/usr/local/lib/python3.10/site-packages/IPython/core/getipython.py'>,\n",
       " 'IPython.core.release': <module 'IPython.core.release' from '/usr/local/lib/python3.10/site-packages/IPython/core/release.py'>,\n",
       " 'pkgutil': <module 'pkgutil' from '/usr/local/Cellar/python@3.10/3.10.0_2/Frameworks/Python.framework/Versions/3.10/lib/python3.10/pkgutil.py'>,\n",
       " 'sysconfig': <module 'sysconfig' from '/usr/local/Cellar/python@3.10/3.10.0_2/Frameworks/Python.framework/Versions/3.10/lib/python3.10/sysconfig.py'>,\n",
       " '_sysconfigdata__darwin_darwin': <module '_sysconfigdata__darwin_darwin' from '/usr/local/Cellar/python@3.10/3.10.0_2/Frameworks/Python.framework/Versions/3.10/lib/python3.10/_sysconfigdata__darwin_darwin.py'>,\n",
       " '_osx_support': <module '_osx_support' from '/usr/local/Cellar/python@3.10/3.10.0_2/Frameworks/Python.framework/Versions/3.10/lib/python3.10/_osx_support.py'>,\n",
       " 'pydoc': <module 'pydoc' from '/usr/local/Cellar/python@3.10/3.10.0_2/Frameworks/Python.framework/Versions/3.10/lib/python3.10/pydoc.py'>,\n",
       " 'bdb': <module 'bdb' from '/usr/local/Cellar/python@3.10/3.10.0_2/Frameworks/Python.framework/Versions/3.10/lib/python3.10/bdb.py'>,\n",
       " 'IPython.utils': <module 'IPython.utils' from '/usr/local/lib/python3.10/site-packages/IPython/utils/__init__.py'>,\n",
       " 'IPython.utils.ipstruct': <module 'IPython.utils.ipstruct' from '/usr/local/lib/python3.10/site-packages/IPython/utils/ipstruct.py'>,\n",
       " 'IPython.utils.coloransi': <module 'IPython.utils.coloransi' from '/usr/local/lib/python3.10/site-packages/IPython/utils/coloransi.py'>,\n",
       " 'pygments': <module 'pygments' from '/usr/local/lib/python3.10/site-packages/pygments/__init__.py'>,\n",
       " 'IPython.utils.colorable': <module 'IPython.utils.colorable' from '/usr/local/lib/python3.10/site-packages/IPython/utils/colorable.py'>,\n",
       " 'IPython.utils.PyColorize': <module 'IPython.utils.PyColorize' from '/usr/local/lib/python3.10/site-packages/IPython/utils/PyColorize.py'>,\n",
       " 'IPython.utils.encoding': <module 'IPython.utils.encoding' from '/usr/local/lib/python3.10/site-packages/IPython/utils/encoding.py'>,\n",
       " 'IPython.utils.py3compat': <module 'IPython.utils.py3compat' from '/usr/local/lib/python3.10/site-packages/IPython/utils/py3compat.py'>,\n",
       " 'IPython.core.excolors': <module 'IPython.core.excolors' from '/usr/local/lib/python3.10/site-packages/IPython/core/excolors.py'>,\n",
       " 'IPython.testing': <module 'IPython.testing' from '/usr/local/lib/python3.10/site-packages/IPython/testing/__init__.py'>,\n",
       " 'IPython.testing.skipdoctest': <module 'IPython.testing.skipdoctest' from '/usr/local/lib/python3.10/site-packages/IPython/testing/skipdoctest.py'>,\n",
       " 'cmd': <module 'cmd' from '/usr/local/Cellar/python@3.10/3.10.0_2/Frameworks/Python.framework/Versions/3.10/lib/python3.10/cmd.py'>,\n",
       " 'codeop': <module 'codeop' from '/usr/local/Cellar/python@3.10/3.10.0_2/Frameworks/Python.framework/Versions/3.10/lib/python3.10/codeop.py'>,\n",
       " 'code': <module 'code' from '/usr/local/Cellar/python@3.10/3.10.0_2/Frameworks/Python.framework/Versions/3.10/lib/python3.10/code.py'>,\n",
       " 'pdb': <module 'pdb' from '/usr/local/Cellar/python@3.10/3.10.0_2/Frameworks/Python.framework/Versions/3.10/lib/python3.10/pdb.py'>,\n",
       " 'IPython.core.debugger': <module 'IPython.core.debugger' from '/usr/local/lib/python3.10/site-packages/IPython/core/debugger.py'>,\n",
       " 'IPython.core.display_trap': <module 'IPython.core.display_trap' from '/usr/local/lib/python3.10/site-packages/IPython/core/display_trap.py'>,\n",
       " 'pexpect.exceptions': <module 'pexpect.exceptions' from '/usr/local/lib/python3.10/site-packages/pexpect/exceptions.py'>,\n",
       " 'pexpect.utils': <module 'pexpect.utils' from '/usr/local/lib/python3.10/site-packages/pexpect/utils.py'>,\n",
       " 'pexpect.expect': <module 'pexpect.expect' from '/usr/local/lib/python3.10/site-packages/pexpect/expect.py'>,\n",
       " 'tty': <module 'tty' from '/usr/local/Cellar/python@3.10/3.10.0_2/Frameworks/Python.framework/Versions/3.10/lib/python3.10/tty.py'>,\n",
       " 'pty': <module 'pty' from '/usr/local/Cellar/python@3.10/3.10.0_2/Frameworks/Python.framework/Versions/3.10/lib/python3.10/pty.py'>,\n",
       " 'resource': <module 'resource' from '/usr/local/Cellar/python@3.10/3.10.0_2/Frameworks/Python.framework/Versions/3.10/lib/python3.10/lib-dynload/resource.cpython-310-darwin.so'>,\n",
       " 'ptyprocess.util': <module 'ptyprocess.util' from '/usr/local/lib/python3.10/site-packages/ptyprocess/util.py'>,\n",
       " 'ptyprocess.ptyprocess': <module 'ptyprocess.ptyprocess' from '/usr/local/lib/python3.10/site-packages/ptyprocess/ptyprocess.py'>,\n",
       " 'ptyprocess': <module 'ptyprocess' from '/usr/local/lib/python3.10/site-packages/ptyprocess/__init__.py'>,\n",
       " 'pexpect.spawnbase': <module 'pexpect.spawnbase' from '/usr/local/lib/python3.10/site-packages/pexpect/spawnbase.py'>,\n",
       " 'pexpect.pty_spawn': <module 'pexpect.pty_spawn' from '/usr/local/lib/python3.10/site-packages/pexpect/pty_spawn.py'>,\n",
       " 'pexpect.run': <module 'pexpect.run' from '/usr/local/lib/python3.10/site-packages/pexpect/run.py'>,\n",
       " 'pexpect': <module 'pexpect' from '/usr/local/lib/python3.10/site-packages/pexpect/__init__.py'>,\n",
       " 'shlex': <module 'shlex' from '/usr/local/Cellar/python@3.10/3.10.0_2/Frameworks/Python.framework/Versions/3.10/lib/python3.10/shlex.py'>,\n",
       " 'IPython.utils._process_common': <module 'IPython.utils._process_common' from '/usr/local/lib/python3.10/site-packages/IPython/utils/_process_common.py'>,\n",
       " 'IPython.utils._process_posix': <module 'IPython.utils._process_posix' from '/usr/local/lib/python3.10/site-packages/IPython/utils/_process_posix.py'>,\n",
       " 'IPython.utils.process': <module 'IPython.utils.process' from '/usr/local/lib/python3.10/site-packages/IPython/utils/process.py'>,\n",
       " 'IPython.utils.decorators': <module 'IPython.utils.decorators' from '/usr/local/lib/python3.10/site-packages/IPython/utils/decorators.py'>,\n",
       " 'IPython.utils.path': <module 'IPython.utils.path' from '/usr/local/lib/python3.10/site-packages/IPython/utils/path.py'>,\n",
       " 'IPython.utils.data': <module 'IPython.utils.data' from '/usr/local/lib/python3.10/site-packages/IPython/utils/data.py'>,\n",
       " 'IPython.utils.terminal': <module 'IPython.utils.terminal' from '/usr/local/lib/python3.10/site-packages/IPython/utils/terminal.py'>,\n",
       " 'IPython.core.ultratb': <module 'IPython.core.ultratb' from '/usr/local/lib/python3.10/site-packages/IPython/core/ultratb.py'>,\n",
       " 'IPython.utils._sysinfo': <module 'IPython.utils._sysinfo' from '/usr/local/lib/python3.10/site-packages/IPython/utils/_sysinfo.py'>,\n",
       " 'IPython.utils.sysinfo': <module 'IPython.utils.sysinfo' from '/usr/local/lib/python3.10/site-packages/IPython/utils/sysinfo.py'>,\n",
       " 'IPython.core.crashhandler': <module 'IPython.core.crashhandler' from '/usr/local/lib/python3.10/site-packages/IPython/core/crashhandler.py'>,\n",
       " 'IPython.utils.importstring': <module 'IPython.utils.importstring' from '/usr/local/lib/python3.10/site-packages/IPython/utils/importstring.py'>,\n",
       " 'IPython.paths': <module 'IPython.paths' from '/usr/local/lib/python3.10/site-packages/IPython/paths.py'>,\n",
       " 'IPython.core.profiledir': <module 'IPython.core.profiledir' from '/usr/local/lib/python3.10/site-packages/IPython/core/profiledir.py'>,\n",
       " 'IPython.core.application': <module 'IPython.core.application' from '/usr/local/lib/python3.10/site-packages/IPython/core/application.py'>,\n",
       " 'IPython.terminal': <module 'IPython.terminal' from '/usr/local/lib/python3.10/site-packages/IPython/terminal/__init__.py'>,\n",
       " 'IPython.core.compilerop': <module 'IPython.core.compilerop' from '/usr/local/lib/python3.10/site-packages/IPython/core/compilerop.py'>,\n",
       " 'IPython.core.error': <module 'IPython.core.error' from '/usr/local/lib/python3.10/site-packages/IPython/core/error.py'>,\n",
       " 'IPython.utils.text': <module 'IPython.utils.text' from '/usr/local/lib/python3.10/site-packages/IPython/utils/text.py'>,\n",
       " 'IPython.core.magic_arguments': <module 'IPython.core.magic_arguments' from '/usr/local/lib/python3.10/site-packages/IPython/core/magic_arguments.py'>,\n",
       " 'getopt': <module 'getopt' from '/usr/local/Cellar/python@3.10/3.10.0_2/Frameworks/Python.framework/Versions/3.10/lib/python3.10/getopt.py'>,\n",
       " 'mimetypes': <module 'mimetypes' from '/usr/local/Cellar/python@3.10/3.10.0_2/Frameworks/Python.framework/Versions/3.10/lib/python3.10/mimetypes.py'>,\n",
       " 'IPython.core.display': <module 'IPython.core.display' from '/usr/local/lib/python3.10/site-packages/IPython/core/display.py'>,\n",
       " 'IPython.core.page': <module 'IPython.core.page' from '/usr/local/lib/python3.10/site-packages/IPython/core/page.py'>,\n",
       " 'IPython.lib.security': <module 'IPython.lib.security' from '/usr/local/lib/python3.10/site-packages/IPython/lib/security.py'>,\n",
       " 'IPython.lib': <module 'IPython.lib' from '/usr/local/lib/python3.10/site-packages/IPython/lib/__init__.py'>,\n",
       " 'IPython.lib.pretty': <module 'IPython.lib.pretty' from '/usr/local/lib/python3.10/site-packages/IPython/lib/pretty.py'>,\n",
       " 'IPython.utils.openpy': <module 'IPython.utils.openpy' from '/usr/local/lib/python3.10/site-packages/IPython/utils/openpy.py'>,\n",
       " 'IPython.utils.dir2': <module 'IPython.utils.dir2' from '/usr/local/lib/python3.10/site-packages/IPython/utils/dir2.py'>,\n",
       " 'IPython.utils.wildcard': <module 'IPython.utils.wildcard' from '/usr/local/lib/python3.10/site-packages/IPython/utils/wildcard.py'>,\n",
       " 'pygments.lexers._mapping': <module 'pygments.lexers._mapping' from '/usr/local/lib/python3.10/site-packages/pygments/lexers/_mapping.py'>,\n",
       " 'pygments.modeline': <module 'pygments.modeline' from '/usr/local/lib/python3.10/site-packages/pygments/modeline.py'>,\n",
       " 'pygments.plugin': <module 'pygments.plugin' from '/usr/local/lib/python3.10/site-packages/pygments/plugin.py'>,\n",
       " 'pygments.util': <module 'pygments.util' from '/usr/local/lib/python3.10/site-packages/pygments/util.py'>,\n",
       " 'pygments.lexers': <module 'pygments.lexers' from '/usr/local/lib/python3.10/site-packages/pygments/lexers/__init__.py'>,\n",
       " 'pygments.filter': <module 'pygments.filter' from '/usr/local/lib/python3.10/site-packages/pygments/filter.py'>,\n",
       " 'pygments.token': <module 'pygments.token' from '/usr/local/lib/python3.10/site-packages/pygments/token.py'>,\n",
       " 'pygments.filters': <module 'pygments.filters' from '/usr/local/lib/python3.10/site-packages/pygments/filters/__init__.py'>,\n",
       " 'pygments.regexopt': <module 'pygments.regexopt' from '/usr/local/lib/python3.10/site-packages/pygments/regexopt.py'>,\n",
       " 'pygments.lexer': <module 'pygments.lexer' from '/usr/local/lib/python3.10/site-packages/pygments/lexer.py'>,\n",
       " 'pygments.unistring': <module 'pygments.unistring' from '/usr/local/lib/python3.10/site-packages/pygments/unistring.py'>,\n",
       " 'pygments.lexers.python': <module 'pygments.lexers.python' from '/usr/local/lib/python3.10/site-packages/pygments/lexers/python.py'>,\n",
       " 'pygments.formatters._mapping': <module 'pygments.formatters._mapping' from '/usr/local/lib/python3.10/site-packages/pygments/formatters/_mapping.py'>,\n",
       " 'pygments.formatters': <module 'pygments.formatters' from '/usr/local/lib/python3.10/site-packages/pygments/formatters/__init__.py'>,\n",
       " 'pygments.styles': <module 'pygments.styles' from '/usr/local/lib/python3.10/site-packages/pygments/styles/__init__.py'>,\n",
       " 'pygments.formatter': <module 'pygments.formatter' from '/usr/local/lib/python3.10/site-packages/pygments/formatter.py'>,\n",
       " 'pygments.formatters.html': <module 'pygments.formatters.html' from '/usr/local/lib/python3.10/site-packages/pygments/formatters/html.py'>,\n",
       " 'IPython.core.oinspect': <module 'IPython.core.oinspect' from '/usr/local/lib/python3.10/site-packages/IPython/core/oinspect.py'>,\n",
       " 'IPython.core.inputtransformer2': <module 'IPython.core.inputtransformer2' from '/usr/local/lib/python3.10/site-packages/IPython/core/inputtransformer2.py'>,\n",
       " 'decorator': <module 'decorator' from '/usr/local/lib/python3.10/site-packages/decorator.py'>,\n",
       " 'IPython.core.magic': <module 'IPython.core.magic' from '/usr/local/lib/python3.10/site-packages/IPython/core/magic.py'>,\n",
       " 'pickleshare': <module 'pickleshare' from '/usr/local/lib/python3.10/site-packages/pickleshare.py'>,\n",
       " 'IPython.core.autocall': <module 'IPython.core.autocall' from '/usr/local/lib/python3.10/site-packages/IPython/core/autocall.py'>,\n",
       " 'IPython.core.macro': <module 'IPython.core.macro' from '/usr/local/lib/python3.10/site-packages/IPython/core/macro.py'>,\n",
       " 'IPython.core.splitinput': <module 'IPython.core.splitinput' from '/usr/local/lib/python3.10/site-packages/IPython/core/splitinput.py'>,\n",
       " 'IPython.core.prefilter': <module 'IPython.core.prefilter' from '/usr/local/lib/python3.10/site-packages/IPython/core/prefilter.py'>,\n",
       " 'IPython.core.alias': <module 'IPython.core.alias' from '/usr/local/lib/python3.10/site-packages/IPython/core/alias.py'>,\n",
       " 'IPython.core.builtin_trap': <module 'IPython.core.builtin_trap' from '/usr/local/lib/python3.10/site-packages/IPython/core/builtin_trap.py'>,\n",
       " 'backcall.backcall': <module 'backcall.backcall' from '/usr/local/lib/python3.10/site-packages/backcall/backcall.py'>,\n",
       " 'backcall': <module 'backcall' from '/usr/local/lib/python3.10/site-packages/backcall/__init__.py'>,\n",
       " 'IPython.core.events': <module 'IPython.core.events' from '/usr/local/lib/python3.10/site-packages/IPython/core/events.py'>,\n",
       " 'IPython.core.displayhook': <module 'IPython.core.displayhook' from '/usr/local/lib/python3.10/site-packages/IPython/core/displayhook.py'>,\n",
       " 'IPython.core.displaypub': <module 'IPython.core.displaypub' from '/usr/local/lib/python3.10/site-packages/IPython/core/displaypub.py'>,\n",
       " 'IPython.core.extensions': <module 'IPython.core.extensions' from '/usr/local/lib/python3.10/site-packages/IPython/core/extensions.py'>,\n",
       " 'IPython.utils.sentinel': <module 'IPython.utils.sentinel' from '/usr/local/lib/python3.10/site-packages/IPython/utils/sentinel.py'>,\n",
       " 'IPython.core.formatters': <module 'IPython.core.formatters' from '/usr/local/lib/python3.10/site-packages/IPython/core/formatters.py'>,\n",
       " '_sqlite3': <module '_sqlite3' from '/usr/local/Cellar/python@3.10/3.10.0_2/Frameworks/Python.framework/Versions/3.10/lib/python3.10/lib-dynload/_sqlite3.cpython-310-darwin.so'>,\n",
       " 'sqlite3.dbapi2': <module 'sqlite3.dbapi2' from '/usr/local/Cellar/python@3.10/3.10.0_2/Frameworks/Python.framework/Versions/3.10/lib/python3.10/sqlite3/dbapi2.py'>,\n",
       " 'sqlite3': <module 'sqlite3' from '/usr/local/Cellar/python@3.10/3.10.0_2/Frameworks/Python.framework/Versions/3.10/lib/python3.10/sqlite3/__init__.py'>,\n",
       " 'IPython.core.history': <module 'IPython.core.history' from '/usr/local/lib/python3.10/site-packages/IPython/core/history.py'>,\n",
       " 'IPython.core.logger': <module 'IPython.core.logger' from '/usr/local/lib/python3.10/site-packages/IPython/core/logger.py'>,\n",
       " 'IPython.core.payload': <module 'IPython.core.payload' from '/usr/local/lib/python3.10/site-packages/IPython/core/payload.py'>,\n",
       " 'IPython.core.usage': <module 'IPython.core.usage' from '/usr/local/lib/python3.10/site-packages/IPython/core/usage.py'>,\n",
       " 'IPython.lib.display': <module 'IPython.lib.display' from '/usr/local/lib/python3.10/site-packages/IPython/lib/display.py'>,\n",
       " 'IPython.display': <module 'IPython.display' from '/usr/local/lib/python3.10/site-packages/IPython/display.py'>,\n",
       " 'IPython.utils.capture': <module 'IPython.utils.capture' from '/usr/local/lib/python3.10/site-packages/IPython/utils/capture.py'>,\n",
       " 'IPython.utils.io': <module 'IPython.utils.io' from '/usr/local/lib/python3.10/site-packages/IPython/utils/io.py'>,\n",
       " 'IPython.core.hooks': <module 'IPython.core.hooks' from '/usr/local/lib/python3.10/site-packages/IPython/core/hooks.py'>,\n",
       " 'IPython.utils.strdispatch': <module 'IPython.utils.strdispatch' from '/usr/local/lib/python3.10/site-packages/IPython/utils/strdispatch.py'>,\n",
       " 'IPython.utils.syspathcontext': <module 'IPython.utils.syspathcontext' from '/usr/local/lib/python3.10/site-packages/IPython/utils/syspathcontext.py'>,\n",
       " 'IPython.utils.tempdir': <module 'IPython.utils.tempdir' from '/usr/local/lib/python3.10/site-packages/IPython/utils/tempdir.py'>,\n",
       " 'IPython.utils.contexts': <module 'IPython.utils.contexts' from '/usr/local/lib/python3.10/site-packages/IPython/utils/contexts.py'>,\n",
       " 'IPython.core.async_helpers': <module 'IPython.core.async_helpers' from '/usr/local/lib/python3.10/site-packages/IPython/core/async_helpers.py'>,\n",
       " 'IPython.core.interactiveshell': <module 'IPython.core.interactiveshell' from '/usr/local/lib/python3.10/site-packages/IPython/core/interactiveshell.py'>,\n",
       " 'prompt_toolkit.application.current': <module 'prompt_toolkit.application.current' from '/usr/local/lib/python3.10/site-packages/prompt_toolkit/application/current.py'>,\n",
       " 'prompt_toolkit.eventloop.utils': <module 'prompt_toolkit.eventloop.utils' from '/usr/local/lib/python3.10/site-packages/prompt_toolkit/eventloop/utils.py'>,\n",
       " 'prompt_toolkit.eventloop.async_generator': <module 'prompt_toolkit.eventloop.async_generator' from '/usr/local/lib/python3.10/site-packages/prompt_toolkit/eventloop/async_generator.py'>,\n",
       " 'wcwidth.table_wide': <module 'wcwidth.table_wide' from '/usr/local/lib/python3.10/site-packages/wcwidth/table_wide.py'>,\n",
       " 'wcwidth.table_zero': <module 'wcwidth.table_zero' from '/usr/local/lib/python3.10/site-packages/wcwidth/table_zero.py'>,\n",
       " 'wcwidth.unicode_versions': <module 'wcwidth.unicode_versions' from '/usr/local/lib/python3.10/site-packages/wcwidth/unicode_versions.py'>,\n",
       " 'wcwidth.wcwidth': <module 'wcwidth.wcwidth' from '/usr/local/lib/python3.10/site-packages/wcwidth/wcwidth.py'>,\n",
       " 'wcwidth': <module 'wcwidth' from '/usr/local/lib/python3.10/site-packages/wcwidth/__init__.py'>,\n",
       " 'prompt_toolkit.utils': <module 'prompt_toolkit.utils' from '/usr/local/lib/python3.10/site-packages/prompt_toolkit/utils.py'>,\n",
       " 'prompt_toolkit.eventloop.inputhook': <module 'prompt_toolkit.eventloop.inputhook' from '/usr/local/lib/python3.10/site-packages/prompt_toolkit/eventloop/inputhook.py'>,\n",
       " 'prompt_toolkit.eventloop': <module 'prompt_toolkit.eventloop' from '/usr/local/lib/python3.10/site-packages/prompt_toolkit/eventloop/__init__.py'>,\n",
       " 'prompt_toolkit.application.run_in_terminal': <module 'prompt_toolkit.application.run_in_terminal' from '/usr/local/lib/python3.10/site-packages/prompt_toolkit/application/run_in_terminal.py'>,\n",
       " 'prompt_toolkit.selection': <module 'prompt_toolkit.selection' from '/usr/local/lib/python3.10/site-packages/prompt_toolkit/selection.py'>,\n",
       " 'prompt_toolkit.clipboard.base': <module 'prompt_toolkit.clipboard.base' from '/usr/local/lib/python3.10/site-packages/prompt_toolkit/clipboard/base.py'>,\n",
       " 'prompt_toolkit.clipboard.in_memory': <module 'prompt_toolkit.clipboard.in_memory' from '/usr/local/lib/python3.10/site-packages/prompt_toolkit/clipboard/in_memory.py'>,\n",
       " 'prompt_toolkit.clipboard': <module 'prompt_toolkit.clipboard' from '/usr/local/lib/python3.10/site-packages/prompt_toolkit/clipboard/__init__.py'>,\n",
       " 'prompt_toolkit.cache': <module 'prompt_toolkit.cache' from '/usr/local/lib/python3.10/site-packages/prompt_toolkit/cache.py'>,\n",
       " 'prompt_toolkit.enums': <module 'prompt_toolkit.enums' from '/usr/local/lib/python3.10/site-packages/prompt_toolkit/enums.py'>,\n",
       " 'prompt_toolkit.filters.base': <module 'prompt_toolkit.filters.base' from '/usr/local/lib/python3.10/site-packages/prompt_toolkit/filters/base.py'>,\n",
       " 'prompt_toolkit.filters.app': <module 'prompt_toolkit.filters.app' from '/usr/local/lib/python3.10/site-packages/prompt_toolkit/filters/app.py'>,\n",
       " 'prompt_toolkit.filters.cli': <module 'prompt_toolkit.filters.cli' from '/usr/local/lib/python3.10/site-packages/prompt_toolkit/filters/cli.py'>,\n",
       " 'prompt_toolkit.filters.utils': <module 'prompt_toolkit.filters.utils' from '/usr/local/lib/python3.10/site-packages/prompt_toolkit/filters/utils.py'>,\n",
       " 'prompt_toolkit.filters': <module 'prompt_toolkit.filters' from '/usr/local/lib/python3.10/site-packages/prompt_toolkit/filters/__init__.py'>,\n",
       " 'prompt_toolkit.document': <module 'prompt_toolkit.document' from '/usr/local/lib/python3.10/site-packages/prompt_toolkit/document.py'>,\n",
       " 'prompt_toolkit.auto_suggest': <module 'prompt_toolkit.auto_suggest' from '/usr/local/lib/python3.10/site-packages/prompt_toolkit/auto_suggest.py'>,\n",
       " 'prompt_toolkit.data_structures': <module 'prompt_toolkit.data_structures' from '/usr/local/lib/python3.10/site-packages/prompt_toolkit/data_structures.py'>,\n",
       " 'prompt_toolkit.styles.base': <module 'prompt_toolkit.styles.base' from '/usr/local/lib/python3.10/site-packages/prompt_toolkit/styles/base.py'>,\n",
       " 'prompt_toolkit.styles.named_colors': <module 'prompt_toolkit.styles.named_colors' from '/usr/local/lib/python3.10/site-packages/prompt_toolkit/styles/named_colors.py'>,\n",
       " 'prompt_toolkit.styles.style': <module 'prompt_toolkit.styles.style' from '/usr/local/lib/python3.10/site-packages/prompt_toolkit/styles/style.py'>,\n",
       " 'prompt_toolkit.styles.defaults': <module 'prompt_toolkit.styles.defaults' from '/usr/local/lib/python3.10/site-packages/prompt_toolkit/styles/defaults.py'>,\n",
       " 'prompt_toolkit.styles.pygments': <module 'prompt_toolkit.styles.pygments' from '/usr/local/lib/python3.10/site-packages/prompt_toolkit/styles/pygments.py'>,\n",
       " 'colorsys': <module 'colorsys' from '/usr/local/Cellar/python@3.10/3.10.0_2/Frameworks/Python.framework/Versions/3.10/lib/python3.10/colorsys.py'>,\n",
       " 'prompt_toolkit.styles.style_transformation': <module 'prompt_toolkit.styles.style_transformation' from '/usr/local/lib/python3.10/site-packages/prompt_toolkit/styles/style_transformation.py'>,\n",
       " 'prompt_toolkit.styles': <module 'prompt_toolkit.styles' from '/usr/local/lib/python3.10/site-packages/prompt_toolkit/styles/__init__.py'>,\n",
       " 'prompt_toolkit.output.color_depth': <module 'prompt_toolkit.output.color_depth' from '/usr/local/lib/python3.10/site-packages/prompt_toolkit/output/color_depth.py'>,\n",
       " 'prompt_toolkit.output.base': <module 'prompt_toolkit.output.base' from '/usr/local/lib/python3.10/site-packages/prompt_toolkit/output/base.py'>,\n",
       " 'prompt_toolkit.output.defaults': <module 'prompt_toolkit.output.defaults' from '/usr/local/lib/python3.10/site-packages/prompt_toolkit/output/defaults.py'>,\n",
       " 'prompt_toolkit.output': <module 'prompt_toolkit.output' from '/usr/local/lib/python3.10/site-packages/prompt_toolkit/output/__init__.py'>,\n",
       " 'prompt_toolkit.output.vt100': <module 'prompt_toolkit.output.vt100' from '/usr/local/lib/python3.10/site-packages/prompt_toolkit/output/vt100.py'>,\n",
       " 'prompt_toolkit.mouse_events': <module 'prompt_toolkit.mouse_events' from '/usr/local/lib/python3.10/site-packages/prompt_toolkit/mouse_events.py'>,\n",
       " 'prompt_toolkit.formatted_text.base': <module 'prompt_toolkit.formatted_text.base' from '/usr/local/lib/python3.10/site-packages/prompt_toolkit/formatted_text/base.py'>,\n",
       " 'prompt_toolkit.formatted_text.ansi': <module 'prompt_toolkit.formatted_text.ansi' from '/usr/local/lib/python3.10/site-packages/prompt_toolkit/formatted_text/ansi.py'>,\n",
       " 'xml': <module 'xml' from '/usr/local/Cellar/python@3.10/3.10.0_2/Frameworks/Python.framework/Versions/3.10/lib/python3.10/xml/__init__.py'>,\n",
       " 'xml.dom.domreg': <module 'xml.dom.domreg' from '/usr/local/Cellar/python@3.10/3.10.0_2/Frameworks/Python.framework/Versions/3.10/lib/python3.10/xml/dom/domreg.py'>,\n",
       " 'xml.dom': <module 'xml.dom' from '/usr/local/Cellar/python@3.10/3.10.0_2/Frameworks/Python.framework/Versions/3.10/lib/python3.10/xml/dom/__init__.py'>,\n",
       " 'xml.dom.minicompat': <module 'xml.dom.minicompat' from '/usr/local/Cellar/python@3.10/3.10.0_2/Frameworks/Python.framework/Versions/3.10/lib/python3.10/xml/dom/minicompat.py'>,\n",
       " 'xml.dom.NodeFilter': <module 'xml.dom.NodeFilter' from '/usr/local/Cellar/python@3.10/3.10.0_2/Frameworks/Python.framework/Versions/3.10/lib/python3.10/xml/dom/NodeFilter.py'>,\n",
       " 'xml.dom.xmlbuilder': <module 'xml.dom.xmlbuilder' from '/usr/local/Cellar/python@3.10/3.10.0_2/Frameworks/Python.framework/Versions/3.10/lib/python3.10/xml/dom/xmlbuilder.py'>,\n",
       " 'xml.dom.minidom': <module 'xml.dom.minidom' from '/usr/local/Cellar/python@3.10/3.10.0_2/Frameworks/Python.framework/Versions/3.10/lib/python3.10/xml/dom/minidom.py'>,\n",
       " 'prompt_toolkit.formatted_text.html': <module 'prompt_toolkit.formatted_text.html' from '/usr/local/lib/python3.10/site-packages/prompt_toolkit/formatted_text/html.py'>,\n",
       " 'prompt_toolkit.formatted_text.pygments': <module 'prompt_toolkit.formatted_text.pygments' from '/usr/local/lib/python3.10/site-packages/prompt_toolkit/formatted_text/pygments.py'>,\n",
       " 'prompt_toolkit.formatted_text.utils': <module 'prompt_toolkit.formatted_text.utils' from '/usr/local/lib/python3.10/site-packages/prompt_toolkit/formatted_text/utils.py'>,\n",
       " 'prompt_toolkit.formatted_text': <module 'prompt_toolkit.formatted_text' from '/usr/local/lib/python3.10/site-packages/prompt_toolkit/formatted_text/__init__.py'>,\n",
       " 'prompt_toolkit.completion.base': <module 'prompt_toolkit.completion.base' from '/usr/local/lib/python3.10/site-packages/prompt_toolkit/completion/base.py'>,\n",
       " 'prompt_toolkit.completion.deduplicate': <module 'prompt_toolkit.completion.deduplicate' from '/usr/local/lib/python3.10/site-packages/prompt_toolkit/completion/deduplicate.py'>,\n",
       " 'prompt_toolkit.completion.filesystem': <module 'prompt_toolkit.completion.filesystem' from '/usr/local/lib/python3.10/site-packages/prompt_toolkit/completion/filesystem.py'>,\n",
       " 'prompt_toolkit.completion.word_completer': <module 'prompt_toolkit.completion.word_completer' from '/usr/local/lib/python3.10/site-packages/prompt_toolkit/completion/word_completer.py'>,\n",
       " 'prompt_toolkit.completion.fuzzy_completer': <module 'prompt_toolkit.completion.fuzzy_completer' from '/usr/local/lib/python3.10/site-packages/prompt_toolkit/completion/fuzzy_completer.py'>,\n",
       " 'prompt_toolkit.completion.nested': <module 'prompt_toolkit.completion.nested' from '/usr/local/lib/python3.10/site-packages/prompt_toolkit/completion/nested.py'>,\n",
       " 'prompt_toolkit.completion': <module 'prompt_toolkit.completion' from '/usr/local/lib/python3.10/site-packages/prompt_toolkit/completion/__init__.py'>,\n",
       " 'prompt_toolkit.history': <module 'prompt_toolkit.history' from '/usr/local/lib/python3.10/site-packages/prompt_toolkit/history.py'>,\n",
       " 'prompt_toolkit.keys': <module 'prompt_toolkit.keys' from '/usr/local/lib/python3.10/site-packages/prompt_toolkit/keys.py'>,\n",
       " 'prompt_toolkit.key_binding.key_bindings': <module 'prompt_toolkit.key_binding.key_bindings' from '/usr/local/lib/python3.10/site-packages/prompt_toolkit/key_binding/key_bindings.py'>,\n",
       " 'prompt_toolkit.key_binding.key_processor': <module 'prompt_toolkit.key_binding.key_processor' from '/usr/local/lib/python3.10/site-packages/prompt_toolkit/key_binding/key_processor.py'>,\n",
       " 'prompt_toolkit.key_binding': <module 'prompt_toolkit.key_binding' from '/usr/local/lib/python3.10/site-packages/prompt_toolkit/key_binding/__init__.py'>,\n",
       " 'prompt_toolkit.key_binding.vi_state': <module 'prompt_toolkit.key_binding.vi_state' from '/usr/local/lib/python3.10/site-packages/prompt_toolkit/key_binding/vi_state.py'>,\n",
       " 'prompt_toolkit.search': <module 'prompt_toolkit.search' from '/usr/local/lib/python3.10/site-packages/prompt_toolkit/search.py'>,\n",
       " 'prompt_toolkit.validation': <module 'prompt_toolkit.validation' from '/usr/local/lib/python3.10/site-packages/prompt_toolkit/validation.py'>,\n",
       " 'prompt_toolkit.buffer': <module 'prompt_toolkit.buffer' from '/usr/local/lib/python3.10/site-packages/prompt_toolkit/buffer.py'>,\n",
       " 'prompt_toolkit.input.base': <module 'prompt_toolkit.input.base' from '/usr/local/lib/python3.10/site-packages/prompt_toolkit/input/base.py'>,\n",
       " 'prompt_toolkit.input.defaults': <module 'prompt_toolkit.input.defaults' from '/usr/local/lib/python3.10/site-packages/prompt_toolkit/input/defaults.py'>,\n",
       " 'prompt_toolkit.input': <module 'prompt_toolkit.input' from '/usr/local/lib/python3.10/site-packages/prompt_toolkit/input/__init__.py'>,\n",
       " 'prompt_toolkit.input.typeahead': <module 'prompt_toolkit.input.typeahead' from '/usr/local/lib/python3.10/site-packages/prompt_toolkit/input/typeahead.py'>,\n",
       " 'prompt_toolkit.key_binding.bindings': <module 'prompt_toolkit.key_binding.bindings' from '/usr/local/lib/python3.10/site-packages/prompt_toolkit/key_binding/bindings/__init__.py'>,\n",
       " 'prompt_toolkit.key_binding.bindings.scroll': <module 'prompt_toolkit.key_binding.bindings.scroll' from '/usr/local/lib/python3.10/site-packages/prompt_toolkit/key_binding/bindings/scroll.py'>,\n",
       " 'prompt_toolkit.key_binding.bindings.page_navigation': <module 'prompt_toolkit.key_binding.bindings.page_navigation' from '/usr/local/lib/python3.10/site-packages/prompt_toolkit/key_binding/bindings/page_navigation.py'>,\n",
       " 'prompt_toolkit.lexers.base': <module 'prompt_toolkit.lexers.base' from '/usr/local/lib/python3.10/site-packages/prompt_toolkit/lexers/base.py'>,\n",
       " 'prompt_toolkit.lexers.pygments': <module 'prompt_toolkit.lexers.pygments' from '/usr/local/lib/python3.10/site-packages/prompt_toolkit/lexers/pygments.py'>,\n",
       " 'prompt_toolkit.lexers': <module 'prompt_toolkit.lexers' from '/usr/local/lib/python3.10/site-packages/prompt_toolkit/lexers/__init__.py'>,\n",
       " 'prompt_toolkit.layout.utils': <module 'prompt_toolkit.layout.utils' from '/usr/local/lib/python3.10/site-packages/prompt_toolkit/layout/utils.py'>,\n",
       " 'prompt_toolkit.layout.processors': <module 'prompt_toolkit.layout.processors' from '/usr/local/lib/python3.10/site-packages/prompt_toolkit/layout/processors.py'>,\n",
       " 'prompt_toolkit.layout.controls': <module 'prompt_toolkit.layout.controls' from '/usr/local/lib/python3.10/site-packages/prompt_toolkit/layout/controls.py'>,\n",
       " 'prompt_toolkit.layout.dimension': <module 'prompt_toolkit.layout.dimension' from '/usr/local/lib/python3.10/site-packages/prompt_toolkit/layout/dimension.py'>,\n",
       " 'prompt_toolkit.layout.margins': <module 'prompt_toolkit.layout.margins' from '/usr/local/lib/python3.10/site-packages/prompt_toolkit/layout/margins.py'>,\n",
       " 'prompt_toolkit.layout.mouse_handlers': <module 'prompt_toolkit.layout.mouse_handlers' from '/usr/local/lib/python3.10/site-packages/prompt_toolkit/layout/mouse_handlers.py'>,\n",
       " 'prompt_toolkit.layout.screen': <module 'prompt_toolkit.layout.screen' from '/usr/local/lib/python3.10/site-packages/prompt_toolkit/layout/screen.py'>,\n",
       " 'prompt_toolkit.layout.containers': <module 'prompt_toolkit.layout.containers' from '/usr/local/lib/python3.10/site-packages/prompt_toolkit/layout/containers.py'>,\n",
       " 'prompt_toolkit.layout.layout': <module 'prompt_toolkit.layout.layout' from '/usr/local/lib/python3.10/site-packages/prompt_toolkit/layout/layout.py'>,\n",
       " 'prompt_toolkit.layout.menus': <module 'prompt_toolkit.layout.menus' from '/usr/local/lib/python3.10/site-packages/prompt_toolkit/layout/menus.py'>,\n",
       " 'prompt_toolkit.layout.scrollable_pane': <module 'prompt_toolkit.layout.scrollable_pane' from '/usr/local/lib/python3.10/site-packages/prompt_toolkit/layout/scrollable_pane.py'>,\n",
       " 'prompt_toolkit.layout': <module 'prompt_toolkit.layout' from '/usr/local/lib/python3.10/site-packages/prompt_toolkit/layout/__init__.py'>,\n",
       " 'prompt_toolkit.key_binding.bindings.completion': <module 'prompt_toolkit.key_binding.bindings.completion' from '/usr/local/lib/python3.10/site-packages/prompt_toolkit/key_binding/bindings/completion.py'>,\n",
       " 'prompt_toolkit.key_binding.bindings.named_commands': <module 'prompt_toolkit.key_binding.bindings.named_commands' from '/usr/local/lib/python3.10/site-packages/prompt_toolkit/key_binding/bindings/named_commands.py'>,\n",
       " 'prompt_toolkit.key_binding.bindings.basic': <module 'prompt_toolkit.key_binding.bindings.basic' from '/usr/local/lib/python3.10/site-packages/prompt_toolkit/key_binding/bindings/basic.py'>,\n",
       " 'prompt_toolkit.key_binding.bindings.cpr': <module 'prompt_toolkit.key_binding.bindings.cpr' from '/usr/local/lib/python3.10/site-packages/prompt_toolkit/key_binding/bindings/cpr.py'>,\n",
       " 'prompt_toolkit.key_binding.bindings.emacs': <module 'prompt_toolkit.key_binding.bindings.emacs' from '/usr/local/lib/python3.10/site-packages/prompt_toolkit/key_binding/bindings/emacs.py'>,\n",
       " 'prompt_toolkit.key_binding.bindings.mouse': <module 'prompt_toolkit.key_binding.bindings.mouse' from '/usr/local/lib/python3.10/site-packages/prompt_toolkit/key_binding/bindings/mouse.py'>,\n",
       " 'prompt_toolkit.input.ansi_escape_sequences': <module 'prompt_toolkit.input.ansi_escape_sequences' from '/usr/local/lib/python3.10/site-packages/prompt_toolkit/input/ansi_escape_sequences.py'>,\n",
       " 'prompt_toolkit.input.vt100_parser': <module 'prompt_toolkit.input.vt100_parser' from '/usr/local/lib/python3.10/site-packages/prompt_toolkit/input/vt100_parser.py'>,\n",
       " 'prompt_toolkit.key_binding.digraphs': <module 'prompt_toolkit.key_binding.digraphs' from '/usr/local/lib/python3.10/site-packages/prompt_toolkit/key_binding/digraphs.py'>,\n",
       " 'prompt_toolkit.key_binding.bindings.vi': <module 'prompt_toolkit.key_binding.bindings.vi' from '/usr/local/lib/python3.10/site-packages/prompt_toolkit/key_binding/bindings/vi.py'>,\n",
       " 'prompt_toolkit.key_binding.defaults': <module 'prompt_toolkit.key_binding.defaults' from '/usr/local/lib/python3.10/site-packages/prompt_toolkit/key_binding/defaults.py'>,\n",
       " 'prompt_toolkit.key_binding.emacs_state': <module 'prompt_toolkit.key_binding.emacs_state' from '/usr/local/lib/python3.10/site-packages/prompt_toolkit/key_binding/emacs_state.py'>,\n",
       " 'prompt_toolkit.layout.dummy': <module 'prompt_toolkit.layout.dummy' from '/usr/local/lib/python3.10/site-packages/prompt_toolkit/layout/dummy.py'>,\n",
       " 'prompt_toolkit.renderer': <module 'prompt_toolkit.renderer' from '/usr/local/lib/python3.10/site-packages/prompt_toolkit/renderer.py'>,\n",
       " 'prompt_toolkit.application.application': <module 'prompt_toolkit.application.application' from '/usr/local/lib/python3.10/site-packages/prompt_toolkit/application/application.py'>,\n",
       " 'prompt_toolkit.application.dummy': <module 'prompt_toolkit.application.dummy' from '/usr/local/lib/python3.10/site-packages/prompt_toolkit/application/dummy.py'>,\n",
       " 'prompt_toolkit.application': <module 'prompt_toolkit.application' from '/usr/local/lib/python3.10/site-packages/prompt_toolkit/application/__init__.py'>,\n",
       " 'prompt_toolkit.key_binding.bindings.focus': <module 'prompt_toolkit.key_binding.bindings.focus' from '/usr/local/lib/python3.10/site-packages/prompt_toolkit/key_binding/bindings/focus.py'>,\n",
       " 'prompt_toolkit.widgets.toolbars': <module 'prompt_toolkit.widgets.toolbars' from '/usr/local/lib/python3.10/site-packages/prompt_toolkit/widgets/toolbars.py'>,\n",
       " 'prompt_toolkit.widgets.base': <module 'prompt_toolkit.widgets.base' from '/usr/local/lib/python3.10/site-packages/prompt_toolkit/widgets/base.py'>,\n",
       " 'prompt_toolkit.widgets.dialogs': <module 'prompt_toolkit.widgets.dialogs' from '/usr/local/lib/python3.10/site-packages/prompt_toolkit/widgets/dialogs.py'>,\n",
       " 'prompt_toolkit.widgets.menus': <module 'prompt_toolkit.widgets.menus' from '/usr/local/lib/python3.10/site-packages/prompt_toolkit/widgets/menus.py'>,\n",
       " 'prompt_toolkit.widgets': <module 'prompt_toolkit.widgets' from '/usr/local/lib/python3.10/site-packages/prompt_toolkit/widgets/__init__.py'>,\n",
       " 'prompt_toolkit.shortcuts.dialogs': <module 'prompt_toolkit.shortcuts.dialogs' from '/usr/local/lib/python3.10/site-packages/prompt_toolkit/shortcuts/dialogs.py'>,\n",
       " 'prompt_toolkit.shortcuts.progress_bar.formatters': <module 'prompt_toolkit.shortcuts.progress_bar.formatters' from '/usr/local/lib/python3.10/site-packages/prompt_toolkit/shortcuts/progress_bar/formatters.py'>,\n",
       " 'prompt_toolkit.shortcuts.progress_bar.base': <module 'prompt_toolkit.shortcuts.progress_bar.base' from '/usr/local/lib/python3.10/site-packages/prompt_toolkit/shortcuts/progress_bar/base.py'>,\n",
       " 'prompt_toolkit.shortcuts.progress_bar': <module 'prompt_toolkit.shortcuts.progress_bar' from '/usr/local/lib/python3.10/site-packages/prompt_toolkit/shortcuts/progress_bar/__init__.py'>,\n",
       " 'prompt_toolkit.key_binding.bindings.auto_suggest': <module 'prompt_toolkit.key_binding.bindings.auto_suggest' from '/usr/local/lib/python3.10/site-packages/prompt_toolkit/key_binding/bindings/auto_suggest.py'>,\n",
       " 'prompt_toolkit.key_binding.bindings.open_in_editor': <module 'prompt_toolkit.key_binding.bindings.open_in_editor' from '/usr/local/lib/python3.10/site-packages/prompt_toolkit/key_binding/bindings/open_in_editor.py'>,\n",
       " 'prompt_toolkit.shortcuts.prompt': <module 'prompt_toolkit.shortcuts.prompt' from '/usr/local/lib/python3.10/site-packages/prompt_toolkit/shortcuts/prompt.py'>,\n",
       " 'prompt_toolkit.shortcuts.utils': <module 'prompt_toolkit.shortcuts.utils' from '/usr/local/lib/python3.10/site-packages/prompt_toolkit/shortcuts/utils.py'>,\n",
       " 'prompt_toolkit.shortcuts': <module 'prompt_toolkit.shortcuts' from '/usr/local/lib/python3.10/site-packages/prompt_toolkit/shortcuts/__init__.py'>,\n",
       " 'prompt_toolkit': <module 'prompt_toolkit' from '/usr/local/lib/python3.10/site-packages/prompt_toolkit/__init__.py'>,\n",
       " 'prompt_toolkit.patch_stdout': <module 'prompt_toolkit.patch_stdout' from '/usr/local/lib/python3.10/site-packages/prompt_toolkit/patch_stdout.py'>,\n",
       " 'pygments.style': <module 'pygments.style' from '/usr/local/lib/python3.10/site-packages/pygments/style.py'>,\n",
       " 'unicodedata': <module 'unicodedata' from '/usr/local/Cellar/python@3.10/3.10.0_2/Frameworks/Python.framework/Versions/3.10/lib/python3.10/lib-dynload/unicodedata.cpython-310-darwin.so'>,\n",
       " 'IPython.core.latex_symbols': <module 'IPython.core.latex_symbols' from '/usr/local/lib/python3.10/site-packages/IPython/core/latex_symbols.py'>,\n",
       " 'IPython.utils.generics': <module 'IPython.utils.generics' from '/usr/local/lib/python3.10/site-packages/IPython/utils/generics.py'>,\n",
       " 'parso.utils': <module 'parso.utils' from '/usr/local/lib/python3.10/site-packages/parso/utils.py'>,\n",
       " 'parso.tree': <module 'parso.tree' from '/usr/local/lib/python3.10/site-packages/parso/tree.py'>,\n",
       " 'parso.python': <module 'parso.python' from '/usr/local/lib/python3.10/site-packages/parso/python/__init__.py'>,\n",
       " 'parso.python.token': <module 'parso.python.token' from '/usr/local/lib/python3.10/site-packages/parso/python/token.py'>,\n",
       " 'parso.python.tokenize': <module 'parso.python.tokenize' from '/usr/local/lib/python3.10/site-packages/parso/python/tokenize.py'>,\n",
       " 'parso.pgen2.grammar_parser': <module 'parso.pgen2.grammar_parser' from '/usr/local/lib/python3.10/site-packages/parso/pgen2/grammar_parser.py'>,\n",
       " 'parso.pgen2.generator': <module 'parso.pgen2.generator' from '/usr/local/lib/python3.10/site-packages/parso/pgen2/generator.py'>,\n",
       " 'parso.pgen2': <module 'parso.pgen2' from '/usr/local/lib/python3.10/site-packages/parso/pgen2/__init__.py'>,\n",
       " 'parso.parser': <module 'parso.parser' from '/usr/local/lib/python3.10/site-packages/parso/parser.py'>,\n",
       " 'parso._compatibility': <module 'parso._compatibility' from '/usr/local/lib/python3.10/site-packages/parso/_compatibility.py'>,\n",
       " 'difflib': <module 'difflib' from '/usr/local/Cellar/python@3.10/3.10.0_2/Frameworks/Python.framework/Versions/3.10/lib/python3.10/difflib.py'>,\n",
       " 'parso.python.prefix': <module 'parso.python.prefix' from '/usr/local/lib/python3.10/site-packages/parso/python/prefix.py'>,\n",
       " 'parso.python.tree': <module 'parso.python.tree' from '/usr/local/lib/python3.10/site-packages/parso/python/tree.py'>,\n",
       " 'parso.python.parser': <module 'parso.python.parser' from '/usr/local/lib/python3.10/site-packages/parso/python/parser.py'>,\n",
       " 'parso.python.diff': <module 'parso.python.diff' from '/usr/local/lib/python3.10/site-packages/parso/python/diff.py'>,\n",
       " 'gc': <module 'gc' (built-in)>,\n",
       " 'parso.cache': <module 'parso.cache' from '/usr/local/lib/python3.10/site-packages/parso/cache.py'>,\n",
       " 'parso.normalizer': <module 'parso.normalizer' from '/usr/local/lib/python3.10/site-packages/parso/normalizer.py'>,\n",
       " 'parso.python.errors': <module 'parso.python.errors' from '/usr/local/lib/python3.10/site-packages/parso/python/errors.py'>,\n",
       " 'parso.python.pep8': <module 'parso.python.pep8' from '/usr/local/lib/python3.10/site-packages/parso/python/pep8.py'>,\n",
       " 'parso.file_io': <module 'parso.file_io' from '/usr/local/lib/python3.10/site-packages/parso/file_io.py'>,\n",
       " 'parso.grammar': <module 'parso.grammar' from '/usr/local/lib/python3.10/site-packages/parso/grammar.py'>,\n",
       " 'parso': <module 'parso' from '/usr/local/lib/python3.10/site-packages/parso/__init__.py'>,\n",
       " 'jedi._compatibility': <module 'jedi._compatibility' from '/usr/local/lib/python3.10/site-packages/jedi/_compatibility.py'>,\n",
       " 'jedi.parser_utils': <module 'jedi.parser_utils' from '/usr/local/lib/python3.10/site-packages/jedi/parser_utils.py'>,\n",
       " 'jedi.debug': <module 'jedi.debug' from '/usr/local/lib/python3.10/site-packages/jedi/debug.py'>,\n",
       " 'jedi.settings': <module 'jedi.settings' from '/usr/local/lib/python3.10/site-packages/jedi/settings.py'>,\n",
       " 'jedi.cache': <module 'jedi.cache' from '/usr/local/lib/python3.10/site-packages/jedi/cache.py'>,\n",
       " 'jedi.file_io': <module 'jedi.file_io' from '/usr/local/lib/python3.10/site-packages/jedi/file_io.py'>,\n",
       " 'jedi.inference.cache': <module 'jedi.inference.cache' from '/usr/local/lib/python3.10/site-packages/jedi/inference/cache.py'>,\n",
       " 'jedi.inference.helpers': <module 'jedi.inference.helpers' from '/usr/local/lib/python3.10/site-packages/jedi/inference/helpers.py'>,\n",
       " 'jedi.inference.utils': <module 'jedi.inference.utils' from '/usr/local/lib/python3.10/site-packages/jedi/inference/utils.py'>,\n",
       " 'jedi.inference.base_value': <module 'jedi.inference.base_value' from '/usr/local/lib/python3.10/site-packages/jedi/inference/base_value.py'>,\n",
       " 'jedi.inference.sys_path': <module 'jedi.inference.sys_path' from '/usr/local/lib/python3.10/site-packages/jedi/inference/sys_path.py'>,\n",
       " 'jedi.inference.recursion': <module 'jedi.inference.recursion' from '/usr/local/lib/python3.10/site-packages/jedi/inference/recursion.py'>,\n",
       " 'jedi.inference.flow_analysis': <module 'jedi.inference.flow_analysis' from '/usr/local/lib/python3.10/site-packages/jedi/inference/flow_analysis.py'>,\n",
       " 'jedi.common': <module 'jedi.common' from '/usr/local/lib/python3.10/site-packages/jedi/common.py'>,\n",
       " 'jedi.inference.lazy_value': <module 'jedi.inference.lazy_value' from '/usr/local/lib/python3.10/site-packages/jedi/inference/lazy_value.py'>,\n",
       " 'jedi.inference.docstrings': <module 'jedi.inference.docstrings' from '/usr/local/lib/python3.10/site-packages/jedi/inference/docstrings.py'>,\n",
       " 'jedi.plugins': <module 'jedi.plugins' from '/usr/local/lib/python3.10/site-packages/jedi/plugins/__init__.py'>,\n",
       " 'jedi.inference.names': <module 'jedi.inference.names' from '/usr/local/lib/python3.10/site-packages/jedi/inference/names.py'>,\n",
       " 'jedi.inference.filters': <module 'jedi.inference.filters' from '/usr/local/lib/python3.10/site-packages/jedi/inference/filters.py'>,\n",
       " 'jedi.inference.compiled.getattr_static': <module 'jedi.inference.compiled.getattr_static' from '/usr/local/lib/python3.10/site-packages/jedi/inference/compiled/getattr_static.py'>,\n",
       " 'jedi.inference.compiled.access': <module 'jedi.inference.compiled.access' from '/usr/local/lib/python3.10/site-packages/jedi/inference/compiled/access.py'>,\n",
       " 'jedi.inference.signature': <module 'jedi.inference.signature' from '/usr/local/lib/python3.10/site-packages/jedi/inference/signature.py'>,\n",
       " 'jedi.inference.context': <module 'jedi.inference.context' from '/usr/local/lib/python3.10/site-packages/jedi/inference/context.py'>,\n",
       " 'jedi.inference.compiled.value': <module 'jedi.inference.compiled.value' from '/usr/local/lib/python3.10/site-packages/jedi/inference/compiled/value.py'>,\n",
       " 'jedi.inference.compiled': <module 'jedi.inference.compiled' from '/usr/local/lib/python3.10/site-packages/jedi/inference/compiled/__init__.py'>,\n",
       " 'jedi.inference.analysis': <module 'jedi.inference.analysis' from '/usr/local/lib/python3.10/site-packages/jedi/inference/analysis.py'>,\n",
       " 'jedi.inference.gradual': <module 'jedi.inference.gradual' from '/usr/local/lib/python3.10/site-packages/jedi/inference/gradual/__init__.py'>,\n",
       " 'jedi.inference.value.module': <module 'jedi.inference.value.module' from '/usr/local/lib/python3.10/site-packages/jedi/inference/value/module.py'>,\n",
       " 'jedi.inference.value.dynamic_arrays': <module 'jedi.inference.value.dynamic_arrays' from '/usr/local/lib/python3.10/site-packages/jedi/inference/value/dynamic_arrays.py'>,\n",
       " 'jedi.inference.value.iterable': <module 'jedi.inference.value.iterable' from '/usr/local/lib/python3.10/site-packages/jedi/inference/value/iterable.py'>,\n",
       " 'jedi.inference.arguments': <module 'jedi.inference.arguments' from '/usr/local/lib/python3.10/site-packages/jedi/inference/arguments.py'>,\n",
       " 'jedi.inference.parser_cache': <module 'jedi.inference.parser_cache' from '/usr/local/lib/python3.10/site-packages/jedi/inference/parser_cache.py'>,\n",
       " 'jedi.inference.gradual.generics': <module 'jedi.inference.gradual.generics' from '/usr/local/lib/python3.10/site-packages/jedi/inference/gradual/generics.py'>,\n",
       " 'jedi.inference.value.function': <module 'jedi.inference.value.function' from '/usr/local/lib/python3.10/site-packages/jedi/inference/value/function.py'>,\n",
       " 'jedi.inference.value.klass': <module 'jedi.inference.value.klass' from '/usr/local/lib/python3.10/site-packages/jedi/inference/value/klass.py'>,\n",
       " 'jedi.inference.value.instance': <module 'jedi.inference.value.instance' from '/usr/local/lib/python3.10/site-packages/jedi/inference/value/instance.py'>,\n",
       " 'jedi.inference.value': <module 'jedi.inference.value' from '/usr/local/lib/python3.10/site-packages/jedi/inference/value/__init__.py'>,\n",
       " 'jedi.inference.gradual.base': <module 'jedi.inference.gradual.base' from '/usr/local/lib/python3.10/site-packages/jedi/inference/gradual/base.py'>,\n",
       " 'jedi.inference.gradual.type_var': <module 'jedi.inference.gradual.type_var' from '/usr/local/lib/python3.10/site-packages/jedi/inference/gradual/type_var.py'>,\n",
       " 'jedi.inference.gradual.typing': <module 'jedi.inference.gradual.typing' from '/usr/local/lib/python3.10/site-packages/jedi/inference/gradual/typing.py'>,\n",
       " 'jedi.inference.gradual.stub_value': <module 'jedi.inference.gradual.stub_value' from '/usr/local/lib/python3.10/site-packages/jedi/inference/gradual/stub_value.py'>,\n",
       " 'jedi.inference.gradual.typeshed': <module 'jedi.inference.gradual.typeshed' from '/usr/local/lib/python3.10/site-packages/jedi/inference/gradual/typeshed.py'>,\n",
       " 'jedi.inference.compiled.subprocess.functions': <module 'jedi.inference.compiled.subprocess.functions' from '/usr/local/lib/python3.10/site-packages/jedi/inference/compiled/subprocess/functions.py'>,\n",
       " 'jedi.api.exceptions': <module 'jedi.api.exceptions' from '/usr/local/lib/python3.10/site-packages/jedi/api/exceptions.py'>,\n",
       " 'jedi.inference.compiled.subprocess': <module 'jedi.inference.compiled.subprocess' from '/usr/local/lib/python3.10/site-packages/jedi/inference/compiled/subprocess/__init__.py'>,\n",
       " 'jedi.inference.imports': <module 'jedi.inference.imports' from '/usr/local/lib/python3.10/site-packages/jedi/inference/imports.py'>,\n",
       " 'jedi.inference.param': <module 'jedi.inference.param' from '/usr/local/lib/python3.10/site-packages/jedi/inference/param.py'>,\n",
       " 'jedi.inference.gradual.annotation': <module 'jedi.inference.gradual.annotation' from '/usr/local/lib/python3.10/site-packages/jedi/inference/gradual/annotation.py'>,\n",
       " 'jedi.inference.value.decorator': <module 'jedi.inference.value.decorator' from '/usr/local/lib/python3.10/site-packages/jedi/inference/value/decorator.py'>,\n",
       " 'jedi.inference.syntax_tree': <module 'jedi.inference.syntax_tree' from '/usr/local/lib/python3.10/site-packages/jedi/inference/syntax_tree.py'>,\n",
       " 'jedi.inference': <module 'jedi.inference' from '/usr/local/lib/python3.10/site-packages/jedi/inference/__init__.py'>,\n",
       " 'jedi.inference.gradual.conversion': <module 'jedi.inference.gradual.conversion' from '/usr/local/lib/python3.10/site-packages/jedi/inference/gradual/conversion.py'>,\n",
       " 'jedi.inference.compiled.mixed': <module 'jedi.inference.compiled.mixed' from '/usr/local/lib/python3.10/site-packages/jedi/inference/compiled/mixed.py'>,\n",
       " 'pydoc_data': <module 'pydoc_data' from '/usr/local/Cellar/python@3.10/3.10.0_2/Frameworks/Python.framework/Versions/3.10/lib/python3.10/pydoc_data/__init__.py'>,\n",
       " 'pydoc_data.topics': <module 'pydoc_data.topics' from '/usr/local/Cellar/python@3.10/3.10.0_2/Frameworks/Python.framework/Versions/3.10/lib/python3.10/pydoc_data/topics.py'>,\n",
       " 'jedi.api.keywords': <module 'jedi.api.keywords' from '/usr/local/lib/python3.10/site-packages/jedi/api/keywords.py'>,\n",
       " 'jedi.api.completion_cache': <module 'jedi.api.completion_cache' from '/usr/local/lib/python3.10/site-packages/jedi/api/completion_cache.py'>,\n",
       " 'jedi.api.helpers': <module 'jedi.api.helpers' from '/usr/local/lib/python3.10/site-packages/jedi/api/helpers.py'>,\n",
       " 'jedi.api.classes': <module 'jedi.api.classes' from '/usr/local/lib/python3.10/site-packages/jedi/api/classes.py'>,\n",
       " 'jedi.api.interpreter': <module 'jedi.api.interpreter' from '/usr/local/lib/python3.10/site-packages/jedi/api/interpreter.py'>,\n",
       " 'jedi.api.strings': <module 'jedi.api.strings' from '/usr/local/lib/python3.10/site-packages/jedi/api/strings.py'>,\n",
       " 'jedi.api.file_name': <module 'jedi.api.file_name' from '/usr/local/lib/python3.10/site-packages/jedi/api/file_name.py'>,\n",
       " 'jedi.api.completion': <module 'jedi.api.completion' from '/usr/local/lib/python3.10/site-packages/jedi/api/completion.py'>,\n",
       " 'filecmp': <module 'filecmp' from '/usr/local/Cellar/python@3.10/3.10.0_2/Frameworks/Python.framework/Versions/3.10/lib/python3.10/filecmp.py'>,\n",
       " 'jedi.api.environment': <module 'jedi.api.environment' from '/usr/local/lib/python3.10/site-packages/jedi/api/environment.py'>,\n",
       " 'jedi.inference.references': <module 'jedi.inference.references' from '/usr/local/lib/python3.10/site-packages/jedi/inference/references.py'>,\n",
       " 'jedi.api.project': <module 'jedi.api.project' from '/usr/local/lib/python3.10/site-packages/jedi/api/project.py'>,\n",
       " 'jedi.api.errors': <module 'jedi.api.errors' from '/usr/local/lib/python3.10/site-packages/jedi/api/errors.py'>,\n",
       " 'jedi.api.refactoring': <module 'jedi.api.refactoring' from '/usr/local/lib/python3.10/site-packages/jedi/api/refactoring/__init__.py'>,\n",
       " 'jedi.api.refactoring.extract': <module 'jedi.api.refactoring.extract' from '/usr/local/lib/python3.10/site-packages/jedi/api/refactoring/extract.py'>,\n",
       " 'jedi.inference.gradual.utils': <module 'jedi.inference.gradual.utils' from '/usr/local/lib/python3.10/site-packages/jedi/inference/gradual/utils.py'>,\n",
       " 'jedi.api': <module 'jedi.api' from '/usr/local/lib/python3.10/site-packages/jedi/api/__init__.py'>,\n",
       " 'jedi.plugins.stdlib': <module 'jedi.plugins.stdlib' from '/usr/local/lib/python3.10/site-packages/jedi/plugins/stdlib.py'>,\n",
       " 'jedi.plugins.flask': <module 'jedi.plugins.flask' from '/usr/local/lib/python3.10/site-packages/jedi/plugins/flask.py'>,\n",
       " 'jedi.plugins.pytest': <module 'jedi.plugins.pytest' from '/usr/local/lib/python3.10/site-packages/jedi/plugins/pytest.py'>,\n",
       " 'jedi.plugins.django': <module 'jedi.plugins.django' from '/usr/local/lib/python3.10/site-packages/jedi/plugins/django.py'>,\n",
       " 'jedi.plugins.registry': <module 'jedi.plugins.registry' from '/usr/local/lib/python3.10/site-packages/jedi/plugins/registry.py'>,\n",
       " 'jedi': <module 'jedi' from '/usr/local/lib/python3.10/site-packages/jedi/__init__.py'>,\n",
       " 'IPython.core.completer': <module 'IPython.core.completer' from '/usr/local/lib/python3.10/site-packages/IPython/core/completer.py'>,\n",
       " 'IPython.terminal.ptutils': <module 'IPython.terminal.ptutils' from '/usr/local/lib/python3.10/site-packages/IPython/terminal/ptutils.py'>,\n",
       " 'IPython.terminal.shortcuts': <module 'IPython.terminal.shortcuts' from '/usr/local/lib/python3.10/site-packages/IPython/terminal/shortcuts.py'>,\n",
       " 'IPython.terminal.debugger': <module 'IPython.terminal.debugger' from '/usr/local/lib/python3.10/site-packages/IPython/terminal/debugger.py'>,\n",
       " 'IPython.lib.clipboard': <module 'IPython.lib.clipboard' from '/usr/local/lib/python3.10/site-packages/IPython/lib/clipboard.py'>,\n",
       " 'IPython.terminal.magics': <module 'IPython.terminal.magics' from '/usr/local/lib/python3.10/site-packages/IPython/terminal/magics.py'>,\n",
       " 'IPython.terminal.pt_inputhooks': <module 'IPython.terminal.pt_inputhooks' from '/usr/local/lib/python3.10/site-packages/IPython/terminal/pt_inputhooks/__init__.py'>,\n",
       " 'IPython.terminal.prompts': <module 'IPython.terminal.prompts' from '/usr/local/lib/python3.10/site-packages/IPython/terminal/prompts.py'>,\n",
       " 'IPython.terminal.interactiveshell': <module 'IPython.terminal.interactiveshell' from '/usr/local/lib/python3.10/site-packages/IPython/terminal/interactiveshell.py'>,\n",
       " 'IPython.core.magics.auto': <module 'IPython.core.magics.auto' from '/usr/local/lib/python3.10/site-packages/IPython/core/magics/auto.py'>,\n",
       " 'IPython.core.magics.basic': <module 'IPython.core.magics.basic' from '/usr/local/lib/python3.10/site-packages/IPython/core/magics/basic.py'>,\n",
       " 'email': <module 'email' from '/usr/local/Cellar/python@3.10/3.10.0_2/Frameworks/Python.framework/Versions/3.10/lib/python3.10/email/__init__.py'>,\n",
       " 'http': <module 'http' from '/usr/local/Cellar/python@3.10/3.10.0_2/Frameworks/Python.framework/Versions/3.10/lib/python3.10/http/__init__.py'>,\n",
       " 'email.errors': <module 'email.errors' from '/usr/local/Cellar/python@3.10/3.10.0_2/Frameworks/Python.framework/Versions/3.10/lib/python3.10/email/errors.py'>,\n",
       " 'email.quoprimime': <module 'email.quoprimime' from '/usr/local/Cellar/python@3.10/3.10.0_2/Frameworks/Python.framework/Versions/3.10/lib/python3.10/email/quoprimime.py'>,\n",
       " 'email.base64mime': <module 'email.base64mime' from '/usr/local/Cellar/python@3.10/3.10.0_2/Frameworks/Python.framework/Versions/3.10/lib/python3.10/email/base64mime.py'>,\n",
       " 'quopri': <module 'quopri' from '/usr/local/Cellar/python@3.10/3.10.0_2/Frameworks/Python.framework/Versions/3.10/lib/python3.10/quopri.py'>,\n",
       " 'email.encoders': <module 'email.encoders' from '/usr/local/Cellar/python@3.10/3.10.0_2/Frameworks/Python.framework/Versions/3.10/lib/python3.10/email/encoders.py'>,\n",
       " 'email.charset': <module 'email.charset' from '/usr/local/Cellar/python@3.10/3.10.0_2/Frameworks/Python.framework/Versions/3.10/lib/python3.10/email/charset.py'>,\n",
       " 'email.header': <module 'email.header' from '/usr/local/Cellar/python@3.10/3.10.0_2/Frameworks/Python.framework/Versions/3.10/lib/python3.10/email/header.py'>,\n",
       " 'email._parseaddr': <module 'email._parseaddr' from '/usr/local/Cellar/python@3.10/3.10.0_2/Frameworks/Python.framework/Versions/3.10/lib/python3.10/email/_parseaddr.py'>,\n",
       " 'email.utils': <module 'email.utils' from '/usr/local/Cellar/python@3.10/3.10.0_2/Frameworks/Python.framework/Versions/3.10/lib/python3.10/email/utils.py'>,\n",
       " 'email._policybase': <module 'email._policybase' from '/usr/local/Cellar/python@3.10/3.10.0_2/Frameworks/Python.framework/Versions/3.10/lib/python3.10/email/_policybase.py'>,\n",
       " 'email.feedparser': <module 'email.feedparser' from '/usr/local/Cellar/python@3.10/3.10.0_2/Frameworks/Python.framework/Versions/3.10/lib/python3.10/email/feedparser.py'>,\n",
       " 'email.parser': <module 'email.parser' from '/usr/local/Cellar/python@3.10/3.10.0_2/Frameworks/Python.framework/Versions/3.10/lib/python3.10/email/parser.py'>,\n",
       " 'uu': <module 'uu' from '/usr/local/Cellar/python@3.10/3.10.0_2/Frameworks/Python.framework/Versions/3.10/lib/python3.10/uu.py'>,\n",
       " 'email._encoded_words': <module 'email._encoded_words' from '/usr/local/Cellar/python@3.10/3.10.0_2/Frameworks/Python.framework/Versions/3.10/lib/python3.10/email/_encoded_words.py'>,\n",
       " 'email.iterators': <module 'email.iterators' from '/usr/local/Cellar/python@3.10/3.10.0_2/Frameworks/Python.framework/Versions/3.10/lib/python3.10/email/iterators.py'>,\n",
       " 'email.message': <module 'email.message' from '/usr/local/Cellar/python@3.10/3.10.0_2/Frameworks/Python.framework/Versions/3.10/lib/python3.10/email/message.py'>,\n",
       " 'http.client': <module 'http.client' from '/usr/local/Cellar/python@3.10/3.10.0_2/Frameworks/Python.framework/Versions/3.10/lib/python3.10/http/client.py'>,\n",
       " 'urllib.response': <module 'urllib.response' from '/usr/local/Cellar/python@3.10/3.10.0_2/Frameworks/Python.framework/Versions/3.10/lib/python3.10/urllib/response.py'>,\n",
       " 'urllib.error': <module 'urllib.error' from '/usr/local/Cellar/python@3.10/3.10.0_2/Frameworks/Python.framework/Versions/3.10/lib/python3.10/urllib/error.py'>,\n",
       " '_scproxy': <module '_scproxy' from '/usr/local/Cellar/python@3.10/3.10.0_2/Frameworks/Python.framework/Versions/3.10/lib/python3.10/lib-dynload/_scproxy.cpython-310-darwin.so'>,\n",
       " 'urllib.request': <module 'urllib.request' from '/usr/local/Cellar/python@3.10/3.10.0_2/Frameworks/Python.framework/Versions/3.10/lib/python3.10/urllib/request.py'>,\n",
       " 'IPython.core.magics.code': <module 'IPython.core.magics.code' from '/usr/local/lib/python3.10/site-packages/IPython/core/magics/code.py'>,\n",
       " 'IPython.core.magics.config': <module 'IPython.core.magics.config' from '/usr/local/lib/python3.10/site-packages/IPython/core/magics/config.py'>,\n",
       " 'IPython.core.magics.display': <module 'IPython.core.magics.display' from '/usr/local/lib/python3.10/site-packages/IPython/core/magics/display.py'>,\n",
       " 'timeit': <module 'timeit' from '/usr/local/Cellar/python@3.10/3.10.0_2/Frameworks/Python.framework/Versions/3.10/lib/python3.10/timeit.py'>,\n",
       " '_lsprof': <module '_lsprof' from '/usr/local/Cellar/python@3.10/3.10.0_2/Frameworks/Python.framework/Versions/3.10/lib/python3.10/lib-dynload/_lsprof.cpython-310-darwin.so'>,\n",
       " 'profile': <module 'profile' from '/usr/local/Cellar/python@3.10/3.10.0_2/Frameworks/Python.framework/Versions/3.10/lib/python3.10/profile.py'>,\n",
       " 'cProfile': <module 'cProfile' from '/usr/local/Cellar/python@3.10/3.10.0_2/Frameworks/Python.framework/Versions/3.10/lib/python3.10/cProfile.py'>,\n",
       " 'pstats': <module 'pstats' from '/usr/local/Cellar/python@3.10/3.10.0_2/Frameworks/Python.framework/Versions/3.10/lib/python3.10/pstats.py'>,\n",
       " 'IPython.utils.module_paths': <module 'IPython.utils.module_paths' from '/usr/local/lib/python3.10/site-packages/IPython/utils/module_paths.py'>,\n",
       " 'IPython.utils.timing': <module 'IPython.utils.timing' from '/usr/local/lib/python3.10/site-packages/IPython/utils/timing.py'>,\n",
       " 'IPython.core.magics.execution': <module 'IPython.core.magics.execution' from '/usr/local/lib/python3.10/site-packages/IPython/core/magics/execution.py'>,\n",
       " 'IPython.core.magics.extension': <module 'IPython.core.magics.extension' from '/usr/local/lib/python3.10/site-packages/IPython/core/magics/extension.py'>,\n",
       " 'IPython.core.magics.history': <module 'IPython.core.magics.history' from '/usr/local/lib/python3.10/site-packages/IPython/core/magics/history.py'>,\n",
       " 'IPython.core.magics.logging': <module 'IPython.core.magics.logging' from '/usr/local/lib/python3.10/site-packages/IPython/core/magics/logging.py'>,\n",
       " 'IPython.core.magics.namespace': <module 'IPython.core.magics.namespace' from '/usr/local/lib/python3.10/site-packages/IPython/core/magics/namespace.py'>,\n",
       " 'IPython.core.magics.osm': <module 'IPython.core.magics.osm' from '/usr/local/lib/python3.10/site-packages/IPython/core/magics/osm.py'>,\n",
       " 'IPython.core.magics.packaging': <module 'IPython.core.magics.packaging' from '/usr/local/lib/python3.10/site-packages/IPython/core/magics/packaging.py'>,\n",
       " 'IPython.core.pylabtools': <module 'IPython.core.pylabtools' from '/usr/local/lib/python3.10/site-packages/IPython/core/pylabtools.py'>,\n",
       " 'IPython.core.magics.pylab': <module 'IPython.core.magics.pylab' from '/usr/local/lib/python3.10/site-packages/IPython/core/magics/pylab.py'>,\n",
       " 'IPython.lib.backgroundjobs': <module 'IPython.lib.backgroundjobs' from '/usr/local/lib/python3.10/site-packages/IPython/lib/backgroundjobs.py'>,\n",
       " 'IPython.core.magics.script': <module 'IPython.core.magics.script' from '/usr/local/lib/python3.10/site-packages/IPython/core/magics/script.py'>,\n",
       " 'IPython.core.magics': <module 'IPython.core.magics' from '/usr/local/lib/python3.10/site-packages/IPython/core/magics/__init__.py'>,\n",
       " 'IPython.core.shellapp': <module 'IPython.core.shellapp' from '/usr/local/lib/python3.10/site-packages/IPython/core/shellapp.py'>,\n",
       " 'IPython.extensions': <module 'IPython.extensions' from '/usr/local/lib/python3.10/site-packages/IPython/extensions/__init__.py'>,\n",
       " 'IPython.extensions.storemagic': <module 'IPython.extensions.storemagic' from '/usr/local/lib/python3.10/site-packages/IPython/extensions/storemagic.py'>,\n",
       " 'IPython.terminal.ipapp': <module 'IPython.terminal.ipapp' from '/usr/local/lib/python3.10/site-packages/IPython/terminal/ipapp.py'>,\n",
       " 'IPython.terminal.embed': <module 'IPython.terminal.embed' from '/usr/local/lib/python3.10/site-packages/IPython/terminal/embed.py'>,\n",
       " 'IPython.utils.frame': <module 'IPython.utils.frame' from '/usr/local/lib/python3.10/site-packages/IPython/utils/frame.py'>,\n",
       " 'IPython': <module 'IPython' from '/usr/local/lib/python3.10/site-packages/IPython/__init__.py'>,\n",
       " 'ipython_genutils._version': <module 'ipython_genutils._version' from '/usr/local/lib/python3.10/site-packages/ipython_genutils/_version.py'>,\n",
       " 'ipython_genutils': <module 'ipython_genutils' from '/usr/local/lib/python3.10/site-packages/ipython_genutils/__init__.py'>,\n",
       " 'ipython_genutils.encoding': <module 'ipython_genutils.encoding' from '/usr/local/lib/python3.10/site-packages/ipython_genutils/encoding.py'>,\n",
       " 'ipython_genutils.py3compat': <module 'ipython_genutils.py3compat' from '/usr/local/lib/python3.10/site-packages/ipython_genutils/py3compat.py'>,\n",
       " 'ipython_genutils.path': <module 'ipython_genutils.path' from '/usr/local/lib/python3.10/site-packages/ipython_genutils/path.py'>,\n",
       " 'imp': <module 'imp' from '/usr/local/Cellar/python@3.10/3.10.0_2/Frameworks/Python.framework/Versions/3.10/lib/python3.10/imp.py'>,\n",
       " 'ipykernel.iostream': <module 'ipykernel.iostream' from '/usr/local/lib/python3.10/site-packages/ipykernel/iostream.py'>,\n",
       " 'ipykernel.control': <module 'ipykernel.control' from '/usr/local/lib/python3.10/site-packages/ipykernel/control.py'>,\n",
       " 'ipykernel.heartbeat': <module 'ipykernel.heartbeat' from '/usr/local/lib/python3.10/site-packages/ipykernel/heartbeat.py'>,\n",
       " 'IPython.utils.tokenutil': <module 'IPython.utils.tokenutil' from '/usr/local/lib/python3.10/site-packages/IPython/utils/tokenutil.py'>,\n",
       " 'tornado.locks': <module 'tornado.locks' from '/usr/local/lib/python3.10/site-packages/tornado/locks.py'>,\n",
       " 'tornado.queues': <module 'tornado.queues' from '/usr/local/lib/python3.10/site-packages/tornado/queues.py'>,\n",
       " 'ipykernel.jsonutil': <module 'ipykernel.jsonutil' from '/usr/local/lib/python3.10/site-packages/ipykernel/jsonutil.py'>,\n",
       " 'ipykernel.kernelbase': <module 'ipykernel.kernelbase' from '/usr/local/lib/python3.10/site-packages/ipykernel/kernelbase.py'>,\n",
       " 'ipykernel.comm.comm': <module 'ipykernel.comm.comm' from '/usr/local/lib/python3.10/site-packages/ipykernel/comm/comm.py'>,\n",
       " 'ipykernel.comm.manager': <module 'ipykernel.comm.manager' from '/usr/local/lib/python3.10/site-packages/ipykernel/comm/manager.py'>,\n",
       " 'ipykernel.comm': <module 'ipykernel.comm' from '/usr/local/lib/python3.10/site-packages/ipykernel/comm/__init__.py'>,\n",
       " 'IPython.core.payloadpage': <module 'IPython.core.payloadpage' from '/usr/local/lib/python3.10/site-packages/IPython/core/payloadpage.py'>,\n",
       " 'ipykernel.displayhook': <module 'ipykernel.displayhook' from '/usr/local/lib/python3.10/site-packages/ipykernel/displayhook.py'>,\n",
       " 'ipykernel.zmqshell': <module 'ipykernel.zmqshell' from '/usr/local/lib/python3.10/site-packages/ipykernel/zmqshell.py'>,\n",
       " 'distutils': <module 'distutils' from '/usr/local/Cellar/python@3.10/3.10.0_2/Frameworks/Python.framework/Versions/3.10/lib/python3.10/distutils/__init__.py'>,\n",
       " 'distutils.version': <module 'distutils.version' from '/usr/local/Cellar/python@3.10/3.10.0_2/Frameworks/Python.framework/Versions/3.10/lib/python3.10/distutils/version.py'>,\n",
       " 'ipykernel.eventloops': <module 'ipykernel.eventloops' from '/usr/local/lib/python3.10/site-packages/ipykernel/eventloops.py'>,\n",
       " 'ipykernel.compiler': <module 'ipykernel.compiler' from '/usr/local/lib/python3.10/site-packages/ipykernel/compiler.py'>,\n",
       " 'debugpy._version': <module 'debugpy._version' from '/usr/local/lib/python3.10/site-packages/debugpy/_version.py'>,\n",
       " 'debugpy.common': <module 'debugpy.common' from '/usr/local/lib/python3.10/site-packages/debugpy/common/__init__.py'>,\n",
       " 'debugpy.common.json': <module 'debugpy.common.json' from '/usr/local/lib/python3.10/site-packages/debugpy/common/json.py'>,\n",
       " 'debugpy.common.fmt': <module 'debugpy.common.fmt' from '/usr/local/lib/python3.10/site-packages/debugpy/common/fmt.py'>,\n",
       " 'debugpy.common.compat': <module 'debugpy.common.compat' from '/usr/local/lib/python3.10/site-packages/debugpy/common/compat.py'>,\n",
       " 'debugpy': <module 'debugpy' from '/usr/local/lib/python3.10/site-packages/debugpy/__init__.py'>,\n",
       " 'debugpy._vendored._util': <module 'debugpy._vendored._util' from '/usr/local/lib/python3.10/site-packages/debugpy/_vendored/_util.py'>,\n",
       " 'debugpy._vendored': <module 'debugpy._vendored' from '/usr/local/lib/python3.10/site-packages/debugpy/_vendored/__init__.py'>,\n",
       " '_pydevd_bundle': <module '_pydevd_bundle' from '/usr/local/lib/python3.10/site-packages/debugpy/_vendored/pydevd/_pydevd_bundle/__init__.py'>,\n",
       " 'encodings.ascii': <module 'encodings.ascii' from '/usr/local/Cellar/python@3.10/3.10.0_2/Frameworks/Python.framework/Versions/3.10/lib/python3.10/encodings/ascii.py'>,\n",
       " 'encodings.latin_1': <module 'encodings.latin_1' from '/usr/local/Cellar/python@3.10/3.10.0_2/Frameworks/Python.framework/Versions/3.10/lib/python3.10/encodings/latin_1.py'>,\n",
       " 'stringprep': <module 'stringprep' from '/usr/local/Cellar/python@3.10/3.10.0_2/Frameworks/Python.framework/Versions/3.10/lib/python3.10/stringprep.py'>,\n",
       " 'encodings.idna': <module 'encodings.idna' from '/usr/local/Cellar/python@3.10/3.10.0_2/Frameworks/Python.framework/Versions/3.10/lib/python3.10/encodings/idna.py'>,\n",
       " '_pydevd_bundle.pydevd_vm_type': <module '_pydevd_bundle.pydevd_vm_type' from '/usr/local/lib/python3.10/site-packages/debugpy/_vendored/pydevd/_pydevd_bundle/pydevd_vm_type.py'>,\n",
       " '_pydev_imps': <module '_pydev_imps' from '/usr/local/lib/python3.10/site-packages/debugpy/_vendored/pydevd/_pydev_imps/__init__.py'>,\n",
       " 'xmlrpc': <module 'xmlrpc' from '/usr/local/Cellar/python@3.10/3.10.0_2/Frameworks/Python.framework/Versions/3.10/lib/python3.10/xmlrpc/__init__.py'>,\n",
       " 'xml.parsers': <module 'xml.parsers' from '/usr/local/Cellar/python@3.10/3.10.0_2/Frameworks/Python.framework/Versions/3.10/lib/python3.10/xml/parsers/__init__.py'>,\n",
       " 'pyexpat.errors': <module 'pyexpat.errors'>,\n",
       " 'pyexpat.model': <module 'pyexpat.model'>,\n",
       " 'pyexpat': <module 'pyexpat' from '/usr/local/Cellar/python@3.10/3.10.0_2/Frameworks/Python.framework/Versions/3.10/lib/python3.10/lib-dynload/pyexpat.cpython-310-darwin.so'>,\n",
       " 'xml.parsers.expat.model': <module 'pyexpat.model'>,\n",
       " 'xml.parsers.expat.errors': <module 'pyexpat.errors'>,\n",
       " 'xml.parsers.expat': <module 'xml.parsers.expat' from '/usr/local/Cellar/python@3.10/3.10.0_2/Frameworks/Python.framework/Versions/3.10/lib/python3.10/xml/parsers/expat.py'>,\n",
       " 'gzip': <module 'gzip' from '/usr/local/Cellar/python@3.10/3.10.0_2/Frameworks/Python.framework/Versions/3.10/lib/python3.10/gzip.py'>,\n",
       " 'xmlrpc.client': <module 'xmlrpc.client' from '/usr/local/Cellar/python@3.10/3.10.0_2/Frameworks/Python.framework/Versions/3.10/lib/python3.10/xmlrpc/client.py'>,\n",
       " 'socketserver': <module 'socketserver' from '/usr/local/Cellar/python@3.10/3.10.0_2/Frameworks/Python.framework/Versions/3.10/lib/python3.10/socketserver.py'>,\n",
       " 'http.server': <module 'http.server' from '/usr/local/Cellar/python@3.10/3.10.0_2/Frameworks/Python.framework/Versions/3.10/lib/python3.10/http/server.py'>,\n",
       " 'xmlrpc.server': <module 'xmlrpc.server' from '/usr/local/Cellar/python@3.10/3.10.0_2/Frameworks/Python.framework/Versions/3.10/lib/python3.10/xmlrpc/server.py'>,\n",
       " '_pydev_imps._pydev_saved_modules': <module '_pydev_imps._pydev_saved_modules' from '/usr/local/lib/python3.10/site-packages/debugpy/_vendored/pydevd/_pydev_imps/_pydev_saved_modules.py'>,\n",
       " '_pydevd_bundle.pydevd_constants': <module '_pydevd_bundle.pydevd_constants' from '/usr/local/lib/python3.10/site-packages/debugpy/_vendored/pydevd/_pydevd_bundle/pydevd_constants.py'>,\n",
       " '_pydev_bundle': <module '_pydev_bundle' from '/usr/local/lib/python3.10/site-packages/debugpy/_vendored/pydevd/_pydev_bundle/__init__.py'>,\n",
       " '_pydev_runfiles': <module '_pydev_runfiles' from '/usr/local/lib/python3.10/site-packages/debugpy/_vendored/pydevd/_pydev_runfiles/__init__.py'>,\n",
       " '_pydevd_frame_eval': <module '_pydevd_frame_eval' from '/usr/local/lib/python3.10/site-packages/debugpy/_vendored/pydevd/_pydevd_frame_eval/__init__.py'>,\n",
       " 'pydev_ipython': <module 'pydev_ipython' from '/usr/local/lib/python3.10/site-packages/debugpy/_vendored/pydevd/pydev_ipython/__init__.py'>,\n",
       " 'pydevd_concurrency_analyser': <module 'pydevd_concurrency_analyser' from '/usr/local/lib/python3.10/site-packages/debugpy/_vendored/pydevd/pydevd_concurrency_analyser/__init__.py'>,\n",
       " 'plistlib': <module 'plistlib' from '/usr/local/Cellar/python@3.10/3.10.0_2/Frameworks/Python.framework/Versions/3.10/lib/python3.10/plistlib.py'>,\n",
       " 'pkg_resources.extern': <module 'pkg_resources.extern' from '/usr/local/lib/python3.10/site-packages/pkg_resources/extern/__init__.py'>,\n",
       " 'pkg_resources._vendor': <module 'pkg_resources._vendor' from '/usr/local/lib/python3.10/site-packages/pkg_resources/_vendor/__init__.py'>,\n",
       " 'pkg_resources._vendor.appdirs': <module 'pkg_resources.extern.appdirs' (<pkg_resources.extern.VendorImporter object at 0x1124b5f90>)>,\n",
       " 'pkg_resources.extern.appdirs': <module 'pkg_resources.extern.appdirs' (<pkg_resources.extern.VendorImporter object at 0x1124b5f90>)>,\n",
       " 'pkg_resources._vendor.packaging.__about__': <module 'pkg_resources._vendor.packaging.__about__' from '/usr/local/lib/python3.10/site-packages/pkg_resources/_vendor/packaging/__about__.py'>,\n",
       " 'pkg_resources._vendor.packaging': <module 'pkg_resources.extern.packaging' (<pkg_resources.extern.VendorImporter object at 0x1124b5f90>)>,\n",
       " 'pkg_resources.extern.packaging': <module 'pkg_resources.extern.packaging' (<pkg_resources.extern.VendorImporter object at 0x1124b5f90>)>,\n",
       " 'pkg_resources.extern.packaging._structures': <module 'pkg_resources.extern.packaging._structures' from '/usr/local/lib/python3.10/site-packages/pkg_resources/_vendor/packaging/_structures.py'>,\n",
       " 'pkg_resources.extern.packaging._typing': <module 'pkg_resources.extern.packaging._typing' from '/usr/local/lib/python3.10/site-packages/pkg_resources/_vendor/packaging/_typing.py'>,\n",
       " 'pkg_resources.extern.packaging.version': <module 'pkg_resources.extern.packaging.version' from '/usr/local/lib/python3.10/site-packages/pkg_resources/_vendor/packaging/version.py'>,\n",
       " 'pkg_resources.extern.packaging._compat': <module 'pkg_resources.extern.packaging._compat' from '/usr/local/lib/python3.10/site-packages/pkg_resources/_vendor/packaging/_compat.py'>,\n",
       " 'pkg_resources.extern.packaging.utils': <module 'pkg_resources.extern.packaging.utils' from '/usr/local/lib/python3.10/site-packages/pkg_resources/_vendor/packaging/utils.py'>,\n",
       " 'pkg_resources.extern.packaging.specifiers': <module 'pkg_resources.extern.packaging.specifiers' from '/usr/local/lib/python3.10/site-packages/pkg_resources/_vendor/packaging/specifiers.py'>,\n",
       " 'pkg_resources._vendor.pyparsing': <module 'pkg_resources.extern.pyparsing' (<pkg_resources.extern.VendorImporter object at 0x1124b5f90>)>,\n",
       " 'pkg_resources.extern.pyparsing': <module 'pkg_resources.extern.pyparsing' (<pkg_resources.extern.VendorImporter object at 0x1124b5f90>)>,\n",
       " 'pkg_resources.extern.packaging.markers': <module 'pkg_resources.extern.packaging.markers' from '/usr/local/lib/python3.10/site-packages/pkg_resources/_vendor/packaging/markers.py'>,\n",
       " 'pkg_resources.extern.packaging.requirements': <module 'pkg_resources.extern.packaging.requirements' from '/usr/local/lib/python3.10/site-packages/pkg_resources/_vendor/packaging/requirements.py'>,\n",
       " 'pkg_resources': <module 'pkg_resources' from '/usr/local/lib/python3.10/site-packages/pkg_resources/__init__.py'>,\n",
       " 'pydevd_plugins': <module 'pydevd_plugins' from '/usr/local/lib/python3.10/site-packages/debugpy/_vendored/pydevd/pydevd_plugins/__init__.py'>,\n",
       " '_pydev_bundle.pydev_log': <module '_pydev_bundle.pydev_log' from '/usr/local/lib/python3.10/site-packages/debugpy/_vendored/pydevd/_pydev_bundle/pydev_log.py'>,\n",
       " '_pydev_bundle._pydev_filesystem_encoding': <module '_pydev_bundle._pydev_filesystem_encoding' from '/usr/local/lib/python3.10/site-packages/debugpy/_vendored/pydevd/_pydev_bundle/_pydev_filesystem_encoding.py'>,\n",
       " '_pydevd_bundle.pydevd_comm_constants': <module '_pydevd_bundle.pydevd_comm_constants' from '/usr/local/lib/python3.10/site-packages/debugpy/_vendored/pydevd/_pydevd_bundle/pydevd_comm_constants.py'>,\n",
       " 'pydevd_file_utils': <module 'pydevd_file_utils' from '/usr/local/lib/python3.10/site-packages/debugpy/_vendored/pydevd/pydevd_file_utils.py'>,\n",
       " '_pydev_imps._pydev_execfile': <module '_pydev_imps._pydev_execfile' from '/usr/local/lib/python3.10/site-packages/debugpy/_vendored/pydevd/_pydev_imps/_pydev_execfile.py'>,\n",
       " '_pydevd_bundle.pydevd_exec2': <module '_pydevd_bundle.pydevd_exec2' from '/usr/local/lib/python3.10/site-packages/debugpy/_vendored/pydevd/_pydevd_bundle/pydevd_exec2.py'>,\n",
       " '_pydev_bundle.pydev_imports': <module '_pydev_bundle.pydev_imports' from '/usr/local/lib/python3.10/site-packages/debugpy/_vendored/pydevd/_pydev_bundle/pydev_imports.py'>,\n",
       " '_pydev_bundle.pydev_is_thread_alive': <module '_pydev_bundle.pydev_is_thread_alive' from '/usr/local/lib/python3.10/site-packages/debugpy/_vendored/pydevd/_pydev_bundle/pydev_is_thread_alive.py'>,\n",
       " '_pydev_bundle.pydev_override': <module '_pydev_bundle.pydev_override' from '/usr/local/lib/python3.10/site-packages/debugpy/_vendored/pydevd/_pydev_bundle/pydev_override.py'>,\n",
       " 'pydevd_plugins.extensions': <module 'pydevd_plugins.extensions' from '/usr/local/lib/python3.10/site-packages/debugpy/_vendored/pydevd/pydevd_plugins/extensions/__init__.py'>,\n",
       " '_pydevd_bundle.pydevd_extension_utils': <module '_pydevd_bundle.pydevd_extension_utils' from '/usr/local/lib/python3.10/site-packages/debugpy/_vendored/pydevd/_pydevd_bundle/pydevd_extension_utils.py'>,\n",
       " '_pydevd_bundle.pydevd_frame_utils': <module '_pydevd_bundle.pydevd_frame_utils' from '/usr/local/lib/python3.10/site-packages/debugpy/_vendored/pydevd/_pydevd_bundle/pydevd_frame_utils.py'>,\n",
       " '_pydevd_bundle.pydevd_filtering': <module '_pydevd_bundle.pydevd_filtering' from '/usr/local/lib/python3.10/site-packages/debugpy/_vendored/pydevd/_pydevd_bundle/pydevd_filtering.py'>,\n",
       " '_pydevd_bundle.pydevd_io': <module '_pydevd_bundle.pydevd_io' from '/usr/local/lib/python3.10/site-packages/debugpy/_vendored/pydevd/_pydevd_bundle/pydevd_io.py'>,\n",
       " '_pydevd_bundle.pydevd_utils': <module '_pydevd_bundle.pydevd_utils' from '/usr/local/lib/python3.10/site-packages/debugpy/_vendored/pydevd/_pydevd_bundle/pydevd_utils.py'>,\n",
       " '_pydev_bundle._pydev_tipper_common': <module '_pydev_bundle._pydev_tipper_common' from '/usr/local/lib/python3.10/site-packages/debugpy/_vendored/pydevd/_pydev_bundle/_pydev_tipper_common.py'>,\n",
       " '_pydev_bundle._pydev_imports_tipper': <module '_pydev_bundle._pydev_imports_tipper' from '/usr/local/lib/python3.10/site-packages/debugpy/_vendored/pydevd/_pydev_bundle/_pydev_imports_tipper.py'>,\n",
       " '_pydev_bundle._pydev_calltip_util': <module '_pydev_bundle._pydev_calltip_util' from '/usr/local/lib/python3.10/site-packages/debugpy/_vendored/pydevd/_pydev_bundle/_pydev_calltip_util.py'>,\n",
       " '_pydevd_bundle.pydevd_safe_repr': <module '_pydevd_bundle.pydevd_safe_repr' from '/usr/local/lib/python3.10/site-packages/debugpy/_vendored/pydevd/_pydevd_bundle/pydevd_safe_repr.py'>,\n",
       " '_pydevd_bundle.pydevd_resolver': <module '_pydevd_bundle.pydevd_resolver' from '/usr/local/lib/python3.10/site-packages/debugpy/_vendored/pydevd/_pydevd_bundle/pydevd_resolver.py'>,\n",
       " '_pydevd_bundle.pydevd_extension_api': <module '_pydevd_bundle.pydevd_extension_api' from '/usr/local/lib/python3.10/site-packages/debugpy/_vendored/pydevd/_pydevd_bundle/pydevd_extension_api.py'>,\n",
       " '_pydevd_bundle.pydevd_xml': <module '_pydevd_bundle.pydevd_xml' from '/usr/local/lib/python3.10/site-packages/debugpy/_vendored/pydevd/_pydevd_bundle/pydevd_xml.py'>,\n",
       " '_pydevd_bundle.pydevd_dont_trace': <module '_pydevd_bundle.pydevd_dont_trace' from '/usr/local/lib/python3.10/site-packages/debugpy/_vendored/pydevd/_pydevd_bundle/pydevd_dont_trace.py'>,\n",
       " '_pydevd_frame_eval.vendored': <module '_pydevd_frame_eval.vendored' from '/usr/local/lib/python3.10/site-packages/debugpy/_vendored/pydevd/_pydevd_frame_eval/vendored/__init__.py'>,\n",
       " '_pydevd_frame_eval.vendored.bytecode.flags': <module '_pydevd_frame_eval.vendored.bytecode.flags' from '/usr/local/lib/python3.10/site-packages/debugpy/_vendored/pydevd/_pydevd_frame_eval/vendored/bytecode/flags.py'>,\n",
       " '_pydevd_frame_eval.vendored.bytecode.instr': <module '_pydevd_frame_eval.vendored.bytecode.instr' from '/usr/local/lib/python3.10/site-packages/debugpy/_vendored/pydevd/_pydevd_frame_eval/vendored/bytecode/instr.py'>,\n",
       " '_pydevd_frame_eval.vendored.bytecode.bytecode': <module '_pydevd_frame_eval.vendored.bytecode.bytecode' from '/usr/local/lib/python3.10/site-packages/debugpy/_vendored/pydevd/_pydevd_frame_eval/vendored/bytecode/bytecode.py'>,\n",
       " '_pydevd_frame_eval.vendored.bytecode.concrete': <module '_pydevd_frame_eval.vendored.bytecode.concrete' from '/usr/local/lib/python3.10/site-packages/debugpy/_vendored/pydevd/_pydevd_frame_eval/vendored/bytecode/concrete.py'>,\n",
       " '_pydevd_frame_eval.vendored.bytecode.cfg': <module '_pydevd_frame_eval.vendored.bytecode.cfg' from '/usr/local/lib/python3.10/site-packages/debugpy/_vendored/pydevd/_pydevd_frame_eval/vendored/bytecode/cfg.py'>,\n",
       " '_pydevd_frame_eval.vendored.bytecode': <module '_pydevd_frame_eval.vendored.bytecode' from '/usr/local/lib/python3.10/site-packages/debugpy/_vendored/pydevd/_pydevd_frame_eval/vendored/bytecode/__init__.py'>,\n",
       " '_pydevd_bundle.pydevd_bytecode_utils': <module '_pydevd_bundle.pydevd_bytecode_utils' from '/usr/local/lib/python3.10/site-packages/debugpy/_vendored/pydevd/_pydevd_bundle/pydevd_bytecode_utils.py'>,\n",
       " '_pydevd_bundle.pydevd_frame': <module '_pydevd_bundle.pydevd_frame' from '/usr/local/lib/python3.10/site-packages/debugpy/_vendored/pydevd/_pydevd_bundle/pydevd_frame.py'>,\n",
       " '_pydevd_bundle.pydevd_additional_thread_info_regular': <module '_pydevd_bundle.pydevd_additional_thread_info_regular' from '/usr/local/lib/python3.10/site-packages/debugpy/_vendored/pydevd/_pydevd_bundle/pydevd_additional_thread_info_regular.py'>,\n",
       " '_pydevd_bundle.pydevd_additional_thread_info': <module '_pydevd_bundle.pydevd_additional_thread_info' from '/usr/local/lib/python3.10/site-packages/debugpy/_vendored/pydevd/_pydevd_bundle/pydevd_additional_thread_info.py'>,\n",
       " '_pydevd_bundle.pydevd_thread_lifecycle': <module '_pydevd_bundle.pydevd_thread_lifecycle' from '/usr/local/lib/python3.10/site-packages/debugpy/_vendored/pydevd/_pydevd_bundle/pydevd_thread_lifecycle.py'>,\n",
       " '_pydevd_bundle.pydevd_save_locals': <module '_pydevd_bundle.pydevd_save_locals' from '/usr/local/lib/python3.10/site-packages/debugpy/_vendored/pydevd/_pydevd_bundle/pydevd_save_locals.py'>,\n",
       " '_pydevd_bundle.pydevd_defaults': <module '_pydevd_bundle.pydevd_defaults' from '/usr/local/lib/python3.10/site-packages/debugpy/_vendored/pydevd/_pydevd_bundle/pydevd_defaults.py'>,\n",
       " '_pydev_bundle.pydev_monkey': <module '_pydev_bundle.pydev_monkey' from '/usr/local/lib/python3.10/site-packages/debugpy/_vendored/pydevd/_pydev_bundle/pydev_monkey.py'>,\n",
       " 'pydevd_tracing': <module 'pydevd_tracing' from '/usr/local/lib/python3.10/site-packages/debugpy/_vendored/pydevd/pydevd_tracing.py'>,\n",
       " '_pydevd_bundle.pydevd_daemon_thread': <module '_pydevd_bundle.pydevd_daemon_thread' from '/usr/local/lib/python3.10/site-packages/debugpy/_vendored/pydevd/_pydevd_bundle/pydevd_daemon_thread.py'>,\n",
       " '_pydevd_bundle.pydevd_timeout': <module '_pydevd_bundle.pydevd_timeout' from '/usr/local/lib/python3.10/site-packages/debugpy/_vendored/pydevd/_pydevd_bundle/pydevd_timeout.py'>,\n",
       " '_pydevd_bundle.pydevd_vars': <module '_pydevd_bundle.pydevd_vars' from '/usr/local/lib/python3.10/site-packages/debugpy/_vendored/pydevd/_pydevd_bundle/pydevd_vars.py'>,\n",
       " '_pydev_bundle.pydev_console_utils': <module '_pydev_bundle.pydev_console_utils' from '/usr/local/lib/python3.10/site-packages/debugpy/_vendored/pydevd/_pydev_bundle/pydev_console_utils.py'>,\n",
       " '_pydevd_bundle.pydevd_import_class': <module '_pydevd_bundle.pydevd_import_class' from '/usr/local/lib/python3.10/site-packages/debugpy/_vendored/pydevd/_pydevd_bundle/pydevd_import_class.py'>,\n",
       " '_pydevd_bundle.pydevd_breakpoints': <module '_pydevd_bundle.pydevd_breakpoints' from '/usr/local/lib/python3.10/site-packages/debugpy/_vendored/pydevd/_pydevd_bundle/pydevd_breakpoints.py'>,\n",
       " '_pydevd_bundle.pydevd_custom_frames': <module '_pydevd_bundle.pydevd_custom_frames' from '/usr/local/lib/python3.10/site-packages/debugpy/_vendored/pydevd/_pydevd_bundle/pydevd_custom_frames.py'>,\n",
       " '_pydevd_bundle.pydevd_dont_trace_files': <module '_pydevd_bundle.pydevd_dont_trace_files' from '/usr/local/lib/python3.10/site-packages/debugpy/_vendored/pydevd/_pydevd_bundle/pydevd_dont_trace_files.py'>,\n",
       " '_pydevd_bundle.pydevd_net_command': <module '_pydevd_bundle.pydevd_net_command' from '/usr/local/lib/python3.10/site-packages/debugpy/_vendored/pydevd/_pydevd_bundle/pydevd_net_command.py'>,\n",
       " '_pydev_bundle.pydev_umd': <module '_pydev_bundle.pydev_umd' from '/usr/local/lib/python3.10/site-packages/debugpy/_vendored/pydevd/_pydev_bundle/pydev_umd.py'>,\n",
       " 'pydevconsole': <module 'pydevconsole' from '/usr/local/lib/python3.10/site-packages/debugpy/_vendored/pydevd/pydevconsole.py'>,\n",
       " '_pydev_bundle._pydev_completer': <module '_pydev_bundle._pydev_completer' from '/usr/local/lib/python3.10/site-packages/debugpy/_vendored/pydevd/_pydev_bundle/_pydev_completer.py'>,\n",
       " '_pydevd_bundle.pydevd_net_command_factory_xml': <module '_pydevd_bundle.pydevd_net_command_factory_xml' from '/usr/local/lib/python3.10/site-packages/debugpy/_vendored/pydevd/_pydevd_bundle/pydevd_net_command_factory_xml.py'>,\n",
       " '_pydevd_bundle.pydevd_trace_dispatch_regular': <module '_pydevd_bundle.pydevd_trace_dispatch_regular' from '/usr/local/lib/python3.10/site-packages/debugpy/_vendored/pydevd/_pydevd_bundle/pydevd_trace_dispatch_regular.py'>,\n",
       " '_pydevd_bundle.pydevd_trace_dispatch': <module '_pydevd_bundle.pydevd_trace_dispatch' from '/usr/local/lib/python3.10/site-packages/debugpy/_vendored/pydevd/_pydevd_bundle/pydevd_trace_dispatch.py'>,\n",
       " '_pydevd_frame_eval.pydevd_frame_eval_main': <module '_pydevd_frame_eval.pydevd_frame_eval_main' from '/usr/local/lib/python3.10/site-packages/debugpy/_vendored/pydevd/_pydevd_frame_eval/pydevd_frame_eval_main.py'>,\n",
       " '_pydevd_bundle.pydevd_source_mapping': <module '_pydevd_bundle.pydevd_source_mapping' from '/usr/local/lib/python3.10/site-packages/debugpy/_vendored/pydevd/_pydevd_bundle/pydevd_source_mapping.py'>,\n",
       " 'pydevd_concurrency_analyser.pydevd_thread_wrappers': <module 'pydevd_concurrency_analyser.pydevd_thread_wrappers' from '/usr/local/lib/python3.10/site-packages/debugpy/_vendored/pydevd/pydevd_concurrency_analyser/pydevd_thread_wrappers.py'>,\n",
       " 'pydevd_concurrency_analyser.pydevd_concurrency_logger': <module 'pydevd_concurrency_analyser.pydevd_concurrency_logger' from '/usr/local/lib/python3.10/site-packages/debugpy/_vendored/pydevd/pydevd_concurrency_analyser/pydevd_concurrency_logger.py'>,\n",
       " '_pydevd_bundle._debug_adapter': <module '_pydevd_bundle._debug_adapter' from '/usr/local/lib/python3.10/site-packages/debugpy/_vendored/pydevd/_pydevd_bundle/_debug_adapter/__init__.py'>,\n",
       " '_pydevd_bundle._debug_adapter.pydevd_schema_log': <module '_pydevd_bundle._debug_adapter.pydevd_schema_log' from '/usr/local/lib/python3.10/site-packages/debugpy/_vendored/pydevd/_pydevd_bundle/_debug_adapter/pydevd_schema_log.py'>,\n",
       " '_pydevd_bundle._debug_adapter.pydevd_base_schema': <module '_pydevd_bundle._debug_adapter.pydevd_base_schema' from '/usr/local/lib/python3.10/site-packages/debugpy/_vendored/pydevd/_pydevd_bundle/_debug_adapter/pydevd_base_schema.py'>,\n",
       " '_pydevd_bundle._debug_adapter.pydevd_schema': <module '_pydevd_bundle._debug_adapter.pydevd_schema' from '/usr/local/lib/python3.10/site-packages/debugpy/_vendored/pydevd/_pydevd_bundle/_debug_adapter/pydevd_schema.py'>,\n",
       " '_pydevd_bundle.pydevd_reload': <module '_pydevd_bundle.pydevd_reload' from '/usr/local/lib/python3.10/site-packages/debugpy/_vendored/pydevd/_pydevd_bundle/pydevd_reload.py'>,\n",
       " '_pydev_bundle.fsnotify': <module '_pydev_bundle.fsnotify' from '/usr/local/lib/python3.10/site-packages/debugpy/_vendored/pydevd/_pydev_bundle/fsnotify/__init__.py'>,\n",
       " '_pydevd_bundle.pydevd_console': <module '_pydevd_bundle.pydevd_console' from '/usr/local/lib/python3.10/site-packages/debugpy/_vendored/pydevd/_pydevd_bundle/pydevd_console.py'>,\n",
       " '_pydevd_bundle.pydevd_comm': <module '_pydevd_bundle.pydevd_comm' from '/usr/local/lib/python3.10/site-packages/debugpy/_vendored/pydevd/_pydevd_bundle/pydevd_comm.py'>,\n",
       " '_pydevd_bundle.pydevd_net_command_factory_json': <module '_pydevd_bundle.pydevd_net_command_factory_json' from '/usr/local/lib/python3.10/site-packages/debugpy/_vendored/pydevd/_pydevd_bundle/pydevd_net_command_factory_json.py'>,\n",
       " '_pydevd_bundle.pydevd_collect_bytecode_info': <module '_pydevd_bundle.pydevd_collect_bytecode_info' from '/usr/local/lib/python3.10/site-packages/debugpy/_vendored/pydevd/_pydevd_bundle/pydevd_collect_bytecode_info.py'>,\n",
       " '_pydevd_bundle.pydevd_api': <module '_pydevd_bundle.pydevd_api' from '/usr/local/lib/python3.10/site-packages/debugpy/_vendored/pydevd/_pydevd_bundle/pydevd_api.py'>,\n",
       " '_pydevd_bundle.pydevd_json_debug_options': <module '_pydevd_bundle.pydevd_json_debug_options' from '/usr/local/lib/python3.10/site-packages/debugpy/_vendored/pydevd/_pydevd_bundle/pydevd_json_debug_options.py'>,\n",
       " '_pydevd_bundle.pydevd_process_net_command_json': <module '_pydevd_bundle.pydevd_process_net_command_json' from '/usr/local/lib/python3.10/site-packages/debugpy/_vendored/pydevd/_pydevd_bundle/pydevd_process_net_command_json.py'>,\n",
       " '_pydevd_bundle.pydevd_traceproperty': <module '_pydevd_bundle.pydevd_traceproperty' from '/usr/local/lib/python3.10/site-packages/debugpy/_vendored/pydevd/_pydevd_bundle/pydevd_traceproperty.py'>,\n",
       " '_pydevd_bundle.pydevd_process_net_command': <module '_pydevd_bundle.pydevd_process_net_command' from '/usr/local/lib/python3.10/site-packages/debugpy/_vendored/pydevd/_pydevd_bundle/pydevd_process_net_command.py'>,\n",
       " '_pydevd_bundle.pydevd_suspended_frames': <module '_pydevd_bundle.pydevd_suspended_frames' from '/usr/local/lib/python3.10/site-packages/debugpy/_vendored/pydevd/_pydevd_bundle/pydevd_suspended_frames.py'>,\n",
       " '_pydevd_bundle.pydevd_trace_api': <module '_pydevd_bundle.pydevd_trace_api' from '/usr/local/lib/python3.10/site-packages/debugpy/_vendored/pydevd/_pydevd_bundle/pydevd_trace_api.py'>,\n",
       " 'django.utils': <module 'django.utils' from '/usr/local/lib/python3.10/site-packages/django/utils/__init__.py'>,\n",
       " 'django.utils.functional': <module 'django.utils.functional' from '/usr/local/lib/python3.10/site-packages/django/utils/functional.py'>,\n",
       " 'django.utils.regex_helper': <module 'django.utils.regex_helper' from '/usr/local/lib/python3.10/site-packages/django/utils/regex_helper.py'>,\n",
       " 'django.utils.version': <module 'django.utils.version' from '/usr/local/lib/python3.10/site-packages/django/utils/version.py'>,\n",
       " 'django': <module 'django' from '/usr/local/lib/python3.10/site-packages/django/__init__.py'>,\n",
       " 'pydevd_plugins.django_debug': <module 'pydevd_plugins.django_debug' from '/usr/local/lib/python3.10/site-packages/debugpy/_vendored/pydevd/pydevd_plugins/django_debug.py'>,\n",
       " 'pydevd_plugins.jinja2_debug': <module 'pydevd_plugins.jinja2_debug' from '/usr/local/lib/python3.10/site-packages/debugpy/_vendored/pydevd/pydevd_plugins/jinja2_debug.py'>,\n",
       " '_pydevd_bundle.pydevd_plugin_utils': <module '_pydevd_bundle.pydevd_plugin_utils' from '/usr/local/lib/python3.10/site-packages/debugpy/_vendored/pydevd/_pydevd_bundle/pydevd_plugin_utils.py'>,\n",
       " 'pydevd_plugins.extensions.types': <module 'pydevd_plugins.extensions.types' from '/usr/local/lib/python3.10/site-packages/debugpy/_vendored/pydevd/pydevd_plugins/extensions/types/__init__.py'>,\n",
       " 'pydevd_plugins.extensions.types.pydevd_helpers': <module 'pydevd_plugins.extensions.types.pydevd_helpers' from '/usr/local/lib/python3.10/site-packages/debugpy/_vendored/pydevd/pydevd_plugins/extensions/types/pydevd_helpers.py'>,\n",
       " 'pydevd_plugins.extensions.types.pydevd_plugin_numpy_types': <module 'pydevd_plugins.extensions.types.pydevd_plugin_numpy_types' from '/usr/local/lib/python3.10/site-packages/debugpy/_vendored/pydevd/pydevd_plugins/extensions/types/pydevd_plugin_numpy_types.py'>,\n",
       " 'pydevd_plugins.extensions.types.pydevd_plugins_django_form_str': <module 'pydevd_plugins.extensions.types.pydevd_plugins_django_form_str' from '/usr/local/lib/python3.10/site-packages/debugpy/_vendored/pydevd/pydevd_plugins/extensions/types/pydevd_plugins_django_form_str.py'>,\n",
       " 'pydevd': <module 'pydevd' from '/usr/local/lib/python3.10/site-packages/debugpy/_vendored/pydevd/pydevd.py'>,\n",
       " 'debugpy._vendored.force_pydevd': <module 'debugpy._vendored.force_pydevd' from '/usr/local/lib/python3.10/site-packages/debugpy/_vendored/force_pydevd.py'>,\n",
       " 'debugpy.server': <module 'debugpy.server' from '/usr/local/lib/python3.10/site-packages/debugpy/server/__init__.py'>,\n",
       " 'debugpy.adapter': <module 'debugpy.adapter' from '/usr/local/lib/python3.10/site-packages/debugpy/adapter/__init__.py'>,\n",
       " 'debugpy.common.timestamp': <module 'debugpy.common.timestamp' from '/usr/local/lib/python3.10/site-packages/debugpy/common/timestamp.py'>,\n",
       " 'debugpy.common.util': <module 'debugpy.common.util' from '/usr/local/lib/python3.10/site-packages/debugpy/common/util.py'>,\n",
       " 'debugpy.common.log': <module 'debugpy.common.log' from '/usr/local/lib/python3.10/site-packages/debugpy/common/log.py'>,\n",
       " 'debugpy.common.sockets': <module 'debugpy.common.sockets' from '/usr/local/lib/python3.10/site-packages/debugpy/common/sockets.py'>,\n",
       " 'debugpy.server.api': <module 'debugpy.server.api' from '/usr/local/lib/python3.10/site-packages/debugpy/server/api.py'>,\n",
       " 'ipykernel.debugger': <module 'ipykernel.debugger' from '/usr/local/lib/python3.10/site-packages/ipykernel/debugger.py'>,\n",
       " 'ipykernel.ipkernel': <module 'ipykernel.ipkernel' from '/usr/local/lib/python3.10/site-packages/ipykernel/ipkernel.py'>,\n",
       " 'ipykernel.parentpoller': <module 'ipykernel.parentpoller' from '/usr/local/lib/python3.10/site-packages/ipykernel/parentpoller.py'>,\n",
       " 'ipykernel.kernelapp': <module 'ipykernel.kernelapp' from '/usr/local/lib/python3.10/site-packages/ipykernel/kernelapp.py'>,\n",
       " 'faulthandler': <module 'faulthandler' (built-in)>,\n",
       " 'IPython.core.completerlib': <module 'IPython.core.completerlib' from '/usr/local/lib/python3.10/site-packages/IPython/core/completerlib.py'>,\n",
       " 'ctypes.macholib': <module 'ctypes.macholib' from '/usr/local/Cellar/python@3.10/3.10.0_2/Frameworks/Python.framework/Versions/3.10/lib/python3.10/ctypes/macholib/__init__.py'>,\n",
       " 'ctypes.macholib.framework': <module 'ctypes.macholib.framework' from '/usr/local/Cellar/python@3.10/3.10.0_2/Frameworks/Python.framework/Versions/3.10/lib/python3.10/ctypes/macholib/framework.py'>,\n",
       " 'ctypes.macholib.dylib': <module 'ctypes.macholib.dylib' from '/usr/local/Cellar/python@3.10/3.10.0_2/Frameworks/Python.framework/Versions/3.10/lib/python3.10/ctypes/macholib/dylib.py'>,\n",
       " 'ctypes.macholib.dyld': <module 'ctypes.macholib.dyld' from '/usr/local/Cellar/python@3.10/3.10.0_2/Frameworks/Python.framework/Versions/3.10/lib/python3.10/ctypes/macholib/dyld.py'>,\n",
       " 'ctypes.util': <module 'ctypes.util' from '/usr/local/Cellar/python@3.10/3.10.0_2/Frameworks/Python.framework/Versions/3.10/lib/python3.10/ctypes/util.py'>,\n",
       " 'appnope._nope': <module 'appnope._nope' from '/usr/local/lib/python3.10/site-packages/appnope/_nope.py'>,\n",
       " 'appnope': <module 'appnope' from '/usr/local/lib/python3.10/site-packages/appnope/__init__.py'>,\n",
       " 'storemagic': <module 'storemagic' from '/usr/local/lib/python3.10/site-packages/IPython/extensions/storemagic.py'>,\n",
       " 'jedi.inference.finder': <module 'jedi.inference.finder' from '/usr/local/lib/python3.10/site-packages/jedi/inference/finder.py'>,\n",
       " 'jedi.inference.star_args': <module 'jedi.inference.star_args' from '/usr/local/lib/python3.10/site-packages/jedi/inference/star_args.py'>,\n",
       " 'zmq.utils.garbage': <module 'zmq.utils.garbage' from '/usr/local/lib/python3.10/site-packages/zmq/utils/garbage.py'>}"
      ]
     },
     "execution_count": 289,
     "metadata": {},
     "output_type": "execute_result"
    }
   ],
   "source": [
    "import sys\n",
    "sys.modules"
   ]
  },
  {
   "cell_type": "code",
   "execution_count": 290,
   "id": "8bca3dfa-31bd-480f-b4ab-1d9c05e4b286",
   "metadata": {},
   "outputs": [
    {
     "data": {
      "text/plain": [
       "True"
      ]
     },
     "execution_count": 290,
     "metadata": {},
     "output_type": "execute_result"
    }
   ],
   "source": [
    "'random' in sys.modules"
   ]
  },
  {
   "cell_type": "code",
   "execution_count": 291,
   "id": "93ba140a-b444-49cf-a0bc-b48ee56703cc",
   "metadata": {},
   "outputs": [
    {
     "data": {
      "text/plain": [
       "True"
      ]
     },
     "execution_count": 291,
     "metadata": {},
     "output_type": "execute_result"
    }
   ],
   "source": [
    "'sys' in sys.modules"
   ]
  },
  {
   "cell_type": "code",
   "execution_count": 292,
   "id": "9160bd7e-1146-4833-80eb-69fb04b8e1c6",
   "metadata": {},
   "outputs": [
    {
     "data": {
      "text/plain": [
       "True"
      ]
     },
     "execution_count": 292,
     "metadata": {},
     "output_type": "execute_result"
    }
   ],
   "source": [
    "'os' in sys.modules"
   ]
  },
  {
   "cell_type": "code",
   "execution_count": 294,
   "id": "8f929ce0-0b79-43be-9171-137d80368a0f",
   "metadata": {},
   "outputs": [
    {
     "data": {
      "text/plain": [
       "True"
      ]
     },
     "execution_count": 294,
     "metadata": {},
     "output_type": "execute_result"
    }
   ],
   "source": [
    "'dis' in sys.modules"
   ]
  },
  {
   "cell_type": "code",
   "execution_count": 295,
   "id": "6d342abf-3374-4dc8-833b-864a530ee777",
   "metadata": {},
   "outputs": [],
   "source": [
    "# please NEVER EVER use this!\n",
    "\n",
    "# from MODULE import * "
   ]
  },
  {
   "cell_type": "code",
   "execution_count": 296,
   "id": "5f10f136-b8a4-443f-ba3d-ec49cd62a105",
   "metadata": {},
   "outputs": [],
   "source": [
    "import mymod"
   ]
  },
  {
   "cell_type": "code",
   "execution_count": 297,
   "id": "c18fb72c-905d-4461-9cfe-c3f8b2b43cee",
   "metadata": {},
   "outputs": [
    {
     "data": {
      "text/plain": [
       "True"
      ]
     },
     "execution_count": 297,
     "metadata": {},
     "output_type": "execute_result"
    }
   ],
   "source": [
    "'mymod' in sys.modules"
   ]
  },
  {
   "cell_type": "code",
   "execution_count": 298,
   "id": "53da522e-7785-43f4-b0fe-eb103c01b4ee",
   "metadata": {},
   "outputs": [
    {
     "data": {
      "text/plain": [
       "['__builtins__',\n",
       " '__cached__',\n",
       " '__doc__',\n",
       " '__file__',\n",
       " '__loader__',\n",
       " '__name__',\n",
       " '__package__',\n",
       " '__spec__']"
      ]
     },
     "execution_count": 298,
     "metadata": {},
     "output_type": "execute_result"
    }
   ],
   "source": [
    "dir(mymod)"
   ]
  },
  {
   "cell_type": "code",
   "execution_count": 299,
   "id": "03e14bcc-ab0e-4bf2-85d3-f4f91560f965",
   "metadata": {},
   "outputs": [
    {
     "data": {
      "text/plain": [
       "'/Users/reuven/Courses/Current/Cisco-2021-11Nov-advanced/mymod.py'"
      ]
     },
     "execution_count": 299,
     "metadata": {},
     "output_type": "execute_result"
    }
   ],
   "source": [
    "mymod.__file__"
   ]
  },
  {
   "cell_type": "code",
   "execution_count": 300,
   "id": "c7322db7-a862-4f92-b091-891a74a93f03",
   "metadata": {},
   "outputs": [
    {
     "data": {
      "text/plain": [
       "'mymod'"
      ]
     },
     "execution_count": 300,
     "metadata": {},
     "output_type": "execute_result"
    }
   ],
   "source": [
    "mymod.__name__"
   ]
  },
  {
   "cell_type": "code",
   "execution_count": 301,
   "id": "bc9a5e4e-932b-410d-94f1-61bfd5a37825",
   "metadata": {},
   "outputs": [],
   "source": [
    "import mymod"
   ]
  },
  {
   "cell_type": "code",
   "execution_count": 302,
   "id": "07f3655f-de3f-4df7-adfc-8c83d4687dfc",
   "metadata": {},
   "outputs": [
    {
     "data": {
      "text/plain": [
       "['__builtins__',\n",
       " '__cached__',\n",
       " '__doc__',\n",
       " '__file__',\n",
       " '__loader__',\n",
       " '__name__',\n",
       " '__package__',\n",
       " '__spec__']"
      ]
     },
     "execution_count": 302,
     "metadata": {},
     "output_type": "execute_result"
    }
   ],
   "source": [
    "dir(mymod)"
   ]
  },
  {
   "cell_type": "code",
   "execution_count": 303,
   "id": "f76c13be-88de-4ba2-aba5-b5ce0503e356",
   "metadata": {},
   "outputs": [],
   "source": [
    "from importlib import reload   # reload used to be in builtins, but not any more"
   ]
  },
  {
   "cell_type": "code",
   "execution_count": 304,
   "id": "f53273eb-c1e1-4c6d-b74c-690f5f109885",
   "metadata": {},
   "outputs": [
    {
     "data": {
      "text/plain": [
       "<module 'mymod' from '/Users/reuven/Courses/Current/Cisco-2021-11Nov-advanced/mymod.py'>"
      ]
     },
     "execution_count": 304,
     "metadata": {},
     "output_type": "execute_result"
    }
   ],
   "source": [
    "reload(mymod)"
   ]
  },
  {
   "cell_type": "code",
   "execution_count": 305,
   "id": "930ad179-3c3d-4a0d-83d8-ad87ae6a8023",
   "metadata": {},
   "outputs": [
    {
     "data": {
      "text/plain": [
       "['__builtins__',\n",
       " '__cached__',\n",
       " '__doc__',\n",
       " '__file__',\n",
       " '__loader__',\n",
       " '__name__',\n",
       " '__package__',\n",
       " '__spec__',\n",
       " 'hello',\n",
       " 'x',\n",
       " 'y']"
      ]
     },
     "execution_count": 305,
     "metadata": {},
     "output_type": "execute_result"
    }
   ],
   "source": [
    "dir(mymod)"
   ]
  },
  {
   "cell_type": "code",
   "execution_count": 306,
   "id": "95977f79-54e1-415e-b5ed-c17515f1f305",
   "metadata": {},
   "outputs": [
    {
     "data": {
      "text/plain": [
       "100"
      ]
     },
     "execution_count": 306,
     "metadata": {},
     "output_type": "execute_result"
    }
   ],
   "source": [
    "mymod.x"
   ]
  },
  {
   "cell_type": "code",
   "execution_count": 307,
   "id": "c7228611-b0fc-460e-ae5a-4420659af98b",
   "metadata": {},
   "outputs": [
    {
     "data": {
      "text/plain": [
       "[10, 20, 30]"
      ]
     },
     "execution_count": 307,
     "metadata": {},
     "output_type": "execute_result"
    }
   ],
   "source": [
    "mymod.y"
   ]
  },
  {
   "cell_type": "code",
   "execution_count": 308,
   "id": "c922025b-9bd5-4092-b1b1-1078285ef54f",
   "metadata": {},
   "outputs": [
    {
     "data": {
      "text/plain": [
       "'Hello, world from mymod!'"
      ]
     },
     "execution_count": 308,
     "metadata": {},
     "output_type": "execute_result"
    }
   ],
   "source": [
    "mymod.hello('world')"
   ]
  },
  {
   "cell_type": "code",
   "execution_count": 309,
   "id": "ad4c248e-9259-44e8-8d6d-eccf8b95c4bc",
   "metadata": {},
   "outputs": [
    {
     "name": "stdout",
     "output_type": "stream",
     "text": [
      "Hello from mymod!\n",
      "Goodbye from mymod!\n"
     ]
    },
    {
     "data": {
      "text/plain": [
       "<module 'mymod' from '/Users/reuven/Courses/Current/Cisco-2021-11Nov-advanced/mymod.py'>"
      ]
     },
     "execution_count": 309,
     "metadata": {},
     "output_type": "execute_result"
    }
   ],
   "source": [
    "reload(mymod)"
   ]
  },
  {
   "cell_type": "code",
   "execution_count": 310,
   "id": "f6d720a0-6c9d-47dd-a7f6-7075057bb120",
   "metadata": {},
   "outputs": [
    {
     "name": "stdout",
     "output_type": "stream",
     "text": [
      "Hello from mymod!\n",
      "Goodbye from mymod!\n"
     ]
    },
    {
     "data": {
      "text/plain": [
       "<module 'mymod' from '/Users/reuven/Courses/Current/Cisco-2021-11Nov-advanced/mymod.py'>"
      ]
     },
     "execution_count": 310,
     "metadata": {},
     "output_type": "execute_result"
    }
   ],
   "source": [
    "reload(mymod)"
   ]
  },
  {
   "cell_type": "markdown",
   "id": "d05868ef-291e-4ebe-b307-7d34f36b1fa8",
   "metadata": {},
   "source": [
    "# The special `__name__` variable\n",
    "\n",
    "When you `import` a Python module, the module has a `__name__` variable (inside of the module) or attribute (outside of the module). If you `import`, then the value of `__name__` will be a string -- the same as the filename of the module.  So `import abcd` will look for `abcd.py` in `sys.path`, and will define `__name__` to be the string `'abcd'`.\n",
    "\n",
    "**But** the first Python file run in a program gets the special value of `'__main__'`"
   ]
  }
 ],
 "metadata": {
  "kernelspec": {
   "display_name": "Python 3 (ipykernel)",
   "language": "python",
   "name": "python3"
  },
  "language_info": {
   "codemirror_mode": {
    "name": "ipython",
    "version": 3
   },
   "file_extension": ".py",
   "mimetype": "text/x-python",
   "name": "python",
   "nbconvert_exporter": "python",
   "pygments_lexer": "ipython3",
   "version": "3.10.0"
  }
 },
 "nbformat": 4,
 "nbformat_minor": 5
}
